{
 "cells": [
  {
   "cell_type": "code",
   "execution_count": 1,
   "id": "f289d5c0",
   "metadata": {
    "tags": [
     "hide-output"
    ]
   },
   "outputs": [],
   "source": [
    "cd home"
   ]
  },
  {
   "cell_type": "markdown",
   "id": "d2f9c66b",
   "metadata": {},
   "source": [
    "# 1.2 Local repositories and commit\n",
    "\n",
    "In this chapter, we will explore the creation of local repositories, the process of committing changes, and the significance of these actions.\n",
    "\n",
    "## Checklist, before starting this class\n",
    "First, create a new project directory:"
   ]
  },
  {
   "cell_type": "code",
   "execution_count": 2,
   "id": "d24afe86",
   "metadata": {},
   "outputs": [
    {
     "name": "stdout",
     "output_type": "stream",
     "text": [
      "mkdir: cannot create directory ‘my-project’: File exists\n"
     ]
    },
    {
     "ename": "",
     "evalue": "1",
     "output_type": "error",
     "traceback": []
    }
   ],
   "source": [
    "mkdir my-project"
   ]
  },
  {
   "cell_type": "markdown",
   "id": "e64578f8",
   "metadata": {},
   "source": [
    "## Create a repository\n",
    "Change into your project directory:"
   ]
  },
  {
   "cell_type": "code",
   "execution_count": 3,
   "id": "c5eb46ce",
   "metadata": {},
   "outputs": [],
   "source": [
    "cd my-project"
   ]
  },
  {
   "cell_type": "markdown",
   "id": "46a7c65e",
   "metadata": {},
   "source": [
    "## Check that it is empty\n",
    "Verify the directory is empty:"
   ]
  },
  {
   "cell_type": "code",
   "execution_count": 4,
   "id": "472c28dc",
   "metadata": {},
   "outputs": [
    {
     "name": "stdout",
     "output_type": "stream",
     "text": [
      "\u001b[0m\u001b[38;5;33m.\u001b[0m  \u001b[38;5;33m..\u001b[0m  file1.txt  file2.txt  \u001b[38;5;33m.git\u001b[0m\n"
     ]
    }
   ],
   "source": [
    "ls -a"
   ]
  },
  {
   "cell_type": "markdown",
   "id": "7376aa5e",
   "metadata": {},
   "source": [
    "## Initialize a repository\n",
    "Initialize a new Git repository:"
   ]
  },
  {
   "cell_type": "code",
   "execution_count": 5,
   "id": "ea56fc3f",
   "metadata": {},
   "outputs": [
    {
     "name": "stdout",
     "output_type": "stream",
     "text": [
      "warning: re-init: ignored --initial-branch=main\n",
      "Reinitialized existing Git repository in /home/callaram/tds/home/my-project/.git/\n"
     ]
    },
    {
     "name": "stdout",
     "output_type": "stream",
     "text": [
      "Reinitialized existing Git repository in /home/callaram/tds/home/my-project/.git/\n"
     ]
    }
   ],
   "source": [
    "git init -b main"
   ]
  },
  {
   "cell_type": "markdown",
   "id": "c3e17dfe",
   "metadata": {},
   "source": [
    "```{admonition} What to notice\n",
    ":class: hint\n",
    "Notice the main branch is mentioned in the left bottom corner of Visual Studio Code (VSC).\n",
    "```\n",
    "\n",
    "**NOTE:** In VSC, the `.git` folder (along with some others) is hidden by default to avoid accidental changes. You can modify this behavior in the settings.\n",
    "\n",
    "## Discussion: Main vs Master branch\n",
    "From Git 2.28 onwards, the default branch name can be changed. This is how you set \"main\" as your default branch globally:"
   ]
  },
  {
   "cell_type": "code",
   "execution_count": 6,
   "id": "4573f160",
   "metadata": {},
   "outputs": [],
   "source": [
    "git config --global init.defaultBranch main"
   ]
  },
  {
   "cell_type": "markdown",
   "id": "b29063ca",
   "metadata": {},
   "source": [
    "Check the repository status:"
   ]
  },
  {
   "cell_type": "code",
   "execution_count": 7,
   "id": "f02e72cb",
   "metadata": {},
   "outputs": [
    {
     "name": "stdout",
     "output_type": "stream",
     "text": [
      "On branch main\n",
      "nothing to commit, working tree clean\n"
     ]
    },
    {
     "name": "stdout",
     "output_type": "stream",
     "text": [
      "nothing to commit, working tree clean\n"
     ]
    }
   ],
   "source": [
    "git status"
   ]
  },
  {
   "cell_type": "markdown",
   "id": "f62433ef",
   "metadata": {},
   "source": [
    "## Deleting the Git repository\n",
    "Deleting the `.git` folder removes the repository:"
   ]
  },
  {
   "cell_type": "code",
   "execution_count": 8,
   "id": "9ac77ce9",
   "metadata": {},
   "outputs": [],
   "source": [
    "rm -rf .git"
   ]
  },
  {
   "cell_type": "markdown",
   "id": "264b35fb",
   "metadata": {},
   "source": [
    "If you try this command you will need to initialize the repository again with:"
   ]
  },
  {
   "cell_type": "code",
   "execution_count": 9,
   "id": "94361521",
   "metadata": {},
   "outputs": [
    {
     "name": "stdout",
     "output_type": "stream",
     "text": [
      "Initialized empty Git repository in /home/callaram/tds/home/my-project/.git/\n"
     ]
    }
   ],
   "source": [
    "git init"
   ]
  },
  {
   "cell_type": "markdown",
   "id": "a6efbc20",
   "metadata": {},
   "source": [
    "## Exercise: Verify deletion\n",
    "Check that the `.git` folder is now missing:"
   ]
  },
  {
   "cell_type": "code",
   "execution_count": 10,
   "id": "68c6ddea",
   "metadata": {},
   "outputs": [
    {
     "name": "stdout",
     "output_type": "stream",
     "text": [
      "\u001b[0m\u001b[38;5;33m.\u001b[0m  \u001b[38;5;33m..\u001b[0m  file1.txt  file2.txt  \u001b[38;5;33m.git\u001b[0m\n"
     ]
    }
   ],
   "source": [
    "ls -a"
   ]
  },
  {
   "cell_type": "markdown",
   "id": "ef2a789e",
   "metadata": {},
   "source": [
    "## Discussion: Areas of Git\n",
    "Exploring the `.git` folder and its subdirectories:"
   ]
  },
  {
   "cell_type": "code",
   "execution_count": 11,
   "id": "9bcaf9e8",
   "metadata": {},
   "outputs": [
    {
     "name": "stdout",
     "output_type": "stream",
     "text": [
      "\u001b[0m\u001b[38;5;33m.\u001b[0m  \u001b[38;5;33m..\u001b[0m  config  description  HEAD  \u001b[38;5;33mhooks\u001b[0m  \u001b[38;5;33minfo\u001b[0m  \u001b[38;5;33mobjects\u001b[0m  \u001b[38;5;33mrefs\u001b[0m\n",
      "\u001b[0m\u001b[38;5;33m.\u001b[0m  \u001b[38;5;33m..\u001b[0m  \u001b[38;5;33minfo\u001b[0m  \u001b[38;5;33mpack\u001b[0m\n"
     ]
    },
    {
     "name": "stdout",
     "output_type": "stream",
     "text": [
      "\u001b[0m\u001b[38;5;33m.\u001b[0m  \u001b[38;5;33m..\u001b[0m  \u001b[38;5;33minfo\u001b[0m  \u001b[38;5;33mpack\u001b[0m\n"
     ]
    }
   ],
   "source": [
    "ls .git -a\n",
    "ls .git/objects -a"
   ]
  },
  {
   "cell_type": "markdown",
   "id": "17251694",
   "metadata": {},
   "source": [
    "## What is a commit?\n",
    "\n",
    "### Exercise: Create a text file\n",
    "Use the terminal to create a new file:"
   ]
  },
  {
   "cell_type": "code",
   "execution_count": 12,
   "id": "f857b5f5",
   "metadata": {},
   "outputs": [],
   "source": [
    "touch file1.txt"
   ]
  },
  {
   "cell_type": "markdown",
   "id": "3300195f",
   "metadata": {},
   "source": [
    "### Exercise: Edit the file\n",
    "You can edit the file with VSC or directly from the terminal:"
   ]
  },
  {
   "cell_type": "code",
   "execution_count": 13,
   "id": "5e95630a",
   "metadata": {},
   "outputs": [],
   "source": [
    "echo -n \"This is file 1.\" >> file1.txt"
   ]
  },
  {
   "cell_type": "markdown",
   "id": "83a6740b",
   "metadata": {},
   "source": [
    "```{admonition} What to notice\n",
    ":class: hint \n",
    "In VSC, the file appears in the Explorer with a \"U\" symbol indicating it's untracked.\n",
    "```\n",
    "\n",
    "## The two steps of a commit\n",
    "Add the file to the staging area and commit:"
   ]
  },
  {
   "cell_type": "code",
   "execution_count": 14,
   "id": "4db45359",
   "metadata": {},
   "outputs": [
    {
     "name": "stdout",
     "output_type": "stream",
     "text": [
      "[main (root-commit) 77c6c83] Add file1.txt\n",
      " 1 file changed, 22 insertions(+)\n",
      " create mode 100644 file1.txt\n"
     ]
    },
    {
     "name": "stdout",
     "output_type": "stream",
     "text": [
      " 1 file changed, 22 insertions(+)\n"
     ]
    },
    {
     "name": "stdout",
     "output_type": "stream",
     "text": [
      " create mode 100644 file1.txt\n"
     ]
    }
   ],
   "source": [
    "git add file1.txt\n",
    "git commit -m \"Add file1.txt\""
   ]
  },
  {
   "cell_type": "markdown",
   "id": "287af279",
   "metadata": {},
   "source": [
    "```{admonition} What to notice\n",
    ":class: hint \n",
    "After adding, the file moves to the staging area. After committing, it's no longer marked with an \"A\" but is committed to the repository.\n",
    "```\n",
    "\n",
    "Check the repository status again:"
   ]
  },
  {
   "cell_type": "code",
   "execution_count": 15,
   "id": "3d399de9",
   "metadata": {},
   "outputs": [
    {
     "name": "stdout",
     "output_type": "stream",
     "text": [
      "On branch main\n",
      "Untracked files:\n",
      "  (use \"git add <file>...\" to include in what will be committed)\n",
      "\t\u001b[31mfile2.txt\u001b[m\n",
      "\n",
      "nothing added to commit but untracked files present (use \"git add\" to track)\n"
     ]
    },
    {
     "name": "stdout",
     "output_type": "stream",
     "text": [
      "Untracked files:\n"
     ]
    },
    {
     "name": "stdout",
     "output_type": "stream",
     "text": [
      "  (use \"git add <file>...\" to include in what will be committed)\n"
     ]
    },
    {
     "name": "stdout",
     "output_type": "stream",
     "text": [
      "\t\u001b[31mfile2.txt\u001b[m\n"
     ]
    },
    {
     "name": "stdout",
     "output_type": "stream",
     "text": [
      "\n"
     ]
    },
    {
     "name": "stdout",
     "output_type": "stream",
     "text": [
      "nothing added to commit but untracked files present (use \"git add\" to track)\n"
     ]
    }
   ],
   "source": [
    "git status"
   ]
  },
  {
   "cell_type": "markdown",
   "id": "0ea157b3",
   "metadata": {},
   "source": [
    "List the commits:"
   ]
  },
  {
   "cell_type": "code",
   "execution_count": 16,
   "id": "a75b77ce",
   "metadata": {},
   "outputs": [
    {
     "name": "stdout",
     "output_type": "stream",
     "text": [
      "\u001b[33mcommit 77c6c83d7bc827417a00c6bec3fb680dac65fff0\u001b[m\u001b[33m (\u001b[m\u001b[1;36mHEAD -> \u001b[m\u001b[1;32mmain\u001b[m\u001b[33m)\u001b[m\n",
      "Author: mcallara <mcallara@gmail.com>\n",
      "Date:   Wed Feb 7 14:37:27 2024 +0100\n",
      "\n",
      "    Add file1.txt\n"
     ]
    },
    {
     "name": "stdout",
     "output_type": "stream",
     "text": [
      "Author: mcallara <mcallara@gmail.com>\n"
     ]
    },
    {
     "name": "stdout",
     "output_type": "stream",
     "text": [
      "Date:   Wed Feb 7 14:37:27 2024 +0100\n"
     ]
    },
    {
     "name": "stdout",
     "output_type": "stream",
     "text": [
      "\n"
     ]
    },
    {
     "name": "stdout",
     "output_type": "stream",
     "text": [
      "    Add file1.txt\n"
     ]
    }
   ],
   "source": [
    "git log"
   ]
  },
  {
   "cell_type": "markdown",
   "id": "07a6d967",
   "metadata": {},
   "source": [
    "```{admonition} What to notice\n",
    ":class: hint \n",
    "The commit is now listed. Explore the `.git/objects` directory to see the objects created by Git.\n",
    "```"
   ]
  },
  {
   "cell_type": "code",
   "execution_count": 17,
   "id": "b385cd01",
   "metadata": {},
   "outputs": [
    {
     "name": "stdout",
     "output_type": "stream",
     "text": [
      "\u001b[0m\u001b[38;5;33m.\u001b[0m  \u001b[38;5;33m..\u001b[0m  \u001b[38;5;33m77\u001b[0m  \u001b[38;5;33mbf\u001b[0m  \u001b[38;5;33meb\u001b[0m  \u001b[38;5;33minfo\u001b[0m  \u001b[38;5;33mpack\u001b[0m\n"
     ]
    }
   ],
   "source": [
    "ls -a .git/objects"
   ]
  },
  {
   "cell_type": "markdown",
   "id": "2a990a98",
   "metadata": {},
   "source": [
    "## Summary\n",
    "We covered creating a repository, adding and committing a file, and the significance of the `.git` and objects directories.\n",
    "\n",
    "## References\n",
    "- [Official using Git with VSC Beginner Tutorial](https://www.youtube.com/watch?v=i_23KUAEtUM)"
   ]
  }
 ],
 "metadata": {
  "jupytext": {
   "formats": "md:myst",
   "text_representation": {
    "extension": ".md",
    "format_name": "myst",
    "format_version": 0.13,
    "jupytext_version": "1.11.5"
   }
  },
  "kernelspec": {
   "display_name": "Bash",
   "language": "bash",
   "name": "bash"
  },
  "language_info": {
   "codemirror_mode": "shell",
   "file_extension": ".sh",
   "mimetype": "text/x-sh",
   "name": "bash"
  },
  "source_map": [
   15,
   18,
   27,
   29,
   34,
   36,
   41,
   43,
   48,
   50,
   62,
   64,
   68,
   70,
   75,
   77,
   81,
   83,
   88,
   90,
   95,
   98,
   105,
   107,
   112,
   114,
   124,
   127,
   136,
   138,
   142,
   144,
   151,
   153
  ]
 },
 "nbformat": 4,
 "nbformat_minor": 5
}