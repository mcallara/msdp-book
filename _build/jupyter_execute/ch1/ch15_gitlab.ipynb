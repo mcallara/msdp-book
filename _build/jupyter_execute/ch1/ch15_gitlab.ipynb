{
 "cells": [
  {
   "cell_type": "code",
   "execution_count": 1,
   "id": "f342751e",
   "metadata": {
    "tags": [
     "remove-input"
    ]
   },
   "outputs": [],
   "source": [
    "cd ../home/ch1"
   ]
  },
  {
   "cell_type": "markdown",
   "id": "975f1a91",
   "metadata": {},
   "source": [
    "# 1.5 Remote Repositories\n",
    "\n",
    "## Creating a remote repository in GitLab\n",
    "In this section, you will set up your local project to push changes to a remote repository on GitLab.\n",
    "Inside the `my-project` directory, we will tell Git that we want to work with a remote repository on GitLab. Even though we have not created the remote repository yet, we can still configure the local repository to push changes to it. If the repository does not exist, Gitlab will create the remote repository when we push the first changes."
   ]
  },
  {
   "cell_type": "code",
   "execution_count": 2,
   "id": "d5e216f3",
   "metadata": {},
   "outputs": [
    {
     "name": "stdout",
     "output_type": "stream",
     "text": [
      "fatal: remote origin already exists.\n"
     ]
    },
    {
     "ename": "",
     "evalue": "128",
     "output_type": "error",
     "traceback": []
    }
   ],
   "source": [
    "cd my-project\n",
    "git remote add origin git@gitlab.com:yourusername/my-project-remote.git"
   ]
  },
  {
   "cell_type": "markdown",
   "id": "7cebddf2",
   "metadata": {},
   "source": [
    "### List the remote repository connections"
   ]
  },
  {
   "cell_type": "code",
   "execution_count": 3,
   "id": "d536789f",
   "metadata": {},
   "outputs": [
    {
     "name": "stdout",
     "output_type": "stream",
     "text": [
      "origin\n",
      "origin\tgit@github.com:mcallara/test-repo.git (fetch)\n",
      "origin\tgit@github.com:mcallara/test-repo.git (push)\n"
     ]
    },
    {
     "name": "stdout",
     "output_type": "stream",
     "text": [
      "origin\tgit@github.com:mcallara/test-repo.git (fetch)\n"
     ]
    },
    {
     "name": "stdout",
     "output_type": "stream",
     "text": [
      "origin\tgit@github.com:mcallara/test-repo.git (push)\n"
     ]
    }
   ],
   "source": [
    "git remote\n",
    "git remote -v"
   ]
  },
  {
   "cell_type": "markdown",
   "id": "3de61266",
   "metadata": {},
   "source": [
    "### Exploring the Git configuration\n",
    "Inspect the `.git/config` file to see the remote repository configuration."
   ]
  },
  {
   "cell_type": "code",
   "execution_count": 4,
   "id": "168dc586",
   "metadata": {},
   "outputs": [
    {
     "name": "stdout",
     "output_type": "stream",
     "text": [
      "[core]\n",
      "\trepositoryformatversion = 0\n",
      "\tfilemode = true\n",
      "\tbare = false\n",
      "\tlogallrefupdates = true\n",
      "[remote \"origin\"]\n",
      "\turl = git@github.com:mcallara/test-repo.git\n",
      "\tfetch = +refs/heads/*:refs/remotes/origin/*\n"
     ]
    },
    {
     "name": "stdout",
     "output_type": "stream",
     "text": [
      "\trepositoryformatversion = 0\n"
     ]
    },
    {
     "name": "stdout",
     "output_type": "stream",
     "text": [
      "\tfilemode = true\n"
     ]
    },
    {
     "name": "stdout",
     "output_type": "stream",
     "text": [
      "\tbare = false\n"
     ]
    },
    {
     "name": "stdout",
     "output_type": "stream",
     "text": [
      "\tlogallrefupdates = true\n"
     ]
    },
    {
     "name": "stdout",
     "output_type": "stream",
     "text": [
      "[remote \"origin\"]\n"
     ]
    },
    {
     "name": "stdout",
     "output_type": "stream",
     "text": [
      "\turl = git@github.com:mcallara/test-repo.git\n"
     ]
    },
    {
     "name": "stdout",
     "output_type": "stream",
     "text": [
      "\tfetch = +refs/heads/*:refs/remotes/origin/*\n"
     ]
    }
   ],
   "source": [
    "cat .git/config"
   ]
  },
  {
   "cell_type": "markdown",
   "id": "1e7222a9",
   "metadata": {},
   "source": [
    "### Checking references\n",
    "Look into the `.git/refs` directory to see references such as heads and tags."
   ]
  },
  {
   "cell_type": "code",
   "execution_count": 5,
   "id": "751d82cb",
   "metadata": {},
   "outputs": [
    {
     "name": "stdout",
     "output_type": "stream",
     "text": [
      "\u001b[0m\u001b[38;5;33mheads\u001b[0m  \u001b[38;5;33mtags\u001b[0m\n"
     ]
    }
   ],
   "source": [
    "ls .git/refs"
   ]
  },
  {
   "cell_type": "markdown",
   "id": "4a0808ca",
   "metadata": {},
   "source": [
    "### Pushing to the remote repository\n",
    "Push your changes to the remote repository on GitLab, setting `origin` as the upstream for `main`."
   ]
  },
  {
   "cell_type": "code",
   "execution_count": 6,
   "id": "8f2467b9",
   "metadata": {},
   "outputs": [
    {
     "name": "stdout",
     "output_type": "stream",
     "text": [
      "ERROR: Repository not found.\n",
      "fatal: Could not read from remote repository.\n",
      "\n",
      "Please make sure you have the correct access rights\n",
      "and the repository exists.\n"
     ]
    },
    {
     "name": "stdout",
     "output_type": "stream",
     "text": [
      "fatal: Could not read from remote repository.\n"
     ]
    },
    {
     "name": "stdout",
     "output_type": "stream",
     "text": [
      "\n"
     ]
    },
    {
     "name": "stdout",
     "output_type": "stream",
     "text": [
      "Please make sure you have the correct access rights\n"
     ]
    },
    {
     "name": "stdout",
     "output_type": "stream",
     "text": [
      "and the repository exists.\n"
     ]
    },
    {
     "ename": "",
     "evalue": "128",
     "output_type": "error",
     "traceback": []
    }
   ],
   "source": [
    "git push -u origin main"
   ]
  },
  {
   "cell_type": "markdown",
   "id": "5e56b373",
   "metadata": {},
   "source": [
    "After pushing, inspect the `.git/refs` again to verify the update."
   ]
  },
  {
   "cell_type": "code",
   "execution_count": 7,
   "id": "233cdbdf",
   "metadata": {},
   "outputs": [
    {
     "name": "stdout",
     "output_type": "stream",
     "text": [
      "\u001b[0m\u001b[38;5;33mheads\u001b[0m  \u001b[38;5;33mtags\u001b[0m\n"
     ]
    }
   ],
   "source": [
    "ls .git/refs"
   ]
  },
  {
   "cell_type": "markdown",
   "id": "e9c8e47f",
   "metadata": {},
   "source": [
    "### Listing branches and commits"
   ]
  },
  {
   "cell_type": "code",
   "execution_count": 8,
   "id": "345a6cb6",
   "metadata": {},
   "outputs": [
    {
     "name": "stdout",
     "output_type": "stream",
     "text": [
      "  main\u001b[m\n",
      "  new-branch\u001b[m\n",
      "* \u001b[32mnew-feature-branch\u001b[m\n",
      "\u001b[33mcommit a85117e4d554f9bafae1c1da46053fd1b1cae059\u001b[m\u001b[33m (\u001b[m\u001b[1;36mHEAD -> \u001b[m\u001b[1;32mnew-feature-branch\u001b[m\u001b[33m, \u001b[m\u001b[1;32mmain\u001b[m\u001b[33m)\u001b[m\n",
      "Author: mcallara <mcallara@gmail.com>\n",
      "Date:   Tue Feb 20 11:27:28 2024 +0100\n",
      "\n",
      "    Add third line to file1.txt\n",
      "\n",
      "\u001b[33mcommit dd36d36cc131e7ca064847453b3955ff79507548\u001b[m\n",
      "Author: mcallara <mcallara@gmail.com>\n",
      "Date:   Tue Feb 20 11:27:22 2024 +0100\n",
      "\n",
      "    Add file1.txt\n"
     ]
    },
    {
     "name": "stdout",
     "output_type": "stream",
     "text": [
      "  new-branch\u001b[m\n"
     ]
    },
    {
     "name": "stdout",
     "output_type": "stream",
     "text": [
      "* \u001b[32mnew-feature-branch\u001b[m\n"
     ]
    },
    {
     "name": "stdout",
     "output_type": "stream",
     "text": [
      "\u001b[33mcommit a85117e4d554f9bafae1c1da46053fd1b1cae059\u001b[m\u001b[33m (\u001b[m\u001b[1;36mHEAD -> \u001b[m\u001b[1;32mnew-feature-branch\u001b[m\u001b[33m, \u001b[m\u001b[1;32mmain\u001b[m\u001b[33m)\u001b[m\n"
     ]
    },
    {
     "name": "stdout",
     "output_type": "stream",
     "text": [
      "Author: mcallara <mcallara@gmail.com>\n"
     ]
    },
    {
     "name": "stdout",
     "output_type": "stream",
     "text": [
      "Date:   Tue Feb 20 11:27:28 2024 +0100\n"
     ]
    },
    {
     "name": "stdout",
     "output_type": "stream",
     "text": [
      "\n"
     ]
    },
    {
     "name": "stdout",
     "output_type": "stream",
     "text": [
      "    Add third line to file1.txt\n"
     ]
    },
    {
     "name": "stdout",
     "output_type": "stream",
     "text": [
      "\n"
     ]
    },
    {
     "name": "stdout",
     "output_type": "stream",
     "text": [
      "\u001b[33mcommit dd36d36cc131e7ca064847453b3955ff79507548\u001b[m\n"
     ]
    },
    {
     "name": "stdout",
     "output_type": "stream",
     "text": [
      "Author: mcallara <mcallara@gmail.com>\n"
     ]
    },
    {
     "name": "stdout",
     "output_type": "stream",
     "text": [
      "Date:   Tue Feb 20 11:27:22 2024 +0100\n"
     ]
    },
    {
     "name": "stdout",
     "output_type": "stream",
     "text": [
      "\n"
     ]
    },
    {
     "name": "stdout",
     "output_type": "stream",
     "text": [
      "    Add file1.txt\n"
     ]
    }
   ],
   "source": [
    "git branch --all\n",
    "git log"
   ]
  },
  {
   "cell_type": "markdown",
   "id": "dbbe42de",
   "metadata": {},
   "source": [
    "```{admonition} What to notice\n",
    ":class: hint\n",
    "`origin/main` should be pointing to the same commit as `main`.\n",
    "```\n",
    "\n",
    "## Cloning a repository\n",
    "Clone the `test-repo` into a new directory named `test-repo-2`."
   ]
  },
  {
   "cell_type": "code",
   "execution_count": 9,
   "id": "bf400611",
   "metadata": {},
   "outputs": [
    {
     "name": "stdout",
     "output_type": "stream",
     "text": [
      "Cloning into 'my-project-remote-2'...\n",
      "git@gitlab.com: Permission denied (publickey).\r\n",
      "fatal: Could not read from remote repository.\n",
      "\n",
      "Please make sure you have the correct access rights\n",
      "and the repository exists.\n",
      "\u001b[0m\u001b[38;5;33mmy-project\u001b[0m  \u001b[38;5;33mtest\u001b[0m\n"
     ]
    },
    {
     "name": "stdout",
     "output_type": "stream",
     "text": [
      "git@gitlab.com: Permission denied (publickey).\r"
     ]
    },
    {
     "name": "stdout",
     "output_type": "stream",
     "text": [
      "\n"
     ]
    },
    {
     "name": "stdout",
     "output_type": "stream",
     "text": [
      "fatal: Could not read from remote repository.\n"
     ]
    },
    {
     "name": "stdout",
     "output_type": "stream",
     "text": [
      "\n"
     ]
    },
    {
     "name": "stdout",
     "output_type": "stream",
     "text": [
      "Please make sure you have the correct access rights\n"
     ]
    },
    {
     "name": "stdout",
     "output_type": "stream",
     "text": [
      "and the repository exists.\n"
     ]
    },
    {
     "name": "stdout",
     "output_type": "stream",
     "text": [
      "\u001b[0m\u001b[38;5;33mmy-project\u001b[0m  \u001b[38;5;33mtest\u001b[0m\n"
     ]
    }
   ],
   "source": [
    "cd ..\n",
    "git clone git@gitlab.com:yourusername/my-project-remote.git my-project-remote-2\n",
    "ls"
   ]
  },
  {
   "cell_type": "markdown",
   "id": "cb4f532d",
   "metadata": {},
   "source": [
    "This chapter guides you through creating and managing your first GitLab repository, including remote configuration, pushing changes, and cloning repositories."
   ]
  }
 ],
 "metadata": {
  "jupytext": {
   "formats": "md:myst",
   "text_representation": {
    "extension": ".md",
    "format_name": "myst",
    "format_version": 0.13,
    "jupytext_version": "1.11.5"
   }
  },
  "kernelspec": {
   "display_name": "Bash",
   "language": "bash",
   "name": "bash"
  },
  "language_info": {
   "codemirror_mode": "shell",
   "file_extension": ".sh",
   "mimetype": "text/x-sh",
   "name": "bash"
  },
  "source_map": [
   15,
   18,
   26,
   29,
   32,
   35,
   40,
   42,
   47,
   49,
   54,
   56,
   60,
   62,
   65,
   68,
   78,
   82
  ]
 },
 "nbformat": 4,
 "nbformat_minor": 5
}