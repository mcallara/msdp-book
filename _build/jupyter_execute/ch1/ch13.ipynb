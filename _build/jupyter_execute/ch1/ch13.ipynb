{
 "cells": [
  {
   "cell_type": "code",
   "execution_count": 1,
   "id": "93720cc4",
   "metadata": {
    "tags": [
     "remove-input"
    ]
   },
   "outputs": [],
   "source": [
    "cd ../home/ch1/my-project"
   ]
  },
  {
   "cell_type": "markdown",
   "id": "a892f77f",
   "metadata": {},
   "source": [
    "# 1.3 Branches\n",
    "\n",
    "## Discussion: The Git Diagram\n",
    "Understanding the structure and components of Git's internal management system is crucial for effective version control.\n",
    "\n",
    "## Discussion: What are branches?\n",
    "Branches in Git allow you to diverge from the main line of development and work independently without affecting the main line.\n",
    "\n",
    "## Discussion: What are branches in Git?\n",
    "Branches are essentially pointers to commits. The system uses a special pointer named `HEAD` to indicate the current branch you're working on."
   ]
  },
  {
   "cell_type": "code",
   "execution_count": 2,
   "id": "58965e10",
   "metadata": {},
   "outputs": [
    {
     "name": "stdout",
     "output_type": "stream",
     "text": [
      "\u001b[33mcommit dd36d36cc131e7ca064847453b3955ff79507548\u001b[m\u001b[33m (\u001b[m\u001b[1;36mHEAD -> \u001b[m\u001b[1;32mmain\u001b[m\u001b[33m)\u001b[m\n",
      "Author: mcallara <mcallara@gmail.com>\n",
      "Date:   Tue Feb 20 11:27:22 2024 +0100\n",
      "\n",
      "    Add file1.txt\n"
     ]
    },
    {
     "name": "stdout",
     "output_type": "stream",
     "text": [
      "Author: mcallara <mcallara@gmail.com>\n"
     ]
    },
    {
     "name": "stdout",
     "output_type": "stream",
     "text": [
      "Date:   Tue Feb 20 11:27:22 2024 +0100\n"
     ]
    },
    {
     "name": "stdout",
     "output_type": "stream",
     "text": [
      "\n"
     ]
    },
    {
     "name": "stdout",
     "output_type": "stream",
     "text": [
      "    Add file1.txt\n"
     ]
    }
   ],
   "source": [
    "git log"
   ]
  },
  {
   "cell_type": "markdown",
   "id": "e8659617",
   "metadata": {},
   "source": [
    "```{admonition} What to notice\n",
    ":class: hint\n",
    "`HEAD` is pointing to the main branch.\n",
    "```\n",
    "\n",
    "Git keeps a file within `.git/refs/heads/` directory for each branch, specifying the commit each branch is pointing to."
   ]
  },
  {
   "cell_type": "code",
   "execution_count": 3,
   "id": "5fa1030e",
   "metadata": {},
   "outputs": [
    {
     "name": "stdout",
     "output_type": "stream",
     "text": [
      "dd36d36cc131e7ca064847453b3955ff79507548\n"
     ]
    }
   ],
   "source": [
    "cat .git/refs/heads/main"
   ]
  },
  {
   "cell_type": "markdown",
   "id": "9e34acf5",
   "metadata": {},
   "source": [
    "```{admonition} What to notice\n",
    ":class: hint\n",
    "`main` is pointing to the commit in which we added `file1.txt`.\n",
    "```\n",
    "\n",
    "## Exercise: Check the current Git status"
   ]
  },
  {
   "cell_type": "code",
   "execution_count": 4,
   "id": "047a8be1",
   "metadata": {},
   "outputs": [
    {
     "name": "stdout",
     "output_type": "stream",
     "text": [
      "On branch main\n",
      "nothing to commit, working tree clean\n"
     ]
    },
    {
     "name": "stdout",
     "output_type": "stream",
     "text": [
      "nothing to commit, working tree clean\n"
     ]
    }
   ],
   "source": [
    "git status"
   ]
  },
  {
   "cell_type": "markdown",
   "id": "5883be53",
   "metadata": {},
   "source": [
    "**NOTE:** Git tracks saved changes. Visual Studio Code (VSC) adds a dot to file names to indicate unsaved changes.\n",
    "\n",
    "## Modified files in Git\n",
    "Demonstrate modifying a file and observe Git's response."
   ]
  },
  {
   "cell_type": "code",
   "execution_count": 5,
   "id": "90415b03",
   "metadata": {},
   "outputs": [
    {
     "name": "stdout",
     "output_type": "stream",
     "text": [
      "On branch main\n",
      "Changes not staged for commit:\n",
      "  (use \"git add <file>...\" to update what will be committed)\n",
      "  (use \"git restore <file>...\" to discard changes in working directory)\n",
      "\t\u001b[31mmodified:   file1.txt\u001b[m\n",
      "\n",
      "no changes added to commit (use \"git add\" and/or \"git commit -a\")\n"
     ]
    },
    {
     "name": "stdout",
     "output_type": "stream",
     "text": [
      "Changes not staged for commit:\n"
     ]
    },
    {
     "name": "stdout",
     "output_type": "stream",
     "text": [
      "  (use \"git add <file>...\" to update what will be committed)\n"
     ]
    },
    {
     "name": "stdout",
     "output_type": "stream",
     "text": [
      "  (use \"git restore <file>...\" to discard changes in working directory)\n"
     ]
    },
    {
     "name": "stdout",
     "output_type": "stream",
     "text": [
      "\t\u001b[31mmodified:   file1.txt\u001b[m\n"
     ]
    },
    {
     "name": "stdout",
     "output_type": "stream",
     "text": [
      "\n"
     ]
    },
    {
     "name": "stdout",
     "output_type": "stream",
     "text": [
      "no changes added to commit (use \"git add\" and/or \"git commit -a\")\n"
     ]
    }
   ],
   "source": [
    "echo -en \"\\nThis is the second line.\" >> file1.txt\n",
    "git status"
   ]
  },
  {
   "cell_type": "markdown",
   "id": "66f06b15",
   "metadata": {},
   "source": [
    "```{admonition} What to notice\n",
    ":class: hint\n",
    "Git recognizes that `file1.txt` has been modified. In VSC, a `M` symbol indicates a modified file.\n",
    "```\n",
    "\n",
    "## Staging files from VSC\n",
    "Utilize the Source Control tab in VSC to stage changes.\n",
    "\n",
    "## Committing with VSC\n",
    "Use the Source Control tab in VSC to commit changes.\n",
    "\n",
    "```{admonition} What to notice\n",
    ":class: hint\n",
    "The branch automatically moves to point to the latest commit.\n",
    "```"
   ]
  },
  {
   "cell_type": "code",
   "execution_count": 6,
   "id": "8c5ecc86",
   "metadata": {},
   "outputs": [
    {
     "name": "stdout",
     "output_type": "stream",
     "text": [
      "tree 74c5bd725d76cf73a896455916d73a147ec25d2b\n",
      "author mcallara <mcallara@gmail.com> 1708424842 +0100\n",
      "committer mcallara <mcallara@gmail.com> 1708424842 +0100\n",
      "\n",
      "Add file1.txt\n"
     ]
    },
    {
     "name": "stdout",
     "output_type": "stream",
     "text": [
      "author mcallara <mcallara@gmail.com> 1708424842 +0100\n"
     ]
    },
    {
     "name": "stdout",
     "output_type": "stream",
     "text": [
      "committer mcallara <mcallara@gmail.com> 1708424842 +0100\n"
     ]
    },
    {
     "name": "stdout",
     "output_type": "stream",
     "text": [
      "\n"
     ]
    },
    {
     "name": "stdout",
     "output_type": "stream",
     "text": [
      "Add file1.txt\n"
     ]
    }
   ],
   "source": [
    "git cat-file -p main"
   ]
  },
  {
   "cell_type": "markdown",
   "id": "876a1af5",
   "metadata": {},
   "source": [
    "```{admonition} What to notice\n",
    ":class: hint\n",
    "The commit keeps a pointer to its parent, linking the commit history.\n",
    "```\n",
    "\n",
    "## List local branches"
   ]
  },
  {
   "cell_type": "code",
   "execution_count": 7,
   "id": "1f3d9ad9",
   "metadata": {},
   "outputs": [
    {
     "name": "stdout",
     "output_type": "stream",
     "text": [
      "* \u001b[32mmain\u001b[m\n"
     ]
    }
   ],
   "source": [
    "git branch"
   ]
  },
  {
   "cell_type": "markdown",
   "id": "72788c41",
   "metadata": {},
   "source": [
    "## Create a new branch"
   ]
  },
  {
   "cell_type": "code",
   "execution_count": 8,
   "id": "a5b85de9",
   "metadata": {},
   "outputs": [
    {
     "name": "stdout",
     "output_type": "stream",
     "text": [
      "main  new-branch\n",
      "dd36d36cc131e7ca064847453b3955ff79507548\n"
     ]
    },
    {
     "name": "stdout",
     "output_type": "stream",
     "text": [
      "dd36d36cc131e7ca064847453b3955ff79507548\n"
     ]
    }
   ],
   "source": [
    "git branch new-branch\n",
    "ls .git/refs/heads\n",
    "cat .git/refs/heads/new-branch"
   ]
  },
  {
   "cell_type": "markdown",
   "id": "b26f397e",
   "metadata": {},
   "source": [
    "```{admonition} What to notice\n",
    ":class: hint\n",
    "`new-branch` points to the same commit as `main`.\n",
    "```"
   ]
  },
  {
   "cell_type": "code",
   "execution_count": 9,
   "id": "e54881c0",
   "metadata": {},
   "outputs": [
    {
     "name": "stdout",
     "output_type": "stream",
     "text": [
      "ref: refs/heads/main\n"
     ]
    }
   ],
   "source": [
    "cat .git/HEAD"
   ]
  },
  {
   "cell_type": "markdown",
   "id": "356bf725",
   "metadata": {},
   "source": [
    "```{admonition} What to notice\n",
    ":class: hint\n",
    "`HEAD` is still pointing to `main`.\n",
    "```\n",
    "\n",
    "## Switch to the new branch"
   ]
  },
  {
   "cell_type": "code",
   "execution_count": 10,
   "id": "94314400",
   "metadata": {},
   "outputs": [
    {
     "name": "stdout",
     "output_type": "stream",
     "text": [
      "M\tfile1.txt\n",
      "Switched to branch 'new-branch'\n"
     ]
    },
    {
     "name": "stdout",
     "output_type": "stream",
     "text": [
      "Switched to branch 'new-branch'\n"
     ]
    }
   ],
   "source": [
    "git switch new-branch"
   ]
  },
  {
   "cell_type": "markdown",
   "id": "aa17f752",
   "metadata": {},
   "source": [
    "```{admonition} What to notice\n",
    ":class: hint\n",
    "VSC updates to reflect the change in the active branch.\n",
    "```\n",
    "\n",
    "## Discussion on Git Commands\n",
    "Git provides multiple commands to achieve the same results, enhancing flexibility and user preference."
   ]
  },
  {
   "cell_type": "code",
   "execution_count": 11,
   "id": "79953af4",
   "metadata": {},
   "outputs": [
    {
     "name": "stdout",
     "output_type": "stream",
     "text": [
      "ref: refs/heads/new-branch\n"
     ]
    }
   ],
   "source": [
    "cat .git/HEAD"
   ]
  },
  {
   "cell_type": "markdown",
   "id": "a6eee27b",
   "metadata": {},
   "source": [
    "```{admonition} What to notice\n",
    ":class: hint\n",
    "`HEAD` now points to `new-branch`, and the `*` symbol in the branch listing indicates the current branch.\n",
    "```\n",
    "\n",
    "## Add a change to file1.txt in the new branch"
   ]
  },
  {
   "cell_type": "code",
   "execution_count": 12,
   "id": "d21fd27f",
   "metadata": {},
   "outputs": [
    {
     "name": "stdout",
     "output_type": "stream",
     "text": [
      "On branch new-branch\n",
      "Changes not staged for commit:\n",
      "  (use \"git add <file>...\" to update what will be committed)\n",
      "  (use \"git restore <file>...\" to discard changes in working directory)\n",
      "\t\u001b[31mmodified:   file1.txt\u001b[m\n",
      "\n",
      "no changes added to commit (use \"git add\" and/or \"git commit -a\")\n",
      "[new-branch a85117e] Add third line to file1.txt\n",
      " 1 file changed, 3 insertions(+), 1 deletion(-)\n",
      "\u001b[33mcommit a85117e4d554f9bafae1c1da46053fd1b1cae059\u001b[m\u001b[33m (\u001b[m\u001b[1;36mHEAD -> \u001b[m\u001b[1;32mnew-branch\u001b[m\u001b[33m)\u001b[m\n",
      "Author: mcallara <mcallara@gmail.com>\n",
      "Date:   Tue Feb 20 11:27:28 2024 +0100\n",
      "\n",
      "    Add third line to file1.txt\n",
      "\n",
      "\u001b[33mcommit dd36d36cc131e7ca064847453b3955ff79507548\u001b[m\u001b[33m (\u001b[m\u001b[1;32mmain\u001b[m\u001b[33m)\u001b[m\n",
      "Author: mcallara <mcallara@gmail.com>\n",
      "Date:   Tue Feb 20 11:27:22 2024 +0100\n",
      "\n",
      "    Add file1.txt\n"
     ]
    },
    {
     "name": "stdout",
     "output_type": "stream",
     "text": [
      "Changes not staged for commit:\n"
     ]
    },
    {
     "name": "stdout",
     "output_type": "stream",
     "text": [
      "  (use \"git add <file>...\" to update what will be committed)\n"
     ]
    },
    {
     "name": "stdout",
     "output_type": "stream",
     "text": [
      "  (use \"git restore <file>...\" to discard changes in working directory)\n"
     ]
    },
    {
     "name": "stdout",
     "output_type": "stream",
     "text": [
      "\t\u001b[31mmodified:   file1.txt\u001b[m\n"
     ]
    },
    {
     "name": "stdout",
     "output_type": "stream",
     "text": [
      "\n"
     ]
    },
    {
     "name": "stdout",
     "output_type": "stream",
     "text": [
      "no changes added to commit (use \"git add\" and/or \"git commit -a\")\n"
     ]
    },
    {
     "name": "stdout",
     "output_type": "stream",
     "text": [
      "[new-branch a85117e] Add third line to file1.txt\n"
     ]
    },
    {
     "name": "stdout",
     "output_type": "stream",
     "text": [
      " 1 file changed, 3 insertions(+), 1 deletion(-)\n"
     ]
    },
    {
     "name": "stdout",
     "output_type": "stream",
     "text": [
      "\u001b[33mcommit a85117e4d554f9bafae1c1da46053fd1b1cae059\u001b[m\u001b[33m (\u001b[m\u001b[1;36mHEAD -> \u001b[m\u001b[1;32mnew-branch\u001b[m\u001b[33m)\u001b[m\n"
     ]
    },
    {
     "name": "stdout",
     "output_type": "stream",
     "text": [
      "Author: mcallara <mcallara@gmail.com>\n"
     ]
    },
    {
     "name": "stdout",
     "output_type": "stream",
     "text": [
      "Date:   Tue Feb 20 11:27:28 2024 +0100\n"
     ]
    },
    {
     "name": "stdout",
     "output_type": "stream",
     "text": [
      "\n"
     ]
    },
    {
     "name": "stdout",
     "output_type": "stream",
     "text": [
      "    Add third line to file1.txt\n"
     ]
    },
    {
     "name": "stdout",
     "output_type": "stream",
     "text": [
      "\n"
     ]
    },
    {
     "name": "stdout",
     "output_type": "stream",
     "text": [
      "\u001b[33mcommit dd36d36cc131e7ca064847453b3955ff79507548\u001b[m\u001b[33m (\u001b[m\u001b[1;32mmain\u001b[m\u001b[33m)\u001b[m\n"
     ]
    },
    {
     "name": "stdout",
     "output_type": "stream",
     "text": [
      "Author: mcallara <mcallara@gmail.com>\n"
     ]
    },
    {
     "name": "stdout",
     "output_type": "stream",
     "text": [
      "Date:   Tue Feb 20 11:27:22 2024 +0100\n"
     ]
    },
    {
     "name": "stdout",
     "output_type": "stream",
     "text": [
      "\n"
     ]
    },
    {
     "name": "stdout",
     "output_type": "stream",
     "text": [
      "    Add file1.txt\n"
     ]
    }
   ],
   "source": [
    "echo -en \"\\nThis is the third line.\" >> file1.txt\n",
    "git status\n",
    "git add file1.txt\n",
    "git commit -m \"Add third line to file1.txt\"\n",
    "git log"
   ]
  },
  {
   "cell_type": "markdown",
   "id": "fc277552",
   "metadata": {},
   "source": [
    "## Summary\n",
    "This section explored the concept of branches in Git, how to manage them, and their implications for project development."
   ]
  }
 ],
 "metadata": {
  "jupytext": {
   "formats": "md:myst",
   "text_representation": {
    "extension": ".md",
    "format_name": "myst",
    "format_version": 0.13,
    "jupytext_version": "1.11.5"
   }
  },
  "kernelspec": {
   "display_name": "Bash",
   "language": "bash",
   "name": "bash"
  },
  "language_info": {
   "codemirror_mode": "shell",
   "file_extension": ".sh",
   "mimetype": "text/x-sh",
   "name": "bash"
  },
  "source_map": [
   15,
   18,
   31,
   33,
   42,
   44,
   52,
   54,
   61,
   64,
   82,
   84,
   92,
   94,
   97,
   101,
   108,
   110,
   118,
   120,
   130,
   132,
   140,
   146
  ]
 },
 "nbformat": 4,
 "nbformat_minor": 5
}