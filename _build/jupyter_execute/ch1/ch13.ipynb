{
 "cells": [
  {
   "cell_type": "code",
   "execution_count": 1,
   "id": "ec1ca6b7",
   "metadata": {
    "tags": [
     "remove-input"
    ]
   },
   "outputs": [],
   "source": [
    "cd ../home/ch1/my-project"
   ]
  },
  {
   "cell_type": "markdown",
   "id": "ec9213b9",
   "metadata": {},
   "source": [
    "# 1.3 Branches\n",
    "\n",
    "In this section, we will learn about branches in Git. We will discuss why are they useful, what they are, how to create them, and how to switch between them.\n",
    "\n",
    "## Motivation for branches\n",
    "Branches allow you to diverge from the main line of development and work independently without affecting the main line. This is useful when you want to work on a new feature or fix a bug without affecting the main line of development. Once you are done with your work, you can combine your changes back into the main line.\n",
    "\n",
    "## What are branches?\n",
    "A branch is a lightweight movable pointer to a commit. When Git initializes a repository, it creates a branch. As you commit changes, Git moves the branch pointer forward to point to the latest commit. In our repository, we used the option `b` with the argment `main` to indicate that the initial branch should be named `main`. \n",
    "\n",
    "```{admonition} Test your knowledge\n",
    ":class: tip \n",
    " - List the commit history of the repository.\n",
    "```"
   ]
  },
  {
   "cell_type": "code",
   "execution_count": 2,
   "id": "dae35e43",
   "metadata": {
    "tags": [
     "hide-input"
    ]
   },
   "outputs": [
    {
     "name": "stdout",
     "output_type": "stream",
     "text": [
      "\u001b[33mcommit 20de958a1c7217332659e1ef91ad9822097d9e34\u001b[m\u001b[33m (\u001b[m\u001b[1;36mHEAD -> \u001b[m\u001b[1;32mmain\u001b[m\u001b[33m)\u001b[m\n",
      "Author: msdp-book <msdp.book@gmail.com>\n",
      "Date:   Sat Mar 2 23:25:51 2024 +0100\n",
      "\n",
      "    Create file1.txt with the first line\n"
     ]
    },
    {
     "name": "stdout",
     "output_type": "stream",
     "text": [
      "Author: msdp-book <msdp.book@gmail.com>\n"
     ]
    },
    {
     "name": "stdout",
     "output_type": "stream",
     "text": [
      "Date:   Sat Mar 2 23:25:51 2024 +0100\n"
     ]
    },
    {
     "name": "stdout",
     "output_type": "stream",
     "text": [
      "\n"
     ]
    },
    {
     "name": "stdout",
     "output_type": "stream",
     "text": [
      "    Create file1.txt with the first line\n"
     ]
    }
   ],
   "source": [
    "git log"
   ]
  },
  {
   "cell_type": "markdown",
   "id": "a7ea0df3",
   "metadata": {},
   "source": [
    "```{admonition} What to notice\n",
    ":class: hint\n",
    "- `main` is at the side of the latest commit.\n",
    "- `HEAD` is pointing to the main branch.\n",
    "```\n",
    "\n",
    "```{admonition} What is HEAD?\n",
    ":class: hint\n",
    "`HEAD` is a special pointer in Git that points to the current branch reference or sometimes directly to a commit (detached `HEAD` state). It indicates the \"current\" snapshot of your repository that you are working on. Git stores the `HEAD` pointer in a file named `HEAD` within the `.git/` directory.\n",
    "```\n",
    "## Modified files in Git\n",
    "Let's add some commits to our commit history to see how the branch pointer moves. Let's add a new line to our `file1.txt` file and check the status of the repository."
   ]
  },
  {
   "cell_type": "code",
   "execution_count": 3,
   "id": "0232cbbe",
   "metadata": {},
   "outputs": [
    {
     "name": "stdout",
     "output_type": "stream",
     "text": [
      "On branch main\n",
      "Changes not staged for commit:\n",
      "  (use \"git add <file>...\" to update what will be committed)\n",
      "  (use \"git restore <file>...\" to discard changes in working directory)\n",
      "\t\u001b[31mmodified:   file1.txt\u001b[m\n",
      "\n",
      "no changes added to commit (use \"git add\" and/or \"git commit -a\")\n"
     ]
    },
    {
     "name": "stdout",
     "output_type": "stream",
     "text": [
      "Changes not staged for commit:\n"
     ]
    },
    {
     "name": "stdout",
     "output_type": "stream",
     "text": [
      "  (use \"git add <file>...\" to update what will be committed)\n"
     ]
    },
    {
     "name": "stdout",
     "output_type": "stream",
     "text": [
      "  (use \"git restore <file>...\" to discard changes in working directory)\n"
     ]
    },
    {
     "name": "stdout",
     "output_type": "stream",
     "text": [
      "\t\u001b[31mmodified:   file1.txt\u001b[m\n"
     ]
    },
    {
     "name": "stdout",
     "output_type": "stream",
     "text": [
      "\n"
     ]
    },
    {
     "name": "stdout",
     "output_type": "stream",
     "text": [
      "no changes added to commit (use \"git add\" and/or \"git commit -a\")\n"
     ]
    }
   ],
   "source": [
    "echo \"This is the second line.\" >> file1.txt\n",
    "git status"
   ]
  },
  {
   "cell_type": "markdown",
   "id": "5d5cc3a0",
   "metadata": {},
   "source": [
    "```{admonition} What to notice\n",
    ":class: hint\n",
    "- Git recognizes that `file1.txt` has been modified. \n",
    "\n",
    "In VSC:\n",
    "- a `M` symbol indicates a modified file.\n",
    "```\n",
    "\n",
    "```{admonition} Remember to save your changes\n",
    ":class: warning\n",
    "- You need to save your changes for Git to track them.\n",
    "- VSC adds a dot to the file names to indicate unsaved changes.\n",
    "```\n",
    "\n",
    "## Staging files with VSC\n",
    "This time, instead of using the command line, we will use VSC to stage the changes.\n",
    "\n",
    "1. **Open the Source Control Panel**: In VSC, click on the Source Control icon on the sidebar or press `Ctrl+Shift+G` (`Cmd+Shift+G` on macOS) to open the Source Control panel.\n",
    "2. **View Changes**: You'll see a list of changed files in the Source Control panel. These files are modifications in your working directory that Git has not yet committed.\n",
    "3. **Stage Files**:\n",
    "   - To stage an individual file, hover over the file name and click the `+` icon. This action stages that specific file.\n",
    "   - To stage all changes, click the `+` icon next to the \"Changes\" section at the top of the list. This stages all modified files."
   ]
  },
  {
   "cell_type": "code",
   "execution_count": 4,
   "id": "3d060f86",
   "metadata": {
    "tags": [
     "remove-input",
     "remove-output"
    ]
   },
   "outputs": [],
   "source": [
    "git add file1.txt"
   ]
  },
  {
   "cell_type": "markdown",
   "id": "857bb4db",
   "metadata": {},
   "source": [
    "## Committing with VSC\n",
    "Now that we have staged changes, we can commit them.\n",
    "\n",
    "1. **Enter a Commit Message**: At the top of the Source Control panel, you'll find a text field to enter your commit message. Enter \"Add second line to file1.txt\" as the commit message.\n",
    "2. **Commit the Changes**:\n",
    "   - To commit the staged changes, click the checkmark icon (`✔`) above the text field where you entered your commit message. Alternatively, you can press `Ctrl+Enter` (`Cmd+Enter` on macOS) to commit."
   ]
  },
  {
   "cell_type": "code",
   "execution_count": 5,
   "id": "a0ad118d",
   "metadata": {
    "tags": [
     "remove-input",
     "remove-output"
    ]
   },
   "outputs": [
    {
     "name": "stdout",
     "output_type": "stream",
     "text": [
      "[main 2cc8aac] Add second line to file1.txt\n",
      " 1 file changed, 1 insertion(+)\n"
     ]
    },
    {
     "name": "stdout",
     "output_type": "stream",
     "text": [
      " 1 file changed, 1 insertion(+)\n"
     ]
    }
   ],
   "source": [
    "git commit -m \"Add second line to file1.txt\""
   ]
  },
  {
   "cell_type": "markdown",
   "id": "24aac039",
   "metadata": {},
   "source": [
    "## Checking how the branch pointer moves\n",
    "Let's check the commit history again to see how the branch pointer moves."
   ]
  },
  {
   "cell_type": "code",
   "execution_count": 6,
   "id": "7655695f",
   "metadata": {},
   "outputs": [
    {
     "name": "stdout",
     "output_type": "stream",
     "text": [
      "\u001b[33mcommit 2cc8aac08dc79aaccb3c19693b62d179ed2fd757\u001b[m\u001b[33m (\u001b[m\u001b[1;36mHEAD -> \u001b[m\u001b[1;32mmain\u001b[m\u001b[33m)\u001b[m\n",
      "Author: msdp-book <msdp.book@gmail.com>\n",
      "Date:   Sat Mar 2 23:25:59 2024 +0100\n",
      "\n",
      "    Add second line to file1.txt\n",
      "\n",
      "\u001b[33mcommit 20de958a1c7217332659e1ef91ad9822097d9e34\u001b[m\n",
      "Author: msdp-book <msdp.book@gmail.com>\n",
      "Date:   Sat Mar 2 23:25:51 2024 +0100\n",
      "\n",
      "    Create file1.txt with the first line\n"
     ]
    },
    {
     "name": "stdout",
     "output_type": "stream",
     "text": [
      "Author: msdp-book <msdp.book@gmail.com>\n"
     ]
    },
    {
     "name": "stdout",
     "output_type": "stream",
     "text": [
      "Date:   Sat Mar 2 23:25:59 2024 +0100\n"
     ]
    },
    {
     "name": "stdout",
     "output_type": "stream",
     "text": [
      "\n"
     ]
    },
    {
     "name": "stdout",
     "output_type": "stream",
     "text": [
      "    Add second line to file1.txt\n"
     ]
    },
    {
     "name": "stdout",
     "output_type": "stream",
     "text": [
      "\n"
     ]
    },
    {
     "name": "stdout",
     "output_type": "stream",
     "text": [
      "\u001b[33mcommit 20de958a1c7217332659e1ef91ad9822097d9e34\u001b[m\n"
     ]
    },
    {
     "name": "stdout",
     "output_type": "stream",
     "text": [
      "Author: msdp-book <msdp.book@gmail.com>\n"
     ]
    },
    {
     "name": "stdout",
     "output_type": "stream",
     "text": [
      "Date:   Sat Mar 2 23:25:51 2024 +0100\n"
     ]
    },
    {
     "name": "stdout",
     "output_type": "stream",
     "text": [
      "\n"
     ]
    },
    {
     "name": "stdout",
     "output_type": "stream",
     "text": [
      "    Create file1.txt with the first line\n"
     ]
    }
   ],
   "source": [
    "git log"
   ]
  },
  {
   "cell_type": "markdown",
   "id": "2f0dc076",
   "metadata": {},
   "source": [
    "```{admonition} What to notice\n",
    ":class: hint\n",
    "- The branch automatically moves to point to the latest commit.\n",
    "```\n",
    "\n",
    "%```{code-cell} bash\n",
    "%git cat-file -p main\n",
    "%```\n",
    "%```{admonition} What to notice\n",
    "%:class: hint\n",
    "%The commit keeps a pointer to its parent, linking the commit history.\n",
    "%```\n",
    "\n",
    "## Listing local branches\n",
    "So far we have been working with the `main` branch. Let's list the branches in our repository. \n",
    "To list the branches, we use the `git branch` command."
   ]
  },
  {
   "cell_type": "code",
   "execution_count": 7,
   "id": "6fbf5f6b",
   "metadata": {},
   "outputs": [
    {
     "name": "stdout",
     "output_type": "stream",
     "text": [
      "* \u001b[32mmain\u001b[m\n"
     ]
    }
   ],
   "source": [
    "git branch"
   ]
  },
  {
   "cell_type": "markdown",
   "id": "c166f456",
   "metadata": {},
   "source": [
    "```{admonition} What to notice\n",
    ":class: hint\n",
    "- The `*` symbol indicates the current branch.\n",
    "- The `main` branch is the only branch in the repository.\n",
    "```\n",
    "\n",
    "## Creating a new branch\n",
    "Let's imagine that we want to add a new feature to our project. We will create a new branch called `feature`. To create a new branch, we use the `git branch` command followed by the name of the new branch."
   ]
  },
  {
   "cell_type": "code",
   "execution_count": 8,
   "id": "0d86c42a",
   "metadata": {},
   "outputs": [],
   "source": [
    "git branch feature"
   ]
  },
  {
   "cell_type": "markdown",
   "id": "089077d8",
   "metadata": {},
   "source": [
    "```{admonition} Test your knowledge\n",
    ":class: tip \n",
    " - List the local branches in the repository.\n",
    "```"
   ]
  },
  {
   "cell_type": "code",
   "execution_count": 9,
   "id": "51a2af7c",
   "metadata": {
    "tags": [
     "hide-input"
    ]
   },
   "outputs": [
    {
     "name": "stdout",
     "output_type": "stream",
     "text": [
      "  feature\u001b[m\n",
      "* \u001b[32mmain\u001b[m\n"
     ]
    },
    {
     "name": "stdout",
     "output_type": "stream",
     "text": [
      "* \u001b[32mmain\u001b[m\n"
     ]
    }
   ],
   "source": [
    "git branch"
   ]
  },
  {
   "cell_type": "markdown",
   "id": "94e6104b",
   "metadata": {},
   "source": [
    "```{admonition} What to notice\n",
    ":class: hint\n",
    "- The `feature` branch has been created.\n",
    "- The `*` indicates that the current branch is still `main`.\n",
    "```\n",
    "\n",
    "Since our current branch is `main` if we commit changes, they will be added to the `main` branch and not to the `feature` branch.\n",
    "\n",
    "```{admonition} Test your knowledge\n",
    ":class: tip \n",
    " - List the commit history of the repository.\n",
    "```"
   ]
  },
  {
   "cell_type": "code",
   "execution_count": 10,
   "id": "0231e8ec",
   "metadata": {
    "tags": [
     "hide-input"
    ]
   },
   "outputs": [
    {
     "name": "stdout",
     "output_type": "stream",
     "text": [
      "\u001b[33mcommit 2cc8aac08dc79aaccb3c19693b62d179ed2fd757\u001b[m\u001b[33m (\u001b[m\u001b[1;36mHEAD -> \u001b[m\u001b[1;32mmain\u001b[m\u001b[33m, \u001b[m\u001b[1;32mfeature\u001b[m\u001b[33m)\u001b[m\n",
      "Author: msdp-book <msdp.book@gmail.com>\n",
      "Date:   Sat Mar 2 23:25:59 2024 +0100\n",
      "\n",
      "    Add second line to file1.txt\n",
      "\n",
      "\u001b[33mcommit 20de958a1c7217332659e1ef91ad9822097d9e34\u001b[m\n",
      "Author: msdp-book <msdp.book@gmail.com>\n",
      "Date:   Sat Mar 2 23:25:51 2024 +0100\n",
      "\n",
      "    Create file1.txt with the first line\n"
     ]
    },
    {
     "name": "stdout",
     "output_type": "stream",
     "text": [
      "Author: msdp-book <msdp.book@gmail.com>\n"
     ]
    },
    {
     "name": "stdout",
     "output_type": "stream",
     "text": [
      "Date:   Sat Mar 2 23:25:59 2024 +0100\n"
     ]
    },
    {
     "name": "stdout",
     "output_type": "stream",
     "text": [
      "\n"
     ]
    },
    {
     "name": "stdout",
     "output_type": "stream",
     "text": [
      "    Add second line to file1.txt\n"
     ]
    },
    {
     "name": "stdout",
     "output_type": "stream",
     "text": [
      "\n"
     ]
    },
    {
     "name": "stdout",
     "output_type": "stream",
     "text": [
      "\u001b[33mcommit 20de958a1c7217332659e1ef91ad9822097d9e34\u001b[m\n"
     ]
    },
    {
     "name": "stdout",
     "output_type": "stream",
     "text": [
      "Author: msdp-book <msdp.book@gmail.com>\n"
     ]
    },
    {
     "name": "stdout",
     "output_type": "stream",
     "text": [
      "Date:   Sat Mar 2 23:25:51 2024 +0100\n"
     ]
    },
    {
     "name": "stdout",
     "output_type": "stream",
     "text": [
      "\n"
     ]
    },
    {
     "name": "stdout",
     "output_type": "stream",
     "text": [
      "    Create file1.txt with the first line\n"
     ]
    }
   ],
   "source": [
    "git log"
   ]
  },
  {
   "cell_type": "markdown",
   "id": "51e5dbf1",
   "metadata": {},
   "source": [
    "```{admonition} What to notice\n",
    ":class: hint\n",
    "- As expected, `feature` points to the same commit as `main`.\n",
    "- `HEAD` is pointing to `main`, indicating that the current branch is `main`.\n",
    "```\n",
    "\n",
    "## How does Git store branches?\n",
    "\n",
    "Git stores branches as files within the `.git/refs/heads/` directory. Let's list the files in this directory."
   ]
  },
  {
   "cell_type": "code",
   "execution_count": 11,
   "id": "bed9942e",
   "metadata": {},
   "outputs": [
    {
     "name": "stdout",
     "output_type": "stream",
     "text": [
      "feature  main\n"
     ]
    }
   ],
   "source": [
    "ls .git/refs/heads"
   ]
  },
  {
   "cell_type": "markdown",
   "id": "ccd1e287",
   "metadata": {},
   "source": [
    "A file is created for each branch. Let's look at the contents of the `feature` file."
   ]
  },
  {
   "cell_type": "code",
   "execution_count": 12,
   "id": "e2b06b87",
   "metadata": {},
   "outputs": [
    {
     "name": "stdout",
     "output_type": "stream",
     "text": [
      "2cc8aac08dc79aaccb3c19693b62d179ed2fd757\n"
     ]
    }
   ],
   "source": [
    "cat .git/refs/heads/feature"
   ]
  },
  {
   "cell_type": "markdown",
   "id": "139fb345",
   "metadata": {},
   "source": [
    "The file contains the hash of the commit to which the branch is pointing."
   ]
  },
  {
   "cell_type": "code",
   "execution_count": 13,
   "id": "a64c307f",
   "metadata": {},
   "outputs": [
    {
     "name": "stdout",
     "output_type": "stream",
     "text": [
      "ref: refs/heads/main\n"
     ]
    }
   ],
   "source": [
    "cat .git/HEAD"
   ]
  },
  {
   "cell_type": "markdown",
   "id": "06d971bc",
   "metadata": {},
   "source": [
    "The `HEAD` file contains the reference to the current branch.\n",
    "\n",
    "## Switching to the new branch"
   ]
  },
  {
   "cell_type": "code",
   "execution_count": 14,
   "id": "723d1461",
   "metadata": {},
   "outputs": [
    {
     "name": "stdout",
     "output_type": "stream",
     "text": [
      "Switched to branch 'feature'\n"
     ]
    }
   ],
   "source": [
    "git switch feature"
   ]
  },
  {
   "cell_type": "code",
   "execution_count": 15,
   "id": "adfa0a24",
   "metadata": {},
   "outputs": [
    {
     "name": "stdout",
     "output_type": "stream",
     "text": [
      "* \u001b[32mfeature\u001b[m\n",
      "  main\u001b[m\n"
     ]
    },
    {
     "name": "stdout",
     "output_type": "stream",
     "text": [
      "  main\u001b[m\n"
     ]
    }
   ],
   "source": [
    "git branch"
   ]
  },
  {
   "cell_type": "markdown",
   "id": "23e4485d",
   "metadata": {},
   "source": [
    "```{admonition} What to notice\n",
    ":class: hint\n",
    "- The `*` symbol now indicates that the current branch is `feature`.\n",
    "\n",
    "In VSC:\n",
    "- on the left corner, we see that the active branch is now `feature`.\n",
    "```"
   ]
  },
  {
   "cell_type": "code",
   "execution_count": 16,
   "id": "af08036f",
   "metadata": {},
   "outputs": [
    {
     "name": "stdout",
     "output_type": "stream",
     "text": [
      "\u001b[33mcommit 2cc8aac08dc79aaccb3c19693b62d179ed2fd757\u001b[m\u001b[33m (\u001b[m\u001b[1;36mHEAD -> \u001b[m\u001b[1;32mfeature\u001b[m\u001b[33m, \u001b[m\u001b[1;32mmain\u001b[m\u001b[33m)\u001b[m\n",
      "Author: msdp-book <msdp.book@gmail.com>\n",
      "Date:   Sat Mar 2 23:25:59 2024 +0100\n",
      "\n",
      "    Add second line to file1.txt\n",
      "\n",
      "\u001b[33mcommit 20de958a1c7217332659e1ef91ad9822097d9e34\u001b[m\n",
      "Author: msdp-book <msdp.book@gmail.com>\n",
      "Date:   Sat Mar 2 23:25:51 2024 +0100\n",
      "\n",
      "    Create file1.txt with the first line\n"
     ]
    },
    {
     "name": "stdout",
     "output_type": "stream",
     "text": [
      "Author: msdp-book <msdp.book@gmail.com>\n"
     ]
    },
    {
     "name": "stdout",
     "output_type": "stream",
     "text": [
      "Date:   Sat Mar 2 23:25:59 2024 +0100\n"
     ]
    },
    {
     "name": "stdout",
     "output_type": "stream",
     "text": [
      "\n"
     ]
    },
    {
     "name": "stdout",
     "output_type": "stream",
     "text": [
      "    Add second line to file1.txt\n"
     ]
    },
    {
     "name": "stdout",
     "output_type": "stream",
     "text": [
      "\n"
     ]
    },
    {
     "name": "stdout",
     "output_type": "stream",
     "text": [
      "\u001b[33mcommit 20de958a1c7217332659e1ef91ad9822097d9e34\u001b[m\n"
     ]
    },
    {
     "name": "stdout",
     "output_type": "stream",
     "text": [
      "Author: msdp-book <msdp.book@gmail.com>\n"
     ]
    },
    {
     "name": "stdout",
     "output_type": "stream",
     "text": [
      "Date:   Sat Mar 2 23:25:51 2024 +0100\n"
     ]
    },
    {
     "name": "stdout",
     "output_type": "stream",
     "text": [
      "\n"
     ]
    },
    {
     "name": "stdout",
     "output_type": "stream",
     "text": [
      "    Create file1.txt with the first line\n"
     ]
    }
   ],
   "source": [
    "git log"
   ]
  },
  {
   "cell_type": "markdown",
   "id": "f365759a",
   "metadata": {},
   "source": [
    "```{admonition} What to notice\n",
    ":class: hint\n",
    "- The `feature` branch still points to the same commit as `main`.\n",
    "- `HEAD` is pointing to `feature`, indicating that the current branch is `feature`.\n",
    "```\n",
    "\n",
    "Let's now create our next commit, add a new line to the  `file1.txt` file with the message `This is the third line.` and commit the changes."
   ]
  },
  {
   "cell_type": "code",
   "execution_count": 17,
   "id": "2bc2d553",
   "metadata": {},
   "outputs": [
    {
     "name": "stdout",
     "output_type": "stream",
     "text": [
      "[feature ed3640b] Add third line to file1.txt\n",
      " 1 file changed, 1 insertion(+)\n"
     ]
    },
    {
     "name": "stdout",
     "output_type": "stream",
     "text": [
      " 1 file changed, 1 insertion(+)\n"
     ]
    }
   ],
   "source": [
    "#echo -en \"\\nThis is the third line.\" >> file1.txt\n",
    "echo \"This is the third line.\" >> file1.txt\n",
    "\n",
    "git add file1.txt\n",
    "git commit -m \"Add third line to file1.txt\""
   ]
  },
  {
   "cell_type": "code",
   "execution_count": 18,
   "id": "a8004968",
   "metadata": {},
   "outputs": [
    {
     "name": "stdout",
     "output_type": "stream",
     "text": [
      "\u001b[33mcommit ed3640b0333c585e503c1dd0456ffe898d52bed8\u001b[m\u001b[33m (\u001b[m\u001b[1;36mHEAD -> \u001b[m\u001b[1;32mfeature\u001b[m\u001b[33m)\u001b[m\n",
      "Author: msdp-book <msdp.book@gmail.com>\n",
      "Date:   Sat Mar 2 23:26:01 2024 +0100\n",
      "\n",
      "    Add third line to file1.txt\n",
      "\n",
      "\u001b[33mcommit 2cc8aac08dc79aaccb3c19693b62d179ed2fd757\u001b[m\u001b[33m (\u001b[m\u001b[1;32mmain\u001b[m\u001b[33m)\u001b[m\n",
      "Author: msdp-book <msdp.book@gmail.com>\n",
      "Date:   Sat Mar 2 23:25:59 2024 +0100\n",
      "\n",
      "    Add second line to file1.txt\n",
      "\n",
      "\u001b[33mcommit 20de958a1c7217332659e1ef91ad9822097d9e34\u001b[m\n",
      "Author: msdp-book <msdp.book@gmail.com>\n",
      "Date:   Sat Mar 2 23:25:51 2024 +0100\n",
      "\n",
      "    Create file1.txt with the first line\n"
     ]
    },
    {
     "name": "stdout",
     "output_type": "stream",
     "text": [
      "Author: msdp-book <msdp.book@gmail.com>\n"
     ]
    },
    {
     "name": "stdout",
     "output_type": "stream",
     "text": [
      "Date:   Sat Mar 2 23:26:01 2024 +0100\n"
     ]
    },
    {
     "name": "stdout",
     "output_type": "stream",
     "text": [
      "\n"
     ]
    },
    {
     "name": "stdout",
     "output_type": "stream",
     "text": [
      "    Add third line to file1.txt\n"
     ]
    },
    {
     "name": "stdout",
     "output_type": "stream",
     "text": [
      "\n"
     ]
    },
    {
     "name": "stdout",
     "output_type": "stream",
     "text": [
      "\u001b[33mcommit 2cc8aac08dc79aaccb3c19693b62d179ed2fd757\u001b[m\u001b[33m (\u001b[m\u001b[1;32mmain\u001b[m\u001b[33m)\u001b[m\n"
     ]
    },
    {
     "name": "stdout",
     "output_type": "stream",
     "text": [
      "Author: msdp-book <msdp.book@gmail.com>\n"
     ]
    },
    {
     "name": "stdout",
     "output_type": "stream",
     "text": [
      "Date:   Sat Mar 2 23:25:59 2024 +0100\n"
     ]
    },
    {
     "name": "stdout",
     "output_type": "stream",
     "text": [
      "\n"
     ]
    },
    {
     "name": "stdout",
     "output_type": "stream",
     "text": [
      "    Add second line to file1.txt\n"
     ]
    },
    {
     "name": "stdout",
     "output_type": "stream",
     "text": [
      "\n"
     ]
    },
    {
     "name": "stdout",
     "output_type": "stream",
     "text": [
      "\u001b[33mcommit 20de958a1c7217332659e1ef91ad9822097d9e34\u001b[m\n"
     ]
    },
    {
     "name": "stdout",
     "output_type": "stream",
     "text": [
      "Author: msdp-book <msdp.book@gmail.com>\n"
     ]
    },
    {
     "name": "stdout",
     "output_type": "stream",
     "text": [
      "Date:   Sat Mar 2 23:25:51 2024 +0100\n"
     ]
    },
    {
     "name": "stdout",
     "output_type": "stream",
     "text": [
      "\n"
     ]
    },
    {
     "name": "stdout",
     "output_type": "stream",
     "text": [
      "    Create file1.txt with the first line\n"
     ]
    }
   ],
   "source": [
    "git log"
   ]
  },
  {
   "cell_type": "markdown",
   "id": "1679d8b1",
   "metadata": {},
   "source": [
    "```{admonition} What to notice\n",
    ":class: hint\n",
    "- We have added a new commit to the `feature` branch. \n",
    "- The `feature` branch now points to the new commit. \n",
    "- `HEAD` is pointing to `feature`, indicating that the current branch is `feature`.\n",
    "- The `main` branch still points to the same commit as before. \n",
    "```\n",
    "\n",
    "## The Commit history diagram\n",
    "As the number of commits grows, it becomes harder to keep track of the commit history. This is where representing the commit history with a diagram comes in handy. In our diagram, we will represent commits as circles, branches with boxes and the `HEAD` pointer with a diamond.\n",
    "\n",
    "```{mermaid}\n",
    "flowchart RL\n",
    "    C2((C2)) --> C1((C1))\n",
    "    C3((C3)) --> C2\n",
    "    main --> C2\n",
    "    feature --> C3\n",
    "    HEAD{HEAD} --> feature\n",
    "```"
   ]
  }
 ],
 "metadata": {
  "jupytext": {
   "formats": "md:myst",
   "text_representation": {
    "extension": ".md",
    "format_name": "myst",
    "format_version": 0.13,
    "jupytext_version": "1.11.5"
   }
  },
  "kernelspec": {
   "display_name": "Bash",
   "language": "bash",
   "name": "bash"
  },
  "language_info": {
   "codemirror_mode": "shell",
   "file_extension": ".sh",
   "mimetype": "text/x-sh",
   "name": "bash"
  },
  "source_map": [
   15,
   18,
   35,
   38,
   53,
   56,
   81,
   84,
   93,
   96,
   101,
   103,
   122,
   124,
   134,
   136,
   143,
   146,
   161,
   164,
   176,
   178,
   181,
   183,
   187,
   189,
   194,
   198,
   200,
   210,
   212,
   222,
   230,
   232
  ]
 },
 "nbformat": 4,
 "nbformat_minor": 5
}