{
 "cells": [
  {
   "cell_type": "code",
   "execution_count": 1,
   "id": "ce2eed40",
   "metadata": {
    "tags": [
     "remove-input"
    ]
   },
   "outputs": [
    {
     "name": "stdout",
     "output_type": "stream",
     "text": [
      "bash: cd: home/my-project: No such file or directory\n"
     ]
    },
    {
     "ename": "",
     "evalue": "1",
     "output_type": "error",
     "traceback": []
    }
   ],
   "source": [
    "cd home/my-project"
   ]
  },
  {
   "cell_type": "markdown",
   "id": "067fbaf3",
   "metadata": {},
   "source": [
    "# 1.4 Merging Branches\n",
    "\n",
    "## In practice:\n",
    "In this section, we'll integrate work from `new-branch` back into `main`, exploring different merge strategies.\n",
    "\n",
    "## Types of Merges\n",
    "Understanding the different types of merges in Git is crucial for effective branch management.\n",
    "\n",
    "### Fast-forward merge\n",
    "This merge strategy is used when the target branch can be updated to point to the commit of the source branch without needing to create a new commit.\n",
    "\n",
    "### Three-way merge\n",
    "A three-way merge is used when the two branches have diverged and a new commit is required to reconcile the differences.\n",
    "\n",
    "## Discussion: How do different merges work?\n",
    "\n",
    "### Fast-forward merge\n",
    "To merge two branches, we use `git merge <branch-name>` while in the branch we want to merge into. For a fast-forward merge:"
   ]
  },
  {
   "cell_type": "code",
   "execution_count": 2,
   "id": "a45b6168",
   "metadata": {},
   "outputs": [
    {
     "name": "stdout",
     "output_type": "stream",
     "text": [
      "D\t_build/.doctrees/environment.pickle\n",
      "M\t_toc.yml\n",
      "D\tch1/file1.txt\n",
      "D\tch11.md\n",
      "D\tch12.md\n",
      "D\tch13.md\n",
      "D\tch14.md\n",
      "D\tch15.md\n",
      "D\tch1_introduction_to_version_control.md\n",
      "M\trequirements.txt\n",
      "Switched to branch 'main'\n",
      "Your branch is ahead of 'origin/main' by 1 commit.\n",
      "  (use \"git push\" to publish your local commits)\n",
      "Updating 089f7ed..b463777\n",
      "error: The following untracked working tree files would be overwritten by merge:\n",
      "\tch1/ch11.md\n",
      "\tch1/ch12.md\n",
      "\tch1/ch13.md\n",
      "\tch1/ch14.md\n",
      "\tch1/ch15.md\n",
      "\tch1/ch1_introduction_to_version_control.md\n",
      "Please move or remove them before you merge.\n",
      "Aborting\n",
      "On branch main\n",
      "Your branch is ahead of 'origin/main' by 1 commit.\n",
      "  (use \"git push\" to publish your local commits)\n",
      "\n",
      "Changes not staged for commit:\n",
      "  (use \"git add/rm <file>...\" to update what will be committed)\n",
      "  (use \"git restore <file>...\" to discard changes in working directory)\n",
      "\t\u001b[31mdeleted:    ../_build/.doctrees/environment.pickle\u001b[m\n",
      "\t\u001b[31mmodified:   ../_toc.yml\u001b[m\n",
      "\t\u001b[31mdeleted:    file1.txt\u001b[m\n",
      "\t\u001b[31mdeleted:    ../ch11.md\u001b[m\n",
      "\t\u001b[31mdeleted:    ../ch12.md\u001b[m\n",
      "\t\u001b[31mdeleted:    ../ch13.md\u001b[m\n",
      "\t\u001b[31mdeleted:    ../ch14.md\u001b[m\n",
      "\t\u001b[31mdeleted:    ../ch15.md\u001b[m\n",
      "\t\u001b[31mdeleted:    ../ch1_introduction_to_version_control.md\u001b[m\n",
      "\t\u001b[31mmodified:   ../requirements.txt\u001b[m\n",
      "\n",
      "Untracked files:\n",
      "  (use \"git add <file>...\" to include in what will be committed)\n",
      "\t\u001b[31m../_build/.doctrees/about.doctree\u001b[m\n",
      "\t\u001b[31m../_build/.doctrees/ch1/\u001b[m\n",
      "\t\u001b[31m../_build/jupyter_execute/ch1/\u001b[m\n",
      "\t\u001b[31m../about.md\u001b[m\n",
      "\t\u001b[31mch11.md\u001b[m\n",
      "\t\u001b[31mch12.md\u001b[m\n",
      "\t\u001b[31mch13.md\u001b[m\n",
      "\t\u001b[31mch14.md\u001b[m\n",
      "\t\u001b[31mch15.md\u001b[m\n",
      "\t\u001b[31mch1_introduction_to_version_control.md\u001b[m\n",
      "\n",
      "no changes added to commit (use \"git add\" and/or \"git commit -a\")\n",
      "\u001b[33mcommit 089f7ed655b98fd45b9ea9d270429c56d02aadc9\u001b[m\u001b[33m (\u001b[m\u001b[1;36mHEAD -> \u001b[m\u001b[1;32mmain\u001b[m\u001b[33m, \u001b[m\u001b[1;32mnew-feature-branch\u001b[m\u001b[33m)\u001b[m\n",
      "Author: mcallara <mcallara@gmail.com>\n",
      "Date:   Thu Feb 8 09:02:00 2024 +0100\n",
      "\n",
      "    Add third line to file1.txt\n",
      "\n",
      "\u001b[33mcommit 188ad45f8500fad34cea2ec76a65811217ea23f0\u001b[m\u001b[33m (\u001b[m\u001b[1;31morigin/main\u001b[m\u001b[33m)\u001b[m\n",
      "Author: mcallara <mcallara@gmail.com>\n",
      "Date:   Wed Feb 7 15:48:53 2024 +0100\n",
      "\n",
      "    initial version\n"
     ]
    },
    {
     "name": "stdout",
     "output_type": "stream",
     "text": [
      "M\t_toc.yml\n"
     ]
    },
    {
     "name": "stdout",
     "output_type": "stream",
     "text": [
      "D\tch1/file1.txt\n"
     ]
    },
    {
     "name": "stdout",
     "output_type": "stream",
     "text": [
      "D\tch11.md\n"
     ]
    },
    {
     "name": "stdout",
     "output_type": "stream",
     "text": [
      "D\tch12.md\n"
     ]
    },
    {
     "name": "stdout",
     "output_type": "stream",
     "text": [
      "D\tch13.md\n"
     ]
    },
    {
     "name": "stdout",
     "output_type": "stream",
     "text": [
      "D\tch14.md\n"
     ]
    },
    {
     "name": "stdout",
     "output_type": "stream",
     "text": [
      "D\tch15.md\n"
     ]
    },
    {
     "name": "stdout",
     "output_type": "stream",
     "text": [
      "D\tch1_introduction_to_version_control.md\n"
     ]
    },
    {
     "name": "stdout",
     "output_type": "stream",
     "text": [
      "M\trequirements.txt\n"
     ]
    },
    {
     "name": "stdout",
     "output_type": "stream",
     "text": [
      "Switched to branch 'main'\n"
     ]
    },
    {
     "name": "stdout",
     "output_type": "stream",
     "text": [
      "Your branch is ahead of 'origin/main' by 1 commit.\n"
     ]
    },
    {
     "name": "stdout",
     "output_type": "stream",
     "text": [
      "  (use \"git push\" to publish your local commits)\n"
     ]
    },
    {
     "name": "stdout",
     "output_type": "stream",
     "text": [
      "Updating 089f7ed..b463777\n"
     ]
    },
    {
     "name": "stdout",
     "output_type": "stream",
     "text": [
      "error: The following untracked working tree files would be overwritten by merge:\n"
     ]
    },
    {
     "name": "stdout",
     "output_type": "stream",
     "text": [
      "\tch1/ch11.md\n"
     ]
    },
    {
     "name": "stdout",
     "output_type": "stream",
     "text": [
      "\tch1/ch12.md\n"
     ]
    },
    {
     "name": "stdout",
     "output_type": "stream",
     "text": [
      "\tch1/ch13.md\n"
     ]
    },
    {
     "name": "stdout",
     "output_type": "stream",
     "text": [
      "\tch1/ch14.md\n"
     ]
    },
    {
     "name": "stdout",
     "output_type": "stream",
     "text": [
      "\tch1/ch15.md\n"
     ]
    },
    {
     "name": "stdout",
     "output_type": "stream",
     "text": [
      "\tch1/ch1_introduction_to_version_control.md\n"
     ]
    },
    {
     "name": "stdout",
     "output_type": "stream",
     "text": [
      "Please move or remove them before you merge.\n"
     ]
    },
    {
     "name": "stdout",
     "output_type": "stream",
     "text": [
      "Aborting\n"
     ]
    },
    {
     "name": "stdout",
     "output_type": "stream",
     "text": [
      "On branch main\n"
     ]
    },
    {
     "name": "stdout",
     "output_type": "stream",
     "text": [
      "Your branch is ahead of 'origin/main' by 1 commit.\n"
     ]
    },
    {
     "name": "stdout",
     "output_type": "stream",
     "text": [
      "  (use \"git push\" to publish your local commits)\n"
     ]
    },
    {
     "name": "stdout",
     "output_type": "stream",
     "text": [
      "\n"
     ]
    },
    {
     "name": "stdout",
     "output_type": "stream",
     "text": [
      "Changes not staged for commit:\n"
     ]
    },
    {
     "name": "stdout",
     "output_type": "stream",
     "text": [
      "  (use \"git add/rm <file>...\" to update what will be committed)\n"
     ]
    },
    {
     "name": "stdout",
     "output_type": "stream",
     "text": [
      "  (use \"git restore <file>...\" to discard changes in working directory)\n"
     ]
    },
    {
     "name": "stdout",
     "output_type": "stream",
     "text": [
      "\t\u001b[31mdeleted:    ../_build/.doctrees/environment.pickle\u001b[m\n"
     ]
    },
    {
     "name": "stdout",
     "output_type": "stream",
     "text": [
      "\t\u001b[31mmodified:   ../_toc.yml\u001b[m\n"
     ]
    },
    {
     "name": "stdout",
     "output_type": "stream",
     "text": [
      "\t\u001b[31mdeleted:    file1.txt\u001b[m\n"
     ]
    },
    {
     "name": "stdout",
     "output_type": "stream",
     "text": [
      "\t\u001b[31mdeleted:    ../ch11.md\u001b[m\n"
     ]
    },
    {
     "name": "stdout",
     "output_type": "stream",
     "text": [
      "\t\u001b[31mdeleted:    ../ch12.md\u001b[m\n"
     ]
    },
    {
     "name": "stdout",
     "output_type": "stream",
     "text": [
      "\t\u001b[31mdeleted:    ../ch13.md\u001b[m\n"
     ]
    },
    {
     "name": "stdout",
     "output_type": "stream",
     "text": [
      "\t\u001b[31mdeleted:    ../ch14.md\u001b[m\n"
     ]
    },
    {
     "name": "stdout",
     "output_type": "stream",
     "text": [
      "\t\u001b[31mdeleted:    ../ch15.md\u001b[m\n"
     ]
    },
    {
     "name": "stdout",
     "output_type": "stream",
     "text": [
      "\t\u001b[31mdeleted:    ../ch1_introduction_to_version_control.md\u001b[m\n"
     ]
    },
    {
     "name": "stdout",
     "output_type": "stream",
     "text": [
      "\t\u001b[31mmodified:   ../requirements.txt\u001b[m\n"
     ]
    },
    {
     "name": "stdout",
     "output_type": "stream",
     "text": [
      "\n"
     ]
    },
    {
     "name": "stdout",
     "output_type": "stream",
     "text": [
      "Untracked files:\n"
     ]
    },
    {
     "name": "stdout",
     "output_type": "stream",
     "text": [
      "  (use \"git add <file>...\" to include in what will be committed)\n"
     ]
    },
    {
     "name": "stdout",
     "output_type": "stream",
     "text": [
      "\t\u001b[31m../_build/.doctrees/about.doctree\u001b[m\n"
     ]
    },
    {
     "name": "stdout",
     "output_type": "stream",
     "text": [
      "\t\u001b[31m../_build/.doctrees/ch1/\u001b[m\n"
     ]
    },
    {
     "name": "stdout",
     "output_type": "stream",
     "text": [
      "\t\u001b[31m../_build/jupyter_execute/ch1/\u001b[m\n"
     ]
    },
    {
     "name": "stdout",
     "output_type": "stream",
     "text": [
      "\t\u001b[31m../about.md\u001b[m\n"
     ]
    },
    {
     "name": "stdout",
     "output_type": "stream",
     "text": [
      "\t\u001b[31mch11.md\u001b[m\n"
     ]
    },
    {
     "name": "stdout",
     "output_type": "stream",
     "text": [
      "\t\u001b[31mch12.md\u001b[m\n"
     ]
    },
    {
     "name": "stdout",
     "output_type": "stream",
     "text": [
      "\t\u001b[31mch13.md\u001b[m\n"
     ]
    },
    {
     "name": "stdout",
     "output_type": "stream",
     "text": [
      "\t\u001b[31mch14.md\u001b[m\n"
     ]
    },
    {
     "name": "stdout",
     "output_type": "stream",
     "text": [
      "\t\u001b[31mch15.md\u001b[m\n"
     ]
    },
    {
     "name": "stdout",
     "output_type": "stream",
     "text": [
      "\t\u001b[31mch1_introduction_to_version_control.md\u001b[m\n"
     ]
    },
    {
     "name": "stdout",
     "output_type": "stream",
     "text": [
      "\n"
     ]
    },
    {
     "name": "stdout",
     "output_type": "stream",
     "text": [
      "no changes added to commit (use \"git add\" and/or \"git commit -a\")\n"
     ]
    },
    {
     "name": "stdout",
     "output_type": "stream",
     "text": [
      "\u001b[33mcommit 089f7ed655b98fd45b9ea9d270429c56d02aadc9\u001b[m\u001b[33m (\u001b[m\u001b[1;36mHEAD -> \u001b[m\u001b[1;32mmain\u001b[m\u001b[33m, \u001b[m\u001b[1;32mnew-feature-branch\u001b[m\u001b[33m)\u001b[m\n"
     ]
    },
    {
     "name": "stdout",
     "output_type": "stream",
     "text": [
      "Author: mcallara <mcallara@gmail.com>\n"
     ]
    },
    {
     "name": "stdout",
     "output_type": "stream",
     "text": [
      "Date:   Thu Feb 8 09:02:00 2024 +0100\n"
     ]
    },
    {
     "name": "stdout",
     "output_type": "stream",
     "text": [
      "\n"
     ]
    },
    {
     "name": "stdout",
     "output_type": "stream",
     "text": [
      "    Add third line to file1.txt\n"
     ]
    },
    {
     "name": "stdout",
     "output_type": "stream",
     "text": [
      "\n"
     ]
    },
    {
     "name": "stdout",
     "output_type": "stream",
     "text": [
      "\u001b[33mcommit 188ad45f8500fad34cea2ec76a65811217ea23f0\u001b[m\u001b[33m (\u001b[m\u001b[1;31morigin/main\u001b[m\u001b[33m)\u001b[m\n"
     ]
    },
    {
     "name": "stdout",
     "output_type": "stream",
     "text": [
      "Author: mcallara <mcallara@gmail.com>\n"
     ]
    },
    {
     "name": "stdout",
     "output_type": "stream",
     "text": [
      "Date:   Wed Feb 7 15:48:53 2024 +0100\n"
     ]
    },
    {
     "name": "stdout",
     "output_type": "stream",
     "text": [
      "\n"
     ]
    },
    {
     "name": "stdout",
     "output_type": "stream",
     "text": [
      "    initial version\n"
     ]
    }
   ],
   "source": [
    "git switch main\n",
    "git merge new-branch\n",
    "git status\n",
    "git log"
   ]
  },
  {
   "cell_type": "markdown",
   "id": "ee4f3a39",
   "metadata": {},
   "source": [
    "```{admonition} What to notice\n",
    ":class: hint\n",
    "The `HEAD` of `main` is now pointing to the same commit as `new-branch`.\n",
    "```\n",
    "\n",
    "Switching branches may change the working directory, especially if they point to different commits.\n",
    "\n",
    "## Exercise: Switching and Committing"
   ]
  },
  {
   "cell_type": "code",
   "execution_count": 3,
   "id": "a08f236e",
   "metadata": {},
   "outputs": [
    {
     "name": "stdout",
     "output_type": "stream",
     "text": [
      "error: The following untracked working tree files would be overwritten by checkout:\n",
      "\tch1/ch11.md\n",
      "\tch1/ch12.md\n",
      "\tch1/ch13.md\n",
      "\tch1/ch14.md\n",
      "\tch1/ch15.md\n",
      "\tch1/ch1_introduction_to_version_control.md\n",
      "Please move or remove them before you switch branches.\n",
      "Aborting\n",
      "[main e91a414] Add file2 and modify file1\n",
      " 8 files changed, 660 insertions(+), 2 deletions(-)\n",
      " create mode 100644 ch1/ch11.md\n",
      " create mode 100644 ch1/ch12.md\n",
      " create mode 100644 ch1/ch13.md\n",
      " create mode 100644 ch1/ch14.md\n",
      " create mode 100644 ch1/ch15.md\n",
      " create mode 100644 ch1/ch1_introduction_to_version_control.md\n",
      " create mode 100644 ch1/file2.txt\n",
      "D\t_build/.doctrees/environment.pickle\n",
      "M\t_toc.yml\n",
      "D\tch11.md\n",
      "D\tch12.md\n",
      "D\tch13.md\n",
      "D\tch14.md\n",
      "D\tch15.md\n",
      "D\tch1_introduction_to_version_control.md\n",
      "M\trequirements.txt\n",
      "Already on 'main'\n",
      "Your branch is ahead of 'origin/main' by 2 commits.\n",
      "  (use \"git push\" to publish your local commits)\n"
     ]
    },
    {
     "name": "stdout",
     "output_type": "stream",
     "text": [
      "\tch1/ch11.md\n"
     ]
    },
    {
     "name": "stdout",
     "output_type": "stream",
     "text": [
      "\tch1/ch12.md\n"
     ]
    },
    {
     "name": "stdout",
     "output_type": "stream",
     "text": [
      "\tch1/ch13.md\n"
     ]
    },
    {
     "name": "stdout",
     "output_type": "stream",
     "text": [
      "\tch1/ch14.md\n"
     ]
    },
    {
     "name": "stdout",
     "output_type": "stream",
     "text": [
      "\tch1/ch15.md\n"
     ]
    },
    {
     "name": "stdout",
     "output_type": "stream",
     "text": [
      "\tch1/ch1_introduction_to_version_control.md\n"
     ]
    },
    {
     "name": "stdout",
     "output_type": "stream",
     "text": [
      "Please move or remove them before you switch branches.\n"
     ]
    },
    {
     "name": "stdout",
     "output_type": "stream",
     "text": [
      "Aborting\n"
     ]
    },
    {
     "name": "stdout",
     "output_type": "stream",
     "text": [
      "[main e91a414] Add file2 and modify file1\n"
     ]
    },
    {
     "name": "stdout",
     "output_type": "stream",
     "text": [
      " 8 files changed, 660 insertions(+), 2 deletions(-)\n"
     ]
    },
    {
     "name": "stdout",
     "output_type": "stream",
     "text": [
      " create mode 100644 ch1/ch11.md\n"
     ]
    },
    {
     "name": "stdout",
     "output_type": "stream",
     "text": [
      " create mode 100644 ch1/ch12.md\n"
     ]
    },
    {
     "name": "stdout",
     "output_type": "stream",
     "text": [
      " create mode 100644 ch1/ch13.md\n"
     ]
    },
    {
     "name": "stdout",
     "output_type": "stream",
     "text": [
      " create mode 100644 ch1/ch14.md\n"
     ]
    },
    {
     "name": "stdout",
     "output_type": "stream",
     "text": [
      " create mode 100644 ch1/ch15.md\n"
     ]
    },
    {
     "name": "stdout",
     "output_type": "stream",
     "text": [
      " create mode 100644 ch1/ch1_introduction_to_version_control.md\n"
     ]
    },
    {
     "name": "stdout",
     "output_type": "stream",
     "text": [
      " create mode 100644 ch1/file2.txt\n"
     ]
    },
    {
     "name": "stdout",
     "output_type": "stream",
     "text": [
      "D\t_build/.doctrees/environment.pickle\n"
     ]
    },
    {
     "name": "stdout",
     "output_type": "stream",
     "text": [
      "M\t_toc.yml\n"
     ]
    },
    {
     "name": "stdout",
     "output_type": "stream",
     "text": [
      "D\tch11.md\n"
     ]
    },
    {
     "name": "stdout",
     "output_type": "stream",
     "text": [
      "D\tch12.md\n"
     ]
    },
    {
     "name": "stdout",
     "output_type": "stream",
     "text": [
      "D\tch13.md\n"
     ]
    },
    {
     "name": "stdout",
     "output_type": "stream",
     "text": [
      "D\tch14.md\n"
     ]
    },
    {
     "name": "stdout",
     "output_type": "stream",
     "text": [
      "D\tch15.md\n"
     ]
    },
    {
     "name": "stdout",
     "output_type": "stream",
     "text": [
      "D\tch1_introduction_to_version_control.md\n"
     ]
    },
    {
     "name": "stdout",
     "output_type": "stream",
     "text": [
      "M\trequirements.txt\n"
     ]
    },
    {
     "name": "stdout",
     "output_type": "stream",
     "text": [
      "Already on 'main'\n"
     ]
    },
    {
     "name": "stdout",
     "output_type": "stream",
     "text": [
      "Your branch is ahead of 'origin/main' by 2 commits.\n"
     ]
    },
    {
     "name": "stdout",
     "output_type": "stream",
     "text": [
      "  (use \"git push\" to publish your local commits)\n"
     ]
    }
   ],
   "source": [
    "git switch new-branch\n",
    "touch file2.txt\n",
    "echo -n \"This is file 2.\" >> file2.txt\n",
    "echo -en \"\\nThis is the fourth line.\" >> file1.txt\n",
    "git add .\n",
    "git commit -m \"Add file2 and modify file1\"\n",
    "git switch main"
   ]
  },
  {
   "cell_type": "markdown",
   "id": "0911448e",
   "metadata": {},
   "source": [
    "```{admonition} What to notice\n",
    ":class: hint\n",
    "The working directory content changes when switching branches.\n",
    "```\n",
    "\n",
    "Git prevents loss of work by disallowing branch switching with uncommitted changes.\n",
    "\n",
    "## Exercise: Preventing Data Loss"
   ]
  },
  {
   "cell_type": "code",
   "execution_count": 4,
   "id": "d16b2a73",
   "metadata": {},
   "outputs": [
    {
     "name": "stdout",
     "output_type": "stream",
     "text": [
      "D\t_build/.doctrees/environment.pickle\n",
      "M\t_toc.yml\n",
      "D\tch11.md\n",
      "D\tch12.md\n",
      "D\tch13.md\n",
      "D\tch14.md\n",
      "D\tch15.md\n",
      "D\tch1_introduction_to_version_control.md\n",
      "M\trequirements.txt\n",
      "Switched to branch 'new-branch'\n",
      "error: Your local changes to the following files would be overwritten by checkout:\n",
      "\tch1/file1.txt\n",
      "Please commit your changes or stash them before you switch branches.\n",
      "Aborting\n"
     ]
    },
    {
     "name": "stdout",
     "output_type": "stream",
     "text": [
      "M\t_toc.yml\n"
     ]
    },
    {
     "name": "stdout",
     "output_type": "stream",
     "text": [
      "D\tch11.md\n"
     ]
    },
    {
     "name": "stdout",
     "output_type": "stream",
     "text": [
      "D\tch12.md\n"
     ]
    },
    {
     "name": "stdout",
     "output_type": "stream",
     "text": [
      "D\tch13.md\n"
     ]
    },
    {
     "name": "stdout",
     "output_type": "stream",
     "text": [
      "D\tch14.md\n"
     ]
    },
    {
     "name": "stdout",
     "output_type": "stream",
     "text": [
      "D\tch15.md\n"
     ]
    },
    {
     "name": "stdout",
     "output_type": "stream",
     "text": [
      "D\tch1_introduction_to_version_control.md\n"
     ]
    },
    {
     "name": "stdout",
     "output_type": "stream",
     "text": [
      "M\trequirements.txt\n"
     ]
    },
    {
     "name": "stdout",
     "output_type": "stream",
     "text": [
      "Switched to branch 'new-branch'\n"
     ]
    },
    {
     "name": "stdout",
     "output_type": "stream",
     "text": [
      "error: Your local changes to the following files would be overwritten by checkout:\n"
     ]
    },
    {
     "name": "stdout",
     "output_type": "stream",
     "text": [
      "\tch1/file1.txt\n"
     ]
    },
    {
     "name": "stdout",
     "output_type": "stream",
     "text": [
      "Please commit your changes or stash them before you switch branches.\n"
     ]
    },
    {
     "name": "stdout",
     "output_type": "stream",
     "text": [
      "Aborting\n"
     ]
    },
    {
     "ename": "",
     "evalue": "1",
     "output_type": "error",
     "traceback": []
    }
   ],
   "source": [
    "git switch new-branch\n",
    "echo -en \"\\nThis is the fifth line.\" >> file1.txt\n",
    "git switch main"
   ]
  },
  {
   "cell_type": "markdown",
   "id": "e3e125e8",
   "metadata": {},
   "source": [
    "```{admonition} What to notice\n",
    ":class: hint\n",
    "Git will not allow branch switching with uncommitted changes to protect against data loss.\n",
    "```\n",
    "\n",
    "## Note on Staging\n",
    "Changes made after staging are not automatically included in the staged snapshot.\n",
    "\n",
    "## Exercise: Staging and Modifying"
   ]
  },
  {
   "cell_type": "code",
   "execution_count": 5,
   "id": "a6430fc7",
   "metadata": {},
   "outputs": [
    {
     "name": "stdout",
     "output_type": "stream",
     "text": [
      "[new-branch 6fe4564] Add fifth and sixth lines to file1.txt\n",
      " 1 file changed, 2 insertions(+)\n"
     ]
    },
    {
     "name": "stdout",
     "output_type": "stream",
     "text": [
      " 1 file changed, 2 insertions(+)\n"
     ]
    }
   ],
   "source": [
    "git add file1.txt\n",
    "echo -en \"\\nThis is the sixth line.\" >> file1.txt\n",
    "git add file1.txt\n",
    "git commit -m \"Add fifth and sixth lines to file1.txt\""
   ]
  },
  {
   "cell_type": "markdown",
   "id": "dd5d9381",
   "metadata": {},
   "source": [
    "## Viewing All Commits"
   ]
  },
  {
   "cell_type": "code",
   "execution_count": 6,
   "id": "20f42e8d",
   "metadata": {},
   "outputs": [
    {
     "name": "stdout",
     "output_type": "stream",
     "text": [
      "D\t_build/.doctrees/environment.pickle\n",
      "M\t_toc.yml\n",
      "D\tch11.md\n",
      "D\tch12.md\n",
      "D\tch13.md\n",
      "D\tch14.md\n",
      "D\tch15.md\n",
      "D\tch1_introduction_to_version_control.md\n",
      "M\trequirements.txt\n",
      "Switched to branch 'main'\n",
      "Your branch is ahead of 'origin/main' by 2 commits.\n",
      "  (use \"git push\" to publish your local commits)\n",
      "\u001b[33mcommit e91a414cd6a277c2b1f1d62864f7c6cdf8ad2cad\u001b[m\u001b[33m (\u001b[m\u001b[1;36mHEAD -> \u001b[m\u001b[1;32mmain\u001b[m\u001b[33m)\u001b[m\n",
      "Author: mcallara <mcallara@gmail.com>\n",
      "Date:   Thu Feb 8 09:07:15 2024 +0100\n",
      "\n",
      "    Add file2 and modify file1\n",
      "\n",
      "\u001b[33mcommit 6fe4564de0879304221f9138421519756fbaa218\u001b[m\u001b[33m (\u001b[m\u001b[1;32mnew-branch\u001b[m\u001b[33m)\u001b[m\n",
      "Author: mcallara <mcallara@gmail.com>\n",
      "Date:   Thu Feb 8 09:07:15 2024 +0100\n",
      "\n",
      "    Add fifth and sixth lines to file1.txt\n",
      "\n",
      "\u001b[33mcommit b463777031e9afefdd768b100da12deca5dbdcdd\u001b[m\n",
      "Author: mcallara <mcallara@gmail.com>\n",
      "Date:   Thu Feb 8 09:02:05 2024 +0100\n",
      "\n",
      "    Add fifth and sixth lines to file1.txt\n",
      "\n",
      "\u001b[33mcommit 05afa652d76eefa2983d990e713636268cff76ac\u001b[m\n",
      "Author: mcallara <mcallara@gmail.com>\n",
      "Date:   Thu Feb 8 09:02:05 2024 +0100\n",
      "\n",
      "    Add file2 and modify file1\n",
      "\n",
      "\u001b[33mcommit 089f7ed655b98fd45b9ea9d270429c56d02aadc9\u001b[m\u001b[33m (\u001b[m\u001b[1;32mnew-feature-branch\u001b[m\u001b[33m)\u001b[m\n",
      "Author: mcallara <mcallara@gmail.com>\n",
      "Date:   Thu Feb 8 09:02:00 2024 +0100\n",
      "\n",
      "    Add third line to file1.txt\n",
      "\n",
      "\u001b[33mcommit 5ff85b937808e587fb11d82fa2b770b9b60b28d8\u001b[m\u001b[33m (\u001b[m\u001b[1;31morigin/gh-pages\u001b[m\u001b[33m, \u001b[m\u001b[1;32mgh-pages\u001b[m\u001b[33m)\u001b[m\n",
      "Author: mcallara <mcallara@gmail.com>\n",
      "Date:   Wed Feb 7 15:50:18 2024 +0100\n",
      "\n",
      "    Update documentation\n",
      "\n",
      "\u001b[33mcommit 188ad45f8500fad34cea2ec76a65811217ea23f0\u001b[m\u001b[33m (\u001b[m\u001b[1;31morigin/main\u001b[m\u001b[33m)\u001b[m\n",
      "Author: mcallara <mcallara@gmail.com>\n",
      "Date:   Wed Feb 7 15:48:53 2024 +0100\n",
      "\n",
      "    initial version\n"
     ]
    },
    {
     "name": "stdout",
     "output_type": "stream",
     "text": [
      "M\t_toc.yml\n"
     ]
    },
    {
     "name": "stdout",
     "output_type": "stream",
     "text": [
      "D\tch11.md\n"
     ]
    },
    {
     "name": "stdout",
     "output_type": "stream",
     "text": [
      "D\tch12.md\n"
     ]
    },
    {
     "name": "stdout",
     "output_type": "stream",
     "text": [
      "D\tch13.md\n"
     ]
    },
    {
     "name": "stdout",
     "output_type": "stream",
     "text": [
      "D\tch14.md\n"
     ]
    },
    {
     "name": "stdout",
     "output_type": "stream",
     "text": [
      "D\tch15.md\n"
     ]
    },
    {
     "name": "stdout",
     "output_type": "stream",
     "text": [
      "D\tch1_introduction_to_version_control.md\n"
     ]
    },
    {
     "name": "stdout",
     "output_type": "stream",
     "text": [
      "M\trequirements.txt\n"
     ]
    },
    {
     "name": "stdout",
     "output_type": "stream",
     "text": [
      "Switched to branch 'main'\n"
     ]
    },
    {
     "name": "stdout",
     "output_type": "stream",
     "text": [
      "Your branch is ahead of 'origin/main' by 2 commits.\n"
     ]
    },
    {
     "name": "stdout",
     "output_type": "stream",
     "text": [
      "  (use \"git push\" to publish your local commits)\n"
     ]
    },
    {
     "name": "stdout",
     "output_type": "stream",
     "text": [
      "\u001b[33mcommit e91a414cd6a277c2b1f1d62864f7c6cdf8ad2cad\u001b[m\u001b[33m (\u001b[m\u001b[1;36mHEAD -> \u001b[m\u001b[1;32mmain\u001b[m\u001b[33m)\u001b[m\n"
     ]
    },
    {
     "name": "stdout",
     "output_type": "stream",
     "text": [
      "Author: mcallara <mcallara@gmail.com>\n"
     ]
    },
    {
     "name": "stdout",
     "output_type": "stream",
     "text": [
      "Date:   Thu Feb 8 09:07:15 2024 +0100\n"
     ]
    },
    {
     "name": "stdout",
     "output_type": "stream",
     "text": [
      "\n"
     ]
    },
    {
     "name": "stdout",
     "output_type": "stream",
     "text": [
      "    Add file2 and modify file1\n"
     ]
    },
    {
     "name": "stdout",
     "output_type": "stream",
     "text": [
      "\n"
     ]
    },
    {
     "name": "stdout",
     "output_type": "stream",
     "text": [
      "\u001b[33mcommit 6fe4564de0879304221f9138421519756fbaa218\u001b[m\u001b[33m (\u001b[m\u001b[1;32mnew-branch\u001b[m\u001b[33m)\u001b[m\n"
     ]
    },
    {
     "name": "stdout",
     "output_type": "stream",
     "text": [
      "Author: mcallara <mcallara@gmail.com>\n"
     ]
    },
    {
     "name": "stdout",
     "output_type": "stream",
     "text": [
      "Date:   Thu Feb 8 09:07:15 2024 +0100\n"
     ]
    },
    {
     "name": "stdout",
     "output_type": "stream",
     "text": [
      "\n"
     ]
    },
    {
     "name": "stdout",
     "output_type": "stream",
     "text": [
      "    Add fifth and sixth lines to file1.txt\n"
     ]
    },
    {
     "name": "stdout",
     "output_type": "stream",
     "text": [
      "\n"
     ]
    },
    {
     "name": "stdout",
     "output_type": "stream",
     "text": [
      "\u001b[33mcommit b463777031e9afefdd768b100da12deca5dbdcdd\u001b[m\n"
     ]
    },
    {
     "name": "stdout",
     "output_type": "stream",
     "text": [
      "Author: mcallara <mcallara@gmail.com>\n"
     ]
    },
    {
     "name": "stdout",
     "output_type": "stream",
     "text": [
      "Date:   Thu Feb 8 09:02:05 2024 +0100\n"
     ]
    },
    {
     "name": "stdout",
     "output_type": "stream",
     "text": [
      "\n"
     ]
    },
    {
     "name": "stdout",
     "output_type": "stream",
     "text": [
      "    Add fifth and sixth lines to file1.txt\n"
     ]
    },
    {
     "name": "stdout",
     "output_type": "stream",
     "text": [
      "\n"
     ]
    },
    {
     "name": "stdout",
     "output_type": "stream",
     "text": [
      "\u001b[33mcommit 05afa652d76eefa2983d990e713636268cff76ac\u001b[m\n"
     ]
    },
    {
     "name": "stdout",
     "output_type": "stream",
     "text": [
      "Author: mcallara <mcallara@gmail.com>\n"
     ]
    },
    {
     "name": "stdout",
     "output_type": "stream",
     "text": [
      "Date:   Thu Feb 8 09:02:05 2024 +0100\n"
     ]
    },
    {
     "name": "stdout",
     "output_type": "stream",
     "text": [
      "\n"
     ]
    },
    {
     "name": "stdout",
     "output_type": "stream",
     "text": [
      "    Add file2 and modify file1\n"
     ]
    },
    {
     "name": "stdout",
     "output_type": "stream",
     "text": [
      "\n"
     ]
    },
    {
     "name": "stdout",
     "output_type": "stream",
     "text": [
      "\u001b[33mcommit 089f7ed655b98fd45b9ea9d270429c56d02aadc9\u001b[m\u001b[33m (\u001b[m\u001b[1;32mnew-feature-branch\u001b[m\u001b[33m)\u001b[m\n"
     ]
    },
    {
     "name": "stdout",
     "output_type": "stream",
     "text": [
      "Author: mcallara <mcallara@gmail.com>\n"
     ]
    },
    {
     "name": "stdout",
     "output_type": "stream",
     "text": [
      "Date:   Thu Feb 8 09:02:00 2024 +0100\n"
     ]
    },
    {
     "name": "stdout",
     "output_type": "stream",
     "text": [
      "\n"
     ]
    },
    {
     "name": "stdout",
     "output_type": "stream",
     "text": [
      "    Add third line to file1.txt\n"
     ]
    },
    {
     "name": "stdout",
     "output_type": "stream",
     "text": [
      "\n"
     ]
    },
    {
     "name": "stdout",
     "output_type": "stream",
     "text": [
      "\u001b[33mcommit 5ff85b937808e587fb11d82fa2b770b9b60b28d8\u001b[m\u001b[33m (\u001b[m\u001b[1;31morigin/gh-pages\u001b[m\u001b[33m, \u001b[m\u001b[1;32mgh-pages\u001b[m\u001b[33m)\u001b[m\n"
     ]
    },
    {
     "name": "stdout",
     "output_type": "stream",
     "text": [
      "Author: mcallara <mcallara@gmail.com>\n"
     ]
    },
    {
     "name": "stdout",
     "output_type": "stream",
     "text": [
      "Date:   Wed Feb 7 15:50:18 2024 +0100\n"
     ]
    },
    {
     "name": "stdout",
     "output_type": "stream",
     "text": [
      "\n"
     ]
    },
    {
     "name": "stdout",
     "output_type": "stream",
     "text": [
      "    Update documentation\n"
     ]
    },
    {
     "name": "stdout",
     "output_type": "stream",
     "text": [
      "\n"
     ]
    },
    {
     "name": "stdout",
     "output_type": "stream",
     "text": [
      "\u001b[33mcommit 188ad45f8500fad34cea2ec76a65811217ea23f0\u001b[m\u001b[33m (\u001b[m\u001b[1;31morigin/main\u001b[m\u001b[33m)\u001b[m\n"
     ]
    },
    {
     "name": "stdout",
     "output_type": "stream",
     "text": [
      "Author: mcallara <mcallara@gmail.com>\n"
     ]
    },
    {
     "name": "stdout",
     "output_type": "stream",
     "text": [
      "Date:   Wed Feb 7 15:48:53 2024 +0100\n"
     ]
    },
    {
     "name": "stdout",
     "output_type": "stream",
     "text": [
      "\n"
     ]
    },
    {
     "name": "stdout",
     "output_type": "stream",
     "text": [
      "    initial version\n"
     ]
    }
   ],
   "source": [
    "git switch main\n",
    "git log --all"
   ]
  },
  {
   "cell_type": "markdown",
   "id": "ca163249",
   "metadata": {},
   "source": [
    "```{admonition} What to notice\n",
    ":class: hint\n",
    "Commits from `new-branch` are visible with `git log --all`, showing the comprehensive history across branches.\n",
    "```\n",
    "\n",
    "## Detached HEAD State\n",
    "Exploring commits directly can lead to a detached HEAD state, which means you're no longer working on the tip of a branch.\n",
    "\n",
    "## Creating and Switching Branches\n",
    "Git offers shortcuts to create a new branch and switch to it in one operation, enhancing workflow efficiency."
   ]
  },
  {
   "cell_type": "code",
   "execution_count": 7,
   "id": "7f357c52",
   "metadata": {},
   "outputs": [
    {
     "name": "stdout",
     "output_type": "stream",
     "text": [
      "fatal: A branch named 'new-feature-branch' already exists.\n"
     ]
    },
    {
     "ename": "",
     "evalue": "128",
     "output_type": "error",
     "traceback": []
    }
   ],
   "source": [
    "git switch -c new-feature-branch"
   ]
  },
  {
   "cell_type": "markdown",
   "id": "c36df3b4",
   "metadata": {},
   "source": [
    "This chapter provides practical exercises to understand merging strategies, branch management, and Git's protections against data loss."
   ]
  }
 ],
 "metadata": {
  "jupytext": {
   "formats": "md:myst",
   "text_representation": {
    "extension": ".md",
    "format_name": "myst",
    "format_version": 0.13,
    "jupytext_version": "1.11.5"
   }
  },
  "kernelspec": {
   "display_name": "Bash",
   "language": "bash",
   "name": "bash"
  },
  "language_info": {
   "codemirror_mode": "shell",
   "file_extension": ".sh",
   "mimetype": "text/x-sh",
   "name": "bash"
  },
  "source_map": [
   14,
   17,
   38,
   43,
   53,
   61,
   71,
   75,
   86,
   91,
   94,
   97,
   110,
   112
  ]
 },
 "nbformat": 4,
 "nbformat_minor": 5
}