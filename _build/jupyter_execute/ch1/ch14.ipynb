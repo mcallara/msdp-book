{
 "cells": [
  {
   "cell_type": "code",
   "execution_count": 1,
   "id": "7dfd0e5a",
   "metadata": {
    "tags": [
     "remove-input"
    ]
   },
   "outputs": [],
   "source": [
    "cd ../home/ch1/my-project"
   ]
  },
  {
   "cell_type": "markdown",
   "id": "9937e8c9",
   "metadata": {},
   "source": [
    "# 1.4 Merging Branches\n",
    "In this section, we'll see how to integrate work from the `feature` branch back into the `main` branch.\n",
    "\n",
    "## Types of Merges\n",
    "The two most common merge strategies are fast-forward and three-way merges:\n",
    "- Fast-forward merge: This merge strategy is used when the target branch can be updated to point to the commit of the source branch without needing to create a new commit.\n",
    "- Three-way merge: A three-way merge is used when the two branches have diverged and a new commit is required to reconcile the differences.\n",
    "\n",
    "### Fast-forward merge\n",
    "Let's first understand visually how a fast-forward merge of the `feature` branch into `main` would look like by comparing the current state of the repository with the state after the merge.\n",
    "\n",
    "This is how the repository looks like now:\n",
    "\n",
    "```{mermaid}\n",
    "flowchart RL\n",
    "    C2((C2)) --> C1((C1))\n",
    "    C3((C3)) --> C2\n",
    "    main --> C2\n",
    "    feature --> C3\n",
    "    HEAD{HEAD} --> feature\n",
    "```\n",
    "\n",
    "How can we incorporate the changes from `feature` into `main`? If we look at the commit history, we can see that `main` is behind `feature` by one commit. To update `main` with the changes from `feature`, we can simply move the `main` pointer to the same commit as `feature`. This is possible whenever you can update a branch to match another by advancing its pointer through the commit history until it reaches the same commit. This process is known as a 'fast-forward' because it involves moving the pointer forward to the commit of the other branch without creating a new merge commit.\n",
    "\n",
    "So after the fast-forward merge, the repository would look like this:\n",
    "\n",
    "```{mermaid}\n",
    "flowchart RL\n",
    "    C2((C2)) --> C1((C1))\n",
    "    C3((C3)) --> C2\n",
    "    main --> C3\n",
    "    feature --> C3\n",
    "    HEAD{HEAD} --> main\n",
    "```\n",
    "\n",
    "```{admonition} What to notice\n",
    ":class: hint\n",
    "- Since `main` was behind `feature` by one commit, the `main` pointer was simply moved to the same commit as `feature` and now it points to `C3`.\n",
    "- `feature` still points to `C3`.\n",
    "- `HEAD` now points to `main` since in order to do the merge we had to switch first to `main`.\n",
    "```\n",
    "\n",
    "Now that we understand what a fast-forward merge is, let's see how to do it in Git. To perform a fast-forward merge, first switch to the branch you want to merge into, and then merge the other branch into it using `git merge <branch-name>`. For example, to merge `feature` into `main`:"
   ]
  },
  {
   "cell_type": "code",
   "execution_count": 2,
   "id": "f3372bb7",
   "metadata": {},
   "outputs": [
    {
     "name": "stdout",
     "output_type": "stream",
     "text": [
      "Switched to branch 'main'\n"
     ]
    }
   ],
   "source": [
    "git switch main"
   ]
  },
  {
   "cell_type": "code",
   "execution_count": 3,
   "id": "b48f5e32",
   "metadata": {},
   "outputs": [
    {
     "name": "stdout",
     "output_type": "stream",
     "text": [
      "Updating 2cc8aac..ed3640b\n",
      "Fast-forward\n",
      " file1.txt | 1 \u001b[32m+\u001b[m\n",
      " 1 file changed, 1 insertion(+)\n"
     ]
    },
    {
     "name": "stdout",
     "output_type": "stream",
     "text": [
      "Fast-forward\n"
     ]
    },
    {
     "name": "stdout",
     "output_type": "stream",
     "text": [
      " file1.txt | 1 \u001b[32m+\u001b[m\n"
     ]
    },
    {
     "name": "stdout",
     "output_type": "stream",
     "text": [
      " 1 file changed, 1 insertion(+)\n"
     ]
    }
   ],
   "source": [
    "git merge feature"
   ]
  },
  {
   "cell_type": "markdown",
   "id": "dd7c5809",
   "metadata": {},
   "source": [
    "```{admonition} What to notice\n",
    ":class: hint\n",
    "- Git tell us that there was one file changed, file1.txt, and that there was 1 insertions (which we know is the third line).\n",
    "```"
   ]
  },
  {
   "cell_type": "code",
   "execution_count": 4,
   "id": "abd7b80d",
   "metadata": {},
   "outputs": [
    {
     "name": "stdout",
     "output_type": "stream",
     "text": [
      "On branch main\n",
      "nothing to commit, working tree clean\n"
     ]
    },
    {
     "name": "stdout",
     "output_type": "stream",
     "text": [
      "nothing to commit, working tree clean\n"
     ]
    }
   ],
   "source": [
    "git status"
   ]
  },
  {
   "cell_type": "markdown",
   "id": "bf47e8dd",
   "metadata": {},
   "source": [
    "After the fast-forward merge, there are no changes to commit, the working tree is clean."
   ]
  },
  {
   "cell_type": "code",
   "execution_count": 5,
   "id": "66c2f034",
   "metadata": {},
   "outputs": [
    {
     "name": "stdout",
     "output_type": "stream",
     "text": [
      "\u001b[33mcommit ed3640b0333c585e503c1dd0456ffe898d52bed8\u001b[m\u001b[33m (\u001b[m\u001b[1;36mHEAD -> \u001b[m\u001b[1;32mmain\u001b[m\u001b[33m, \u001b[m\u001b[1;32mfeature\u001b[m\u001b[33m)\u001b[m\n",
      "Author: msdp-book <msdp.book@gmail.com>\n",
      "Date:   Sat Mar 2 23:26:01 2024 +0100\n",
      "\n",
      "    Add third line to file1.txt\n",
      "\n",
      "\u001b[33mcommit 2cc8aac08dc79aaccb3c19693b62d179ed2fd757\u001b[m\n",
      "Author: msdp-book <msdp.book@gmail.com>\n",
      "Date:   Sat Mar 2 23:25:59 2024 +0100\n",
      "\n",
      "    Add second line to file1.txt\n",
      "\n",
      "\u001b[33mcommit 20de958a1c7217332659e1ef91ad9822097d9e34\u001b[m\n",
      "Author: msdp-book <msdp.book@gmail.com>\n",
      "Date:   Sat Mar 2 23:25:51 2024 +0100\n",
      "\n",
      "    Create file1.txt with the first line\n"
     ]
    },
    {
     "name": "stdout",
     "output_type": "stream",
     "text": [
      "Author: msdp-book <msdp.book@gmail.com>\n"
     ]
    },
    {
     "name": "stdout",
     "output_type": "stream",
     "text": [
      "Date:   Sat Mar 2 23:26:01 2024 +0100\n"
     ]
    },
    {
     "name": "stdout",
     "output_type": "stream",
     "text": [
      "\n"
     ]
    },
    {
     "name": "stdout",
     "output_type": "stream",
     "text": [
      "    Add third line to file1.txt\n"
     ]
    },
    {
     "name": "stdout",
     "output_type": "stream",
     "text": [
      "\n"
     ]
    },
    {
     "name": "stdout",
     "output_type": "stream",
     "text": [
      "\u001b[33mcommit 2cc8aac08dc79aaccb3c19693b62d179ed2fd757\u001b[m\n"
     ]
    },
    {
     "name": "stdout",
     "output_type": "stream",
     "text": [
      "Author: msdp-book <msdp.book@gmail.com>\n"
     ]
    },
    {
     "name": "stdout",
     "output_type": "stream",
     "text": [
      "Date:   Sat Mar 2 23:25:59 2024 +0100\n"
     ]
    },
    {
     "name": "stdout",
     "output_type": "stream",
     "text": [
      "\n"
     ]
    },
    {
     "name": "stdout",
     "output_type": "stream",
     "text": [
      "    Add second line to file1.txt\n"
     ]
    },
    {
     "name": "stdout",
     "output_type": "stream",
     "text": [
      "\n"
     ]
    },
    {
     "name": "stdout",
     "output_type": "stream",
     "text": [
      "\u001b[33mcommit 20de958a1c7217332659e1ef91ad9822097d9e34\u001b[m\n"
     ]
    },
    {
     "name": "stdout",
     "output_type": "stream",
     "text": [
      "Author: msdp-book <msdp.book@gmail.com>\n"
     ]
    },
    {
     "name": "stdout",
     "output_type": "stream",
     "text": [
      "Date:   Sat Mar 2 23:25:51 2024 +0100\n"
     ]
    },
    {
     "name": "stdout",
     "output_type": "stream",
     "text": [
      "\n"
     ]
    },
    {
     "name": "stdout",
     "output_type": "stream",
     "text": [
      "    Create file1.txt with the first line\n"
     ]
    }
   ],
   "source": [
    "git log"
   ]
  },
  {
   "cell_type": "markdown",
   "id": "263d07b9",
   "metadata": {},
   "source": [
    "We see that all the changes that we discussed in the diagram have been made. The `main` branch now points to the same commit as `feature`, and the `feature` branch still points to the same commit. The `HEAD` pointer is now pointing to `main`.\n",
    "\n",
    "## Impact of switching branches on the working directory\n",
    "\n",
    "We will now explore what happens to the working directory when we switch branches. To see this, let's first add a new file and make changes to an existing file on the `feature` branch, and then switch to the `main` branch."
   ]
  },
  {
   "cell_type": "code",
   "execution_count": 6,
   "id": "872d9a21",
   "metadata": {},
   "outputs": [
    {
     "name": "stdout",
     "output_type": "stream",
     "text": [
      "Switched to branch 'feature'\n",
      "[feature 4f48618] Add file2 and modify file1\n",
      " 2 files changed, 2 insertions(+)\n",
      " create mode 100644 file2.txt\n"
     ]
    },
    {
     "name": "stdout",
     "output_type": "stream",
     "text": [
      "[feature 4f48618] Add file2 and modify file1\n"
     ]
    },
    {
     "name": "stdout",
     "output_type": "stream",
     "text": [
      " 2 files changed, 2 insertions(+)\n"
     ]
    },
    {
     "name": "stdout",
     "output_type": "stream",
     "text": [
      " create mode 100644 file2.txt\n"
     ]
    }
   ],
   "source": [
    "git switch feature\n",
    "touch file2.txt\n",
    "echo \"This is first line.\" >> file2.txt\n",
    "echo \"This is the fourth line.\" >> file1.txt\n",
    "git add .\n",
    "git commit -m \"Add file2 and modify file1\""
   ]
  },
  {
   "cell_type": "code",
   "execution_count": 7,
   "id": "b64645a7",
   "metadata": {},
   "outputs": [
    {
     "name": "stdout",
     "output_type": "stream",
     "text": [
      "file1.txt  file2.txt\n",
      "This is the first line.\n",
      "This is the second line.\n",
      "This is the third line.\n",
      "This is the fourth line.\n"
     ]
    },
    {
     "name": "stdout",
     "output_type": "stream",
     "text": [
      "This is the first line.\n"
     ]
    },
    {
     "name": "stdout",
     "output_type": "stream",
     "text": [
      "This is the second line.\n"
     ]
    },
    {
     "name": "stdout",
     "output_type": "stream",
     "text": [
      "This is the third line.\n"
     ]
    },
    {
     "name": "stdout",
     "output_type": "stream",
     "text": [
      "This is the fourth line.\n"
     ]
    }
   ],
   "source": [
    "ls\n",
    "cat file1.txt"
   ]
  },
  {
   "cell_type": "code",
   "execution_count": 8,
   "id": "60700b53",
   "metadata": {},
   "outputs": [
    {
     "name": "stdout",
     "output_type": "stream",
     "text": [
      "Switched to branch 'main'\n"
     ]
    }
   ],
   "source": [
    "git switch main"
   ]
  },
  {
   "cell_type": "code",
   "execution_count": 9,
   "id": "7b39e3db",
   "metadata": {},
   "outputs": [
    {
     "name": "stdout",
     "output_type": "stream",
     "text": [
      "file1.txt\n",
      "This is the first line.\n",
      "This is the second line.\n",
      "This is the third line.\n"
     ]
    },
    {
     "name": "stdout",
     "output_type": "stream",
     "text": [
      "This is the first line.\n"
     ]
    },
    {
     "name": "stdout",
     "output_type": "stream",
     "text": [
      "This is the second line.\n"
     ]
    },
    {
     "name": "stdout",
     "output_type": "stream",
     "text": [
      "This is the third line.\n"
     ]
    }
   ],
   "source": [
    "ls\n",
    "cat file1.txt"
   ]
  },
  {
   "cell_type": "markdown",
   "id": "ae5492f5",
   "metadata": {},
   "source": [
    "```{admonition} What to notice\n",
    ":class: hint\n",
    "- We see that the file `file2.txt` is no longer in the working directory after switching to `main`.\n",
    "- The changes made to `file1.txt` on the `feature` branch are removed after switching to `main`.\n",
    "```\n",
    "\n",
    "Git updates the files in your working directory to reflect the state of the files in the new branch. This means that any files unique to the previous branch but not present in the new one may be removed, and any files unique to the new branch may be added or modified.\n",
    "\n",
    "## Switching branches with uncommitted changes\n",
    "\n",
    "Git prevents loss of work by disallowing branch switching with uncommitted changes. To see this in action, let's make changes to `file1.txt` on the `feature` branch and then try to switch to `main` without committing the changes."
   ]
  },
  {
   "cell_type": "code",
   "execution_count": 10,
   "id": "dd22a403",
   "metadata": {},
   "outputs": [
    {
     "name": "stdout",
     "output_type": "stream",
     "text": [
      "Switched to branch 'feature'\n",
      "error: Your local changes to the following files would be overwritten by checkout:\n",
      "\tfile1.txt\n",
      "Please commit your changes or stash them before you switch branches.\n",
      "Aborting\n"
     ]
    },
    {
     "name": "stdout",
     "output_type": "stream",
     "text": [
      "error: Your local changes to the following files would be overwritten by checkout:\n"
     ]
    },
    {
     "name": "stdout",
     "output_type": "stream",
     "text": [
      "\tfile1.txt\n"
     ]
    },
    {
     "name": "stdout",
     "output_type": "stream",
     "text": [
      "Please commit your changes or stash them before you switch branches.\n"
     ]
    },
    {
     "name": "stdout",
     "output_type": "stream",
     "text": [
      "Aborting\n"
     ]
    },
    {
     "ename": "",
     "evalue": "1",
     "output_type": "error",
     "traceback": []
    }
   ],
   "source": [
    "git switch feature\n",
    "echo \"This is the fifth line.\" >> file1.txt\n",
    "git switch main"
   ]
  },
  {
   "cell_type": "markdown",
   "id": "d43868fd",
   "metadata": {},
   "source": [
    "```{admonition} What to notice\n",
    ":class: hint\n",
    "- Git does not allow branch switching with uncommitted changes to protect against data loss.\n",
    "```\n",
    "\n",
    "## Modifying an staged file\n",
    "\n",
    "Changes made after staging are not automatically included in the staged snapshot. To include changes in the staged snapshot, the file must be staged again."
   ]
  },
  {
   "cell_type": "code",
   "execution_count": 11,
   "id": "31c322c0",
   "metadata": {},
   "outputs": [],
   "source": [
    "git add file1.txt\n",
    "echo \"This is the sixth line.\" >> file1.txt"
   ]
  },
  {
   "cell_type": "code",
   "execution_count": 12,
   "id": "ac2430bd",
   "metadata": {},
   "outputs": [
    {
     "name": "stdout",
     "output_type": "stream",
     "text": [
      "On branch feature\n",
      "Changes to be committed:\n",
      "  (use \"git restore --staged <file>...\" to unstage)\n",
      "\t\u001b[32mmodified:   file1.txt\u001b[m\n",
      "\n",
      "Changes not staged for commit:\n",
      "  (use \"git add <file>...\" to update what will be committed)\n",
      "  (use \"git restore <file>...\" to discard changes in working directory)\n",
      "\t\u001b[31mmodified:   file1.txt\u001b[m\n",
      "\n"
     ]
    },
    {
     "name": "stdout",
     "output_type": "stream",
     "text": [
      "Changes to be committed:\n"
     ]
    },
    {
     "name": "stdout",
     "output_type": "stream",
     "text": [
      "  (use \"git restore --staged <file>...\" to unstage)\n"
     ]
    },
    {
     "name": "stdout",
     "output_type": "stream",
     "text": [
      "\t\u001b[32mmodified:   file1.txt\u001b[m\n"
     ]
    },
    {
     "name": "stdout",
     "output_type": "stream",
     "text": [
      "\n"
     ]
    },
    {
     "name": "stdout",
     "output_type": "stream",
     "text": [
      "Changes not staged for commit:\n"
     ]
    },
    {
     "name": "stdout",
     "output_type": "stream",
     "text": [
      "  (use \"git add <file>...\" to update what will be committed)\n"
     ]
    },
    {
     "name": "stdout",
     "output_type": "stream",
     "text": [
      "  (use \"git restore <file>...\" to discard changes in working directory)\n"
     ]
    },
    {
     "name": "stdout",
     "output_type": "stream",
     "text": [
      "\t\u001b[31mmodified:   file1.txt\u001b[m\n"
     ]
    },
    {
     "name": "stdout",
     "output_type": "stream",
     "text": [
      "\n"
     ]
    }
   ],
   "source": [
    "git status"
   ]
  },
  {
   "cell_type": "markdown",
   "id": "753f7d34",
   "metadata": {},
   "source": [
    "```{admonition} What to notice\n",
    "- The file `file1.txt` is staged and has uncommitted changes at the same time.\n",
    "```\n",
    "\n",
    "We can also see the status in a more compact form using the `-s` option:"
   ]
  },
  {
   "cell_type": "code",
   "execution_count": 13,
   "id": "138bae3f",
   "metadata": {},
   "outputs": [
    {
     "name": "stdout",
     "output_type": "stream",
     "text": [
      "\u001b[32mM\u001b[m\u001b[31mM\u001b[m file1.txt\n"
     ]
    }
   ],
   "source": [
    "git status -s"
   ]
  },
  {
   "cell_type": "markdown",
   "id": "25244fb6",
   "metadata": {},
   "source": [
    "The first character in the output of `git status -s` shows the status of the staged snapshot, and the second character shows the status of the working directory.\n",
    "\n",
    "```{admonition} What to notice\n",
    "-  As we saw before, with `git status`, `file1.txt` has both staged and not staged modifications.\n",
    "```\n",
    "\n",
    "Let's now stage the latest changes to `file1.txt`"
   ]
  },
  {
   "cell_type": "code",
   "execution_count": 14,
   "id": "06d2b794",
   "metadata": {},
   "outputs": [],
   "source": [
    "git add file1.txt"
   ]
  },
  {
   "cell_type": "code",
   "execution_count": 15,
   "id": "9ed948aa",
   "metadata": {},
   "outputs": [
    {
     "name": "stdout",
     "output_type": "stream",
     "text": [
      "\u001b[32mM\u001b[m  file1.txt\n"
     ]
    }
   ],
   "source": [
    "git status -s"
   ]
  },
  {
   "cell_type": "markdown",
   "id": "595bea41",
   "metadata": {},
   "source": [
    "now all modifications has been staged and we can commit them:"
   ]
  },
  {
   "cell_type": "code",
   "execution_count": 16,
   "id": "18c91b1d",
   "metadata": {},
   "outputs": [
    {
     "name": "stdout",
     "output_type": "stream",
     "text": [
      "[feature 99a9875] Add fifth and sixth lines to file1.txt\n",
      " 1 file changed, 2 insertions(+)\n"
     ]
    },
    {
     "name": "stdout",
     "output_type": "stream",
     "text": [
      " 1 file changed, 2 insertions(+)\n"
     ]
    }
   ],
   "source": [
    "git commit -m \"Add fifth and sixth lines to file1.txt\""
   ]
  },
  {
   "cell_type": "markdown",
   "id": "0d5e5d27",
   "metadata": {},
   "source": [
    "## Viewing all commits\n",
    "\n",
    "When working with multiple branches in Git, you might find yourself on a branch that is behind others in terms of commits. For instance, if you're on the `main` branch that hasn't been updated with the latest commits from a `feature` branch, using the `git log` command while on `main` will only show the commit history up to the point main is currently at. This means you won't see the commits that are on `feature` or any other branch until they are merged into `main`.\n",
    "\n",
    "This is because `git log` displays by default only the commit history of that branch, starting from the current commit and tracing back through the history of commits that lead to the current state of the branch.\n",
    "\n",
    "Let's see this in action by using the `git log` command while on the `main` branch."
   ]
  },
  {
   "cell_type": "code",
   "execution_count": 17,
   "id": "c74e1518",
   "metadata": {},
   "outputs": [
    {
     "name": "stdout",
     "output_type": "stream",
     "text": [
      "Switched to branch 'main'\n",
      "\u001b[33mcommit ed3640b0333c585e503c1dd0456ffe898d52bed8\u001b[m\u001b[33m (\u001b[m\u001b[1;36mHEAD -> \u001b[m\u001b[1;32mmain\u001b[m\u001b[33m)\u001b[m\n",
      "Author: msdp-book <msdp.book@gmail.com>\n",
      "Date:   Sat Mar 2 23:26:01 2024 +0100\n",
      "\n",
      "    Add third line to file1.txt\n",
      "\n",
      "\u001b[33mcommit 2cc8aac08dc79aaccb3c19693b62d179ed2fd757\u001b[m\n",
      "Author: msdp-book <msdp.book@gmail.com>\n",
      "Date:   Sat Mar 2 23:25:59 2024 +0100\n",
      "\n",
      "    Add second line to file1.txt\n",
      "\n",
      "\u001b[33mcommit 20de958a1c7217332659e1ef91ad9822097d9e34\u001b[m\n",
      "Author: msdp-book <msdp.book@gmail.com>\n",
      "Date:   Sat Mar 2 23:25:51 2024 +0100\n",
      "\n",
      "    Create file1.txt with the first line\n"
     ]
    },
    {
     "name": "stdout",
     "output_type": "stream",
     "text": [
      "\u001b[33mcommit ed3640b0333c585e503c1dd0456ffe898d52bed8\u001b[m\u001b[33m (\u001b[m\u001b[1;36mHEAD -> \u001b[m\u001b[1;32mmain\u001b[m\u001b[33m)\u001b[m\n"
     ]
    },
    {
     "name": "stdout",
     "output_type": "stream",
     "text": [
      "Author: msdp-book <msdp.book@gmail.com>\n"
     ]
    },
    {
     "name": "stdout",
     "output_type": "stream",
     "text": [
      "Date:   Sat Mar 2 23:26:01 2024 +0100\n"
     ]
    },
    {
     "name": "stdout",
     "output_type": "stream",
     "text": [
      "\n"
     ]
    },
    {
     "name": "stdout",
     "output_type": "stream",
     "text": [
      "    Add third line to file1.txt\n"
     ]
    },
    {
     "name": "stdout",
     "output_type": "stream",
     "text": [
      "\n"
     ]
    },
    {
     "name": "stdout",
     "output_type": "stream",
     "text": [
      "\u001b[33mcommit 2cc8aac08dc79aaccb3c19693b62d179ed2fd757\u001b[m\n"
     ]
    },
    {
     "name": "stdout",
     "output_type": "stream",
     "text": [
      "Author: msdp-book <msdp.book@gmail.com>\n"
     ]
    },
    {
     "name": "stdout",
     "output_type": "stream",
     "text": [
      "Date:   Sat Mar 2 23:25:59 2024 +0100\n"
     ]
    },
    {
     "name": "stdout",
     "output_type": "stream",
     "text": [
      "\n"
     ]
    },
    {
     "name": "stdout",
     "output_type": "stream",
     "text": [
      "    Add second line to file1.txt\n"
     ]
    },
    {
     "name": "stdout",
     "output_type": "stream",
     "text": [
      "\n"
     ]
    },
    {
     "name": "stdout",
     "output_type": "stream",
     "text": [
      "\u001b[33mcommit 20de958a1c7217332659e1ef91ad9822097d9e34\u001b[m\n"
     ]
    },
    {
     "name": "stdout",
     "output_type": "stream",
     "text": [
      "Author: msdp-book <msdp.book@gmail.com>\n"
     ]
    },
    {
     "name": "stdout",
     "output_type": "stream",
     "text": [
      "Date:   Sat Mar 2 23:25:51 2024 +0100\n"
     ]
    },
    {
     "name": "stdout",
     "output_type": "stream",
     "text": [
      "\n"
     ]
    },
    {
     "name": "stdout",
     "output_type": "stream",
     "text": [
      "    Create file1.txt with the first line\n"
     ]
    }
   ],
   "source": [
    "git switch main\n",
    "git log"
   ]
  },
  {
   "cell_type": "markdown",
   "id": "056bc75b",
   "metadata": {},
   "source": [
    "Now compare this with the output of `git log --all`:"
   ]
  },
  {
   "cell_type": "code",
   "execution_count": 18,
   "id": "532a5921",
   "metadata": {},
   "outputs": [
    {
     "name": "stdout",
     "output_type": "stream",
     "text": [
      "Already on 'main'\n",
      "\u001b[33mcommit 99a9875cc2ba92d423e745b693e129f2d03a3e62\u001b[m\u001b[33m (\u001b[m\u001b[1;32mfeature\u001b[m\u001b[33m)\u001b[m\n",
      "Author: msdp-book <msdp.book@gmail.com>\n",
      "Date:   Sat Mar 2 23:26:10 2024 +0100\n",
      "\n",
      "    Add fifth and sixth lines to file1.txt\n",
      "\n",
      "\u001b[33mcommit 4f486184669b825380c024b3689caccb10a8cfca\u001b[m\n",
      "Author: msdp-book <msdp.book@gmail.com>\n",
      "Date:   Sat Mar 2 23:26:09 2024 +0100\n",
      "\n",
      "    Add file2 and modify file1\n",
      "\n",
      "\u001b[33mcommit ed3640b0333c585e503c1dd0456ffe898d52bed8\u001b[m\u001b[33m (\u001b[m\u001b[1;36mHEAD -> \u001b[m\u001b[1;32mmain\u001b[m\u001b[33m)\u001b[m\n",
      "Author: msdp-book <msdp.book@gmail.com>\n",
      "Date:   Sat Mar 2 23:26:01 2024 +0100\n",
      "\n",
      "    Add third line to file1.txt\n",
      "\n",
      "\u001b[33mcommit 2cc8aac08dc79aaccb3c19693b62d179ed2fd757\u001b[m\n",
      "Author: msdp-book <msdp.book@gmail.com>\n",
      "Date:   Sat Mar 2 23:25:59 2024 +0100\n",
      "\n",
      "    Add second line to file1.txt\n",
      "\n",
      "\u001b[33mcommit 20de958a1c7217332659e1ef91ad9822097d9e34\u001b[m\n",
      "Author: msdp-book <msdp.book@gmail.com>\n",
      "Date:   Sat Mar 2 23:25:51 2024 +0100\n",
      "\n",
      "    Create file1.txt with the first line\n"
     ]
    },
    {
     "name": "stdout",
     "output_type": "stream",
     "text": [
      "\u001b[33mcommit 99a9875cc2ba92d423e745b693e129f2d03a3e62\u001b[m\u001b[33m (\u001b[m\u001b[1;32mfeature\u001b[m\u001b[33m)\u001b[m\n"
     ]
    },
    {
     "name": "stdout",
     "output_type": "stream",
     "text": [
      "Author: msdp-book <msdp.book@gmail.com>\n"
     ]
    },
    {
     "name": "stdout",
     "output_type": "stream",
     "text": [
      "Date:   Sat Mar 2 23:26:10 2024 +0100\n"
     ]
    },
    {
     "name": "stdout",
     "output_type": "stream",
     "text": [
      "\n"
     ]
    },
    {
     "name": "stdout",
     "output_type": "stream",
     "text": [
      "    Add fifth and sixth lines to file1.txt\n"
     ]
    },
    {
     "name": "stdout",
     "output_type": "stream",
     "text": [
      "\n"
     ]
    },
    {
     "name": "stdout",
     "output_type": "stream",
     "text": [
      "\u001b[33mcommit 4f486184669b825380c024b3689caccb10a8cfca\u001b[m\n"
     ]
    },
    {
     "name": "stdout",
     "output_type": "stream",
     "text": [
      "Author: msdp-book <msdp.book@gmail.com>\n"
     ]
    },
    {
     "name": "stdout",
     "output_type": "stream",
     "text": [
      "Date:   Sat Mar 2 23:26:09 2024 +0100\n"
     ]
    },
    {
     "name": "stdout",
     "output_type": "stream",
     "text": [
      "\n"
     ]
    },
    {
     "name": "stdout",
     "output_type": "stream",
     "text": [
      "    Add file2 and modify file1\n"
     ]
    },
    {
     "name": "stdout",
     "output_type": "stream",
     "text": [
      "\n"
     ]
    },
    {
     "name": "stdout",
     "output_type": "stream",
     "text": [
      "\u001b[33mcommit ed3640b0333c585e503c1dd0456ffe898d52bed8\u001b[m\u001b[33m (\u001b[m\u001b[1;36mHEAD -> \u001b[m\u001b[1;32mmain\u001b[m\u001b[33m)\u001b[m\n"
     ]
    },
    {
     "name": "stdout",
     "output_type": "stream",
     "text": [
      "Author: msdp-book <msdp.book@gmail.com>\n"
     ]
    },
    {
     "name": "stdout",
     "output_type": "stream",
     "text": [
      "Date:   Sat Mar 2 23:26:01 2024 +0100\n"
     ]
    },
    {
     "name": "stdout",
     "output_type": "stream",
     "text": [
      "\n"
     ]
    },
    {
     "name": "stdout",
     "output_type": "stream",
     "text": [
      "    Add third line to file1.txt\n"
     ]
    },
    {
     "name": "stdout",
     "output_type": "stream",
     "text": [
      "\n"
     ]
    },
    {
     "name": "stdout",
     "output_type": "stream",
     "text": [
      "\u001b[33mcommit 2cc8aac08dc79aaccb3c19693b62d179ed2fd757\u001b[m\n"
     ]
    },
    {
     "name": "stdout",
     "output_type": "stream",
     "text": [
      "Author: msdp-book <msdp.book@gmail.com>\n"
     ]
    },
    {
     "name": "stdout",
     "output_type": "stream",
     "text": [
      "Date:   Sat Mar 2 23:25:59 2024 +0100\n"
     ]
    },
    {
     "name": "stdout",
     "output_type": "stream",
     "text": [
      "\n"
     ]
    },
    {
     "name": "stdout",
     "output_type": "stream",
     "text": [
      "    Add second line to file1.txt\n"
     ]
    },
    {
     "name": "stdout",
     "output_type": "stream",
     "text": [
      "\n"
     ]
    },
    {
     "name": "stdout",
     "output_type": "stream",
     "text": [
      "\u001b[33mcommit 20de958a1c7217332659e1ef91ad9822097d9e34\u001b[m\n"
     ]
    },
    {
     "name": "stdout",
     "output_type": "stream",
     "text": [
      "Author: msdp-book <msdp.book@gmail.com>\n"
     ]
    },
    {
     "name": "stdout",
     "output_type": "stream",
     "text": [
      "Date:   Sat Mar 2 23:25:51 2024 +0100\n"
     ]
    },
    {
     "name": "stdout",
     "output_type": "stream",
     "text": [
      "\n"
     ]
    },
    {
     "name": "stdout",
     "output_type": "stream",
     "text": [
      "    Create file1.txt with the first line\n"
     ]
    }
   ],
   "source": [
    "git switch main\n",
    "git log --all"
   ]
  },
  {
   "cell_type": "markdown",
   "id": "af17304b",
   "metadata": {},
   "source": [
    "```{admonition} What to notice\n",
    ":class: hint\n",
    "- Commits from `feature` are visible with `git log --all`, showing the comprehensive history across branches.\n",
    "```\n",
    "\n",
    "## Checking out a commit and the detached HEAD State\n",
    "We have seen that we can move the `HEAD` pointer to a specific branch by using `git switch <branch-name>` but we can also move the `HEAD` pointer to a specific commit by using `git checkout <commit-hash>`. We can also checkout a commit relative to the current position of the branch pointer by using `git checkout <branch>~<number>`. This is useful for exploring the history of a repository."
   ]
  },
  {
   "cell_type": "code",
   "execution_count": 19,
   "id": "23f44883",
   "metadata": {},
   "outputs": [
    {
     "name": "stdout",
     "output_type": "stream",
     "text": [
      "Note: switching to 'feature~2'.\n",
      "\n",
      "You are in 'detached HEAD' state. You can look around, make experimental\n",
      "changes and commit them, and you can discard any commits you make in this\n",
      "state without impacting any branches by switching back to a branch.\n",
      "\n",
      "If you want to create a new branch to retain commits you create, you may\n",
      "do so (now or later) by using -c with the switch command. Example:\n",
      "\n",
      "  git switch -c <new-branch-name>\n",
      "\n",
      "Or undo this operation with:\n",
      "\n",
      "  git switch -\n",
      "\n",
      "Turn off this advice by setting config variable advice.detachedHead to false\n",
      "\n",
      "HEAD is now at ed3640b Add third line to file1.txt\n"
     ]
    },
    {
     "name": "stdout",
     "output_type": "stream",
     "text": [
      "\n"
     ]
    },
    {
     "name": "stdout",
     "output_type": "stream",
     "text": [
      "You are in 'detached HEAD' state. You can look around, make experimental\n"
     ]
    },
    {
     "name": "stdout",
     "output_type": "stream",
     "text": [
      "changes and commit them, and you can discard any commits you make in this\n"
     ]
    },
    {
     "name": "stdout",
     "output_type": "stream",
     "text": [
      "state without impacting any branches by switching back to a branch.\n"
     ]
    },
    {
     "name": "stdout",
     "output_type": "stream",
     "text": [
      "\n"
     ]
    },
    {
     "name": "stdout",
     "output_type": "stream",
     "text": [
      "If you want to create a new branch to retain commits you create, you may\n"
     ]
    },
    {
     "name": "stdout",
     "output_type": "stream",
     "text": [
      "do so (now or later) by using -c with the switch command. Example:\n"
     ]
    },
    {
     "name": "stdout",
     "output_type": "stream",
     "text": [
      "\n"
     ]
    },
    {
     "name": "stdout",
     "output_type": "stream",
     "text": [
      "  git switch -c <new-branch-name>\n"
     ]
    },
    {
     "name": "stdout",
     "output_type": "stream",
     "text": [
      "\n"
     ]
    },
    {
     "name": "stdout",
     "output_type": "stream",
     "text": [
      "Or undo this operation with:\n"
     ]
    },
    {
     "name": "stdout",
     "output_type": "stream",
     "text": [
      "\n"
     ]
    },
    {
     "name": "stdout",
     "output_type": "stream",
     "text": [
      "  git switch -\n"
     ]
    },
    {
     "name": "stdout",
     "output_type": "stream",
     "text": [
      "\n"
     ]
    },
    {
     "name": "stdout",
     "output_type": "stream",
     "text": [
      "Turn off this advice by setting config variable advice.detachedHead to false\n"
     ]
    },
    {
     "name": "stdout",
     "output_type": "stream",
     "text": [
      "\n"
     ]
    },
    {
     "name": "stdout",
     "output_type": "stream",
     "text": [
      "HEAD is now at ed3640b Add third line to file1.txt\n"
     ]
    }
   ],
   "source": [
    "git checkout feature~2"
   ]
  },
  {
   "cell_type": "code",
   "execution_count": 20,
   "id": "02b83038",
   "metadata": {},
   "outputs": [
    {
     "name": "stdout",
     "output_type": "stream",
     "text": [
      "\u001b[31mHEAD detached at \u001b[med3640b\n",
      "nothing to commit, working tree clean\n"
     ]
    },
    {
     "name": "stdout",
     "output_type": "stream",
     "text": [
      "nothing to commit, working tree clean\n"
     ]
    }
   ],
   "source": [
    "git status"
   ]
  },
  {
   "cell_type": "code",
   "execution_count": 21,
   "id": "72da3594",
   "metadata": {},
   "outputs": [
    {
     "name": "stdout",
     "output_type": "stream",
     "text": [
      "\u001b[33mcommit 99a9875cc2ba92d423e745b693e129f2d03a3e62\u001b[m\u001b[33m (\u001b[m\u001b[1;32mfeature\u001b[m\u001b[33m)\u001b[m\n",
      "Author: msdp-book <msdp.book@gmail.com>\n",
      "Date:   Sat Mar 2 23:26:10 2024 +0100\n",
      "\n",
      "    Add fifth and sixth lines to file1.txt\n",
      "\n",
      "\u001b[33mcommit 4f486184669b825380c024b3689caccb10a8cfca\u001b[m\n",
      "Author: msdp-book <msdp.book@gmail.com>\n",
      "Date:   Sat Mar 2 23:26:09 2024 +0100\n",
      "\n",
      "    Add file2 and modify file1\n",
      "\n",
      "\u001b[33mcommit ed3640b0333c585e503c1dd0456ffe898d52bed8\u001b[m\u001b[33m (\u001b[m\u001b[1;36mHEAD\u001b[m\u001b[33m, \u001b[m\u001b[1;32mmain\u001b[m\u001b[33m)\u001b[m\n",
      "Author: msdp-book <msdp.book@gmail.com>\n",
      "Date:   Sat Mar 2 23:26:01 2024 +0100\n",
      "\n",
      "    Add third line to file1.txt\n",
      "\n",
      "\u001b[33mcommit 2cc8aac08dc79aaccb3c19693b62d179ed2fd757\u001b[m\n",
      "Author: msdp-book <msdp.book@gmail.com>\n",
      "Date:   Sat Mar 2 23:25:59 2024 +0100\n",
      "\n",
      "    Add second line to file1.txt\n",
      "\n",
      "\u001b[33mcommit 20de958a1c7217332659e1ef91ad9822097d9e34\u001b[m\n",
      "Author: msdp-book <msdp.book@gmail.com>\n",
      "Date:   Sat Mar 2 23:25:51 2024 +0100\n",
      "\n",
      "    Create file1.txt with the first line\n"
     ]
    },
    {
     "name": "stdout",
     "output_type": "stream",
     "text": [
      "Author: msdp-book <msdp.book@gmail.com>\n"
     ]
    },
    {
     "name": "stdout",
     "output_type": "stream",
     "text": [
      "Date:   Sat Mar 2 23:26:10 2024 +0100\n"
     ]
    },
    {
     "name": "stdout",
     "output_type": "stream",
     "text": [
      "\n"
     ]
    },
    {
     "name": "stdout",
     "output_type": "stream",
     "text": [
      "    Add fifth and sixth lines to file1.txt\n"
     ]
    },
    {
     "name": "stdout",
     "output_type": "stream",
     "text": [
      "\n"
     ]
    },
    {
     "name": "stdout",
     "output_type": "stream",
     "text": [
      "\u001b[33mcommit 4f486184669b825380c024b3689caccb10a8cfca\u001b[m\n"
     ]
    },
    {
     "name": "stdout",
     "output_type": "stream",
     "text": [
      "Author: msdp-book <msdp.book@gmail.com>\n"
     ]
    },
    {
     "name": "stdout",
     "output_type": "stream",
     "text": [
      "Date:   Sat Mar 2 23:26:09 2024 +0100\n"
     ]
    },
    {
     "name": "stdout",
     "output_type": "stream",
     "text": [
      "\n"
     ]
    },
    {
     "name": "stdout",
     "output_type": "stream",
     "text": [
      "    Add file2 and modify file1\n"
     ]
    },
    {
     "name": "stdout",
     "output_type": "stream",
     "text": [
      "\n"
     ]
    },
    {
     "name": "stdout",
     "output_type": "stream",
     "text": [
      "\u001b[33mcommit ed3640b0333c585e503c1dd0456ffe898d52bed8\u001b[m\u001b[33m (\u001b[m\u001b[1;36mHEAD\u001b[m\u001b[33m, \u001b[m\u001b[1;32mmain\u001b[m\u001b[33m)\u001b[m\n"
     ]
    },
    {
     "name": "stdout",
     "output_type": "stream",
     "text": [
      "Author: msdp-book <msdp.book@gmail.com>\n"
     ]
    },
    {
     "name": "stdout",
     "output_type": "stream",
     "text": [
      "Date:   Sat Mar 2 23:26:01 2024 +0100\n"
     ]
    },
    {
     "name": "stdout",
     "output_type": "stream",
     "text": [
      "\n"
     ]
    },
    {
     "name": "stdout",
     "output_type": "stream",
     "text": [
      "    Add third line to file1.txt\n"
     ]
    },
    {
     "name": "stdout",
     "output_type": "stream",
     "text": [
      "\n"
     ]
    },
    {
     "name": "stdout",
     "output_type": "stream",
     "text": [
      "\u001b[33mcommit 2cc8aac08dc79aaccb3c19693b62d179ed2fd757\u001b[m\n"
     ]
    },
    {
     "name": "stdout",
     "output_type": "stream",
     "text": [
      "Author: msdp-book <msdp.book@gmail.com>\n"
     ]
    },
    {
     "name": "stdout",
     "output_type": "stream",
     "text": [
      "Date:   Sat Mar 2 23:25:59 2024 +0100\n"
     ]
    },
    {
     "name": "stdout",
     "output_type": "stream",
     "text": [
      "\n"
     ]
    },
    {
     "name": "stdout",
     "output_type": "stream",
     "text": [
      "    Add second line to file1.txt\n"
     ]
    },
    {
     "name": "stdout",
     "output_type": "stream",
     "text": [
      "\n"
     ]
    },
    {
     "name": "stdout",
     "output_type": "stream",
     "text": [
      "\u001b[33mcommit 20de958a1c7217332659e1ef91ad9822097d9e34\u001b[m\n"
     ]
    },
    {
     "name": "stdout",
     "output_type": "stream",
     "text": [
      "Author: msdp-book <msdp.book@gmail.com>\n"
     ]
    },
    {
     "name": "stdout",
     "output_type": "stream",
     "text": [
      "Date:   Sat Mar 2 23:25:51 2024 +0100\n"
     ]
    },
    {
     "name": "stdout",
     "output_type": "stream",
     "text": [
      "\n"
     ]
    },
    {
     "name": "stdout",
     "output_type": "stream",
     "text": [
      "    Create file1.txt with the first line\n"
     ]
    }
   ],
   "source": [
    "git log --all"
   ]
  },
  {
   "cell_type": "markdown",
   "id": "e4ad10ca",
   "metadata": {},
   "source": [
    "```{admonition} What to notice\n",
    ":class: hint\n",
    "- We moved the `HEAD` pointer two commits back from the current position of the `feature` branch.\n",
    "- By coincidence, the commit we checked out is the same as the commit `main` is pointing.\n",
    "- `HEAD` is not pointing to `main` is pointing to the commit directly, note that there is no arrow from `HEAD` to `main`, as we used to see before. \n",
    "```\n",
    "\n",
    "When you check out a commit, you are in a detached HEAD state. This means that the `HEAD` pointer is no longer pointing to a branch, but to a specific commit. This is useful for inspecting the state of the repository at a specific point in time, but it is not recommended to make changes in this state. If you make changes and commit them, they will be based on the commit you checked out, not on the tip of any branch. This means that if you switch back to a branch, the changes you made in the detached HEAD state will not be part of the branch. To exit a detached HEAD state and retain your changes, you can create a new branch from the current commit:"
   ]
  },
  {
   "cell_type": "code",
   "execution_count": 22,
   "id": "21825bc1",
   "metadata": {},
   "outputs": [
    {
     "name": "stdout",
     "output_type": "stream",
     "text": [
      "Switched to a new branch 'new-branch-name'\n"
     ]
    }
   ],
   "source": [
    "git switch -c new-branch-name"
   ]
  },
  {
   "cell_type": "markdown",
   "id": "0fccb42f",
   "metadata": {},
   "source": [
    "This command creates and switch to the new branch (in one command) starting from the current commit, effectively bringing your HEAD back to a non-detached state and ensuring that any commits made in the detached HEAD state are not lost."
   ]
  },
  {
   "cell_type": "code",
   "execution_count": 23,
   "id": "96157e4b",
   "metadata": {},
   "outputs": [
    {
     "name": "stdout",
     "output_type": "stream",
     "text": [
      "On branch new-branch-name\n",
      "nothing to commit, working tree clean\n"
     ]
    },
    {
     "name": "stdout",
     "output_type": "stream",
     "text": [
      "nothing to commit, working tree clean\n"
     ]
    }
   ],
   "source": [
    "git status"
   ]
  },
  {
   "cell_type": "markdown",
   "id": "6bb9de93",
   "metadata": {},
   "source": [
    "After creating and switching to the new branch we are not in a detached HEAD state anymore, and the changes we made are now part of the new branch.\n",
    "\n",
    "## Deleting a branch\n",
    "\n",
    "Finally, once your feature it's merged, you usually don't want to keep the feature branch around. To delete a branch, first you need to ensure that you are not currently on the branch you want to delete by switching to another branch or commit. Then use the `git branch -d <branch-name>` command. For example, to delete the `new-branch-name` branch:"
   ]
  },
  {
   "cell_type": "code",
   "execution_count": 24,
   "id": "fe3c9403",
   "metadata": {},
   "outputs": [
    {
     "name": "stdout",
     "output_type": "stream",
     "text": [
      "Switched to branch 'main'\n",
      "Deleted branch new-branch-name (was ed3640b).\n"
     ]
    },
    {
     "name": "stdout",
     "output_type": "stream",
     "text": [
      "Deleted branch new-branch-name (was ed3640b).\n"
     ]
    }
   ],
   "source": [
    "git switch main\n",
    "git branch -d new-branch-name"
   ]
  },
  {
   "cell_type": "markdown",
   "id": "2cafd73c",
   "metadata": {},
   "source": [
    "The -d option deletes the branch safely, meaning it will prevent you from deleting the branch that contained unmerged changes. If you are sure you want to delete the branch even if it contains unmerged changes, you can use the -D option, which forces the deletion."
   ]
  }
 ],
 "metadata": {
  "jupytext": {
   "formats": "md:myst",
   "text_representation": {
    "extension": ".md",
    "format_name": "myst",
    "format_version": 0.13,
    "jupytext_version": "1.11.5"
   }
  },
  "kernelspec": {
   "display_name": "Bash",
   "language": "bash",
   "name": "bash"
  },
  "language_info": {
   "codemirror_mode": "shell",
   "file_extension": ".sh",
   "mimetype": "text/x-sh",
   "name": "bash"
  },
  "source_map": [
   14,
   17,
   63,
   67,
   69,
   75,
   77,
   81,
   83,
   91,
   100,
   105,
   109,
   112,
   126,
   130,
   141,
   146,
   148,
   155,
   157,
   167,
   171,
   173,
   177,
   179,
   189,
   192,
   196,
   199,
   209,
   213,
   217,
   219,
   230,
   232,
   236,
   238,
   245,
   248
  ]
 },
 "nbformat": 4,
 "nbformat_minor": 5
}