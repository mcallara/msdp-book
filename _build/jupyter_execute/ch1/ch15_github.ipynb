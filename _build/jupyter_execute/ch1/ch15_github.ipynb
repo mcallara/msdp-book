{
 "cells": [
  {
   "cell_type": "code",
   "execution_count": null,
   "id": "4873499b",
   "metadata": {
    "tags": [
     "remove-input"
    ]
   },
   "outputs": [],
   "source": [
    "cd ../home/ch1"
   ]
  },
  {
   "cell_type": "markdown",
   "id": "d1171722",
   "metadata": {},
   "source": [
    "# 1.5 Remote Repositories\n",
    "\n",
    "## Create your first repo\n",
    "Follow the guide on GitHub's official documentation to create your first repository. Refer to [GitHub's Quickstart for Repositories](https://docs.github.com/en/repositories/creating-and-managing-repositories/quickstart-for-repositories).\n",
    "\n",
    "## Exercise: Create a new empty repo on GitHub named `test-repo`\n",
    "Using the URL `git@github.com:mcallara/test-repo.git`, set up your project for version control."
   ]
  },
  {
   "cell_type": "code",
   "execution_count": null,
   "id": "58fcfc03",
   "metadata": {},
   "outputs": [],
   "source": [
    "cd my-project\n",
    "git remote add origin git@github.com:mcallara/test-repo.git"
   ]
  },
  {
   "cell_type": "markdown",
   "id": "e0658a6a",
   "metadata": {},
   "source": [
    "### List the remote repository connections"
   ]
  },
  {
   "cell_type": "code",
   "execution_count": null,
   "id": "ae5de1ae",
   "metadata": {},
   "outputs": [],
   "source": [
    "git remote\n",
    "git remote -v"
   ]
  },
  {
   "cell_type": "markdown",
   "id": "4fd4a412",
   "metadata": {},
   "source": [
    "### Exploring the Git configuration\n",
    "Inspect the `.git/config` file to see the remote repository configuration."
   ]
  },
  {
   "cell_type": "code",
   "execution_count": null,
   "id": "743cc8ee",
   "metadata": {},
   "outputs": [],
   "source": [
    "cat .git/config"
   ]
  },
  {
   "cell_type": "markdown",
   "id": "5b4c5234",
   "metadata": {},
   "source": [
    "### Checking references\n",
    "Look into the `.git/refs` directory to see references such as heads and tags."
   ]
  },
  {
   "cell_type": "code",
   "execution_count": null,
   "id": "f4a44399",
   "metadata": {},
   "outputs": [],
   "source": [
    "ls .git/refs"
   ]
  },
  {
   "cell_type": "markdown",
   "id": "9118aed6",
   "metadata": {},
   "source": [
    "### Pushing to the remote repository\n",
    "Push your changes to the remote repository on GitHub, setting `origin` as the upstream for `main`."
   ]
  },
  {
   "cell_type": "code",
   "execution_count": null,
   "id": "3eb9aaa8",
   "metadata": {},
   "outputs": [],
   "source": [
    "git push -u origin main"
   ]
  },
  {
   "cell_type": "markdown",
   "id": "9aba2dd0",
   "metadata": {},
   "source": [
    "After pushing, inspect the `.git/refs` again to verify the update."
   ]
  },
  {
   "cell_type": "code",
   "execution_count": null,
   "id": "0a03910d",
   "metadata": {},
   "outputs": [],
   "source": [
    "ls .git/refs"
   ]
  },
  {
   "cell_type": "markdown",
   "id": "13485ec3",
   "metadata": {},
   "source": [
    "### Listing branches and commits"
   ]
  },
  {
   "cell_type": "code",
   "execution_count": null,
   "id": "c54e32cc",
   "metadata": {},
   "outputs": [],
   "source": [
    "git branch --all\n",
    "git log"
   ]
  },
  {
   "cell_type": "markdown",
   "id": "b31aba4a",
   "metadata": {},
   "source": [
    "```{admonition} What to notice\n",
    ":class: hint\n",
    "`origin/main` should be pointing to the same commit as `main`.\n",
    "```\n",
    "\n",
    "## Cloning a repository\n",
    "Clone the `test-repo` into a new directory named `test-repo-2`."
   ]
  },
  {
   "cell_type": "code",
   "execution_count": null,
   "id": "c7eac4b1",
   "metadata": {},
   "outputs": [],
   "source": [
    "cd ..\n",
    "git clone git@github.com:mcallara/test-repo.git test-repo-2\n",
    "ls"
   ]
  },
  {
   "cell_type": "markdown",
   "id": "794e5b74",
   "metadata": {},
   "source": [
    "This chapter guides you through creating and managing your first GitHub repository, including remote configuration, pushing changes, and cloning repositories."
   ]
  }
 ],
 "metadata": {
  "jupytext": {
   "formats": "md:myst",
   "text_representation": {
    "extension": ".md",
    "format_name": "myst",
    "format_version": 0.13,
    "jupytext_version": "1.11.5"
   }
  },
  "kernelspec": {
   "display_name": "Bash",
   "language": "bash",
   "name": "bash"
  },
  "source_map": [
   15,
   18,
   28,
   31,
   34,
   37,
   42,
   44,
   49,
   51,
   56,
   58,
   62,
   64,
   67,
   70,
   80,
   84
  ]
 },
 "nbformat": 4,
 "nbformat_minor": 5
}