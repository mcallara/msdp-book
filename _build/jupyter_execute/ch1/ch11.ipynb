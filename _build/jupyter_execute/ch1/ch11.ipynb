{
 "cells": [
  {
   "cell_type": "code",
   "execution_count": 1,
   "id": "7b2bc9fa",
   "metadata": {
    "tags": [
     "remove-input"
    ]
   },
   "outputs": [],
   "source": [
    "cd ../home\n",
    "mkdir ch1\n",
    "cd ch1"
   ]
  },
  {
   "cell_type": "markdown",
   "id": "4740e486",
   "metadata": {},
   "source": [
    "# 1.1 Git and the Command Line\n",
    "\n",
    "Before jumping into the world of Git, let's cover the essential of the command line. This section will introduce you to the command line and the basic commands you need to use Git.\n",
    "\n",
    "## The Command Line\n",
    "\n",
    "The command line is a powerful tool used to interact with your computer's operating system through commands. It allows you to perform tasks, manage files, and run programs without a graphical user interface.\n",
    "\n",
    "### The prompt\n",
    "\n",
    "When you open the command line, you are greeted by the prompt. It typically shows your current user and the host you're logged into, followed by the current directory. For example:\n",
    "\n",
    "```\n",
    "root@debian:~#\n",
    "```\n",
    "\n",
    "This indicates that you are logged in as the `root` user on a host named `debian`, and you are currently in the root's home directory (`~`). The `#` symbol indicates that you are logged in as the root user. If you are logged in as a regular user, the prompt will end with a `$` symbol.\n",
    "\n",
    "## Your first commands\n",
    "\n",
    "First we need to check that Git is installed in our system, and as we will discuss later in the course, we would also like to know which version of Git we are using. To check if Git is intalled and which version we are using, we can use the following command:"
   ]
  },
  {
   "cell_type": "code",
   "execution_count": 2,
   "id": "84f0d342",
   "metadata": {
    "tags": [
     "scroll-output"
    ]
   },
   "outputs": [
    {
     "name": "stdout",
     "output_type": "stream",
     "text": [
      "git version 2.28.0\n"
     ]
    }
   ],
   "source": [
    "git --version"
   ]
  },
  {
   "cell_type": "markdown",
   "id": "bc6cb7bf",
   "metadata": {},
   "source": [
    "## Commands: options and arguments\n",
    "\n",
    "Commands can have options (shortened with a single dash `-` or full word with double dashes `--`) and arguments (values that the command acts on) to modify their behavior or specify what they should act on. For example, in the previous command, `--version` is an option that tells Git to display its version.\n",
    "\n",
    "## Clearing the terminal\n",
    "\n",
    "To clear the terminal and get a clean screen, use:"
   ]
  },
  {
   "cell_type": "code",
   "execution_count": 3,
   "id": "2d164e94",
   "metadata": {
    "tags": [
     "remove-output"
    ]
   },
   "outputs": [
    {
     "name": "stdout",
     "output_type": "stream",
     "text": [
      "\u001b[3J\u001b[H\u001b[2J\n"
     ]
    }
   ],
   "source": [
    "clear"
   ]
  },
  {
   "cell_type": "markdown",
   "id": "52660fea",
   "metadata": {},
   "source": [
    "## Creating a new directory\n",
    "\n",
    "To create a new directory named `test`, use the `mkdir` command followed by the name of the directory you want to create. For example:"
   ]
  },
  {
   "cell_type": "code",
   "execution_count": 4,
   "id": "e1ac0e22",
   "metadata": {},
   "outputs": [],
   "source": [
    "mkdir test"
   ]
  },
  {
   "cell_type": "markdown",
   "id": "ac66363c",
   "metadata": {},
   "source": [
    "## Creating a new file\n",
    "\n",
    "To create a new file named `hello.txt`, use the `touch` command followed by the name of the file you want to create. For example:"
   ]
  },
  {
   "cell_type": "code",
   "execution_count": 5,
   "id": "90ee7459",
   "metadata": {},
   "outputs": [],
   "source": [
    "touch hello.txt"
   ]
  },
  {
   "cell_type": "markdown",
   "id": "9ce4435e",
   "metadata": {},
   "source": [
    "## Adding content to a file\n",
    "To add content to a file, use the `echo` command followed by the content you want to add and the name of the file you want to add it to. For example, to add the text \"Hello, world!\" to the `hello.txt` file, use:"
   ]
  },
  {
   "cell_type": "code",
   "execution_count": 6,
   "id": "d4f988ec",
   "metadata": {},
   "outputs": [],
   "source": [
    "echo \"Hello, world!\" > hello.txt"
   ]
  },
  {
   "cell_type": "markdown",
   "id": "69c1e2bc",
   "metadata": {},
   "source": [
    "## Displaying the content of a file\n",
    "\n",
    "To display the content of a file, use the `cat` command followed by the name of the file you want to display. For example, to display the content of the `hello.txt` file, use:"
   ]
  },
  {
   "cell_type": "code",
   "execution_count": 7,
   "id": "c079bb27",
   "metadata": {},
   "outputs": [
    {
     "name": "stdout",
     "output_type": "stream",
     "text": [
      "Hello, world!\n"
     ]
    }
   ],
   "source": [
    "cat hello.txt"
   ]
  },
  {
   "cell_type": "markdown",
   "id": "4beecd25",
   "metadata": {},
   "source": [
    "## Navegating the File system\n",
    "\n",
    "To display the current directory you are in, use:"
   ]
  },
  {
   "cell_type": "code",
   "execution_count": 8,
   "id": "6a360589",
   "metadata": {},
   "outputs": [
    {
     "name": "stdout",
     "output_type": "stream",
     "text": [
      "/home/callaram/tds/msdp-book/home/ch1\n"
     ]
    }
   ],
   "source": [
    "pwd"
   ]
  },
  {
   "cell_type": "markdown",
   "id": "5ad511ee",
   "metadata": {},
   "source": [
    "To list the files and directories in your current directory, use:"
   ]
  },
  {
   "cell_type": "code",
   "execution_count": 9,
   "id": "71de8d50",
   "metadata": {},
   "outputs": [
    {
     "name": "stdout",
     "output_type": "stream",
     "text": [
      "hello.txt  \u001b[0m\u001b[38;5;33mtest\u001b[0m\n"
     ]
    }
   ],
   "source": [
    "ls"
   ]
  },
  {
   "cell_type": "markdown",
   "id": "9511bde2",
   "metadata": {},
   "source": [
    "To include hidden files (those starting with a dot `.`) in the list, add the `-a` option to the `ls` command. For example, to list all files and directories in your current directory, use:"
   ]
  },
  {
   "cell_type": "code",
   "execution_count": 10,
   "id": "114befa3",
   "metadata": {},
   "outputs": [
    {
     "name": "stdout",
     "output_type": "stream",
     "text": [
      "\u001b[0m\u001b[38;5;33m.\u001b[0m  \u001b[38;5;33m..\u001b[0m  hello.txt  \u001b[38;5;33mtest\u001b[0m\n"
     ]
    }
   ],
   "source": [
    "ls -a"
   ]
  },
  {
   "cell_type": "markdown",
   "id": "f208d4c1",
   "metadata": {},
   "source": [
    "To get more information about the files and directories in your current directory, use the `-l` option. For example:"
   ]
  },
  {
   "cell_type": "code",
   "execution_count": 11,
   "id": "83fc65bb",
   "metadata": {},
   "outputs": [
    {
     "name": "stdout",
     "output_type": "stream",
     "text": [
      "total 2\n",
      "-rw-r----- 1 callaram games   14 Mar  2 23:25 hello.txt\n",
      "drwxr-x--- 2 callaram games 4096 Mar  2 23:25 \u001b[0m\u001b[38;5;33mtest\u001b[0m\n"
     ]
    },
    {
     "name": "stdout",
     "output_type": "stream",
     "text": [
      "-rw-r----- 1 callaram games   14 Mar  2 23:25 hello.txt\n"
     ]
    },
    {
     "name": "stdout",
     "output_type": "stream",
     "text": [
      "drwxr-x--- 2 callaram games 4096 Mar  2 23:25 \u001b[0m\u001b[38;5;33mtest\u001b[0m\n"
     ]
    }
   ],
   "source": [
    "ls -l"
   ]
  },
  {
   "cell_type": "markdown",
   "id": "47dbdb69",
   "metadata": {},
   "source": [
    "To combine options, use them together. For example, to list all files and directories in your current directory with more information, use:"
   ]
  },
  {
   "cell_type": "code",
   "execution_count": 12,
   "id": "401b0fed",
   "metadata": {},
   "outputs": [
    {
     "name": "stdout",
     "output_type": "stream",
     "text": [
      "total 4\n",
      "drwxr-x--- 3 callaram games 4096 Mar  2 23:25 \u001b[0m\u001b[38;5;33m.\u001b[0m\n",
      "drwxr-xr-x 3 callaram games 4096 Mar  2 23:25 \u001b[38;5;33m..\u001b[0m\n",
      "-rw-r----- 1 callaram games   14 Mar  2 23:25 hello.txt\n",
      "drwxr-x--- 2 callaram games 4096 Mar  2 23:25 \u001b[38;5;33mtest\u001b[0m\n"
     ]
    },
    {
     "name": "stdout",
     "output_type": "stream",
     "text": [
      "drwxr-x--- 3 callaram games 4096 Mar  2 23:25 \u001b[0m\u001b[38;5;33m.\u001b[0m\n"
     ]
    },
    {
     "name": "stdout",
     "output_type": "stream",
     "text": [
      "drwxr-xr-x 3 callaram games 4096 Mar  2 23:25 \u001b[38;5;33m..\u001b[0m\n"
     ]
    },
    {
     "name": "stdout",
     "output_type": "stream",
     "text": [
      "-rw-r----- 1 callaram games   14 Mar  2 23:25 hello.txt\n"
     ]
    },
    {
     "name": "stdout",
     "output_type": "stream",
     "text": [
      "drwxr-x--- 2 callaram games 4096 Mar  2 23:25 \u001b[38;5;33mtest\u001b[0m\n"
     ]
    }
   ],
   "source": [
    "ls -la"
   ]
  },
  {
   "cell_type": "markdown",
   "id": "ca3c7178",
   "metadata": {},
   "source": [
    "To list all options available for a command you can frequeantly, use the `--help` option. For example, to list all options available for the `ls` command, use:"
   ]
  },
  {
   "cell_type": "code",
   "execution_count": 13,
   "id": "8f543c4b",
   "metadata": {
    "tags": [
     "scroll-output"
    ]
   },
   "outputs": [
    {
     "name": "stdout",
     "output_type": "stream",
     "text": [
      "Usage: ls [OPTION]... [FILE]...\n",
      "List information about the FILEs (the current directory by default).\n",
      "Sort entries alphabetically if none of -cftuvSUX nor --sort is specified.\n",
      "\n",
      "Mandatory arguments to long options are mandatory for short options too.\n",
      "  -a, --all                  do not ignore entries starting with .\n",
      "  -A, --almost-all           do not list implied . and ..\n",
      "      --author               with -l, print the author of each file\n",
      "  -b, --escape               print C-style escapes for nongraphic characters\n",
      "      --block-size=SIZE      with -l, scale sizes by SIZE when printing them;\n",
      "                               e.g., '--block-size=M'; see SIZE format below\n",
      "  -B, --ignore-backups       do not list implied entries ending with ~\n",
      "  -c                         with -lt: sort by, and show, ctime (time of last\n",
      "                               modification of file status information);\n",
      "                               with -l: show ctime and sort by name;\n",
      "                               otherwise: sort by ctime, newest first\n",
      "  -C                         list entries by columns\n",
      "      --color[=WHEN]         colorize the output; WHEN can be 'always' (default\n",
      "                               if omitted), 'auto', or 'never'; more info below\n",
      "  -d, --directory            list directories themselves, not their contents\n",
      "  -D, --dired                generate output designed for Emacs' dired mode\n",
      "  -f                         do not sort, enable -aU, disable -ls --color\n",
      "  -F, --classify             append indicator (one of */=>@|) to entries\n",
      "      --file-type            likewise, except do not append '*'\n",
      "      --format=WORD          across -x, commas -m, horizontal -x, long -l,\n",
      "                               single-column -1, verbose -l, vertical -C\n",
      "      --full-time            like -l --time-style=full-iso\n",
      "  -g                         like -l, but do not list owner\n",
      "      --group-directories-first\n",
      "                             group directories before files;\n",
      "                               can be augmented with a --sort option, but any\n",
      "                               use of --sort=none (-U) disables grouping\n",
      "  -G, --no-group             in a long listing, don't print group names\n",
      "  -h, --human-readable       with -l and -s, print sizes like 1K 234M 2G etc.\n",
      "      --si                   likewise, but use powers of 1000 not 1024\n",
      "  -H, --dereference-command-line\n",
      "                             follow symbolic links listed on the command line\n",
      "      --dereference-command-line-symlink-to-dir\n",
      "                             follow each command line symbolic link\n",
      "                               that points to a directory\n",
      "      --hide=PATTERN         do not list implied entries matching shell PATTERN\n",
      "                               (overridden by -a or -A)\n",
      "      --hyperlink[=WHEN]     hyperlink file names; WHEN can be 'always'\n",
      "                               (default if omitted), 'auto', or 'never'\n",
      "      --indicator-style=WORD  append indicator with style WORD to entry names:\n",
      "                               none (default), slash (-p),\n",
      "                               file-type (--file-type), classify (-F)\n",
      "  -i, --inode                print the index number of each file\n",
      "  -I, --ignore=PATTERN       do not list implied entries matching shell PATTERN\n",
      "  -k, --kibibytes            default to 1024-byte blocks for disk usage;\n",
      "                               used only with -s and per directory totals\n",
      "  -l                         use a long listing format\n",
      "  -L, --dereference          when showing file information for a symbolic\n",
      "                               link, show information for the file the link\n",
      "                               references rather than for the link itself\n",
      "  -m                         fill width with a comma separated list of entries\n",
      "  -n, --numeric-uid-gid      like -l, but list numeric user and group IDs\n",
      "  -N, --literal              print entry names without quoting\n",
      "  -o                         like -l, but do not list group information\n",
      "  -p, --indicator-style=slash\n",
      "                             append / indicator to directories\n",
      "  -q, --hide-control-chars   print ? instead of nongraphic characters\n",
      "      --show-control-chars   show nongraphic characters as-is (the default,\n",
      "                               unless program is 'ls' and output is a terminal)\n",
      "  -Q, --quote-name           enclose entry names in double quotes\n",
      "      --quoting-style=WORD   use quoting style WORD for entry names:\n",
      "                               literal, locale, shell, shell-always,\n",
      "                               shell-escape, shell-escape-always, c, escape\n",
      "                               (overrides QUOTING_STYLE environment variable)\n",
      "  -r, --reverse              reverse order while sorting\n",
      "  -R, --recursive            list subdirectories recursively\n",
      "  -s, --size                 print the allocated size of each file, in blocks\n",
      "  -S                         sort by file size, largest first\n",
      "      --sort=WORD            sort by WORD instead of name: none (-U), size (-S),\n",
      "                               time (-t), version (-v), extension (-X)\n",
      "      --time=WORD            with -l, show time as WORD instead of default\n",
      "                               modification time: atime or access or use (-u);\n",
      "                               ctime or status (-c); also use specified time\n",
      "                               as sort key if --sort=time (newest first)\n",
      "      --time-style=TIME_STYLE  time/date format with -l; see TIME_STYLE below\n",
      "  -t                         sort by modification time, newest first\n",
      "  -T, --tabsize=COLS         assume tab stops at each COLS instead of 8\n",
      "  -u                         with -lt: sort by, and show, access time;\n",
      "                               with -l: show access time and sort by name;\n",
      "                               otherwise: sort by access time, newest first\n",
      "  -U                         do not sort; list entries in directory order\n",
      "  -v                         natural sort of (version) numbers within text\n",
      "  -w, --width=COLS           set output width to COLS.  0 means no limit\n",
      "  -x                         list entries by lines instead of by columns\n",
      "  -X                         sort alphabetically by entry extension\n",
      "  -Z, --context              print any security context of each file\n",
      "  -1                         list one file per line.  Avoid '\\n' with -q or -b\n",
      "      --help     display this help and exit\n",
      "      --version  output version information and exit\n",
      "\n",
      "The SIZE argument is an integer and optional unit (example: 10K is 10*1024).\n",
      "Units are K,M,G,T,P,E,Z,Y (powers of 1024) or KB,MB,... (powers of 1000).\n",
      "\n",
      "The TIME_STYLE argument can be full-iso, long-iso, iso, locale, or +FORMAT.\n",
      "FORMAT is interpreted like in date(1).  If FORMAT is FORMAT1<newline>FORMAT2,\n",
      "then FORMAT1 applies to non-recent files and FORMAT2 to recent files.\n",
      "TIME_STYLE prefixed with 'posix-' takes effect only outside the POSIX locale.\n",
      "Also the TIME_STYLE environment variable sets the default style to use.\n",
      "\n",
      "Using color to distinguish file types is disabled both by default and\n",
      "with --color=never.  With --color=auto, ls emits color codes only when\n",
      "standard output is connected to a terminal.  The LS_COLORS environment\n",
      "variable can change the settings.  Use the dircolors command to set it.\n",
      "\n",
      "Exit status:\n",
      " 0  if OK,\n",
      " 1  if minor problems (e.g., cannot access subdirectory),\n",
      " 2  if serious trouble (e.g., cannot access command-line argument).\n",
      "\n",
      "GNU coreutils online help: <https://www.gnu.org/software/coreutils/>\n",
      "Full documentation at: <https://www.gnu.org/software/coreutils/ls>\n",
      "or available locally via: info '(coreutils) ls invocation'\n"
     ]
    },
    {
     "name": "stdout",
     "output_type": "stream",
     "text": [
      "List information about the FILEs (the current directory by default).\n"
     ]
    },
    {
     "name": "stdout",
     "output_type": "stream",
     "text": [
      "Sort entries alphabetically if none of -cftuvSUX nor --sort is specified.\n"
     ]
    },
    {
     "name": "stdout",
     "output_type": "stream",
     "text": [
      "\n"
     ]
    },
    {
     "name": "stdout",
     "output_type": "stream",
     "text": [
      "Mandatory arguments to long options are mandatory for short options too.\n"
     ]
    },
    {
     "name": "stdout",
     "output_type": "stream",
     "text": [
      "  -a, --all                  do not ignore entries starting with .\n"
     ]
    },
    {
     "name": "stdout",
     "output_type": "stream",
     "text": [
      "  -A, --almost-all           do not list implied . and ..\n"
     ]
    },
    {
     "name": "stdout",
     "output_type": "stream",
     "text": [
      "      --author               with -l, print the author of each file\n"
     ]
    },
    {
     "name": "stdout",
     "output_type": "stream",
     "text": [
      "  -b, --escape               print C-style escapes for nongraphic characters\n"
     ]
    },
    {
     "name": "stdout",
     "output_type": "stream",
     "text": [
      "      --block-size=SIZE      with -l, scale sizes by SIZE when printing them;\n"
     ]
    },
    {
     "name": "stdout",
     "output_type": "stream",
     "text": [
      "                               e.g., '--block-size=M'; see SIZE format below\n"
     ]
    },
    {
     "name": "stdout",
     "output_type": "stream",
     "text": [
      "  -B, --ignore-backups       do not list implied entries ending with ~\n"
     ]
    },
    {
     "name": "stdout",
     "output_type": "stream",
     "text": [
      "  -c                         with -lt: sort by, and show, ctime (time of last\n"
     ]
    },
    {
     "name": "stdout",
     "output_type": "stream",
     "text": [
      "                               modification of file status information);\n"
     ]
    },
    {
     "name": "stdout",
     "output_type": "stream",
     "text": [
      "                               with -l: show ctime and sort by name;\n"
     ]
    },
    {
     "name": "stdout",
     "output_type": "stream",
     "text": [
      "                               otherwise: sort by ctime, newest first\n"
     ]
    },
    {
     "name": "stdout",
     "output_type": "stream",
     "text": [
      "  -C                         list entries by columns\n"
     ]
    },
    {
     "name": "stdout",
     "output_type": "stream",
     "text": [
      "      --color[=WHEN]         colorize the output; WHEN can be 'always' (default\n"
     ]
    },
    {
     "name": "stdout",
     "output_type": "stream",
     "text": [
      "                               if omitted), 'auto', or 'never'; more info below\n"
     ]
    },
    {
     "name": "stdout",
     "output_type": "stream",
     "text": [
      "  -d, --directory            list directories themselves, not their contents\n"
     ]
    },
    {
     "name": "stdout",
     "output_type": "stream",
     "text": [
      "  -D, --dired                generate output designed for Emacs' dired mode\n"
     ]
    },
    {
     "name": "stdout",
     "output_type": "stream",
     "text": [
      "  -f                         do not sort, enable -aU, disable -ls --color\n"
     ]
    },
    {
     "name": "stdout",
     "output_type": "stream",
     "text": [
      "  -F, --classify             append indicator (one of */=>@|) to entries\n"
     ]
    },
    {
     "name": "stdout",
     "output_type": "stream",
     "text": [
      "      --file-type            likewise, except do not append '*'\n"
     ]
    },
    {
     "name": "stdout",
     "output_type": "stream",
     "text": [
      "      --format=WORD          across -x, commas -m, horizontal -x, long -l,\n"
     ]
    },
    {
     "name": "stdout",
     "output_type": "stream",
     "text": [
      "                               single-column -1, verbose -l, vertical -C\n"
     ]
    },
    {
     "name": "stdout",
     "output_type": "stream",
     "text": [
      "      --full-time            like -l --time-style=full-iso\n"
     ]
    },
    {
     "name": "stdout",
     "output_type": "stream",
     "text": [
      "  -g                         like -l, but do not list owner\n"
     ]
    },
    {
     "name": "stdout",
     "output_type": "stream",
     "text": [
      "      --group-directories-first\n"
     ]
    },
    {
     "name": "stdout",
     "output_type": "stream",
     "text": [
      "                             group directories before files;\n"
     ]
    },
    {
     "name": "stdout",
     "output_type": "stream",
     "text": [
      "                               can be augmented with a --sort option, but any\n"
     ]
    },
    {
     "name": "stdout",
     "output_type": "stream",
     "text": [
      "                               use of --sort=none (-U) disables grouping\n"
     ]
    },
    {
     "name": "stdout",
     "output_type": "stream",
     "text": [
      "  -G, --no-group             in a long listing, don't print group names\n"
     ]
    },
    {
     "name": "stdout",
     "output_type": "stream",
     "text": [
      "  -h, --human-readable       with -l and -s, print sizes like 1K 234M 2G etc.\n"
     ]
    },
    {
     "name": "stdout",
     "output_type": "stream",
     "text": [
      "      --si                   likewise, but use powers of 1000 not 1024\n"
     ]
    },
    {
     "name": "stdout",
     "output_type": "stream",
     "text": [
      "  -H, --dereference-command-line\n"
     ]
    },
    {
     "name": "stdout",
     "output_type": "stream",
     "text": [
      "                             follow symbolic links listed on the command line\n"
     ]
    },
    {
     "name": "stdout",
     "output_type": "stream",
     "text": [
      "      --dereference-command-line-symlink-to-dir\n"
     ]
    },
    {
     "name": "stdout",
     "output_type": "stream",
     "text": [
      "                             follow each command line symbolic link\n"
     ]
    },
    {
     "name": "stdout",
     "output_type": "stream",
     "text": [
      "                               that points to a directory\n"
     ]
    },
    {
     "name": "stdout",
     "output_type": "stream",
     "text": [
      "      --hide=PATTERN         do not list implied entries matching shell PATTERN\n"
     ]
    },
    {
     "name": "stdout",
     "output_type": "stream",
     "text": [
      "                               (overridden by -a or -A)\n"
     ]
    },
    {
     "name": "stdout",
     "output_type": "stream",
     "text": [
      "      --hyperlink[=WHEN]     hyperlink file names; WHEN can be 'always'\n"
     ]
    },
    {
     "name": "stdout",
     "output_type": "stream",
     "text": [
      "                               (default if omitted), 'auto', or 'never'\n"
     ]
    },
    {
     "name": "stdout",
     "output_type": "stream",
     "text": [
      "      --indicator-style=WORD  append indicator with style WORD to entry names:\n"
     ]
    },
    {
     "name": "stdout",
     "output_type": "stream",
     "text": [
      "                               none (default), slash (-p),\n"
     ]
    },
    {
     "name": "stdout",
     "output_type": "stream",
     "text": [
      "                               file-type (--file-type), classify (-F)\n"
     ]
    },
    {
     "name": "stdout",
     "output_type": "stream",
     "text": [
      "  -i, --inode                print the index number of each file\n"
     ]
    },
    {
     "name": "stdout",
     "output_type": "stream",
     "text": [
      "  -I, --ignore=PATTERN       do not list implied entries matching shell PATTERN\n"
     ]
    },
    {
     "name": "stdout",
     "output_type": "stream",
     "text": [
      "  -k, --kibibytes            default to 1024-byte blocks for disk usage;\n"
     ]
    },
    {
     "name": "stdout",
     "output_type": "stream",
     "text": [
      "                               used only with -s and per directory totals\n"
     ]
    },
    {
     "name": "stdout",
     "output_type": "stream",
     "text": [
      "  -l                         use a long listing format\n"
     ]
    },
    {
     "name": "stdout",
     "output_type": "stream",
     "text": [
      "  -L, --dereference          when showing file information for a symbolic\n"
     ]
    },
    {
     "name": "stdout",
     "output_type": "stream",
     "text": [
      "                               link, show information for the file the link\n"
     ]
    },
    {
     "name": "stdout",
     "output_type": "stream",
     "text": [
      "                               references rather than for the link itself\n"
     ]
    },
    {
     "name": "stdout",
     "output_type": "stream",
     "text": [
      "  -m                         fill width with a comma separated list of entries\n"
     ]
    },
    {
     "name": "stdout",
     "output_type": "stream",
     "text": [
      "  -n, --numeric-uid-gid      like -l, but list numeric user and group IDs\n"
     ]
    },
    {
     "name": "stdout",
     "output_type": "stream",
     "text": [
      "  -N, --literal              print entry names without quoting\n"
     ]
    },
    {
     "name": "stdout",
     "output_type": "stream",
     "text": [
      "  -o                         like -l, but do not list group information\n"
     ]
    },
    {
     "name": "stdout",
     "output_type": "stream",
     "text": [
      "  -p, --indicator-style=slash\n"
     ]
    },
    {
     "name": "stdout",
     "output_type": "stream",
     "text": [
      "                             append / indicator to directories\n"
     ]
    },
    {
     "name": "stdout",
     "output_type": "stream",
     "text": [
      "  -q, --hide-control-chars   print ? instead of nongraphic characters\n"
     ]
    },
    {
     "name": "stdout",
     "output_type": "stream",
     "text": [
      "      --show-control-chars   show nongraphic characters as-is (the default,\n"
     ]
    },
    {
     "name": "stdout",
     "output_type": "stream",
     "text": [
      "                               unless program is 'ls' and output is a terminal)\n"
     ]
    },
    {
     "name": "stdout",
     "output_type": "stream",
     "text": [
      "  -Q, --quote-name           enclose entry names in double quotes\n"
     ]
    },
    {
     "name": "stdout",
     "output_type": "stream",
     "text": [
      "      --quoting-style=WORD   use quoting style WORD for entry names:\n"
     ]
    },
    {
     "name": "stdout",
     "output_type": "stream",
     "text": [
      "                               literal, locale, shell, shell-always,\n"
     ]
    },
    {
     "name": "stdout",
     "output_type": "stream",
     "text": [
      "                               shell-escape, shell-escape-always, c, escape\n"
     ]
    },
    {
     "name": "stdout",
     "output_type": "stream",
     "text": [
      "                               (overrides QUOTING_STYLE environment variable)\n"
     ]
    },
    {
     "name": "stdout",
     "output_type": "stream",
     "text": [
      "  -r, --reverse              reverse order while sorting\n"
     ]
    },
    {
     "name": "stdout",
     "output_type": "stream",
     "text": [
      "  -R, --recursive            list subdirectories recursively\n"
     ]
    },
    {
     "name": "stdout",
     "output_type": "stream",
     "text": [
      "  -s, --size                 print the allocated size of each file, in blocks\n"
     ]
    },
    {
     "name": "stdout",
     "output_type": "stream",
     "text": [
      "  -S                         sort by file size, largest first\n"
     ]
    },
    {
     "name": "stdout",
     "output_type": "stream",
     "text": [
      "      --sort=WORD            sort by WORD instead of name: none (-U), size (-S),\n"
     ]
    },
    {
     "name": "stdout",
     "output_type": "stream",
     "text": [
      "                               time (-t), version (-v), extension (-X)\n"
     ]
    },
    {
     "name": "stdout",
     "output_type": "stream",
     "text": [
      "      --time=WORD            with -l, show time as WORD instead of default\n"
     ]
    },
    {
     "name": "stdout",
     "output_type": "stream",
     "text": [
      "                               modification time: atime or access or use (-u);\n"
     ]
    },
    {
     "name": "stdout",
     "output_type": "stream",
     "text": [
      "                               ctime or status (-c); also use specified time\n"
     ]
    },
    {
     "name": "stdout",
     "output_type": "stream",
     "text": [
      "                               as sort key if --sort=time (newest first)\n"
     ]
    },
    {
     "name": "stdout",
     "output_type": "stream",
     "text": [
      "      --time-style=TIME_STYLE  time/date format with -l; see TIME_STYLE below\n"
     ]
    },
    {
     "name": "stdout",
     "output_type": "stream",
     "text": [
      "  -t                         sort by modification time, newest first\n"
     ]
    },
    {
     "name": "stdout",
     "output_type": "stream",
     "text": [
      "  -T, --tabsize=COLS         assume tab stops at each COLS instead of 8\n"
     ]
    },
    {
     "name": "stdout",
     "output_type": "stream",
     "text": [
      "  -u                         with -lt: sort by, and show, access time;\n"
     ]
    },
    {
     "name": "stdout",
     "output_type": "stream",
     "text": [
      "                               with -l: show access time and sort by name;\n"
     ]
    },
    {
     "name": "stdout",
     "output_type": "stream",
     "text": [
      "                               otherwise: sort by access time, newest first\n"
     ]
    },
    {
     "name": "stdout",
     "output_type": "stream",
     "text": [
      "  -U                         do not sort; list entries in directory order\n"
     ]
    },
    {
     "name": "stdout",
     "output_type": "stream",
     "text": [
      "  -v                         natural sort of (version) numbers within text\n"
     ]
    },
    {
     "name": "stdout",
     "output_type": "stream",
     "text": [
      "  -w, --width=COLS           set output width to COLS.  0 means no limit\n"
     ]
    },
    {
     "name": "stdout",
     "output_type": "stream",
     "text": [
      "  -x                         list entries by lines instead of by columns\n"
     ]
    },
    {
     "name": "stdout",
     "output_type": "stream",
     "text": [
      "  -X                         sort alphabetically by entry extension\n"
     ]
    },
    {
     "name": "stdout",
     "output_type": "stream",
     "text": [
      "  -Z, --context              print any security context of each file\n"
     ]
    },
    {
     "name": "stdout",
     "output_type": "stream",
     "text": [
      "  -1                         list one file per line.  Avoid '\\n' with -q or -b\n"
     ]
    },
    {
     "name": "stdout",
     "output_type": "stream",
     "text": [
      "      --help     display this help and exit\n"
     ]
    },
    {
     "name": "stdout",
     "output_type": "stream",
     "text": [
      "      --version  output version information and exit\n"
     ]
    },
    {
     "name": "stdout",
     "output_type": "stream",
     "text": [
      "\n"
     ]
    },
    {
     "name": "stdout",
     "output_type": "stream",
     "text": [
      "The SIZE argument is an integer and optional unit (example: 10K is 10*1024).\n"
     ]
    },
    {
     "name": "stdout",
     "output_type": "stream",
     "text": [
      "Units are K,M,G,T,P,E,Z,Y (powers of 1024) or KB,MB,... (powers of 1000).\n"
     ]
    },
    {
     "name": "stdout",
     "output_type": "stream",
     "text": [
      "\n"
     ]
    },
    {
     "name": "stdout",
     "output_type": "stream",
     "text": [
      "The TIME_STYLE argument can be full-iso, long-iso, iso, locale, or +FORMAT.\n"
     ]
    },
    {
     "name": "stdout",
     "output_type": "stream",
     "text": [
      "FORMAT is interpreted like in date(1).  If FORMAT is FORMAT1<newline>FORMAT2,\n"
     ]
    },
    {
     "name": "stdout",
     "output_type": "stream",
     "text": [
      "then FORMAT1 applies to non-recent files and FORMAT2 to recent files.\n"
     ]
    },
    {
     "name": "stdout",
     "output_type": "stream",
     "text": [
      "TIME_STYLE prefixed with 'posix-' takes effect only outside the POSIX locale.\n"
     ]
    },
    {
     "name": "stdout",
     "output_type": "stream",
     "text": [
      "Also the TIME_STYLE environment variable sets the default style to use.\n"
     ]
    },
    {
     "name": "stdout",
     "output_type": "stream",
     "text": [
      "\n"
     ]
    },
    {
     "name": "stdout",
     "output_type": "stream",
     "text": [
      "Using color to distinguish file types is disabled both by default and\n"
     ]
    },
    {
     "name": "stdout",
     "output_type": "stream",
     "text": [
      "with --color=never.  With --color=auto, ls emits color codes only when\n"
     ]
    },
    {
     "name": "stdout",
     "output_type": "stream",
     "text": [
      "standard output is connected to a terminal.  The LS_COLORS environment\n"
     ]
    },
    {
     "name": "stdout",
     "output_type": "stream",
     "text": [
      "variable can change the settings.  Use the dircolors command to set it.\n"
     ]
    },
    {
     "name": "stdout",
     "output_type": "stream",
     "text": [
      "\n"
     ]
    },
    {
     "name": "stdout",
     "output_type": "stream",
     "text": [
      "Exit status:\n"
     ]
    },
    {
     "name": "stdout",
     "output_type": "stream",
     "text": [
      " 0  if OK,\n"
     ]
    },
    {
     "name": "stdout",
     "output_type": "stream",
     "text": [
      " 1  if minor problems (e.g., cannot access subdirectory),\n"
     ]
    },
    {
     "name": "stdout",
     "output_type": "stream",
     "text": [
      " 2  if serious trouble (e.g., cannot access command-line argument).\n"
     ]
    },
    {
     "name": "stdout",
     "output_type": "stream",
     "text": [
      "\n"
     ]
    },
    {
     "name": "stdout",
     "output_type": "stream",
     "text": [
      "GNU coreutils online help: <https://www.gnu.org/software/coreutils/>\n"
     ]
    },
    {
     "name": "stdout",
     "output_type": "stream",
     "text": [
      "Full documentation at: <https://www.gnu.org/software/coreutils/ls>\n"
     ]
    },
    {
     "name": "stdout",
     "output_type": "stream",
     "text": [
      "or available locally via: info '(coreutils) ls invocation'\n"
     ]
    }
   ],
   "source": [
    "ls --help"
   ]
  },
  {
   "cell_type": "markdown",
   "id": "ca66cd92",
   "metadata": {},
   "source": [
    "To change directory, use the `cd` command followed by the name of the directory you want to change to as an argument. For example, to change to the `test` directory, use:"
   ]
  },
  {
   "cell_type": "code",
   "execution_count": 14,
   "id": "ca334c90",
   "metadata": {},
   "outputs": [],
   "source": [
    "cd test"
   ]
  },
  {
   "cell_type": "markdown",
   "id": "5b3a3524",
   "metadata": {},
   "source": [
    "```{admonition} What to notice\n",
    ":class: hint \n",
    "Note that the current directory in the prompt changed to reflect the new directory you are in and now it should look like this: `root@debian:~/test#`.\n",
    "```\n",
    "\n",
    "You can also confirm the current directory by using the `pwd` command again:"
   ]
  },
  {
   "cell_type": "code",
   "execution_count": 15,
   "id": "2fc5804e",
   "metadata": {},
   "outputs": [
    {
     "name": "stdout",
     "output_type": "stream",
     "text": [
      "/home/callaram/tds/msdp-book/home/ch1/test\n"
     ]
    }
   ],
   "source": [
    "pwd"
   ]
  },
  {
   "cell_type": "markdown",
   "id": "700cb753",
   "metadata": {},
   "source": [
    "You can use the `..` argument to go back one directory. For example, to go back to the previous directory, use:"
   ]
  },
  {
   "cell_type": "code",
   "execution_count": 16,
   "id": "623c835d",
   "metadata": {},
   "outputs": [],
   "source": [
    "cd .."
   ]
  },
  {
   "cell_type": "markdown",
   "id": "34878188",
   "metadata": {},
   "source": [
    "## Deleting a file\n",
    "To remove a file, use the `rm` command followed by the (relative or absolute) path to the file you want to remove. For example, to remove the `hello.txt` file, use:"
   ]
  },
  {
   "cell_type": "code",
   "execution_count": 17,
   "id": "484c686a",
   "metadata": {},
   "outputs": [],
   "source": [
    "rm hello.txt"
   ]
  },
  {
   "cell_type": "markdown",
   "id": "84224cff",
   "metadata": {},
   "source": [
    "## Deleting a directory\n",
    "To remove a directory and all its content, use the `rm` command followed by the `-r` option and the (relative or absolute) path to the directory you want to remove. For example, to remove the `test` directory, use:"
   ]
  },
  {
   "cell_type": "code",
   "execution_count": 18,
   "id": "30d0d90a",
   "metadata": {},
   "outputs": [],
   "source": [
    "rm -r test"
   ]
  },
  {
   "cell_type": "markdown",
   "id": "c6a71e6a",
   "metadata": {},
   "source": [
    "You can add the `-f` option to force the removal of the directory and its content without asking for confirmation. For example, to remove the `test` directory without confirmation, use:"
   ]
  },
  {
   "cell_type": "code",
   "execution_count": 19,
   "id": "7be1aba9",
   "metadata": {},
   "outputs": [],
   "source": [
    "rm -rf test"
   ]
  },
  {
   "cell_type": "markdown",
   "id": "d33ff4c1",
   "metadata": {},
   "source": [
    "```{admonition} Danger\n",
    ":class: danger\n",
    "The `rm` command is a powerful and potentially dangerous command. Always double-check the path you are providing to the `rm` command to avoid removing the wrong files or directories.\n",
    "```\n",
    "\n",
    "## Configuring Git\n",
    "Now that we have covered the basics of the command line, let's configure Git. The first thing you should do when you install Git is to set your username and email address. This information will be used to identify your work.\n",
    "\n",
    "To set your global username and email for Git:"
   ]
  },
  {
   "cell_type": "code",
   "execution_count": 20,
   "id": "348ca974",
   "metadata": {},
   "outputs": [],
   "source": [
    "git config --global user.name \"msdp-book\"\n",
    "git config --global user.email \"msdp.book@gmail.com\""
   ]
  },
  {
   "cell_type": "markdown",
   "id": "574eb504",
   "metadata": {},
   "source": [
    "To list your global Git configuration:"
   ]
  },
  {
   "cell_type": "code",
   "execution_count": 21,
   "id": "5c7f6581",
   "metadata": {},
   "outputs": [
    {
     "name": "stdout",
     "output_type": "stream",
     "text": [
      "user.name=msdp-book\n",
      "user.email=msdp.book@gmail.com\n",
      "http.sslverify=false\n",
      "init.defaultbranch=main\n"
     ]
    },
    {
     "name": "stdout",
     "output_type": "stream",
     "text": [
      "user.email=msdp.book@gmail.com\n"
     ]
    },
    {
     "name": "stdout",
     "output_type": "stream",
     "text": [
      "http.sslverify=false\n"
     ]
    },
    {
     "name": "stdout",
     "output_type": "stream",
     "text": [
      "init.defaultbranch=main\n"
     ]
    }
   ],
   "source": [
    "git config --global --list"
   ]
  },
  {
   "cell_type": "markdown",
   "id": "359f445f",
   "metadata": {},
   "source": [
    "```{admonition} Know more: Sytem vs Global vs Local Configuration\n",
    ":class: note\n",
    "Git has three levels of configuration: system, global, and local. The system configuration applies to all users on the system and all repositories. The global configuration applies to the current user and all repositories. The local configuration applies to the current repository only. You can use the `--system`, `--global`, and `--local` options to specify which level of configuration you want to work with.\n",
    "```"
   ]
  }
 ],
 "metadata": {
  "jupytext": {
   "formats": "md:myst",
   "text_representation": {
    "extension": ".md",
    "format_name": "myst",
    "format_version": 0.13,
    "jupytext_version": "1.11.5"
   }
  },
  "kernelspec": {
   "display_name": "Bash",
   "language": "bash",
   "name": "bash"
  },
  "language_info": {
   "codemirror_mode": "shell",
   "file_extension": ".sh",
   "mimetype": "text/x-sh",
   "name": "bash"
  },
  "source_map": [
   15,
   20,
   44,
   47,
   57,
   60,
   66,
   68,
   74,
   76,
   81,
   83,
   89,
   91,
   97,
   99,
   103,
   105,
   109,
   111,
   115,
   117,
   121,
   123,
   127,
   130,
   134,
   136,
   145,
   147,
   151,
   153,
   158,
   160,
   165,
   167,
   171,
   173,
   185,
   188,
   192,
   194
  ]
 },
 "nbformat": 4,
 "nbformat_minor": 5
}