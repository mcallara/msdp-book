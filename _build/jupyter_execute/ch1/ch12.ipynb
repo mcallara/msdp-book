{
 "cells": [
  {
   "cell_type": "code",
   "execution_count": 1,
   "id": "0cef179c",
   "metadata": {
    "tags": [
     "remove-input"
    ]
   },
   "outputs": [],
   "source": [
    "cd ../home/ch1"
   ]
  },
  {
   "cell_type": "markdown",
   "id": "2baeb1dc",
   "metadata": {},
   "source": [
    "# 1.2 Local repositories and commit\n",
    "\n",
    "In this chapter, we will explore the creation of local repositories, the process of committing changes, and the significance of these actions.\n",
    "\n",
    "## Checklist, before starting this class\n",
    "First, create a new project directory:"
   ]
  },
  {
   "cell_type": "code",
   "execution_count": 2,
   "id": "b731742b",
   "metadata": {},
   "outputs": [
    {
     "name": "stdout",
     "output_type": "stream",
     "text": [
      "mkdir: cannot create directory ‘my-project’: File exists\n"
     ]
    },
    {
     "ename": "",
     "evalue": "1",
     "output_type": "error",
     "traceback": []
    }
   ],
   "source": [
    "mkdir my-project"
   ]
  },
  {
   "cell_type": "markdown",
   "id": "bba83745",
   "metadata": {},
   "source": [
    "## Create a repository\n",
    "Change into your project directory:"
   ]
  },
  {
   "cell_type": "code",
   "execution_count": 3,
   "id": "dc1bcc9d",
   "metadata": {},
   "outputs": [],
   "source": [
    "cd my-project"
   ]
  },
  {
   "cell_type": "markdown",
   "id": "311c6d91",
   "metadata": {},
   "source": [
    "## Check that it is empty\n",
    "Verify the directory is empty:"
   ]
  },
  {
   "cell_type": "code",
   "execution_count": 4,
   "id": "c50886cc",
   "metadata": {},
   "outputs": [
    {
     "name": "stdout",
     "output_type": "stream",
     "text": [
      "\u001b[0m\u001b[38;5;33m.\u001b[0m  \u001b[38;5;33m..\u001b[0m  file1.txt  \u001b[38;5;33m.git\u001b[0m\n"
     ]
    }
   ],
   "source": [
    "ls -a"
   ]
  },
  {
   "cell_type": "markdown",
   "id": "b5c219c1",
   "metadata": {},
   "source": [
    "## Initialize a repository\n",
    "Initialize a new Git repository:"
   ]
  },
  {
   "cell_type": "code",
   "execution_count": 5,
   "id": "cb026e40",
   "metadata": {},
   "outputs": [
    {
     "name": "stdout",
     "output_type": "stream",
     "text": [
      "warning: re-init: ignored --initial-branch=main\n",
      "Reinitialized existing Git repository in /home/callaram/tds/home/ch1/my-project/.git/\n"
     ]
    },
    {
     "name": "stdout",
     "output_type": "stream",
     "text": [
      "Reinitialized existing Git repository in /home/callaram/tds/home/ch1/my-project/.git/\n"
     ]
    }
   ],
   "source": [
    "git init -b main"
   ]
  },
  {
   "cell_type": "markdown",
   "id": "b13fd639",
   "metadata": {},
   "source": [
    "```{admonition} What to notice\n",
    ":class: hint\n",
    "Notice the main branch is mentioned in the left bottom corner of Visual Studio Code (VSC).\n",
    "```\n",
    "\n",
    "**NOTE:** In VSC, the `.git` folder (along with some others) is hidden by default to avoid accidental changes. You can modify this behavior in the settings.\n",
    "\n",
    "## Discussion: Main vs Master branch\n",
    "From Git 2.28 onwards, the default branch name can be changed. This is how you set \"main\" as your default branch globally:"
   ]
  },
  {
   "cell_type": "code",
   "execution_count": 6,
   "id": "ef883603",
   "metadata": {},
   "outputs": [],
   "source": [
    "git config --global init.defaultBranch main"
   ]
  },
  {
   "cell_type": "markdown",
   "id": "d94637f3",
   "metadata": {},
   "source": [
    "Check the repository status:"
   ]
  },
  {
   "cell_type": "code",
   "execution_count": 7,
   "id": "40a4e269",
   "metadata": {},
   "outputs": [
    {
     "name": "stdout",
     "output_type": "stream",
     "text": [
      "On branch new-feature-branch\n",
      "nothing to commit, working tree clean\n"
     ]
    },
    {
     "name": "stdout",
     "output_type": "stream",
     "text": [
      "nothing to commit, working tree clean\n"
     ]
    }
   ],
   "source": [
    "git status"
   ]
  },
  {
   "cell_type": "markdown",
   "id": "52269702",
   "metadata": {},
   "source": [
    "## Deleting the Git repository\n",
    "Deleting the `.git` folder removes the repository:"
   ]
  },
  {
   "cell_type": "code",
   "execution_count": 8,
   "id": "57b7aabf",
   "metadata": {},
   "outputs": [],
   "source": [
    "rm -rf .git"
   ]
  },
  {
   "cell_type": "markdown",
   "id": "6fa0a1e4",
   "metadata": {},
   "source": [
    "If you try this command you will need to initialize the repository again with:"
   ]
  },
  {
   "cell_type": "code",
   "execution_count": 9,
   "id": "bafafca8",
   "metadata": {},
   "outputs": [
    {
     "name": "stdout",
     "output_type": "stream",
     "text": [
      "Initialized empty Git repository in /home/callaram/tds/home/ch1/my-project/.git/\n"
     ]
    }
   ],
   "source": [
    "git init"
   ]
  },
  {
   "cell_type": "markdown",
   "id": "4851900d",
   "metadata": {},
   "source": [
    "## Exercise: Verify deletion\n",
    "Check that the `.git` folder is now missing:"
   ]
  },
  {
   "cell_type": "code",
   "execution_count": 10,
   "id": "d0ef232c",
   "metadata": {},
   "outputs": [
    {
     "name": "stdout",
     "output_type": "stream",
     "text": [
      "\u001b[0m\u001b[38;5;33m.\u001b[0m  \u001b[38;5;33m..\u001b[0m  file1.txt  \u001b[38;5;33m.git\u001b[0m\n"
     ]
    }
   ],
   "source": [
    "ls -a"
   ]
  },
  {
   "cell_type": "markdown",
   "id": "8e697337",
   "metadata": {},
   "source": [
    "## Discussion: Areas of Git\n",
    "Exploring the `.git` folder and its subdirectories:"
   ]
  },
  {
   "cell_type": "code",
   "execution_count": 11,
   "id": "1f180a2f",
   "metadata": {},
   "outputs": [
    {
     "name": "stdout",
     "output_type": "stream",
     "text": [
      "\u001b[0m\u001b[38;5;33m.\u001b[0m  \u001b[38;5;33m..\u001b[0m  config  description  HEAD  \u001b[38;5;33mhooks\u001b[0m  \u001b[38;5;33minfo\u001b[0m  \u001b[38;5;33mobjects\u001b[0m  \u001b[38;5;33mrefs\u001b[0m\n",
      "\u001b[0m\u001b[38;5;33m.\u001b[0m  \u001b[38;5;33m..\u001b[0m  \u001b[38;5;33minfo\u001b[0m  \u001b[38;5;33mpack\u001b[0m\n"
     ]
    },
    {
     "name": "stdout",
     "output_type": "stream",
     "text": [
      "\u001b[0m\u001b[38;5;33m.\u001b[0m  \u001b[38;5;33m..\u001b[0m  \u001b[38;5;33minfo\u001b[0m  \u001b[38;5;33mpack\u001b[0m\n"
     ]
    }
   ],
   "source": [
    "ls .git -a\n",
    "ls .git/objects -a"
   ]
  },
  {
   "cell_type": "markdown",
   "id": "2a7732f8",
   "metadata": {},
   "source": [
    "## What is a commit?\n",
    "\n",
    "### Exercise: Create a text file\n",
    "Use the terminal to create a new file:"
   ]
  },
  {
   "cell_type": "code",
   "execution_count": 12,
   "id": "98cacce8",
   "metadata": {},
   "outputs": [],
   "source": [
    "touch file1.txt"
   ]
  },
  {
   "cell_type": "markdown",
   "id": "76cbe958",
   "metadata": {},
   "source": [
    "### Exercise: Edit the file\n",
    "You can edit the file with VSC or directly from the terminal:"
   ]
  },
  {
   "cell_type": "code",
   "execution_count": 13,
   "id": "a5bb82cf",
   "metadata": {},
   "outputs": [],
   "source": [
    "echo -n \"This is file 1.\" >> file1.txt"
   ]
  },
  {
   "cell_type": "markdown",
   "id": "5766bc7c",
   "metadata": {},
   "source": [
    "```{admonition} What to notice\n",
    ":class: hint \n",
    "In VSC, the file appears in the Explorer with a \"U\" symbol indicating it's untracked.\n",
    "```\n",
    "\n",
    "## The two steps of a commit\n",
    "Add the file to the staging area and commit:"
   ]
  },
  {
   "cell_type": "code",
   "execution_count": 14,
   "id": "1713ddb9",
   "metadata": {},
   "outputs": [
    {
     "name": "stdout",
     "output_type": "stream",
     "text": [
      "[main (root-commit) 1fc9e27] Add file1.txt\n",
      " 1 file changed, 3 insertions(+)\n",
      " create mode 100644 file1.txt\n"
     ]
    },
    {
     "name": "stdout",
     "output_type": "stream",
     "text": [
      " 1 file changed, 3 insertions(+)\n"
     ]
    },
    {
     "name": "stdout",
     "output_type": "stream",
     "text": [
      " create mode 100644 file1.txt\n"
     ]
    }
   ],
   "source": [
    "git add file1.txt\n",
    "git commit -m \"Add file1.txt\""
   ]
  },
  {
   "cell_type": "markdown",
   "id": "788cadaf",
   "metadata": {},
   "source": [
    "```{admonition} What to notice\n",
    ":class: hint \n",
    "After adding, the file moves to the staging area. After committing, it's no longer marked with an \"A\" but is committed to the repository.\n",
    "```\n",
    "\n",
    "Check the repository status again:"
   ]
  },
  {
   "cell_type": "code",
   "execution_count": 15,
   "id": "5b90f595",
   "metadata": {},
   "outputs": [
    {
     "name": "stdout",
     "output_type": "stream",
     "text": [
      "On branch main\n",
      "nothing to commit, working tree clean\n"
     ]
    },
    {
     "name": "stdout",
     "output_type": "stream",
     "text": [
      "nothing to commit, working tree clean\n"
     ]
    }
   ],
   "source": [
    "git status"
   ]
  },
  {
   "cell_type": "markdown",
   "id": "a860b90f",
   "metadata": {},
   "source": [
    "List the commits:"
   ]
  },
  {
   "cell_type": "code",
   "execution_count": 16,
   "id": "9506d38e",
   "metadata": {},
   "outputs": [
    {
     "name": "stdout",
     "output_type": "stream",
     "text": [
      "\u001b[33mcommit 1fc9e27026ba4f94c6a24d4970363411344f2ee7\u001b[m\u001b[33m (\u001b[m\u001b[1;36mHEAD -> \u001b[m\u001b[1;32mmain\u001b[m\u001b[33m)\u001b[m\n",
      "Author: mcallara <mcallara@gmail.com>\n",
      "Date:   Thu Feb 8 23:34:32 2024 +0100\n",
      "\n",
      "    Add file1.txt\n"
     ]
    },
    {
     "name": "stdout",
     "output_type": "stream",
     "text": [
      "Author: mcallara <mcallara@gmail.com>\n"
     ]
    },
    {
     "name": "stdout",
     "output_type": "stream",
     "text": [
      "Date:   Thu Feb 8 23:34:32 2024 +0100\n"
     ]
    },
    {
     "name": "stdout",
     "output_type": "stream",
     "text": [
      "\n"
     ]
    },
    {
     "name": "stdout",
     "output_type": "stream",
     "text": [
      "    Add file1.txt\n"
     ]
    }
   ],
   "source": [
    "git log"
   ]
  },
  {
   "cell_type": "markdown",
   "id": "5571ddfb",
   "metadata": {},
   "source": [
    "```{admonition} What to notice\n",
    ":class: hint \n",
    "The commit is now listed. Explore the `.git/objects` directory to see the objects created by Git.\n",
    "```"
   ]
  },
  {
   "cell_type": "code",
   "execution_count": 17,
   "id": "2b22a07b",
   "metadata": {},
   "outputs": [
    {
     "name": "stdout",
     "output_type": "stream",
     "text": [
      "\u001b[0m\u001b[38;5;33m.\u001b[0m  \u001b[38;5;33m..\u001b[0m  \u001b[38;5;33m1f\u001b[0m  \u001b[38;5;33mb4\u001b[0m  \u001b[38;5;33minfo\u001b[0m  \u001b[38;5;33mpack\u001b[0m\n"
     ]
    }
   ],
   "source": [
    "ls -a .git/objects"
   ]
  },
  {
   "cell_type": "markdown",
   "id": "ef8b76f1",
   "metadata": {},
   "source": [
    "## Summary\n",
    "We covered creating a repository, adding and committing a file, and the significance of the `.git` and objects directories.\n",
    "\n",
    "## References\n",
    "- [Official using Git with VSC Beginner Tutorial](https://www.youtube.com/watch?v=i_23KUAEtUM)"
   ]
  }
 ],
 "metadata": {
  "jupytext": {
   "formats": "md:myst",
   "text_representation": {
    "extension": ".md",
    "format_name": "myst",
    "format_version": 0.13,
    "jupytext_version": "1.11.5"
   }
  },
  "kernelspec": {
   "display_name": "Bash",
   "language": "bash",
   "name": "bash"
  },
  "language_info": {
   "codemirror_mode": "shell",
   "file_extension": ".sh",
   "mimetype": "text/x-sh",
   "name": "bash"
  },
  "source_map": [
   15,
   18,
   27,
   29,
   34,
   36,
   41,
   43,
   48,
   50,
   62,
   64,
   68,
   70,
   75,
   77,
   81,
   83,
   88,
   90,
   95,
   98,
   105,
   107,
   112,
   114,
   124,
   127,
   136,
   138,
   142,
   144,
   151,
   153
  ]
 },
 "nbformat": 4,
 "nbformat_minor": 5
}