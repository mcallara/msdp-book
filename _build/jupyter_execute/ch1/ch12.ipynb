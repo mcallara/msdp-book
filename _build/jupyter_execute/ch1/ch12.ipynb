{
 "cells": [
  {
   "cell_type": "code",
   "execution_count": 1,
   "id": "20a23f85",
   "metadata": {
    "tags": [
     "remove-input",
     "remove-output"
    ]
   },
   "outputs": [
    {
     "name": "stdout",
     "output_type": "stream",
     "text": [
      "mkdir: cannot create directory ‘ch1’: File exists\n"
     ]
    }
   ],
   "source": [
    "cd ../home\n",
    "mkdir ch1\n",
    "cd ch1"
   ]
  },
  {
   "cell_type": "markdown",
   "id": "61c7b423",
   "metadata": {},
   "source": [
    "# 1.2 Local repositories and commit\n",
    "\n",
    "In this chapter, we will explore the creation of local repositories and the process of committing changes. We will also learn how to interact with Git using the command line and Visual Studio Code (VSC).\n",
    "\n",
    "## Creating a dummy project\n",
    "If we want to learn about Git, we need a project to work with. Git can track changes in any type of files, it doesn't have to be code. So to keep it simple, we will create a dummy project, which will be just a directory with some text files in it.\n",
    "\n",
    "```{admonition} Test your knowledge\n",
    ":class: tip \n",
    " - Create an empty directory for our project and name it `my-project`.\n",
    " - Change into your project directory.\n",
    " - Verify that the directory is empty and that it does not contain any hidden files.\n",
    "```"
   ]
  },
  {
   "cell_type": "code",
   "execution_count": 2,
   "id": "3b2dd5fe",
   "metadata": {
    "tags": [
     "hide-input",
     "remove-output"
    ]
   },
   "outputs": [
    {
     "name": "stdout",
     "output_type": "stream",
     "text": [
      "\u001b[0m\u001b[38;5;33m.\u001b[0m  \u001b[38;5;33m..\u001b[0m\n"
     ]
    }
   ],
   "source": [
    "mkdir my-project\n",
    "cd my-project\n",
    "ls -a"
   ]
  },
  {
   "cell_type": "markdown",
   "id": "8add6b50",
   "metadata": {},
   "source": [
    "## Initialize a repository\n",
    "To tell Git that you want it to keep track of your project changes, we need to initialize a Git repository. To do that we use the `git init` command."
   ]
  },
  {
   "cell_type": "code",
   "execution_count": 3,
   "id": "af22ac92",
   "metadata": {},
   "outputs": [
    {
     "name": "stdout",
     "output_type": "stream",
     "text": [
      "Initialized empty Git repository in /home/callaram/tds/home/ch1/my-project/.git/\n"
     ]
    }
   ],
   "source": [
    "git init -b main"
   ]
  },
  {
   "cell_type": "markdown",
   "id": "a10a218a",
   "metadata": {},
   "source": [
    "```{admonition} What to notice\n",
    ":class: hint\n",
    "After initializing the repository:\n",
    "- A new hidden directory named `.git` is created inside the project directory. This directory will contain all the necessary files to keep track of the changes in the project.\n",
    "\n",
    "In Visual Studio Code (VSC):\n",
    "- The main branch is mentioned in the left bottom corner of the window.\n",
    "- The `.git` folder is not visible in the explorer because is hidden by default to avoid accidental changes. You can modify this behavior in the settings.\n",
    "```\n",
    "\n",
    "```{admonition} Test your knowledge\n",
    ":class: hint \n",
    " - Verify that the `.git` directory was created.\n",
    "```"
   ]
  },
  {
   "cell_type": "code",
   "execution_count": 4,
   "id": "86785d5f",
   "metadata": {},
   "outputs": [
    {
     "name": "stdout",
     "output_type": "stream",
     "text": [
      "\u001b[0m\u001b[38;5;33m.\u001b[0m  \u001b[38;5;33m..\u001b[0m  \u001b[38;5;33m.git\u001b[0m\n"
     ]
    }
   ],
   "source": [
    "ls -a"
   ]
  },
  {
   "cell_type": "markdown",
   "id": "29dd2bf1",
   "metadata": {},
   "source": [
    "```{admonition} Know more: Main vs Master branch\n",
    ":class: note\n",
    "From Git 2.28 onwards, the default branch name can be changed by using the command `git config --global init.defaultBranch main`.\n",
    "```"
   ]
  },
  {
   "cell_type": "code",
   "execution_count": 5,
   "id": "c8f3c830",
   "metadata": {
    "tags": [
     "remove-input",
     "remove-output"
    ]
   },
   "outputs": [],
   "source": [
    "git config --global init.defaultBranch main"
   ]
  },
  {
   "cell_type": "markdown",
   "id": "cf05c4bc",
   "metadata": {},
   "source": [
    "Check the repository status:"
   ]
  },
  {
   "cell_type": "code",
   "execution_count": 6,
   "id": "7275987c",
   "metadata": {},
   "outputs": [
    {
     "name": "stdout",
     "output_type": "stream",
     "text": [
      "On branch main\n",
      "\n",
      "No commits yet\n",
      "\n",
      "nothing to commit (create/copy files and use \"git add\" to track)\n"
     ]
    },
    {
     "name": "stdout",
     "output_type": "stream",
     "text": [
      "\n"
     ]
    },
    {
     "name": "stdout",
     "output_type": "stream",
     "text": [
      "No commits yet\n"
     ]
    },
    {
     "name": "stdout",
     "output_type": "stream",
     "text": [
      "\n"
     ]
    },
    {
     "name": "stdout",
     "output_type": "stream",
     "text": [
      "nothing to commit (create/copy files and use \"git add\" to track)\n"
     ]
    }
   ],
   "source": [
    "git status"
   ]
  },
  {
   "cell_type": "markdown",
   "id": "1e7a2ac1",
   "metadata": {},
   "source": [
    "## Deleting the Git repository\n",
    "To delete the repository, we can just simply delete the `.git` folder, we can do this with the `rm` command followed by the `-rf` option (to delete all the content without confirmation) and the path to the `.git` folder:"
   ]
  },
  {
   "cell_type": "code",
   "execution_count": 7,
   "id": "50734393",
   "metadata": {},
   "outputs": [],
   "source": [
    "rm -rf .git"
   ]
  },
  {
   "cell_type": "markdown",
   "id": "d750f751",
   "metadata": {},
   "source": [
    "After deleting the repository,all the changes made to the files in the working directory will remain, but the history of the changes will be lost.\n",
    "\n",
    "If you try this command you will need to initialize the repository again with:"
   ]
  },
  {
   "cell_type": "code",
   "execution_count": 8,
   "id": "518d1f9d",
   "metadata": {},
   "outputs": [
    {
     "name": "stdout",
     "output_type": "stream",
     "text": [
      "Initialized empty Git repository in /home/callaram/tds/home/ch1/my-project/.git/\n"
     ]
    }
   ],
   "source": [
    "git init -b main"
   ]
  },
  {
   "cell_type": "markdown",
   "id": "99d6afeb",
   "metadata": {},
   "source": [
    "## The three basic sections of Git\n",
    "So we have a directory for our project and a repository (the `.git` directory) associated to it but how do we actually keep track of the changes in our project? To keep track of the changes, Git uses three areas: the working directory, the staging area, and the repository to allow the user to generate snapshots of the project (that we call commits). \n",
    "\n",
    "1. The working directory is the area in which you create, edit and delete files.\n",
    "2. The staging area, or index, it is a file, stored in the `.git` directory, that stores information about what will go into your next commit.\n",
    "3. The repository is where git stores all the commits, the snapshots of the content of your working directory that was staged for a commit. Git generates a commit history by linking each commit to previous commits.\n",
    "\n",
    "## Commiting changes\n",
    "\n",
    "```{admonition} Test your knowledge\n",
    ":class: hint \n",
    " - Use the terminal to create a new file named `file1.txt`.\n",
    " - Use the terminal to add the text \"This is file 1.\" to the file.\n",
    "```"
   ]
  },
  {
   "cell_type": "code",
   "execution_count": 9,
   "id": "3addcd9a",
   "metadata": {
    "tags": [
     "hide-input",
     "remove-output"
    ]
   },
   "outputs": [],
   "source": [
    "touch file1.txt\n",
    "echo \"This is the first line.\" >> file1.txt"
   ]
  },
  {
   "cell_type": "markdown",
   "id": "17675fa2",
   "metadata": {},
   "source": [
    "Now we have a file in the working directory. Let's check the repository status using the `git status` command."
   ]
  },
  {
   "cell_type": "code",
   "execution_count": 10,
   "id": "58b35fcc",
   "metadata": {},
   "outputs": [
    {
     "name": "stdout",
     "output_type": "stream",
     "text": [
      "On branch main\n",
      "\n",
      "No commits yet\n",
      "\n",
      "Untracked files:\n",
      "  (use \"git add <file>...\" to include in what will be committed)\n",
      "\t\u001b[31mfile1.txt\u001b[m\n",
      "\n",
      "nothing added to commit but untracked files present (use \"git add\" to track)\n"
     ]
    },
    {
     "name": "stdout",
     "output_type": "stream",
     "text": [
      "\n"
     ]
    },
    {
     "name": "stdout",
     "output_type": "stream",
     "text": [
      "No commits yet\n"
     ]
    },
    {
     "name": "stdout",
     "output_type": "stream",
     "text": [
      "\n"
     ]
    },
    {
     "name": "stdout",
     "output_type": "stream",
     "text": [
      "Untracked files:\n"
     ]
    },
    {
     "name": "stdout",
     "output_type": "stream",
     "text": [
      "  (use \"git add <file>...\" to include in what will be committed)\n"
     ]
    },
    {
     "name": "stdout",
     "output_type": "stream",
     "text": [
      "\t\u001b[31mfile1.txt\u001b[m\n"
     ]
    },
    {
     "name": "stdout",
     "output_type": "stream",
     "text": [
      "\n"
     ]
    },
    {
     "name": "stdout",
     "output_type": "stream",
     "text": [
      "nothing added to commit but untracked files present (use \"git add\" to track)\n"
     ]
    }
   ],
   "source": [
    "git status"
   ]
  },
  {
   "cell_type": "markdown",
   "id": "6a3fdc60",
   "metadata": {},
   "source": [
    "```{admonition} What to notice\n",
    ":class: hint \n",
    "- Git tells us that the file is untracked.\n",
    "\n",
    "In VSC:\n",
    "- the file appears in the Explorer with a \"U\" symbol indicating that it is untracked.\n",
    "```\n",
    "\n",
    "### The two steps for a commit: add and commit\n",
    "To 'move' a file from the working directory to the staging area, we use the `git add` command."
   ]
  },
  {
   "cell_type": "code",
   "execution_count": 11,
   "id": "bbe39ff1",
   "metadata": {},
   "outputs": [],
   "source": [
    "git add file1.txt"
   ]
  },
  {
   "cell_type": "code",
   "execution_count": 12,
   "id": "3dc0e9b3",
   "metadata": {},
   "outputs": [
    {
     "name": "stdout",
     "output_type": "stream",
     "text": [
      "On branch main\n",
      "\n",
      "No commits yet\n",
      "\n",
      "Changes to be committed:\n",
      "  (use \"git rm --cached <file>...\" to unstage)\n",
      "\t\u001b[32mnew file:   file1.txt\u001b[m\n",
      "\n"
     ]
    },
    {
     "name": "stdout",
     "output_type": "stream",
     "text": [
      "\n"
     ]
    },
    {
     "name": "stdout",
     "output_type": "stream",
     "text": [
      "No commits yet\n"
     ]
    },
    {
     "name": "stdout",
     "output_type": "stream",
     "text": [
      "\n"
     ]
    },
    {
     "name": "stdout",
     "output_type": "stream",
     "text": [
      "Changes to be committed:\n"
     ]
    },
    {
     "name": "stdout",
     "output_type": "stream",
     "text": [
      "  (use \"git rm --cached <file>...\" to unstage)\n"
     ]
    },
    {
     "name": "stdout",
     "output_type": "stream",
     "text": [
      "\t\u001b[32mnew file:   file1.txt\u001b[m\n"
     ]
    },
    {
     "name": "stdout",
     "output_type": "stream",
     "text": [
      "\n"
     ]
    }
   ],
   "source": [
    "git status"
   ]
  },
  {
   "cell_type": "markdown",
   "id": "f761e1ce",
   "metadata": {},
   "source": [
    "```{admonition} What to notice\n",
    ":class: hint \n",
    "- The file is now on the list of 'changes to be commited' (in the staging area).\n",
    "\n",
    "In VSC:\n",
    "- the file appears in the Explorer with a \"A\" symbol indicating that it has been added to the staging area.\n",
    "```\n",
    "\n",
    "To 'move' all the changes in the staging area to the repository, we use the `git commit` command. We also need to add a commit message to describe the changes we made using the `-m` option."
   ]
  },
  {
   "cell_type": "code",
   "execution_count": 13,
   "id": "4fa31ca6",
   "metadata": {},
   "outputs": [
    {
     "name": "stdout",
     "output_type": "stream",
     "text": [
      "[main (root-commit) 20de958] Create file1.txt with the first line\n",
      " 1 file changed, 1 insertion(+)\n",
      " create mode 100644 file1.txt\n"
     ]
    },
    {
     "name": "stdout",
     "output_type": "stream",
     "text": [
      " 1 file changed, 1 insertion(+)\n"
     ]
    },
    {
     "name": "stdout",
     "output_type": "stream",
     "text": [
      " create mode 100644 file1.txt\n"
     ]
    }
   ],
   "source": [
    "git commit -m \"Create file1.txt with the first line\""
   ]
  },
  {
   "cell_type": "code",
   "execution_count": 14,
   "id": "c144ecc9",
   "metadata": {},
   "outputs": [
    {
     "name": "stdout",
     "output_type": "stream",
     "text": [
      "On branch main\n",
      "nothing to commit, working tree clean\n"
     ]
    },
    {
     "name": "stdout",
     "output_type": "stream",
     "text": [
      "nothing to commit, working tree clean\n"
     ]
    }
   ],
   "source": [
    "git status"
   ]
  },
  {
   "cell_type": "markdown",
   "id": "10e3c20c",
   "metadata": {},
   "source": [
    "% TODO: Working Tree vs Working Directory\n",
    "\n",
    "```{admonition} What to notice\n",
    ":class: hint \n",
    "- Git tells us that the working tree is clean, meaning that the working tree matches the tree of the last commit. All changes have been committed and there are no untracked files.\n",
    "In VSC:\n",
    "- The file is no longer emphasized in the Explorer.\n",
    "```\n",
    "\n",
    "## Listing the commits\n",
    "We can list the commit history using the `git log` command."
   ]
  },
  {
   "cell_type": "code",
   "execution_count": 15,
   "id": "4b7dad2d",
   "metadata": {},
   "outputs": [
    {
     "name": "stdout",
     "output_type": "stream",
     "text": [
      "\u001b[33mcommit 20de958a1c7217332659e1ef91ad9822097d9e34\u001b[m\u001b[33m (\u001b[m\u001b[1;36mHEAD -> \u001b[m\u001b[1;32mmain\u001b[m\u001b[33m)\u001b[m\n",
      "Author: msdp-book <msdp.book@gmail.com>\n",
      "Date:   Sat Mar 2 23:25:51 2024 +0100\n",
      "\n",
      "    Create file1.txt with the first line\n"
     ]
    },
    {
     "name": "stdout",
     "output_type": "stream",
     "text": [
      "Author: msdp-book <msdp.book@gmail.com>\n"
     ]
    },
    {
     "name": "stdout",
     "output_type": "stream",
     "text": [
      "Date:   Sat Mar 2 23:25:51 2024 +0100\n"
     ]
    },
    {
     "name": "stdout",
     "output_type": "stream",
     "text": [
      "\n"
     ]
    },
    {
     "name": "stdout",
     "output_type": "stream",
     "text": [
      "    Create file1.txt with the first line\n"
     ]
    }
   ],
   "source": [
    "git log"
   ]
  },
  {
   "cell_type": "markdown",
   "id": "034102ef",
   "metadata": {},
   "source": [
    "```{admonition} What to notice\n",
    ":class: hint \n",
    "- The commit is now listed.\n",
    "- The long string of characters is the commit hash. It's a unique identifier for the commit automatically generated by Git.\n",
    "- The author (that we added to the config) and date of the commit are also listed.\n",
    "- The commit message `Add file1.txt` is also displayed.\n",
    "```\n",
    "\n",
    "# A commit behind the scenes\n",
    "\n",
    "When we commit changes, Git creates a new object in the `.git/objects` directory. This object contains the changes we made to the files, the author, the date, and the commit message."
   ]
  },
  {
   "cell_type": "code",
   "execution_count": 16,
   "id": "c31916bc",
   "metadata": {},
   "outputs": [
    {
     "name": "stdout",
     "output_type": "stream",
     "text": [
      "\u001b[0m\u001b[38;5;33m.\u001b[0m  \u001b[38;5;33m..\u001b[0m  \u001b[38;5;33m20\u001b[0m  \u001b[38;5;33m59\u001b[0m  \u001b[38;5;33mc0\u001b[0m  \u001b[38;5;33minfo\u001b[0m  \u001b[38;5;33mpack\u001b[0m\n"
     ]
    }
   ],
   "source": [
    "ls -a .git/objects"
   ]
  },
  {
   "cell_type": "markdown",
   "id": "1aa535b2",
   "metadata": {},
   "source": [
    "## References\n",
    "- [Official using Git with VSC Beginner Tutorial](https://www.youtube.com/watch?v=i_23KUAEtUM)"
   ]
  }
 ],
 "metadata": {
  "jupytext": {
   "formats": "md:myst",
   "text_representation": {
    "extension": ".md",
    "format_name": "myst",
    "format_version": 0.13,
    "jupytext_version": "1.11.5"
   }
  },
  "kernelspec": {
   "display_name": "Bash",
   "language": "bash",
   "name": "bash"
  },
  "language_info": {
   "codemirror_mode": "shell",
   "file_extension": ".sh",
   "mimetype": "text/x-sh",
   "name": "bash"
  },
  "source_map": [
   15,
   20,
   36,
   41,
   46,
   48,
   65,
   67,
   74,
   77,
   81,
   83,
   87,
   89,
   95,
   97,
   114,
   118,
   122,
   124,
   137,
   141,
   143,
   155,
   159,
   161,
   175,
   177,
   191,
   193
  ]
 },
 "nbformat": 4,
 "nbformat_minor": 5
}