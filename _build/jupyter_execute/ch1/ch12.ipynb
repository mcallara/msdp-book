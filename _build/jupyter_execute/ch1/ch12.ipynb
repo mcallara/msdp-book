{
 "cells": [
  {
   "cell_type": "code",
   "execution_count": 1,
   "id": "2c82d603",
   "metadata": {
    "tags": [
     "remove-input"
    ]
   },
   "outputs": [],
   "source": [
    "cd ../home/ch1"
   ]
  },
  {
   "cell_type": "markdown",
   "id": "f8d43f19",
   "metadata": {},
   "source": [
    "# 1.2 Local repositories and commit\n",
    "\n",
    "In this chapter, we will explore the creation of local repositories, the process of committing changes, and the significance of these actions.\n",
    "\n",
    "## Checklist, before starting this class\n",
    "First, create a new project directory:"
   ]
  },
  {
   "cell_type": "code",
   "execution_count": 2,
   "id": "9ebc500c",
   "metadata": {},
   "outputs": [],
   "source": [
    "mkdir my-project"
   ]
  },
  {
   "cell_type": "markdown",
   "id": "76ca3599",
   "metadata": {},
   "source": [
    "## Create a repository\n",
    "Change into your project directory:"
   ]
  },
  {
   "cell_type": "code",
   "execution_count": 3,
   "id": "8c701168",
   "metadata": {},
   "outputs": [],
   "source": [
    "cd my-project"
   ]
  },
  {
   "cell_type": "markdown",
   "id": "ef8ec0f9",
   "metadata": {},
   "source": [
    "## Check that it is empty\n",
    "Verify the directory is empty:"
   ]
  },
  {
   "cell_type": "code",
   "execution_count": 4,
   "id": "0028bea7",
   "metadata": {},
   "outputs": [
    {
     "name": "stdout",
     "output_type": "stream",
     "text": [
      "\u001b[0m\u001b[38;5;33m.\u001b[0m  \u001b[38;5;33m..\u001b[0m\n"
     ]
    }
   ],
   "source": [
    "ls -a"
   ]
  },
  {
   "cell_type": "markdown",
   "id": "5cd3dc7b",
   "metadata": {},
   "source": [
    "## Initialize a repository\n",
    "Initialize a new Git repository:"
   ]
  },
  {
   "cell_type": "code",
   "execution_count": 5,
   "id": "6f82308b",
   "metadata": {},
   "outputs": [
    {
     "name": "stdout",
     "output_type": "stream",
     "text": [
      "Initialized empty Git repository in /home/callaram/tds/home/ch1/my-project/.git/\n"
     ]
    }
   ],
   "source": [
    "git init -b main"
   ]
  },
  {
   "cell_type": "markdown",
   "id": "382c3655",
   "metadata": {},
   "source": [
    "```{admonition} What to notice\n",
    ":class: hint\n",
    "Notice the main branch is mentioned in the left bottom corner of Visual Studio Code (VSC).\n",
    "```\n",
    "\n",
    "**NOTE:** In VSC, the `.git` folder (along with some others) is hidden by default to avoid accidental changes. You can modify this behavior in the settings.\n",
    "\n",
    "## Discussion: Main vs Master branch\n",
    "From Git 2.28 onwards, the default branch name can be changed. This is how you set \"main\" as your default branch globally:"
   ]
  },
  {
   "cell_type": "code",
   "execution_count": 6,
   "id": "088e59da",
   "metadata": {},
   "outputs": [],
   "source": [
    "git config --global init.defaultBranch main"
   ]
  },
  {
   "cell_type": "markdown",
   "id": "df5b76d1",
   "metadata": {},
   "source": [
    "Check the repository status:"
   ]
  },
  {
   "cell_type": "code",
   "execution_count": 7,
   "id": "be900e56",
   "metadata": {},
   "outputs": [
    {
     "name": "stdout",
     "output_type": "stream",
     "text": [
      "On branch main\n",
      "\n",
      "No commits yet\n",
      "\n",
      "nothing to commit (create/copy files and use \"git add\" to track)\n"
     ]
    },
    {
     "name": "stdout",
     "output_type": "stream",
     "text": [
      "\n"
     ]
    },
    {
     "name": "stdout",
     "output_type": "stream",
     "text": [
      "No commits yet\n"
     ]
    },
    {
     "name": "stdout",
     "output_type": "stream",
     "text": [
      "\n"
     ]
    },
    {
     "name": "stdout",
     "output_type": "stream",
     "text": [
      "nothing to commit (create/copy files and use \"git add\" to track)\n"
     ]
    }
   ],
   "source": [
    "git status"
   ]
  },
  {
   "cell_type": "markdown",
   "id": "4e6dff54",
   "metadata": {},
   "source": [
    "## Deleting the Git repository\n",
    "Deleting the `.git` folder removes the repository:"
   ]
  },
  {
   "cell_type": "code",
   "execution_count": 8,
   "id": "830ec702",
   "metadata": {},
   "outputs": [],
   "source": [
    "rm -rf .git"
   ]
  },
  {
   "cell_type": "markdown",
   "id": "de104a24",
   "metadata": {},
   "source": [
    "If you try this command you will need to initialize the repository again with:"
   ]
  },
  {
   "cell_type": "code",
   "execution_count": 9,
   "id": "f39f1f02",
   "metadata": {},
   "outputs": [
    {
     "name": "stdout",
     "output_type": "stream",
     "text": [
      "Initialized empty Git repository in /home/callaram/tds/home/ch1/my-project/.git/\n"
     ]
    }
   ],
   "source": [
    "git init"
   ]
  },
  {
   "cell_type": "markdown",
   "id": "ecdf3a5e",
   "metadata": {},
   "source": [
    "## Exercise: Verify deletion\n",
    "Check that the `.git` folder is now missing:"
   ]
  },
  {
   "cell_type": "code",
   "execution_count": 10,
   "id": "4f2be088",
   "metadata": {},
   "outputs": [
    {
     "name": "stdout",
     "output_type": "stream",
     "text": [
      "\u001b[0m\u001b[38;5;33m.\u001b[0m  \u001b[38;5;33m..\u001b[0m  \u001b[38;5;33m.git\u001b[0m\n"
     ]
    }
   ],
   "source": [
    "ls -a"
   ]
  },
  {
   "cell_type": "markdown",
   "id": "3bd5757d",
   "metadata": {},
   "source": [
    "## Discussion: Areas of Git\n",
    "Exploring the `.git` folder and its subdirectories:"
   ]
  },
  {
   "cell_type": "code",
   "execution_count": 11,
   "id": "fdbf37ce",
   "metadata": {},
   "outputs": [
    {
     "name": "stdout",
     "output_type": "stream",
     "text": [
      "\u001b[0m\u001b[38;5;33m.\u001b[0m  \u001b[38;5;33m..\u001b[0m  config  description  HEAD  \u001b[38;5;33mhooks\u001b[0m  \u001b[38;5;33minfo\u001b[0m  \u001b[38;5;33mobjects\u001b[0m  \u001b[38;5;33mrefs\u001b[0m\n",
      "\u001b[0m\u001b[38;5;33m.\u001b[0m  \u001b[38;5;33m..\u001b[0m  \u001b[38;5;33minfo\u001b[0m  \u001b[38;5;33mpack\u001b[0m\n"
     ]
    },
    {
     "name": "stdout",
     "output_type": "stream",
     "text": [
      "\u001b[0m\u001b[38;5;33m.\u001b[0m  \u001b[38;5;33m..\u001b[0m  \u001b[38;5;33minfo\u001b[0m  \u001b[38;5;33mpack\u001b[0m\n"
     ]
    }
   ],
   "source": [
    "ls .git -a\n",
    "ls .git/objects -a"
   ]
  },
  {
   "cell_type": "markdown",
   "id": "5e02bc3f",
   "metadata": {},
   "source": [
    "## What is a commit?\n",
    "\n",
    "### Exercise: Create a text file\n",
    "Use the terminal to create a new file:"
   ]
  },
  {
   "cell_type": "code",
   "execution_count": 12,
   "id": "a843d152",
   "metadata": {},
   "outputs": [],
   "source": [
    "touch file1.txt"
   ]
  },
  {
   "cell_type": "markdown",
   "id": "33afa160",
   "metadata": {},
   "source": [
    "### Exercise: Edit the file\n",
    "You can edit the file with VSC or directly from the terminal:"
   ]
  },
  {
   "cell_type": "code",
   "execution_count": 13,
   "id": "989ad994",
   "metadata": {},
   "outputs": [],
   "source": [
    "echo -n \"This is file 1.\" >> file1.txt"
   ]
  },
  {
   "cell_type": "markdown",
   "id": "76e1eda0",
   "metadata": {},
   "source": [
    "```{admonition} What to notice\n",
    ":class: hint \n",
    "In VSC, the file appears in the Explorer with a \"U\" symbol indicating it's untracked.\n",
    "```\n",
    "\n",
    "## The two steps of a commit\n",
    "Add the file to the staging area and commit:"
   ]
  },
  {
   "cell_type": "code",
   "execution_count": 14,
   "id": "482bb892",
   "metadata": {},
   "outputs": [
    {
     "name": "stdout",
     "output_type": "stream",
     "text": [
      "[main (root-commit) dd36d36] Add file1.txt\n",
      " 1 file changed, 1 insertion(+)\n",
      " create mode 100644 file1.txt\n"
     ]
    },
    {
     "name": "stdout",
     "output_type": "stream",
     "text": [
      " 1 file changed, 1 insertion(+)\n"
     ]
    },
    {
     "name": "stdout",
     "output_type": "stream",
     "text": [
      " create mode 100644 file1.txt\n"
     ]
    }
   ],
   "source": [
    "git add file1.txt\n",
    "git commit -m \"Add file1.txt\""
   ]
  },
  {
   "cell_type": "markdown",
   "id": "eec11240",
   "metadata": {},
   "source": [
    "```{admonition} What to notice\n",
    ":class: hint \n",
    "After adding, the file moves to the staging area. After committing, it's no longer marked with an \"A\" but is committed to the repository.\n",
    "```\n",
    "\n",
    "Check the repository status again:"
   ]
  },
  {
   "cell_type": "code",
   "execution_count": 15,
   "id": "4f470e01",
   "metadata": {},
   "outputs": [
    {
     "name": "stdout",
     "output_type": "stream",
     "text": [
      "On branch main\n",
      "nothing to commit, working tree clean\n"
     ]
    },
    {
     "name": "stdout",
     "output_type": "stream",
     "text": [
      "nothing to commit, working tree clean\n"
     ]
    }
   ],
   "source": [
    "git status"
   ]
  },
  {
   "cell_type": "markdown",
   "id": "61f55565",
   "metadata": {},
   "source": [
    "List the commits:"
   ]
  },
  {
   "cell_type": "code",
   "execution_count": 16,
   "id": "6fc8c6f6",
   "metadata": {},
   "outputs": [
    {
     "name": "stdout",
     "output_type": "stream",
     "text": [
      "\u001b[33mcommit dd36d36cc131e7ca064847453b3955ff79507548\u001b[m\u001b[33m (\u001b[m\u001b[1;36mHEAD -> \u001b[m\u001b[1;32mmain\u001b[m\u001b[33m)\u001b[m\n",
      "Author: mcallara <mcallara@gmail.com>\n",
      "Date:   Tue Feb 20 11:27:22 2024 +0100\n",
      "\n",
      "    Add file1.txt\n"
     ]
    },
    {
     "name": "stdout",
     "output_type": "stream",
     "text": [
      "Author: mcallara <mcallara@gmail.com>\n"
     ]
    },
    {
     "name": "stdout",
     "output_type": "stream",
     "text": [
      "Date:   Tue Feb 20 11:27:22 2024 +0100\n"
     ]
    },
    {
     "name": "stdout",
     "output_type": "stream",
     "text": [
      "\n"
     ]
    },
    {
     "name": "stdout",
     "output_type": "stream",
     "text": [
      "    Add file1.txt\n"
     ]
    }
   ],
   "source": [
    "git log"
   ]
  },
  {
   "cell_type": "markdown",
   "id": "b9736fe5",
   "metadata": {},
   "source": [
    "```{admonition} What to notice\n",
    ":class: hint \n",
    "The commit is now listed. Explore the `.git/objects` directory to see the objects created by Git.\n",
    "```"
   ]
  },
  {
   "cell_type": "code",
   "execution_count": 17,
   "id": "5251c13a",
   "metadata": {},
   "outputs": [
    {
     "name": "stdout",
     "output_type": "stream",
     "text": [
      "\u001b[0m\u001b[38;5;33m.\u001b[0m  \u001b[38;5;33m..\u001b[0m  \u001b[38;5;33m05\u001b[0m  \u001b[38;5;33m74\u001b[0m  \u001b[38;5;33mdd\u001b[0m  \u001b[38;5;33minfo\u001b[0m  \u001b[38;5;33mpack\u001b[0m\n"
     ]
    }
   ],
   "source": [
    "ls -a .git/objects"
   ]
  },
  {
   "cell_type": "markdown",
   "id": "5596cb95",
   "metadata": {},
   "source": [
    "## Summary\n",
    "We covered creating a repository, adding and committing a file, and the significance of the `.git` and objects directories.\n",
    "\n",
    "## References\n",
    "- [Official using Git with VSC Beginner Tutorial](https://www.youtube.com/watch?v=i_23KUAEtUM)"
   ]
  }
 ],
 "metadata": {
  "jupytext": {
   "formats": "md:myst",
   "text_representation": {
    "extension": ".md",
    "format_name": "myst",
    "format_version": 0.13,
    "jupytext_version": "1.11.5"
   }
  },
  "kernelspec": {
   "display_name": "Bash",
   "language": "bash",
   "name": "bash"
  },
  "language_info": {
   "codemirror_mode": "shell",
   "file_extension": ".sh",
   "mimetype": "text/x-sh",
   "name": "bash"
  },
  "source_map": [
   15,
   18,
   27,
   29,
   34,
   36,
   41,
   43,
   48,
   50,
   62,
   64,
   68,
   70,
   75,
   77,
   81,
   83,
   88,
   90,
   95,
   98,
   105,
   107,
   112,
   114,
   124,
   127,
   136,
   138,
   142,
   144,
   151,
   153
  ]
 },
 "nbformat": 4,
 "nbformat_minor": 5
}