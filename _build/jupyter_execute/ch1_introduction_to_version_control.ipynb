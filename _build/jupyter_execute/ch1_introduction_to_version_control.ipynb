{
 "cells": [
  {
   "cell_type": "markdown",
   "id": "9d334c49",
   "metadata": {},
   "source": [
    "# Introduction to Version Control\n",
    "\n",
    "In this chapter, we will explore Git, a tool for Software Version Control.\n",
    "\n",
    "```{tableofcontents}\n",
    "```"
   ]
  }
 ],
 "metadata": {
  "jupytext": {
   "formats": "md:myst",
   "text_representation": {
    "extension": ".md",
    "format_name": "myst",
    "format_version": 0.13,
    "jupytext_version": "1.11.5"
   }
  },
  "kernelspec": {
   "display_name": "Bash",
   "language": "bash",
   "name": "bash"
  },
  "language_info": {
   "codemirror_mode": "shell",
   "file_extension": ".sh",
   "mimetype": "text/x-sh",
   "name": "bash"
  },
  "source_map": [
   13
  ]
 },
 "nbformat": 4,
 "nbformat_minor": 5
}