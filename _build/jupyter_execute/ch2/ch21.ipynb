{
 "cells": [
  {
   "cell_type": "markdown",
   "id": "79707884",
   "metadata": {},
   "source": [
    "# 2.1 AI-Assisted Software Development"
   ]
  },
  {
   "cell_type": "code",
   "execution_count": 1,
   "id": "74f1eb35",
   "metadata": {
    "tags": [
     "remove-input"
    ]
   },
   "outputs": [],
   "source": [
    "import os\n",
    "os.chdir('../home')"
   ]
  },
  {
   "cell_type": "markdown",
   "id": "0f850b37",
   "metadata": {},
   "source": [
    "# Sections\n",
    "Inline Suggestions. \n",
    "Effective Prompting. https://www.youtube.com/watch?v=ImWfIDTxn7E Providing Context. Use GitHub Copilot to enhance your coding with AI\n",
    "Copilot Chat. Explaining Code. Fixing Code Issues.\n",
    "Data Privacy. https://docs.github.com/en/copilot/overview-of-github-copilot/about-github-copilot-individual"
   ]
  }
 ],
 "metadata": {
  "jupytext": {
   "formats": "md:myst",
   "text_representation": {
    "extension": ".md",
    "format_name": "myst",
    "format_version": 0.13,
    "jupytext_version": "1.11.5"
   }
  },
  "kernelspec": {
   "display_name": "Python 3",
   "language": "python",
   "name": "python3"
  },
  "language_info": {
   "codemirror_mode": {
    "name": "ipython",
    "version": 3
   },
   "file_extension": ".py",
   "mimetype": "text/x-python",
   "name": "python",
   "nbconvert_exporter": "python",
   "pygments_lexer": "ipython3",
   "version": "3.10.4"
  },
  "source_map": [
   13,
   17,
   21
  ]
 },
 "nbformat": 4,
 "nbformat_minor": 5
}