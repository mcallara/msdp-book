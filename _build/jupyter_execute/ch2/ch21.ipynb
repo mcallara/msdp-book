{
 "cells": [
  {
   "cell_type": "markdown",
   "id": "97447ba0",
   "metadata": {},
   "source": [
    "# 2.1 AI-Assisted Software Development"
   ]
  },
  {
   "cell_type": "code",
   "execution_count": null,
   "id": "bf3c9ad3",
   "metadata": {
    "tags": [
     "remove-input"
    ]
   },
   "outputs": [],
   "source": [
    "import os\n",
    "os.chdir('../home')"
   ]
  },
  {
   "cell_type": "markdown",
   "id": "a1865ea9",
   "metadata": {},
   "source": [
    "## Sections\n",
    "- Inline Suggestions. \n",
    "- Effective Prompting. https://www.youtube.com/watch?v=ImWfIDTxn7E Providing Context. Use GitHub Copilot to enhance your coding with AI\n",
    "- Copilot Chat. Explaining Code. Fixing Code Issues.\n",
    "- Data Privacy. https://docs.github.com/en/copilot/overview-of-github-copilot/about-github-copilot-individual \n",
    "\n",
    "Personal Experience: One of the things I like the most about AI assisted software development is the fact that it allows me to stay in the flow. I can focus on the problem I am trying to solve and let the AI take care of the syntax, the boilerplate code, remebering conventions, proposed solutions to simpler intermediate steps.\n",
    "\n",
    "## Real-world example\n",
    "Imagine that you are building a planning solution. The solution requires at some point to implement a function that given two time intervals, returns their intersection.\n",
    "If you create the pseudo-code of you solution, then the AI will be able to help you with the implementation of the function.\n",
    "\n",
    "## Getting in line suggestions\n",
    "## Inline Chat (ctrl + I)\n",
    "\n",
    "## Creating tests"
   ]
  },
  {
   "cell_type": "code",
   "execution_count": null,
   "id": "2727ee03",
   "metadata": {},
   "outputs": [],
   "source": [
    "# Test cases for a Function that given two time intervals, returns their intersection\n",
    "def test_intersection():\n",
    "    assert intersection((1, 3), (2, 4)) == (2, 3)\n",
    "    assert intersection((1, 3), (4, 6)) == None\n",
    "    assert intersection((1, 3), (3, 6)) == (3, 3)\n",
    "    assert intersection((1, 3), (1, 3)) == (1, 3)\n",
    "    assert intersection((1, 3), (1, 2)) == (1, 2)\n",
    "    assert intersection((1, 3), (2, 3)) == (2, 3)\n",
    "    assert intersection((1, 3), (3, 3)) == (3, 3)\n",
    "    assert intersection((1, 3), (4, 4)) == None\n",
    "    assert intersection((1, 3), (4, 5)) == None\n",
    "    assert intersection((1, 3), (5, 6)) == None\n",
    "    assert intersection((1, 3), (6, 7)) == None\n",
    "    assert intersection((1, 3), (7, 8)) == None\n",
    "    assert intersection((1, 3), (8, 9)) == None\n",
    "    assert intersection((1, 3), (9, 10)) == None\n",
    "    assert intersection((1, 3), (10, 11)) == None\n",
    "    assert intersection((1, 3), (11, 12)) == None\n",
    "    assert intersection((1, 3), (12, 13)) == None\n",
    "    assert intersection((1, 3), (13, 14)) == None\n",
    "    assert intersection((1, 3), (14, 15)) == None\n",
    "    assert intersection((1, 3), (15, 16)) == None\n",
    "    assert intersection((1, 3), (16, 17)) == None\n",
    "    assert intersection((1, 3), (17, 18)) == None\n",
    "    assert intersection((1, 3), (18, 19)) == None\n",
    "    assert intersection((1, 3), (19, 20)) == None\n",
    "    assert intersection((1, 3), (20, 21)) == None\n",
    "    assert intersection((1, 3), (21, 22)) == None\n",
    "    assert intersection"
   ]
  },
  {
   "cell_type": "markdown",
   "id": "2329d5a0",
   "metadata": {},
   "source": [
    "We see that the AI gets a bit repetitive. We can help it, suggesting variations of the test cases. \n",
    "\n",
    "what I wrote:"
   ]
  },
  {
   "cell_type": "code",
   "execution_count": null,
   "id": "562d69b2",
   "metadata": {},
   "outputs": [],
   "source": [
    "print(intersection((3, 3), (2, 6))) # "
   ]
  },
  {
   "cell_type": "markdown",
   "id": "ef271bbf",
   "metadata": {},
   "source": [
    "what the AI suggested:"
   ]
  },
  {
   "cell_type": "code",
   "execution_count": null,
   "id": "7b7673fc",
   "metadata": {},
   "outputs": [],
   "source": [
    "(3,3)"
   ]
  },
  {
   "cell_type": "markdown",
   "id": "1affd6ee",
   "metadata": {},
   "source": [
    "It is able to anticipate what the result will be.\n",
    "\n",
    "## Function that given two time intervals, returns their intersection."
   ]
  },
  {
   "cell_type": "code",
   "execution_count": null,
   "id": "dfdcde2a",
   "metadata": {},
   "outputs": [],
   "source": [
    "def intersection(interval1, interval2):\n",
    "    start1, end1 = interval1\n",
    "    start2, end2 = interval2\n",
    "    start = max(start1, start2)\n",
    "    end = min(end1, end2)\n",
    "    if start > end:\n",
    "        return None\n",
    "    return (start, end)"
   ]
  },
  {
   "cell_type": "markdown",
   "id": "c0181146",
   "metadata": {},
   "source": [
    "## Example when you don't remember the syntax\n",
    "\n",
    "### merge two pandas data frame on the column 'id' and add a suffix to the columns of the second data frame"
   ]
  },
  {
   "cell_type": "code",
   "execution_count": null,
   "id": "c1737b84",
   "metadata": {},
   "outputs": [],
   "source": [
    "import pandas as pd\n",
    "df1 = pd.DataFrame({'id': [1, 2, 3], 'name': ['Alice', 'Bob', 'Charlie']})\n",
    "df2 = pd.DataFrame({'id': [2, 3, 4], 'age': [24, 25, 26]})\n",
    "df = pd.merge(df1, df2, on='id', suffixes=('_left', '_right'))\n",
    "df"
   ]
  },
  {
   "cell_type": "markdown",
   "id": "85425416",
   "metadata": {},
   "source": [
    "## Autofill repetitive code"
   ]
  },
  {
   "cell_type": "code",
   "execution_count": null,
   "id": "dff9b369",
   "metadata": {},
   "outputs": [],
   "source": [
    "one_second = 1\n",
    "one_minute = 60 * one_second\n",
    "one_hour = 60 * one_minute\n",
    "one_day = 24 * one_hour\n",
    "one_week = 7 * one_day\n"
   ]
  },
  {
   "cell_type": "markdown",
   "id": "5adba98d",
   "metadata": {},
   "source": [
    "## Using Chat: Github Copilot\n",
    "### Explaining Code\n",
    "\n",
    "### Fixing Code Issues\n",
    "\n",
    "### Documenting your code\n",
    "\n",
    "### Creatring sample code"
   ]
  },
  {
   "cell_type": "code",
   "execution_count": null,
   "id": "30b800e6",
   "metadata": {},
   "outputs": [],
   "source": [
    "# Create sample function that sums two numbers\n",
    "def sum(a, b):\n",
    "    return a + b"
   ]
  },
  {
   "cell_type": "markdown",
   "id": "337c01af",
   "metadata": {},
   "source": [
    "## Some Tips for Effective Prompting\n",
    "\n",
    "- Clearly define the problem or task you need help with.\n",
    "- Provide relevant context and background information.\n",
    "- Break down complex problems into smaller, manageable steps.\n",
    "- Use descriptive variable and function names.\n",
    "- Include sample inputs and expected outputs for clarity.\n",
    "- Consider suggesting alternative approaches or variations.\n",
    "- Provide feedback to help improve the AI's understanding and suggestions.\n",
    "- Experiment and iterate with the AI to find the best solution.\n",
    "\n",
    "## Data Privacy with Github Copilot Individual and Business.\n",
    "\n",
    "### How is the data in GitHub Copilot Individual used and shared?\n",
    "User Engagement Data, Prompts and Suggestions are used by GitHub and Microsoft to improve GitHub Copilot and related services and to conduct product and academic research.\n",
    "\n",
    "- Enhancing GitHub Copilot: The data collected is utilized to improve GitHub Copilot by evaluating different strategies for processing and predicting suggestions that users may find valuable.\n",
    "- Developing related developer products and services: The insights gained from the data help in the development and improvement of other developer tools and services offered by GitHub and Microsoft.\n",
    "- Detecting abuse and policy violations: The data is examined to investigate and identify any potential misuse or violation of the Acceptable Use Policies associated with GitHub Copilot.\n",
    "- Conducting experiments and research: The data is used for conducting experiments and research related to developers and their utilization of developer tools and services. This aids in gaining valuable insights into user behavior and preferences.\n",
    "- Evaluating GitHub Copilot: The impact of GitHub Copilot on users is assessed by measuring its positive effects and benefits.\n",
    "- Improving code generation models: The collected data is employed to refine and enhance the underlying models responsible for generating code. This is achieved by utilizing both positive and negative examples.\n",
    "- Fine-tuning ranking and sorting algorithms: The data helps in the optimization and improvement of algorithms used for ranking and sorting suggestions, thereby enhancing the overall user experience.\n",
    "\n",
    "## Integration in other parts of the development process\n",
    "- Commit message suggestions\n",
    "\n",
    "[Gitlab Duo is experimenting with features](https://docs.gitlab.com/ee/user/ai_features.html) like Issue description generation, Merge request, template population, Suggested Reviewers, Merge request summary,Code review summary, Vulnerability resolution, Value stream forecasting, and Product Analytics among others.\n",
    "\n",
    "### GitHub Copilot Business\n",
    "- User engagement data: User engagement data is retained by GitHub for 24 months.\n",
    "- Prompts: Prompts are discarded once a suggestion is returned.\n",
    "- Suggestions: Suggestions are not retained by GitHub.\n",
    "\n",
    "[GitHub Copilot Business Privacy Statement](https://docs.github.com/en/site-policy/privacy-policies/github-copilot-business-privacy-statement)\n",
    "[About privacy for GitHub Copilot Individual](https://docs.github.com/en/copilot/overview-of-github-copilot/about-github-copilot-individual#about-privacy-for-github-copilot-individual)\n",
    "\n",
    "## References\n",
    "https://code.visualstudio.com/docs/copilot/overview\n",
    "https://www.upwork.com/resources/prompt-engineering-with-github-copilot\n",
    "https://github.blog/2023-06-20-how-to-write-better-prompts-for-github-copilot/\n",
    "https://github.blog/2023-05-12-how-i-used-github-copilot-to-build-a-browser-extension/"
   ]
  }
 ],
 "metadata": {
  "jupytext": {
   "formats": "md:myst",
   "text_representation": {
    "extension": ".md",
    "format_name": "myst",
    "format_version": 0.13,
    "jupytext_version": "1.11.5"
   }
  },
  "kernelspec": {
   "display_name": "Python 3",
   "language": "python",
   "name": "python3"
  },
  "source_map": [
   13,
   17,
   21,
   40,
   70,
   75,
   77,
   79,
   81,
   86,
   95,
   100,
   106,
   109,
   116,
   127,
   131
  ]
 },
 "nbformat": 4,
 "nbformat_minor": 5
}