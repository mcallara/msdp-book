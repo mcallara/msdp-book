{
 "cells": [
  {
   "cell_type": "markdown",
   "id": "a1b69461",
   "metadata": {},
   "source": [
    "# 2.1 Debugging"
   ]
  },
  {
   "cell_type": "code",
   "execution_count": 1,
   "id": "000339fa",
   "metadata": {
    "tags": [
     "remove-input"
    ]
   },
   "outputs": [],
   "source": [
    "import os\n",
    "os.chdir('../home')"
   ]
  },
  {
   "cell_type": "markdown",
   "id": "8f6ef1da",
   "metadata": {},
   "source": [
    "% ## Sections\n",
    "% - Introduction to debugging: importance and basic concepts.\n",
    "% - Configuration of the debugging environment in Visual Studio Code.\n",
    "- Use of breakpoints to halt execution.\n",
    "- Types of breakpoints: conditional and exception breakpoints.\n",
    "- Inspection of variables and expressions during execution.\n",
    "- Utilization of the debugging control panel.\n",
    "- Step-by-step execution: step into, step over, and step out.\n",
    "- Visualization tools: watch, variables, and call stack.\n",
    "- Logging usage for debugging.\n",
    "- Remote debugging and debugging in virtual environments.\n",
    "- Using the justMyCode option to understand the behavior of third-party libraries. \n",
    "% https://github.com/scikit-learn/scikit-learn/blob/6eff1757e/sklearn/linear_model/_coordinate_descent.py#L710\n",
    "% In class, I can also show scikit-learn's code for the ElasticNet, in particular fit and from fit deep dive into\n",
    "% _validate_data.\n",
    "\n",
    "# Mastering Debugging in Python with Visual Studio Code\n",
    "\n",
    "## Motivation\n",
    "\n",
    "Debugging is not merely about fixing errors; it's about understanding the behavior of your code under various conditions, ensuring reliability, and improving performance. Effective debugging can significantly reduce development time, enhance code quality, and create more robust applications.\n",
    "\n",
    "Imagine you're working on a Python project that processes data from an online store. Your task is to write a script that calculates the total sales for each product category. However, after trying to run your script, you notice that is throwing an error. You've checked your code multiple times, but the mistake remains elusive."
   ]
  },
  {
   "cell_type": "code",
   "execution_count": 2,
   "id": "ee017c20",
   "metadata": {},
   "outputs": [
    {
     "ename": "AttributeError",
     "evalue": "'tuple' object has no attribute 'items'",
     "output_type": "error",
     "traceback": [
      "\u001b[0;31m---------------------------------------------------------------------------\u001b[0m",
      "\u001b[0;31mAttributeError\u001b[0m                            Traceback (most recent call last)",
      "Cell \u001b[0;32mIn[2], line 8\u001b[0m\n\u001b[1;32m      5\u001b[0m     \u001b[38;5;28;01mreturn\u001b[39;00m total_sales\n\u001b[1;32m      7\u001b[0m sales_data \u001b[38;5;241m=\u001b[39m {\u001b[38;5;124m\"\u001b[39m\u001b[38;5;124melectronics\u001b[39m\u001b[38;5;124m\"\u001b[39m: \u001b[38;5;241m10000\u001b[39m, \u001b[38;5;124m\"\u001b[39m\u001b[38;5;124mbooks\u001b[39m\u001b[38;5;124m\"\u001b[39m: \u001b[38;5;241m5000\u001b[39m, \u001b[38;5;124m\"\u001b[39m\u001b[38;5;124mclothing\u001b[39m\u001b[38;5;124m\"\u001b[39m: \u001b[38;5;124m\"\u001b[39m\u001b[38;5;124m7000\u001b[39m\u001b[38;5;124m\"\u001b[39m, \u001b[38;5;124m\"\u001b[39m\u001b[38;5;124mtoys\u001b[39m\u001b[38;5;124m\"\u001b[39m: \u001b[38;5;241m3000\u001b[39m},\n\u001b[0;32m----> 8\u001b[0m total_sales \u001b[38;5;241m=\u001b[39m \u001b[43mcalculate_total_sales\u001b[49m\u001b[43m(\u001b[49m\u001b[43msales_data\u001b[49m\u001b[43m)\u001b[49m\n\u001b[1;32m      9\u001b[0m \u001b[38;5;28mprint\u001b[39m(\u001b[38;5;124mf\u001b[39m\u001b[38;5;124m\"\u001b[39m\u001b[38;5;124mTotal sales: $\u001b[39m\u001b[38;5;132;01m{\u001b[39;00mtotal_sales\u001b[38;5;132;01m}\u001b[39;00m\u001b[38;5;124m\"\u001b[39m)\n",
      "Cell \u001b[0;32mIn[2], line 3\u001b[0m, in \u001b[0;36mcalculate_total_sales\u001b[0;34m(sales_data)\u001b[0m\n\u001b[1;32m      1\u001b[0m \u001b[38;5;28;01mdef\u001b[39;00m \u001b[38;5;21mcalculate_total_sales\u001b[39m(sales_data):\n\u001b[1;32m      2\u001b[0m     total_sales \u001b[38;5;241m=\u001b[39m \u001b[38;5;241m0\u001b[39m\n\u001b[0;32m----> 3\u001b[0m     \u001b[38;5;28;01mfor\u001b[39;00m category, sales \u001b[38;5;129;01min\u001b[39;00m \u001b[43msales_data\u001b[49m\u001b[38;5;241;43m.\u001b[39;49m\u001b[43mitems\u001b[49m():\n\u001b[1;32m      4\u001b[0m         total_sales \u001b[38;5;241m+\u001b[39m\u001b[38;5;241m=\u001b[39m sales\n\u001b[1;32m      5\u001b[0m     \u001b[38;5;28;01mreturn\u001b[39;00m total_sales\n",
      "\u001b[0;31mAttributeError\u001b[0m: 'tuple' object has no attribute 'items'"
     ]
    }
   ],
   "source": [
    "def calculate_total_sales(sales_data):\n",
    "    total_sales = 0\n",
    "    for category, sales in sales_data.items():\n",
    "        total_sales += sales\n",
    "    return total_sales\n",
    "\n",
    "sales_data = {\"electronics\": 10000, \"books\": 5000, \"clothing\": \"7000\", \"toys\": 3000},\n",
    "total_sales = calculate_total_sales(sales_data)\n",
    "print(f\"Total sales: ${total_sales}\")"
   ]
  },
  {
   "cell_type": "markdown",
   "id": "c4fa42b9",
   "metadata": {},
   "source": [
    "### Setting Up and Running the Debugger\n",
    "\n",
    "1. **Open your Python script in VS Code** and make sure you have the Python extension installed.\n",
    "2. **Open the Debug view** by clicking on the Run and Debug view icon on the left sidebar or pressing `Ctrl+Shift+D`.\n",
    "4. **Start debugging** by selecting the appropriate Python file configuration and pressing the green play button or pressing `F5`. Make sure the \"Uncaught Exceptions\" option is ticked in the Breakpoints panel.\n",
    "\n",
    "### Observing the Exception and Inspecting Variables\n",
    "\n",
    "As the debugger runs, it will halt execution when it encounters the uncaught TypeError exception due to attempting to add an integer to a string. This halting point allows us to inspect the program's state just before the exception occurred.\n",
    "\n",
    "- **Inspect the `sales_data` variable** in the Variables panel to notice that the value for \"clothing\" is a string, `\"7000\"`, instead of an integer.\n",
    "\n",
    "### Setting a Breakpoint and Watching Variables\n",
    "\n",
    "With the knowledge that our program halts due to a TypeError, we'll focus on the calculation of `total_sales`:\n",
    "\n",
    "1. **Add a breakpoint** at the `total_sales += sales` line.\n",
    "2. **Add `total_sales` and `sales` to the Watch panel** to monitor their values in real-time.\n",
    "3. **Restart the debugger** and observe as it stops at our breakpoint before the exception occurs.\n",
    "4. **Step through the for loop** using the \"Step Over\" button (or pressing `F10`) to iterate through each category and sale.\n",
    "\n",
    "### Identifying and testing a solution for the Issue\n",
    "\n",
    "As you step through each iteration, when reaching \"clothing\", you'll notice in the Watch panel that `sales` holds the string value `\"7000\"`. This is the moment of realization that the data type inconsistency is causing our issue.\n",
    "\n",
    "1. **Modify the `sales_data` directly in the watch panel** with a secondary click and selecting \"Change Value\" to correct the value for \"clothing\" from `\"7000\"` to `7000` (an integer).\n",
    "2. **Continue execution** by pressing the \"Continue\" button (or pressing `F5`) in the debugger.\n",
    "3. Observe that the debugger now completes the execution without halting on an exception, and the correct total sales value is printed to the console.\n",
    "\n",
    "## Other Types of Breakpoints\n",
    "In our first example, we used an uncaught exception breakpoint to halt the execution of our program. Let's now use our example to explore other types of breakpoints.\n",
    "\n",
    "### **Conditional Breakpoints**\n",
    "\n",
    "Pause execution when a specified condition is true.\n",
    "\n",
    "1. Open your code in Visual Studio Code and navigate to the `for` loop line.\n",
    "2. Right-click on the left margin and select \"Add Conditional Breakpoint.\"\n",
    "3. Enter `sales == 5000` as the condition. This setup ensures the debugger halts for the \"books\" category, allowing inspection of variables at that point.\n",
    "\n",
    "### **Hit Count Breakpoints**\n",
    "\n",
    "Trigger after the breakpoint has been hit a specified number of times.\n",
    "\n",
    "1. On the same line as before, add a breakpoint.\n",
    "2. Right-click on the breakpoint and select \"Edit Breakpoint\" -> \"Hit Count.\"\n",
    "3. Specify the hit count as `3`. The debugger will now pause execution the third time it reaches this line, useful for examining the accumulated `total_sales` after several iterations.\n",
    "\n",
    "### **Logpoints**\n",
    "\n",
    "Log messages to the console without stopping the program.\n",
    "\n",
    "1. Right-click on the left margin next to the loop and select \"Add Logpoint.\"\n",
    "2. Type `Processing {category}: {sales}` in the message field. This action allows real-time monitoring of which items are being processed and their respective sales without halting the program.\n",
    "\n",
    "### **Function Breakpoints**\n",
    "\n",
    "Halt execution when entering a specified function.\n",
    "\n",
    "1. Go to the Run and Debug view in Visual Studio Code.\n",
    "2. Click on \"Add Function Breakpoint\" and type the name of the function, `calculate_total_sales`.\n",
    "3. When you run the debugger, it will pause every time `calculate_total_sales` is invoked, allowing you to inspect the initial state of the function and its parameters.\n",
    "\n",
    "### **Exception Breakpoints**\n",
    "\n",
    "Pause execution when exceptions are thrown.\n",
    "\n",
    "- **For Raised Exceptions**:\n",
    "    1. In the Debug view, under Breakpoints, ensure that \"All Exceptions\" is checked.\n",
    "    2. If an exception is raised within `calculate_total_sales` or its call, the debugger will halt, enabling you to inspect the cause and context of the exception.\n",
    "\n",
    "- **For User-Uncaught Exceptions**:\n",
    "    1. Similarly, check \"Uncaught Exceptions\" to focus on exceptions that escape your error handling. This is particularly useful for identifying and debugging unhandled exceptions that could cause unexpected behavior or application crashes.\n",
    "\n",
    "\n",
    "### Function Breakpoints and Debugging Inside a Third-Party Library\n",
    "\n",
    "Suppose we are working on a Python project that uses pandas for data manipulation and we have the following code:"
   ]
  },
  {
   "cell_type": "code",
   "execution_count": 3,
   "id": "94cf906c",
   "metadata": {},
   "outputs": [
    {
     "name": "stderr",
     "output_type": "stream",
     "text": [
      "/tmp/ipykernel_1770498/179978455.py:1: DeprecationWarning: \n",
      "Pyarrow will become a required dependency of pandas in the next major release of pandas (pandas 3.0),\n",
      "(to allow more performant data types, such as the Arrow string type, and better interoperability with other libraries)\n",
      "but was not found to be installed on your system.\n",
      "If this would cause problems for you,\n",
      "please provide us feedback at https://github.com/pandas-dev/pandas/issues/54466\n",
      "        \n",
      "  import pandas as pd\n"
     ]
    },
    {
     "data": {
      "text/plain": [
       "0_item    1\n",
       "1_item    2\n",
       "2_item    3\n",
       "3_item    4\n",
       "dtype: int64"
      ]
     },
     "execution_count": 3,
     "metadata": {},
     "output_type": "execute_result"
    }
   ],
   "source": [
    "import pandas as pd\n",
    "s = pd.Series([1, 2, 3, 4])\n",
    "s.add_suffix('_item')"
   ]
  },
  {
   "cell_type": "markdown",
   "id": "18703788",
   "metadata": {},
   "source": [
    "We want to understand how the `add_suffix` method works internally, in particular, we would like to investigate an issue that occurs with `_get_axis_name` which is another method that is used by `add_suffix`. To do this, we'll configure our debugger to step into the pandas library code and break when it reaches the `_get_axis_name` function.\n",
    "\n",
    "#### Step 1: Configuring the Debugger\n",
    "\n",
    "1. **Open VS Code** and navigate to your Python script.\n",
    "2. **Open the `launch.json` file** in the `.vscode` folder. If it doesn't exist, create it by going to the Run and Debug view, selecting \"create a launch.json file\", and then choosing a Python configuration.\n",
    "3. **Modify the `launch.json` file** to include the `justMyCode` option set to `false`. This tells the debugger to include third-party library code in the debugging session.\n",
    "\n",
    "```json\n",
    "{\n",
    "    \"version\": \"0.2.0\",\n",
    "    \"configurations\": [\n",
    "        {\n",
    "            \"name\": \"Python: Current File\",\n",
    "            \"type\": \"python\",\n",
    "            \"request\": \"launch\",\n",
    "            \"program\": \"${file}\",\n",
    "            \"justMyCode\": false\n",
    "        }\n",
    "    ]\n",
    "}\n",
    "```\n",
    "\n",
    "#### Step 2: Setting a Function Breakpoint\n",
    "\n",
    "1. **Go to the Run and Debug view** in VS Code.\n",
    "2. **Open the Breakpoints pane** and find the option to add a function breakpoint. Click on \"Add Function Breakpoint\".\n",
    "3. **Type the name of the function** you want to break on. In this case, enter `_get_axis_name`.\n",
    "4. **Start the debugger** by selecting the appropriate configuration for the current file and pressing the green play button or pressing `F5`.\n",
    "\n",
    "#### What to Expect\n",
    "\n",
    "When you run the debugger with these settings and execute your script, the debugger will pause execution when it reaches the `_get_axis_name` function call within the pandas library. This allows you to:\n",
    "\n",
    "- Step through the pandas library code to see how the `_get_axis_name` function is implemented.\n",
    "- Inspect variables and understand the internal workings of the function.\n",
    "- Gain insights into the behavior of third-party libraries, which can be invaluable for debugging complex issues or enhancing your understanding of these libraries.\n",
    "\n",
    "#### Note\n",
    "\n",
    "Remember that stepping into third-party library code can sometimes be overwhelming due to the complexity and volume of the code. However, it can also be a powerful way to learn more about these libraries and to troubleshoot issues more effectively or even adapt them to your specific needs.\n",
    "\n",
    "\n",
    "## References\n",
    "https://code.visualstudio.com/docs/python/python-quick-start\n",
    "https://code.visualstudio.com/docs/python/debugging\n",
    "https://code.visualstudio.com/docs/editor/debugging"
   ]
  }
 ],
 "metadata": {
  "jupytext": {
   "formats": "md:myst",
   "text_representation": {
    "extension": ".md",
    "format_name": "myst",
    "format_version": 0.13,
    "jupytext_version": "1.11.5"
   }
  },
  "kernelspec": {
   "display_name": "Python 3",
   "language": "python",
   "name": "python3"
  },
  "language_info": {
   "codemirror_mode": {
    "name": "ipython",
    "version": 3
   },
   "file_extension": ".py",
   "mimetype": "text/x-python",
   "name": "python",
   "nbconvert_exporter": "python",
   "pygments_lexer": "ipython3",
   "version": "3.10.4"
  },
  "source_map": [
   13,
   17,
   21,
   48,
   58,
   139,
   143
  ]
 },
 "nbformat": 4,
 "nbformat_minor": 5
}