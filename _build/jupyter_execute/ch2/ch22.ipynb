{
 "cells": [
  {
   "cell_type": "markdown",
   "id": "d9ca74b9",
   "metadata": {},
   "source": [
    "# 2.1 Debugging"
   ]
  },
  {
   "cell_type": "code",
   "execution_count": null,
   "id": "e4f76b5f",
   "metadata": {
    "tags": [
     "remove-input"
    ]
   },
   "outputs": [],
   "source": [
    "import os\n",
    "os.chdir('../home')"
   ]
  },
  {
   "cell_type": "markdown",
   "id": "399195b7",
   "metadata": {},
   "source": [
    "## Sections\n",
    "\n",
    "- Introduction to debugging: importance and basic concepts.\n",
    "- Configuration of the debugging environment in Visual Studio Code.\n",
    "- Use of breakpoints to halt execution.\n",
    "- Types of breakpoints: conditional and exception breakpoints.\n",
    "- Inspection of variables and expressions during execution.\n",
    "- Utilization of the debugging control panel.\n",
    "- Step-by-step execution: step into, step over, and step out.\n",
    "- Visualization tools: watch, variables, and call stack.\n",
    "- Logging usage for debugging.\n",
    "- Remote debugging and debugging in virtual environments.\n",
    "\n",
    "## References\n",
    "https://code.visualstudio.com/docs/python/python-quick-start\n",
    "https://code.visualstudio.com/docs/python/debugging\n",
    "https://code.visualstudio.com/docs/editor/debugging"
   ]
  }
 ],
 "metadata": {
  "jupytext": {
   "formats": "md:myst",
   "text_representation": {
    "extension": ".md",
    "format_name": "myst",
    "format_version": 0.13,
    "jupytext_version": "1.11.5"
   }
  },
  "kernelspec": {
   "display_name": "Python 3",
   "language": "python",
   "name": "python3"
  },
  "source_map": [
   13,
   17,
   21
  ]
 },
 "nbformat": 4,
 "nbformat_minor": 5
}