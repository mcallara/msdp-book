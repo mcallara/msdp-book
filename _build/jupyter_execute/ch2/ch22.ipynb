{
 "cells": [
  {
   "cell_type": "markdown",
   "id": "3906635d",
   "metadata": {},
   "source": [
    "# 2.1 Debugging"
   ]
  },
  {
   "cell_type": "code",
   "execution_count": null,
   "id": "3c1e8fd9",
   "metadata": {
    "tags": [
     "remove-input"
    ]
   },
   "outputs": [],
   "source": [
    "import os\n",
    "os.chdir('../home')"
   ]
  },
  {
   "cell_type": "markdown",
   "id": "70f7a695",
   "metadata": {},
   "source": [
    "# Sections\n",
    "\n",
    "Introducción al debugging: importancia y conceptos básicos.\n",
    "Configuración del entorno de debugging en Visual Studio Code.\n",
    "Uso de puntos de interrupción (breakpoints) para detener la ejecución.\n",
    "Tipos de breakpoints. Condicionales y de excepción\n",
    "Inspección de variables y expresiones durante la ejecución.\n",
    "Uso del panel de control de debugging.\n",
    "Ejecución paso a paso: step into, step over y step out.\n",
    "Herramientas de visualización: watch,  variables y call stack.\n",
    "Uso de Logging para depuración.\n",
    "Debugging remoto y en entornos virtuales."
   ]
  }
 ],
 "metadata": {
  "jupytext": {
   "formats": "md:myst",
   "text_representation": {
    "extension": ".md",
    "format_name": "myst",
    "format_version": 0.13,
    "jupytext_version": "1.11.5"
   }
  },
  "kernelspec": {
   "display_name": "Python 3",
   "language": "python",
   "name": "python3"
  },
  "source_map": [
   13,
   17,
   21
  ]
 },
 "nbformat": 4,
 "nbformat_minor": 5
}