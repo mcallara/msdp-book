{
 "cells": [
  {
   "cell_type": "markdown",
   "id": "b353698a",
   "metadata": {},
   "source": [
    "# 2.1 Debugging"
   ]
  },
  {
   "cell_type": "code",
   "execution_count": null,
   "id": "eab66ec3",
   "metadata": {
    "tags": [
     "remove-input"
    ]
   },
   "outputs": [],
   "source": [
    "import os\n",
    "os.chdir('../home')"
   ]
  },
  {
   "cell_type": "markdown",
   "id": "f3ea9352",
   "metadata": {},
   "source": [
    "# Sections\n",
    "\n",
    "Introduction to debugging: importance and basic concepts.\n",
    "Configuration of the debugging environment in Visual Studio Code.\n",
    "Use of breakpoints to halt execution.\n",
    "Types of breakpoints: conditional and exception breakpoints.\n",
    "Inspection of variables and expressions during execution.\n",
    "Utilization of the debugging control panel.\n",
    "Step-by-step execution: step into, step over, and step out.\n",
    "Visualization tools: watch, variables, and call stack.\n",
    "Logging usage for debugging.\n",
    "Remote debugging and debugging in virtual environments."
   ]
  }
 ],
 "metadata": {
  "jupytext": {
   "formats": "md:myst",
   "text_representation": {
    "extension": ".md",
    "format_name": "myst",
    "format_version": 0.13,
    "jupytext_version": "1.11.5"
   }
  },
  "kernelspec": {
   "display_name": "Python 3",
   "language": "python",
   "name": "python3"
  },
  "source_map": [
   13,
   17,
   21
  ]
 },
 "nbformat": 4,
 "nbformat_minor": 5
}