{
 "cells": [
  {
   "cell_type": "markdown",
   "id": "69ea216c",
   "metadata": {},
   "source": [
    "# 5.2 Software Versioning"
   ]
  },
  {
   "cell_type": "code",
   "execution_count": 1,
   "id": "f12a29d4",
   "metadata": {
    "tags": [
     "remove-input"
    ]
   },
   "outputs": [
    {
     "name": "stdout",
     "output_type": "stream",
     "text": [
      "mkdir: cannot create directory ‘ch53’: File exists\n"
     ]
    }
   ],
   "source": [
    "cd ../home\n",
    "mkdir ch53\n",
    "cd ch53"
   ]
  },
  {
   "cell_type": "markdown",
   "id": "ac083b26",
   "metadata": {},
   "source": [
    "## What is Versioning?\n",
    "\n",
    "Versioning is the process of assigning unique version numbers to distinct states of software projects, allowing developers and users to track progress, manage changes, and ensure compatibility between different components. It plays a critical role in software development and release management, offering a structured way to reflect the history, stability, and compatibility of software products over time. Through versioning, teams can effectively communicate the impact of changes, manage dependencies, and facilitate the adoption of new features while maintaining the integrity of existing systems.\n",
    "\n",
    "## What is Semantic Versioning?\n",
    "\n",
    "Semantic Versioning, often abbreviated as SemVer, is a versioning scheme that aims to convey meaning about the underlying changes in a release through the version number itself. Defined by [Semantic Versioning 2.0.0](https://semver.org/), it adopts a structured format of `MAJOR.MINOR.PATCH` to differentiate between the types of changes made to a project:\n",
    "\n",
    "- **MAJOR** version when you make incompatible API changes,\n",
    "- **MINOR** version when you add functionality in a backward-compatible manner, and\n",
    "- **PATCH** version when you make backward-compatible bug fixes.\n",
    "\n",
    "Additional labels for pre-release and build metadata are available as extensions to the `MAJOR.MINOR.PATCH` format.\n",
    "\n",
    "The principles of Semantic Versioning help ensure a consistent, predictable approach to versioning that is directly tied to the significance of the changes made. It allows developers and consumers of software to make informed decisions about upgrading and integrating with other systems. By adhering to SemVer, projects can communicate the nature of changes efficiently, reduce the potential for conflicts, and facilitate easier dependency management in the complex ecosystem of software development.\n",
    "\n",
    "# Automate Semantic Versioning in Poetry Projects with Python Semantic Release\n",
    "\n",
    "Using `python-semantic-release` to automate semantic versioning in projects managed with Poetry on GitHub involves setting up `python-semantic-release` in your project, configuring it to work with Poetry, and automating the release process through GitHub Actions.\n",
    "\n",
    "## Prerequisites\n",
    "\n",
    "- A GitHub repository with a Python project managed by Poetry.\n",
    "- Basic understanding of semantic versioning, Git, and GitHub Actions.\n",
    "\n",
    "## Setup Your Python Project with Poetry\n",
    "\n",
    "Ensure your project is set up with Poetry and has a `pyproject.toml` file at its root. This file should define your project's dependencies and metadata. If your project isn't set up with Poetry yet, you can start by running:\n",
    "\n",
    "```{code-block} bash\n",
    "poetry init\n",
    "```\n",
    "\n",
    "And follow the prompts to create your `pyproject.toml`.\n",
    "\n",
    "In this section, we will use the `poetry-demo` project."
   ]
  },
  {
   "cell_type": "code",
   "execution_count": 2,
   "id": "ffc3c2c9",
   "metadata": {},
   "outputs": [
    {
     "name": "stdout",
     "output_type": "stream",
     "text": [
      "\n",
      "\u001b[31;1mDestination \u001b[39;22m\u001b[33m/home/callaram/tds/home/ch53/poetry-demo\u001b[39m\u001b[31;1m exists and is not empty\u001b[39;22m\n"
     ]
    },
    {
     "name": "stdout",
     "output_type": "stream",
     "text": [
      "\u001b[31;1mDestination \u001b[39;22m\u001b[33m/home/callaram/tds/home/ch53/poetry-demo\u001b[39m\u001b[31;1m exists and is not empty\u001b[39;22m\n"
     ]
    },
    {
     "ename": "",
     "evalue": "1",
     "output_type": "error",
     "traceback": []
    }
   ],
   "source": [
    "poetry new poetry-demo"
   ]
  },
  {
   "cell_type": "markdown",
   "id": "60b16626",
   "metadata": {},
   "source": [
    "Navegate to the root folder of the project."
   ]
  },
  {
   "cell_type": "code",
   "execution_count": 3,
   "id": "98c7bbf2",
   "metadata": {},
   "outputs": [],
   "source": [
    "cd poetry-demo"
   ]
  },
  {
   "cell_type": "markdown",
   "id": "87a63579",
   "metadata": {},
   "source": [
    "## Change the Python Versions Supported by the Project\n",
    "\n",
    "Since `python-semantic-release` requires `Python >=3.8`, before installing python-semantic-release, it is important that \n",
    "you check and change the Python version supported by the project.\n",
    "In the `pyproject.toml` file, look for:\n",
    "\n",
    "```toml\n",
    "[tool.poetry.dependencies]\n",
    "python = \"^3.7\"\n",
    "```\n",
    "\n",
    "Change it to: \n",
    "\n",
    "```toml\n",
    "[tool.poetry.dependencies]\n",
    "python = \"^3.8\"\n",
    "```"
   ]
  },
  {
   "cell_type": "code",
   "execution_count": 4,
   "id": "57a1a5ed",
   "metadata": {
    "tags": [
     "remove-input"
    ]
   },
   "outputs": [],
   "source": [
    "sed -i 's/python = \"^3.7\"/python = \"^3.8\"/' pyproject.toml"
   ]
  },
  {
   "cell_type": "markdown",
   "id": "4bf7ef1a",
   "metadata": {},
   "source": [
    "## Install Python Semantic Release\n",
    "\n",
    "Add `python-semantic-release` to your development dependencies using Poetry. This ensures that the semantic release process is part of your development workflow."
   ]
  },
  {
   "cell_type": "code",
   "execution_count": 5,
   "id": "7d2207de",
   "metadata": {
    "tags": [
     "scroll-output"
    ]
   },
   "outputs": [
    {
     "name": "stdout",
     "output_type": "stream",
     "text": [
      "\n",
      "\u001b[31;1mCannot declare ('tool', 'semantic_release') twice (at line 28, column 23)\u001b[39;22m\n"
     ]
    },
    {
     "name": "stdout",
     "output_type": "stream",
     "text": [
      "\u001b[31;1mCannot declare ('tool', 'semantic_release') twice (at line 28, column 23)\u001b[39;22m\n"
     ]
    },
    {
     "ename": "",
     "evalue": "1",
     "output_type": "error",
     "traceback": []
    }
   ],
   "source": [
    "poetry add --group dev python-semantic-release"
   ]
  },
  {
   "cell_type": "markdown",
   "id": "eb068f69",
   "metadata": {},
   "source": [
    "## Configure Python Semantic Release\n",
    "\n",
    "Create a configuration file for `python-semantic-release` in your project's root directory. You can either use a `.toml` file (e.g., `pyproject.toml`) or a `.semantic-release.toml` file for configuration.\n",
    "\n",
    "If you're using `pyproject.toml`, add the following configuration under `[tool.semantic_release]`:\n",
    "\n",
    "```toml\n",
    "[tool.semantic_release]\n",
    "version_variable = \"pyproject.toml:version\"\n",
    "commit_version_number = true\n",
    "upload_to_pypi = \"false\"\n",
    "\n",
    "[tool.semantic_release.remote]\n",
    "name = \"origin\"\n",
    "type = \"gitlab\"\n",
    "```"
   ]
  },
  {
   "cell_type": "code",
   "execution_count": 6,
   "id": "3cb7e784",
   "metadata": {
    "tags": [
     "remove-input"
    ]
   },
   "outputs": [],
   "source": [
    "echo >> pyproject.toml\n",
    "echo '[tool.semantic_release]' >> pyproject.toml\n",
    "echo 'version_toml = [\"pyproject.toml:tool.poetry.version\",]' >> pyproject.toml\n",
    "echo 'commit_version_number = true' >> pyproject.toml\n",
    "echo 'upload_to_pypi = \"false\"' >> pyproject.toml\n",
    "echo '' >> pyproject.toml\n",
    "echo '[tool.semantic_release.remote]' >> pyproject.toml\n",
    "echo 'name = \"origin\"' >> pyproject.toml\n",
    "echo 'type = \"gitlab\"' >> pyproject.toml"
   ]
  },
  {
   "cell_type": "markdown",
   "id": "b6b99340",
   "metadata": {},
   "source": [
    "## Setup Gitlab for Continuous Deployment\n",
    "\n",
    "To automate the release process, you'll use GitHub Actions. Create a `.gitlab-ci.yml` file in your repository with the following content:\n",
    "\n",
    "```{code-block} yaml\n",
    "image: python:latest\n",
    "\n",
    "variables:\n",
    "  GITLAB_TOKEN: $CI_JOB_TOKEN\n",
    "\n",
    "before_script:\n",
    "  - git config --global user.name \"Bot\"\n",
    "  - git config --global user.email \"ci@domain.com\"\n",
    "  - git checkout \"$CI_COMMIT_REF_NAME\"\n",
    "  - git status\n",
    "  \n",
    "semantic-release:\n",
    "  stage: deploy\n",
    "  rules:\n",
    "    - if: '$CI_COMMIT_MESSAGE =~ /^(\\d+\\.)?(\\d+\\.)?(\\d+).*/ && $CI_COMMIT_REF_NAME == $CI_DEFAULT_BRANCH'\n",
    "      when: never\n",
    "    - when: always\n",
    "  script:\n",
    "    - echo $CI_COMMIT_REF_NAME\n",
    "    - echo $CI_COMMIT_TAG\n",
    "    - echo $CI_DEFAULT_BRANCH\n",
    "    - echo $CI_COMMIT_MESSAGE\n",
    "    - pip install python-semantic-release\n",
    "    - semantic-release -vvv version\n",
    "    - semantic-release -vvv publish\n",
    "    - cat pyproject.toml\n",
    "```"
   ]
  },
  {
   "cell_type": "code",
   "execution_count": 7,
   "id": "b1ff7c79",
   "metadata": {
    "tags": [
     "remove-input"
    ]
   },
   "outputs": [],
   "source": [
    "touch .gitlab-ci.yml\n",
    "echo $'image: python:latest\n",
    "\n",
    "variables:\n",
    "  GITLAB_TOKEN: $CI_JOB_TOKEN\n",
    "\n",
    "before_script:\n",
    "  - git config --global user.name \"Bot\"\n",
    "  - git config --global user.email \"ci@domain.com\"\n",
    "  - git checkout \"$CI_COMMIT_REF_NAME\"\n",
    "  - git status\n",
    "  \n",
    "semantic-release:\n",
    "  stage: deploy\n",
    "  rules:\n",
    "    - if: \\'$CI_COMMIT_MESSAGE =~ /^(\\d+\\.)?(\\d+\\.)?(\\d+).*/ && $CI_COMMIT_REF_NAME == $CI_DEFAULT_BRANCH\\'\n",
    "      when: never\n",
    "    - when: always\n",
    "  script:\n",
    "    - echo $CI_COMMIT_REF_NAME\n",
    "    - echo $CI_COMMIT_TAG\n",
    "    - echo $CI_DEFAULT_BRANCH\n",
    "    - echo $CI_COMMIT_MESSAGE\n",
    "    - pip install python-semantic-release\n",
    "    - semantic-release -vvv version\n",
    "    - semantic-release -vvv publish\n",
    "    - cat pyproject.toml' >> .gitlab-ci.yml"
   ]
  },
  {
   "cell_type": "markdown",
   "id": "3bb32c25",
   "metadata": {},
   "source": [
    "## Create a new repository \n",
    "\n",
    "Create a new empty repository in Gitlab and name it `semver`.\n",
    "\n",
    "\n",
    "## Commit and Push Your Changes\n",
    "\n",
    "After configuring everything, commit your changes (including the `pyproject.toml` modifications and GitHub Actions workflow) and push them to your GitHub repository.\n",
    "\n",
    "% MANUAL STEP:\n",
    "% make sure you create a new access token\n",
    "% https://gitlab.com/-/user_settings/personal_access_tokens\n",
    "% you create an access token with the following scopes:\n",
    "% api, read_user, read_repository, write_repository"
   ]
  },
  {
   "cell_type": "code",
   "execution_count": 8,
   "id": "27e93c32",
   "metadata": {},
   "outputs": [
    {
     "name": "stdout",
     "output_type": "stream",
     "text": [
      "warning: re-init: ignored --initial-branch=master\n",
      "Reinitialized existing Git repository in /home/callaram/tds/home/ch53/poetry-demo/.git/\n",
      "fatal: remote origin already exists.\n",
      "[master 65c45c5] feat(semantic-release): add python-semantic-release and gitlab-ci.yml\n",
      " 2 files changed, 35 insertions(+)\n",
      "remote: The project you were looking for could not be found or you don't have permission to view it.\n",
      "fatal: repository 'https://gitlab.com/mcallara/semver3.git/' not found\n"
     ]
    },
    {
     "name": "stdout",
     "output_type": "stream",
     "text": [
      "Reinitialized existing Git repository in /home/callaram/tds/home/ch53/poetry-demo/.git/\n"
     ]
    },
    {
     "name": "stdout",
     "output_type": "stream",
     "text": [
      "fatal: remote origin already exists.\n"
     ]
    },
    {
     "name": "stdout",
     "output_type": "stream",
     "text": [
      "[master 65c45c5] feat(semantic-release): add python-semantic-release and gitlab-ci.yml\n"
     ]
    },
    {
     "name": "stdout",
     "output_type": "stream",
     "text": [
      " 2 files changed, 35 insertions(+)\n"
     ]
    },
    {
     "name": "stdout",
     "output_type": "stream",
     "text": [
      "remote: The project you were looking for could not be found or you don't have permission to view it.\n"
     ]
    },
    {
     "name": "stdout",
     "output_type": "stream",
     "text": [
      "fatal: repository 'https://gitlab.com/mcallara/semver3.git/' not found\n"
     ]
    },
    {
     "ename": "",
     "evalue": "128",
     "output_type": "error",
     "traceback": []
    }
   ],
   "source": [
    "git init --initial-branch=master\n",
    "git remote add origin https://gitlab.com/msdp.book/semver.git\n",
    "git add .\n",
    "git commit -m \"feat(semantic-release): add python-semantic-release and gitlab-ci.yml\"\n",
    "git push --set-upstream origin master"
   ]
  },
  {
   "cell_type": "markdown",
   "id": "756f72a7",
   "metadata": {},
   "source": [
    "% MANUAL STEP:\n",
    "% and then add it to the gitlab ci cd variables\n",
    "% https://gitlab.com/msdp.book/semver/-/settings/ci_cd\n",
    "% with the name GITLAB_TOKEN\n",
    "\n",
    "## Make Semantic Commits\n",
    "\n",
    "To ensure `python-semantic-release` correctly increments version numbers, use semantic commit messages (e.g., `fix:`, `feat:`, `BREAKING CHANGE:`) for your commits. This practice helps the tool to automatically determine the next version number based on the changes made.\n",
    "\n",
    "```{admonition} What to notice\n",
    ":class: hint\n",
    "\n",
    "After pushing our first commit and successfully running `python-semantic-release`, the tool will automatically generate both a release and a tag for your project, as well as a `CHANGELOG.md` file. You can find the generated release in the [Releases section](https://github.com/mcallara/semver/releases) of the `semver` repository. This section provides detailed information about what's new, improved, or fixed in each release, along with any associated assets.\n",
    "\n",
    "Similarly, the automatically created tag, marking the specific point in the repository's history for the release, can be found in the [Tags section](https://github.com/mcallara/semver/tags). Tags serve as important reference points, indicating version releases and facilitating easy navigation through the project's version history.\n",
    "```\n",
    "\n",
    "# Create a new commit and see how it bumps the version"
   ]
  },
  {
   "cell_type": "code",
   "execution_count": 9,
   "id": "c7255159",
   "metadata": {},
   "outputs": [
    {
     "name": "stdout",
     "output_type": "stream",
     "text": [
      "On branch master\n",
      "Your branch is ahead of 'origin/master' by 2 commits.\n",
      "  (use \"git push\" to publish your local commits)\n",
      "\n",
      "nothing to commit, working tree clean\n",
      "remote: The project you were looking for could not be found or you don't have permission to view it.\n",
      "fatal: repository 'https://gitlab.com/mcallara/semver3.git/' not found\n"
     ]
    },
    {
     "name": "stdout",
     "output_type": "stream",
     "text": [
      "Your branch is ahead of 'origin/master' by 2 commits.\n"
     ]
    },
    {
     "name": "stdout",
     "output_type": "stream",
     "text": [
      "  (use \"git push\" to publish your local commits)\n"
     ]
    },
    {
     "name": "stdout",
     "output_type": "stream",
     "text": [
      "\n"
     ]
    },
    {
     "name": "stdout",
     "output_type": "stream",
     "text": [
      "nothing to commit, working tree clean\n"
     ]
    },
    {
     "name": "stdout",
     "output_type": "stream",
     "text": [
      "remote: The project you were looking for could not be found or you don't have permission to view it.\n"
     ]
    },
    {
     "name": "stdout",
     "output_type": "stream",
     "text": [
      "fatal: repository 'https://gitlab.com/mcallara/semver3.git/' not found\n"
     ]
    },
    {
     "ename": "",
     "evalue": "128",
     "output_type": "error",
     "traceback": []
    }
   ],
   "source": [
    "touch test3.py\n",
    "git add test3.py\n",
    "git commit -m \"feat(test3): add new test2 module\"\n",
    "git push --set-upstream origin master"
   ]
  },
  {
   "cell_type": "markdown",
   "id": "3defd5f3",
   "metadata": {},
   "source": [
    "% Teardown\n",
    "%```{code-cell} bash\n",
    "%gh repo delete semver --yes\n",
    "%```"
   ]
  }
 ],
 "metadata": {
  "jupytext": {
   "formats": "md:myst",
   "text_representation": {
    "extension": ".md",
    "format_name": "myst",
    "format_version": 0.13,
    "jupytext_version": "1.11.5"
   }
  },
  "kernelspec": {
   "display_name": "Bash",
   "language": "bash",
   "name": "bash"
  },
  "language_info": {
   "codemirror_mode": "shell",
   "file_extension": ".sh",
   "mimetype": "text/x-sh",
   "name": "bash"
  },
  "source_map": [
   13,
   16,
   21,
   60,
   62,
   66,
   68,
   88,
   91,
   97,
   100,
   119,
   130,
   165,
   194,
   210,
   216,
   237,
   242
  ]
 },
 "nbformat": 4,
 "nbformat_minor": 5
}