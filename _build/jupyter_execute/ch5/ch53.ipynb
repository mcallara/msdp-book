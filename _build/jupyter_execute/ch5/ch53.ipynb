{
 "cells": [
  {
   "cell_type": "markdown",
   "id": "e2896314",
   "metadata": {},
   "source": [
    "# 5.2 Packaging"
   ]
  },
  {
   "cell_type": "code",
   "execution_count": null,
   "id": "7ac3dd1d",
   "metadata": {
    "tags": [
     "remove-input"
    ]
   },
   "outputs": [],
   "source": [
    "import os\n",
    "os.chdir('../home')"
   ]
  },
  {
   "cell_type": "markdown",
   "id": "8b2fc92b",
   "metadata": {},
   "source": [
    "TODO: \n",
    "Packaging (https://packaging.python.org/en/latest/flow/ , https://python-poetry.org/docs/libraries/ )\n",
    "Distribution package\n",
    "What is a distribution package\n",
    "Build with poetry\n",
    "Python Package Index (PyPI)\n",
    "Upload to the package distribution service, publishing with poetry."
   ]
  }
 ],
 "metadata": {
  "jupytext": {
   "formats": "md:myst",
   "text_representation": {
    "extension": ".md",
    "format_name": "myst",
    "format_version": 0.13,
    "jupytext_version": "1.11.5"
   }
  },
  "kernelspec": {
   "display_name": "Python 3",
   "language": "python",
   "name": "python3"
  },
  "source_map": [
   13,
   16,
   20
  ]
 },
 "nbformat": 4,
 "nbformat_minor": 5
}