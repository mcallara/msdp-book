{
 "cells": [
  {
   "cell_type": "markdown",
   "id": "1800ba07",
   "metadata": {},
   "source": [
    "# 5.3 Packaging"
   ]
  },
  {
   "cell_type": "code",
   "execution_count": null,
   "id": "e78f325a",
   "metadata": {
    "tags": [
     "remove-input"
    ]
   },
   "outputs": [],
   "source": [
    "import os\n",
    "os.chdir('../home')"
   ]
  },
  {
   "cell_type": "markdown",
   "id": "4e1e5d70",
   "metadata": {},
   "source": [
    "%TODO: \n",
    "%Packaging (https://packaging.python.org/en/latest/flow/ , https://python-poetry.org/docs/libraries/ )\n",
    "%Distribution package\n",
    "%What is a distribution package\n",
    "%Build with poetry\n",
    "%Python Package Index (PyPI)\n",
    "%Upload to the package distribution service, publishing with poetry.\n",
    "\n",
    "\n",
    "Create Gitlab account\n",
    "Create Repo\n",
    "Create Access Token, Api and Developer\n",
    "Look for Project ID\n",
    "\n",
    "poetry build\n",
    "poetry config repositories.gitlab https://gitlab.com/api/v4/projects/55040597/packages/pypi --local\n",
    "poetry publish --repository gitlab -u mcallara -p YOURTOKEN"
   ]
  }
 ],
 "metadata": {
  "jupytext": {
   "formats": "md:myst",
   "text_representation": {
    "extension": ".md",
    "format_name": "myst",
    "format_version": 0.13,
    "jupytext_version": "1.11.5"
   }
  },
  "kernelspec": {
   "display_name": "Python 3",
   "language": "python",
   "name": "python3"
  },
  "source_map": [
   13,
   16,
   20
  ]
 },
 "nbformat": 4,
 "nbformat_minor": 5
}