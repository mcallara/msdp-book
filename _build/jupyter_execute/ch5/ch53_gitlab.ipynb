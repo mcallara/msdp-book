{
 "cells": [
  {
   "cell_type": "markdown",
   "id": "d9e853aa",
   "metadata": {},
   "source": [
    "% Sections:\n",
    "%Packaging (https://packaging.python.org/en/latest/flow/ , https://python-poetry.org/docs/libraries/ )\n",
    "%Distribution package\n",
    "%What is a distribution package\n",
    "%Build with poetry\n",
    "%Python Package Index (PyPI)\n",
    "%Upload to the package distribution service, publishing with poetry.\n",
    "% Create Gitlab account\n",
    "% In this section, we will learn to use Poetry to build and publish our Python package in the Gitlab Package Registry. \n",
    "% We will use the Gitlab CI/CD pipeline to automate the build and publish process.\n",
    "% We will continue our work with the `poetry-demo` project. Since, in the previous section, we added a GITLAB_TOKEN variable to our repo, you don't need to do it again.\n",
    "\n",
    "# 5.3 Packaging"
   ]
  },
  {
   "cell_type": "code",
   "execution_count": 1,
   "id": "4e8c3a3b",
   "metadata": {
    "tags": [
     "remove-input"
    ]
   },
   "outputs": [
    {
     "name": "stdout",
     "output_type": "stream",
     "text": [
      "bash: cd: ../home/ch55/poetry-demo: No such file or directory\n"
     ]
    },
    {
     "ename": "",
     "evalue": "1",
     "output_type": "error",
     "traceback": []
    }
   ],
   "source": [
    "cd ../home/ch55/poetry-demo"
   ]
  },
  {
   "cell_type": "markdown",
   "id": "fbd19e8c",
   "metadata": {},
   "source": [
    "In this chapter, we'll explore the essentials of Python packages, package registries, and how to utilize Poetry for package management. Additionally, we will delve into automating the build and publish process using the GitLab CI/CD pipeline, building on our work with the `poetry-demo` project.\n",
    "\n",
    "## Understanding Python Packages and Package Registries\n",
    "\n",
    "A **Python Package** is a collection of modules that are bundled together. These packages can be easily distributed for use in other projects, promoting code reuse and modular programming. Python packages can include libraries, frameworks, or collections of code and resources for specific purposes.\n",
    "\n",
    "A **Package Registry** is a storage space for packages where they can be published, shared, and managed. It allows developers to easily distribute and install packages using package management tools. The Python Package Index (PyPI) is a popular example, but organizations often use private registries for internal tools and libraries.\n",
    "\n",
    "### Using a Package Registry with `pip`\n",
    "\n",
    "To install a package from a registry, `pip` is commonly used. For example, to install a package named `example-package`, you would use:\n",
    "\n",
    "```bash\n",
    "pip install example-package\n",
    "```\n",
    "\n",
    "`pip` searches for the package in PyPI (or another configured registry), downloads it, and installs it in your Python environment.\n",
    "\n",
    "## Building and Publishing with Poetry\n",
    "\n",
    "[Poetry](https://python-poetry.org/) is a modern tool for Python package management and dependency resolution. It simplifies package creation, dependency management, and packaging.\n",
    "\n",
    "### Publishing to GitLab Package Registry\n",
    "\n",
    "To publish our package to the GitLab Package Registry, we'll first ensure our project is configured to use Poetry. Then, we'll set up our `.gitlab-ci.yml` to automate the build and publish process.\n",
    "\n",
    "### Pre-requisites\n",
    "\n",
    "- A GitLab repository with our Python project (`poetry-demo`).\n",
    "- A `pyproject.toml` file configured for our project, created by running `poetry init`.\n",
    "- The `GITLAB_TOKEN` variable already added to our GitLab project settings for authentication.\n",
    "\n",
    "## Automating Build and Publish with GitLab CI/CD\n",
    "\n",
    "GitLab CI/CD pipelines automate steps in the software delivery process, such as builds, tests, and deployments. We'll add a `publish` stage to our `.gitlab-ci.yml` to automate publishing our package to the GitLab Package Registry whenever a new version is tagged.\n",
    "\n",
    "### Adding the Publish Stage\n",
    "\n",
    "Below is the configuration for the `publish` stage in the `.gitlab-ci.yml` file. This stage runs in the `deploy` phase and is designed to trigger on commits to the default branch that follow semantic versioning in their commit message.\n",
    "\n",
    "```{code-block} yaml\n",
    "publish:\n",
    "  stage: deploy\n",
    "  rules:\n",
    "    - if: '$CI_COMMIT_MESSAGE =~ /^(\\d+\\.)?(\\d+\\.)?(\\d+).*/ && $CI_COMMIT_REF_NAME == $CI_DEFAULT_BRANCH'\n",
    "      when: always \n",
    "  script:\n",
    "    - pip install poetry\n",
    "    - poetry build\n",
    "    - poetry config repositories.gitlab https://gitlab.com/api/v4/projects/$CI_PROJECT_ID/packages/pypi --local\n",
    "    - poetry publish --repository gitlab -u $GITLAB_USER_LOGIN -p $GITLAB_TOKEN\n",
    "```"
   ]
  },
  {
   "cell_type": "code",
   "execution_count": 2,
   "id": "ff554a93",
   "metadata": {
    "tags": [
     "remove-input"
    ]
   },
   "outputs": [],
   "source": [
    "echo $'\n",
    "publish:\n",
    "  stage: deploy\n",
    "  rules:\n",
    "    - if: \\'$CI_COMMIT_MESSAGE =~ /^(\\d+\\.)?(\\d+\\.)?(\\d+).*/ && $CI_COMMIT_REF_NAME == $CI_DEFAULT_BRANCH\\'\n",
    "      when: always \n",
    "  script:\n",
    "    - pip install poetry\n",
    "    - poetry build\n",
    "    - poetry config repositories.gitlab https://gitlab.com/api/v4/projects/$CI_PROJECT_ID/packages/pypi --local\n",
    "    - poetry publish --repository gitlab -u $GITLAB_USER_LOGIN -p $GITLAB_TOKEN' >> .gitlab-ci.yml"
   ]
  },
  {
   "cell_type": "markdown",
   "id": "60e734fb",
   "metadata": {},
   "source": [
    "This configuration does the following:\n",
    "\n",
    "1. Installs Poetry if it's not already available in the CI/CD environment.\n",
    "2. Builds the package using `poetry build`, which generates the package distribution files.\n",
    "3. Configures Poetry to use the GitLab Package Registry as a repository.\n",
    "4. Publishes the package to the GitLab Package Registry using `poetry publish`.\n",
    "\n",
    "The `rules` section ensures this job only runs when the commit message indicates a new version (following semantic versioning) and the commit is made to the default branch."
   ]
  }
 ],
 "metadata": {
  "jupytext": {
   "formats": "md:myst",
   "text_representation": {
    "extension": ".md",
    "format_name": "myst",
    "format_version": 0.13,
    "jupytext_version": "1.11.5"
   }
  },
  "kernelspec": {
   "display_name": "Bash",
   "language": "bash",
   "name": "bash"
  },
  "language_info": {
   "codemirror_mode": "shell",
   "file_extension": ".sh",
   "mimetype": "text/x-sh",
   "name": "bash"
  },
  "source_map": [
   13,
   27,
   30,
   84,
   97
  ]
 },
 "nbformat": 4,
 "nbformat_minor": 5
}