{
 "cells": [
  {
   "cell_type": "markdown",
   "id": "1b5b7b3b",
   "metadata": {},
   "source": [
    "# 5.2 Software Versioning"
   ]
  },
  {
   "cell_type": "code",
   "execution_count": 1,
   "id": "a8d15458",
   "metadata": {
    "tags": [
     "remove-input"
    ]
   },
   "outputs": [],
   "source": [
    "cd ../home\n",
    "mkdir ch52\n",
    "cd ch52"
   ]
  },
  {
   "cell_type": "markdown",
   "id": "e6b56f65",
   "metadata": {},
   "source": [
    "TODO: \n",
    "Versioning\n",
    "Semantic Versioning (https://semver.org/ )\n",
    "Automating the Versioning with Semantic Release\n",
    "Release Notes\n",
    "\n",
    "\n",
    "# Automate Semantic Versioning in Poetry Projects with Python Semantic Release\n",
    "\n",
    "Using `python-semantic-release` to automate semantic versioning in projects managed with Poetry on GitHub involves setting up `python-semantic-release` in your project, configuring it to work with Poetry, and automating the release process through GitHub Actions.\n",
    "\n",
    "## Prerequisites\n",
    "\n",
    "- A GitHub repository with a Python project managed by Poetry.\n",
    "- Basic understanding of semantic versioning, Git, and GitHub Actions.\n",
    "\n",
    "## Setup Your Python Project with Poetry\n",
    "\n",
    "Ensure your project is set up with Poetry and has a `pyproject.toml` file at its root. This file should define your project's dependencies and metadata. If your project isn't set up with Poetry yet, you can start by running:\n",
    "\n",
    "```{code-block} bash\n",
    "poetry init\n",
    "```\n",
    "\n",
    "And follow the prompts to create your `pyproject.toml`.\n",
    "\n",
    "In this section, we will use the `poetry-demo` project."
   ]
  },
  {
   "cell_type": "code",
   "execution_count": 2,
   "id": "1ffffe03",
   "metadata": {},
   "outputs": [
    {
     "name": "stdout",
     "output_type": "stream",
     "text": [
      "Created package \u001b[34mpoetry_demo\u001b[39m in \u001b[34mpoetry-demo\u001b[39m\n"
     ]
    }
   ],
   "source": [
    "poetry new poetry-demo"
   ]
  },
  {
   "cell_type": "markdown",
   "id": "948dabbd",
   "metadata": {},
   "source": [
    "Navegate to the root folder of the project."
   ]
  },
  {
   "cell_type": "code",
   "execution_count": 3,
   "id": "8334712b",
   "metadata": {},
   "outputs": [],
   "source": [
    "cd poetry-demo"
   ]
  },
  {
   "cell_type": "markdown",
   "id": "108f88f6",
   "metadata": {},
   "source": [
    "## Change the Python Versions Supported by the Project\n",
    "\n",
    "Since `python-semantic-release` requires `Python >=3.8`, before installing python-semantic-release, it is important that \n",
    "you check and change the Python version supported by the project.\n",
    "In the `pyproject.toml` file, look for:\n",
    "\n",
    "```toml\n",
    "[tool.poetry.dependencies]\n",
    "python = \"^3.7\"\n",
    "```\n",
    "\n",
    "Change it to: \n",
    "\n",
    "```toml\n",
    "[tool.poetry.dependencies]\n",
    "python = \"^3.8\"\n",
    "```"
   ]
  },
  {
   "cell_type": "code",
   "execution_count": 4,
   "id": "3b6a69fe",
   "metadata": {
    "tags": [
     "remove-input"
    ]
   },
   "outputs": [],
   "source": [
    "sed -i 's/python = \"^3.7\"/python = \"^3.8\"/' pyproject.toml"
   ]
  },
  {
   "cell_type": "markdown",
   "id": "a7d743b4",
   "metadata": {},
   "source": [
    "## Install Python Semantic Release\n",
    "\n",
    "Add `python-semantic-release` to your development dependencies using Poetry. This ensures that the semantic release process is part of your development workflow."
   ]
  },
  {
   "cell_type": "code",
   "execution_count": 5,
   "id": "551fa47f",
   "metadata": {
    "tags": [
     "scroll-output"
    ]
   },
   "outputs": [
    {
     "name": "stdout",
     "output_type": "stream",
     "text": [
      "Creating virtualenv \u001b[36mpoetry-demo\u001b[39m in /home/callaram/tds/home/ch52/poetry-demo/.venv\n",
      "Using version \u001b[39;1m^9.0.3\u001b[39;22m for \u001b[36mpython-semantic-release\u001b[39m\n",
      "\n",
      "\u001b[34mUpdating dependencies\u001b[39m\n",
      "\u001b[2K\u001b[34mResolving dependencies...\u001b[39m \u001b[39;2m(2.7s)\u001b[39;22m\n",
      "\n",
      "\u001b[39;1mPackage operations\u001b[39;22m: \u001b[34m27\u001b[39m installs, \u001b[34m0\u001b[39m updates, \u001b[34m0\u001b[39m removals\n",
      "\n",
      "  \u001b[34;1m•\u001b[39;22m \u001b[39mInstalling \u001b[39m\u001b[36mcertifi\u001b[39m\u001b[39m (\u001b[39m\u001b[39;1m2024.2.2\u001b[39;22m\u001b[39m)\u001b[39m: \u001b[34mPending...\u001b[39m\n",
      "  \u001b[34;1m•\u001b[39;22m \u001b[39mInstalling \u001b[39m\u001b[36mcharset-normalizer\u001b[39m\u001b[39m (\u001b[39m\u001b[39;1m3.3.2\u001b[39;22m\u001b[39m)\u001b[39m: \u001b[34mPending...\u001b[39m\n",
      "  \u001b[34;1m•\u001b[39;22m \u001b[39mInstalling \u001b[39m\u001b[36midna\u001b[39m\u001b[39m (\u001b[39m\u001b[39;1m3.6\u001b[39;22m\u001b[39m)\u001b[39m: \u001b[34mPending...\u001b[39m\n",
      "  \u001b[34;1m•\u001b[39;22m \u001b[39mInstalling \u001b[39m\u001b[36murllib3\u001b[39m\u001b[39m (\u001b[39m\u001b[39;1m2.2.0\u001b[39;22m\u001b[39m)\u001b[39m: \u001b[34mPending...\u001b[39m\n",
      "\u001b[4A\u001b[0J  \u001b[34;1m•\u001b[39;22m \u001b[39mInstalling \u001b[39m\u001b[36mcharset-normalizer\u001b[39m\u001b[39m (\u001b[39m\u001b[39;1m3.3.2\u001b[39;22m\u001b[39m)\u001b[39m: \u001b[34mPending...\u001b[39m\n",
      "  \u001b[34;1m•\u001b[39;22m \u001b[39mInstalling \u001b[39m\u001b[36midna\u001b[39m\u001b[39m (\u001b[39m\u001b[39;1m3.6\u001b[39;22m\u001b[39m)\u001b[39m: \u001b[34mPending...\u001b[39m\n",
      "  \u001b[34;1m•\u001b[39;22m \u001b[39mInstalling \u001b[39m\u001b[36murllib3\u001b[39m\u001b[39m (\u001b[39m\u001b[39;1m2.2.0\u001b[39;22m\u001b[39m)\u001b[39m: \u001b[34mPending...\u001b[39m\n",
      "\u001b[3A\u001b[0J  \u001b[34;1m•\u001b[39;22m \u001b[39mInstalling \u001b[39m\u001b[36mcertifi\u001b[39m\u001b[39m (\u001b[39m\u001b[39;1m2024.2.2\u001b[39;22m\u001b[39m)\u001b[39m: \u001b[34mInstalling...\u001b[39m\n",
      "  \u001b[34;1m•\u001b[39;22m \u001b[39mInstalling \u001b[39m\u001b[36mcharset-normalizer\u001b[39m\u001b[39m (\u001b[39m\u001b[39;1m3.3.2\u001b[39;22m\u001b[39m)\u001b[39m: \u001b[34mPending...\u001b[39m\n",
      "  \u001b[34;1m•\u001b[39;22m \u001b[39mInstalling \u001b[39m\u001b[36midna\u001b[39m\u001b[39m (\u001b[39m\u001b[39;1m3.6\u001b[39;22m\u001b[39m)\u001b[39m: \u001b[34mPending...\u001b[39m\n",
      "  \u001b[34;1m•\u001b[39;22m \u001b[39mInstalling \u001b[39m\u001b[36murllib3\u001b[39m\u001b[39m (\u001b[39m\u001b[39;1m2.2.0\u001b[39;22m\u001b[39m)\u001b[39m: \u001b[34mPending...\u001b[39m\n",
      "\u001b[2A\u001b[0J  \u001b[34;1m•\u001b[39;22m \u001b[39mInstalling \u001b[39m\u001b[36murllib3\u001b[39m\u001b[39m (\u001b[39m\u001b[39;1m2.2.0\u001b[39;22m\u001b[39m)\u001b[39m: \u001b[34mPending...\u001b[39m\n",
      "\u001b[1A\u001b[0J  \u001b[34;1m•\u001b[39;22m \u001b[39mInstalling \u001b[39m\u001b[36midna\u001b[39m\u001b[39m (\u001b[39m\u001b[39;1m3.6\u001b[39;22m\u001b[39m)\u001b[39m: \u001b[34mInstalling...\u001b[39m\n",
      "  \u001b[34;1m•\u001b[39;22m \u001b[39mInstalling \u001b[39m\u001b[36murllib3\u001b[39m\u001b[39m (\u001b[39m\u001b[39;1m2.2.0\u001b[39;22m\u001b[39m)\u001b[39m: \u001b[34mPending...\u001b[39m\n",
      "\u001b[1A\u001b[0J  \u001b[34;1m•\u001b[39;22m \u001b[39mInstalling \u001b[39m\u001b[36murllib3\u001b[39m\u001b[39m (\u001b[39m\u001b[39;1m2.2.0\u001b[39;22m\u001b[39m)\u001b[39m: \u001b[34mInstalling...\u001b[39m\n",
      "\u001b[2A\u001b[0J  \u001b[34;1m•\u001b[39;22m \u001b[39mInstalling \u001b[39m\u001b[36murllib3\u001b[39m\u001b[39m (\u001b[39m\u001b[39;1m2.2.0\u001b[39;22m\u001b[39m)\u001b[39m: \u001b[34mInstalling...\u001b[39m\n",
      "\u001b[1A\u001b[0J  \u001b[32;1m•\u001b[39;22m \u001b[39mInstalling \u001b[39m\u001b[36midna\u001b[39m\u001b[39m (\u001b[39m\u001b[32m3.6\u001b[39m\u001b[39m)\u001b[39m\n",
      "  \u001b[34;1m•\u001b[39;22m \u001b[39mInstalling \u001b[39m\u001b[36murllib3\u001b[39m\u001b[39m (\u001b[39m\u001b[39;1m2.2.0\u001b[39;22m\u001b[39m)\u001b[39m: \u001b[34mInstalling...\u001b[39m\n",
      "\u001b[4A\u001b[0J  \u001b[34;1m•\u001b[39;22m \u001b[39mInstalling \u001b[39m\u001b[36mcharset-normalizer\u001b[39m\u001b[39m (\u001b[39m\u001b[39;1m3.3.2\u001b[39;22m\u001b[39m)\u001b[39m: \u001b[34mPending...\u001b[39m\n",
      "  \u001b[32;1m•\u001b[39;22m \u001b[39mInstalling \u001b[39m\u001b[36midna\u001b[39m\u001b[39m (\u001b[39m\u001b[32m3.6\u001b[39m\u001b[39m)\u001b[39m\n",
      "  \u001b[34;1m•\u001b[39;22m \u001b[39mInstalling \u001b[39m\u001b[36murllib3\u001b[39m\u001b[39m (\u001b[39m\u001b[39;1m2.2.0\u001b[39;22m\u001b[39m)\u001b[39m: \u001b[34mInstalling...\u001b[39m\n",
      "\u001b[3A\u001b[0J  \u001b[32;1m•\u001b[39;22m \u001b[39mInstalling \u001b[39m\u001b[36mcertifi\u001b[39m\u001b[39m (\u001b[39m\u001b[32m2024.2.2\u001b[39m\u001b[39m)\u001b[39m\n",
      "  \u001b[34;1m•\u001b[39;22m \u001b[39mInstalling \u001b[39m\u001b[36mcharset-normalizer\u001b[39m\u001b[39m (\u001b[39m\u001b[39;1m3.3.2\u001b[39;22m\u001b[39m)\u001b[39m: \u001b[34mPending...\u001b[39m\n",
      "  \u001b[32;1m•\u001b[39;22m \u001b[39mInstalling \u001b[39m\u001b[36midna\u001b[39m\u001b[39m (\u001b[39m\u001b[32m3.6\u001b[39m\u001b[39m)\u001b[39m\n",
      "  \u001b[34;1m•\u001b[39;22m \u001b[39mInstalling \u001b[39m\u001b[36murllib3\u001b[39m\u001b[39m (\u001b[39m\u001b[39;1m2.2.0\u001b[39;22m\u001b[39m)\u001b[39m: \u001b[34mInstalling...\u001b[39m\n",
      "\u001b[1A\u001b[0J  \u001b[32;1m•\u001b[39;22m \u001b[39mInstalling \u001b[39m\u001b[36murllib3\u001b[39m\u001b[39m (\u001b[39m\u001b[32m2.2.0\u001b[39m\u001b[39m)\u001b[39m\n",
      "\u001b[3A\u001b[0J  \u001b[32;1m•\u001b[39;22m \u001b[39mInstalling \u001b[39m\u001b[36midna\u001b[39m\u001b[39m (\u001b[39m\u001b[32m3.6\u001b[39m\u001b[39m)\u001b[39m\n",
      "  \u001b[32;1m•\u001b[39;22m \u001b[39mInstalling \u001b[39m\u001b[36murllib3\u001b[39m\u001b[39m (\u001b[39m\u001b[32m2.2.0\u001b[39m\u001b[39m)\u001b[39m\n",
      "\u001b[2A\u001b[0J  \u001b[34;1m•\u001b[39;22m \u001b[39mInstalling \u001b[39m\u001b[36mcharset-normalizer\u001b[39m\u001b[39m (\u001b[39m\u001b[39;1m3.3.2\u001b[39;22m\u001b[39m)\u001b[39m: \u001b[34mInstalling...\u001b[39m\n",
      "  \u001b[32;1m•\u001b[39;22m \u001b[39mInstalling \u001b[39m\u001b[36midna\u001b[39m\u001b[39m (\u001b[39m\u001b[32m3.6\u001b[39m\u001b[39m)\u001b[39m\n",
      "  \u001b[32;1m•\u001b[39;22m \u001b[39mInstalling \u001b[39m\u001b[36murllib3\u001b[39m\u001b[39m (\u001b[39m\u001b[32m2.2.0\u001b[39m\u001b[39m)\u001b[39m\n",
      "\u001b[3A\u001b[0J  \u001b[32;1m•\u001b[39;22m \u001b[39mInstalling \u001b[39m\u001b[36midna\u001b[39m\u001b[39m (\u001b[39m\u001b[32m3.6\u001b[39m\u001b[39m)\u001b[39m\n",
      "  \u001b[32;1m•\u001b[39;22m \u001b[39mInstalling \u001b[39m\u001b[36murllib3\u001b[39m\u001b[39m (\u001b[39m\u001b[32m2.2.0\u001b[39m\u001b[39m)\u001b[39m\n",
      "\u001b[2A\u001b[0J  \u001b[32;1m•\u001b[39;22m \u001b[39mInstalling \u001b[39m\u001b[36mcharset-normalizer\u001b[39m\u001b[39m (\u001b[39m\u001b[32m3.3.2\u001b[39m\u001b[39m)\u001b[39m\n",
      "  \u001b[32;1m•\u001b[39;22m \u001b[39mInstalling \u001b[39m\u001b[36midna\u001b[39m\u001b[39m (\u001b[39m\u001b[32m3.6\u001b[39m\u001b[39m)\u001b[39m\n",
      "  \u001b[32;1m•\u001b[39;22m \u001b[39mInstalling \u001b[39m\u001b[36murllib3\u001b[39m\u001b[39m (\u001b[39m\u001b[32m2.2.0\u001b[39m\u001b[39m)\u001b[39m\n",
      "  \u001b[34;1m•\u001b[39;22m \u001b[39mInstalling \u001b[39m\u001b[36mmdurl\u001b[39m\u001b[39m (\u001b[39m\u001b[39;1m0.1.2\u001b[39;22m\u001b[39m)\u001b[39m: \u001b[34mPending...\u001b[39m\n",
      "  \u001b[34;1m•\u001b[39;22m \u001b[39mInstalling \u001b[39m\u001b[36mrequests\u001b[39m\u001b[39m (\u001b[39m\u001b[39;1m2.31.0\u001b[39;22m\u001b[39m)\u001b[39m: \u001b[34mPending...\u001b[39m\n",
      "  \u001b[34;1m•\u001b[39;22m \u001b[39mInstalling \u001b[39m\u001b[36msmmap\u001b[39m\u001b[39m (\u001b[39m\u001b[39;1m5.0.1\u001b[39;22m\u001b[39m)\u001b[39m: \u001b[34mPending...\u001b[39m\n",
      "  \u001b[34;1m•\u001b[39;22m \u001b[39mInstalling \u001b[39m\u001b[36mtyping-extensions\u001b[39m\u001b[39m (\u001b[39m\u001b[39;1m4.9.0\u001b[39;22m\u001b[39m)\u001b[39m: \u001b[34mPending...\u001b[39m\n",
      "\u001b[4A\u001b[0J  \u001b[34;1m•\u001b[39;22m \u001b[39mInstalling \u001b[39m\u001b[36mrequests\u001b[39m\u001b[39m (\u001b[39m\u001b[39;1m2.31.0\u001b[39;22m\u001b[39m)\u001b[39m: \u001b[34mPending...\u001b[39m\n",
      "  \u001b[34;1m•\u001b[39;22m \u001b[39mInstalling \u001b[39m\u001b[36msmmap\u001b[39m\u001b[39m (\u001b[39m\u001b[39;1m5.0.1\u001b[39;22m\u001b[39m)\u001b[39m: \u001b[34mPending...\u001b[39m\n",
      "  \u001b[34;1m•\u001b[39;22m \u001b[39mInstalling \u001b[39m\u001b[36mtyping-extensions\u001b[39m\u001b[39m (\u001b[39m\u001b[39;1m4.9.0\u001b[39;22m\u001b[39m)\u001b[39m: \u001b[34mPending...\u001b[39m\n",
      "\u001b[3A\u001b[0J  \u001b[34;1m•\u001b[39;22m \u001b[39mInstalling \u001b[39m\u001b[36mmdurl\u001b[39m\u001b[39m (\u001b[39m\u001b[39;1m0.1.2\u001b[39;22m\u001b[39m)\u001b[39m: \u001b[34mInstalling...\u001b[39m\n",
      "  \u001b[34;1m•\u001b[39;22m \u001b[39mInstalling \u001b[39m\u001b[36mrequests\u001b[39m\u001b[39m (\u001b[39m\u001b[39;1m2.31.0\u001b[39;22m\u001b[39m)\u001b[39m: \u001b[34mPending...\u001b[39m\n",
      "  \u001b[34;1m•\u001b[39;22m \u001b[39mInstalling \u001b[39m\u001b[36msmmap\u001b[39m\u001b[39m (\u001b[39m\u001b[39;1m5.0.1\u001b[39;22m\u001b[39m)\u001b[39m: \u001b[34mPending...\u001b[39m\n",
      "  \u001b[34;1m•\u001b[39;22m \u001b[39mInstalling \u001b[39m\u001b[36mtyping-extensions\u001b[39m\u001b[39m (\u001b[39m\u001b[39;1m4.9.0\u001b[39;22m\u001b[39m)\u001b[39m: \u001b[34mPending...\u001b[39m\n",
      "\u001b[3A\u001b[0J  \u001b[34;1m•\u001b[39;22m \u001b[39mInstalling \u001b[39m\u001b[36msmmap\u001b[39m\u001b[39m (\u001b[39m\u001b[39;1m5.0.1\u001b[39;22m\u001b[39m)\u001b[39m: \u001b[34mPending...\u001b[39m\n",
      "  \u001b[34;1m•\u001b[39;22m \u001b[39mInstalling \u001b[39m\u001b[36mtyping-extensions\u001b[39m\u001b[39m (\u001b[39m\u001b[39;1m4.9.0\u001b[39;22m\u001b[39m)\u001b[39m: \u001b[34mPending...\u001b[39m\n",
      "\u001b[2A\u001b[0J  \u001b[34;1m•\u001b[39;22m \u001b[39mInstalling \u001b[39m\u001b[36mrequests\u001b[39m\u001b[39m (\u001b[39m\u001b[39;1m2.31.0\u001b[39;22m\u001b[39m)\u001b[39m: \u001b[34mInstalling...\u001b[39m\n",
      "  \u001b[34;1m•\u001b[39;22m \u001b[39mInstalling \u001b[39m\u001b[36msmmap\u001b[39m\u001b[39m (\u001b[39m\u001b[39;1m5.0.1\u001b[39;22m\u001b[39m)\u001b[39m: \u001b[34mPending...\u001b[39m\n",
      "  \u001b[34;1m•\u001b[39;22m \u001b[39mInstalling \u001b[39m\u001b[36mtyping-extensions\u001b[39m\u001b[39m (\u001b[39m\u001b[39;1m4.9.0\u001b[39;22m\u001b[39m)\u001b[39m: \u001b[34mPending...\u001b[39m\n",
      "\u001b[2A\u001b[0J  \u001b[34;1m•\u001b[39;22m \u001b[39mInstalling \u001b[39m\u001b[36mtyping-extensions\u001b[39m\u001b[39m (\u001b[39m\u001b[39;1m4.9.0\u001b[39;22m\u001b[39m)\u001b[39m: \u001b[34mPending...\u001b[39m\n",
      "\u001b[1A\u001b[0J  \u001b[34;1m•\u001b[39;22m \u001b[39mInstalling \u001b[39m\u001b[36msmmap\u001b[39m\u001b[39m (\u001b[39m\u001b[39;1m5.0.1\u001b[39;22m\u001b[39m)\u001b[39m: \u001b[34mInstalling...\u001b[39m\n",
      "  \u001b[34;1m•\u001b[39;22m \u001b[39mInstalling \u001b[39m\u001b[36mtyping-extensions\u001b[39m\u001b[39m (\u001b[39m\u001b[39;1m4.9.0\u001b[39;22m\u001b[39m)\u001b[39m: \u001b[34mPending...\u001b[39m\n",
      "\u001b[1A\u001b[0J  \u001b[34;1m•\u001b[39;22m \u001b[39mInstalling \u001b[39m\u001b[36mtyping-extensions\u001b[39m\u001b[39m (\u001b[39m\u001b[39;1m4.9.0\u001b[39;22m\u001b[39m)\u001b[39m: \u001b[34mInstalling...\u001b[39m\n",
      "\u001b[1A\u001b[0J  \u001b[32;1m•\u001b[39;22m \u001b[39mInstalling \u001b[39m\u001b[36mtyping-extensions\u001b[39m\u001b[39m (\u001b[39m\u001b[32m4.9.0\u001b[39m\u001b[39m)\u001b[39m\n",
      "\u001b[4A\u001b[0J  \u001b[34;1m•\u001b[39;22m \u001b[39mInstalling \u001b[39m\u001b[36mrequests\u001b[39m\u001b[39m (\u001b[39m\u001b[39;1m2.31.0\u001b[39;22m\u001b[39m)\u001b[39m: \u001b[34mInstalling...\u001b[39m\n",
      "  \u001b[34;1m•\u001b[39;22m \u001b[39mInstalling \u001b[39m\u001b[36msmmap\u001b[39m\u001b[39m (\u001b[39m\u001b[39;1m5.0.1\u001b[39;22m\u001b[39m)\u001b[39m: \u001b[34mInstalling...\u001b[39m\n",
      "  \u001b[32;1m•\u001b[39;22m \u001b[39mInstalling \u001b[39m\u001b[36mtyping-extensions\u001b[39m\u001b[39m (\u001b[39m\u001b[32m4.9.0\u001b[39m\u001b[39m)\u001b[39m\n",
      "\u001b[3A\u001b[0J  \u001b[32;1m•\u001b[39;22m \u001b[39mInstalling \u001b[39m\u001b[36mmdurl\u001b[39m\u001b[39m (\u001b[39m\u001b[32m0.1.2\u001b[39m\u001b[39m)\u001b[39m\n",
      "  \u001b[34;1m•\u001b[39;22m \u001b[39mInstalling \u001b[39m\u001b[36mrequests\u001b[39m\u001b[39m (\u001b[39m\u001b[39;1m2.31.0\u001b[39;22m\u001b[39m)\u001b[39m: \u001b[34mInstalling...\u001b[39m\n",
      "  \u001b[34;1m•\u001b[39;22m \u001b[39mInstalling \u001b[39m\u001b[36msmmap\u001b[39m\u001b[39m (\u001b[39m\u001b[39;1m5.0.1\u001b[39;22m\u001b[39m)\u001b[39m: \u001b[34mInstalling...\u001b[39m\n",
      "  \u001b[32;1m•\u001b[39;22m \u001b[39mInstalling \u001b[39m\u001b[36mtyping-extensions\u001b[39m\u001b[39m (\u001b[39m\u001b[32m4.9.0\u001b[39m\u001b[39m)\u001b[39m\n",
      "\u001b[2A\u001b[0J  \u001b[32;1m•\u001b[39;22m \u001b[39mInstalling \u001b[39m\u001b[36mtyping-extensions\u001b[39m\u001b[39m (\u001b[39m\u001b[32m4.9.0\u001b[39m\u001b[39m)\u001b[39m\n",
      "\u001b[1A\u001b[0J  \u001b[32;1m•\u001b[39;22m \u001b[39mInstalling \u001b[39m\u001b[36msmmap\u001b[39m\u001b[39m (\u001b[39m\u001b[32m5.0.1\u001b[39m\u001b[39m)\u001b[39m\n",
      "  \u001b[32;1m•\u001b[39;22m \u001b[39mInstalling \u001b[39m\u001b[36mtyping-extensions\u001b[39m\u001b[39m (\u001b[39m\u001b[32m4.9.0\u001b[39m\u001b[39m)\u001b[39m\n",
      "\u001b[3A\u001b[0J  \u001b[32;1m•\u001b[39;22m \u001b[39mInstalling \u001b[39m\u001b[36msmmap\u001b[39m\u001b[39m (\u001b[39m\u001b[32m5.0.1\u001b[39m\u001b[39m)\u001b[39m\n",
      "  \u001b[32;1m•\u001b[39;22m \u001b[39mInstalling \u001b[39m\u001b[36mtyping-extensions\u001b[39m\u001b[39m (\u001b[39m\u001b[32m4.9.0\u001b[39m\u001b[39m)\u001b[39m\n",
      "\u001b[2A\u001b[0J  \u001b[32;1m•\u001b[39;22m \u001b[39mInstalling \u001b[39m\u001b[36mrequests\u001b[39m\u001b[39m (\u001b[39m\u001b[32m2.31.0\u001b[39m\u001b[39m)\u001b[39m\n",
      "  \u001b[32;1m•\u001b[39;22m \u001b[39mInstalling \u001b[39m\u001b[36msmmap\u001b[39m\u001b[39m (\u001b[39m\u001b[32m5.0.1\u001b[39m\u001b[39m)\u001b[39m\n",
      "  \u001b[32;1m•\u001b[39;22m \u001b[39mInstalling \u001b[39m\u001b[36mtyping-extensions\u001b[39m\u001b[39m (\u001b[39m\u001b[32m4.9.0\u001b[39m\u001b[39m)\u001b[39m\n",
      "  \u001b[34;1m•\u001b[39;22m \u001b[39mInstalling \u001b[39m\u001b[36mannotated-types\u001b[39m\u001b[39m (\u001b[39m\u001b[39;1m0.6.0\u001b[39;22m\u001b[39m)\u001b[39m: \u001b[34mPending...\u001b[39m\n",
      "  \u001b[34;1m•\u001b[39;22m \u001b[39mInstalling \u001b[39m\u001b[36mgitdb\u001b[39m\u001b[39m (\u001b[39m\u001b[39;1m4.0.11\u001b[39;22m\u001b[39m)\u001b[39m: \u001b[34mPending...\u001b[39m\n",
      "  \u001b[34;1m•\u001b[39;22m \u001b[39mInstalling \u001b[39m\u001b[36mmarkdown-it-py\u001b[39m\u001b[39m (\u001b[39m\u001b[39;1m3.0.0\u001b[39;22m\u001b[39m)\u001b[39m: \u001b[34mPending...\u001b[39m\n",
      "  \u001b[34;1m•\u001b[39;22m \u001b[39mInstalling \u001b[39m\u001b[36mmarkupsafe\u001b[39m\u001b[39m (\u001b[39m\u001b[39;1m2.1.5\u001b[39;22m\u001b[39m)\u001b[39m: \u001b[34mPending...\u001b[39m\n",
      "  \u001b[34;1m•\u001b[39;22m \u001b[39mInstalling \u001b[39m\u001b[36mpydantic-core\u001b[39m\u001b[39m (\u001b[39m\u001b[39;1m2.16.2\u001b[39;22m\u001b[39m)\u001b[39m: \u001b[34mPending...\u001b[39m\n",
      "  \u001b[34;1m•\u001b[39;22m \u001b[39mInstalling \u001b[39m\u001b[36mpygments\u001b[39m\u001b[39m (\u001b[39m\u001b[39;1m2.17.2\u001b[39;22m\u001b[39m)\u001b[39m: \u001b[34mPending...\u001b[39m\n",
      "  \u001b[34;1m•\u001b[39;22m \u001b[39mInstalling \u001b[39m\u001b[36mrequests-toolbelt\u001b[39m\u001b[39m (\u001b[39m\u001b[39;1m1.0.0\u001b[39;22m\u001b[39m)\u001b[39m: \u001b[34mPending...\u001b[39m\n",
      "  \u001b[34;1m•\u001b[39;22m \u001b[39mInstalling \u001b[39m\u001b[36mzipp\u001b[39m\u001b[39m (\u001b[39m\u001b[39;1m3.17.0\u001b[39;22m\u001b[39m)\u001b[39m: \u001b[34mPending...\u001b[39m\n",
      "\u001b[7A\u001b[0J  \u001b[34;1m•\u001b[39;22m \u001b[39mInstalling \u001b[39m\u001b[36mmarkdown-it-py\u001b[39m\u001b[39m (\u001b[39m\u001b[39;1m3.0.0\u001b[39;22m\u001b[39m)\u001b[39m: \u001b[34mPending...\u001b[39m\n",
      "  \u001b[34;1m•\u001b[39;22m \u001b[39mInstalling \u001b[39m\u001b[36mmarkupsafe\u001b[39m\u001b[39m (\u001b[39m\u001b[39;1m2.1.5\u001b[39;22m\u001b[39m)\u001b[39m: \u001b[34mPending...\u001b[39m\n",
      "  \u001b[34;1m•\u001b[39;22m \u001b[39mInstalling \u001b[39m\u001b[36mpydantic-core\u001b[39m\u001b[39m (\u001b[39m\u001b[39;1m2.16.2\u001b[39;22m\u001b[39m)\u001b[39m: \u001b[34mPending...\u001b[39m\n",
      "  \u001b[34;1m•\u001b[39;22m \u001b[39mInstalling \u001b[39m\u001b[36mpygments\u001b[39m\u001b[39m (\u001b[39m\u001b[39;1m2.17.2\u001b[39;22m\u001b[39m)\u001b[39m: \u001b[34mPending...\u001b[39m\n",
      "  \u001b[34;1m•\u001b[39;22m \u001b[39mInstalling \u001b[39m\u001b[36mrequests-toolbelt\u001b[39m\u001b[39m (\u001b[39m\u001b[39;1m1.0.0\u001b[39;22m\u001b[39m)\u001b[39m: \u001b[34mPending...\u001b[39m\n",
      "  \u001b[34;1m•\u001b[39;22m \u001b[39mInstalling \u001b[39m\u001b[36mzipp\u001b[39m\u001b[39m (\u001b[39m\u001b[39;1m3.17.0\u001b[39;22m\u001b[39m)\u001b[39m: \u001b[34mPending...\u001b[39m\n",
      "\u001b[6A\u001b[0J  \u001b[34;1m•\u001b[39;22m \u001b[39mInstalling \u001b[39m\u001b[36mgitdb\u001b[39m\u001b[39m (\u001b[39m\u001b[39;1m4.0.11\u001b[39;22m\u001b[39m)\u001b[39m: \u001b[34mInstalling...\u001b[39m\n",
      "  \u001b[34;1m•\u001b[39;22m \u001b[39mInstalling \u001b[39m\u001b[36mmarkdown-it-py\u001b[39m\u001b[39m (\u001b[39m\u001b[39;1m3.0.0\u001b[39;22m\u001b[39m)\u001b[39m: \u001b[34mPending...\u001b[39m\n",
      "  \u001b[34;1m•\u001b[39;22m \u001b[39mInstalling \u001b[39m\u001b[36mmarkupsafe\u001b[39m\u001b[39m (\u001b[39m\u001b[39;1m2.1.5\u001b[39;22m\u001b[39m)\u001b[39m: \u001b[34mPending...\u001b[39m\n",
      "  \u001b[34;1m•\u001b[39;22m \u001b[39mInstalling \u001b[39m\u001b[36mpydantic-core\u001b[39m\u001b[39m (\u001b[39m\u001b[39;1m2.16.2\u001b[39;22m\u001b[39m)\u001b[39m: \u001b[34mPending...\u001b[39m\n",
      "  \u001b[34;1m•\u001b[39;22m \u001b[39mInstalling \u001b[39m\u001b[36mpygments\u001b[39m\u001b[39m (\u001b[39m\u001b[39;1m2.17.2\u001b[39;22m\u001b[39m)\u001b[39m: \u001b[34mPending...\u001b[39m\n",
      "  \u001b[34;1m•\u001b[39;22m \u001b[39mInstalling \u001b[39m\u001b[36mrequests-toolbelt\u001b[39m\u001b[39m (\u001b[39m\u001b[39;1m1.0.0\u001b[39;22m\u001b[39m)\u001b[39m: \u001b[34mPending...\u001b[39m\n",
      "  \u001b[34;1m•\u001b[39;22m \u001b[39mInstalling \u001b[39m\u001b[36mzipp\u001b[39m\u001b[39m (\u001b[39m\u001b[39;1m3.17.0\u001b[39;22m\u001b[39m)\u001b[39m: \u001b[34mPending...\u001b[39m\n",
      "\u001b[5A\u001b[0J  \u001b[34;1m•\u001b[39;22m \u001b[39mInstalling \u001b[39m\u001b[36mpydantic-core\u001b[39m\u001b[39m (\u001b[39m\u001b[39;1m2.16.2\u001b[39;22m\u001b[39m)\u001b[39m: \u001b[34mPending...\u001b[39m\n",
      "  \u001b[34;1m•\u001b[39;22m \u001b[39mInstalling \u001b[39m\u001b[36mpygments\u001b[39m\u001b[39m (\u001b[39m\u001b[39;1m2.17.2\u001b[39;22m\u001b[39m)\u001b[39m: \u001b[34mPending...\u001b[39m\n",
      "  \u001b[34;1m•\u001b[39;22m \u001b[39mInstalling \u001b[39m\u001b[36mrequests-toolbelt\u001b[39m\u001b[39m (\u001b[39m\u001b[39;1m1.0.0\u001b[39;22m\u001b[39m)\u001b[39m: \u001b[34mPending...\u001b[39m\n",
      "  \u001b[34;1m•\u001b[39;22m \u001b[39mInstalling \u001b[39m\u001b[36mzipp\u001b[39m\u001b[39m (\u001b[39m\u001b[39;1m3.17.0\u001b[39;22m\u001b[39m)\u001b[39m: \u001b[34mPending...\u001b[39m\n",
      "\u001b[4A\u001b[0J  \u001b[34;1m•\u001b[39;22m \u001b[39mInstalling \u001b[39m\u001b[36mmarkupsafe\u001b[39m\u001b[39m (\u001b[39m\u001b[39;1m2.1.5\u001b[39;22m\u001b[39m)\u001b[39m: \u001b[34mInstalling...\u001b[39m\n",
      "  \u001b[34;1m•\u001b[39;22m \u001b[39mInstalling \u001b[39m\u001b[36mpydantic-core\u001b[39m\u001b[39m (\u001b[39m\u001b[39;1m2.16.2\u001b[39;22m\u001b[39m)\u001b[39m: \u001b[34mPending...\u001b[39m\n",
      "  \u001b[34;1m•\u001b[39;22m \u001b[39mInstalling \u001b[39m\u001b[36mpygments\u001b[39m\u001b[39m (\u001b[39m\u001b[39;1m2.17.2\u001b[39;22m\u001b[39m)\u001b[39m: \u001b[34mPending...\u001b[39m\n",
      "  \u001b[34;1m•\u001b[39;22m \u001b[39mInstalling \u001b[39m\u001b[36mrequests-toolbelt\u001b[39m\u001b[39m (\u001b[39m\u001b[39;1m1.0.0\u001b[39;22m\u001b[39m)\u001b[39m: \u001b[34mPending...\u001b[39m\n",
      "  \u001b[34;1m•\u001b[39;22m \u001b[39mInstalling \u001b[39m\u001b[36mzipp\u001b[39m\u001b[39m (\u001b[39m\u001b[39;1m3.17.0\u001b[39;22m\u001b[39m)\u001b[39m: \u001b[34mPending...\u001b[39m\n",
      "\u001b[8A\u001b[0J  \u001b[34;1m•\u001b[39;22m \u001b[39mInstalling \u001b[39m\u001b[36mgitdb\u001b[39m\u001b[39m (\u001b[39m\u001b[39;1m4.0.11\u001b[39;22m\u001b[39m)\u001b[39m: \u001b[34mInstalling...\u001b[39m\n",
      "  \u001b[34;1m•\u001b[39;22m \u001b[39mInstalling \u001b[39m\u001b[36mmarkdown-it-py\u001b[39m\u001b[39m (\u001b[39m\u001b[39;1m3.0.0\u001b[39;22m\u001b[39m)\u001b[39m: \u001b[34mPending...\u001b[39m\n",
      "  \u001b[34;1m•\u001b[39;22m \u001b[39mInstalling \u001b[39m\u001b[36mmarkupsafe\u001b[39m\u001b[39m (\u001b[39m\u001b[39;1m2.1.5\u001b[39;22m\u001b[39m)\u001b[39m: \u001b[34mInstalling...\u001b[39m\n",
      "  \u001b[34;1m•\u001b[39;22m \u001b[39mInstalling \u001b[39m\u001b[36mpydantic-core\u001b[39m\u001b[39m (\u001b[39m\u001b[39;1m2.16.2\u001b[39;22m\u001b[39m)\u001b[39m: \u001b[34mPending...\u001b[39m\n",
      "  \u001b[34;1m•\u001b[39;22m \u001b[39mInstalling \u001b[39m\u001b[36mpygments\u001b[39m\u001b[39m (\u001b[39m\u001b[39;1m2.17.2\u001b[39;22m\u001b[39m)\u001b[39m: \u001b[34mPending...\u001b[39m\n",
      "  \u001b[34;1m•\u001b[39;22m \u001b[39mInstalling \u001b[39m\u001b[36mrequests-toolbelt\u001b[39m\u001b[39m (\u001b[39m\u001b[39;1m1.0.0\u001b[39;22m\u001b[39m)\u001b[39m: \u001b[34mPending...\u001b[39m\n",
      "  \u001b[34;1m•\u001b[39;22m \u001b[39mInstalling \u001b[39m\u001b[36mzipp\u001b[39m\u001b[39m (\u001b[39m\u001b[39;1m3.17.0\u001b[39;22m\u001b[39m)\u001b[39m: \u001b[34mPending...\u001b[39m\n",
      "\u001b[7A\u001b[0J  \u001b[34;1m•\u001b[39;22m \u001b[39mInstalling \u001b[39m\u001b[36mannotated-types\u001b[39m\u001b[39m (\u001b[39m\u001b[39;1m0.6.0\u001b[39;22m\u001b[39m)\u001b[39m: \u001b[34mInstalling...\u001b[39m\n",
      "  \u001b[34;1m•\u001b[39;22m \u001b[39mInstalling \u001b[39m\u001b[36mgitdb\u001b[39m\u001b[39m (\u001b[39m\u001b[39;1m4.0.11\u001b[39;22m\u001b[39m)\u001b[39m: \u001b[34mInstalling...\u001b[39m\n",
      "  \u001b[34;1m•\u001b[39;22m \u001b[39mInstalling \u001b[39m\u001b[36mmarkdown-it-py\u001b[39m\u001b[39m (\u001b[39m\u001b[39;1m3.0.0\u001b[39;22m\u001b[39m)\u001b[39m: \u001b[34mPending...\u001b[39m\n",
      "  \u001b[34;1m•\u001b[39;22m \u001b[39mInstalling \u001b[39m\u001b[36mmarkupsafe\u001b[39m\u001b[39m (\u001b[39m\u001b[39;1m2.1.5\u001b[39;22m\u001b[39m)\u001b[39m: \u001b[34mInstalling...\u001b[39m\n",
      "  \u001b[34;1m•\u001b[39;22m \u001b[39mInstalling \u001b[39m\u001b[36mpydantic-core\u001b[39m\u001b[39m (\u001b[39m\u001b[39;1m2.16.2\u001b[39;22m\u001b[39m)\u001b[39m: \u001b[34mPending...\u001b[39m\n",
      "  \u001b[34;1m•\u001b[39;22m \u001b[39mInstalling \u001b[39m\u001b[36mpygments\u001b[39m\u001b[39m (\u001b[39m\u001b[39;1m2.17.2\u001b[39;22m\u001b[39m)\u001b[39m: \u001b[34mPending...\u001b[39m\n",
      "  \u001b[34;1m•\u001b[39;22m \u001b[39mInstalling \u001b[39m\u001b[36mrequests-toolbelt\u001b[39m\u001b[39m (\u001b[39m\u001b[39;1m1.0.0\u001b[39;22m\u001b[39m)\u001b[39m: \u001b[34mPending...\u001b[39m\n",
      "  \u001b[34;1m•\u001b[39;22m \u001b[39mInstalling \u001b[39m\u001b[36mzipp\u001b[39m\u001b[39m (\u001b[39m\u001b[39;1m3.17.0\u001b[39;22m\u001b[39m)\u001b[39m: \u001b[34mPending...\u001b[39m\n",
      "\u001b[6A\u001b[0J  \u001b[34;1m•\u001b[39;22m \u001b[39mInstalling \u001b[39m\u001b[36mmarkupsafe\u001b[39m\u001b[39m (\u001b[39m\u001b[39;1m2.1.5\u001b[39;22m\u001b[39m)\u001b[39m: \u001b[34mInstalling...\u001b[39m\n",
      "  \u001b[34;1m•\u001b[39;22m \u001b[39mInstalling \u001b[39m\u001b[36mpydantic-core\u001b[39m\u001b[39m (\u001b[39m\u001b[39;1m2.16.2\u001b[39;22m\u001b[39m)\u001b[39m: \u001b[34mPending...\u001b[39m\n",
      "  \u001b[34;1m•\u001b[39;22m \u001b[39mInstalling \u001b[39m\u001b[36mpygments\u001b[39m\u001b[39m (\u001b[39m\u001b[39;1m2.17.2\u001b[39;22m\u001b[39m)\u001b[39m: \u001b[34mPending...\u001b[39m\n",
      "  \u001b[34;1m•\u001b[39;22m \u001b[39mInstalling \u001b[39m\u001b[36mrequests-toolbelt\u001b[39m\u001b[39m (\u001b[39m\u001b[39;1m1.0.0\u001b[39;22m\u001b[39m)\u001b[39m: \u001b[34mPending...\u001b[39m\n",
      "  \u001b[34;1m•\u001b[39;22m \u001b[39mInstalling \u001b[39m\u001b[36mzipp\u001b[39m\u001b[39m (\u001b[39m\u001b[39;1m3.17.0\u001b[39;22m\u001b[39m)\u001b[39m: \u001b[34mPending...\u001b[39m\n",
      "\u001b[5A\u001b[0J  \u001b[34;1m•\u001b[39;22m \u001b[39mInstalling \u001b[39m\u001b[36mmarkdown-it-py\u001b[39m\u001b[39m (\u001b[39m\u001b[39;1m3.0.0\u001b[39;22m\u001b[39m)\u001b[39m: \u001b[34mInstalling...\u001b[39m\n",
      "  \u001b[34;1m•\u001b[39;22m \u001b[39mInstalling \u001b[39m\u001b[36mmarkupsafe\u001b[39m\u001b[39m (\u001b[39m\u001b[39;1m2.1.5\u001b[39;22m\u001b[39m)\u001b[39m: \u001b[34mInstalling...\u001b[39m\n",
      "  \u001b[34;1m•\u001b[39;22m \u001b[39mInstalling \u001b[39m\u001b[36mpydantic-core\u001b[39m\u001b[39m (\u001b[39m\u001b[39;1m2.16.2\u001b[39;22m\u001b[39m)\u001b[39m: \u001b[34mPending...\u001b[39m\n",
      "  \u001b[34;1m•\u001b[39;22m \u001b[39mInstalling \u001b[39m\u001b[36mpygments\u001b[39m\u001b[39m (\u001b[39m\u001b[39;1m2.17.2\u001b[39;22m\u001b[39m)\u001b[39m: \u001b[34mPending...\u001b[39m\n",
      "  \u001b[34;1m•\u001b[39;22m \u001b[39mInstalling \u001b[39m\u001b[36mrequests-toolbelt\u001b[39m\u001b[39m (\u001b[39m\u001b[39;1m1.0.0\u001b[39;22m\u001b[39m)\u001b[39m: \u001b[34mPending...\u001b[39m\n",
      "  \u001b[34;1m•\u001b[39;22m \u001b[39mInstalling \u001b[39m\u001b[36mzipp\u001b[39m\u001b[39m (\u001b[39m\u001b[39;1m3.17.0\u001b[39;22m\u001b[39m)\u001b[39m: \u001b[34mPending...\u001b[39m\n",
      "\u001b[1A\u001b[0J  \u001b[34;1m•\u001b[39;22m \u001b[39mInstalling \u001b[39m\u001b[36mzipp\u001b[39m\u001b[39m (\u001b[39m\u001b[39;1m3.17.0\u001b[39;22m\u001b[39m)\u001b[39m: \u001b[34mInstalling...\u001b[39m\n",
      "\u001b[2A\u001b[0J  \u001b[34;1m•\u001b[39;22m \u001b[39mInstalling \u001b[39m\u001b[36mzipp\u001b[39m\u001b[39m (\u001b[39m\u001b[39;1m3.17.0\u001b[39;22m\u001b[39m)\u001b[39m: \u001b[34mInstalling...\u001b[39m\n",
      "\u001b[1A\u001b[0J  \u001b[34;1m•\u001b[39;22m \u001b[39mInstalling \u001b[39m\u001b[36mrequests-toolbelt\u001b[39m\u001b[39m (\u001b[39m\u001b[39;1m1.0.0\u001b[39;22m\u001b[39m)\u001b[39m: \u001b[34mInstalling...\u001b[39m\n",
      "  \u001b[34;1m•\u001b[39;22m \u001b[39mInstalling \u001b[39m\u001b[36mzipp\u001b[39m\u001b[39m (\u001b[39m\u001b[39;1m3.17.0\u001b[39;22m\u001b[39m)\u001b[39m: \u001b[34mInstalling...\u001b[39m\n",
      "\u001b[3A\u001b[0J  \u001b[34;1m•\u001b[39;22m \u001b[39mInstalling \u001b[39m\u001b[36mrequests-toolbelt\u001b[39m\u001b[39m (\u001b[39m\u001b[39;1m1.0.0\u001b[39;22m\u001b[39m)\u001b[39m: \u001b[34mInstalling...\u001b[39m\n",
      "  \u001b[34;1m•\u001b[39;22m \u001b[39mInstalling \u001b[39m\u001b[36mzipp\u001b[39m\u001b[39m (\u001b[39m\u001b[39;1m3.17.0\u001b[39;22m\u001b[39m)\u001b[39m: \u001b[34mInstalling...\u001b[39m\n",
      "\u001b[2A\u001b[0J  \u001b[34;1m•\u001b[39;22m \u001b[39mInstalling \u001b[39m\u001b[36mpygments\u001b[39m\u001b[39m (\u001b[39m\u001b[39;1m2.17.2\u001b[39;22m\u001b[39m)\u001b[39m: \u001b[34mInstalling...\u001b[39m\n",
      "  \u001b[34;1m•\u001b[39;22m \u001b[39mInstalling \u001b[39m\u001b[36mrequests-toolbelt\u001b[39m\u001b[39m (\u001b[39m\u001b[39;1m1.0.0\u001b[39;22m\u001b[39m)\u001b[39m: \u001b[34mInstalling...\u001b[39m\n",
      "  \u001b[34;1m•\u001b[39;22m \u001b[39mInstalling \u001b[39m\u001b[36mzipp\u001b[39m\u001b[39m (\u001b[39m\u001b[39;1m3.17.0\u001b[39;22m\u001b[39m)\u001b[39m: \u001b[34mInstalling...\u001b[39m\n",
      "\u001b[8A\u001b[0J  \u001b[34;1m•\u001b[39;22m \u001b[39mInstalling \u001b[39m\u001b[36mgitdb\u001b[39m\u001b[39m (\u001b[39m\u001b[39;1m4.0.11\u001b[39;22m\u001b[39m)\u001b[39m: \u001b[34mInstalling...\u001b[39m\n",
      "  \u001b[34;1m•\u001b[39;22m \u001b[39mInstalling \u001b[39m\u001b[36mmarkdown-it-py\u001b[39m\u001b[39m (\u001b[39m\u001b[39;1m3.0.0\u001b[39;22m\u001b[39m)\u001b[39m: \u001b[34mInstalling...\u001b[39m\n",
      "  \u001b[34;1m•\u001b[39;22m \u001b[39mInstalling \u001b[39m\u001b[36mmarkupsafe\u001b[39m\u001b[39m (\u001b[39m\u001b[39;1m2.1.5\u001b[39;22m\u001b[39m)\u001b[39m: \u001b[34mInstalling...\u001b[39m\n",
      "  \u001b[34;1m•\u001b[39;22m \u001b[39mInstalling \u001b[39m\u001b[36mpydantic-core\u001b[39m\u001b[39m (\u001b[39m\u001b[39;1m2.16.2\u001b[39;22m\u001b[39m)\u001b[39m: \u001b[34mPending...\u001b[39m\n",
      "  \u001b[34;1m•\u001b[39;22m \u001b[39mInstalling \u001b[39m\u001b[36mpygments\u001b[39m\u001b[39m (\u001b[39m\u001b[39;1m2.17.2\u001b[39;22m\u001b[39m)\u001b[39m: \u001b[34mInstalling...\u001b[39m\n",
      "  \u001b[34;1m•\u001b[39;22m \u001b[39mInstalling \u001b[39m\u001b[36mrequests-toolbelt\u001b[39m\u001b[39m (\u001b[39m\u001b[39;1m1.0.0\u001b[39;22m\u001b[39m)\u001b[39m: \u001b[34mInstalling...\u001b[39m\n",
      "  \u001b[34;1m•\u001b[39;22m \u001b[39mInstalling \u001b[39m\u001b[36mzipp\u001b[39m\u001b[39m (\u001b[39m\u001b[39;1m3.17.0\u001b[39;22m\u001b[39m)\u001b[39m: \u001b[34mInstalling...\u001b[39m\n",
      "\u001b[7A\u001b[0J  \u001b[32;1m•\u001b[39;22m \u001b[39mInstalling \u001b[39m\u001b[36mannotated-types\u001b[39m\u001b[39m (\u001b[39m\u001b[32m0.6.0\u001b[39m\u001b[39m)\u001b[39m\n",
      "  \u001b[34;1m•\u001b[39;22m \u001b[39mInstalling \u001b[39m\u001b[36mgitdb\u001b[39m\u001b[39m (\u001b[39m\u001b[39;1m4.0.11\u001b[39;22m\u001b[39m)\u001b[39m: \u001b[34mInstalling...\u001b[39m\n",
      "  \u001b[34;1m•\u001b[39;22m \u001b[39mInstalling \u001b[39m\u001b[36mmarkdown-it-py\u001b[39m\u001b[39m (\u001b[39m\u001b[39;1m3.0.0\u001b[39;22m\u001b[39m)\u001b[39m: \u001b[34mInstalling...\u001b[39m\n",
      "  \u001b[34;1m•\u001b[39;22m \u001b[39mInstalling \u001b[39m\u001b[36mmarkupsafe\u001b[39m\u001b[39m (\u001b[39m\u001b[39;1m2.1.5\u001b[39;22m\u001b[39m)\u001b[39m: \u001b[34mInstalling...\u001b[39m\n",
      "  \u001b[34;1m•\u001b[39;22m \u001b[39mInstalling \u001b[39m\u001b[36mpydantic-core\u001b[39m\u001b[39m (\u001b[39m\u001b[39;1m2.16.2\u001b[39;22m\u001b[39m)\u001b[39m: \u001b[34mPending...\u001b[39m\n",
      "  \u001b[34;1m•\u001b[39;22m \u001b[39mInstalling \u001b[39m\u001b[36mpygments\u001b[39m\u001b[39m (\u001b[39m\u001b[39;1m2.17.2\u001b[39;22m\u001b[39m)\u001b[39m: \u001b[34mInstalling...\u001b[39m\n",
      "  \u001b[34;1m•\u001b[39;22m \u001b[39mInstalling \u001b[39m\u001b[36mrequests-toolbelt\u001b[39m\u001b[39m (\u001b[39m\u001b[39;1m1.0.0\u001b[39;22m\u001b[39m)\u001b[39m: \u001b[34mInstalling...\u001b[39m\n",
      "  \u001b[34;1m•\u001b[39;22m \u001b[39mInstalling \u001b[39m\u001b[36mzipp\u001b[39m\u001b[39m (\u001b[39m\u001b[39;1m3.17.0\u001b[39;22m\u001b[39m)\u001b[39m: \u001b[34mInstalling...\u001b[39m\n",
      "\u001b[1A\u001b[0J  \u001b[32;1m•\u001b[39;22m \u001b[39mInstalling \u001b[39m\u001b[36mzipp\u001b[39m\u001b[39m (\u001b[39m\u001b[32m3.17.0\u001b[39m\u001b[39m)\u001b[39m\n",
      "\u001b[5A\u001b[0J  \u001b[34;1m•\u001b[39;22m \u001b[39mInstalling \u001b[39m\u001b[36mpydantic-core\u001b[39m\u001b[39m (\u001b[39m\u001b[39;1m2.16.2\u001b[39;22m\u001b[39m)\u001b[39m: \u001b[34mPending...\u001b[39m\n",
      "  \u001b[34;1m•\u001b[39;22m \u001b[39mInstalling \u001b[39m\u001b[36mpygments\u001b[39m\u001b[39m (\u001b[39m\u001b[39;1m2.17.2\u001b[39;22m\u001b[39m)\u001b[39m: \u001b[34mInstalling...\u001b[39m\n",
      "  \u001b[34;1m•\u001b[39;22m \u001b[39mInstalling \u001b[39m\u001b[36mrequests-toolbelt\u001b[39m\u001b[39m (\u001b[39m\u001b[39;1m1.0.0\u001b[39;22m\u001b[39m)\u001b[39m: \u001b[34mInstalling...\u001b[39m\n",
      "  \u001b[32;1m•\u001b[39;22m \u001b[39mInstalling \u001b[39m\u001b[36mzipp\u001b[39m\u001b[39m (\u001b[39m\u001b[32m3.17.0\u001b[39m\u001b[39m)\u001b[39m\n",
      "\u001b[4A\u001b[0J  \u001b[32;1m•\u001b[39;22m \u001b[39mInstalling \u001b[39m\u001b[36mmarkupsafe\u001b[39m\u001b[39m (\u001b[39m\u001b[32m2.1.5\u001b[39m\u001b[39m)\u001b[39m\n",
      "  \u001b[34;1m•\u001b[39;22m \u001b[39mInstalling \u001b[39m\u001b[36mpydantic-core\u001b[39m\u001b[39m (\u001b[39m\u001b[39;1m2.16.2\u001b[39;22m\u001b[39m)\u001b[39m: \u001b[34mPending...\u001b[39m\n",
      "  \u001b[34;1m•\u001b[39;22m \u001b[39mInstalling \u001b[39m\u001b[36mpygments\u001b[39m\u001b[39m (\u001b[39m\u001b[39;1m2.17.2\u001b[39;22m\u001b[39m)\u001b[39m: \u001b[34mInstalling...\u001b[39m\n",
      "  \u001b[34;1m•\u001b[39;22m \u001b[39mInstalling \u001b[39m\u001b[36mrequests-toolbelt\u001b[39m\u001b[39m (\u001b[39m\u001b[39;1m1.0.0\u001b[39;22m\u001b[39m)\u001b[39m: \u001b[34mInstalling...\u001b[39m\n",
      "  \u001b[32;1m•\u001b[39;22m \u001b[39mInstalling \u001b[39m\u001b[36mzipp\u001b[39m\u001b[39m (\u001b[39m\u001b[32m3.17.0\u001b[39m\u001b[39m)\u001b[39m\n",
      "\u001b[4A\u001b[0J  \u001b[34;1m•\u001b[39;22m \u001b[39mInstalling \u001b[39m\u001b[36mpygments\u001b[39m\u001b[39m (\u001b[39m\u001b[39;1m2.17.2\u001b[39;22m\u001b[39m)\u001b[39m: \u001b[34mInstalling...\u001b[39m\n",
      "  \u001b[34;1m•\u001b[39;22m \u001b[39mInstalling \u001b[39m\u001b[36mrequests-toolbelt\u001b[39m\u001b[39m (\u001b[39m\u001b[39;1m1.0.0\u001b[39;22m\u001b[39m)\u001b[39m: \u001b[34mInstalling...\u001b[39m\n",
      "  \u001b[32;1m•\u001b[39;22m \u001b[39mInstalling \u001b[39m\u001b[36mzipp\u001b[39m\u001b[39m (\u001b[39m\u001b[32m3.17.0\u001b[39m\u001b[39m)\u001b[39m\n",
      "\u001b[3A\u001b[0J  \u001b[34;1m•\u001b[39;22m \u001b[39mInstalling \u001b[39m\u001b[36mpydantic-core\u001b[39m\u001b[39m (\u001b[39m\u001b[39;1m2.16.2\u001b[39;22m\u001b[39m)\u001b[39m: \u001b[34mInstalling...\u001b[39m\n",
      "  \u001b[34;1m•\u001b[39;22m \u001b[39mInstalling \u001b[39m\u001b[36mpygments\u001b[39m\u001b[39m (\u001b[39m\u001b[39;1m2.17.2\u001b[39;22m\u001b[39m)\u001b[39m: \u001b[34mInstalling...\u001b[39m\n",
      "  \u001b[34;1m•\u001b[39;22m \u001b[39mInstalling \u001b[39m\u001b[36mrequests-toolbelt\u001b[39m\u001b[39m (\u001b[39m\u001b[39;1m1.0.0\u001b[39;22m\u001b[39m)\u001b[39m: \u001b[34mInstalling...\u001b[39m\n",
      "  \u001b[32;1m•\u001b[39;22m \u001b[39mInstalling \u001b[39m\u001b[36mzipp\u001b[39m\u001b[39m (\u001b[39m\u001b[32m3.17.0\u001b[39m\u001b[39m)\u001b[39m\n",
      "\u001b[7A\u001b[0J  \u001b[34;1m•\u001b[39;22m \u001b[39mInstalling \u001b[39m\u001b[36mmarkdown-it-py\u001b[39m\u001b[39m (\u001b[39m\u001b[39;1m3.0.0\u001b[39;22m\u001b[39m)\u001b[39m: \u001b[34mInstalling...\u001b[39m\n",
      "  \u001b[32;1m•\u001b[39;22m \u001b[39mInstalling \u001b[39m\u001b[36mmarkupsafe\u001b[39m\u001b[39m (\u001b[39m\u001b[32m2.1.5\u001b[39m\u001b[39m)\u001b[39m\n",
      "  \u001b[34;1m•\u001b[39;22m \u001b[39mInstalling \u001b[39m\u001b[36mpydantic-core\u001b[39m\u001b[39m (\u001b[39m\u001b[39;1m2.16.2\u001b[39;22m\u001b[39m)\u001b[39m: \u001b[34mInstalling...\u001b[39m\n",
      "  \u001b[34;1m•\u001b[39;22m \u001b[39mInstalling \u001b[39m\u001b[36mpygments\u001b[39m\u001b[39m (\u001b[39m\u001b[39;1m2.17.2\u001b[39;22m\u001b[39m)\u001b[39m: \u001b[34mInstalling...\u001b[39m\n",
      "  \u001b[34;1m•\u001b[39;22m \u001b[39mInstalling \u001b[39m\u001b[36mrequests-toolbelt\u001b[39m\u001b[39m (\u001b[39m\u001b[39;1m1.0.0\u001b[39;22m\u001b[39m)\u001b[39m: \u001b[34mInstalling...\u001b[39m\n",
      "  \u001b[32;1m•\u001b[39;22m \u001b[39mInstalling \u001b[39m\u001b[36mzipp\u001b[39m\u001b[39m (\u001b[39m\u001b[32m3.17.0\u001b[39m\u001b[39m)\u001b[39m\n",
      "\u001b[6A\u001b[0J  \u001b[32;1m•\u001b[39;22m \u001b[39mInstalling \u001b[39m\u001b[36mgitdb\u001b[39m\u001b[39m (\u001b[39m\u001b[32m4.0.11\u001b[39m\u001b[39m)\u001b[39m\n",
      "  \u001b[34;1m•\u001b[39;22m \u001b[39mInstalling \u001b[39m\u001b[36mmarkdown-it-py\u001b[39m\u001b[39m (\u001b[39m\u001b[39;1m3.0.0\u001b[39;22m\u001b[39m)\u001b[39m: \u001b[34mInstalling...\u001b[39m\n",
      "  \u001b[32;1m•\u001b[39;22m \u001b[39mInstalling \u001b[39m\u001b[36mmarkupsafe\u001b[39m\u001b[39m (\u001b[39m\u001b[32m2.1.5\u001b[39m\u001b[39m)\u001b[39m\n",
      "  \u001b[34;1m•\u001b[39;22m \u001b[39mInstalling \u001b[39m\u001b[36mpydantic-core\u001b[39m\u001b[39m (\u001b[39m\u001b[39;1m2.16.2\u001b[39;22m\u001b[39m)\u001b[39m: \u001b[34mInstalling...\u001b[39m\n",
      "  \u001b[34;1m•\u001b[39;22m \u001b[39mInstalling \u001b[39m\u001b[36mpygments\u001b[39m\u001b[39m (\u001b[39m\u001b[39;1m2.17.2\u001b[39;22m\u001b[39m)\u001b[39m: \u001b[34mInstalling...\u001b[39m\n",
      "  \u001b[34;1m•\u001b[39;22m \u001b[39mInstalling \u001b[39m\u001b[36mrequests-toolbelt\u001b[39m\u001b[39m (\u001b[39m\u001b[39;1m1.0.0\u001b[39;22m\u001b[39m)\u001b[39m: \u001b[34mInstalling...\u001b[39m\n",
      "  \u001b[32;1m•\u001b[39;22m \u001b[39mInstalling \u001b[39m\u001b[36mzipp\u001b[39m\u001b[39m (\u001b[39m\u001b[32m3.17.0\u001b[39m\u001b[39m)\u001b[39m\n",
      "\u001b[2A\u001b[0J  \u001b[32;1m•\u001b[39;22m \u001b[39mInstalling \u001b[39m\u001b[36mzipp\u001b[39m\u001b[39m (\u001b[39m\u001b[32m3.17.0\u001b[39m\u001b[39m)\u001b[39m\n",
      "\u001b[1A\u001b[0J  \u001b[32;1m•\u001b[39;22m \u001b[39mInstalling \u001b[39m\u001b[36mrequests-toolbelt\u001b[39m\u001b[39m (\u001b[39m\u001b[32m1.0.0\u001b[39m\u001b[39m)\u001b[39m\n",
      "  \u001b[32;1m•\u001b[39;22m \u001b[39mInstalling \u001b[39m\u001b[36mzipp\u001b[39m\u001b[39m (\u001b[39m\u001b[32m3.17.0\u001b[39m\u001b[39m)\u001b[39m\n",
      "\u001b[6A\u001b[0J  \u001b[32;1m•\u001b[39;22m \u001b[39mInstalling \u001b[39m\u001b[36mmarkupsafe\u001b[39m\u001b[39m (\u001b[39m\u001b[32m2.1.5\u001b[39m\u001b[39m)\u001b[39m\n",
      "  \u001b[34;1m•\u001b[39;22m \u001b[39mInstalling \u001b[39m\u001b[36mpydantic-core\u001b[39m\u001b[39m (\u001b[39m\u001b[39;1m2.16.2\u001b[39;22m\u001b[39m)\u001b[39m: \u001b[34mInstalling...\u001b[39m\n",
      "  \u001b[34;1m•\u001b[39;22m \u001b[39mInstalling \u001b[39m\u001b[36mpygments\u001b[39m\u001b[39m (\u001b[39m\u001b[39;1m2.17.2\u001b[39;22m\u001b[39m)\u001b[39m: \u001b[34mInstalling...\u001b[39m\n",
      "  \u001b[32;1m•\u001b[39;22m \u001b[39mInstalling \u001b[39m\u001b[36mrequests-toolbelt\u001b[39m\u001b[39m (\u001b[39m\u001b[32m1.0.0\u001b[39m\u001b[39m)\u001b[39m\n",
      "  \u001b[32;1m•\u001b[39;22m \u001b[39mInstalling \u001b[39m\u001b[36mzipp\u001b[39m\u001b[39m (\u001b[39m\u001b[32m3.17.0\u001b[39m\u001b[39m)\u001b[39m\n",
      "\u001b[5A\u001b[0J  \u001b[32;1m•\u001b[39;22m \u001b[39mInstalling \u001b[39m\u001b[36mmarkdown-it-py\u001b[39m\u001b[39m (\u001b[39m\u001b[32m3.0.0\u001b[39m\u001b[39m)\u001b[39m\n",
      "  \u001b[32;1m•\u001b[39;22m \u001b[39mInstalling \u001b[39m\u001b[36mmarkupsafe\u001b[39m\u001b[39m (\u001b[39m\u001b[32m2.1.5\u001b[39m\u001b[39m)\u001b[39m\n",
      "  \u001b[34;1m•\u001b[39;22m \u001b[39mInstalling \u001b[39m\u001b[36mpydantic-core\u001b[39m\u001b[39m (\u001b[39m\u001b[39;1m2.16.2\u001b[39;22m\u001b[39m)\u001b[39m: \u001b[34mInstalling...\u001b[39m\n",
      "  \u001b[34;1m•\u001b[39;22m \u001b[39mInstalling \u001b[39m\u001b[36mpygments\u001b[39m\u001b[39m (\u001b[39m\u001b[39;1m2.17.2\u001b[39;22m\u001b[39m)\u001b[39m: \u001b[34mInstalling...\u001b[39m\n",
      "  \u001b[32;1m•\u001b[39;22m \u001b[39mInstalling \u001b[39m\u001b[36mrequests-toolbelt\u001b[39m\u001b[39m (\u001b[39m\u001b[32m1.0.0\u001b[39m\u001b[39m)\u001b[39m\n",
      "  \u001b[32;1m•\u001b[39;22m \u001b[39mInstalling \u001b[39m\u001b[36mzipp\u001b[39m\u001b[39m (\u001b[39m\u001b[32m3.17.0\u001b[39m\u001b[39m)\u001b[39m\n",
      "\u001b[4A\u001b[0J  \u001b[34;1m•\u001b[39;22m \u001b[39mInstalling \u001b[39m\u001b[36mpygments\u001b[39m\u001b[39m (\u001b[39m\u001b[39;1m2.17.2\u001b[39;22m\u001b[39m)\u001b[39m: \u001b[34mInstalling...\u001b[39m\n",
      "  \u001b[32;1m•\u001b[39;22m \u001b[39mInstalling \u001b[39m\u001b[36mrequests-toolbelt\u001b[39m\u001b[39m (\u001b[39m\u001b[32m1.0.0\u001b[39m\u001b[39m)\u001b[39m\n",
      "  \u001b[32;1m•\u001b[39;22m \u001b[39mInstalling \u001b[39m\u001b[36mzipp\u001b[39m\u001b[39m (\u001b[39m\u001b[32m3.17.0\u001b[39m\u001b[39m)\u001b[39m\n",
      "\u001b[3A\u001b[0J  \u001b[32;1m•\u001b[39;22m \u001b[39mInstalling \u001b[39m\u001b[36mpydantic-core\u001b[39m\u001b[39m (\u001b[39m\u001b[32m2.16.2\u001b[39m\u001b[39m)\u001b[39m\n",
      "  \u001b[34;1m•\u001b[39;22m \u001b[39mInstalling \u001b[39m\u001b[36mpygments\u001b[39m\u001b[39m (\u001b[39m\u001b[39;1m2.17.2\u001b[39;22m\u001b[39m)\u001b[39m: \u001b[34mInstalling...\u001b[39m\n",
      "  \u001b[32;1m•\u001b[39;22m \u001b[39mInstalling \u001b[39m\u001b[36mrequests-toolbelt\u001b[39m\u001b[39m (\u001b[39m\u001b[32m1.0.0\u001b[39m\u001b[39m)\u001b[39m\n",
      "  \u001b[32;1m•\u001b[39;22m \u001b[39mInstalling \u001b[39m\u001b[36mzipp\u001b[39m\u001b[39m (\u001b[39m\u001b[32m3.17.0\u001b[39m\u001b[39m)\u001b[39m\n",
      "\u001b[3A\u001b[0J  \u001b[32;1m•\u001b[39;22m \u001b[39mInstalling \u001b[39m\u001b[36mrequests-toolbelt\u001b[39m\u001b[39m (\u001b[39m\u001b[32m1.0.0\u001b[39m\u001b[39m)\u001b[39m\n",
      "  \u001b[32;1m•\u001b[39;22m \u001b[39mInstalling \u001b[39m\u001b[36mzipp\u001b[39m\u001b[39m (\u001b[39m\u001b[32m3.17.0\u001b[39m\u001b[39m)\u001b[39m\n",
      "\u001b[2A\u001b[0J  \u001b[32;1m•\u001b[39;22m \u001b[39mInstalling \u001b[39m\u001b[36mpygments\u001b[39m\u001b[39m (\u001b[39m\u001b[32m2.17.2\u001b[39m\u001b[39m)\u001b[39m\n",
      "  \u001b[32;1m•\u001b[39;22m \u001b[39mInstalling \u001b[39m\u001b[36mrequests-toolbelt\u001b[39m\u001b[39m (\u001b[39m\u001b[32m1.0.0\u001b[39m\u001b[39m)\u001b[39m\n",
      "  \u001b[32;1m•\u001b[39;22m \u001b[39mInstalling \u001b[39m\u001b[36mzipp\u001b[39m\u001b[39m (\u001b[39m\u001b[32m3.17.0\u001b[39m\u001b[39m)\u001b[39m\n",
      "  \u001b[34;1m•\u001b[39;22m \u001b[39mInstalling \u001b[39m\u001b[36mclick\u001b[39m\u001b[39m (\u001b[39m\u001b[39;1m8.1.7\u001b[39;22m\u001b[39m)\u001b[39m: \u001b[34mPending...\u001b[39m\n",
      "  \u001b[34;1m•\u001b[39;22m \u001b[39mInstalling \u001b[39m\u001b[36mdotty-dict\u001b[39m\u001b[39m (\u001b[39m\u001b[39;1m1.3.1\u001b[39;22m\u001b[39m)\u001b[39m: \u001b[34mPending...\u001b[39m\n",
      "  \u001b[34;1m•\u001b[39;22m \u001b[39mInstalling \u001b[39m\u001b[36mgitpython\u001b[39m\u001b[39m (\u001b[39m\u001b[39;1m3.1.41\u001b[39;22m\u001b[39m)\u001b[39m: \u001b[34mPending...\u001b[39m\n",
      "  \u001b[34;1m•\u001b[39;22m \u001b[39mInstalling \u001b[39m\u001b[36mimportlib-resources\u001b[39m\u001b[39m (\u001b[39m\u001b[39;1m6.1.1\u001b[39;22m\u001b[39m)\u001b[39m: \u001b[34mPending...\u001b[39m\n",
      "  \u001b[34;1m•\u001b[39;22m \u001b[39mInstalling \u001b[39m\u001b[36mjinja2\u001b[39m\u001b[39m (\u001b[39m\u001b[39;1m3.1.3\u001b[39;22m\u001b[39m)\u001b[39m: \u001b[34mPending...\u001b[39m\n",
      "  \u001b[34;1m•\u001b[39;22m \u001b[39mInstalling \u001b[39m\u001b[36mpydantic\u001b[39m\u001b[39m (\u001b[39m\u001b[39;1m2.6.1\u001b[39;22m\u001b[39m)\u001b[39m: \u001b[34mPending...\u001b[39m\n",
      "  \u001b[34;1m•\u001b[39;22m \u001b[39mInstalling \u001b[39m\u001b[36mpython-gitlab\u001b[39m\u001b[39m (\u001b[39m\u001b[39;1m4.4.0\u001b[39;22m\u001b[39m)\u001b[39m: \u001b[34mPending...\u001b[39m\n",
      "  \u001b[34;1m•\u001b[39;22m \u001b[39mInstalling \u001b[39m\u001b[36mrich\u001b[39m\u001b[39m (\u001b[39m\u001b[39;1m13.7.0\u001b[39;22m\u001b[39m)\u001b[39m: \u001b[34mPending...\u001b[39m\n",
      "  \u001b[34;1m•\u001b[39;22m \u001b[39mInstalling \u001b[39m\u001b[36mshellingham\u001b[39m\u001b[39m (\u001b[39m\u001b[39;1m1.5.4\u001b[39;22m\u001b[39m)\u001b[39m: \u001b[34mPending...\u001b[39m\n",
      "  \u001b[34;1m•\u001b[39;22m \u001b[39mInstalling \u001b[39m\u001b[36mtomlkit\u001b[39m\u001b[39m (\u001b[39m\u001b[39;1m0.12.3\u001b[39;22m\u001b[39m)\u001b[39m: \u001b[34mPending...\u001b[39m\n",
      "\u001b[9A\u001b[0J  \u001b[34;1m•\u001b[39;22m \u001b[39mInstalling \u001b[39m\u001b[36mgitpython\u001b[39m\u001b[39m (\u001b[39m\u001b[39;1m3.1.41\u001b[39;22m\u001b[39m)\u001b[39m: \u001b[34mPending...\u001b[39m\n",
      "  \u001b[34;1m•\u001b[39;22m \u001b[39mInstalling \u001b[39m\u001b[36mimportlib-resources\u001b[39m\u001b[39m (\u001b[39m\u001b[39;1m6.1.1\u001b[39;22m\u001b[39m)\u001b[39m: \u001b[34mPending...\u001b[39m\n",
      "  \u001b[34;1m•\u001b[39;22m \u001b[39mInstalling \u001b[39m\u001b[36mjinja2\u001b[39m\u001b[39m (\u001b[39m\u001b[39;1m3.1.3\u001b[39;22m\u001b[39m)\u001b[39m: \u001b[34mPending...\u001b[39m\n",
      "  \u001b[34;1m•\u001b[39;22m \u001b[39mInstalling \u001b[39m\u001b[36mpydantic\u001b[39m\u001b[39m (\u001b[39m\u001b[39;1m2.6.1\u001b[39;22m\u001b[39m)\u001b[39m: \u001b[34mPending...\u001b[39m\n",
      "  \u001b[34;1m•\u001b[39;22m \u001b[39mInstalling \u001b[39m\u001b[36mpython-gitlab\u001b[39m\u001b[39m (\u001b[39m\u001b[39;1m4.4.0\u001b[39;22m\u001b[39m)\u001b[39m: \u001b[34mPending...\u001b[39m\n",
      "  \u001b[34;1m•\u001b[39;22m \u001b[39mInstalling \u001b[39m\u001b[36mrich\u001b[39m\u001b[39m (\u001b[39m\u001b[39;1m13.7.0\u001b[39;22m\u001b[39m)\u001b[39m: \u001b[34mPending...\u001b[39m\n",
      "  \u001b[34;1m•\u001b[39;22m \u001b[39mInstalling \u001b[39m\u001b[36mshellingham\u001b[39m\u001b[39m (\u001b[39m\u001b[39;1m1.5.4\u001b[39;22m\u001b[39m)\u001b[39m: \u001b[34mPending...\u001b[39m\n",
      "  \u001b[34;1m•\u001b[39;22m \u001b[39mInstalling \u001b[39m\u001b[36mtomlkit\u001b[39m\u001b[39m (\u001b[39m\u001b[39;1m0.12.3\u001b[39;22m\u001b[39m)\u001b[39m: \u001b[34mPending...\u001b[39m\n",
      "\u001b[8A\u001b[0J  \u001b[34;1m•\u001b[39;22m \u001b[39mInstalling \u001b[39m\u001b[36mdotty-dict\u001b[39m\u001b[39m (\u001b[39m\u001b[39;1m1.3.1\u001b[39;22m\u001b[39m)\u001b[39m: \u001b[34mInstalling...\u001b[39m\n",
      "  \u001b[34;1m•\u001b[39;22m \u001b[39mInstalling \u001b[39m\u001b[36mgitpython\u001b[39m\u001b[39m (\u001b[39m\u001b[39;1m3.1.41\u001b[39;22m\u001b[39m)\u001b[39m: \u001b[34mPending...\u001b[39m\n",
      "  \u001b[34;1m•\u001b[39;22m \u001b[39mInstalling \u001b[39m\u001b[36mimportlib-resources\u001b[39m\u001b[39m (\u001b[39m\u001b[39;1m6.1.1\u001b[39;22m\u001b[39m)\u001b[39m: \u001b[34mPending...\u001b[39m\n",
      "  \u001b[34;1m•\u001b[39;22m \u001b[39mInstalling \u001b[39m\u001b[36mjinja2\u001b[39m\u001b[39m (\u001b[39m\u001b[39;1m3.1.3\u001b[39;22m\u001b[39m)\u001b[39m: \u001b[34mPending...\u001b[39m\n",
      "  \u001b[34;1m•\u001b[39;22m \u001b[39mInstalling \u001b[39m\u001b[36mpydantic\u001b[39m\u001b[39m (\u001b[39m\u001b[39;1m2.6.1\u001b[39;22m\u001b[39m)\u001b[39m: \u001b[34mPending...\u001b[39m\n",
      "  \u001b[34;1m•\u001b[39;22m \u001b[39mInstalling \u001b[39m\u001b[36mpython-gitlab\u001b[39m\u001b[39m (\u001b[39m\u001b[39;1m4.4.0\u001b[39;22m\u001b[39m)\u001b[39m: \u001b[34mPending...\u001b[39m\n",
      "  \u001b[34;1m•\u001b[39;22m \u001b[39mInstalling \u001b[39m\u001b[36mrich\u001b[39m\u001b[39m (\u001b[39m\u001b[39;1m13.7.0\u001b[39;22m\u001b[39m)\u001b[39m: \u001b[34mPending...\u001b[39m\n",
      "  \u001b[34;1m•\u001b[39;22m \u001b[39mInstalling \u001b[39m\u001b[36mshellingham\u001b[39m\u001b[39m (\u001b[39m\u001b[39;1m1.5.4\u001b[39;22m\u001b[39m)\u001b[39m: \u001b[34mPending...\u001b[39m\n",
      "  \u001b[34;1m•\u001b[39;22m \u001b[39mInstalling \u001b[39m\u001b[36mtomlkit\u001b[39m\u001b[39m (\u001b[39m\u001b[39;1m0.12.3\u001b[39;22m\u001b[39m)\u001b[39m: \u001b[34mPending...\u001b[39m\n",
      "\u001b[7A\u001b[0J  \u001b[34;1m•\u001b[39;22m \u001b[39mInstalling \u001b[39m\u001b[36mjinja2\u001b[39m\u001b[39m (\u001b[39m\u001b[39;1m3.1.3\u001b[39;22m\u001b[39m)\u001b[39m: \u001b[34mPending...\u001b[39m\n",
      "  \u001b[34;1m•\u001b[39;22m \u001b[39mInstalling \u001b[39m\u001b[36mpydantic\u001b[39m\u001b[39m (\u001b[39m\u001b[39;1m2.6.1\u001b[39;22m\u001b[39m)\u001b[39m: \u001b[34mPending...\u001b[39m\n",
      "  \u001b[34;1m•\u001b[39;22m \u001b[39mInstalling \u001b[39m\u001b[36mpython-gitlab\u001b[39m\u001b[39m (\u001b[39m\u001b[39;1m4.4.0\u001b[39;22m\u001b[39m)\u001b[39m: \u001b[34mPending...\u001b[39m\n",
      "  \u001b[34;1m•\u001b[39;22m \u001b[39mInstalling \u001b[39m\u001b[36mrich\u001b[39m\u001b[39m (\u001b[39m\u001b[39;1m13.7.0\u001b[39;22m\u001b[39m)\u001b[39m: \u001b[34mPending...\u001b[39m\n",
      "  \u001b[34;1m•\u001b[39;22m \u001b[39mInstalling \u001b[39m\u001b[36mshellingham\u001b[39m\u001b[39m (\u001b[39m\u001b[39;1m1.5.4\u001b[39;22m\u001b[39m)\u001b[39m: \u001b[34mPending...\u001b[39m\n",
      "  \u001b[34;1m•\u001b[39;22m \u001b[39mInstalling \u001b[39m\u001b[36mtomlkit\u001b[39m\u001b[39m (\u001b[39m\u001b[39;1m0.12.3\u001b[39;22m\u001b[39m)\u001b[39m: \u001b[34mPending...\u001b[39m\n",
      "\u001b[6A\u001b[0J  \u001b[34;1m•\u001b[39;22m \u001b[39mInstalling \u001b[39m\u001b[36mimportlib-resources\u001b[39m\u001b[39m (\u001b[39m\u001b[39;1m6.1.1\u001b[39;22m\u001b[39m)\u001b[39m: \u001b[34mInstalling...\u001b[39m\n",
      "  \u001b[34;1m•\u001b[39;22m \u001b[39mInstalling \u001b[39m\u001b[36mjinja2\u001b[39m\u001b[39m (\u001b[39m\u001b[39;1m3.1.3\u001b[39;22m\u001b[39m)\u001b[39m: \u001b[34mPending...\u001b[39m\n",
      "  \u001b[34;1m•\u001b[39;22m \u001b[39mInstalling \u001b[39m\u001b[36mpydantic\u001b[39m\u001b[39m (\u001b[39m\u001b[39;1m2.6.1\u001b[39;22m\u001b[39m)\u001b[39m: \u001b[34mPending...\u001b[39m\n",
      "  \u001b[34;1m•\u001b[39;22m \u001b[39mInstalling \u001b[39m\u001b[36mpython-gitlab\u001b[39m\u001b[39m (\u001b[39m\u001b[39;1m4.4.0\u001b[39;22m\u001b[39m)\u001b[39m: \u001b[34mPending...\u001b[39m\n",
      "  \u001b[34;1m•\u001b[39;22m \u001b[39mInstalling \u001b[39m\u001b[36mrich\u001b[39m\u001b[39m (\u001b[39m\u001b[39;1m13.7.0\u001b[39;22m\u001b[39m)\u001b[39m: \u001b[34mPending...\u001b[39m\n",
      "  \u001b[34;1m•\u001b[39;22m \u001b[39mInstalling \u001b[39m\u001b[36mshellingham\u001b[39m\u001b[39m (\u001b[39m\u001b[39;1m1.5.4\u001b[39;22m\u001b[39m)\u001b[39m: \u001b[34mPending...\u001b[39m\n",
      "  \u001b[34;1m•\u001b[39;22m \u001b[39mInstalling \u001b[39m\u001b[36mtomlkit\u001b[39m\u001b[39m (\u001b[39m\u001b[39;1m0.12.3\u001b[39;22m\u001b[39m)\u001b[39m: \u001b[34mPending...\u001b[39m\n",
      "\u001b[2A\u001b[0J  \u001b[34;1m•\u001b[39;22m \u001b[39mInstalling \u001b[39m\u001b[36mtomlkit\u001b[39m\u001b[39m (\u001b[39m\u001b[39;1m0.12.3\u001b[39;22m\u001b[39m)\u001b[39m: \u001b[34mPending...\u001b[39m\n",
      "\u001b[1A\u001b[0J  \u001b[34;1m•\u001b[39;22m \u001b[39mInstalling \u001b[39m\u001b[36mshellingham\u001b[39m\u001b[39m (\u001b[39m\u001b[39;1m1.5.4\u001b[39;22m\u001b[39m)\u001b[39m: \u001b[34mInstalling...\u001b[39m\n",
      "  \u001b[34;1m•\u001b[39;22m \u001b[39mInstalling \u001b[39m\u001b[36mtomlkit\u001b[39m\u001b[39m (\u001b[39m\u001b[39;1m0.12.3\u001b[39;22m\u001b[39m)\u001b[39m: \u001b[34mPending...\u001b[39m\n",
      "\u001b[10A\u001b[0J  \u001b[34;1m•\u001b[39;22m \u001b[39mInstalling \u001b[39m\u001b[36mdotty-dict\u001b[39m\u001b[39m (\u001b[39m\u001b[39;1m1.3.1\u001b[39;22m\u001b[39m)\u001b[39m: \u001b[34mInstalling...\u001b[39m\n",
      "  \u001b[34;1m•\u001b[39;22m \u001b[39mInstalling \u001b[39m\u001b[36mgitpython\u001b[39m\u001b[39m (\u001b[39m\u001b[39;1m3.1.41\u001b[39;22m\u001b[39m)\u001b[39m: \u001b[34mPending...\u001b[39m\n",
      "  \u001b[34;1m•\u001b[39;22m \u001b[39mInstalling \u001b[39m\u001b[36mimportlib-resources\u001b[39m\u001b[39m (\u001b[39m\u001b[39;1m6.1.1\u001b[39;22m\u001b[39m)\u001b[39m: \u001b[34mInstalling...\u001b[39m\n",
      "  \u001b[34;1m•\u001b[39;22m \u001b[39mInstalling \u001b[39m\u001b[36mjinja2\u001b[39m\u001b[39m (\u001b[39m\u001b[39;1m3.1.3\u001b[39;22m\u001b[39m)\u001b[39m: \u001b[34mPending...\u001b[39m\n",
      "  \u001b[34;1m•\u001b[39;22m \u001b[39mInstalling \u001b[39m\u001b[36mpydantic\u001b[39m\u001b[39m (\u001b[39m\u001b[39;1m2.6.1\u001b[39;22m\u001b[39m)\u001b[39m: \u001b[34mPending...\u001b[39m\n",
      "  \u001b[34;1m•\u001b[39;22m \u001b[39mInstalling \u001b[39m\u001b[36mpython-gitlab\u001b[39m\u001b[39m (\u001b[39m\u001b[39;1m4.4.0\u001b[39;22m\u001b[39m)\u001b[39m: \u001b[34mPending...\u001b[39m\n",
      "  \u001b[34;1m•\u001b[39;22m \u001b[39mInstalling \u001b[39m\u001b[36mrich\u001b[39m\u001b[39m (\u001b[39m\u001b[39;1m13.7.0\u001b[39;22m\u001b[39m)\u001b[39m: \u001b[34mPending...\u001b[39m\n",
      "  \u001b[34;1m•\u001b[39;22m \u001b[39mInstalling \u001b[39m\u001b[36mshellingham\u001b[39m\u001b[39m (\u001b[39m\u001b[39;1m1.5.4\u001b[39;22m\u001b[39m)\u001b[39m: \u001b[34mInstalling...\u001b[39m\n",
      "  \u001b[34;1m•\u001b[39;22m \u001b[39mInstalling \u001b[39m\u001b[36mtomlkit\u001b[39m\u001b[39m (\u001b[39m\u001b[39;1m0.12.3\u001b[39;22m\u001b[39m)\u001b[39m: \u001b[34mPending...\u001b[39m\n",
      "\u001b[9A\u001b[0J  \u001b[34;1m•\u001b[39;22m \u001b[39mInstalling \u001b[39m\u001b[36mclick\u001b[39m\u001b[39m (\u001b[39m\u001b[39;1m8.1.7\u001b[39;22m\u001b[39m)\u001b[39m: \u001b[34mInstalling...\u001b[39m\n",
      "  \u001b[34;1m•\u001b[39;22m \u001b[39mInstalling \u001b[39m\u001b[36mdotty-dict\u001b[39m\u001b[39m (\u001b[39m\u001b[39;1m1.3.1\u001b[39;22m\u001b[39m)\u001b[39m: \u001b[34mInstalling...\u001b[39m\n",
      "  \u001b[34;1m•\u001b[39;22m \u001b[39mInstalling \u001b[39m\u001b[36mgitpython\u001b[39m\u001b[39m (\u001b[39m\u001b[39;1m3.1.41\u001b[39;22m\u001b[39m)\u001b[39m: \u001b[34mPending...\u001b[39m\n",
      "  \u001b[34;1m•\u001b[39;22m \u001b[39mInstalling \u001b[39m\u001b[36mimportlib-resources\u001b[39m\u001b[39m (\u001b[39m\u001b[39;1m6.1.1\u001b[39;22m\u001b[39m)\u001b[39m: \u001b[34mInstalling...\u001b[39m\n",
      "  \u001b[34;1m•\u001b[39;22m \u001b[39mInstalling \u001b[39m\u001b[36mjinja2\u001b[39m\u001b[39m (\u001b[39m\u001b[39;1m3.1.3\u001b[39;22m\u001b[39m)\u001b[39m: \u001b[34mPending...\u001b[39m\n",
      "  \u001b[34;1m•\u001b[39;22m \u001b[39mInstalling \u001b[39m\u001b[36mpydantic\u001b[39m\u001b[39m (\u001b[39m\u001b[39;1m2.6.1\u001b[39;22m\u001b[39m)\u001b[39m: \u001b[34mPending...\u001b[39m\n",
      "  \u001b[34;1m•\u001b[39;22m \u001b[39mInstalling \u001b[39m\u001b[36mpython-gitlab\u001b[39m\u001b[39m (\u001b[39m\u001b[39;1m4.4.0\u001b[39;22m\u001b[39m)\u001b[39m: \u001b[34mPending...\u001b[39m\n",
      "  \u001b[34;1m•\u001b[39;22m \u001b[39mInstalling \u001b[39m\u001b[36mrich\u001b[39m\u001b[39m (\u001b[39m\u001b[39;1m13.7.0\u001b[39;22m\u001b[39m)\u001b[39m: \u001b[34mPending...\u001b[39m\n",
      "  \u001b[34;1m•\u001b[39;22m \u001b[39mInstalling \u001b[39m\u001b[36mshellingham\u001b[39m\u001b[39m (\u001b[39m\u001b[39;1m1.5.4\u001b[39;22m\u001b[39m)\u001b[39m: \u001b[34mInstalling...\u001b[39m\n",
      "  \u001b[34;1m•\u001b[39;22m \u001b[39mInstalling \u001b[39m\u001b[36mtomlkit\u001b[39m\u001b[39m (\u001b[39m\u001b[39;1m0.12.3\u001b[39;22m\u001b[39m)\u001b[39m: \u001b[34mPending...\u001b[39m\n",
      "\u001b[8A\u001b[0J  \u001b[34;1m•\u001b[39;22m \u001b[39mInstalling \u001b[39m\u001b[36mimportlib-resources\u001b[39m\u001b[39m (\u001b[39m\u001b[39;1m6.1.1\u001b[39;22m\u001b[39m)\u001b[39m: \u001b[34mInstalling...\u001b[39m\n",
      "  \u001b[34;1m•\u001b[39;22m \u001b[39mInstalling \u001b[39m\u001b[36mjinja2\u001b[39m\u001b[39m (\u001b[39m\u001b[39;1m3.1.3\u001b[39;22m\u001b[39m)\u001b[39m: \u001b[34mPending...\u001b[39m\n",
      "  \u001b[34;1m•\u001b[39;22m \u001b[39mInstalling \u001b[39m\u001b[36mpydantic\u001b[39m\u001b[39m (\u001b[39m\u001b[39;1m2.6.1\u001b[39;22m\u001b[39m)\u001b[39m: \u001b[34mPending...\u001b[39m\n",
      "  \u001b[34;1m•\u001b[39;22m \u001b[39mInstalling \u001b[39m\u001b[36mpython-gitlab\u001b[39m\u001b[39m (\u001b[39m\u001b[39;1m4.4.0\u001b[39;22m\u001b[39m)\u001b[39m: \u001b[34mPending...\u001b[39m\n",
      "  \u001b[34;1m•\u001b[39;22m \u001b[39mInstalling \u001b[39m\u001b[36mrich\u001b[39m\u001b[39m (\u001b[39m\u001b[39;1m13.7.0\u001b[39;22m\u001b[39m)\u001b[39m: \u001b[34mPending...\u001b[39m\n",
      "  \u001b[34;1m•\u001b[39;22m \u001b[39mInstalling \u001b[39m\u001b[36mshellingham\u001b[39m\u001b[39m (\u001b[39m\u001b[39;1m1.5.4\u001b[39;22m\u001b[39m)\u001b[39m: \u001b[34mInstalling...\u001b[39m\n",
      "  \u001b[34;1m•\u001b[39;22m \u001b[39mInstalling \u001b[39m\u001b[36mtomlkit\u001b[39m\u001b[39m (\u001b[39m\u001b[39;1m0.12.3\u001b[39;22m\u001b[39m)\u001b[39m: \u001b[34mPending...\u001b[39m\n",
      "\u001b[7A\u001b[0J  \u001b[34;1m•\u001b[39;22m \u001b[39mInstalling \u001b[39m\u001b[36mgitpython\u001b[39m\u001b[39m (\u001b[39m\u001b[39;1m3.1.41\u001b[39;22m\u001b[39m)\u001b[39m: \u001b[34mInstalling...\u001b[39m\n",
      "  \u001b[34;1m•\u001b[39;22m \u001b[39mInstalling \u001b[39m\u001b[36mimportlib-resources\u001b[39m\u001b[39m (\u001b[39m\u001b[39;1m6.1.1\u001b[39;22m\u001b[39m)\u001b[39m: \u001b[34mInstalling...\u001b[39m\n",
      "  \u001b[34;1m•\u001b[39;22m \u001b[39mInstalling \u001b[39m\u001b[36mjinja2\u001b[39m\u001b[39m (\u001b[39m\u001b[39;1m3.1.3\u001b[39;22m\u001b[39m)\u001b[39m: \u001b[34mPending...\u001b[39m\n",
      "  \u001b[34;1m•\u001b[39;22m \u001b[39mInstalling \u001b[39m\u001b[36mpydantic\u001b[39m\u001b[39m (\u001b[39m\u001b[39;1m2.6.1\u001b[39;22m\u001b[39m)\u001b[39m: \u001b[34mPending...\u001b[39m\n",
      "  \u001b[34;1m•\u001b[39;22m \u001b[39mInstalling \u001b[39m\u001b[36mpython-gitlab\u001b[39m\u001b[39m (\u001b[39m\u001b[39;1m4.4.0\u001b[39;22m\u001b[39m)\u001b[39m: \u001b[34mPending...\u001b[39m\n",
      "  \u001b[34;1m•\u001b[39;22m \u001b[39mInstalling \u001b[39m\u001b[36mrich\u001b[39m\u001b[39m (\u001b[39m\u001b[39;1m13.7.0\u001b[39;22m\u001b[39m)\u001b[39m: \u001b[34mPending...\u001b[39m\n",
      "  \u001b[34;1m•\u001b[39;22m \u001b[39mInstalling \u001b[39m\u001b[36mshellingham\u001b[39m\u001b[39m (\u001b[39m\u001b[39;1m1.5.4\u001b[39;22m\u001b[39m)\u001b[39m: \u001b[34mInstalling...\u001b[39m\n",
      "  \u001b[34;1m•\u001b[39;22m \u001b[39mInstalling \u001b[39m\u001b[36mtomlkit\u001b[39m\u001b[39m (\u001b[39m\u001b[39;1m0.12.3\u001b[39;22m\u001b[39m)\u001b[39m: \u001b[34mPending...\u001b[39m\n",
      "\u001b[1A\u001b[0J  \u001b[34;1m•\u001b[39;22m \u001b[39mInstalling \u001b[39m\u001b[36mtomlkit\u001b[39m\u001b[39m (\u001b[39m\u001b[39;1m0.12.3\u001b[39;22m\u001b[39m)\u001b[39m: \u001b[34mInstalling...\u001b[39m\n",
      "\u001b[4A\u001b[0J  \u001b[34;1m•\u001b[39;22m \u001b[39mInstalling \u001b[39m\u001b[36mrich\u001b[39m\u001b[39m (\u001b[39m\u001b[39;1m13.7.0\u001b[39;22m\u001b[39m)\u001b[39m: \u001b[34mPending...\u001b[39m\n",
      "  \u001b[34;1m•\u001b[39;22m \u001b[39mInstalling \u001b[39m\u001b[36mshellingham\u001b[39m\u001b[39m (\u001b[39m\u001b[39;1m1.5.4\u001b[39;22m\u001b[39m)\u001b[39m: \u001b[34mInstalling...\u001b[39m\n",
      "  \u001b[34;1m•\u001b[39;22m \u001b[39mInstalling \u001b[39m\u001b[36mtomlkit\u001b[39m\u001b[39m (\u001b[39m\u001b[39;1m0.12.3\u001b[39;22m\u001b[39m)\u001b[39m: \u001b[34mInstalling...\u001b[39m\n",
      "\u001b[3A\u001b[0J  \u001b[34;1m•\u001b[39;22m \u001b[39mInstalling \u001b[39m\u001b[36mpython-gitlab\u001b[39m\u001b[39m (\u001b[39m\u001b[39;1m4.4.0\u001b[39;22m\u001b[39m)\u001b[39m: \u001b[34mInstalling...\u001b[39m\n",
      "  \u001b[34;1m•\u001b[39;22m \u001b[39mInstalling \u001b[39m\u001b[36mrich\u001b[39m\u001b[39m (\u001b[39m\u001b[39;1m13.7.0\u001b[39;22m\u001b[39m)\u001b[39m: \u001b[34mPending...\u001b[39m\n",
      "  \u001b[34;1m•\u001b[39;22m \u001b[39mInstalling \u001b[39m\u001b[36mshellingham\u001b[39m\u001b[39m (\u001b[39m\u001b[39;1m1.5.4\u001b[39;22m\u001b[39m)\u001b[39m: \u001b[34mInstalling...\u001b[39m\n",
      "  \u001b[34;1m•\u001b[39;22m \u001b[39mInstalling \u001b[39m\u001b[36mtomlkit\u001b[39m\u001b[39m (\u001b[39m\u001b[39;1m0.12.3\u001b[39;22m\u001b[39m)\u001b[39m: \u001b[34mInstalling...\u001b[39m\n",
      "\u001b[6A\u001b[0J  \u001b[34;1m•\u001b[39;22m \u001b[39mInstalling \u001b[39m\u001b[36mpydantic\u001b[39m\u001b[39m (\u001b[39m\u001b[39;1m2.6.1\u001b[39;22m\u001b[39m)\u001b[39m: \u001b[34mPending...\u001b[39m\n",
      "  \u001b[34;1m•\u001b[39;22m \u001b[39mInstalling \u001b[39m\u001b[36mpython-gitlab\u001b[39m\u001b[39m (\u001b[39m\u001b[39;1m4.4.0\u001b[39;22m\u001b[39m)\u001b[39m: \u001b[34mInstalling...\u001b[39m\n",
      "  \u001b[34;1m•\u001b[39;22m \u001b[39mInstalling \u001b[39m\u001b[36mrich\u001b[39m\u001b[39m (\u001b[39m\u001b[39;1m13.7.0\u001b[39;22m\u001b[39m)\u001b[39m: \u001b[34mPending...\u001b[39m\n",
      "  \u001b[34;1m•\u001b[39;22m \u001b[39mInstalling \u001b[39m\u001b[36mshellingham\u001b[39m\u001b[39m (\u001b[39m\u001b[39;1m1.5.4\u001b[39;22m\u001b[39m)\u001b[39m: \u001b[34mInstalling...\u001b[39m\n",
      "  \u001b[34;1m•\u001b[39;22m \u001b[39mInstalling \u001b[39m\u001b[36mtomlkit\u001b[39m\u001b[39m (\u001b[39m\u001b[39;1m0.12.3\u001b[39;22m\u001b[39m)\u001b[39m: \u001b[34mInstalling...\u001b[39m\n",
      "\u001b[5A\u001b[0J  \u001b[34;1m•\u001b[39;22m \u001b[39mInstalling \u001b[39m\u001b[36mjinja2\u001b[39m\u001b[39m (\u001b[39m\u001b[39;1m3.1.3\u001b[39;22m\u001b[39m)\u001b[39m: \u001b[34mInstalling...\u001b[39m\n",
      "  \u001b[34;1m•\u001b[39;22m \u001b[39mInstalling \u001b[39m\u001b[36mpydantic\u001b[39m\u001b[39m (\u001b[39m\u001b[39;1m2.6.1\u001b[39;22m\u001b[39m)\u001b[39m: \u001b[34mPending...\u001b[39m\n",
      "  \u001b[34;1m•\u001b[39;22m \u001b[39mInstalling \u001b[39m\u001b[36mpython-gitlab\u001b[39m\u001b[39m (\u001b[39m\u001b[39;1m4.4.0\u001b[39;22m\u001b[39m)\u001b[39m: \u001b[34mInstalling...\u001b[39m\n",
      "  \u001b[34;1m•\u001b[39;22m \u001b[39mInstalling \u001b[39m\u001b[36mrich\u001b[39m\u001b[39m (\u001b[39m\u001b[39;1m13.7.0\u001b[39;22m\u001b[39m)\u001b[39m: \u001b[34mPending...\u001b[39m\n",
      "  \u001b[34;1m•\u001b[39;22m \u001b[39mInstalling \u001b[39m\u001b[36mshellingham\u001b[39m\u001b[39m (\u001b[39m\u001b[39;1m1.5.4\u001b[39;22m\u001b[39m)\u001b[39m: \u001b[34mInstalling...\u001b[39m\n",
      "  \u001b[34;1m•\u001b[39;22m \u001b[39mInstalling \u001b[39m\u001b[36mtomlkit\u001b[39m\u001b[39m (\u001b[39m\u001b[39;1m0.12.3\u001b[39;22m\u001b[39m)\u001b[39m: \u001b[34mInstalling...\u001b[39m\n",
      "\u001b[3A\u001b[0J  \u001b[34;1m•\u001b[39;22m \u001b[39mInstalling \u001b[39m\u001b[36mshellingham\u001b[39m\u001b[39m (\u001b[39m\u001b[39;1m1.5.4\u001b[39;22m\u001b[39m)\u001b[39m: \u001b[34mInstalling...\u001b[39m\n",
      "  \u001b[34;1m•\u001b[39;22m \u001b[39mInstalling \u001b[39m\u001b[36mtomlkit\u001b[39m\u001b[39m (\u001b[39m\u001b[39;1m0.12.3\u001b[39;22m\u001b[39m)\u001b[39m: \u001b[34mInstalling...\u001b[39m\n",
      "\u001b[2A\u001b[0J  \u001b[34;1m•\u001b[39;22m \u001b[39mInstalling \u001b[39m\u001b[36mrich\u001b[39m\u001b[39m (\u001b[39m\u001b[39;1m13.7.0\u001b[39;22m\u001b[39m)\u001b[39m: \u001b[34mInstalling...\u001b[39m\n",
      "  \u001b[34;1m•\u001b[39;22m \u001b[39mInstalling \u001b[39m\u001b[36mshellingham\u001b[39m\u001b[39m (\u001b[39m\u001b[39;1m1.5.4\u001b[39;22m\u001b[39m)\u001b[39m: \u001b[34mInstalling...\u001b[39m\n",
      "  \u001b[34;1m•\u001b[39;22m \u001b[39mInstalling \u001b[39m\u001b[36mtomlkit\u001b[39m\u001b[39m (\u001b[39m\u001b[39;1m0.12.3\u001b[39;22m\u001b[39m)\u001b[39m: \u001b[34mInstalling...\u001b[39m\n",
      "\u001b[5A\u001b[0J  \u001b[34;1m•\u001b[39;22m \u001b[39mInstalling \u001b[39m\u001b[36mpython-gitlab\u001b[39m\u001b[39m (\u001b[39m\u001b[39;1m4.4.0\u001b[39;22m\u001b[39m)\u001b[39m: \u001b[34mInstalling...\u001b[39m\n",
      "  \u001b[34;1m•\u001b[39;22m \u001b[39mInstalling \u001b[39m\u001b[36mrich\u001b[39m\u001b[39m (\u001b[39m\u001b[39;1m13.7.0\u001b[39;22m\u001b[39m)\u001b[39m: \u001b[34mInstalling...\u001b[39m\n",
      "  \u001b[34;1m•\u001b[39;22m \u001b[39mInstalling \u001b[39m\u001b[36mshellingham\u001b[39m\u001b[39m (\u001b[39m\u001b[39;1m1.5.4\u001b[39;22m\u001b[39m)\u001b[39m: \u001b[34mInstalling...\u001b[39m\n",
      "  \u001b[34;1m•\u001b[39;22m \u001b[39mInstalling \u001b[39m\u001b[36mtomlkit\u001b[39m\u001b[39m (\u001b[39m\u001b[39;1m0.12.3\u001b[39;22m\u001b[39m)\u001b[39m: \u001b[34mInstalling...\u001b[39m\n",
      "\u001b[4A\u001b[0J  \u001b[34;1m•\u001b[39;22m \u001b[39mInstalling \u001b[39m\u001b[36mpydantic\u001b[39m\u001b[39m (\u001b[39m\u001b[39;1m2.6.1\u001b[39;22m\u001b[39m)\u001b[39m: \u001b[34mInstalling...\u001b[39m\n",
      "  \u001b[34;1m•\u001b[39;22m \u001b[39mInstalling \u001b[39m\u001b[36mpython-gitlab\u001b[39m\u001b[39m (\u001b[39m\u001b[39;1m4.4.0\u001b[39;22m\u001b[39m)\u001b[39m: \u001b[34mInstalling...\u001b[39m\n",
      "  \u001b[34;1m•\u001b[39;22m \u001b[39mInstalling \u001b[39m\u001b[36mrich\u001b[39m\u001b[39m (\u001b[39m\u001b[39;1m13.7.0\u001b[39;22m\u001b[39m)\u001b[39m: \u001b[34mInstalling...\u001b[39m\n",
      "  \u001b[34;1m•\u001b[39;22m \u001b[39mInstalling \u001b[39m\u001b[36mshellingham\u001b[39m\u001b[39m (\u001b[39m\u001b[39;1m1.5.4\u001b[39;22m\u001b[39m)\u001b[39m: \u001b[34mInstalling...\u001b[39m\n",
      "  \u001b[34;1m•\u001b[39;22m \u001b[39mInstalling \u001b[39m\u001b[36mtomlkit\u001b[39m\u001b[39m (\u001b[39m\u001b[39;1m0.12.3\u001b[39;22m\u001b[39m)\u001b[39m: \u001b[34mInstalling...\u001b[39m\n",
      "\u001b[9A\u001b[0J  \u001b[34;1m•\u001b[39;22m \u001b[39mInstalling \u001b[39m\u001b[36mgitpython\u001b[39m\u001b[39m (\u001b[39m\u001b[39;1m3.1.41\u001b[39;22m\u001b[39m)\u001b[39m: \u001b[34mInstalling...\u001b[39m\n",
      "  \u001b[34;1m•\u001b[39;22m \u001b[39mInstalling \u001b[39m\u001b[36mimportlib-resources\u001b[39m\u001b[39m (\u001b[39m\u001b[39;1m6.1.1\u001b[39;22m\u001b[39m)\u001b[39m: \u001b[34mInstalling...\u001b[39m\n",
      "  \u001b[34;1m•\u001b[39;22m \u001b[39mInstalling \u001b[39m\u001b[36mjinja2\u001b[39m\u001b[39m (\u001b[39m\u001b[39;1m3.1.3\u001b[39;22m\u001b[39m)\u001b[39m: \u001b[34mInstalling...\u001b[39m\n",
      "  \u001b[34;1m•\u001b[39;22m \u001b[39mInstalling \u001b[39m\u001b[36mpydantic\u001b[39m\u001b[39m (\u001b[39m\u001b[39;1m2.6.1\u001b[39;22m\u001b[39m)\u001b[39m: \u001b[34mInstalling...\u001b[39m\n",
      "  \u001b[34;1m•\u001b[39;22m \u001b[39mInstalling \u001b[39m\u001b[36mpython-gitlab\u001b[39m\u001b[39m (\u001b[39m\u001b[39;1m4.4.0\u001b[39;22m\u001b[39m)\u001b[39m: \u001b[34mInstalling...\u001b[39m\n",
      "  \u001b[34;1m•\u001b[39;22m \u001b[39mInstalling \u001b[39m\u001b[36mrich\u001b[39m\u001b[39m (\u001b[39m\u001b[39;1m13.7.0\u001b[39;22m\u001b[39m)\u001b[39m: \u001b[34mInstalling...\u001b[39m\n",
      "  \u001b[34;1m•\u001b[39;22m \u001b[39mInstalling \u001b[39m\u001b[36mshellingham\u001b[39m\u001b[39m (\u001b[39m\u001b[39;1m1.5.4\u001b[39;22m\u001b[39m)\u001b[39m: \u001b[34mInstalling...\u001b[39m\n",
      "  \u001b[34;1m•\u001b[39;22m \u001b[39mInstalling \u001b[39m\u001b[36mtomlkit\u001b[39m\u001b[39m (\u001b[39m\u001b[39;1m0.12.3\u001b[39;22m\u001b[39m)\u001b[39m: \u001b[34mInstalling...\u001b[39m\n",
      "\u001b[8A\u001b[0J  \u001b[32;1m•\u001b[39;22m \u001b[39mInstalling \u001b[39m\u001b[36mdotty-dict\u001b[39m\u001b[39m (\u001b[39m\u001b[32m1.3.1\u001b[39m\u001b[39m)\u001b[39m\n",
      "  \u001b[34;1m•\u001b[39;22m \u001b[39mInstalling \u001b[39m\u001b[36mgitpython\u001b[39m\u001b[39m (\u001b[39m\u001b[39;1m3.1.41\u001b[39;22m\u001b[39m)\u001b[39m: \u001b[34mInstalling...\u001b[39m\n",
      "  \u001b[34;1m•\u001b[39;22m \u001b[39mInstalling \u001b[39m\u001b[36mimportlib-resources\u001b[39m\u001b[39m (\u001b[39m\u001b[39;1m6.1.1\u001b[39;22m\u001b[39m)\u001b[39m: \u001b[34mInstalling...\u001b[39m\n",
      "  \u001b[34;1m•\u001b[39;22m \u001b[39mInstalling \u001b[39m\u001b[36mjinja2\u001b[39m\u001b[39m (\u001b[39m\u001b[39;1m3.1.3\u001b[39;22m\u001b[39m)\u001b[39m: \u001b[34mInstalling...\u001b[39m\n",
      "  \u001b[34;1m•\u001b[39;22m \u001b[39mInstalling \u001b[39m\u001b[36mpydantic\u001b[39m\u001b[39m (\u001b[39m\u001b[39;1m2.6.1\u001b[39;22m\u001b[39m)\u001b[39m: \u001b[34mInstalling...\u001b[39m\n",
      "  \u001b[34;1m•\u001b[39;22m \u001b[39mInstalling \u001b[39m\u001b[36mpython-gitlab\u001b[39m\u001b[39m (\u001b[39m\u001b[39;1m4.4.0\u001b[39;22m\u001b[39m)\u001b[39m: \u001b[34mInstalling...\u001b[39m\n",
      "  \u001b[34;1m•\u001b[39;22m \u001b[39mInstalling \u001b[39m\u001b[36mrich\u001b[39m\u001b[39m (\u001b[39m\u001b[39;1m13.7.0\u001b[39;22m\u001b[39m)\u001b[39m: \u001b[34mInstalling...\u001b[39m\n",
      "  \u001b[34;1m•\u001b[39;22m \u001b[39mInstalling \u001b[39m\u001b[36mshellingham\u001b[39m\u001b[39m (\u001b[39m\u001b[39;1m1.5.4\u001b[39;22m\u001b[39m)\u001b[39m: \u001b[34mInstalling...\u001b[39m\n",
      "  \u001b[34;1m•\u001b[39;22m \u001b[39mInstalling \u001b[39m\u001b[36mtomlkit\u001b[39m\u001b[39m (\u001b[39m\u001b[39;1m0.12.3\u001b[39;22m\u001b[39m)\u001b[39m: \u001b[34mInstalling...\u001b[39m\n",
      "\u001b[2A\u001b[0J  \u001b[34;1m•\u001b[39;22m \u001b[39mInstalling \u001b[39m\u001b[36mtomlkit\u001b[39m\u001b[39m (\u001b[39m\u001b[39;1m0.12.3\u001b[39;22m\u001b[39m)\u001b[39m: \u001b[34mInstalling...\u001b[39m\n",
      "\u001b[1A\u001b[0J  \u001b[32;1m•\u001b[39;22m \u001b[39mInstalling \u001b[39m\u001b[36mshellingham\u001b[39m\u001b[39m (\u001b[39m\u001b[32m1.5.4\u001b[39m\u001b[39m)\u001b[39m\n",
      "  \u001b[34;1m•\u001b[39;22m \u001b[39mInstalling \u001b[39m\u001b[36mtomlkit\u001b[39m\u001b[39m (\u001b[39m\u001b[39;1m0.12.3\u001b[39;22m\u001b[39m)\u001b[39m: \u001b[34mInstalling...\u001b[39m\n",
      "\u001b[1A\u001b[0J  \u001b[32;1m•\u001b[39;22m \u001b[39mInstalling \u001b[39m\u001b[36mtomlkit\u001b[39m\u001b[39m (\u001b[39m\u001b[32m0.12.3\u001b[39m\u001b[39m)\u001b[39m\n",
      "\u001b[10A\u001b[0J  \u001b[32;1m•\u001b[39;22m \u001b[39mInstalling \u001b[39m\u001b[36mdotty-dict\u001b[39m\u001b[39m (\u001b[39m\u001b[32m1.3.1\u001b[39m\u001b[39m)\u001b[39m\n",
      "  \u001b[34;1m•\u001b[39;22m \u001b[39mInstalling \u001b[39m\u001b[36mgitpython\u001b[39m\u001b[39m (\u001b[39m\u001b[39;1m3.1.41\u001b[39;22m\u001b[39m)\u001b[39m: \u001b[34mInstalling...\u001b[39m\n",
      "  \u001b[34;1m•\u001b[39;22m \u001b[39mInstalling \u001b[39m\u001b[36mimportlib-resources\u001b[39m\u001b[39m (\u001b[39m\u001b[39;1m6.1.1\u001b[39;22m\u001b[39m)\u001b[39m: \u001b[34mInstalling...\u001b[39m\n",
      "  \u001b[34;1m•\u001b[39;22m \u001b[39mInstalling \u001b[39m\u001b[36mjinja2\u001b[39m\u001b[39m (\u001b[39m\u001b[39;1m3.1.3\u001b[39;22m\u001b[39m)\u001b[39m: \u001b[34mInstalling...\u001b[39m\n",
      "  \u001b[34;1m•\u001b[39;22m \u001b[39mInstalling \u001b[39m\u001b[36mpydantic\u001b[39m\u001b[39m (\u001b[39m\u001b[39;1m2.6.1\u001b[39;22m\u001b[39m)\u001b[39m: \u001b[34mInstalling...\u001b[39m\n",
      "  \u001b[34;1m•\u001b[39;22m \u001b[39mInstalling \u001b[39m\u001b[36mpython-gitlab\u001b[39m\u001b[39m (\u001b[39m\u001b[39;1m4.4.0\u001b[39;22m\u001b[39m)\u001b[39m: \u001b[34mInstalling...\u001b[39m\n",
      "  \u001b[34;1m•\u001b[39;22m \u001b[39mInstalling \u001b[39m\u001b[36mrich\u001b[39m\u001b[39m (\u001b[39m\u001b[39;1m13.7.0\u001b[39;22m\u001b[39m)\u001b[39m: \u001b[34mInstalling...\u001b[39m\n",
      "  \u001b[32;1m•\u001b[39;22m \u001b[39mInstalling \u001b[39m\u001b[36mshellingham\u001b[39m\u001b[39m (\u001b[39m\u001b[32m1.5.4\u001b[39m\u001b[39m)\u001b[39m\n",
      "  \u001b[32;1m•\u001b[39;22m \u001b[39mInstalling \u001b[39m\u001b[36mtomlkit\u001b[39m\u001b[39m (\u001b[39m\u001b[32m0.12.3\u001b[39m\u001b[39m)\u001b[39m\n",
      "\u001b[9A\u001b[0J  \u001b[32;1m•\u001b[39;22m \u001b[39mInstalling \u001b[39m\u001b[36mclick\u001b[39m\u001b[39m (\u001b[39m\u001b[32m8.1.7\u001b[39m\u001b[39m)\u001b[39m\n",
      "  \u001b[32;1m•\u001b[39;22m \u001b[39mInstalling \u001b[39m\u001b[36mdotty-dict\u001b[39m\u001b[39m (\u001b[39m\u001b[32m1.3.1\u001b[39m\u001b[39m)\u001b[39m\n",
      "  \u001b[34;1m•\u001b[39;22m \u001b[39mInstalling \u001b[39m\u001b[36mgitpython\u001b[39m\u001b[39m (\u001b[39m\u001b[39;1m3.1.41\u001b[39;22m\u001b[39m)\u001b[39m: \u001b[34mInstalling...\u001b[39m\n",
      "  \u001b[34;1m•\u001b[39;22m \u001b[39mInstalling \u001b[39m\u001b[36mimportlib-resources\u001b[39m\u001b[39m (\u001b[39m\u001b[39;1m6.1.1\u001b[39;22m\u001b[39m)\u001b[39m: \u001b[34mInstalling...\u001b[39m\n",
      "  \u001b[34;1m•\u001b[39;22m \u001b[39mInstalling \u001b[39m\u001b[36mjinja2\u001b[39m\u001b[39m (\u001b[39m\u001b[39;1m3.1.3\u001b[39;22m\u001b[39m)\u001b[39m: \u001b[34mInstalling...\u001b[39m\n",
      "  \u001b[34;1m•\u001b[39;22m \u001b[39mInstalling \u001b[39m\u001b[36mpydantic\u001b[39m\u001b[39m (\u001b[39m\u001b[39;1m2.6.1\u001b[39;22m\u001b[39m)\u001b[39m: \u001b[34mInstalling...\u001b[39m\n",
      "  \u001b[34;1m•\u001b[39;22m \u001b[39mInstalling \u001b[39m\u001b[36mpython-gitlab\u001b[39m\u001b[39m (\u001b[39m\u001b[39;1m4.4.0\u001b[39;22m\u001b[39m)\u001b[39m: \u001b[34mInstalling...\u001b[39m\n",
      "  \u001b[34;1m•\u001b[39;22m \u001b[39mInstalling \u001b[39m\u001b[36mrich\u001b[39m\u001b[39m (\u001b[39m\u001b[39;1m13.7.0\u001b[39;22m\u001b[39m)\u001b[39m: \u001b[34mInstalling...\u001b[39m\n",
      "  \u001b[32;1m•\u001b[39;22m \u001b[39mInstalling \u001b[39m\u001b[36mshellingham\u001b[39m\u001b[39m (\u001b[39m\u001b[32m1.5.4\u001b[39m\u001b[39m)\u001b[39m\n",
      "  \u001b[32;1m•\u001b[39;22m \u001b[39mInstalling \u001b[39m\u001b[36mtomlkit\u001b[39m\u001b[39m (\u001b[39m\u001b[32m0.12.3\u001b[39m\u001b[39m)\u001b[39m\n",
      "\u001b[6A\u001b[0J  \u001b[34;1m•\u001b[39;22m \u001b[39mInstalling \u001b[39m\u001b[36mpydantic\u001b[39m\u001b[39m (\u001b[39m\u001b[39;1m2.6.1\u001b[39;22m\u001b[39m)\u001b[39m: \u001b[34mInstalling...\u001b[39m\n",
      "  \u001b[34;1m•\u001b[39;22m \u001b[39mInstalling \u001b[39m\u001b[36mpython-gitlab\u001b[39m\u001b[39m (\u001b[39m\u001b[39;1m4.4.0\u001b[39;22m\u001b[39m)\u001b[39m: \u001b[34mInstalling...\u001b[39m\n",
      "  \u001b[34;1m•\u001b[39;22m \u001b[39mInstalling \u001b[39m\u001b[36mrich\u001b[39m\u001b[39m (\u001b[39m\u001b[39;1m13.7.0\u001b[39;22m\u001b[39m)\u001b[39m: \u001b[34mInstalling...\u001b[39m\n",
      "  \u001b[32;1m•\u001b[39;22m \u001b[39mInstalling \u001b[39m\u001b[36mshellingham\u001b[39m\u001b[39m (\u001b[39m\u001b[32m1.5.4\u001b[39m\u001b[39m)\u001b[39m\n",
      "  \u001b[32;1m•\u001b[39;22m \u001b[39mInstalling \u001b[39m\u001b[36mtomlkit\u001b[39m\u001b[39m (\u001b[39m\u001b[32m0.12.3\u001b[39m\u001b[39m)\u001b[39m\n",
      "\u001b[5A\u001b[0J  \u001b[32;1m•\u001b[39;22m \u001b[39mInstalling \u001b[39m\u001b[36mjinja2\u001b[39m\u001b[39m (\u001b[39m\u001b[32m3.1.3\u001b[39m\u001b[39m)\u001b[39m\n",
      "  \u001b[34;1m•\u001b[39;22m \u001b[39mInstalling \u001b[39m\u001b[36mpydantic\u001b[39m\u001b[39m (\u001b[39m\u001b[39;1m2.6.1\u001b[39;22m\u001b[39m)\u001b[39m: \u001b[34mInstalling...\u001b[39m\n",
      "  \u001b[34;1m•\u001b[39;22m \u001b[39mInstalling \u001b[39m\u001b[36mpython-gitlab\u001b[39m\u001b[39m (\u001b[39m\u001b[39;1m4.4.0\u001b[39;22m\u001b[39m)\u001b[39m: \u001b[34mInstalling...\u001b[39m\n",
      "  \u001b[34;1m•\u001b[39;22m \u001b[39mInstalling \u001b[39m\u001b[36mrich\u001b[39m\u001b[39m (\u001b[39m\u001b[39;1m13.7.0\u001b[39;22m\u001b[39m)\u001b[39m: \u001b[34mInstalling...\u001b[39m\n",
      "  \u001b[32;1m•\u001b[39;22m \u001b[39mInstalling \u001b[39m\u001b[36mshellingham\u001b[39m\u001b[39m (\u001b[39m\u001b[32m1.5.4\u001b[39m\u001b[39m)\u001b[39m\n",
      "  \u001b[32;1m•\u001b[39;22m \u001b[39mInstalling \u001b[39m\u001b[36mtomlkit\u001b[39m\u001b[39m (\u001b[39m\u001b[32m0.12.3\u001b[39m\u001b[39m)\u001b[39m\n",
      "\u001b[7A\u001b[0J  \u001b[32;1m•\u001b[39;22m \u001b[39mInstalling \u001b[39m\u001b[36mjinja2\u001b[39m\u001b[39m (\u001b[39m\u001b[32m3.1.3\u001b[39m\u001b[39m)\u001b[39m\n",
      "  \u001b[34;1m•\u001b[39;22m \u001b[39mInstalling \u001b[39m\u001b[36mpydantic\u001b[39m\u001b[39m (\u001b[39m\u001b[39;1m2.6.1\u001b[39;22m\u001b[39m)\u001b[39m: \u001b[34mInstalling...\u001b[39m\n",
      "  \u001b[34;1m•\u001b[39;22m \u001b[39mInstalling \u001b[39m\u001b[36mpython-gitlab\u001b[39m\u001b[39m (\u001b[39m\u001b[39;1m4.4.0\u001b[39;22m\u001b[39m)\u001b[39m: \u001b[34mInstalling...\u001b[39m\n",
      "  \u001b[34;1m•\u001b[39;22m \u001b[39mInstalling \u001b[39m\u001b[36mrich\u001b[39m\u001b[39m (\u001b[39m\u001b[39;1m13.7.0\u001b[39;22m\u001b[39m)\u001b[39m: \u001b[34mInstalling...\u001b[39m\n",
      "  \u001b[32;1m•\u001b[39;22m \u001b[39mInstalling \u001b[39m\u001b[36mshellingham\u001b[39m\u001b[39m (\u001b[39m\u001b[32m1.5.4\u001b[39m\u001b[39m)\u001b[39m\n",
      "  \u001b[32;1m•\u001b[39;22m \u001b[39mInstalling \u001b[39m\u001b[36mtomlkit\u001b[39m\u001b[39m (\u001b[39m\u001b[32m0.12.3\u001b[39m\u001b[39m)\u001b[39m\n",
      "\u001b[6A\u001b[0J  \u001b[32;1m•\u001b[39;22m \u001b[39mInstalling \u001b[39m\u001b[36mimportlib-resources\u001b[39m\u001b[39m (\u001b[39m\u001b[32m6.1.1\u001b[39m\u001b[39m)\u001b[39m\n",
      "  \u001b[32;1m•\u001b[39;22m \u001b[39mInstalling \u001b[39m\u001b[36mjinja2\u001b[39m\u001b[39m (\u001b[39m\u001b[32m3.1.3\u001b[39m\u001b[39m)\u001b[39m\n",
      "  \u001b[34;1m•\u001b[39;22m \u001b[39mInstalling \u001b[39m\u001b[36mpydantic\u001b[39m\u001b[39m (\u001b[39m\u001b[39;1m2.6.1\u001b[39;22m\u001b[39m)\u001b[39m: \u001b[34mInstalling...\u001b[39m\n",
      "  \u001b[34;1m•\u001b[39;22m \u001b[39mInstalling \u001b[39m\u001b[36mpython-gitlab\u001b[39m\u001b[39m (\u001b[39m\u001b[39;1m4.4.0\u001b[39;22m\u001b[39m)\u001b[39m: \u001b[34mInstalling...\u001b[39m\n",
      "  \u001b[34;1m•\u001b[39;22m \u001b[39mInstalling \u001b[39m\u001b[36mrich\u001b[39m\u001b[39m (\u001b[39m\u001b[39;1m13.7.0\u001b[39;22m\u001b[39m)\u001b[39m: \u001b[34mInstalling...\u001b[39m\n",
      "  \u001b[32;1m•\u001b[39;22m \u001b[39mInstalling \u001b[39m\u001b[36mshellingham\u001b[39m\u001b[39m (\u001b[39m\u001b[32m1.5.4\u001b[39m\u001b[39m)\u001b[39m\n",
      "  \u001b[32;1m•\u001b[39;22m \u001b[39mInstalling \u001b[39m\u001b[36mtomlkit\u001b[39m\u001b[39m (\u001b[39m\u001b[32m0.12.3\u001b[39m\u001b[39m)\u001b[39m\n",
      "\u001b[8A\u001b[0J  \u001b[32;1m•\u001b[39;22m \u001b[39mInstalling \u001b[39m\u001b[36mimportlib-resources\u001b[39m\u001b[39m (\u001b[39m\u001b[32m6.1.1\u001b[39m\u001b[39m)\u001b[39m\n",
      "  \u001b[32;1m•\u001b[39;22m \u001b[39mInstalling \u001b[39m\u001b[36mjinja2\u001b[39m\u001b[39m (\u001b[39m\u001b[32m3.1.3\u001b[39m\u001b[39m)\u001b[39m\n",
      "  \u001b[34;1m•\u001b[39;22m \u001b[39mInstalling \u001b[39m\u001b[36mpydantic\u001b[39m\u001b[39m (\u001b[39m\u001b[39;1m2.6.1\u001b[39;22m\u001b[39m)\u001b[39m: \u001b[34mInstalling...\u001b[39m\n",
      "  \u001b[34;1m•\u001b[39;22m \u001b[39mInstalling \u001b[39m\u001b[36mpython-gitlab\u001b[39m\u001b[39m (\u001b[39m\u001b[39;1m4.4.0\u001b[39;22m\u001b[39m)\u001b[39m: \u001b[34mInstalling...\u001b[39m\n",
      "  \u001b[34;1m•\u001b[39;22m \u001b[39mInstalling \u001b[39m\u001b[36mrich\u001b[39m\u001b[39m (\u001b[39m\u001b[39;1m13.7.0\u001b[39;22m\u001b[39m)\u001b[39m: \u001b[34mInstalling...\u001b[39m\n",
      "  \u001b[32;1m•\u001b[39;22m \u001b[39mInstalling \u001b[39m\u001b[36mshellingham\u001b[39m\u001b[39m (\u001b[39m\u001b[32m1.5.4\u001b[39m\u001b[39m)\u001b[39m\n",
      "  \u001b[32;1m•\u001b[39;22m \u001b[39mInstalling \u001b[39m\u001b[36mtomlkit\u001b[39m\u001b[39m (\u001b[39m\u001b[32m0.12.3\u001b[39m\u001b[39m)\u001b[39m\n",
      "\u001b[7A\u001b[0J  \u001b[32;1m•\u001b[39;22m \u001b[39mInstalling \u001b[39m\u001b[36mgitpython\u001b[39m\u001b[39m (\u001b[39m\u001b[32m3.1.41\u001b[39m\u001b[39m)\u001b[39m\n",
      "  \u001b[32;1m•\u001b[39;22m \u001b[39mInstalling \u001b[39m\u001b[36mimportlib-resources\u001b[39m\u001b[39m (\u001b[39m\u001b[32m6.1.1\u001b[39m\u001b[39m)\u001b[39m\n",
      "  \u001b[32;1m•\u001b[39;22m \u001b[39mInstalling \u001b[39m\u001b[36mjinja2\u001b[39m\u001b[39m (\u001b[39m\u001b[32m3.1.3\u001b[39m\u001b[39m)\u001b[39m\n",
      "  \u001b[34;1m•\u001b[39;22m \u001b[39mInstalling \u001b[39m\u001b[36mpydantic\u001b[39m\u001b[39m (\u001b[39m\u001b[39;1m2.6.1\u001b[39;22m\u001b[39m)\u001b[39m: \u001b[34mInstalling...\u001b[39m\n",
      "  \u001b[34;1m•\u001b[39;22m \u001b[39mInstalling \u001b[39m\u001b[36mpython-gitlab\u001b[39m\u001b[39m (\u001b[39m\u001b[39;1m4.4.0\u001b[39;22m\u001b[39m)\u001b[39m: \u001b[34mInstalling...\u001b[39m\n",
      "  \u001b[34;1m•\u001b[39;22m \u001b[39mInstalling \u001b[39m\u001b[36mrich\u001b[39m\u001b[39m (\u001b[39m\u001b[39;1m13.7.0\u001b[39;22m\u001b[39m)\u001b[39m: \u001b[34mInstalling...\u001b[39m\n",
      "  \u001b[32;1m•\u001b[39;22m \u001b[39mInstalling \u001b[39m\u001b[36mshellingham\u001b[39m\u001b[39m (\u001b[39m\u001b[32m1.5.4\u001b[39m\u001b[39m)\u001b[39m\n",
      "  \u001b[32;1m•\u001b[39;22m \u001b[39mInstalling \u001b[39m\u001b[36mtomlkit\u001b[39m\u001b[39m (\u001b[39m\u001b[32m0.12.3\u001b[39m\u001b[39m)\u001b[39m\n",
      "\u001b[4A\u001b[0J  \u001b[34;1m•\u001b[39;22m \u001b[39mInstalling \u001b[39m\u001b[36mrich\u001b[39m\u001b[39m (\u001b[39m\u001b[39;1m13.7.0\u001b[39;22m\u001b[39m)\u001b[39m: \u001b[34mInstalling...\u001b[39m\n",
      "  \u001b[32;1m•\u001b[39;22m \u001b[39mInstalling \u001b[39m\u001b[36mshellingham\u001b[39m\u001b[39m (\u001b[39m\u001b[32m1.5.4\u001b[39m\u001b[39m)\u001b[39m\n",
      "  \u001b[32;1m•\u001b[39;22m \u001b[39mInstalling \u001b[39m\u001b[36mtomlkit\u001b[39m\u001b[39m (\u001b[39m\u001b[32m0.12.3\u001b[39m\u001b[39m)\u001b[39m\n",
      "\u001b[3A\u001b[0J  \u001b[32;1m•\u001b[39;22m \u001b[39mInstalling \u001b[39m\u001b[36mpython-gitlab\u001b[39m\u001b[39m (\u001b[39m\u001b[32m4.4.0\u001b[39m\u001b[39m)\u001b[39m\n",
      "  \u001b[34;1m•\u001b[39;22m \u001b[39mInstalling \u001b[39m\u001b[36mrich\u001b[39m\u001b[39m (\u001b[39m\u001b[39;1m13.7.0\u001b[39;22m\u001b[39m)\u001b[39m: \u001b[34mInstalling...\u001b[39m\n",
      "  \u001b[32;1m•\u001b[39;22m \u001b[39mInstalling \u001b[39m\u001b[36mshellingham\u001b[39m\u001b[39m (\u001b[39m\u001b[32m1.5.4\u001b[39m\u001b[39m)\u001b[39m\n",
      "  \u001b[32;1m•\u001b[39;22m \u001b[39mInstalling \u001b[39m\u001b[36mtomlkit\u001b[39m\u001b[39m (\u001b[39m\u001b[32m0.12.3\u001b[39m\u001b[39m)\u001b[39m\n",
      "\u001b[3A\u001b[0J  \u001b[32;1m•\u001b[39;22m \u001b[39mInstalling \u001b[39m\u001b[36mshellingham\u001b[39m\u001b[39m (\u001b[39m\u001b[32m1.5.4\u001b[39m\u001b[39m)\u001b[39m\n",
      "  \u001b[32;1m•\u001b[39;22m \u001b[39mInstalling \u001b[39m\u001b[36mtomlkit\u001b[39m\u001b[39m (\u001b[39m\u001b[32m0.12.3\u001b[39m\u001b[39m)\u001b[39m\n",
      "\u001b[2A\u001b[0J  \u001b[32;1m•\u001b[39;22m \u001b[39mInstalling \u001b[39m\u001b[36mrich\u001b[39m\u001b[39m (\u001b[39m\u001b[32m13.7.0\u001b[39m\u001b[39m)\u001b[39m\n",
      "  \u001b[32;1m•\u001b[39;22m \u001b[39mInstalling \u001b[39m\u001b[36mshellingham\u001b[39m\u001b[39m (\u001b[39m\u001b[32m1.5.4\u001b[39m\u001b[39m)\u001b[39m\n",
      "  \u001b[32;1m•\u001b[39;22m \u001b[39mInstalling \u001b[39m\u001b[36mtomlkit\u001b[39m\u001b[39m (\u001b[39m\u001b[32m0.12.3\u001b[39m\u001b[39m)\u001b[39m\n",
      "\u001b[5A\u001b[0J  \u001b[32;1m•\u001b[39;22m \u001b[39mInstalling \u001b[39m\u001b[36mpython-gitlab\u001b[39m\u001b[39m (\u001b[39m\u001b[32m4.4.0\u001b[39m\u001b[39m)\u001b[39m\n",
      "  \u001b[32;1m•\u001b[39;22m \u001b[39mInstalling \u001b[39m\u001b[36mrich\u001b[39m\u001b[39m (\u001b[39m\u001b[32m13.7.0\u001b[39m\u001b[39m)\u001b[39m\n",
      "  \u001b[32;1m•\u001b[39;22m \u001b[39mInstalling \u001b[39m\u001b[36mshellingham\u001b[39m\u001b[39m (\u001b[39m\u001b[32m1.5.4\u001b[39m\u001b[39m)\u001b[39m\n",
      "  \u001b[32;1m•\u001b[39;22m \u001b[39mInstalling \u001b[39m\u001b[36mtomlkit\u001b[39m\u001b[39m (\u001b[39m\u001b[32m0.12.3\u001b[39m\u001b[39m)\u001b[39m\n",
      "\u001b[4A\u001b[0J  \u001b[32;1m•\u001b[39;22m \u001b[39mInstalling \u001b[39m\u001b[36mpydantic\u001b[39m\u001b[39m (\u001b[39m\u001b[32m2.6.1\u001b[39m\u001b[39m)\u001b[39m\n",
      "  \u001b[32;1m•\u001b[39;22m \u001b[39mInstalling \u001b[39m\u001b[36mpython-gitlab\u001b[39m\u001b[39m (\u001b[39m\u001b[32m4.4.0\u001b[39m\u001b[39m)\u001b[39m\n",
      "  \u001b[32;1m•\u001b[39;22m \u001b[39mInstalling \u001b[39m\u001b[36mrich\u001b[39m\u001b[39m (\u001b[39m\u001b[32m13.7.0\u001b[39m\u001b[39m)\u001b[39m\n",
      "  \u001b[32;1m•\u001b[39;22m \u001b[39mInstalling \u001b[39m\u001b[36mshellingham\u001b[39m\u001b[39m (\u001b[39m\u001b[32m1.5.4\u001b[39m\u001b[39m)\u001b[39m\n",
      "  \u001b[32;1m•\u001b[39;22m \u001b[39mInstalling \u001b[39m\u001b[36mtomlkit\u001b[39m\u001b[39m (\u001b[39m\u001b[32m0.12.3\u001b[39m\u001b[39m)\u001b[39m\n",
      "  \u001b[34;1m•\u001b[39;22m \u001b[39mInstalling \u001b[39m\u001b[36mpython-semantic-release\u001b[39m\u001b[39m (\u001b[39m\u001b[39;1m9.0.3\u001b[39;22m\u001b[39m)\u001b[39m: \u001b[34mPending...\u001b[39m\n",
      "\u001b[1A\u001b[0J  \u001b[34;1m•\u001b[39;22m \u001b[39mInstalling \u001b[39m\u001b[36mpython-semantic-release\u001b[39m\u001b[39m (\u001b[39m\u001b[39;1m9.0.3\u001b[39;22m\u001b[39m)\u001b[39m: \u001b[34mInstalling...\u001b[39m\n",
      "\u001b[1A\u001b[0J  \u001b[32;1m•\u001b[39;22m \u001b[39mInstalling \u001b[39m\u001b[36mpython-semantic-release\u001b[39m\u001b[39m (\u001b[39m\u001b[32m9.0.3\u001b[39m\u001b[39m)\u001b[39m\n",
      "\n",
      "\u001b[34mWriting lock file\u001b[39m\n"
     ]
    },
    {
     "name": "stdout",
     "output_type": "stream",
     "text": [
      "Using version \u001b[39;1m^9.0.3\u001b[39;22m for \u001b[36mpython-semantic-release\u001b[39m\n"
     ]
    },
    {
     "name": "stdout",
     "output_type": "stream",
     "text": [
      "\n"
     ]
    },
    {
     "name": "stdout",
     "output_type": "stream",
     "text": [
      "\u001b[34mUpdating dependencies\u001b[39m\n"
     ]
    },
    {
     "name": "stdout",
     "output_type": "stream",
     "text": [
      "\r"
     ]
    },
    {
     "name": "stdout",
     "output_type": "stream",
     "text": [
      "\u001b[2K\u001b[34mResolving dependencies...\u001b[39m \u001b[39;2m(0.0s)\u001b[39;22m\r"
     ]
    },
    {
     "name": "stdout",
     "output_type": "stream",
     "text": [
      "\u001b[2K\u001b[34mResolving dependencies...\u001b[39m \u001b[39;2m(0.2s)\u001b[39;22m\r"
     ]
    },
    {
     "name": "stdout",
     "output_type": "stream",
     "text": [
      "\u001b[2K\u001b[34mResolving dependencies...\u001b[39m \u001b[39;2m(0.3s)\u001b[39;22m\r"
     ]
    },
    {
     "name": "stdout",
     "output_type": "stream",
     "text": [
      "\u001b[2K\u001b[34mResolving dependencies...\u001b[39m \u001b[39;2m(0.5s)\u001b[39;22m\r"
     ]
    },
    {
     "name": "stdout",
     "output_type": "stream",
     "text": [
      "\u001b[2K\u001b[34mResolving dependencies...\u001b[39m \u001b[39;2m(0.6s)\u001b[39;22m\r"
     ]
    },
    {
     "name": "stdout",
     "output_type": "stream",
     "text": [
      "\u001b[2K\u001b[34mResolving dependencies...\u001b[39m \u001b[39;2m(0.7s)\u001b[39;22m\r"
     ]
    },
    {
     "name": "stdout",
     "output_type": "stream",
     "text": [
      "\u001b[2K\u001b[34mResolving dependencies...\u001b[39m \u001b[39;2m(0.8s)\u001b[39;22m\r"
     ]
    },
    {
     "name": "stdout",
     "output_type": "stream",
     "text": [
      "\u001b[2K\u001b[34mResolving dependencies...\u001b[39m \u001b[39;2m(0.9s)\u001b[39;22m\r"
     ]
    },
    {
     "name": "stdout",
     "output_type": "stream",
     "text": [
      "\u001b[2K\u001b[34mResolving dependencies...\u001b[39m \u001b[39;2m(1.0s)\u001b[39;22m\r"
     ]
    },
    {
     "name": "stdout",
     "output_type": "stream",
     "text": [
      "\u001b[2K\u001b[34mResolving dependencies...\u001b[39m \u001b[39;2m(1.2s)\u001b[39;22m\r"
     ]
    },
    {
     "name": "stdout",
     "output_type": "stream",
     "text": [
      "\u001b[2K\u001b[34mResolving dependencies...\u001b[39m \u001b[39;2m(1.3s)\u001b[39;22m\r"
     ]
    },
    {
     "name": "stdout",
     "output_type": "stream",
     "text": [
      "\u001b[2K\u001b[34mResolving dependencies...\u001b[39m \u001b[39;2m(1.4s)\u001b[39;22m\r"
     ]
    },
    {
     "name": "stdout",
     "output_type": "stream",
     "text": [
      "\u001b[2K\u001b[34mResolving dependencies...\u001b[39m \u001b[39;2m(1.6s)\u001b[39;22m\r"
     ]
    },
    {
     "name": "stdout",
     "output_type": "stream",
     "text": [
      "\u001b[2K\u001b[34mResolving dependencies...\u001b[39m \u001b[39;2m(1.7s)\u001b[39;22m\r"
     ]
    },
    {
     "name": "stdout",
     "output_type": "stream",
     "text": [
      "\u001b[2K\u001b[34mResolving dependencies...\u001b[39m \u001b[39;2m(1.8s)\u001b[39;22m\r"
     ]
    },
    {
     "name": "stdout",
     "output_type": "stream",
     "text": [
      "\u001b[2K\u001b[34mResolving dependencies...\u001b[39m \u001b[39;2m(1.9s)\u001b[39;22m\r"
     ]
    },
    {
     "name": "stdout",
     "output_type": "stream",
     "text": [
      "\u001b[2K\u001b[34mResolving dependencies...\u001b[39m \u001b[39;2m(2.0s)\u001b[39;22m\r"
     ]
    },
    {
     "name": "stdout",
     "output_type": "stream",
     "text": [
      "\u001b[2K\u001b[34mResolving dependencies...\u001b[39m \u001b[39;2m(2.2s)\u001b[39;22m\r"
     ]
    },
    {
     "name": "stdout",
     "output_type": "stream",
     "text": [
      "\u001b[2K\u001b[34mResolving dependencies...\u001b[39m \u001b[39;2m(2.3s)\u001b[39;22m\r"
     ]
    },
    {
     "name": "stdout",
     "output_type": "stream",
     "text": [
      "\u001b[2K\u001b[34mResolving dependencies...\u001b[39m \u001b[39;2m(2.4s)\u001b[39;22m\r"
     ]
    },
    {
     "name": "stdout",
     "output_type": "stream",
     "text": [
      "\u001b[2K\u001b[34mResolving dependencies...\u001b[39m \u001b[39;2m(2.5s)\u001b[39;22m\r"
     ]
    },
    {
     "name": "stdout",
     "output_type": "stream",
     "text": [
      "\u001b[2K\u001b[34mResolving dependencies...\u001b[39m \u001b[39;2m(2.6s)\u001b[39;22m\r"
     ]
    },
    {
     "name": "stdout",
     "output_type": "stream",
     "text": [
      "\u001b[2K\u001b[34mResolving dependencies...\u001b[39m \u001b[39;2m(2.7s)\u001b[39;22m\n"
     ]
    },
    {
     "name": "stdout",
     "output_type": "stream",
     "text": [
      "\n"
     ]
    },
    {
     "name": "stdout",
     "output_type": "stream",
     "text": [
      "\u001b[39;1mPackage operations\u001b[39;22m: \u001b[34m27\u001b[39m installs, \u001b[34m0\u001b[39m updates, \u001b[34m0\u001b[39m removals\n"
     ]
    },
    {
     "name": "stdout",
     "output_type": "stream",
     "text": [
      "\n"
     ]
    },
    {
     "name": "stdout",
     "output_type": "stream",
     "text": [
      "  \u001b[34;1m•\u001b[39;22m \u001b[39mInstalling \u001b[39m\u001b[36mcertifi\u001b[39m\u001b[39m (\u001b[39m\u001b[39;1m2024.2.2\u001b[39;22m\u001b[39m)\u001b[39m: \u001b[34mPending...\u001b[39m\n"
     ]
    },
    {
     "name": "stdout",
     "output_type": "stream",
     "text": [
      "  \u001b[34;1m•\u001b[39;22m \u001b[39mInstalling \u001b[39m\u001b[36mcharset-normalizer\u001b[39m\u001b[39m (\u001b[39m\u001b[39;1m3.3.2\u001b[39;22m\u001b[39m)\u001b[39m: \u001b[34mPending...\u001b[39m\n"
     ]
    },
    {
     "name": "stdout",
     "output_type": "stream",
     "text": [
      "  \u001b[34;1m•\u001b[39;22m \u001b[39mInstalling \u001b[39m\u001b[36midna\u001b[39m\u001b[39m (\u001b[39m\u001b[39;1m3.6\u001b[39;22m\u001b[39m)\u001b[39m: \u001b[34mPending...\u001b[39m\n"
     ]
    },
    {
     "name": "stdout",
     "output_type": "stream",
     "text": [
      "  \u001b[34;1m•\u001b[39;22m \u001b[39mInstalling \u001b[39m\u001b[36murllib3\u001b[39m\u001b[39m (\u001b[39m\u001b[39;1m2.2.0\u001b[39;22m\u001b[39m)\u001b[39m: \u001b[34mPending...\u001b[39m\n"
     ]
    },
    {
     "name": "stdout",
     "output_type": "stream",
     "text": [
      "\u001b[4A\u001b[0J  \u001b[34;1m•\u001b[39;22m \u001b[39mInstalling \u001b[39m\u001b[36mcharset-normalizer\u001b[39m\u001b[39m (\u001b[39m\u001b[39;1m3.3.2\u001b[39;22m\u001b[39m)\u001b[39m: \u001b[34mPending...\u001b[39m\n"
     ]
    },
    {
     "name": "stdout",
     "output_type": "stream",
     "text": [
      "  \u001b[34;1m•\u001b[39;22m \u001b[39mInstalling \u001b[39m\u001b[36midna\u001b[39m\u001b[39m (\u001b[39m\u001b[39;1m3.6\u001b[39;22m\u001b[39m)\u001b[39m: \u001b[34mPending...\u001b[39m\n"
     ]
    },
    {
     "name": "stdout",
     "output_type": "stream",
     "text": [
      "  \u001b[34;1m•\u001b[39;22m \u001b[39mInstalling \u001b[39m\u001b[36murllib3\u001b[39m\u001b[39m (\u001b[39m\u001b[39;1m2.2.0\u001b[39;22m\u001b[39m)\u001b[39m: \u001b[34mPending...\u001b[39m\n"
     ]
    },
    {
     "name": "stdout",
     "output_type": "stream",
     "text": [
      "\u001b[3A\u001b[0J  \u001b[34;1m•\u001b[39;22m \u001b[39mInstalling \u001b[39m\u001b[36mcertifi\u001b[39m\u001b[39m (\u001b[39m\u001b[39;1m2024.2.2\u001b[39;22m\u001b[39m)\u001b[39m: \u001b[34mInstalling...\u001b[39m\n"
     ]
    },
    {
     "name": "stdout",
     "output_type": "stream",
     "text": [
      "  \u001b[34;1m•\u001b[39;22m \u001b[39mInstalling \u001b[39m\u001b[36mcharset-normalizer\u001b[39m\u001b[39m (\u001b[39m\u001b[39;1m3.3.2\u001b[39;22m\u001b[39m)\u001b[39m: \u001b[34mPending...\u001b[39m\n"
     ]
    },
    {
     "name": "stdout",
     "output_type": "stream",
     "text": [
      "  \u001b[34;1m•\u001b[39;22m \u001b[39mInstalling \u001b[39m\u001b[36midna\u001b[39m\u001b[39m (\u001b[39m\u001b[39;1m3.6\u001b[39;22m\u001b[39m)\u001b[39m: \u001b[34mPending...\u001b[39m\n"
     ]
    },
    {
     "name": "stdout",
     "output_type": "stream",
     "text": [
      "  \u001b[34;1m•\u001b[39;22m \u001b[39mInstalling \u001b[39m\u001b[36murllib3\u001b[39m\u001b[39m (\u001b[39m\u001b[39;1m2.2.0\u001b[39;22m\u001b[39m)\u001b[39m: \u001b[34mPending...\u001b[39m\n"
     ]
    },
    {
     "name": "stdout",
     "output_type": "stream",
     "text": [
      "\u001b[2A\u001b[0J  \u001b[34;1m•\u001b[39;22m \u001b[39mInstalling \u001b[39m\u001b[36murllib3\u001b[39m\u001b[39m (\u001b[39m\u001b[39;1m2.2.0\u001b[39;22m\u001b[39m)\u001b[39m: \u001b[34mPending...\u001b[39m\n"
     ]
    },
    {
     "name": "stdout",
     "output_type": "stream",
     "text": [
      "\u001b[1A\u001b[0J  \u001b[34;1m•\u001b[39;22m \u001b[39mInstalling \u001b[39m\u001b[36midna\u001b[39m\u001b[39m (\u001b[39m\u001b[39;1m3.6\u001b[39;22m\u001b[39m)\u001b[39m: \u001b[34mInstalling...\u001b[39m\n"
     ]
    },
    {
     "name": "stdout",
     "output_type": "stream",
     "text": [
      "  \u001b[34;1m•\u001b[39;22m \u001b[39mInstalling \u001b[39m\u001b[36murllib3\u001b[39m\u001b[39m (\u001b[39m\u001b[39;1m2.2.0\u001b[39;22m\u001b[39m)\u001b[39m: \u001b[34mPending...\u001b[39m\n"
     ]
    },
    {
     "name": "stdout",
     "output_type": "stream",
     "text": [
      "\u001b[1A\u001b[0J  \u001b[34;1m•\u001b[39;22m \u001b[39mInstalling \u001b[39m\u001b[36murllib3\u001b[39m\u001b[39m (\u001b[39m\u001b[39;1m2.2.0\u001b[39;22m\u001b[39m)\u001b[39m: \u001b[34mInstalling...\u001b[39m\n"
     ]
    },
    {
     "name": "stdout",
     "output_type": "stream",
     "text": [
      "\u001b[2A\u001b[0J  \u001b[34;1m•\u001b[39;22m \u001b[39mInstalling \u001b[39m\u001b[36murllib3\u001b[39m\u001b[39m (\u001b[39m\u001b[39;1m2.2.0\u001b[39;22m\u001b[39m)\u001b[39m: \u001b[34mInstalling...\u001b[39m\n"
     ]
    },
    {
     "name": "stdout",
     "output_type": "stream",
     "text": [
      "\u001b[1A\u001b[0J  \u001b[32;1m•\u001b[39;22m \u001b[39mInstalling \u001b[39m\u001b[36midna\u001b[39m\u001b[39m (\u001b[39m\u001b[32m3.6\u001b[39m\u001b[39m)\u001b[39m\n"
     ]
    },
    {
     "name": "stdout",
     "output_type": "stream",
     "text": [
      "  \u001b[34;1m•\u001b[39;22m \u001b[39mInstalling \u001b[39m\u001b[36murllib3\u001b[39m\u001b[39m (\u001b[39m\u001b[39;1m2.2.0\u001b[39;22m\u001b[39m)\u001b[39m: \u001b[34mInstalling...\u001b[39m\n"
     ]
    },
    {
     "name": "stdout",
     "output_type": "stream",
     "text": [
      "\u001b[4A\u001b[0J  \u001b[34;1m•\u001b[39;22m \u001b[39mInstalling \u001b[39m\u001b[36mcharset-normalizer\u001b[39m\u001b[39m (\u001b[39m\u001b[39;1m3.3.2\u001b[39;22m\u001b[39m)\u001b[39m: \u001b[34mPending...\u001b[39m\n"
     ]
    },
    {
     "name": "stdout",
     "output_type": "stream",
     "text": [
      "  \u001b[32;1m•\u001b[39;22m \u001b[39mInstalling \u001b[39m\u001b[36midna\u001b[39m\u001b[39m (\u001b[39m\u001b[32m3.6\u001b[39m\u001b[39m)\u001b[39m\n"
     ]
    },
    {
     "name": "stdout",
     "output_type": "stream",
     "text": [
      "  \u001b[34;1m•\u001b[39;22m \u001b[39mInstalling \u001b[39m\u001b[36murllib3\u001b[39m\u001b[39m (\u001b[39m\u001b[39;1m2.2.0\u001b[39;22m\u001b[39m)\u001b[39m: \u001b[34mInstalling...\u001b[39m\n"
     ]
    },
    {
     "name": "stdout",
     "output_type": "stream",
     "text": [
      "\u001b[3A\u001b[0J  \u001b[32;1m•\u001b[39;22m \u001b[39mInstalling \u001b[39m\u001b[36mcertifi\u001b[39m\u001b[39m (\u001b[39m\u001b[32m2024.2.2\u001b[39m\u001b[39m)\u001b[39m\n"
     ]
    },
    {
     "name": "stdout",
     "output_type": "stream",
     "text": [
      "  \u001b[34;1m•\u001b[39;22m \u001b[39mInstalling \u001b[39m\u001b[36mcharset-normalizer\u001b[39m\u001b[39m (\u001b[39m\u001b[39;1m3.3.2\u001b[39;22m\u001b[39m)\u001b[39m: \u001b[34mPending...\u001b[39m\n"
     ]
    },
    {
     "name": "stdout",
     "output_type": "stream",
     "text": [
      "  \u001b[32;1m•\u001b[39;22m \u001b[39mInstalling \u001b[39m\u001b[36midna\u001b[39m\u001b[39m (\u001b[39m\u001b[32m3.6\u001b[39m\u001b[39m)\u001b[39m\n"
     ]
    },
    {
     "name": "stdout",
     "output_type": "stream",
     "text": [
      "  \u001b[34;1m•\u001b[39;22m \u001b[39mInstalling \u001b[39m\u001b[36murllib3\u001b[39m\u001b[39m (\u001b[39m\u001b[39;1m2.2.0\u001b[39;22m\u001b[39m)\u001b[39m: \u001b[34mInstalling...\u001b[39m\n"
     ]
    },
    {
     "name": "stdout",
     "output_type": "stream",
     "text": [
      "\u001b[1A\u001b[0J  \u001b[32;1m•\u001b[39;22m \u001b[39mInstalling \u001b[39m\u001b[36murllib3\u001b[39m\u001b[39m (\u001b[39m\u001b[32m2.2.0\u001b[39m\u001b[39m)\u001b[39m\n"
     ]
    },
    {
     "name": "stdout",
     "output_type": "stream",
     "text": [
      "\u001b[3A\u001b[0J  \u001b[32;1m•\u001b[39;22m \u001b[39mInstalling \u001b[39m\u001b[36midna\u001b[39m\u001b[39m (\u001b[39m\u001b[32m3.6\u001b[39m\u001b[39m)\u001b[39m\n"
     ]
    },
    {
     "name": "stdout",
     "output_type": "stream",
     "text": [
      "  \u001b[32;1m•\u001b[39;22m \u001b[39mInstalling \u001b[39m\u001b[36murllib3\u001b[39m\u001b[39m (\u001b[39m\u001b[32m2.2.0\u001b[39m\u001b[39m)\u001b[39m\n"
     ]
    },
    {
     "name": "stdout",
     "output_type": "stream",
     "text": [
      "\u001b[2A\u001b[0J  \u001b[34;1m•\u001b[39;22m \u001b[39mInstalling \u001b[39m\u001b[36mcharset-normalizer\u001b[39m\u001b[39m (\u001b[39m\u001b[39;1m3.3.2\u001b[39;22m\u001b[39m)\u001b[39m: \u001b[34mInstalling...\u001b[39m\n"
     ]
    },
    {
     "name": "stdout",
     "output_type": "stream",
     "text": [
      "  \u001b[32;1m•\u001b[39;22m \u001b[39mInstalling \u001b[39m\u001b[36midna\u001b[39m\u001b[39m (\u001b[39m\u001b[32m3.6\u001b[39m\u001b[39m)\u001b[39m\n"
     ]
    },
    {
     "name": "stdout",
     "output_type": "stream",
     "text": [
      "  \u001b[32;1m•\u001b[39;22m \u001b[39mInstalling \u001b[39m\u001b[36murllib3\u001b[39m\u001b[39m (\u001b[39m\u001b[32m2.2.0\u001b[39m\u001b[39m)\u001b[39m\n"
     ]
    },
    {
     "name": "stdout",
     "output_type": "stream",
     "text": [
      "\u001b[3A\u001b[0J  \u001b[32;1m•\u001b[39;22m \u001b[39mInstalling \u001b[39m\u001b[36midna\u001b[39m\u001b[39m (\u001b[39m\u001b[32m3.6\u001b[39m\u001b[39m)\u001b[39m\n"
     ]
    },
    {
     "name": "stdout",
     "output_type": "stream",
     "text": [
      "  \u001b[32;1m•\u001b[39;22m \u001b[39mInstalling \u001b[39m\u001b[36murllib3\u001b[39m\u001b[39m (\u001b[39m\u001b[32m2.2.0\u001b[39m\u001b[39m)\u001b[39m\n"
     ]
    },
    {
     "name": "stdout",
     "output_type": "stream",
     "text": [
      "\u001b[2A\u001b[0J  \u001b[32;1m•\u001b[39;22m \u001b[39mInstalling \u001b[39m\u001b[36mcharset-normalizer\u001b[39m\u001b[39m (\u001b[39m\u001b[32m3.3.2\u001b[39m\u001b[39m)\u001b[39m\n"
     ]
    },
    {
     "name": "stdout",
     "output_type": "stream",
     "text": [
      "  \u001b[32;1m•\u001b[39;22m \u001b[39mInstalling \u001b[39m\u001b[36midna\u001b[39m\u001b[39m (\u001b[39m\u001b[32m3.6\u001b[39m\u001b[39m)\u001b[39m\n"
     ]
    },
    {
     "name": "stdout",
     "output_type": "stream",
     "text": [
      "  \u001b[32;1m•\u001b[39;22m \u001b[39mInstalling \u001b[39m\u001b[36murllib3\u001b[39m\u001b[39m (\u001b[39m\u001b[32m2.2.0\u001b[39m\u001b[39m)\u001b[39m\n"
     ]
    },
    {
     "name": "stdout",
     "output_type": "stream",
     "text": [
      "  \u001b[34;1m•\u001b[39;22m \u001b[39mInstalling \u001b[39m\u001b[36mmdurl\u001b[39m\u001b[39m (\u001b[39m\u001b[39;1m0.1.2\u001b[39;22m\u001b[39m)\u001b[39m: \u001b[34mPending...\u001b[39m\n"
     ]
    },
    {
     "name": "stdout",
     "output_type": "stream",
     "text": [
      "  \u001b[34;1m•\u001b[39;22m \u001b[39mInstalling \u001b[39m\u001b[36mrequests\u001b[39m\u001b[39m (\u001b[39m\u001b[39;1m2.31.0\u001b[39;22m\u001b[39m)\u001b[39m: \u001b[34mPending...\u001b[39m\n"
     ]
    },
    {
     "name": "stdout",
     "output_type": "stream",
     "text": [
      "  \u001b[34;1m•\u001b[39;22m \u001b[39mInstalling \u001b[39m\u001b[36msmmap\u001b[39m\u001b[39m (\u001b[39m\u001b[39;1m5.0.1\u001b[39;22m\u001b[39m)\u001b[39m: \u001b[34mPending...\u001b[39m\n"
     ]
    },
    {
     "name": "stdout",
     "output_type": "stream",
     "text": [
      "  \u001b[34;1m•\u001b[39;22m \u001b[39mInstalling \u001b[39m\u001b[36mtyping-extensions\u001b[39m\u001b[39m (\u001b[39m\u001b[39;1m4.9.0\u001b[39;22m\u001b[39m)\u001b[39m: \u001b[34mPending...\u001b[39m\n"
     ]
    },
    {
     "name": "stdout",
     "output_type": "stream",
     "text": [
      "\u001b[4A\u001b[0J  \u001b[34;1m•\u001b[39;22m \u001b[39mInstalling \u001b[39m\u001b[36mrequests\u001b[39m\u001b[39m (\u001b[39m\u001b[39;1m2.31.0\u001b[39;22m\u001b[39m)\u001b[39m: \u001b[34mPending...\u001b[39m\n"
     ]
    },
    {
     "name": "stdout",
     "output_type": "stream",
     "text": [
      "  \u001b[34;1m•\u001b[39;22m \u001b[39mInstalling \u001b[39m\u001b[36msmmap\u001b[39m\u001b[39m (\u001b[39m\u001b[39;1m5.0.1\u001b[39;22m\u001b[39m)\u001b[39m: \u001b[34mPending...\u001b[39m\n"
     ]
    },
    {
     "name": "stdout",
     "output_type": "stream",
     "text": [
      "  \u001b[34;1m•\u001b[39;22m \u001b[39mInstalling \u001b[39m\u001b[36mtyping-extensions\u001b[39m\u001b[39m (\u001b[39m\u001b[39;1m4.9.0\u001b[39;22m\u001b[39m)\u001b[39m: \u001b[34mPending...\u001b[39m\n"
     ]
    },
    {
     "name": "stdout",
     "output_type": "stream",
     "text": [
      "\u001b[3A\u001b[0J  \u001b[34;1m•\u001b[39;22m \u001b[39mInstalling \u001b[39m\u001b[36mmdurl\u001b[39m\u001b[39m (\u001b[39m\u001b[39;1m0.1.2\u001b[39;22m\u001b[39m)\u001b[39m: \u001b[34mInstalling...\u001b[39m\n"
     ]
    },
    {
     "name": "stdout",
     "output_type": "stream",
     "text": [
      "  \u001b[34;1m•\u001b[39;22m \u001b[39mInstalling \u001b[39m\u001b[36mrequests\u001b[39m\u001b[39m (\u001b[39m\u001b[39;1m2.31.0\u001b[39;22m\u001b[39m)\u001b[39m: \u001b[34mPending...\u001b[39m\n"
     ]
    },
    {
     "name": "stdout",
     "output_type": "stream",
     "text": [
      "  \u001b[34;1m•\u001b[39;22m \u001b[39mInstalling \u001b[39m\u001b[36msmmap\u001b[39m\u001b[39m (\u001b[39m\u001b[39;1m5.0.1\u001b[39;22m\u001b[39m)\u001b[39m: \u001b[34mPending...\u001b[39m\n"
     ]
    },
    {
     "name": "stdout",
     "output_type": "stream",
     "text": [
      "  \u001b[34;1m•\u001b[39;22m \u001b[39mInstalling \u001b[39m\u001b[36mtyping-extensions\u001b[39m\u001b[39m (\u001b[39m\u001b[39;1m4.9.0\u001b[39;22m\u001b[39m)\u001b[39m: \u001b[34mPending...\u001b[39m\n"
     ]
    },
    {
     "name": "stdout",
     "output_type": "stream",
     "text": [
      "\u001b[3A\u001b[0J  \u001b[34;1m•\u001b[39;22m \u001b[39mInstalling \u001b[39m\u001b[36msmmap\u001b[39m\u001b[39m (\u001b[39m\u001b[39;1m5.0.1\u001b[39;22m\u001b[39m)\u001b[39m: \u001b[34mPending...\u001b[39m\n"
     ]
    },
    {
     "name": "stdout",
     "output_type": "stream",
     "text": [
      "  \u001b[34;1m•\u001b[39;22m \u001b[39mInstalling \u001b[39m\u001b[36mtyping-extensions\u001b[39m\u001b[39m (\u001b[39m\u001b[39;1m4.9.0\u001b[39;22m\u001b[39m)\u001b[39m: \u001b[34mPending...\u001b[39m\n"
     ]
    },
    {
     "name": "stdout",
     "output_type": "stream",
     "text": [
      "\u001b[2A\u001b[0J  \u001b[34;1m•\u001b[39;22m \u001b[39mInstalling \u001b[39m\u001b[36mrequests\u001b[39m\u001b[39m (\u001b[39m\u001b[39;1m2.31.0\u001b[39;22m\u001b[39m)\u001b[39m: \u001b[34mInstalling...\u001b[39m\n"
     ]
    },
    {
     "name": "stdout",
     "output_type": "stream",
     "text": [
      "  \u001b[34;1m•\u001b[39;22m \u001b[39mInstalling \u001b[39m\u001b[36msmmap\u001b[39m\u001b[39m (\u001b[39m\u001b[39;1m5.0.1\u001b[39;22m\u001b[39m)\u001b[39m: \u001b[34mPending...\u001b[39m\n"
     ]
    },
    {
     "name": "stdout",
     "output_type": "stream",
     "text": [
      "  \u001b[34;1m•\u001b[39;22m \u001b[39mInstalling \u001b[39m\u001b[36mtyping-extensions\u001b[39m\u001b[39m (\u001b[39m\u001b[39;1m4.9.0\u001b[39;22m\u001b[39m)\u001b[39m: \u001b[34mPending...\u001b[39m\n"
     ]
    },
    {
     "name": "stdout",
     "output_type": "stream",
     "text": [
      "\u001b[2A\u001b[0J  \u001b[34;1m•\u001b[39;22m \u001b[39mInstalling \u001b[39m\u001b[36mtyping-extensions\u001b[39m\u001b[39m (\u001b[39m\u001b[39;1m4.9.0\u001b[39;22m\u001b[39m)\u001b[39m: \u001b[34mPending...\u001b[39m\n"
     ]
    },
    {
     "name": "stdout",
     "output_type": "stream",
     "text": [
      "\u001b[1A\u001b[0J  \u001b[34;1m•\u001b[39;22m \u001b[39mInstalling \u001b[39m\u001b[36msmmap\u001b[39m\u001b[39m (\u001b[39m\u001b[39;1m5.0.1\u001b[39;22m\u001b[39m)\u001b[39m: \u001b[34mInstalling...\u001b[39m\n"
     ]
    },
    {
     "name": "stdout",
     "output_type": "stream",
     "text": [
      "  \u001b[34;1m•\u001b[39;22m \u001b[39mInstalling \u001b[39m\u001b[36mtyping-extensions\u001b[39m\u001b[39m (\u001b[39m\u001b[39;1m4.9.0\u001b[39;22m\u001b[39m)\u001b[39m: \u001b[34mPending...\u001b[39m\n"
     ]
    },
    {
     "name": "stdout",
     "output_type": "stream",
     "text": [
      "\u001b[1A\u001b[0J  \u001b[34;1m•\u001b[39;22m \u001b[39mInstalling \u001b[39m\u001b[36mtyping-extensions\u001b[39m\u001b[39m (\u001b[39m\u001b[39;1m4.9.0\u001b[39;22m\u001b[39m)\u001b[39m: \u001b[34mInstalling...\u001b[39m\n"
     ]
    },
    {
     "name": "stdout",
     "output_type": "stream",
     "text": [
      "\u001b[1A\u001b[0J  \u001b[32;1m•\u001b[39;22m \u001b[39mInstalling \u001b[39m\u001b[36mtyping-extensions\u001b[39m\u001b[39m (\u001b[39m\u001b[32m4.9.0\u001b[39m\u001b[39m)\u001b[39m\n"
     ]
    },
    {
     "name": "stdout",
     "output_type": "stream",
     "text": [
      "\u001b[4A\u001b[0J  \u001b[34;1m•\u001b[39;22m \u001b[39mInstalling \u001b[39m\u001b[36mrequests\u001b[39m\u001b[39m (\u001b[39m\u001b[39;1m2.31.0\u001b[39;22m\u001b[39m)\u001b[39m: \u001b[34mInstalling...\u001b[39m\n"
     ]
    },
    {
     "name": "stdout",
     "output_type": "stream",
     "text": [
      "  \u001b[34;1m•\u001b[39;22m \u001b[39mInstalling \u001b[39m\u001b[36msmmap\u001b[39m\u001b[39m (\u001b[39m\u001b[39;1m5.0.1\u001b[39;22m\u001b[39m)\u001b[39m: \u001b[34mInstalling...\u001b[39m\n"
     ]
    },
    {
     "name": "stdout",
     "output_type": "stream",
     "text": [
      "  \u001b[32;1m•\u001b[39;22m \u001b[39mInstalling \u001b[39m\u001b[36mtyping-extensions\u001b[39m\u001b[39m (\u001b[39m\u001b[32m4.9.0\u001b[39m\u001b[39m)\u001b[39m\n"
     ]
    },
    {
     "name": "stdout",
     "output_type": "stream",
     "text": [
      "\u001b[3A\u001b[0J  \u001b[32;1m•\u001b[39;22m \u001b[39mInstalling \u001b[39m\u001b[36mmdurl\u001b[39m\u001b[39m (\u001b[39m\u001b[32m0.1.2\u001b[39m\u001b[39m)\u001b[39m\n"
     ]
    },
    {
     "name": "stdout",
     "output_type": "stream",
     "text": [
      "  \u001b[34;1m•\u001b[39;22m \u001b[39mInstalling \u001b[39m\u001b[36mrequests\u001b[39m\u001b[39m (\u001b[39m\u001b[39;1m2.31.0\u001b[39;22m\u001b[39m)\u001b[39m: \u001b[34mInstalling...\u001b[39m\n"
     ]
    },
    {
     "name": "stdout",
     "output_type": "stream",
     "text": [
      "  \u001b[34;1m•\u001b[39;22m \u001b[39mInstalling \u001b[39m\u001b[36msmmap\u001b[39m\u001b[39m (\u001b[39m\u001b[39;1m5.0.1\u001b[39;22m\u001b[39m)\u001b[39m: \u001b[34mInstalling...\u001b[39m\n"
     ]
    },
    {
     "name": "stdout",
     "output_type": "stream",
     "text": [
      "  \u001b[32;1m•\u001b[39;22m \u001b[39mInstalling \u001b[39m\u001b[36mtyping-extensions\u001b[39m\u001b[39m (\u001b[39m\u001b[32m4.9.0\u001b[39m\u001b[39m)\u001b[39m\n"
     ]
    },
    {
     "name": "stdout",
     "output_type": "stream",
     "text": [
      "\u001b[2A\u001b[0J  \u001b[32;1m•\u001b[39;22m \u001b[39mInstalling \u001b[39m\u001b[36mtyping-extensions\u001b[39m\u001b[39m (\u001b[39m\u001b[32m4.9.0\u001b[39m\u001b[39m)\u001b[39m\n"
     ]
    },
    {
     "name": "stdout",
     "output_type": "stream",
     "text": [
      "\u001b[1A\u001b[0J  \u001b[32;1m•\u001b[39;22m \u001b[39mInstalling \u001b[39m\u001b[36msmmap\u001b[39m\u001b[39m (\u001b[39m\u001b[32m5.0.1\u001b[39m\u001b[39m)\u001b[39m\n"
     ]
    },
    {
     "name": "stdout",
     "output_type": "stream",
     "text": [
      "  \u001b[32;1m•\u001b[39;22m \u001b[39mInstalling \u001b[39m\u001b[36mtyping-extensions\u001b[39m\u001b[39m (\u001b[39m\u001b[32m4.9.0\u001b[39m\u001b[39m)\u001b[39m\n"
     ]
    },
    {
     "name": "stdout",
     "output_type": "stream",
     "text": [
      "\u001b[3A\u001b[0J  \u001b[32;1m•\u001b[39;22m \u001b[39mInstalling \u001b[39m\u001b[36msmmap\u001b[39m\u001b[39m (\u001b[39m\u001b[32m5.0.1\u001b[39m\u001b[39m)\u001b[39m\n"
     ]
    },
    {
     "name": "stdout",
     "output_type": "stream",
     "text": [
      "  \u001b[32;1m•\u001b[39;22m \u001b[39mInstalling \u001b[39m\u001b[36mtyping-extensions\u001b[39m\u001b[39m (\u001b[39m\u001b[32m4.9.0\u001b[39m\u001b[39m)\u001b[39m\n"
     ]
    },
    {
     "name": "stdout",
     "output_type": "stream",
     "text": [
      "\u001b[2A\u001b[0J  \u001b[32;1m•\u001b[39;22m \u001b[39mInstalling \u001b[39m\u001b[36mrequests\u001b[39m\u001b[39m (\u001b[39m\u001b[32m2.31.0\u001b[39m\u001b[39m)\u001b[39m\n"
     ]
    },
    {
     "name": "stdout",
     "output_type": "stream",
     "text": [
      "  \u001b[32;1m•\u001b[39;22m \u001b[39mInstalling \u001b[39m\u001b[36msmmap\u001b[39m\u001b[39m (\u001b[39m\u001b[32m5.0.1\u001b[39m\u001b[39m)\u001b[39m\n"
     ]
    },
    {
     "name": "stdout",
     "output_type": "stream",
     "text": [
      "  \u001b[32;1m•\u001b[39;22m \u001b[39mInstalling \u001b[39m\u001b[36mtyping-extensions\u001b[39m\u001b[39m (\u001b[39m\u001b[32m4.9.0\u001b[39m\u001b[39m)\u001b[39m\n"
     ]
    },
    {
     "name": "stdout",
     "output_type": "stream",
     "text": [
      "  \u001b[34;1m•\u001b[39;22m \u001b[39mInstalling \u001b[39m\u001b[36mannotated-types\u001b[39m\u001b[39m (\u001b[39m\u001b[39;1m0.6.0\u001b[39;22m\u001b[39m)\u001b[39m: \u001b[34mPending...\u001b[39m\n"
     ]
    },
    {
     "name": "stdout",
     "output_type": "stream",
     "text": [
      "  \u001b[34;1m•\u001b[39;22m \u001b[39mInstalling \u001b[39m\u001b[36mgitdb\u001b[39m\u001b[39m (\u001b[39m\u001b[39;1m4.0.11\u001b[39;22m\u001b[39m)\u001b[39m: \u001b[34mPending...\u001b[39m\n"
     ]
    },
    {
     "name": "stdout",
     "output_type": "stream",
     "text": [
      "  \u001b[34;1m•\u001b[39;22m \u001b[39mInstalling \u001b[39m\u001b[36mmarkdown-it-py\u001b[39m\u001b[39m (\u001b[39m\u001b[39;1m3.0.0\u001b[39;22m\u001b[39m)\u001b[39m: \u001b[34mPending...\u001b[39m\n"
     ]
    },
    {
     "name": "stdout",
     "output_type": "stream",
     "text": [
      "  \u001b[34;1m•\u001b[39;22m \u001b[39mInstalling \u001b[39m\u001b[36mmarkupsafe\u001b[39m\u001b[39m (\u001b[39m\u001b[39;1m2.1.5\u001b[39;22m\u001b[39m)\u001b[39m: \u001b[34mPending...\u001b[39m\n"
     ]
    },
    {
     "name": "stdout",
     "output_type": "stream",
     "text": [
      "  \u001b[34;1m•\u001b[39;22m \u001b[39mInstalling \u001b[39m\u001b[36mpydantic-core\u001b[39m\u001b[39m (\u001b[39m\u001b[39;1m2.16.2\u001b[39;22m\u001b[39m)\u001b[39m: \u001b[34mPending...\u001b[39m\n"
     ]
    },
    {
     "name": "stdout",
     "output_type": "stream",
     "text": [
      "  \u001b[34;1m•\u001b[39;22m \u001b[39mInstalling \u001b[39m\u001b[36mpygments\u001b[39m\u001b[39m (\u001b[39m\u001b[39;1m2.17.2\u001b[39;22m\u001b[39m)\u001b[39m: \u001b[34mPending...\u001b[39m\n"
     ]
    },
    {
     "name": "stdout",
     "output_type": "stream",
     "text": [
      "  \u001b[34;1m•\u001b[39;22m \u001b[39mInstalling \u001b[39m\u001b[36mrequests-toolbelt\u001b[39m\u001b[39m (\u001b[39m\u001b[39;1m1.0.0\u001b[39;22m\u001b[39m)\u001b[39m: \u001b[34mPending...\u001b[39m\n"
     ]
    },
    {
     "name": "stdout",
     "output_type": "stream",
     "text": [
      "  \u001b[34;1m•\u001b[39;22m \u001b[39mInstalling \u001b[39m\u001b[36mzipp\u001b[39m\u001b[39m (\u001b[39m\u001b[39;1m3.17.0\u001b[39;22m\u001b[39m)\u001b[39m: \u001b[34mPending...\u001b[39m\n"
     ]
    },
    {
     "name": "stdout",
     "output_type": "stream",
     "text": [
      "\u001b[7A\u001b[0J  \u001b[34;1m•\u001b[39;22m \u001b[39mInstalling \u001b[39m\u001b[36mmarkdown-it-py\u001b[39m\u001b[39m (\u001b[39m\u001b[39;1m3.0.0\u001b[39;22m\u001b[39m)\u001b[39m: \u001b[34mPending...\u001b[39m\n"
     ]
    },
    {
     "name": "stdout",
     "output_type": "stream",
     "text": [
      "  \u001b[34;1m•\u001b[39;22m \u001b[39mInstalling \u001b[39m\u001b[36mmarkupsafe\u001b[39m\u001b[39m (\u001b[39m\u001b[39;1m2.1.5\u001b[39;22m\u001b[39m)\u001b[39m: \u001b[34mPending...\u001b[39m\n"
     ]
    },
    {
     "name": "stdout",
     "output_type": "stream",
     "text": [
      "  \u001b[34;1m•\u001b[39;22m \u001b[39mInstalling \u001b[39m\u001b[36mpydantic-core\u001b[39m\u001b[39m (\u001b[39m\u001b[39;1m2.16.2\u001b[39;22m\u001b[39m)\u001b[39m: \u001b[34mPending...\u001b[39m\n"
     ]
    },
    {
     "name": "stdout",
     "output_type": "stream",
     "text": [
      "  \u001b[34;1m•\u001b[39;22m \u001b[39mInstalling \u001b[39m\u001b[36mpygments\u001b[39m\u001b[39m (\u001b[39m\u001b[39;1m2.17.2\u001b[39;22m\u001b[39m)\u001b[39m: \u001b[34mPending...\u001b[39m\n"
     ]
    },
    {
     "name": "stdout",
     "output_type": "stream",
     "text": [
      "  \u001b[34;1m•\u001b[39;22m \u001b[39mInstalling \u001b[39m\u001b[36mrequests-toolbelt\u001b[39m\u001b[39m (\u001b[39m\u001b[39;1m1.0.0\u001b[39;22m\u001b[39m)\u001b[39m: \u001b[34mPending...\u001b[39m\n"
     ]
    },
    {
     "name": "stdout",
     "output_type": "stream",
     "text": [
      "  \u001b[34;1m•\u001b[39;22m \u001b[39mInstalling \u001b[39m\u001b[36mzipp\u001b[39m\u001b[39m (\u001b[39m\u001b[39;1m3.17.0\u001b[39;22m\u001b[39m)\u001b[39m: \u001b[34mPending...\u001b[39m\n"
     ]
    },
    {
     "name": "stdout",
     "output_type": "stream",
     "text": [
      "\u001b[6A\u001b[0J  \u001b[34;1m•\u001b[39;22m \u001b[39mInstalling \u001b[39m\u001b[36mgitdb\u001b[39m\u001b[39m (\u001b[39m\u001b[39;1m4.0.11\u001b[39;22m\u001b[39m)\u001b[39m: \u001b[34mInstalling...\u001b[39m\n"
     ]
    },
    {
     "name": "stdout",
     "output_type": "stream",
     "text": [
      "  \u001b[34;1m•\u001b[39;22m \u001b[39mInstalling \u001b[39m\u001b[36mmarkdown-it-py\u001b[39m\u001b[39m (\u001b[39m\u001b[39;1m3.0.0\u001b[39;22m\u001b[39m)\u001b[39m: \u001b[34mPending...\u001b[39m\n"
     ]
    },
    {
     "name": "stdout",
     "output_type": "stream",
     "text": [
      "  \u001b[34;1m•\u001b[39;22m \u001b[39mInstalling \u001b[39m\u001b[36mmarkupsafe\u001b[39m\u001b[39m (\u001b[39m\u001b[39;1m2.1.5\u001b[39;22m\u001b[39m)\u001b[39m: \u001b[34mPending...\u001b[39m\n"
     ]
    },
    {
     "name": "stdout",
     "output_type": "stream",
     "text": [
      "  \u001b[34;1m•\u001b[39;22m \u001b[39mInstalling \u001b[39m\u001b[36mpydantic-core\u001b[39m\u001b[39m (\u001b[39m\u001b[39;1m2.16.2\u001b[39;22m\u001b[39m)\u001b[39m: \u001b[34mPending...\u001b[39m\n"
     ]
    },
    {
     "name": "stdout",
     "output_type": "stream",
     "text": [
      "  \u001b[34;1m•\u001b[39;22m \u001b[39mInstalling \u001b[39m\u001b[36mpygments\u001b[39m\u001b[39m (\u001b[39m\u001b[39;1m2.17.2\u001b[39;22m\u001b[39m)\u001b[39m: \u001b[34mPending...\u001b[39m\n"
     ]
    },
    {
     "name": "stdout",
     "output_type": "stream",
     "text": [
      "  \u001b[34;1m•\u001b[39;22m \u001b[39mInstalling \u001b[39m\u001b[36mrequests-toolbelt\u001b[39m\u001b[39m (\u001b[39m\u001b[39;1m1.0.0\u001b[39;22m\u001b[39m)\u001b[39m: \u001b[34mPending...\u001b[39m\n"
     ]
    },
    {
     "name": "stdout",
     "output_type": "stream",
     "text": [
      "  \u001b[34;1m•\u001b[39;22m \u001b[39mInstalling \u001b[39m\u001b[36mzipp\u001b[39m\u001b[39m (\u001b[39m\u001b[39;1m3.17.0\u001b[39;22m\u001b[39m)\u001b[39m: \u001b[34mPending...\u001b[39m\n"
     ]
    },
    {
     "name": "stdout",
     "output_type": "stream",
     "text": [
      "\u001b[5A\u001b[0J  \u001b[34;1m•\u001b[39;22m \u001b[39mInstalling \u001b[39m\u001b[36mpydantic-core\u001b[39m\u001b[39m (\u001b[39m\u001b[39;1m2.16.2\u001b[39;22m\u001b[39m)\u001b[39m: \u001b[34mPending...\u001b[39m\n"
     ]
    },
    {
     "name": "stdout",
     "output_type": "stream",
     "text": [
      "  \u001b[34;1m•\u001b[39;22m \u001b[39mInstalling \u001b[39m\u001b[36mpygments\u001b[39m\u001b[39m (\u001b[39m\u001b[39;1m2.17.2\u001b[39;22m\u001b[39m)\u001b[39m: \u001b[34mPending...\u001b[39m\n"
     ]
    },
    {
     "name": "stdout",
     "output_type": "stream",
     "text": [
      "  \u001b[34;1m•\u001b[39;22m \u001b[39mInstalling \u001b[39m\u001b[36mrequests-toolbelt\u001b[39m\u001b[39m (\u001b[39m\u001b[39;1m1.0.0\u001b[39;22m\u001b[39m)\u001b[39m: \u001b[34mPending...\u001b[39m\n"
     ]
    },
    {
     "name": "stdout",
     "output_type": "stream",
     "text": [
      "  \u001b[34;1m•\u001b[39;22m \u001b[39mInstalling \u001b[39m\u001b[36mzipp\u001b[39m\u001b[39m (\u001b[39m\u001b[39;1m3.17.0\u001b[39;22m\u001b[39m)\u001b[39m: \u001b[34mPending...\u001b[39m\n"
     ]
    },
    {
     "name": "stdout",
     "output_type": "stream",
     "text": [
      "\u001b[4A\u001b[0J  \u001b[34;1m•\u001b[39;22m \u001b[39mInstalling \u001b[39m\u001b[36mmarkupsafe\u001b[39m\u001b[39m (\u001b[39m\u001b[39;1m2.1.5\u001b[39;22m\u001b[39m)\u001b[39m: \u001b[34mInstalling...\u001b[39m\n"
     ]
    },
    {
     "name": "stdout",
     "output_type": "stream",
     "text": [
      "  \u001b[34;1m•\u001b[39;22m \u001b[39mInstalling \u001b[39m\u001b[36mpydantic-core\u001b[39m\u001b[39m (\u001b[39m\u001b[39;1m2.16.2\u001b[39;22m\u001b[39m)\u001b[39m: \u001b[34mPending...\u001b[39m\n"
     ]
    },
    {
     "name": "stdout",
     "output_type": "stream",
     "text": [
      "  \u001b[34;1m•\u001b[39;22m \u001b[39mInstalling \u001b[39m\u001b[36mpygments\u001b[39m\u001b[39m (\u001b[39m\u001b[39;1m2.17.2\u001b[39;22m\u001b[39m)\u001b[39m: \u001b[34mPending...\u001b[39m\n"
     ]
    },
    {
     "name": "stdout",
     "output_type": "stream",
     "text": [
      "  \u001b[34;1m•\u001b[39;22m \u001b[39mInstalling \u001b[39m\u001b[36mrequests-toolbelt\u001b[39m\u001b[39m (\u001b[39m\u001b[39;1m1.0.0\u001b[39;22m\u001b[39m)\u001b[39m: \u001b[34mPending...\u001b[39m\n"
     ]
    },
    {
     "name": "stdout",
     "output_type": "stream",
     "text": [
      "  \u001b[34;1m•\u001b[39;22m \u001b[39mInstalling \u001b[39m\u001b[36mzipp\u001b[39m\u001b[39m (\u001b[39m\u001b[39;1m3.17.0\u001b[39;22m\u001b[39m)\u001b[39m: \u001b[34mPending...\u001b[39m\n"
     ]
    },
    {
     "name": "stdout",
     "output_type": "stream",
     "text": [
      "\u001b[8A\u001b[0J  \u001b[34;1m•\u001b[39;22m \u001b[39mInstalling \u001b[39m\u001b[36mgitdb\u001b[39m\u001b[39m (\u001b[39m\u001b[39;1m4.0.11\u001b[39;22m\u001b[39m)\u001b[39m: \u001b[34mInstalling...\u001b[39m\n"
     ]
    },
    {
     "name": "stdout",
     "output_type": "stream",
     "text": [
      "  \u001b[34;1m•\u001b[39;22m \u001b[39mInstalling \u001b[39m\u001b[36mmarkdown-it-py\u001b[39m\u001b[39m (\u001b[39m\u001b[39;1m3.0.0\u001b[39;22m\u001b[39m)\u001b[39m: \u001b[34mPending...\u001b[39m\n"
     ]
    },
    {
     "name": "stdout",
     "output_type": "stream",
     "text": [
      "  \u001b[34;1m•\u001b[39;22m \u001b[39mInstalling \u001b[39m\u001b[36mmarkupsafe\u001b[39m\u001b[39m (\u001b[39m\u001b[39;1m2.1.5\u001b[39;22m\u001b[39m)\u001b[39m: \u001b[34mInstalling...\u001b[39m\n"
     ]
    },
    {
     "name": "stdout",
     "output_type": "stream",
     "text": [
      "  \u001b[34;1m•\u001b[39;22m \u001b[39mInstalling \u001b[39m\u001b[36mpydantic-core\u001b[39m\u001b[39m (\u001b[39m\u001b[39;1m2.16.2\u001b[39;22m\u001b[39m)\u001b[39m: \u001b[34mPending...\u001b[39m\n"
     ]
    },
    {
     "name": "stdout",
     "output_type": "stream",
     "text": [
      "  \u001b[34;1m•\u001b[39;22m \u001b[39mInstalling \u001b[39m\u001b[36mpygments\u001b[39m\u001b[39m (\u001b[39m\u001b[39;1m2.17.2\u001b[39;22m\u001b[39m)\u001b[39m: \u001b[34mPending...\u001b[39m\n"
     ]
    },
    {
     "name": "stdout",
     "output_type": "stream",
     "text": [
      "  \u001b[34;1m•\u001b[39;22m \u001b[39mInstalling \u001b[39m\u001b[36mrequests-toolbelt\u001b[39m\u001b[39m (\u001b[39m\u001b[39;1m1.0.0\u001b[39;22m\u001b[39m)\u001b[39m: \u001b[34mPending...\u001b[39m\n"
     ]
    },
    {
     "name": "stdout",
     "output_type": "stream",
     "text": [
      "  \u001b[34;1m•\u001b[39;22m \u001b[39mInstalling \u001b[39m\u001b[36mzipp\u001b[39m\u001b[39m (\u001b[39m\u001b[39;1m3.17.0\u001b[39;22m\u001b[39m)\u001b[39m: \u001b[34mPending...\u001b[39m\n"
     ]
    },
    {
     "name": "stdout",
     "output_type": "stream",
     "text": [
      "\u001b[7A\u001b[0J  \u001b[34;1m•\u001b[39;22m \u001b[39mInstalling \u001b[39m\u001b[36mannotated-types\u001b[39m\u001b[39m (\u001b[39m\u001b[39;1m0.6.0\u001b[39;22m\u001b[39m)\u001b[39m: \u001b[34mInstalling...\u001b[39m\n"
     ]
    },
    {
     "name": "stdout",
     "output_type": "stream",
     "text": [
      "  \u001b[34;1m•\u001b[39;22m \u001b[39mInstalling \u001b[39m\u001b[36mgitdb\u001b[39m\u001b[39m (\u001b[39m\u001b[39;1m4.0.11\u001b[39;22m\u001b[39m)\u001b[39m: \u001b[34mInstalling...\u001b[39m\n"
     ]
    },
    {
     "name": "stdout",
     "output_type": "stream",
     "text": [
      "  \u001b[34;1m•\u001b[39;22m \u001b[39mInstalling \u001b[39m\u001b[36mmarkdown-it-py\u001b[39m\u001b[39m (\u001b[39m\u001b[39;1m3.0.0\u001b[39;22m\u001b[39m)\u001b[39m: \u001b[34mPending...\u001b[39m\n"
     ]
    },
    {
     "name": "stdout",
     "output_type": "stream",
     "text": [
      "  \u001b[34;1m•\u001b[39;22m \u001b[39mInstalling \u001b[39m\u001b[36mmarkupsafe\u001b[39m\u001b[39m (\u001b[39m\u001b[39;1m2.1.5\u001b[39;22m\u001b[39m)\u001b[39m: \u001b[34mInstalling...\u001b[39m\n"
     ]
    },
    {
     "name": "stdout",
     "output_type": "stream",
     "text": [
      "  \u001b[34;1m•\u001b[39;22m \u001b[39mInstalling \u001b[39m\u001b[36mpydantic-core\u001b[39m\u001b[39m (\u001b[39m\u001b[39;1m2.16.2\u001b[39;22m\u001b[39m)\u001b[39m: \u001b[34mPending...\u001b[39m\n"
     ]
    },
    {
     "name": "stdout",
     "output_type": "stream",
     "text": [
      "  \u001b[34;1m•\u001b[39;22m \u001b[39mInstalling \u001b[39m\u001b[36mpygments\u001b[39m\u001b[39m (\u001b[39m\u001b[39;1m2.17.2\u001b[39;22m\u001b[39m)\u001b[39m: \u001b[34mPending...\u001b[39m\n"
     ]
    },
    {
     "name": "stdout",
     "output_type": "stream",
     "text": [
      "  \u001b[34;1m•\u001b[39;22m \u001b[39mInstalling \u001b[39m\u001b[36mrequests-toolbelt\u001b[39m\u001b[39m (\u001b[39m\u001b[39;1m1.0.0\u001b[39;22m\u001b[39m)\u001b[39m: \u001b[34mPending...\u001b[39m\n"
     ]
    },
    {
     "name": "stdout",
     "output_type": "stream",
     "text": [
      "  \u001b[34;1m•\u001b[39;22m \u001b[39mInstalling \u001b[39m\u001b[36mzipp\u001b[39m\u001b[39m (\u001b[39m\u001b[39;1m3.17.0\u001b[39;22m\u001b[39m)\u001b[39m: \u001b[34mPending...\u001b[39m\n"
     ]
    },
    {
     "name": "stdout",
     "output_type": "stream",
     "text": [
      "\u001b[6A\u001b[0J  \u001b[34;1m•\u001b[39;22m \u001b[39mInstalling \u001b[39m\u001b[36mmarkupsafe\u001b[39m\u001b[39m (\u001b[39m\u001b[39;1m2.1.5\u001b[39;22m\u001b[39m)\u001b[39m: \u001b[34mInstalling...\u001b[39m\n"
     ]
    },
    {
     "name": "stdout",
     "output_type": "stream",
     "text": [
      "  \u001b[34;1m•\u001b[39;22m \u001b[39mInstalling \u001b[39m\u001b[36mpydantic-core\u001b[39m\u001b[39m (\u001b[39m\u001b[39;1m2.16.2\u001b[39;22m\u001b[39m)\u001b[39m: \u001b[34mPending...\u001b[39m\n"
     ]
    },
    {
     "name": "stdout",
     "output_type": "stream",
     "text": [
      "  \u001b[34;1m•\u001b[39;22m \u001b[39mInstalling \u001b[39m\u001b[36mpygments\u001b[39m\u001b[39m (\u001b[39m\u001b[39;1m2.17.2\u001b[39;22m\u001b[39m)\u001b[39m: \u001b[34mPending...\u001b[39m\n"
     ]
    },
    {
     "name": "stdout",
     "output_type": "stream",
     "text": [
      "  \u001b[34;1m•\u001b[39;22m \u001b[39mInstalling \u001b[39m\u001b[36mrequests-toolbelt\u001b[39m\u001b[39m (\u001b[39m\u001b[39;1m1.0.0\u001b[39;22m\u001b[39m)\u001b[39m: \u001b[34mPending...\u001b[39m\n"
     ]
    },
    {
     "name": "stdout",
     "output_type": "stream",
     "text": [
      "  \u001b[34;1m•\u001b[39;22m \u001b[39mInstalling \u001b[39m\u001b[36mzipp\u001b[39m\u001b[39m (\u001b[39m\u001b[39;1m3.17.0\u001b[39;22m\u001b[39m)\u001b[39m: \u001b[34mPending...\u001b[39m\n"
     ]
    },
    {
     "name": "stdout",
     "output_type": "stream",
     "text": [
      "\u001b[5A\u001b[0J  \u001b[34;1m•\u001b[39;22m \u001b[39mInstalling \u001b[39m\u001b[36mmarkdown-it-py\u001b[39m\u001b[39m (\u001b[39m\u001b[39;1m3.0.0\u001b[39;22m\u001b[39m)\u001b[39m: \u001b[34mInstalling...\u001b[39m\n"
     ]
    },
    {
     "name": "stdout",
     "output_type": "stream",
     "text": [
      "  \u001b[34;1m•\u001b[39;22m \u001b[39mInstalling \u001b[39m\u001b[36mmarkupsafe\u001b[39m\u001b[39m (\u001b[39m\u001b[39;1m2.1.5\u001b[39;22m\u001b[39m)\u001b[39m: \u001b[34mInstalling...\u001b[39m\n"
     ]
    },
    {
     "name": "stdout",
     "output_type": "stream",
     "text": [
      "  \u001b[34;1m•\u001b[39;22m \u001b[39mInstalling \u001b[39m\u001b[36mpydantic-core\u001b[39m\u001b[39m (\u001b[39m\u001b[39;1m2.16.2\u001b[39;22m\u001b[39m)\u001b[39m: \u001b[34mPending...\u001b[39m\n"
     ]
    },
    {
     "name": "stdout",
     "output_type": "stream",
     "text": [
      "  \u001b[34;1m•\u001b[39;22m \u001b[39mInstalling \u001b[39m\u001b[36mpygments\u001b[39m\u001b[39m (\u001b[39m\u001b[39;1m2.17.2\u001b[39;22m\u001b[39m)\u001b[39m: \u001b[34mPending...\u001b[39m\n"
     ]
    },
    {
     "name": "stdout",
     "output_type": "stream",
     "text": [
      "  \u001b[34;1m•\u001b[39;22m \u001b[39mInstalling \u001b[39m\u001b[36mrequests-toolbelt\u001b[39m\u001b[39m (\u001b[39m\u001b[39;1m1.0.0\u001b[39;22m\u001b[39m)\u001b[39m: \u001b[34mPending...\u001b[39m\n"
     ]
    },
    {
     "name": "stdout",
     "output_type": "stream",
     "text": [
      "  \u001b[34;1m•\u001b[39;22m \u001b[39mInstalling \u001b[39m\u001b[36mzipp\u001b[39m\u001b[39m (\u001b[39m\u001b[39;1m3.17.0\u001b[39;22m\u001b[39m)\u001b[39m: \u001b[34mPending...\u001b[39m\n"
     ]
    },
    {
     "name": "stdout",
     "output_type": "stream",
     "text": [
      "\u001b[1A\u001b[0J  \u001b[34;1m•\u001b[39;22m \u001b[39mInstalling \u001b[39m\u001b[36mzipp\u001b[39m\u001b[39m (\u001b[39m\u001b[39;1m3.17.0\u001b[39;22m\u001b[39m)\u001b[39m: \u001b[34mInstalling...\u001b[39m\n"
     ]
    },
    {
     "name": "stdout",
     "output_type": "stream",
     "text": [
      "\u001b[2A\u001b[0J  \u001b[34;1m•\u001b[39;22m \u001b[39mInstalling \u001b[39m\u001b[36mzipp\u001b[39m\u001b[39m (\u001b[39m\u001b[39;1m3.17.0\u001b[39;22m\u001b[39m)\u001b[39m: \u001b[34mInstalling...\u001b[39m\n"
     ]
    },
    {
     "name": "stdout",
     "output_type": "stream",
     "text": [
      "\u001b[1A\u001b[0J  \u001b[34;1m•\u001b[39;22m \u001b[39mInstalling \u001b[39m\u001b[36mrequests-toolbelt\u001b[39m\u001b[39m (\u001b[39m\u001b[39;1m1.0.0\u001b[39;22m\u001b[39m)\u001b[39m: \u001b[34mInstalling...\u001b[39m\n"
     ]
    },
    {
     "name": "stdout",
     "output_type": "stream",
     "text": [
      "  \u001b[34;1m•\u001b[39;22m \u001b[39mInstalling \u001b[39m\u001b[36mzipp\u001b[39m\u001b[39m (\u001b[39m\u001b[39;1m3.17.0\u001b[39;22m\u001b[39m)\u001b[39m: \u001b[34mInstalling...\u001b[39m\n"
     ]
    },
    {
     "name": "stdout",
     "output_type": "stream",
     "text": [
      "\u001b[3A\u001b[0J  \u001b[34;1m•\u001b[39;22m \u001b[39mInstalling \u001b[39m\u001b[36mrequests-toolbelt\u001b[39m\u001b[39m (\u001b[39m\u001b[39;1m1.0.0\u001b[39;22m\u001b[39m)\u001b[39m: \u001b[34mInstalling...\u001b[39m\n"
     ]
    },
    {
     "name": "stdout",
     "output_type": "stream",
     "text": [
      "  \u001b[34;1m•\u001b[39;22m \u001b[39mInstalling \u001b[39m\u001b[36mzipp\u001b[39m\u001b[39m (\u001b[39m\u001b[39;1m3.17.0\u001b[39;22m\u001b[39m)\u001b[39m: \u001b[34mInstalling...\u001b[39m\n"
     ]
    },
    {
     "name": "stdout",
     "output_type": "stream",
     "text": [
      "\u001b[2A\u001b[0J  \u001b[34;1m•\u001b[39;22m \u001b[39mInstalling \u001b[39m\u001b[36mpygments\u001b[39m\u001b[39m (\u001b[39m\u001b[39;1m2.17.2\u001b[39;22m\u001b[39m)\u001b[39m: \u001b[34mInstalling...\u001b[39m\n"
     ]
    },
    {
     "name": "stdout",
     "output_type": "stream",
     "text": [
      "  \u001b[34;1m•\u001b[39;22m \u001b[39mInstalling \u001b[39m\u001b[36mrequests-toolbelt\u001b[39m\u001b[39m (\u001b[39m\u001b[39;1m1.0.0\u001b[39;22m\u001b[39m)\u001b[39m: \u001b[34mInstalling...\u001b[39m\n"
     ]
    },
    {
     "name": "stdout",
     "output_type": "stream",
     "text": [
      "  \u001b[34;1m•\u001b[39;22m \u001b[39mInstalling \u001b[39m\u001b[36mzipp\u001b[39m\u001b[39m (\u001b[39m\u001b[39;1m3.17.0\u001b[39;22m\u001b[39m)\u001b[39m: \u001b[34mInstalling...\u001b[39m\n"
     ]
    },
    {
     "name": "stdout",
     "output_type": "stream",
     "text": [
      "\u001b[8A\u001b[0J  \u001b[34;1m•\u001b[39;22m \u001b[39mInstalling \u001b[39m\u001b[36mgitdb\u001b[39m\u001b[39m (\u001b[39m\u001b[39;1m4.0.11\u001b[39;22m\u001b[39m)\u001b[39m: \u001b[34mInstalling...\u001b[39m\n"
     ]
    },
    {
     "name": "stdout",
     "output_type": "stream",
     "text": [
      "  \u001b[34;1m•\u001b[39;22m \u001b[39mInstalling \u001b[39m\u001b[36mmarkdown-it-py\u001b[39m\u001b[39m (\u001b[39m\u001b[39;1m3.0.0\u001b[39;22m\u001b[39m)\u001b[39m: \u001b[34mInstalling...\u001b[39m\n"
     ]
    },
    {
     "name": "stdout",
     "output_type": "stream",
     "text": [
      "  \u001b[34;1m•\u001b[39;22m \u001b[39mInstalling \u001b[39m\u001b[36mmarkupsafe\u001b[39m\u001b[39m (\u001b[39m\u001b[39;1m2.1.5\u001b[39;22m\u001b[39m)\u001b[39m: \u001b[34mInstalling...\u001b[39m\n"
     ]
    },
    {
     "name": "stdout",
     "output_type": "stream",
     "text": [
      "  \u001b[34;1m•\u001b[39;22m \u001b[39mInstalling \u001b[39m\u001b[36mpydantic-core\u001b[39m\u001b[39m (\u001b[39m\u001b[39;1m2.16.2\u001b[39;22m\u001b[39m)\u001b[39m: \u001b[34mPending...\u001b[39m\n"
     ]
    },
    {
     "name": "stdout",
     "output_type": "stream",
     "text": [
      "  \u001b[34;1m•\u001b[39;22m \u001b[39mInstalling \u001b[39m\u001b[36mpygments\u001b[39m\u001b[39m (\u001b[39m\u001b[39;1m2.17.2\u001b[39;22m\u001b[39m)\u001b[39m: \u001b[34mInstalling...\u001b[39m\n"
     ]
    },
    {
     "name": "stdout",
     "output_type": "stream",
     "text": [
      "  \u001b[34;1m•\u001b[39;22m \u001b[39mInstalling \u001b[39m\u001b[36mrequests-toolbelt\u001b[39m\u001b[39m (\u001b[39m\u001b[39;1m1.0.0\u001b[39;22m\u001b[39m)\u001b[39m: \u001b[34mInstalling...\u001b[39m\n"
     ]
    },
    {
     "name": "stdout",
     "output_type": "stream",
     "text": [
      "  \u001b[34;1m•\u001b[39;22m \u001b[39mInstalling \u001b[39m\u001b[36mzipp\u001b[39m\u001b[39m (\u001b[39m\u001b[39;1m3.17.0\u001b[39;22m\u001b[39m)\u001b[39m: \u001b[34mInstalling...\u001b[39m\n"
     ]
    },
    {
     "name": "stdout",
     "output_type": "stream",
     "text": [
      "\u001b[7A\u001b[0J  \u001b[32;1m•\u001b[39;22m \u001b[39mInstalling \u001b[39m\u001b[36mannotated-types\u001b[39m\u001b[39m (\u001b[39m\u001b[32m0.6.0\u001b[39m\u001b[39m)\u001b[39m\n"
     ]
    },
    {
     "name": "stdout",
     "output_type": "stream",
     "text": [
      "  \u001b[34;1m•\u001b[39;22m \u001b[39mInstalling \u001b[39m\u001b[36mgitdb\u001b[39m\u001b[39m (\u001b[39m\u001b[39;1m4.0.11\u001b[39;22m\u001b[39m)\u001b[39m: \u001b[34mInstalling...\u001b[39m\n"
     ]
    },
    {
     "name": "stdout",
     "output_type": "stream",
     "text": [
      "  \u001b[34;1m•\u001b[39;22m \u001b[39mInstalling \u001b[39m\u001b[36mmarkdown-it-py\u001b[39m\u001b[39m (\u001b[39m\u001b[39;1m3.0.0\u001b[39;22m\u001b[39m)\u001b[39m: \u001b[34mInstalling...\u001b[39m\n"
     ]
    },
    {
     "name": "stdout",
     "output_type": "stream",
     "text": [
      "  \u001b[34;1m•\u001b[39;22m \u001b[39mInstalling \u001b[39m\u001b[36mmarkupsafe\u001b[39m\u001b[39m (\u001b[39m\u001b[39;1m2.1.5\u001b[39;22m\u001b[39m)\u001b[39m: \u001b[34mInstalling...\u001b[39m\n"
     ]
    },
    {
     "name": "stdout",
     "output_type": "stream",
     "text": [
      "  \u001b[34;1m•\u001b[39;22m \u001b[39mInstalling \u001b[39m\u001b[36mpydantic-core\u001b[39m\u001b[39m (\u001b[39m\u001b[39;1m2.16.2\u001b[39;22m\u001b[39m)\u001b[39m: \u001b[34mPending...\u001b[39m\n"
     ]
    },
    {
     "name": "stdout",
     "output_type": "stream",
     "text": [
      "  \u001b[34;1m•\u001b[39;22m \u001b[39mInstalling \u001b[39m\u001b[36mpygments\u001b[39m\u001b[39m (\u001b[39m\u001b[39;1m2.17.2\u001b[39;22m\u001b[39m)\u001b[39m: \u001b[34mInstalling...\u001b[39m\n"
     ]
    },
    {
     "name": "stdout",
     "output_type": "stream",
     "text": [
      "  \u001b[34;1m•\u001b[39;22m \u001b[39mInstalling \u001b[39m\u001b[36mrequests-toolbelt\u001b[39m\u001b[39m (\u001b[39m\u001b[39;1m1.0.0\u001b[39;22m\u001b[39m)\u001b[39m: \u001b[34mInstalling...\u001b[39m\n"
     ]
    },
    {
     "name": "stdout",
     "output_type": "stream",
     "text": [
      "  \u001b[34;1m•\u001b[39;22m \u001b[39mInstalling \u001b[39m\u001b[36mzipp\u001b[39m\u001b[39m (\u001b[39m\u001b[39;1m3.17.0\u001b[39;22m\u001b[39m)\u001b[39m: \u001b[34mInstalling...\u001b[39m\n"
     ]
    },
    {
     "name": "stdout",
     "output_type": "stream",
     "text": [
      "\u001b[1A\u001b[0J  \u001b[32;1m•\u001b[39;22m \u001b[39mInstalling \u001b[39m\u001b[36mzipp\u001b[39m\u001b[39m (\u001b[39m\u001b[32m3.17.0\u001b[39m\u001b[39m)\u001b[39m\n"
     ]
    },
    {
     "name": "stdout",
     "output_type": "stream",
     "text": [
      "\u001b[5A\u001b[0J  \u001b[34;1m•\u001b[39;22m \u001b[39mInstalling \u001b[39m\u001b[36mpydantic-core\u001b[39m\u001b[39m (\u001b[39m\u001b[39;1m2.16.2\u001b[39;22m\u001b[39m)\u001b[39m: \u001b[34mPending...\u001b[39m\n"
     ]
    },
    {
     "name": "stdout",
     "output_type": "stream",
     "text": [
      "  \u001b[34;1m•\u001b[39;22m \u001b[39mInstalling \u001b[39m\u001b[36mpygments\u001b[39m\u001b[39m (\u001b[39m\u001b[39;1m2.17.2\u001b[39;22m\u001b[39m)\u001b[39m: \u001b[34mInstalling...\u001b[39m\n"
     ]
    },
    {
     "name": "stdout",
     "output_type": "stream",
     "text": [
      "  \u001b[34;1m•\u001b[39;22m \u001b[39mInstalling \u001b[39m\u001b[36mrequests-toolbelt\u001b[39m\u001b[39m (\u001b[39m\u001b[39;1m1.0.0\u001b[39;22m\u001b[39m)\u001b[39m: \u001b[34mInstalling...\u001b[39m\n"
     ]
    },
    {
     "name": "stdout",
     "output_type": "stream",
     "text": [
      "  \u001b[32;1m•\u001b[39;22m \u001b[39mInstalling \u001b[39m\u001b[36mzipp\u001b[39m\u001b[39m (\u001b[39m\u001b[32m3.17.0\u001b[39m\u001b[39m)\u001b[39m\n"
     ]
    },
    {
     "name": "stdout",
     "output_type": "stream",
     "text": [
      "\u001b[4A\u001b[0J  \u001b[32;1m•\u001b[39;22m \u001b[39mInstalling \u001b[39m\u001b[36mmarkupsafe\u001b[39m\u001b[39m (\u001b[39m\u001b[32m2.1.5\u001b[39m\u001b[39m)\u001b[39m\n"
     ]
    },
    {
     "name": "stdout",
     "output_type": "stream",
     "text": [
      "  \u001b[34;1m•\u001b[39;22m \u001b[39mInstalling \u001b[39m\u001b[36mpydantic-core\u001b[39m\u001b[39m (\u001b[39m\u001b[39;1m2.16.2\u001b[39;22m\u001b[39m)\u001b[39m: \u001b[34mPending...\u001b[39m\n"
     ]
    },
    {
     "name": "stdout",
     "output_type": "stream",
     "text": [
      "  \u001b[34;1m•\u001b[39;22m \u001b[39mInstalling \u001b[39m\u001b[36mpygments\u001b[39m\u001b[39m (\u001b[39m\u001b[39;1m2.17.2\u001b[39;22m\u001b[39m)\u001b[39m: \u001b[34mInstalling...\u001b[39m\n"
     ]
    },
    {
     "name": "stdout",
     "output_type": "stream",
     "text": [
      "  \u001b[34;1m•\u001b[39;22m \u001b[39mInstalling \u001b[39m\u001b[36mrequests-toolbelt\u001b[39m\u001b[39m (\u001b[39m\u001b[39;1m1.0.0\u001b[39;22m\u001b[39m)\u001b[39m: \u001b[34mInstalling...\u001b[39m\n"
     ]
    },
    {
     "name": "stdout",
     "output_type": "stream",
     "text": [
      "  \u001b[32;1m•\u001b[39;22m \u001b[39mInstalling \u001b[39m\u001b[36mzipp\u001b[39m\u001b[39m (\u001b[39m\u001b[32m3.17.0\u001b[39m\u001b[39m)\u001b[39m\n"
     ]
    },
    {
     "name": "stdout",
     "output_type": "stream",
     "text": [
      "\u001b[4A\u001b[0J  \u001b[34;1m•\u001b[39;22m \u001b[39mInstalling \u001b[39m\u001b[36mpygments\u001b[39m\u001b[39m (\u001b[39m\u001b[39;1m2.17.2\u001b[39;22m\u001b[39m)\u001b[39m: \u001b[34mInstalling...\u001b[39m\n"
     ]
    },
    {
     "name": "stdout",
     "output_type": "stream",
     "text": [
      "  \u001b[34;1m•\u001b[39;22m \u001b[39mInstalling \u001b[39m\u001b[36mrequests-toolbelt\u001b[39m\u001b[39m (\u001b[39m\u001b[39;1m1.0.0\u001b[39;22m\u001b[39m)\u001b[39m: \u001b[34mInstalling...\u001b[39m\n"
     ]
    },
    {
     "name": "stdout",
     "output_type": "stream",
     "text": [
      "  \u001b[32;1m•\u001b[39;22m \u001b[39mInstalling \u001b[39m\u001b[36mzipp\u001b[39m\u001b[39m (\u001b[39m\u001b[32m3.17.0\u001b[39m\u001b[39m)\u001b[39m\n"
     ]
    },
    {
     "name": "stdout",
     "output_type": "stream",
     "text": [
      "\u001b[3A\u001b[0J  \u001b[34;1m•\u001b[39;22m \u001b[39mInstalling \u001b[39m\u001b[36mpydantic-core\u001b[39m\u001b[39m (\u001b[39m\u001b[39;1m2.16.2\u001b[39;22m\u001b[39m)\u001b[39m: \u001b[34mInstalling...\u001b[39m\n"
     ]
    },
    {
     "name": "stdout",
     "output_type": "stream",
     "text": [
      "  \u001b[34;1m•\u001b[39;22m \u001b[39mInstalling \u001b[39m\u001b[36mpygments\u001b[39m\u001b[39m (\u001b[39m\u001b[39;1m2.17.2\u001b[39;22m\u001b[39m)\u001b[39m: \u001b[34mInstalling...\u001b[39m\n"
     ]
    },
    {
     "name": "stdout",
     "output_type": "stream",
     "text": [
      "  \u001b[34;1m•\u001b[39;22m \u001b[39mInstalling \u001b[39m\u001b[36mrequests-toolbelt\u001b[39m\u001b[39m (\u001b[39m\u001b[39;1m1.0.0\u001b[39;22m\u001b[39m)\u001b[39m: \u001b[34mInstalling...\u001b[39m\n"
     ]
    },
    {
     "name": "stdout",
     "output_type": "stream",
     "text": [
      "  \u001b[32;1m•\u001b[39;22m \u001b[39mInstalling \u001b[39m\u001b[36mzipp\u001b[39m\u001b[39m (\u001b[39m\u001b[32m3.17.0\u001b[39m\u001b[39m)\u001b[39m\n"
     ]
    },
    {
     "name": "stdout",
     "output_type": "stream",
     "text": [
      "\u001b[7A\u001b[0J  \u001b[34;1m•\u001b[39;22m \u001b[39mInstalling \u001b[39m\u001b[36mmarkdown-it-py\u001b[39m\u001b[39m (\u001b[39m\u001b[39;1m3.0.0\u001b[39;22m\u001b[39m)\u001b[39m: \u001b[34mInstalling...\u001b[39m\n"
     ]
    },
    {
     "name": "stdout",
     "output_type": "stream",
     "text": [
      "  \u001b[32;1m•\u001b[39;22m \u001b[39mInstalling \u001b[39m\u001b[36mmarkupsafe\u001b[39m\u001b[39m (\u001b[39m\u001b[32m2.1.5\u001b[39m\u001b[39m)\u001b[39m\n"
     ]
    },
    {
     "name": "stdout",
     "output_type": "stream",
     "text": [
      "  \u001b[34;1m•\u001b[39;22m \u001b[39mInstalling \u001b[39m\u001b[36mpydantic-core\u001b[39m\u001b[39m (\u001b[39m\u001b[39;1m2.16.2\u001b[39;22m\u001b[39m)\u001b[39m: \u001b[34mInstalling...\u001b[39m\n"
     ]
    },
    {
     "name": "stdout",
     "output_type": "stream",
     "text": [
      "  \u001b[34;1m•\u001b[39;22m \u001b[39mInstalling \u001b[39m\u001b[36mpygments\u001b[39m\u001b[39m (\u001b[39m\u001b[39;1m2.17.2\u001b[39;22m\u001b[39m)\u001b[39m: \u001b[34mInstalling...\u001b[39m\n"
     ]
    },
    {
     "name": "stdout",
     "output_type": "stream",
     "text": [
      "  \u001b[34;1m•\u001b[39;22m \u001b[39mInstalling \u001b[39m\u001b[36mrequests-toolbelt\u001b[39m\u001b[39m (\u001b[39m\u001b[39;1m1.0.0\u001b[39;22m\u001b[39m)\u001b[39m: \u001b[34mInstalling...\u001b[39m\n"
     ]
    },
    {
     "name": "stdout",
     "output_type": "stream",
     "text": [
      "  \u001b[32;1m•\u001b[39;22m \u001b[39mInstalling \u001b[39m\u001b[36mzipp\u001b[39m\u001b[39m (\u001b[39m\u001b[32m3.17.0\u001b[39m\u001b[39m)\u001b[39m\n"
     ]
    },
    {
     "name": "stdout",
     "output_type": "stream",
     "text": [
      "\u001b[6A\u001b[0J  \u001b[32;1m•\u001b[39;22m \u001b[39mInstalling \u001b[39m\u001b[36mgitdb\u001b[39m\u001b[39m (\u001b[39m\u001b[32m4.0.11\u001b[39m\u001b[39m)\u001b[39m\n"
     ]
    },
    {
     "name": "stdout",
     "output_type": "stream",
     "text": [
      "  \u001b[34;1m•\u001b[39;22m \u001b[39mInstalling \u001b[39m\u001b[36mmarkdown-it-py\u001b[39m\u001b[39m (\u001b[39m\u001b[39;1m3.0.0\u001b[39;22m\u001b[39m)\u001b[39m: \u001b[34mInstalling...\u001b[39m\n"
     ]
    },
    {
     "name": "stdout",
     "output_type": "stream",
     "text": [
      "  \u001b[32;1m•\u001b[39;22m \u001b[39mInstalling \u001b[39m\u001b[36mmarkupsafe\u001b[39m\u001b[39m (\u001b[39m\u001b[32m2.1.5\u001b[39m\u001b[39m)\u001b[39m\n"
     ]
    },
    {
     "name": "stdout",
     "output_type": "stream",
     "text": [
      "  \u001b[34;1m•\u001b[39;22m \u001b[39mInstalling \u001b[39m\u001b[36mpydantic-core\u001b[39m\u001b[39m (\u001b[39m\u001b[39;1m2.16.2\u001b[39;22m\u001b[39m)\u001b[39m: \u001b[34mInstalling...\u001b[39m\n"
     ]
    },
    {
     "name": "stdout",
     "output_type": "stream",
     "text": [
      "  \u001b[34;1m•\u001b[39;22m \u001b[39mInstalling \u001b[39m\u001b[36mpygments\u001b[39m\u001b[39m (\u001b[39m\u001b[39;1m2.17.2\u001b[39;22m\u001b[39m)\u001b[39m: \u001b[34mInstalling...\u001b[39m\n"
     ]
    },
    {
     "name": "stdout",
     "output_type": "stream",
     "text": [
      "  \u001b[34;1m•\u001b[39;22m \u001b[39mInstalling \u001b[39m\u001b[36mrequests-toolbelt\u001b[39m\u001b[39m (\u001b[39m\u001b[39;1m1.0.0\u001b[39;22m\u001b[39m)\u001b[39m: \u001b[34mInstalling...\u001b[39m\n"
     ]
    },
    {
     "name": "stdout",
     "output_type": "stream",
     "text": [
      "  \u001b[32;1m•\u001b[39;22m \u001b[39mInstalling \u001b[39m\u001b[36mzipp\u001b[39m\u001b[39m (\u001b[39m\u001b[32m3.17.0\u001b[39m\u001b[39m)\u001b[39m\n"
     ]
    },
    {
     "name": "stdout",
     "output_type": "stream",
     "text": [
      "\u001b[2A\u001b[0J  \u001b[32;1m•\u001b[39;22m \u001b[39mInstalling \u001b[39m\u001b[36mzipp\u001b[39m\u001b[39m (\u001b[39m\u001b[32m3.17.0\u001b[39m\u001b[39m)\u001b[39m\n"
     ]
    },
    {
     "name": "stdout",
     "output_type": "stream",
     "text": [
      "\u001b[1A\u001b[0J  \u001b[32;1m•\u001b[39;22m \u001b[39mInstalling \u001b[39m\u001b[36mrequests-toolbelt\u001b[39m\u001b[39m (\u001b[39m\u001b[32m1.0.0\u001b[39m\u001b[39m)\u001b[39m\n"
     ]
    },
    {
     "name": "stdout",
     "output_type": "stream",
     "text": [
      "  \u001b[32;1m•\u001b[39;22m \u001b[39mInstalling \u001b[39m\u001b[36mzipp\u001b[39m\u001b[39m (\u001b[39m\u001b[32m3.17.0\u001b[39m\u001b[39m)\u001b[39m\n"
     ]
    },
    {
     "name": "stdout",
     "output_type": "stream",
     "text": [
      "\u001b[6A\u001b[0J  \u001b[32;1m•\u001b[39;22m \u001b[39mInstalling \u001b[39m\u001b[36mmarkupsafe\u001b[39m\u001b[39m (\u001b[39m\u001b[32m2.1.5\u001b[39m\u001b[39m)\u001b[39m\n"
     ]
    },
    {
     "name": "stdout",
     "output_type": "stream",
     "text": [
      "  \u001b[34;1m•\u001b[39;22m \u001b[39mInstalling \u001b[39m\u001b[36mpydantic-core\u001b[39m\u001b[39m (\u001b[39m\u001b[39;1m2.16.2\u001b[39;22m\u001b[39m)\u001b[39m: \u001b[34mInstalling...\u001b[39m\n"
     ]
    },
    {
     "name": "stdout",
     "output_type": "stream",
     "text": [
      "  \u001b[34;1m•\u001b[39;22m \u001b[39mInstalling \u001b[39m\u001b[36mpygments\u001b[39m\u001b[39m (\u001b[39m\u001b[39;1m2.17.2\u001b[39;22m\u001b[39m)\u001b[39m: \u001b[34mInstalling...\u001b[39m\n"
     ]
    },
    {
     "name": "stdout",
     "output_type": "stream",
     "text": [
      "  \u001b[32;1m•\u001b[39;22m \u001b[39mInstalling \u001b[39m\u001b[36mrequests-toolbelt\u001b[39m\u001b[39m (\u001b[39m\u001b[32m1.0.0\u001b[39m\u001b[39m)\u001b[39m\n"
     ]
    },
    {
     "name": "stdout",
     "output_type": "stream",
     "text": [
      "  \u001b[32;1m•\u001b[39;22m \u001b[39mInstalling \u001b[39m\u001b[36mzipp\u001b[39m\u001b[39m (\u001b[39m\u001b[32m3.17.0\u001b[39m\u001b[39m)\u001b[39m\n"
     ]
    },
    {
     "name": "stdout",
     "output_type": "stream",
     "text": [
      "\u001b[5A\u001b[0J  \u001b[32;1m•\u001b[39;22m \u001b[39mInstalling \u001b[39m\u001b[36mmarkdown-it-py\u001b[39m\u001b[39m (\u001b[39m\u001b[32m3.0.0\u001b[39m\u001b[39m)\u001b[39m\n"
     ]
    },
    {
     "name": "stdout",
     "output_type": "stream",
     "text": [
      "  \u001b[32;1m•\u001b[39;22m \u001b[39mInstalling \u001b[39m\u001b[36mmarkupsafe\u001b[39m\u001b[39m (\u001b[39m\u001b[32m2.1.5\u001b[39m\u001b[39m)\u001b[39m\n"
     ]
    },
    {
     "name": "stdout",
     "output_type": "stream",
     "text": [
      "  \u001b[34;1m•\u001b[39;22m \u001b[39mInstalling \u001b[39m\u001b[36mpydantic-core\u001b[39m\u001b[39m (\u001b[39m\u001b[39;1m2.16.2\u001b[39;22m\u001b[39m)\u001b[39m: \u001b[34mInstalling...\u001b[39m\n"
     ]
    },
    {
     "name": "stdout",
     "output_type": "stream",
     "text": [
      "  \u001b[34;1m•\u001b[39;22m \u001b[39mInstalling \u001b[39m\u001b[36mpygments\u001b[39m\u001b[39m (\u001b[39m\u001b[39;1m2.17.2\u001b[39;22m\u001b[39m)\u001b[39m: \u001b[34mInstalling...\u001b[39m\n"
     ]
    },
    {
     "name": "stdout",
     "output_type": "stream",
     "text": [
      "  \u001b[32;1m•\u001b[39;22m \u001b[39mInstalling \u001b[39m\u001b[36mrequests-toolbelt\u001b[39m\u001b[39m (\u001b[39m\u001b[32m1.0.0\u001b[39m\u001b[39m)\u001b[39m\n"
     ]
    },
    {
     "name": "stdout",
     "output_type": "stream",
     "text": [
      "  \u001b[32;1m•\u001b[39;22m \u001b[39mInstalling \u001b[39m\u001b[36mzipp\u001b[39m\u001b[39m (\u001b[39m\u001b[32m3.17.0\u001b[39m\u001b[39m)\u001b[39m\n"
     ]
    },
    {
     "name": "stdout",
     "output_type": "stream",
     "text": [
      "\u001b[4A\u001b[0J  \u001b[34;1m•\u001b[39;22m \u001b[39mInstalling \u001b[39m\u001b[36mpygments\u001b[39m\u001b[39m (\u001b[39m\u001b[39;1m2.17.2\u001b[39;22m\u001b[39m)\u001b[39m: \u001b[34mInstalling...\u001b[39m\n"
     ]
    },
    {
     "name": "stdout",
     "output_type": "stream",
     "text": [
      "  \u001b[32;1m•\u001b[39;22m \u001b[39mInstalling \u001b[39m\u001b[36mrequests-toolbelt\u001b[39m\u001b[39m (\u001b[39m\u001b[32m1.0.0\u001b[39m\u001b[39m)\u001b[39m\n"
     ]
    },
    {
     "name": "stdout",
     "output_type": "stream",
     "text": [
      "  \u001b[32;1m•\u001b[39;22m \u001b[39mInstalling \u001b[39m\u001b[36mzipp\u001b[39m\u001b[39m (\u001b[39m\u001b[32m3.17.0\u001b[39m\u001b[39m)\u001b[39m\n"
     ]
    },
    {
     "name": "stdout",
     "output_type": "stream",
     "text": [
      "\u001b[3A\u001b[0J  \u001b[32;1m•\u001b[39;22m \u001b[39mInstalling \u001b[39m\u001b[36mpydantic-core\u001b[39m\u001b[39m (\u001b[39m\u001b[32m2.16.2\u001b[39m\u001b[39m)\u001b[39m\n"
     ]
    },
    {
     "name": "stdout",
     "output_type": "stream",
     "text": [
      "  \u001b[34;1m•\u001b[39;22m \u001b[39mInstalling \u001b[39m\u001b[36mpygments\u001b[39m\u001b[39m (\u001b[39m\u001b[39;1m2.17.2\u001b[39;22m\u001b[39m)\u001b[39m: \u001b[34mInstalling...\u001b[39m\n"
     ]
    },
    {
     "name": "stdout",
     "output_type": "stream",
     "text": [
      "  \u001b[32;1m•\u001b[39;22m \u001b[39mInstalling \u001b[39m\u001b[36mrequests-toolbelt\u001b[39m\u001b[39m (\u001b[39m\u001b[32m1.0.0\u001b[39m\u001b[39m)\u001b[39m\n"
     ]
    },
    {
     "name": "stdout",
     "output_type": "stream",
     "text": [
      "  \u001b[32;1m•\u001b[39;22m \u001b[39mInstalling \u001b[39m\u001b[36mzipp\u001b[39m\u001b[39m (\u001b[39m\u001b[32m3.17.0\u001b[39m\u001b[39m)\u001b[39m\n"
     ]
    },
    {
     "name": "stdout",
     "output_type": "stream",
     "text": [
      "\u001b[3A\u001b[0J  \u001b[32;1m•\u001b[39;22m \u001b[39mInstalling \u001b[39m\u001b[36mrequests-toolbelt\u001b[39m\u001b[39m (\u001b[39m\u001b[32m1.0.0\u001b[39m\u001b[39m)\u001b[39m\n"
     ]
    },
    {
     "name": "stdout",
     "output_type": "stream",
     "text": [
      "  \u001b[32;1m•\u001b[39;22m \u001b[39mInstalling \u001b[39m\u001b[36mzipp\u001b[39m\u001b[39m (\u001b[39m\u001b[32m3.17.0\u001b[39m\u001b[39m)\u001b[39m\n"
     ]
    },
    {
     "name": "stdout",
     "output_type": "stream",
     "text": [
      "\u001b[2A\u001b[0J  \u001b[32;1m•\u001b[39;22m \u001b[39mInstalling \u001b[39m\u001b[36mpygments\u001b[39m\u001b[39m (\u001b[39m\u001b[32m2.17.2\u001b[39m\u001b[39m)\u001b[39m\n"
     ]
    },
    {
     "name": "stdout",
     "output_type": "stream",
     "text": [
      "  \u001b[32;1m•\u001b[39;22m \u001b[39mInstalling \u001b[39m\u001b[36mrequests-toolbelt\u001b[39m\u001b[39m (\u001b[39m\u001b[32m1.0.0\u001b[39m\u001b[39m)\u001b[39m\n"
     ]
    },
    {
     "name": "stdout",
     "output_type": "stream",
     "text": [
      "  \u001b[32;1m•\u001b[39;22m \u001b[39mInstalling \u001b[39m\u001b[36mzipp\u001b[39m\u001b[39m (\u001b[39m\u001b[32m3.17.0\u001b[39m\u001b[39m)\u001b[39m\n"
     ]
    },
    {
     "name": "stdout",
     "output_type": "stream",
     "text": [
      "  \u001b[34;1m•\u001b[39;22m \u001b[39mInstalling \u001b[39m\u001b[36mclick\u001b[39m\u001b[39m (\u001b[39m\u001b[39;1m8.1.7\u001b[39;22m\u001b[39m)\u001b[39m: \u001b[34mPending...\u001b[39m\n"
     ]
    },
    {
     "name": "stdout",
     "output_type": "stream",
     "text": [
      "  \u001b[34;1m•\u001b[39;22m \u001b[39mInstalling \u001b[39m\u001b[36mdotty-dict\u001b[39m\u001b[39m (\u001b[39m\u001b[39;1m1.3.1\u001b[39;22m\u001b[39m)\u001b[39m: \u001b[34mPending...\u001b[39m\n"
     ]
    },
    {
     "name": "stdout",
     "output_type": "stream",
     "text": [
      "  \u001b[34;1m•\u001b[39;22m \u001b[39mInstalling \u001b[39m\u001b[36mgitpython\u001b[39m\u001b[39m (\u001b[39m\u001b[39;1m3.1.41\u001b[39;22m\u001b[39m)\u001b[39m: \u001b[34mPending...\u001b[39m\n"
     ]
    },
    {
     "name": "stdout",
     "output_type": "stream",
     "text": [
      "  \u001b[34;1m•\u001b[39;22m \u001b[39mInstalling \u001b[39m\u001b[36mimportlib-resources\u001b[39m\u001b[39m (\u001b[39m\u001b[39;1m6.1.1\u001b[39;22m\u001b[39m)\u001b[39m: \u001b[34mPending...\u001b[39m\n"
     ]
    },
    {
     "name": "stdout",
     "output_type": "stream",
     "text": [
      "  \u001b[34;1m•\u001b[39;22m \u001b[39mInstalling \u001b[39m\u001b[36mjinja2\u001b[39m\u001b[39m (\u001b[39m\u001b[39;1m3.1.3\u001b[39;22m\u001b[39m)\u001b[39m: \u001b[34mPending...\u001b[39m\n"
     ]
    },
    {
     "name": "stdout",
     "output_type": "stream",
     "text": [
      "  \u001b[34;1m•\u001b[39;22m \u001b[39mInstalling \u001b[39m\u001b[36mpydantic\u001b[39m\u001b[39m (\u001b[39m\u001b[39;1m2.6.1\u001b[39;22m\u001b[39m)\u001b[39m: \u001b[34mPending...\u001b[39m\n"
     ]
    },
    {
     "name": "stdout",
     "output_type": "stream",
     "text": [
      "  \u001b[34;1m•\u001b[39;22m \u001b[39mInstalling \u001b[39m\u001b[36mpython-gitlab\u001b[39m\u001b[39m (\u001b[39m\u001b[39;1m4.4.0\u001b[39;22m\u001b[39m)\u001b[39m: \u001b[34mPending...\u001b[39m\n"
     ]
    },
    {
     "name": "stdout",
     "output_type": "stream",
     "text": [
      "  \u001b[34;1m•\u001b[39;22m \u001b[39mInstalling \u001b[39m\u001b[36mrich\u001b[39m\u001b[39m (\u001b[39m\u001b[39;1m13.7.0\u001b[39;22m\u001b[39m)\u001b[39m: \u001b[34mPending...\u001b[39m\n"
     ]
    },
    {
     "name": "stdout",
     "output_type": "stream",
     "text": [
      "  \u001b[34;1m•\u001b[39;22m \u001b[39mInstalling \u001b[39m\u001b[36mshellingham\u001b[39m\u001b[39m (\u001b[39m\u001b[39;1m1.5.4\u001b[39;22m\u001b[39m)\u001b[39m: \u001b[34mPending...\u001b[39m\n"
     ]
    },
    {
     "name": "stdout",
     "output_type": "stream",
     "text": [
      "  \u001b[34;1m•\u001b[39;22m \u001b[39mInstalling \u001b[39m\u001b[36mtomlkit\u001b[39m\u001b[39m (\u001b[39m\u001b[39;1m0.12.3\u001b[39;22m\u001b[39m)\u001b[39m: \u001b[34mPending...\u001b[39m\n"
     ]
    },
    {
     "name": "stdout",
     "output_type": "stream",
     "text": [
      "\u001b[9A\u001b[0J  \u001b[34;1m•\u001b[39;22m \u001b[39mInstalling \u001b[39m\u001b[36mgitpython\u001b[39m\u001b[39m (\u001b[39m\u001b[39;1m3.1.41\u001b[39;22m\u001b[39m)\u001b[39m: \u001b[34mPending...\u001b[39m\n"
     ]
    },
    {
     "name": "stdout",
     "output_type": "stream",
     "text": [
      "  \u001b[34;1m•\u001b[39;22m \u001b[39mInstalling \u001b[39m\u001b[36mimportlib-resources\u001b[39m\u001b[39m (\u001b[39m\u001b[39;1m6.1.1\u001b[39;22m\u001b[39m)\u001b[39m: \u001b[34mPending...\u001b[39m\n"
     ]
    },
    {
     "name": "stdout",
     "output_type": "stream",
     "text": [
      "  \u001b[34;1m•\u001b[39;22m \u001b[39mInstalling \u001b[39m\u001b[36mjinja2\u001b[39m\u001b[39m (\u001b[39m\u001b[39;1m3.1.3\u001b[39;22m\u001b[39m)\u001b[39m: \u001b[34mPending...\u001b[39m\n"
     ]
    },
    {
     "name": "stdout",
     "output_type": "stream",
     "text": [
      "  \u001b[34;1m•\u001b[39;22m \u001b[39mInstalling \u001b[39m\u001b[36mpydantic\u001b[39m\u001b[39m (\u001b[39m\u001b[39;1m2.6.1\u001b[39;22m\u001b[39m)\u001b[39m: \u001b[34mPending...\u001b[39m\n"
     ]
    },
    {
     "name": "stdout",
     "output_type": "stream",
     "text": [
      "  \u001b[34;1m•\u001b[39;22m \u001b[39mInstalling \u001b[39m\u001b[36mpython-gitlab\u001b[39m\u001b[39m (\u001b[39m\u001b[39;1m4.4.0\u001b[39;22m\u001b[39m)\u001b[39m: \u001b[34mPending...\u001b[39m\n"
     ]
    },
    {
     "name": "stdout",
     "output_type": "stream",
     "text": [
      "  \u001b[34;1m•\u001b[39;22m \u001b[39mInstalling \u001b[39m\u001b[36mrich\u001b[39m\u001b[39m (\u001b[39m\u001b[39;1m13.7.0\u001b[39;22m\u001b[39m)\u001b[39m: \u001b[34mPending...\u001b[39m\n"
     ]
    },
    {
     "name": "stdout",
     "output_type": "stream",
     "text": [
      "  \u001b[34;1m•\u001b[39;22m \u001b[39mInstalling \u001b[39m\u001b[36mshellingham\u001b[39m\u001b[39m (\u001b[39m\u001b[39;1m1.5.4\u001b[39;22m\u001b[39m)\u001b[39m: \u001b[34mPending...\u001b[39m\n"
     ]
    },
    {
     "name": "stdout",
     "output_type": "stream",
     "text": [
      "  \u001b[34;1m•\u001b[39;22m \u001b[39mInstalling \u001b[39m\u001b[36mtomlkit\u001b[39m\u001b[39m (\u001b[39m\u001b[39;1m0.12.3\u001b[39;22m\u001b[39m)\u001b[39m: \u001b[34mPending...\u001b[39m\n"
     ]
    },
    {
     "name": "stdout",
     "output_type": "stream",
     "text": [
      "\u001b[8A\u001b[0J  \u001b[34;1m•\u001b[39;22m \u001b[39mInstalling \u001b[39m\u001b[36mdotty-dict\u001b[39m\u001b[39m (\u001b[39m\u001b[39;1m1.3.1\u001b[39;22m\u001b[39m)\u001b[39m: \u001b[34mInstalling...\u001b[39m\n"
     ]
    },
    {
     "name": "stdout",
     "output_type": "stream",
     "text": [
      "  \u001b[34;1m•\u001b[39;22m \u001b[39mInstalling \u001b[39m\u001b[36mgitpython\u001b[39m\u001b[39m (\u001b[39m\u001b[39;1m3.1.41\u001b[39;22m\u001b[39m)\u001b[39m: \u001b[34mPending...\u001b[39m\n"
     ]
    },
    {
     "name": "stdout",
     "output_type": "stream",
     "text": [
      "  \u001b[34;1m•\u001b[39;22m \u001b[39mInstalling \u001b[39m\u001b[36mimportlib-resources\u001b[39m\u001b[39m (\u001b[39m\u001b[39;1m6.1.1\u001b[39;22m\u001b[39m)\u001b[39m: \u001b[34mPending...\u001b[39m\n"
     ]
    },
    {
     "name": "stdout",
     "output_type": "stream",
     "text": [
      "  \u001b[34;1m•\u001b[39;22m \u001b[39mInstalling \u001b[39m\u001b[36mjinja2\u001b[39m\u001b[39m (\u001b[39m\u001b[39;1m3.1.3\u001b[39;22m\u001b[39m)\u001b[39m: \u001b[34mPending...\u001b[39m\n"
     ]
    },
    {
     "name": "stdout",
     "output_type": "stream",
     "text": [
      "  \u001b[34;1m•\u001b[39;22m \u001b[39mInstalling \u001b[39m\u001b[36mpydantic\u001b[39m\u001b[39m (\u001b[39m\u001b[39;1m2.6.1\u001b[39;22m\u001b[39m)\u001b[39m: \u001b[34mPending...\u001b[39m\n"
     ]
    },
    {
     "name": "stdout",
     "output_type": "stream",
     "text": [
      "  \u001b[34;1m•\u001b[39;22m \u001b[39mInstalling \u001b[39m\u001b[36mpython-gitlab\u001b[39m\u001b[39m (\u001b[39m\u001b[39;1m4.4.0\u001b[39;22m\u001b[39m)\u001b[39m: \u001b[34mPending...\u001b[39m\n"
     ]
    },
    {
     "name": "stdout",
     "output_type": "stream",
     "text": [
      "  \u001b[34;1m•\u001b[39;22m \u001b[39mInstalling \u001b[39m\u001b[36mrich\u001b[39m\u001b[39m (\u001b[39m\u001b[39;1m13.7.0\u001b[39;22m\u001b[39m)\u001b[39m: \u001b[34mPending...\u001b[39m\n"
     ]
    },
    {
     "name": "stdout",
     "output_type": "stream",
     "text": [
      "  \u001b[34;1m•\u001b[39;22m \u001b[39mInstalling \u001b[39m\u001b[36mshellingham\u001b[39m\u001b[39m (\u001b[39m\u001b[39;1m1.5.4\u001b[39;22m\u001b[39m)\u001b[39m: \u001b[34mPending...\u001b[39m\n"
     ]
    },
    {
     "name": "stdout",
     "output_type": "stream",
     "text": [
      "  \u001b[34;1m•\u001b[39;22m \u001b[39mInstalling \u001b[39m\u001b[36mtomlkit\u001b[39m\u001b[39m (\u001b[39m\u001b[39;1m0.12.3\u001b[39;22m\u001b[39m)\u001b[39m: \u001b[34mPending...\u001b[39m\n"
     ]
    },
    {
     "name": "stdout",
     "output_type": "stream",
     "text": [
      "\u001b[7A\u001b[0J  \u001b[34;1m•\u001b[39;22m \u001b[39mInstalling \u001b[39m\u001b[36mjinja2\u001b[39m\u001b[39m (\u001b[39m\u001b[39;1m3.1.3\u001b[39;22m\u001b[39m)\u001b[39m: \u001b[34mPending...\u001b[39m\n"
     ]
    },
    {
     "name": "stdout",
     "output_type": "stream",
     "text": [
      "  \u001b[34;1m•\u001b[39;22m \u001b[39mInstalling \u001b[39m\u001b[36mpydantic\u001b[39m\u001b[39m (\u001b[39m\u001b[39;1m2.6.1\u001b[39;22m\u001b[39m)\u001b[39m: \u001b[34mPending...\u001b[39m\n"
     ]
    },
    {
     "name": "stdout",
     "output_type": "stream",
     "text": [
      "  \u001b[34;1m•\u001b[39;22m \u001b[39mInstalling \u001b[39m\u001b[36mpython-gitlab\u001b[39m\u001b[39m (\u001b[39m\u001b[39;1m4.4.0\u001b[39;22m\u001b[39m)\u001b[39m: \u001b[34mPending...\u001b[39m\n"
     ]
    },
    {
     "name": "stdout",
     "output_type": "stream",
     "text": [
      "  \u001b[34;1m•\u001b[39;22m \u001b[39mInstalling \u001b[39m\u001b[36mrich\u001b[39m\u001b[39m (\u001b[39m\u001b[39;1m13.7.0\u001b[39;22m\u001b[39m)\u001b[39m: \u001b[34mPending...\u001b[39m\n"
     ]
    },
    {
     "name": "stdout",
     "output_type": "stream",
     "text": [
      "  \u001b[34;1m•\u001b[39;22m \u001b[39mInstalling \u001b[39m\u001b[36mshellingham\u001b[39m\u001b[39m (\u001b[39m\u001b[39;1m1.5.4\u001b[39;22m\u001b[39m)\u001b[39m: \u001b[34mPending...\u001b[39m\n"
     ]
    },
    {
     "name": "stdout",
     "output_type": "stream",
     "text": [
      "  \u001b[34;1m•\u001b[39;22m \u001b[39mInstalling \u001b[39m\u001b[36mtomlkit\u001b[39m\u001b[39m (\u001b[39m\u001b[39;1m0.12.3\u001b[39;22m\u001b[39m)\u001b[39m: \u001b[34mPending...\u001b[39m\n"
     ]
    },
    {
     "name": "stdout",
     "output_type": "stream",
     "text": [
      "\u001b[6A\u001b[0J  \u001b[34;1m•\u001b[39;22m \u001b[39mInstalling \u001b[39m\u001b[36mimportlib-resources\u001b[39m\u001b[39m (\u001b[39m\u001b[39;1m6.1.1\u001b[39;22m\u001b[39m)\u001b[39m: \u001b[34mInstalling...\u001b[39m\n"
     ]
    },
    {
     "name": "stdout",
     "output_type": "stream",
     "text": [
      "  \u001b[34;1m•\u001b[39;22m \u001b[39mInstalling \u001b[39m\u001b[36mjinja2\u001b[39m\u001b[39m (\u001b[39m\u001b[39;1m3.1.3\u001b[39;22m\u001b[39m)\u001b[39m: \u001b[34mPending...\u001b[39m\n"
     ]
    },
    {
     "name": "stdout",
     "output_type": "stream",
     "text": [
      "  \u001b[34;1m•\u001b[39;22m \u001b[39mInstalling \u001b[39m\u001b[36mpydantic\u001b[39m\u001b[39m (\u001b[39m\u001b[39;1m2.6.1\u001b[39;22m\u001b[39m)\u001b[39m: \u001b[34mPending...\u001b[39m\n"
     ]
    },
    {
     "name": "stdout",
     "output_type": "stream",
     "text": [
      "  \u001b[34;1m•\u001b[39;22m \u001b[39mInstalling \u001b[39m\u001b[36mpython-gitlab\u001b[39m\u001b[39m (\u001b[39m\u001b[39;1m4.4.0\u001b[39;22m\u001b[39m)\u001b[39m: \u001b[34mPending...\u001b[39m\n"
     ]
    },
    {
     "name": "stdout",
     "output_type": "stream",
     "text": [
      "  \u001b[34;1m•\u001b[39;22m \u001b[39mInstalling \u001b[39m\u001b[36mrich\u001b[39m\u001b[39m (\u001b[39m\u001b[39;1m13.7.0\u001b[39;22m\u001b[39m)\u001b[39m: \u001b[34mPending...\u001b[39m\n"
     ]
    },
    {
     "name": "stdout",
     "output_type": "stream",
     "text": [
      "  \u001b[34;1m•\u001b[39;22m \u001b[39mInstalling \u001b[39m\u001b[36mshellingham\u001b[39m\u001b[39m (\u001b[39m\u001b[39;1m1.5.4\u001b[39;22m\u001b[39m)\u001b[39m: \u001b[34mPending...\u001b[39m\n"
     ]
    },
    {
     "name": "stdout",
     "output_type": "stream",
     "text": [
      "  \u001b[34;1m•\u001b[39;22m \u001b[39mInstalling \u001b[39m\u001b[36mtomlkit\u001b[39m\u001b[39m (\u001b[39m\u001b[39;1m0.12.3\u001b[39;22m\u001b[39m)\u001b[39m: \u001b[34mPending...\u001b[39m\n"
     ]
    },
    {
     "name": "stdout",
     "output_type": "stream",
     "text": [
      "\u001b[2A\u001b[0J  \u001b[34;1m•\u001b[39;22m \u001b[39mInstalling \u001b[39m\u001b[36mtomlkit\u001b[39m\u001b[39m (\u001b[39m\u001b[39;1m0.12.3\u001b[39;22m\u001b[39m)\u001b[39m: \u001b[34mPending...\u001b[39m\n"
     ]
    },
    {
     "name": "stdout",
     "output_type": "stream",
     "text": [
      "\u001b[1A\u001b[0J  \u001b[34;1m•\u001b[39;22m \u001b[39mInstalling \u001b[39m\u001b[36mshellingham\u001b[39m\u001b[39m (\u001b[39m\u001b[39;1m1.5.4\u001b[39;22m\u001b[39m)\u001b[39m: \u001b[34mInstalling...\u001b[39m\n"
     ]
    },
    {
     "name": "stdout",
     "output_type": "stream",
     "text": [
      "  \u001b[34;1m•\u001b[39;22m \u001b[39mInstalling \u001b[39m\u001b[36mtomlkit\u001b[39m\u001b[39m (\u001b[39m\u001b[39;1m0.12.3\u001b[39;22m\u001b[39m)\u001b[39m: \u001b[34mPending...\u001b[39m\n"
     ]
    },
    {
     "name": "stdout",
     "output_type": "stream",
     "text": [
      "\u001b[10A\u001b[0J  \u001b[34;1m•\u001b[39;22m \u001b[39mInstalling \u001b[39m\u001b[36mdotty-dict\u001b[39m\u001b[39m (\u001b[39m\u001b[39;1m1.3.1\u001b[39;22m\u001b[39m)\u001b[39m: \u001b[34mInstalling...\u001b[39m\n"
     ]
    },
    {
     "name": "stdout",
     "output_type": "stream",
     "text": [
      "  \u001b[34;1m•\u001b[39;22m \u001b[39mInstalling \u001b[39m\u001b[36mgitpython\u001b[39m\u001b[39m (\u001b[39m\u001b[39;1m3.1.41\u001b[39;22m\u001b[39m)\u001b[39m: \u001b[34mPending...\u001b[39m\n"
     ]
    },
    {
     "name": "stdout",
     "output_type": "stream",
     "text": [
      "  \u001b[34;1m•\u001b[39;22m \u001b[39mInstalling \u001b[39m\u001b[36mimportlib-resources\u001b[39m\u001b[39m (\u001b[39m\u001b[39;1m6.1.1\u001b[39;22m\u001b[39m)\u001b[39m: \u001b[34mInstalling...\u001b[39m\n"
     ]
    },
    {
     "name": "stdout",
     "output_type": "stream",
     "text": [
      "  \u001b[34;1m•\u001b[39;22m \u001b[39mInstalling \u001b[39m\u001b[36mjinja2\u001b[39m\u001b[39m (\u001b[39m\u001b[39;1m3.1.3\u001b[39;22m\u001b[39m)\u001b[39m: \u001b[34mPending...\u001b[39m\n"
     ]
    },
    {
     "name": "stdout",
     "output_type": "stream",
     "text": [
      "  \u001b[34;1m•\u001b[39;22m \u001b[39mInstalling \u001b[39m\u001b[36mpydantic\u001b[39m\u001b[39m (\u001b[39m\u001b[39;1m2.6.1\u001b[39;22m\u001b[39m)\u001b[39m: \u001b[34mPending...\u001b[39m\n"
     ]
    },
    {
     "name": "stdout",
     "output_type": "stream",
     "text": [
      "  \u001b[34;1m•\u001b[39;22m \u001b[39mInstalling \u001b[39m\u001b[36mpython-gitlab\u001b[39m\u001b[39m (\u001b[39m\u001b[39;1m4.4.0\u001b[39;22m\u001b[39m)\u001b[39m: \u001b[34mPending...\u001b[39m\n"
     ]
    },
    {
     "name": "stdout",
     "output_type": "stream",
     "text": [
      "  \u001b[34;1m•\u001b[39;22m \u001b[39mInstalling \u001b[39m\u001b[36mrich\u001b[39m\u001b[39m (\u001b[39m\u001b[39;1m13.7.0\u001b[39;22m\u001b[39m)\u001b[39m: \u001b[34mPending...\u001b[39m\n"
     ]
    },
    {
     "name": "stdout",
     "output_type": "stream",
     "text": [
      "  \u001b[34;1m•\u001b[39;22m \u001b[39mInstalling \u001b[39m\u001b[36mshellingham\u001b[39m\u001b[39m (\u001b[39m\u001b[39;1m1.5.4\u001b[39;22m\u001b[39m)\u001b[39m: \u001b[34mInstalling...\u001b[39m\n"
     ]
    },
    {
     "name": "stdout",
     "output_type": "stream",
     "text": [
      "  \u001b[34;1m•\u001b[39;22m \u001b[39mInstalling \u001b[39m\u001b[36mtomlkit\u001b[39m\u001b[39m (\u001b[39m\u001b[39;1m0.12.3\u001b[39;22m\u001b[39m)\u001b[39m: \u001b[34mPending...\u001b[39m\n"
     ]
    },
    {
     "name": "stdout",
     "output_type": "stream",
     "text": [
      "\u001b[9A\u001b[0J  \u001b[34;1m•\u001b[39;22m \u001b[39mInstalling \u001b[39m\u001b[36mclick\u001b[39m\u001b[39m (\u001b[39m\u001b[39;1m8.1.7\u001b[39;22m\u001b[39m)\u001b[39m: \u001b[34mInstalling...\u001b[39m\n"
     ]
    },
    {
     "name": "stdout",
     "output_type": "stream",
     "text": [
      "  \u001b[34;1m•\u001b[39;22m \u001b[39mInstalling \u001b[39m\u001b[36mdotty-dict\u001b[39m\u001b[39m (\u001b[39m\u001b[39;1m1.3.1\u001b[39;22m\u001b[39m)\u001b[39m: \u001b[34mInstalling...\u001b[39m\n"
     ]
    },
    {
     "name": "stdout",
     "output_type": "stream",
     "text": [
      "  \u001b[34;1m•\u001b[39;22m \u001b[39mInstalling \u001b[39m\u001b[36mgitpython\u001b[39m\u001b[39m (\u001b[39m\u001b[39;1m3.1.41\u001b[39;22m\u001b[39m)\u001b[39m: \u001b[34mPending...\u001b[39m\n"
     ]
    },
    {
     "name": "stdout",
     "output_type": "stream",
     "text": [
      "  \u001b[34;1m•\u001b[39;22m \u001b[39mInstalling \u001b[39m\u001b[36mimportlib-resources\u001b[39m\u001b[39m (\u001b[39m\u001b[39;1m6.1.1\u001b[39;22m\u001b[39m)\u001b[39m: \u001b[34mInstalling...\u001b[39m\n"
     ]
    },
    {
     "name": "stdout",
     "output_type": "stream",
     "text": [
      "  \u001b[34;1m•\u001b[39;22m \u001b[39mInstalling \u001b[39m\u001b[36mjinja2\u001b[39m\u001b[39m (\u001b[39m\u001b[39;1m3.1.3\u001b[39;22m\u001b[39m)\u001b[39m: \u001b[34mPending...\u001b[39m\n"
     ]
    },
    {
     "name": "stdout",
     "output_type": "stream",
     "text": [
      "  \u001b[34;1m•\u001b[39;22m \u001b[39mInstalling \u001b[39m\u001b[36mpydantic\u001b[39m\u001b[39m (\u001b[39m\u001b[39;1m2.6.1\u001b[39;22m\u001b[39m)\u001b[39m: \u001b[34mPending...\u001b[39m\n"
     ]
    },
    {
     "name": "stdout",
     "output_type": "stream",
     "text": [
      "  \u001b[34;1m•\u001b[39;22m \u001b[39mInstalling \u001b[39m\u001b[36mpython-gitlab\u001b[39m\u001b[39m (\u001b[39m\u001b[39;1m4.4.0\u001b[39;22m\u001b[39m)\u001b[39m: \u001b[34mPending...\u001b[39m\n"
     ]
    },
    {
     "name": "stdout",
     "output_type": "stream",
     "text": [
      "  \u001b[34;1m•\u001b[39;22m \u001b[39mInstalling \u001b[39m\u001b[36mrich\u001b[39m\u001b[39m (\u001b[39m\u001b[39;1m13.7.0\u001b[39;22m\u001b[39m)\u001b[39m: \u001b[34mPending...\u001b[39m\n"
     ]
    },
    {
     "name": "stdout",
     "output_type": "stream",
     "text": [
      "  \u001b[34;1m•\u001b[39;22m \u001b[39mInstalling \u001b[39m\u001b[36mshellingham\u001b[39m\u001b[39m (\u001b[39m\u001b[39;1m1.5.4\u001b[39;22m\u001b[39m)\u001b[39m: \u001b[34mInstalling...\u001b[39m\n"
     ]
    },
    {
     "name": "stdout",
     "output_type": "stream",
     "text": [
      "  \u001b[34;1m•\u001b[39;22m \u001b[39mInstalling \u001b[39m\u001b[36mtomlkit\u001b[39m\u001b[39m (\u001b[39m\u001b[39;1m0.12.3\u001b[39;22m\u001b[39m)\u001b[39m: \u001b[34mPending...\u001b[39m\n"
     ]
    },
    {
     "name": "stdout",
     "output_type": "stream",
     "text": [
      "\u001b[8A\u001b[0J  \u001b[34;1m•\u001b[39;22m \u001b[39mInstalling \u001b[39m\u001b[36mimportlib-resources\u001b[39m\u001b[39m (\u001b[39m\u001b[39;1m6.1.1\u001b[39;22m\u001b[39m)\u001b[39m: \u001b[34mInstalling...\u001b[39m\n"
     ]
    },
    {
     "name": "stdout",
     "output_type": "stream",
     "text": [
      "  \u001b[34;1m•\u001b[39;22m \u001b[39mInstalling \u001b[39m\u001b[36mjinja2\u001b[39m\u001b[39m (\u001b[39m\u001b[39;1m3.1.3\u001b[39;22m\u001b[39m)\u001b[39m: \u001b[34mPending...\u001b[39m\n"
     ]
    },
    {
     "name": "stdout",
     "output_type": "stream",
     "text": [
      "  \u001b[34;1m•\u001b[39;22m \u001b[39mInstalling \u001b[39m\u001b[36mpydantic\u001b[39m\u001b[39m (\u001b[39m\u001b[39;1m2.6.1\u001b[39;22m\u001b[39m)\u001b[39m: \u001b[34mPending...\u001b[39m\n"
     ]
    },
    {
     "name": "stdout",
     "output_type": "stream",
     "text": [
      "  \u001b[34;1m•\u001b[39;22m \u001b[39mInstalling \u001b[39m\u001b[36mpython-gitlab\u001b[39m\u001b[39m (\u001b[39m\u001b[39;1m4.4.0\u001b[39;22m\u001b[39m)\u001b[39m: \u001b[34mPending...\u001b[39m\n"
     ]
    },
    {
     "name": "stdout",
     "output_type": "stream",
     "text": [
      "  \u001b[34;1m•\u001b[39;22m \u001b[39mInstalling \u001b[39m\u001b[36mrich\u001b[39m\u001b[39m (\u001b[39m\u001b[39;1m13.7.0\u001b[39;22m\u001b[39m)\u001b[39m: \u001b[34mPending...\u001b[39m\n"
     ]
    },
    {
     "name": "stdout",
     "output_type": "stream",
     "text": [
      "  \u001b[34;1m•\u001b[39;22m \u001b[39mInstalling \u001b[39m\u001b[36mshellingham\u001b[39m\u001b[39m (\u001b[39m\u001b[39;1m1.5.4\u001b[39;22m\u001b[39m)\u001b[39m: \u001b[34mInstalling...\u001b[39m\n"
     ]
    },
    {
     "name": "stdout",
     "output_type": "stream",
     "text": [
      "  \u001b[34;1m•\u001b[39;22m \u001b[39mInstalling \u001b[39m\u001b[36mtomlkit\u001b[39m\u001b[39m (\u001b[39m\u001b[39;1m0.12.3\u001b[39;22m\u001b[39m)\u001b[39m: \u001b[34mPending...\u001b[39m\n"
     ]
    },
    {
     "name": "stdout",
     "output_type": "stream",
     "text": [
      "\u001b[7A\u001b[0J  \u001b[34;1m•\u001b[39;22m \u001b[39mInstalling \u001b[39m\u001b[36mgitpython\u001b[39m\u001b[39m (\u001b[39m\u001b[39;1m3.1.41\u001b[39;22m\u001b[39m)\u001b[39m: \u001b[34mInstalling...\u001b[39m\n"
     ]
    },
    {
     "name": "stdout",
     "output_type": "stream",
     "text": [
      "  \u001b[34;1m•\u001b[39;22m \u001b[39mInstalling \u001b[39m\u001b[36mimportlib-resources\u001b[39m\u001b[39m (\u001b[39m\u001b[39;1m6.1.1\u001b[39;22m\u001b[39m)\u001b[39m: \u001b[34mInstalling...\u001b[39m\n"
     ]
    },
    {
     "name": "stdout",
     "output_type": "stream",
     "text": [
      "  \u001b[34;1m•\u001b[39;22m \u001b[39mInstalling \u001b[39m\u001b[36mjinja2\u001b[39m\u001b[39m (\u001b[39m\u001b[39;1m3.1.3\u001b[39;22m\u001b[39m)\u001b[39m: \u001b[34mPending...\u001b[39m\n"
     ]
    },
    {
     "name": "stdout",
     "output_type": "stream",
     "text": [
      "  \u001b[34;1m•\u001b[39;22m \u001b[39mInstalling \u001b[39m\u001b[36mpydantic\u001b[39m\u001b[39m (\u001b[39m\u001b[39;1m2.6.1\u001b[39;22m\u001b[39m)\u001b[39m: \u001b[34mPending...\u001b[39m\n"
     ]
    },
    {
     "name": "stdout",
     "output_type": "stream",
     "text": [
      "  \u001b[34;1m•\u001b[39;22m \u001b[39mInstalling \u001b[39m\u001b[36mpython-gitlab\u001b[39m\u001b[39m (\u001b[39m\u001b[39;1m4.4.0\u001b[39;22m\u001b[39m)\u001b[39m: \u001b[34mPending...\u001b[39m\n"
     ]
    },
    {
     "name": "stdout",
     "output_type": "stream",
     "text": [
      "  \u001b[34;1m•\u001b[39;22m \u001b[39mInstalling \u001b[39m\u001b[36mrich\u001b[39m\u001b[39m (\u001b[39m\u001b[39;1m13.7.0\u001b[39;22m\u001b[39m)\u001b[39m: \u001b[34mPending...\u001b[39m\n"
     ]
    },
    {
     "name": "stdout",
     "output_type": "stream",
     "text": [
      "  \u001b[34;1m•\u001b[39;22m \u001b[39mInstalling \u001b[39m\u001b[36mshellingham\u001b[39m\u001b[39m (\u001b[39m\u001b[39;1m1.5.4\u001b[39;22m\u001b[39m)\u001b[39m: \u001b[34mInstalling...\u001b[39m\n"
     ]
    },
    {
     "name": "stdout",
     "output_type": "stream",
     "text": [
      "  \u001b[34;1m•\u001b[39;22m \u001b[39mInstalling \u001b[39m\u001b[36mtomlkit\u001b[39m\u001b[39m (\u001b[39m\u001b[39;1m0.12.3\u001b[39;22m\u001b[39m)\u001b[39m: \u001b[34mPending...\u001b[39m\n"
     ]
    },
    {
     "name": "stdout",
     "output_type": "stream",
     "text": [
      "\u001b[1A\u001b[0J  \u001b[34;1m•\u001b[39;22m \u001b[39mInstalling \u001b[39m\u001b[36mtomlkit\u001b[39m\u001b[39m (\u001b[39m\u001b[39;1m0.12.3\u001b[39;22m\u001b[39m)\u001b[39m: \u001b[34mInstalling...\u001b[39m\n"
     ]
    },
    {
     "name": "stdout",
     "output_type": "stream",
     "text": [
      "\u001b[4A\u001b[0J  \u001b[34;1m•\u001b[39;22m \u001b[39mInstalling \u001b[39m\u001b[36mrich\u001b[39m\u001b[39m (\u001b[39m\u001b[39;1m13.7.0\u001b[39;22m\u001b[39m)\u001b[39m: \u001b[34mPending...\u001b[39m\n"
     ]
    },
    {
     "name": "stdout",
     "output_type": "stream",
     "text": [
      "  \u001b[34;1m•\u001b[39;22m \u001b[39mInstalling \u001b[39m\u001b[36mshellingham\u001b[39m\u001b[39m (\u001b[39m\u001b[39;1m1.5.4\u001b[39;22m\u001b[39m)\u001b[39m: \u001b[34mInstalling...\u001b[39m\n"
     ]
    },
    {
     "name": "stdout",
     "output_type": "stream",
     "text": [
      "  \u001b[34;1m•\u001b[39;22m \u001b[39mInstalling \u001b[39m\u001b[36mtomlkit\u001b[39m\u001b[39m (\u001b[39m\u001b[39;1m0.12.3\u001b[39;22m\u001b[39m)\u001b[39m: \u001b[34mInstalling...\u001b[39m\n"
     ]
    },
    {
     "name": "stdout",
     "output_type": "stream",
     "text": [
      "\u001b[3A\u001b[0J  \u001b[34;1m•\u001b[39;22m \u001b[39mInstalling \u001b[39m\u001b[36mpython-gitlab\u001b[39m\u001b[39m (\u001b[39m\u001b[39;1m4.4.0\u001b[39;22m\u001b[39m)\u001b[39m: \u001b[34mInstalling...\u001b[39m\n"
     ]
    },
    {
     "name": "stdout",
     "output_type": "stream",
     "text": [
      "  \u001b[34;1m•\u001b[39;22m \u001b[39mInstalling \u001b[39m\u001b[36mrich\u001b[39m\u001b[39m (\u001b[39m\u001b[39;1m13.7.0\u001b[39;22m\u001b[39m)\u001b[39m: \u001b[34mPending...\u001b[39m\n"
     ]
    },
    {
     "name": "stdout",
     "output_type": "stream",
     "text": [
      "  \u001b[34;1m•\u001b[39;22m \u001b[39mInstalling \u001b[39m\u001b[36mshellingham\u001b[39m\u001b[39m (\u001b[39m\u001b[39;1m1.5.4\u001b[39;22m\u001b[39m)\u001b[39m: \u001b[34mInstalling...\u001b[39m\n"
     ]
    },
    {
     "name": "stdout",
     "output_type": "stream",
     "text": [
      "  \u001b[34;1m•\u001b[39;22m \u001b[39mInstalling \u001b[39m\u001b[36mtomlkit\u001b[39m\u001b[39m (\u001b[39m\u001b[39;1m0.12.3\u001b[39;22m\u001b[39m)\u001b[39m: \u001b[34mInstalling...\u001b[39m\n"
     ]
    },
    {
     "name": "stdout",
     "output_type": "stream",
     "text": [
      "\u001b[6A\u001b[0J  \u001b[34;1m•\u001b[39;22m \u001b[39mInstalling \u001b[39m\u001b[36mpydantic\u001b[39m\u001b[39m (\u001b[39m\u001b[39;1m2.6.1\u001b[39;22m\u001b[39m)\u001b[39m: \u001b[34mPending...\u001b[39m\n"
     ]
    },
    {
     "name": "stdout",
     "output_type": "stream",
     "text": [
      "  \u001b[34;1m•\u001b[39;22m \u001b[39mInstalling \u001b[39m\u001b[36mpython-gitlab\u001b[39m\u001b[39m (\u001b[39m\u001b[39;1m4.4.0\u001b[39;22m\u001b[39m)\u001b[39m: \u001b[34mInstalling...\u001b[39m\n"
     ]
    },
    {
     "name": "stdout",
     "output_type": "stream",
     "text": [
      "  \u001b[34;1m•\u001b[39;22m \u001b[39mInstalling \u001b[39m\u001b[36mrich\u001b[39m\u001b[39m (\u001b[39m\u001b[39;1m13.7.0\u001b[39;22m\u001b[39m)\u001b[39m: \u001b[34mPending...\u001b[39m\n"
     ]
    },
    {
     "name": "stdout",
     "output_type": "stream",
     "text": [
      "  \u001b[34;1m•\u001b[39;22m \u001b[39mInstalling \u001b[39m\u001b[36mshellingham\u001b[39m\u001b[39m (\u001b[39m\u001b[39;1m1.5.4\u001b[39;22m\u001b[39m)\u001b[39m: \u001b[34mInstalling...\u001b[39m\n"
     ]
    },
    {
     "name": "stdout",
     "output_type": "stream",
     "text": [
      "  \u001b[34;1m•\u001b[39;22m \u001b[39mInstalling \u001b[39m\u001b[36mtomlkit\u001b[39m\u001b[39m (\u001b[39m\u001b[39;1m0.12.3\u001b[39;22m\u001b[39m)\u001b[39m: \u001b[34mInstalling...\u001b[39m\n"
     ]
    },
    {
     "name": "stdout",
     "output_type": "stream",
     "text": [
      "\u001b[5A\u001b[0J  \u001b[34;1m•\u001b[39;22m \u001b[39mInstalling \u001b[39m\u001b[36mjinja2\u001b[39m\u001b[39m (\u001b[39m\u001b[39;1m3.1.3\u001b[39;22m\u001b[39m)\u001b[39m: \u001b[34mInstalling...\u001b[39m\n"
     ]
    },
    {
     "name": "stdout",
     "output_type": "stream",
     "text": [
      "  \u001b[34;1m•\u001b[39;22m \u001b[39mInstalling \u001b[39m\u001b[36mpydantic\u001b[39m\u001b[39m (\u001b[39m\u001b[39;1m2.6.1\u001b[39;22m\u001b[39m)\u001b[39m: \u001b[34mPending...\u001b[39m\n"
     ]
    },
    {
     "name": "stdout",
     "output_type": "stream",
     "text": [
      "  \u001b[34;1m•\u001b[39;22m \u001b[39mInstalling \u001b[39m\u001b[36mpython-gitlab\u001b[39m\u001b[39m (\u001b[39m\u001b[39;1m4.4.0\u001b[39;22m\u001b[39m)\u001b[39m: \u001b[34mInstalling...\u001b[39m\n"
     ]
    },
    {
     "name": "stdout",
     "output_type": "stream",
     "text": [
      "  \u001b[34;1m•\u001b[39;22m \u001b[39mInstalling \u001b[39m\u001b[36mrich\u001b[39m\u001b[39m (\u001b[39m\u001b[39;1m13.7.0\u001b[39;22m\u001b[39m)\u001b[39m: \u001b[34mPending...\u001b[39m\n"
     ]
    },
    {
     "name": "stdout",
     "output_type": "stream",
     "text": [
      "  \u001b[34;1m•\u001b[39;22m \u001b[39mInstalling \u001b[39m\u001b[36mshellingham\u001b[39m\u001b[39m (\u001b[39m\u001b[39;1m1.5.4\u001b[39;22m\u001b[39m)\u001b[39m: \u001b[34mInstalling...\u001b[39m\n"
     ]
    },
    {
     "name": "stdout",
     "output_type": "stream",
     "text": [
      "  \u001b[34;1m•\u001b[39;22m \u001b[39mInstalling \u001b[39m\u001b[36mtomlkit\u001b[39m\u001b[39m (\u001b[39m\u001b[39;1m0.12.3\u001b[39;22m\u001b[39m)\u001b[39m: \u001b[34mInstalling...\u001b[39m\n"
     ]
    },
    {
     "name": "stdout",
     "output_type": "stream",
     "text": [
      "\u001b[3A\u001b[0J  \u001b[34;1m•\u001b[39;22m \u001b[39mInstalling \u001b[39m\u001b[36mshellingham\u001b[39m\u001b[39m (\u001b[39m\u001b[39;1m1.5.4\u001b[39;22m\u001b[39m)\u001b[39m: \u001b[34mInstalling...\u001b[39m\n"
     ]
    },
    {
     "name": "stdout",
     "output_type": "stream",
     "text": [
      "  \u001b[34;1m•\u001b[39;22m \u001b[39mInstalling \u001b[39m\u001b[36mtomlkit\u001b[39m\u001b[39m (\u001b[39m\u001b[39;1m0.12.3\u001b[39;22m\u001b[39m)\u001b[39m: \u001b[34mInstalling...\u001b[39m\n"
     ]
    },
    {
     "name": "stdout",
     "output_type": "stream",
     "text": [
      "\u001b[2A\u001b[0J  \u001b[34;1m•\u001b[39;22m \u001b[39mInstalling \u001b[39m\u001b[36mrich\u001b[39m\u001b[39m (\u001b[39m\u001b[39;1m13.7.0\u001b[39;22m\u001b[39m)\u001b[39m: \u001b[34mInstalling...\u001b[39m\n"
     ]
    },
    {
     "name": "stdout",
     "output_type": "stream",
     "text": [
      "  \u001b[34;1m•\u001b[39;22m \u001b[39mInstalling \u001b[39m\u001b[36mshellingham\u001b[39m\u001b[39m (\u001b[39m\u001b[39;1m1.5.4\u001b[39;22m\u001b[39m)\u001b[39m: \u001b[34mInstalling...\u001b[39m\n"
     ]
    },
    {
     "name": "stdout",
     "output_type": "stream",
     "text": [
      "  \u001b[34;1m•\u001b[39;22m \u001b[39mInstalling \u001b[39m\u001b[36mtomlkit\u001b[39m\u001b[39m (\u001b[39m\u001b[39;1m0.12.3\u001b[39;22m\u001b[39m)\u001b[39m: \u001b[34mInstalling...\u001b[39m\n"
     ]
    },
    {
     "name": "stdout",
     "output_type": "stream",
     "text": [
      "\u001b[5A\u001b[0J  \u001b[34;1m•\u001b[39;22m \u001b[39mInstalling \u001b[39m\u001b[36mpython-gitlab\u001b[39m\u001b[39m (\u001b[39m\u001b[39;1m4.4.0\u001b[39;22m\u001b[39m)\u001b[39m: \u001b[34mInstalling...\u001b[39m\n"
     ]
    },
    {
     "name": "stdout",
     "output_type": "stream",
     "text": [
      "  \u001b[34;1m•\u001b[39;22m \u001b[39mInstalling \u001b[39m\u001b[36mrich\u001b[39m\u001b[39m (\u001b[39m\u001b[39;1m13.7.0\u001b[39;22m\u001b[39m)\u001b[39m: \u001b[34mInstalling...\u001b[39m\n"
     ]
    },
    {
     "name": "stdout",
     "output_type": "stream",
     "text": [
      "  \u001b[34;1m•\u001b[39;22m \u001b[39mInstalling \u001b[39m\u001b[36mshellingham\u001b[39m\u001b[39m (\u001b[39m\u001b[39;1m1.5.4\u001b[39;22m\u001b[39m)\u001b[39m: \u001b[34mInstalling...\u001b[39m\n"
     ]
    },
    {
     "name": "stdout",
     "output_type": "stream",
     "text": [
      "  \u001b[34;1m•\u001b[39;22m \u001b[39mInstalling \u001b[39m\u001b[36mtomlkit\u001b[39m\u001b[39m (\u001b[39m\u001b[39;1m0.12.3\u001b[39;22m\u001b[39m)\u001b[39m: \u001b[34mInstalling...\u001b[39m\n"
     ]
    },
    {
     "name": "stdout",
     "output_type": "stream",
     "text": [
      "\u001b[4A\u001b[0J  \u001b[34;1m•\u001b[39;22m \u001b[39mInstalling \u001b[39m\u001b[36mpydantic\u001b[39m\u001b[39m (\u001b[39m\u001b[39;1m2.6.1\u001b[39;22m\u001b[39m)\u001b[39m: \u001b[34mInstalling...\u001b[39m\n"
     ]
    },
    {
     "name": "stdout",
     "output_type": "stream",
     "text": [
      "  \u001b[34;1m•\u001b[39;22m \u001b[39mInstalling \u001b[39m\u001b[36mpython-gitlab\u001b[39m\u001b[39m (\u001b[39m\u001b[39;1m4.4.0\u001b[39;22m\u001b[39m)\u001b[39m: \u001b[34mInstalling...\u001b[39m\n"
     ]
    },
    {
     "name": "stdout",
     "output_type": "stream",
     "text": [
      "  \u001b[34;1m•\u001b[39;22m \u001b[39mInstalling \u001b[39m\u001b[36mrich\u001b[39m\u001b[39m (\u001b[39m\u001b[39;1m13.7.0\u001b[39;22m\u001b[39m)\u001b[39m: \u001b[34mInstalling...\u001b[39m\n"
     ]
    },
    {
     "name": "stdout",
     "output_type": "stream",
     "text": [
      "  \u001b[34;1m•\u001b[39;22m \u001b[39mInstalling \u001b[39m\u001b[36mshellingham\u001b[39m\u001b[39m (\u001b[39m\u001b[39;1m1.5.4\u001b[39;22m\u001b[39m)\u001b[39m: \u001b[34mInstalling...\u001b[39m\n"
     ]
    },
    {
     "name": "stdout",
     "output_type": "stream",
     "text": [
      "  \u001b[34;1m•\u001b[39;22m \u001b[39mInstalling \u001b[39m\u001b[36mtomlkit\u001b[39m\u001b[39m (\u001b[39m\u001b[39;1m0.12.3\u001b[39;22m\u001b[39m)\u001b[39m: \u001b[34mInstalling...\u001b[39m\n"
     ]
    },
    {
     "name": "stdout",
     "output_type": "stream",
     "text": [
      "\u001b[9A\u001b[0J  \u001b[34;1m•\u001b[39;22m \u001b[39mInstalling \u001b[39m\u001b[36mgitpython\u001b[39m\u001b[39m (\u001b[39m\u001b[39;1m3.1.41\u001b[39;22m\u001b[39m)\u001b[39m: \u001b[34mInstalling...\u001b[39m\n"
     ]
    },
    {
     "name": "stdout",
     "output_type": "stream",
     "text": [
      "  \u001b[34;1m•\u001b[39;22m \u001b[39mInstalling \u001b[39m\u001b[36mimportlib-resources\u001b[39m\u001b[39m (\u001b[39m\u001b[39;1m6.1.1\u001b[39;22m\u001b[39m)\u001b[39m: \u001b[34mInstalling...\u001b[39m\n"
     ]
    },
    {
     "name": "stdout",
     "output_type": "stream",
     "text": [
      "  \u001b[34;1m•\u001b[39;22m \u001b[39mInstalling \u001b[39m\u001b[36mjinja2\u001b[39m\u001b[39m (\u001b[39m\u001b[39;1m3.1.3\u001b[39;22m\u001b[39m)\u001b[39m: \u001b[34mInstalling...\u001b[39m\n"
     ]
    },
    {
     "name": "stdout",
     "output_type": "stream",
     "text": [
      "  \u001b[34;1m•\u001b[39;22m \u001b[39mInstalling \u001b[39m\u001b[36mpydantic\u001b[39m\u001b[39m (\u001b[39m\u001b[39;1m2.6.1\u001b[39;22m\u001b[39m)\u001b[39m: \u001b[34mInstalling...\u001b[39m\n"
     ]
    },
    {
     "name": "stdout",
     "output_type": "stream",
     "text": [
      "  \u001b[34;1m•\u001b[39;22m \u001b[39mInstalling \u001b[39m\u001b[36mpython-gitlab\u001b[39m\u001b[39m (\u001b[39m\u001b[39;1m4.4.0\u001b[39;22m\u001b[39m)\u001b[39m: \u001b[34mInstalling...\u001b[39m\n"
     ]
    },
    {
     "name": "stdout",
     "output_type": "stream",
     "text": [
      "  \u001b[34;1m•\u001b[39;22m \u001b[39mInstalling \u001b[39m\u001b[36mrich\u001b[39m\u001b[39m (\u001b[39m\u001b[39;1m13.7.0\u001b[39;22m\u001b[39m)\u001b[39m: \u001b[34mInstalling...\u001b[39m\n"
     ]
    },
    {
     "name": "stdout",
     "output_type": "stream",
     "text": [
      "  \u001b[34;1m•\u001b[39;22m \u001b[39mInstalling \u001b[39m\u001b[36mshellingham\u001b[39m\u001b[39m (\u001b[39m\u001b[39;1m1.5.4\u001b[39;22m\u001b[39m)\u001b[39m: \u001b[34mInstalling...\u001b[39m\n"
     ]
    },
    {
     "name": "stdout",
     "output_type": "stream",
     "text": [
      "  \u001b[34;1m•\u001b[39;22m \u001b[39mInstalling \u001b[39m\u001b[36mtomlkit\u001b[39m\u001b[39m (\u001b[39m\u001b[39;1m0.12.3\u001b[39;22m\u001b[39m)\u001b[39m: \u001b[34mInstalling...\u001b[39m\n"
     ]
    },
    {
     "name": "stdout",
     "output_type": "stream",
     "text": [
      "\u001b[8A\u001b[0J  \u001b[32;1m•\u001b[39;22m \u001b[39mInstalling \u001b[39m\u001b[36mdotty-dict\u001b[39m\u001b[39m (\u001b[39m\u001b[32m1.3.1\u001b[39m\u001b[39m)\u001b[39m\n"
     ]
    },
    {
     "name": "stdout",
     "output_type": "stream",
     "text": [
      "  \u001b[34;1m•\u001b[39;22m \u001b[39mInstalling \u001b[39m\u001b[36mgitpython\u001b[39m\u001b[39m (\u001b[39m\u001b[39;1m3.1.41\u001b[39;22m\u001b[39m)\u001b[39m: \u001b[34mInstalling...\u001b[39m\n"
     ]
    },
    {
     "name": "stdout",
     "output_type": "stream",
     "text": [
      "  \u001b[34;1m•\u001b[39;22m \u001b[39mInstalling \u001b[39m\u001b[36mimportlib-resources\u001b[39m\u001b[39m (\u001b[39m\u001b[39;1m6.1.1\u001b[39;22m\u001b[39m)\u001b[39m: \u001b[34mInstalling...\u001b[39m\n"
     ]
    },
    {
     "name": "stdout",
     "output_type": "stream",
     "text": [
      "  \u001b[34;1m•\u001b[39;22m \u001b[39mInstalling \u001b[39m\u001b[36mjinja2\u001b[39m\u001b[39m (\u001b[39m\u001b[39;1m3.1.3\u001b[39;22m\u001b[39m)\u001b[39m: \u001b[34mInstalling...\u001b[39m\n"
     ]
    },
    {
     "name": "stdout",
     "output_type": "stream",
     "text": [
      "  \u001b[34;1m•\u001b[39;22m \u001b[39mInstalling \u001b[39m\u001b[36mpydantic\u001b[39m\u001b[39m (\u001b[39m\u001b[39;1m2.6.1\u001b[39;22m\u001b[39m)\u001b[39m: \u001b[34mInstalling...\u001b[39m\n"
     ]
    },
    {
     "name": "stdout",
     "output_type": "stream",
     "text": [
      "  \u001b[34;1m•\u001b[39;22m \u001b[39mInstalling \u001b[39m\u001b[36mpython-gitlab\u001b[39m\u001b[39m (\u001b[39m\u001b[39;1m4.4.0\u001b[39;22m\u001b[39m)\u001b[39m: \u001b[34mInstalling...\u001b[39m\n"
     ]
    },
    {
     "name": "stdout",
     "output_type": "stream",
     "text": [
      "  \u001b[34;1m•\u001b[39;22m \u001b[39mInstalling \u001b[39m\u001b[36mrich\u001b[39m\u001b[39m (\u001b[39m\u001b[39;1m13.7.0\u001b[39;22m\u001b[39m)\u001b[39m: \u001b[34mInstalling...\u001b[39m\n"
     ]
    },
    {
     "name": "stdout",
     "output_type": "stream",
     "text": [
      "  \u001b[34;1m•\u001b[39;22m \u001b[39mInstalling \u001b[39m\u001b[36mshellingham\u001b[39m\u001b[39m (\u001b[39m\u001b[39;1m1.5.4\u001b[39;22m\u001b[39m)\u001b[39m: \u001b[34mInstalling...\u001b[39m\n"
     ]
    },
    {
     "name": "stdout",
     "output_type": "stream",
     "text": [
      "  \u001b[34;1m•\u001b[39;22m \u001b[39mInstalling \u001b[39m\u001b[36mtomlkit\u001b[39m\u001b[39m (\u001b[39m\u001b[39;1m0.12.3\u001b[39;22m\u001b[39m)\u001b[39m: \u001b[34mInstalling...\u001b[39m\n"
     ]
    },
    {
     "name": "stdout",
     "output_type": "stream",
     "text": [
      "\u001b[2A\u001b[0J  \u001b[34;1m•\u001b[39;22m \u001b[39mInstalling \u001b[39m\u001b[36mtomlkit\u001b[39m\u001b[39m (\u001b[39m\u001b[39;1m0.12.3\u001b[39;22m\u001b[39m)\u001b[39m: \u001b[34mInstalling...\u001b[39m\n"
     ]
    },
    {
     "name": "stdout",
     "output_type": "stream",
     "text": [
      "\u001b[1A\u001b[0J  \u001b[32;1m•\u001b[39;22m \u001b[39mInstalling \u001b[39m\u001b[36mshellingham\u001b[39m\u001b[39m (\u001b[39m\u001b[32m1.5.4\u001b[39m\u001b[39m)\u001b[39m\n"
     ]
    },
    {
     "name": "stdout",
     "output_type": "stream",
     "text": [
      "  \u001b[34;1m•\u001b[39;22m \u001b[39mInstalling \u001b[39m\u001b[36mtomlkit\u001b[39m\u001b[39m (\u001b[39m\u001b[39;1m0.12.3\u001b[39;22m\u001b[39m)\u001b[39m: \u001b[34mInstalling...\u001b[39m\n"
     ]
    },
    {
     "name": "stdout",
     "output_type": "stream",
     "text": [
      "\u001b[1A\u001b[0J  \u001b[32;1m•\u001b[39;22m \u001b[39mInstalling \u001b[39m\u001b[36mtomlkit\u001b[39m\u001b[39m (\u001b[39m\u001b[32m0.12.3\u001b[39m\u001b[39m)\u001b[39m\n"
     ]
    },
    {
     "name": "stdout",
     "output_type": "stream",
     "text": [
      "\u001b[10A\u001b[0J  \u001b[32;1m•\u001b[39;22m \u001b[39mInstalling \u001b[39m\u001b[36mdotty-dict\u001b[39m\u001b[39m (\u001b[39m\u001b[32m1.3.1\u001b[39m\u001b[39m)\u001b[39m\n"
     ]
    },
    {
     "name": "stdout",
     "output_type": "stream",
     "text": [
      "  \u001b[34;1m•\u001b[39;22m \u001b[39mInstalling \u001b[39m\u001b[36mgitpython\u001b[39m\u001b[39m (\u001b[39m\u001b[39;1m3.1.41\u001b[39;22m\u001b[39m)\u001b[39m: \u001b[34mInstalling...\u001b[39m\n"
     ]
    },
    {
     "name": "stdout",
     "output_type": "stream",
     "text": [
      "  \u001b[34;1m•\u001b[39;22m \u001b[39mInstalling \u001b[39m\u001b[36mimportlib-resources\u001b[39m\u001b[39m (\u001b[39m\u001b[39;1m6.1.1\u001b[39;22m\u001b[39m)\u001b[39m: \u001b[34mInstalling...\u001b[39m\n"
     ]
    },
    {
     "name": "stdout",
     "output_type": "stream",
     "text": [
      "  \u001b[34;1m•\u001b[39;22m \u001b[39mInstalling \u001b[39m\u001b[36mjinja2\u001b[39m\u001b[39m (\u001b[39m\u001b[39;1m3.1.3\u001b[39;22m\u001b[39m)\u001b[39m: \u001b[34mInstalling...\u001b[39m\n"
     ]
    },
    {
     "name": "stdout",
     "output_type": "stream",
     "text": [
      "  \u001b[34;1m•\u001b[39;22m \u001b[39mInstalling \u001b[39m\u001b[36mpydantic\u001b[39m\u001b[39m (\u001b[39m\u001b[39;1m2.6.1\u001b[39;22m\u001b[39m)\u001b[39m: \u001b[34mInstalling...\u001b[39m\n"
     ]
    },
    {
     "name": "stdout",
     "output_type": "stream",
     "text": [
      "  \u001b[34;1m•\u001b[39;22m \u001b[39mInstalling \u001b[39m\u001b[36mpython-gitlab\u001b[39m\u001b[39m (\u001b[39m\u001b[39;1m4.4.0\u001b[39;22m\u001b[39m)\u001b[39m: \u001b[34mInstalling...\u001b[39m\n"
     ]
    },
    {
     "name": "stdout",
     "output_type": "stream",
     "text": [
      "  \u001b[34;1m•\u001b[39;22m \u001b[39mInstalling \u001b[39m\u001b[36mrich\u001b[39m\u001b[39m (\u001b[39m\u001b[39;1m13.7.0\u001b[39;22m\u001b[39m)\u001b[39m: \u001b[34mInstalling...\u001b[39m\n"
     ]
    },
    {
     "name": "stdout",
     "output_type": "stream",
     "text": [
      "  \u001b[32;1m•\u001b[39;22m \u001b[39mInstalling \u001b[39m\u001b[36mshellingham\u001b[39m\u001b[39m (\u001b[39m\u001b[32m1.5.4\u001b[39m\u001b[39m)\u001b[39m\n"
     ]
    },
    {
     "name": "stdout",
     "output_type": "stream",
     "text": [
      "  \u001b[32;1m•\u001b[39;22m \u001b[39mInstalling \u001b[39m\u001b[36mtomlkit\u001b[39m\u001b[39m (\u001b[39m\u001b[32m0.12.3\u001b[39m\u001b[39m)\u001b[39m\n"
     ]
    },
    {
     "name": "stdout",
     "output_type": "stream",
     "text": [
      "\u001b[9A\u001b[0J  \u001b[32;1m•\u001b[39;22m \u001b[39mInstalling \u001b[39m\u001b[36mclick\u001b[39m\u001b[39m (\u001b[39m\u001b[32m8.1.7\u001b[39m\u001b[39m)\u001b[39m\n"
     ]
    },
    {
     "name": "stdout",
     "output_type": "stream",
     "text": [
      "  \u001b[32;1m•\u001b[39;22m \u001b[39mInstalling \u001b[39m\u001b[36mdotty-dict\u001b[39m\u001b[39m (\u001b[39m\u001b[32m1.3.1\u001b[39m\u001b[39m)\u001b[39m\n"
     ]
    },
    {
     "name": "stdout",
     "output_type": "stream",
     "text": [
      "  \u001b[34;1m•\u001b[39;22m \u001b[39mInstalling \u001b[39m\u001b[36mgitpython\u001b[39m\u001b[39m (\u001b[39m\u001b[39;1m3.1.41\u001b[39;22m\u001b[39m)\u001b[39m: \u001b[34mInstalling...\u001b[39m\n"
     ]
    },
    {
     "name": "stdout",
     "output_type": "stream",
     "text": [
      "  \u001b[34;1m•\u001b[39;22m \u001b[39mInstalling \u001b[39m\u001b[36mimportlib-resources\u001b[39m\u001b[39m (\u001b[39m\u001b[39;1m6.1.1\u001b[39;22m\u001b[39m)\u001b[39m: \u001b[34mInstalling...\u001b[39m\n"
     ]
    },
    {
     "name": "stdout",
     "output_type": "stream",
     "text": [
      "  \u001b[34;1m•\u001b[39;22m \u001b[39mInstalling \u001b[39m\u001b[36mjinja2\u001b[39m\u001b[39m (\u001b[39m\u001b[39;1m3.1.3\u001b[39;22m\u001b[39m)\u001b[39m: \u001b[34mInstalling...\u001b[39m\n"
     ]
    },
    {
     "name": "stdout",
     "output_type": "stream",
     "text": [
      "  \u001b[34;1m•\u001b[39;22m \u001b[39mInstalling \u001b[39m\u001b[36mpydantic\u001b[39m\u001b[39m (\u001b[39m\u001b[39;1m2.6.1\u001b[39;22m\u001b[39m)\u001b[39m: \u001b[34mInstalling...\u001b[39m\n"
     ]
    },
    {
     "name": "stdout",
     "output_type": "stream",
     "text": [
      "  \u001b[34;1m•\u001b[39;22m \u001b[39mInstalling \u001b[39m\u001b[36mpython-gitlab\u001b[39m\u001b[39m (\u001b[39m\u001b[39;1m4.4.0\u001b[39;22m\u001b[39m)\u001b[39m: \u001b[34mInstalling...\u001b[39m\n"
     ]
    },
    {
     "name": "stdout",
     "output_type": "stream",
     "text": [
      "  \u001b[34;1m•\u001b[39;22m \u001b[39mInstalling \u001b[39m\u001b[36mrich\u001b[39m\u001b[39m (\u001b[39m\u001b[39;1m13.7.0\u001b[39;22m\u001b[39m)\u001b[39m: \u001b[34mInstalling...\u001b[39m\n"
     ]
    },
    {
     "name": "stdout",
     "output_type": "stream",
     "text": [
      "  \u001b[32;1m•\u001b[39;22m \u001b[39mInstalling \u001b[39m\u001b[36mshellingham\u001b[39m\u001b[39m (\u001b[39m\u001b[32m1.5.4\u001b[39m\u001b[39m)\u001b[39m\n"
     ]
    },
    {
     "name": "stdout",
     "output_type": "stream",
     "text": [
      "  \u001b[32;1m•\u001b[39;22m \u001b[39mInstalling \u001b[39m\u001b[36mtomlkit\u001b[39m\u001b[39m (\u001b[39m\u001b[32m0.12.3\u001b[39m\u001b[39m)\u001b[39m\n"
     ]
    },
    {
     "name": "stdout",
     "output_type": "stream",
     "text": [
      "\u001b[6A\u001b[0J  \u001b[34;1m•\u001b[39;22m \u001b[39mInstalling \u001b[39m\u001b[36mpydantic\u001b[39m\u001b[39m (\u001b[39m\u001b[39;1m2.6.1\u001b[39;22m\u001b[39m)\u001b[39m: \u001b[34mInstalling...\u001b[39m\n"
     ]
    },
    {
     "name": "stdout",
     "output_type": "stream",
     "text": [
      "  \u001b[34;1m•\u001b[39;22m \u001b[39mInstalling \u001b[39m\u001b[36mpython-gitlab\u001b[39m\u001b[39m (\u001b[39m\u001b[39;1m4.4.0\u001b[39;22m\u001b[39m)\u001b[39m: \u001b[34mInstalling...\u001b[39m\n"
     ]
    },
    {
     "name": "stdout",
     "output_type": "stream",
     "text": [
      "  \u001b[34;1m•\u001b[39;22m \u001b[39mInstalling \u001b[39m\u001b[36mrich\u001b[39m\u001b[39m (\u001b[39m\u001b[39;1m13.7.0\u001b[39;22m\u001b[39m)\u001b[39m: \u001b[34mInstalling...\u001b[39m\n"
     ]
    },
    {
     "name": "stdout",
     "output_type": "stream",
     "text": [
      "  \u001b[32;1m•\u001b[39;22m \u001b[39mInstalling \u001b[39m\u001b[36mshellingham\u001b[39m\u001b[39m (\u001b[39m\u001b[32m1.5.4\u001b[39m\u001b[39m)\u001b[39m\n"
     ]
    },
    {
     "name": "stdout",
     "output_type": "stream",
     "text": [
      "  \u001b[32;1m•\u001b[39;22m \u001b[39mInstalling \u001b[39m\u001b[36mtomlkit\u001b[39m\u001b[39m (\u001b[39m\u001b[32m0.12.3\u001b[39m\u001b[39m)\u001b[39m\n"
     ]
    },
    {
     "name": "stdout",
     "output_type": "stream",
     "text": [
      "\u001b[5A\u001b[0J  \u001b[32;1m•\u001b[39;22m \u001b[39mInstalling \u001b[39m\u001b[36mjinja2\u001b[39m\u001b[39m (\u001b[39m\u001b[32m3.1.3\u001b[39m\u001b[39m)\u001b[39m\n"
     ]
    },
    {
     "name": "stdout",
     "output_type": "stream",
     "text": [
      "  \u001b[34;1m•\u001b[39;22m \u001b[39mInstalling \u001b[39m\u001b[36mpydantic\u001b[39m\u001b[39m (\u001b[39m\u001b[39;1m2.6.1\u001b[39;22m\u001b[39m)\u001b[39m: \u001b[34mInstalling...\u001b[39m\n"
     ]
    },
    {
     "name": "stdout",
     "output_type": "stream",
     "text": [
      "  \u001b[34;1m•\u001b[39;22m \u001b[39mInstalling \u001b[39m\u001b[36mpython-gitlab\u001b[39m\u001b[39m (\u001b[39m\u001b[39;1m4.4.0\u001b[39;22m\u001b[39m)\u001b[39m: \u001b[34mInstalling...\u001b[39m\n"
     ]
    },
    {
     "name": "stdout",
     "output_type": "stream",
     "text": [
      "  \u001b[34;1m•\u001b[39;22m \u001b[39mInstalling \u001b[39m\u001b[36mrich\u001b[39m\u001b[39m (\u001b[39m\u001b[39;1m13.7.0\u001b[39;22m\u001b[39m)\u001b[39m: \u001b[34mInstalling...\u001b[39m\n"
     ]
    },
    {
     "name": "stdout",
     "output_type": "stream",
     "text": [
      "  \u001b[32;1m•\u001b[39;22m \u001b[39mInstalling \u001b[39m\u001b[36mshellingham\u001b[39m\u001b[39m (\u001b[39m\u001b[32m1.5.4\u001b[39m\u001b[39m)\u001b[39m\n"
     ]
    },
    {
     "name": "stdout",
     "output_type": "stream",
     "text": [
      "  \u001b[32;1m•\u001b[39;22m \u001b[39mInstalling \u001b[39m\u001b[36mtomlkit\u001b[39m\u001b[39m (\u001b[39m\u001b[32m0.12.3\u001b[39m\u001b[39m)\u001b[39m\n"
     ]
    },
    {
     "name": "stdout",
     "output_type": "stream",
     "text": [
      "\u001b[7A\u001b[0J  \u001b[32;1m•\u001b[39;22m \u001b[39mInstalling \u001b[39m\u001b[36mjinja2\u001b[39m\u001b[39m (\u001b[39m\u001b[32m3.1.3\u001b[39m\u001b[39m)\u001b[39m\n"
     ]
    },
    {
     "name": "stdout",
     "output_type": "stream",
     "text": [
      "  \u001b[34;1m•\u001b[39;22m \u001b[39mInstalling \u001b[39m\u001b[36mpydantic\u001b[39m\u001b[39m (\u001b[39m\u001b[39;1m2.6.1\u001b[39;22m\u001b[39m)\u001b[39m: \u001b[34mInstalling...\u001b[39m\n"
     ]
    },
    {
     "name": "stdout",
     "output_type": "stream",
     "text": [
      "  \u001b[34;1m•\u001b[39;22m \u001b[39mInstalling \u001b[39m\u001b[36mpython-gitlab\u001b[39m\u001b[39m (\u001b[39m\u001b[39;1m4.4.0\u001b[39;22m\u001b[39m)\u001b[39m: \u001b[34mInstalling...\u001b[39m\n"
     ]
    },
    {
     "name": "stdout",
     "output_type": "stream",
     "text": [
      "  \u001b[34;1m•\u001b[39;22m \u001b[39mInstalling \u001b[39m\u001b[36mrich\u001b[39m\u001b[39m (\u001b[39m\u001b[39;1m13.7.0\u001b[39;22m\u001b[39m)\u001b[39m: \u001b[34mInstalling...\u001b[39m\n"
     ]
    },
    {
     "name": "stdout",
     "output_type": "stream",
     "text": [
      "  \u001b[32;1m•\u001b[39;22m \u001b[39mInstalling \u001b[39m\u001b[36mshellingham\u001b[39m\u001b[39m (\u001b[39m\u001b[32m1.5.4\u001b[39m\u001b[39m)\u001b[39m\n"
     ]
    },
    {
     "name": "stdout",
     "output_type": "stream",
     "text": [
      "  \u001b[32;1m•\u001b[39;22m \u001b[39mInstalling \u001b[39m\u001b[36mtomlkit\u001b[39m\u001b[39m (\u001b[39m\u001b[32m0.12.3\u001b[39m\u001b[39m)\u001b[39m\n"
     ]
    },
    {
     "name": "stdout",
     "output_type": "stream",
     "text": [
      "\u001b[6A\u001b[0J  \u001b[32;1m•\u001b[39;22m \u001b[39mInstalling \u001b[39m\u001b[36mimportlib-resources\u001b[39m\u001b[39m (\u001b[39m\u001b[32m6.1.1\u001b[39m\u001b[39m)\u001b[39m\n"
     ]
    },
    {
     "name": "stdout",
     "output_type": "stream",
     "text": [
      "  \u001b[32;1m•\u001b[39;22m \u001b[39mInstalling \u001b[39m\u001b[36mjinja2\u001b[39m\u001b[39m (\u001b[39m\u001b[32m3.1.3\u001b[39m\u001b[39m)\u001b[39m\n"
     ]
    },
    {
     "name": "stdout",
     "output_type": "stream",
     "text": [
      "  \u001b[34;1m•\u001b[39;22m \u001b[39mInstalling \u001b[39m\u001b[36mpydantic\u001b[39m\u001b[39m (\u001b[39m\u001b[39;1m2.6.1\u001b[39;22m\u001b[39m)\u001b[39m: \u001b[34mInstalling...\u001b[39m\n"
     ]
    },
    {
     "name": "stdout",
     "output_type": "stream",
     "text": [
      "  \u001b[34;1m•\u001b[39;22m \u001b[39mInstalling \u001b[39m\u001b[36mpython-gitlab\u001b[39m\u001b[39m (\u001b[39m\u001b[39;1m4.4.0\u001b[39;22m\u001b[39m)\u001b[39m: \u001b[34mInstalling...\u001b[39m\n"
     ]
    },
    {
     "name": "stdout",
     "output_type": "stream",
     "text": [
      "  \u001b[34;1m•\u001b[39;22m \u001b[39mInstalling \u001b[39m\u001b[36mrich\u001b[39m\u001b[39m (\u001b[39m\u001b[39;1m13.7.0\u001b[39;22m\u001b[39m)\u001b[39m: \u001b[34mInstalling...\u001b[39m\n"
     ]
    },
    {
     "name": "stdout",
     "output_type": "stream",
     "text": [
      "  \u001b[32;1m•\u001b[39;22m \u001b[39mInstalling \u001b[39m\u001b[36mshellingham\u001b[39m\u001b[39m (\u001b[39m\u001b[32m1.5.4\u001b[39m\u001b[39m)\u001b[39m\n"
     ]
    },
    {
     "name": "stdout",
     "output_type": "stream",
     "text": [
      "  \u001b[32;1m•\u001b[39;22m \u001b[39mInstalling \u001b[39m\u001b[36mtomlkit\u001b[39m\u001b[39m (\u001b[39m\u001b[32m0.12.3\u001b[39m\u001b[39m)\u001b[39m\n"
     ]
    },
    {
     "name": "stdout",
     "output_type": "stream",
     "text": [
      "\u001b[8A\u001b[0J  \u001b[32;1m•\u001b[39;22m \u001b[39mInstalling \u001b[39m\u001b[36mimportlib-resources\u001b[39m\u001b[39m (\u001b[39m\u001b[32m6.1.1\u001b[39m\u001b[39m)\u001b[39m\n"
     ]
    },
    {
     "name": "stdout",
     "output_type": "stream",
     "text": [
      "  \u001b[32;1m•\u001b[39;22m \u001b[39mInstalling \u001b[39m\u001b[36mjinja2\u001b[39m\u001b[39m (\u001b[39m\u001b[32m3.1.3\u001b[39m\u001b[39m)\u001b[39m\n"
     ]
    },
    {
     "name": "stdout",
     "output_type": "stream",
     "text": [
      "  \u001b[34;1m•\u001b[39;22m \u001b[39mInstalling \u001b[39m\u001b[36mpydantic\u001b[39m\u001b[39m (\u001b[39m\u001b[39;1m2.6.1\u001b[39;22m\u001b[39m)\u001b[39m: \u001b[34mInstalling...\u001b[39m\n"
     ]
    },
    {
     "name": "stdout",
     "output_type": "stream",
     "text": [
      "  \u001b[34;1m•\u001b[39;22m \u001b[39mInstalling \u001b[39m\u001b[36mpython-gitlab\u001b[39m\u001b[39m (\u001b[39m\u001b[39;1m4.4.0\u001b[39;22m\u001b[39m)\u001b[39m: \u001b[34mInstalling...\u001b[39m\n"
     ]
    },
    {
     "name": "stdout",
     "output_type": "stream",
     "text": [
      "  \u001b[34;1m•\u001b[39;22m \u001b[39mInstalling \u001b[39m\u001b[36mrich\u001b[39m\u001b[39m (\u001b[39m\u001b[39;1m13.7.0\u001b[39;22m\u001b[39m)\u001b[39m: \u001b[34mInstalling...\u001b[39m\n"
     ]
    },
    {
     "name": "stdout",
     "output_type": "stream",
     "text": [
      "  \u001b[32;1m•\u001b[39;22m \u001b[39mInstalling \u001b[39m\u001b[36mshellingham\u001b[39m\u001b[39m (\u001b[39m\u001b[32m1.5.4\u001b[39m\u001b[39m)\u001b[39m\n"
     ]
    },
    {
     "name": "stdout",
     "output_type": "stream",
     "text": [
      "  \u001b[32;1m•\u001b[39;22m \u001b[39mInstalling \u001b[39m\u001b[36mtomlkit\u001b[39m\u001b[39m (\u001b[39m\u001b[32m0.12.3\u001b[39m\u001b[39m)\u001b[39m\n"
     ]
    },
    {
     "name": "stdout",
     "output_type": "stream",
     "text": [
      "\u001b[7A\u001b[0J  \u001b[32;1m•\u001b[39;22m \u001b[39mInstalling \u001b[39m\u001b[36mgitpython\u001b[39m\u001b[39m (\u001b[39m\u001b[32m3.1.41\u001b[39m\u001b[39m)\u001b[39m\n"
     ]
    },
    {
     "name": "stdout",
     "output_type": "stream",
     "text": [
      "  \u001b[32;1m•\u001b[39;22m \u001b[39mInstalling \u001b[39m\u001b[36mimportlib-resources\u001b[39m\u001b[39m (\u001b[39m\u001b[32m6.1.1\u001b[39m\u001b[39m)\u001b[39m\n"
     ]
    },
    {
     "name": "stdout",
     "output_type": "stream",
     "text": [
      "  \u001b[32;1m•\u001b[39;22m \u001b[39mInstalling \u001b[39m\u001b[36mjinja2\u001b[39m\u001b[39m (\u001b[39m\u001b[32m3.1.3\u001b[39m\u001b[39m)\u001b[39m\n"
     ]
    },
    {
     "name": "stdout",
     "output_type": "stream",
     "text": [
      "  \u001b[34;1m•\u001b[39;22m \u001b[39mInstalling \u001b[39m\u001b[36mpydantic\u001b[39m\u001b[39m (\u001b[39m\u001b[39;1m2.6.1\u001b[39;22m\u001b[39m)\u001b[39m: \u001b[34mInstalling...\u001b[39m\n"
     ]
    },
    {
     "name": "stdout",
     "output_type": "stream",
     "text": [
      "  \u001b[34;1m•\u001b[39;22m \u001b[39mInstalling \u001b[39m\u001b[36mpython-gitlab\u001b[39m\u001b[39m (\u001b[39m\u001b[39;1m4.4.0\u001b[39;22m\u001b[39m)\u001b[39m: \u001b[34mInstalling...\u001b[39m\n"
     ]
    },
    {
     "name": "stdout",
     "output_type": "stream",
     "text": [
      "  \u001b[34;1m•\u001b[39;22m \u001b[39mInstalling \u001b[39m\u001b[36mrich\u001b[39m\u001b[39m (\u001b[39m\u001b[39;1m13.7.0\u001b[39;22m\u001b[39m)\u001b[39m: \u001b[34mInstalling...\u001b[39m\n"
     ]
    },
    {
     "name": "stdout",
     "output_type": "stream",
     "text": [
      "  \u001b[32;1m•\u001b[39;22m \u001b[39mInstalling \u001b[39m\u001b[36mshellingham\u001b[39m\u001b[39m (\u001b[39m\u001b[32m1.5.4\u001b[39m\u001b[39m)\u001b[39m\n"
     ]
    },
    {
     "name": "stdout",
     "output_type": "stream",
     "text": [
      "  \u001b[32;1m•\u001b[39;22m \u001b[39mInstalling \u001b[39m\u001b[36mtomlkit\u001b[39m\u001b[39m (\u001b[39m\u001b[32m0.12.3\u001b[39m\u001b[39m)\u001b[39m\n"
     ]
    },
    {
     "name": "stdout",
     "output_type": "stream",
     "text": [
      "\u001b[4A\u001b[0J  \u001b[34;1m•\u001b[39;22m \u001b[39mInstalling \u001b[39m\u001b[36mrich\u001b[39m\u001b[39m (\u001b[39m\u001b[39;1m13.7.0\u001b[39;22m\u001b[39m)\u001b[39m: \u001b[34mInstalling...\u001b[39m\n"
     ]
    },
    {
     "name": "stdout",
     "output_type": "stream",
     "text": [
      "  \u001b[32;1m•\u001b[39;22m \u001b[39mInstalling \u001b[39m\u001b[36mshellingham\u001b[39m\u001b[39m (\u001b[39m\u001b[32m1.5.4\u001b[39m\u001b[39m)\u001b[39m\n"
     ]
    },
    {
     "name": "stdout",
     "output_type": "stream",
     "text": [
      "  \u001b[32;1m•\u001b[39;22m \u001b[39mInstalling \u001b[39m\u001b[36mtomlkit\u001b[39m\u001b[39m (\u001b[39m\u001b[32m0.12.3\u001b[39m\u001b[39m)\u001b[39m\n"
     ]
    },
    {
     "name": "stdout",
     "output_type": "stream",
     "text": [
      "\u001b[3A\u001b[0J  \u001b[32;1m•\u001b[39;22m \u001b[39mInstalling \u001b[39m\u001b[36mpython-gitlab\u001b[39m\u001b[39m (\u001b[39m\u001b[32m4.4.0\u001b[39m\u001b[39m)\u001b[39m\n"
     ]
    },
    {
     "name": "stdout",
     "output_type": "stream",
     "text": [
      "  \u001b[34;1m•\u001b[39;22m \u001b[39mInstalling \u001b[39m\u001b[36mrich\u001b[39m\u001b[39m (\u001b[39m\u001b[39;1m13.7.0\u001b[39;22m\u001b[39m)\u001b[39m: \u001b[34mInstalling...\u001b[39m\n"
     ]
    },
    {
     "name": "stdout",
     "output_type": "stream",
     "text": [
      "  \u001b[32;1m•\u001b[39;22m \u001b[39mInstalling \u001b[39m\u001b[36mshellingham\u001b[39m\u001b[39m (\u001b[39m\u001b[32m1.5.4\u001b[39m\u001b[39m)\u001b[39m\n"
     ]
    },
    {
     "name": "stdout",
     "output_type": "stream",
     "text": [
      "  \u001b[32;1m•\u001b[39;22m \u001b[39mInstalling \u001b[39m\u001b[36mtomlkit\u001b[39m\u001b[39m (\u001b[39m\u001b[32m0.12.3\u001b[39m\u001b[39m)\u001b[39m\n"
     ]
    },
    {
     "name": "stdout",
     "output_type": "stream",
     "text": [
      "\u001b[3A\u001b[0J  \u001b[32;1m•\u001b[39;22m \u001b[39mInstalling \u001b[39m\u001b[36mshellingham\u001b[39m\u001b[39m (\u001b[39m\u001b[32m1.5.4\u001b[39m\u001b[39m)\u001b[39m\n"
     ]
    },
    {
     "name": "stdout",
     "output_type": "stream",
     "text": [
      "  \u001b[32;1m•\u001b[39;22m \u001b[39mInstalling \u001b[39m\u001b[36mtomlkit\u001b[39m\u001b[39m (\u001b[39m\u001b[32m0.12.3\u001b[39m\u001b[39m)\u001b[39m\n"
     ]
    },
    {
     "name": "stdout",
     "output_type": "stream",
     "text": [
      "\u001b[2A\u001b[0J  \u001b[32;1m•\u001b[39;22m \u001b[39mInstalling \u001b[39m\u001b[36mrich\u001b[39m\u001b[39m (\u001b[39m\u001b[32m13.7.0\u001b[39m\u001b[39m)\u001b[39m\n"
     ]
    },
    {
     "name": "stdout",
     "output_type": "stream",
     "text": [
      "  \u001b[32;1m•\u001b[39;22m \u001b[39mInstalling \u001b[39m\u001b[36mshellingham\u001b[39m\u001b[39m (\u001b[39m\u001b[32m1.5.4\u001b[39m\u001b[39m)\u001b[39m\n"
     ]
    },
    {
     "name": "stdout",
     "output_type": "stream",
     "text": [
      "  \u001b[32;1m•\u001b[39;22m \u001b[39mInstalling \u001b[39m\u001b[36mtomlkit\u001b[39m\u001b[39m (\u001b[39m\u001b[32m0.12.3\u001b[39m\u001b[39m)\u001b[39m\n"
     ]
    },
    {
     "name": "stdout",
     "output_type": "stream",
     "text": [
      "\u001b[5A\u001b[0J  \u001b[32;1m•\u001b[39;22m \u001b[39mInstalling \u001b[39m\u001b[36mpython-gitlab\u001b[39m\u001b[39m (\u001b[39m\u001b[32m4.4.0\u001b[39m\u001b[39m)\u001b[39m\n"
     ]
    },
    {
     "name": "stdout",
     "output_type": "stream",
     "text": [
      "  \u001b[32;1m•\u001b[39;22m \u001b[39mInstalling \u001b[39m\u001b[36mrich\u001b[39m\u001b[39m (\u001b[39m\u001b[32m13.7.0\u001b[39m\u001b[39m)\u001b[39m\n"
     ]
    },
    {
     "name": "stdout",
     "output_type": "stream",
     "text": [
      "  \u001b[32;1m•\u001b[39;22m \u001b[39mInstalling \u001b[39m\u001b[36mshellingham\u001b[39m\u001b[39m (\u001b[39m\u001b[32m1.5.4\u001b[39m\u001b[39m)\u001b[39m\n"
     ]
    },
    {
     "name": "stdout",
     "output_type": "stream",
     "text": [
      "  \u001b[32;1m•\u001b[39;22m \u001b[39mInstalling \u001b[39m\u001b[36mtomlkit\u001b[39m\u001b[39m (\u001b[39m\u001b[32m0.12.3\u001b[39m\u001b[39m)\u001b[39m\n"
     ]
    },
    {
     "name": "stdout",
     "output_type": "stream",
     "text": [
      "\u001b[4A\u001b[0J  \u001b[32;1m•\u001b[39;22m \u001b[39mInstalling \u001b[39m\u001b[36mpydantic\u001b[39m\u001b[39m (\u001b[39m\u001b[32m2.6.1\u001b[39m\u001b[39m)\u001b[39m\n"
     ]
    },
    {
     "name": "stdout",
     "output_type": "stream",
     "text": [
      "  \u001b[32;1m•\u001b[39;22m \u001b[39mInstalling \u001b[39m\u001b[36mpython-gitlab\u001b[39m\u001b[39m (\u001b[39m\u001b[32m4.4.0\u001b[39m\u001b[39m)\u001b[39m\n"
     ]
    },
    {
     "name": "stdout",
     "output_type": "stream",
     "text": [
      "  \u001b[32;1m•\u001b[39;22m \u001b[39mInstalling \u001b[39m\u001b[36mrich\u001b[39m\u001b[39m (\u001b[39m\u001b[32m13.7.0\u001b[39m\u001b[39m)\u001b[39m\n"
     ]
    },
    {
     "name": "stdout",
     "output_type": "stream",
     "text": [
      "  \u001b[32;1m•\u001b[39;22m \u001b[39mInstalling \u001b[39m\u001b[36mshellingham\u001b[39m\u001b[39m (\u001b[39m\u001b[32m1.5.4\u001b[39m\u001b[39m)\u001b[39m\n"
     ]
    },
    {
     "name": "stdout",
     "output_type": "stream",
     "text": [
      "  \u001b[32;1m•\u001b[39;22m \u001b[39mInstalling \u001b[39m\u001b[36mtomlkit\u001b[39m\u001b[39m (\u001b[39m\u001b[32m0.12.3\u001b[39m\u001b[39m)\u001b[39m\n"
     ]
    },
    {
     "name": "stdout",
     "output_type": "stream",
     "text": [
      "  \u001b[34;1m•\u001b[39;22m \u001b[39mInstalling \u001b[39m\u001b[36mpython-semantic-release\u001b[39m\u001b[39m (\u001b[39m\u001b[39;1m9.0.3\u001b[39;22m\u001b[39m)\u001b[39m: \u001b[34mPending...\u001b[39m\n"
     ]
    },
    {
     "name": "stdout",
     "output_type": "stream",
     "text": [
      "\u001b[1A\u001b[0J  \u001b[34;1m•\u001b[39;22m \u001b[39mInstalling \u001b[39m\u001b[36mpython-semantic-release\u001b[39m\u001b[39m (\u001b[39m\u001b[39;1m9.0.3\u001b[39;22m\u001b[39m)\u001b[39m: \u001b[34mInstalling...\u001b[39m\n"
     ]
    },
    {
     "name": "stdout",
     "output_type": "stream",
     "text": [
      "\u001b[1A\u001b[0J  \u001b[32;1m•\u001b[39;22m \u001b[39mInstalling \u001b[39m\u001b[36mpython-semantic-release\u001b[39m\u001b[39m (\u001b[39m\u001b[32m9.0.3\u001b[39m\u001b[39m)\u001b[39m\n"
     ]
    },
    {
     "name": "stdout",
     "output_type": "stream",
     "text": [
      "\n"
     ]
    },
    {
     "name": "stdout",
     "output_type": "stream",
     "text": [
      "\u001b[34mWriting lock file\u001b[39m\n"
     ]
    }
   ],
   "source": [
    "poetry add --group dev python-semantic-release"
   ]
  },
  {
   "cell_type": "markdown",
   "id": "4a996611",
   "metadata": {},
   "source": [
    "## Configure Python Semantic Release\n",
    "\n",
    "Create a configuration file for `python-semantic-release` in your project's root directory. You can either use a `.toml` file (e.g., `pyproject.toml`) or a `.semantic-release.toml` file for configuration.\n",
    "\n",
    "If you're using `pyproject.toml`, add the following configuration under `[tool.semantic_release]`:\n",
    "\n",
    "```toml\n",
    "[tool.semantic_release]\n",
    "version_variable = \"pyproject.toml:version\"\n",
    "commit_version_number = true\n",
    "upload_to_pypi = \"false\"\n",
    "```"
   ]
  },
  {
   "cell_type": "code",
   "execution_count": 6,
   "id": "138c2872",
   "metadata": {
    "tags": [
     "remove-input"
    ]
   },
   "outputs": [],
   "source": [
    "echo >> pyproject.toml\n",
    "echo '[tool.semantic_release]' >> pyproject.toml\n",
    "echo 'version_variable = \"pyproject.toml:version\"' >> pyproject.toml\n",
    "echo 'commit_version_number = true' >> pyproject.toml\n",
    "echo 'upload_to_pypi = \"false\"' >> pyproject.toml"
   ]
  },
  {
   "cell_type": "markdown",
   "id": "aad31e90",
   "metadata": {},
   "source": [
    "## Setup GitHub Actions for Continuous Deployment\n",
    "\n",
    "To automate the release process, you'll use GitHub Actions. Create a `.github/workflows/release.yml` file in your repository with the following content:\n",
    "\n",
    "```{code-block} yaml\n",
    "name: Semantic Release\n",
    "\n",
    "on:\n",
    "  push:\n",
    "    branches:\n",
    "      - main\n",
    "\n",
    "jobs:\n",
    "  release:\n",
    "    runs-on: ubuntu-latest\n",
    "    concurrency: release\n",
    "    permissions:\n",
    "      id-token: write\n",
    "      contents: write\n",
    "\n",
    "    steps:\n",
    "    - uses: actions/setup-python@v4\n",
    "      with:\n",
    "        python-version: 3.11\n",
    "    - name: Checkout code\n",
    "      uses: actions/checkout@v4\n",
    "      with:\n",
    "        fetch-depth: 0\n",
    "    - name: Python Semantic Release\n",
    "      run: |\n",
    "        pip install python-semantic-release\n",
    "        semantic-release version\n",
    "        semantic-release publish\n",
    "      env:\n",
    "        GH_TOKEN: ${{ secrets.GITHUB_TOKEN }}\n",
    "```"
   ]
  },
  {
   "cell_type": "code",
   "execution_count": 7,
   "id": "6f189b8f",
   "metadata": {
    "tags": [
     "remove-input"
    ]
   },
   "outputs": [],
   "source": [
    "mkdir -p .github/workflows/\n",
    "touch .github/workflows/release.yml\n",
    "echo 'name: Semantic Release\n",
    "\n",
    "on:\n",
    "  push:\n",
    "    branches:\n",
    "      - main\n",
    "\n",
    "jobs:\n",
    "  release:\n",
    "    runs-on: ubuntu-latest\n",
    "    concurrency: release\n",
    "    permissions:\n",
    "      id-token: write\n",
    "      contents: write\n",
    "\n",
    "    steps:\n",
    "    - uses: actions/setup-python@v4\n",
    "      with:\n",
    "        python-version: 3.11\n",
    "    - name: Checkout code\n",
    "      uses: actions/checkout@v4\n",
    "      with:\n",
    "        fetch-depth: 0\n",
    "    - name: Python Semantic Release\n",
    "      run: |\n",
    "        pip install python-semantic-release\n",
    "        semantic-release version\n",
    "        semantic-release publish\n",
    "      env:\n",
    "        GH_TOKEN: ${{ secrets.GITHUB_TOKEN }}' >> .github/workflows/release.yml"
   ]
  },
  {
   "cell_type": "markdown",
   "id": "75d07602",
   "metadata": {},
   "source": [
    "## Create a new repository \n",
    "\n",
    "Create a new empty repository in Github and name it `semver`."
   ]
  },
  {
   "cell_type": "code",
   "execution_count": 8,
   "id": "ac04502a",
   "metadata": {
    "tags": [
     "remove-input",
     "remove-output"
    ]
   },
   "outputs": [
    {
     "name": "stdout",
     "output_type": "stream",
     "text": [
      "\u001b[0;32m✓\u001b[0m Created repository mcallara/semver on GitHub\n",
      "  https://github.com/mcallara/semver\n"
     ]
    },
    {
     "name": "stdout",
     "output_type": "stream",
     "text": [
      "  https://github.com/mcallara/semver\n"
     ]
    }
   ],
   "source": [
    "/home/callaram/.conda/envs/jupyterbook/bin/gh repo create semver --public"
   ]
  },
  {
   "cell_type": "markdown",
   "id": "4387fff4",
   "metadata": {},
   "source": [
    "## Commit and Push Your Changes\n",
    "\n",
    "After configuring everything, commit your changes (including the `pyproject.toml` modifications and GitHub Actions workflow) and push them to your GitHub repository."
   ]
  },
  {
   "cell_type": "code",
   "execution_count": 9,
   "id": "37fbc30b",
   "metadata": {},
   "outputs": [
    {
     "name": "stdout",
     "output_type": "stream",
     "text": [
      "Initialized empty Git repository in /home/callaram/tds/home/ch52/poetry-demo/.git/\n",
      "[main (root-commit) b30d896] feat(semver): Setup semantic release\n",
      " 6 files changed, 703 insertions(+)\n",
      " create mode 100644 .github/workflows/release.yml\n",
      " create mode 100644 README.md\n",
      " create mode 100644 poetry.lock\n",
      " create mode 100644 poetry_demo/__init__.py\n",
      " create mode 100644 pyproject.toml\n",
      " create mode 100644 tests/__init__.py\n",
      "Enumerating objects: 9, done.\n",
      "Counting objects: 100% (9/9), done.\n",
      "Delta compression using up to 96 threads\n",
      "Compressing objects: 100% (5/5), done.\n",
      "Writing objects: 100% (9/9), 17.16 KiB | 8.58 MiB/s, done.\n",
      "Total 9 (delta 0), reused 0 (delta 0), pack-reused 0\n",
      "To github.com:mcallara/semver.git\n",
      " * [new branch]      main -> main\n",
      "Branch 'main' set up to track remote branch 'main' from 'origin'.\n"
     ]
    },
    {
     "name": "stdout",
     "output_type": "stream",
     "text": [
      "[main (root-commit) b30d896] feat(semver): Setup semantic release\n"
     ]
    },
    {
     "name": "stdout",
     "output_type": "stream",
     "text": [
      " 6 files changed, 703 insertions(+)\n"
     ]
    },
    {
     "name": "stdout",
     "output_type": "stream",
     "text": [
      " create mode 100644 .github/workflows/release.yml\n"
     ]
    },
    {
     "name": "stdout",
     "output_type": "stream",
     "text": [
      " create mode 100644 README.md\n"
     ]
    },
    {
     "name": "stdout",
     "output_type": "stream",
     "text": [
      " create mode 100644 poetry.lock\n"
     ]
    },
    {
     "name": "stdout",
     "output_type": "stream",
     "text": [
      " create mode 100644 poetry_demo/__init__.py\n"
     ]
    },
    {
     "name": "stdout",
     "output_type": "stream",
     "text": [
      " create mode 100644 pyproject.toml\n"
     ]
    },
    {
     "name": "stdout",
     "output_type": "stream",
     "text": [
      " create mode 100644 tests/__init__.py\n"
     ]
    },
    {
     "name": "stdout",
     "output_type": "stream",
     "text": [
      "Enumerating objects: 9, done.\n"
     ]
    },
    {
     "name": "stdout",
     "output_type": "stream",
     "text": [
      "Counting objects:  11% (1/9)\r"
     ]
    },
    {
     "name": "stdout",
     "output_type": "stream",
     "text": [
      "Counting objects:  22% (2/9)\r"
     ]
    },
    {
     "name": "stdout",
     "output_type": "stream",
     "text": [
      "Counting objects:  33% (3/9)\r"
     ]
    },
    {
     "name": "stdout",
     "output_type": "stream",
     "text": [
      "Counting objects:  44% (4/9)\r"
     ]
    },
    {
     "name": "stdout",
     "output_type": "stream",
     "text": [
      "Counting objects:  55% (5/9)\r"
     ]
    },
    {
     "name": "stdout",
     "output_type": "stream",
     "text": [
      "Counting objects:  66% (6/9)\r"
     ]
    },
    {
     "name": "stdout",
     "output_type": "stream",
     "text": [
      "Counting objects:  77% (7/9)\r"
     ]
    },
    {
     "name": "stdout",
     "output_type": "stream",
     "text": [
      "Counting objects:  88% (8/9)\r"
     ]
    },
    {
     "name": "stdout",
     "output_type": "stream",
     "text": [
      "Counting objects: 100% (9/9)\r"
     ]
    },
    {
     "name": "stdout",
     "output_type": "stream",
     "text": [
      "Counting objects: 100% (9/9), done.\n"
     ]
    },
    {
     "name": "stdout",
     "output_type": "stream",
     "text": [
      "Delta compression using up to 96 threads\n"
     ]
    },
    {
     "name": "stdout",
     "output_type": "stream",
     "text": [
      "Compressing objects:  20% (1/5)\r"
     ]
    },
    {
     "name": "stdout",
     "output_type": "stream",
     "text": [
      "Compressing objects:  40% (2/5)\r"
     ]
    },
    {
     "name": "stdout",
     "output_type": "stream",
     "text": [
      "Compressing objects:  60% (3/5)\r"
     ]
    },
    {
     "name": "stdout",
     "output_type": "stream",
     "text": [
      "Compressing objects:  80% (4/5)\r"
     ]
    },
    {
     "name": "stdout",
     "output_type": "stream",
     "text": [
      "Compressing objects: 100% (5/5)\r"
     ]
    },
    {
     "name": "stdout",
     "output_type": "stream",
     "text": [
      "Compressing objects: 100% (5/5), done.\n"
     ]
    },
    {
     "name": "stdout",
     "output_type": "stream",
     "text": [
      "Writing objects:  11% (1/9)\r"
     ]
    },
    {
     "name": "stdout",
     "output_type": "stream",
     "text": [
      "Writing objects:  22% (2/9)\r"
     ]
    },
    {
     "name": "stdout",
     "output_type": "stream",
     "text": [
      "Writing objects:  33% (3/9)\r"
     ]
    },
    {
     "name": "stdout",
     "output_type": "stream",
     "text": [
      "Writing objects:  44% (4/9)\r"
     ]
    },
    {
     "name": "stdout",
     "output_type": "stream",
     "text": [
      "Writing objects:  55% (5/9)\r"
     ]
    },
    {
     "name": "stdout",
     "output_type": "stream",
     "text": [
      "Writing objects:  66% (6/9)\r"
     ]
    },
    {
     "name": "stdout",
     "output_type": "stream",
     "text": [
      "Writing objects:  77% (7/9)\r"
     ]
    },
    {
     "name": "stdout",
     "output_type": "stream",
     "text": [
      "Writing objects:  88% (8/9)\r"
     ]
    },
    {
     "name": "stdout",
     "output_type": "stream",
     "text": [
      "Writing objects: 100% (9/9)\r"
     ]
    },
    {
     "name": "stdout",
     "output_type": "stream",
     "text": [
      "Writing objects: 100% (9/9), 17.16 KiB | 8.58 MiB/s, done.\n"
     ]
    },
    {
     "name": "stdout",
     "output_type": "stream",
     "text": [
      "Total 9 (delta 0), reused 0 (delta 0), pack-reused 0\n"
     ]
    },
    {
     "name": "stdout",
     "output_type": "stream",
     "text": [
      "To github.com:mcallara/semver.git\n"
     ]
    },
    {
     "name": "stdout",
     "output_type": "stream",
     "text": [
      " * [new branch]      main -> main\n"
     ]
    },
    {
     "name": "stdout",
     "output_type": "stream",
     "text": [
      "Branch 'main' set up to track remote branch 'main' from 'origin'.\n"
     ]
    }
   ],
   "source": [
    "git init\n",
    "git add .\n",
    "git commit -m \"feat(semver): Setup semantic release\"\n",
    "git branch -M main\n",
    "git remote add origin git@github.com:mcallara/semver.git\n",
    "git push -u origin main"
   ]
  },
  {
   "cell_type": "markdown",
   "id": "c4c195fb",
   "metadata": {},
   "source": [
    "## Make Semantic Commits\n",
    "\n",
    "To ensure `python-semantic-release` correctly increments version numbers, use semantic commit messages (e.g., `fix:`, `feat:`, `BREAKING CHANGE:`) for your commits. This practice helps the tool to automatically determine the next version number based on the changes made.\n",
    "\n",
    "## Conclusion\n",
    "\n",
    "You've now set up your Poetry-managed project to automatically generate the right semantic version number for each release using `python-semantic-release` and GitHub Actions. This setup automates versioning and changelog generation, allowing you to focus more on development and less on release management.\n",
    "\n",
    "% Teardown\n",
    "%```{code-cell} bash\n",
    "%gh repo delete semver --yes\n",
    "%```"
   ]
  }
 ],
 "metadata": {
  "jupytext": {
   "formats": "md:myst",
   "text_representation": {
    "extension": ".md",
    "format_name": "myst",
    "format_version": 0.13,
    "jupytext_version": "1.11.5"
   }
  },
  "kernelspec": {
   "display_name": "Bash",
   "language": "bash",
   "name": "bash"
  },
  "language_info": {
   "codemirror_mode": "shell",
   "file_extension": ".sh",
   "mimetype": "text/x-sh",
   "name": "bash"
  },
  "source_map": [
   13,
   16,
   21,
   51,
   53,
   57,
   59,
   79,
   82,
   88,
   91,
   106,
   113,
   152,
   186,
   191,
   194,
   200,
   207
  ]
 },
 "nbformat": 4,
 "nbformat_minor": 5
}