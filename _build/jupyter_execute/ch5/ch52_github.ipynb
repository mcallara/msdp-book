{
 "cells": [
  {
   "cell_type": "markdown",
   "id": "96f52d4e",
   "metadata": {},
   "source": [
    "# 5.2 Software Versioning"
   ]
  },
  {
   "cell_type": "code",
   "execution_count": null,
   "id": "f8019afa",
   "metadata": {
    "tags": [
     "remove-input"
    ]
   },
   "outputs": [],
   "source": [
    "cd ../home\n",
    "mkdir ch52\n",
    "cd ch52"
   ]
  },
  {
   "cell_type": "markdown",
   "id": "b111b8da",
   "metadata": {},
   "source": [
    "## What is Versioning?\n",
    "\n",
    "Versioning is the process of assigning unique version numbers to distinct states of software projects, allowing developers and users to track progress, manage changes, and ensure compatibility between different components. It plays a critical role in software development and release management, offering a structured way to reflect the history, stability, and compatibility of software products over time. Through versioning, teams can effectively communicate the impact of changes, manage dependencies, and facilitate the adoption of new features while maintaining the integrity of existing systems.\n",
    "\n",
    "## What is Semantic Versioning?\n",
    "\n",
    "Semantic Versioning, often abbreviated as SemVer, is a versioning scheme that aims to convey meaning about the underlying changes in a release through the version number itself. Defined by [Semantic Versioning 2.0.0](https://semver.org/), it adopts a structured format of `MAJOR.MINOR.PATCH` to differentiate between the types of changes made to a project:\n",
    "\n",
    "- **MAJOR** version when you make incompatible API changes,\n",
    "- **MINOR** version when you add functionality in a backward-compatible manner, and\n",
    "- **PATCH** version when you make backward-compatible bug fixes.\n",
    "\n",
    "Additional labels for pre-release and build metadata are available as extensions to the `MAJOR.MINOR.PATCH` format.\n",
    "\n",
    "The principles of Semantic Versioning help ensure a consistent, predictable approach to versioning that is directly tied to the significance of the changes made. It allows developers and consumers of software to make informed decisions about upgrading and integrating with other systems. By adhering to SemVer, projects can communicate the nature of changes efficiently, reduce the potential for conflicts, and facilitate easier dependency management in the complex ecosystem of software development.\n",
    "\n",
    "# Automate Semantic Versioning in Poetry Projects with Python Semantic Release\n",
    "\n",
    "Using `python-semantic-release` to automate semantic versioning in projects managed with Poetry on GitHub involves setting up `python-semantic-release` in your project, configuring it to work with Poetry, and automating the release process through GitHub Actions.\n",
    "\n",
    "## Prerequisites\n",
    "\n",
    "- A GitHub repository with a Python project managed by Poetry.\n",
    "- Basic understanding of semantic versioning, Git, and GitHub Actions.\n",
    "\n",
    "## Setup Your Python Project with Poetry\n",
    "\n",
    "Ensure your project is set up with Poetry and has a `pyproject.toml` file at its root. This file should define your project's dependencies and metadata. If your project isn't set up with Poetry yet, you can start by running:\n",
    "\n",
    "```{code-block} bash\n",
    "poetry init\n",
    "```\n",
    "\n",
    "And follow the prompts to create your `pyproject.toml`.\n",
    "\n",
    "In this section, we will use the `poetry-demo` project."
   ]
  },
  {
   "cell_type": "code",
   "execution_count": null,
   "id": "ca47b6ad",
   "metadata": {},
   "outputs": [],
   "source": [
    "poetry new poetry-demo"
   ]
  },
  {
   "cell_type": "markdown",
   "id": "fe00d2fb",
   "metadata": {},
   "source": [
    "Navegate to the root folder of the project."
   ]
  },
  {
   "cell_type": "code",
   "execution_count": null,
   "id": "f33a921c",
   "metadata": {},
   "outputs": [],
   "source": [
    "cd poetry-demo"
   ]
  },
  {
   "cell_type": "markdown",
   "id": "498dccf7",
   "metadata": {},
   "source": [
    "## Change the Python Versions Supported by the Project\n",
    "\n",
    "Since `python-semantic-release` requires `Python >=3.8`, before installing python-semantic-release, it is important that \n",
    "you check and change the Python version supported by the project.\n",
    "In the `pyproject.toml` file, look for:\n",
    "\n",
    "```toml\n",
    "[tool.poetry.dependencies]\n",
    "python = \"^3.7\"\n",
    "```\n",
    "\n",
    "Change it to: \n",
    "\n",
    "```toml\n",
    "[tool.poetry.dependencies]\n",
    "python = \"^3.8\"\n",
    "```"
   ]
  },
  {
   "cell_type": "code",
   "execution_count": null,
   "id": "b5032653",
   "metadata": {
    "tags": [
     "remove-input"
    ]
   },
   "outputs": [],
   "source": [
    "sed -i 's/python = \"^3.7\"/python = \"^3.8\"/' pyproject.toml"
   ]
  },
  {
   "cell_type": "markdown",
   "id": "7a065a77",
   "metadata": {},
   "source": [
    "## Install Python Semantic Release\n",
    "\n",
    "Add `python-semantic-release` to your development dependencies using Poetry. This ensures that the semantic release process is part of your development workflow."
   ]
  },
  {
   "cell_type": "code",
   "execution_count": null,
   "id": "bb71d0ff",
   "metadata": {
    "tags": [
     "scroll-output"
    ]
   },
   "outputs": [],
   "source": [
    "poetry add --group dev python-semantic-release"
   ]
  },
  {
   "cell_type": "markdown",
   "id": "b8a831dc",
   "metadata": {},
   "source": [
    "## Configure Python Semantic Release\n",
    "\n",
    "Create a configuration file for `python-semantic-release` in your project's root directory. You can either use a `.toml` file (e.g., `pyproject.toml`) or a `.semantic-release.toml` file for configuration.\n",
    "\n",
    "If you're using `pyproject.toml`, add the following configuration under `[tool.semantic_release]`:\n",
    "\n",
    "```toml\n",
    "[tool.semantic_release]\n",
    "version_variable = \"pyproject.toml:version\"\n",
    "commit_version_number = true\n",
    "upload_to_pypi = \"false\"\n",
    "```"
   ]
  },
  {
   "cell_type": "code",
   "execution_count": null,
   "id": "32928a80",
   "metadata": {
    "tags": [
     "remove-input"
    ]
   },
   "outputs": [],
   "source": [
    "echo >> pyproject.toml\n",
    "echo '[tool.semantic_release]' >> pyproject.toml\n",
    "echo 'version_variable = \"pyproject.toml:version\"' >> pyproject.toml\n",
    "echo 'commit_version_number = true' >> pyproject.toml\n",
    "echo 'upload_to_pypi = \"false\"' >> pyproject.toml"
   ]
  },
  {
   "cell_type": "markdown",
   "id": "1c7ba096",
   "metadata": {},
   "source": [
    "## Setup GitHub Actions for Continuous Deployment\n",
    "\n",
    "To automate the release process, you'll use GitHub Actions. Create a `.github/workflows/release.yml` file in your repository with the following content:\n",
    "\n",
    "```{code-block} yaml\n",
    "name: Semantic Release\n",
    "\n",
    "on:\n",
    "  push:\n",
    "    branches:\n",
    "      - main\n",
    "\n",
    "jobs:\n",
    "  release:\n",
    "    runs-on: ubuntu-latest\n",
    "    concurrency: release\n",
    "    permissions:\n",
    "      id-token: write\n",
    "      contents: write\n",
    "\n",
    "    steps:\n",
    "    - uses: actions/setup-python@v4\n",
    "      with:\n",
    "        python-version: 3.11\n",
    "    - name: Checkout code\n",
    "      uses: actions/checkout@v4\n",
    "      with:\n",
    "        fetch-depth: 0\n",
    "    - name: Python Semantic Release\n",
    "      run: |\n",
    "        pip install python-semantic-release\n",
    "        semantic-release version\n",
    "        semantic-release publish\n",
    "      env:\n",
    "        GH_TOKEN: ${{ secrets.GITHUB_TOKEN }}\n",
    "```"
   ]
  },
  {
   "cell_type": "code",
   "execution_count": null,
   "id": "3dd2124c",
   "metadata": {
    "tags": [
     "remove-input"
    ]
   },
   "outputs": [],
   "source": [
    "mkdir -p .github/workflows/\n",
    "touch .github/workflows/release.yml\n",
    "echo 'name: Semantic Release\n",
    "\n",
    "on:\n",
    "  push:\n",
    "    branches:\n",
    "      - main\n",
    "\n",
    "jobs:\n",
    "  release:\n",
    "    runs-on: ubuntu-latest\n",
    "    concurrency: release\n",
    "    permissions:\n",
    "      id-token: write\n",
    "      contents: write\n",
    "\n",
    "    steps:\n",
    "    - uses: actions/setup-python@v4\n",
    "      with:\n",
    "        python-version: 3.11\n",
    "    - name: Checkout code\n",
    "      uses: actions/checkout@v4\n",
    "      with:\n",
    "        fetch-depth: 0\n",
    "    - name: Python Semantic Release\n",
    "      run: |\n",
    "        pip install python-semantic-release\n",
    "        semantic-release version\n",
    "        semantic-release publish\n",
    "      env:\n",
    "        GH_TOKEN: ${{ secrets.GITHUB_TOKEN }}' >> .github/workflows/release.yml"
   ]
  },
  {
   "cell_type": "markdown",
   "id": "9e90a9dd",
   "metadata": {},
   "source": [
    "## Create a new repository \n",
    "\n",
    "Create a new empty repository in Github and name it `semver`."
   ]
  },
  {
   "cell_type": "code",
   "execution_count": null,
   "id": "72f49cbc",
   "metadata": {
    "tags": [
     "remove-input",
     "remove-output"
    ]
   },
   "outputs": [],
   "source": [
    "/home/callaram/.conda/envs/jupyterbook/bin/gh repo create semver --public"
   ]
  },
  {
   "cell_type": "markdown",
   "id": "2247147c",
   "metadata": {},
   "source": [
    "## Commit and Push Your Changes\n",
    "\n",
    "After configuring everything, commit your changes (including the `pyproject.toml` modifications and GitHub Actions workflow) and push them to your GitHub repository."
   ]
  },
  {
   "cell_type": "code",
   "execution_count": null,
   "id": "aadc3d00",
   "metadata": {},
   "outputs": [],
   "source": [
    "git init\n",
    "git add .\n",
    "git commit -m \"feat(semver): Setup semantic release\"\n",
    "git branch -M main\n",
    "git remote add origin git@github.com:mcallara/semver.git\n",
    "git push -u origin main"
   ]
  },
  {
   "cell_type": "markdown",
   "id": "cd3e7ad5",
   "metadata": {},
   "source": [
    "## Make Semantic Commits\n",
    "\n",
    "To ensure `python-semantic-release` correctly increments version numbers, use semantic commit messages (e.g., `fix:`, `feat:`, `BREAKING CHANGE:`) for your commits. This practice helps the tool to automatically determine the next version number based on the changes made.\n",
    "\n",
    "```{admonition} What to notice\n",
    ":class: hint\n",
    "\n",
    "After pushing our first commit and successfully running `python-semantic-release`, the tool will automatically generate both a release and a tag for your project, as well as a `CHANGELOG.md` file. You can find the generated release in the [Releases section](https://github.com/mcallara/semver/releases) of the `semver` repository. This section provides detailed information about what's new, improved, or fixed in each release, along with any associated assets.\n",
    "\n",
    "Similarly, the automatically created tag, marking the specific point in the repository's history for the release, can be found in the [Tags section](https://github.com/mcallara/semver/tags). Tags serve as important reference points, indicating version releases and facilitating easy navigation through the project's version history.\n",
    "```\n",
    "\n",
    "% Teardown\n",
    "%```{code-cell} bash\n",
    "%gh repo delete semver --yes\n",
    "%```"
   ]
  }
 ],
 "metadata": {
  "jupytext": {
   "formats": "md:myst",
   "text_representation": {
    "extension": ".md",
    "format_name": "myst",
    "format_version": 0.13,
    "jupytext_version": "1.11.5"
   }
  },
  "kernelspec": {
   "display_name": "Bash",
   "language": "bash",
   "name": "bash"
  },
  "source_map": [
   13,
   16,
   21,
   60,
   62,
   66,
   68,
   88,
   91,
   97,
   100,
   115,
   122,
   161,
   195,
   200,
   203,
   209,
   216
  ]
 },
 "nbformat": 4,
 "nbformat_minor": 5
}