{
 "cells": [
  {
   "cell_type": "code",
   "execution_count": 1,
   "id": "fd3d8f78",
   "metadata": {
    "tags": [
     "remove-input"
    ]
   },
   "outputs": [],
   "source": [
    "cd home/my-project"
   ]
  },
  {
   "cell_type": "markdown",
   "id": "71155e14",
   "metadata": {},
   "source": [
    "# 1.4 Merging Branches\n",
    "\n",
    "## In practice:\n",
    "In this section, we'll integrate work from `new-branch` back into `main`, exploring different merge strategies.\n",
    "\n",
    "## Types of Merges\n",
    "Understanding the different types of merges in Git is crucial for effective branch management.\n",
    "\n",
    "### Fast-forward merge\n",
    "This merge strategy is used when the target branch can be updated to point to the commit of the source branch without needing to create a new commit.\n",
    "\n",
    "### Three-way merge\n",
    "A three-way merge is used when the two branches have diverged and a new commit is required to reconcile the differences.\n",
    "\n",
    "## Discussion: How do different merges work?\n",
    "\n",
    "### Fast-forward merge\n",
    "To merge two branches, we use `git merge <branch-name>` while in the branch we want to merge into. For a fast-forward merge:"
   ]
  },
  {
   "cell_type": "code",
   "execution_count": 2,
   "id": "173b74cc",
   "metadata": {},
   "outputs": [
    {
     "name": "stdout",
     "output_type": "stream",
     "text": [
      "Switched to branch 'main'\n",
      "Updating 77c6c83..8e6c4f3\n",
      "Fast-forward\n",
      " file1.txt | 4 \u001b[32m+++\u001b[m\u001b[31m-\u001b[m\n",
      " 1 file changed, 3 insertions(+), 1 deletion(-)\n",
      "On branch main\n",
      "Untracked files:\n",
      "  (use \"git add <file>...\" to include in what will be committed)\n",
      "\t\u001b[31mfile2.txt\u001b[m\n",
      "\n",
      "nothing added to commit but untracked files present (use \"git add\" to track)\n",
      "\u001b[33mcommit 8e6c4f3655a49a46b9b947b90bb8335c2cc4f323\u001b[m\u001b[33m (\u001b[m\u001b[1;36mHEAD -> \u001b[m\u001b[1;32mmain\u001b[m\u001b[33m, \u001b[m\u001b[1;32mnew-branch\u001b[m\u001b[33m)\u001b[m\n",
      "Author: mcallara <mcallara@gmail.com>\n",
      "Date:   Wed Feb 7 14:37:33 2024 +0100\n",
      "\n",
      "    Add third line to file1.txt\n",
      "\n",
      "\u001b[33mcommit 77c6c83d7bc827417a00c6bec3fb680dac65fff0\u001b[m\n",
      "Author: mcallara <mcallara@gmail.com>\n",
      "Date:   Wed Feb 7 14:37:27 2024 +0100\n",
      "\n",
      "    Add file1.txt\n"
     ]
    },
    {
     "name": "stdout",
     "output_type": "stream",
     "text": [
      "Updating 77c6c83..8e6c4f3\n"
     ]
    },
    {
     "name": "stdout",
     "output_type": "stream",
     "text": [
      "Fast-forward\n"
     ]
    },
    {
     "name": "stdout",
     "output_type": "stream",
     "text": [
      " file1.txt | 4 \u001b[32m+++\u001b[m\u001b[31m-\u001b[m\n"
     ]
    },
    {
     "name": "stdout",
     "output_type": "stream",
     "text": [
      " 1 file changed, 3 insertions(+), 1 deletion(-)\n"
     ]
    },
    {
     "name": "stdout",
     "output_type": "stream",
     "text": [
      "On branch main\n"
     ]
    },
    {
     "name": "stdout",
     "output_type": "stream",
     "text": [
      "Untracked files:\n"
     ]
    },
    {
     "name": "stdout",
     "output_type": "stream",
     "text": [
      "  (use \"git add <file>...\" to include in what will be committed)\n"
     ]
    },
    {
     "name": "stdout",
     "output_type": "stream",
     "text": [
      "\t\u001b[31mfile2.txt\u001b[m\n"
     ]
    },
    {
     "name": "stdout",
     "output_type": "stream",
     "text": [
      "\n"
     ]
    },
    {
     "name": "stdout",
     "output_type": "stream",
     "text": [
      "nothing added to commit but untracked files present (use \"git add\" to track)\n"
     ]
    },
    {
     "name": "stdout",
     "output_type": "stream",
     "text": [
      "\u001b[33mcommit 8e6c4f3655a49a46b9b947b90bb8335c2cc4f323\u001b[m\u001b[33m (\u001b[m\u001b[1;36mHEAD -> \u001b[m\u001b[1;32mmain\u001b[m\u001b[33m, \u001b[m\u001b[1;32mnew-branch\u001b[m\u001b[33m)\u001b[m\n"
     ]
    },
    {
     "name": "stdout",
     "output_type": "stream",
     "text": [
      "Author: mcallara <mcallara@gmail.com>\n"
     ]
    },
    {
     "name": "stdout",
     "output_type": "stream",
     "text": [
      "Date:   Wed Feb 7 14:37:33 2024 +0100\n"
     ]
    },
    {
     "name": "stdout",
     "output_type": "stream",
     "text": [
      "\n"
     ]
    },
    {
     "name": "stdout",
     "output_type": "stream",
     "text": [
      "    Add third line to file1.txt\n"
     ]
    },
    {
     "name": "stdout",
     "output_type": "stream",
     "text": [
      "\n"
     ]
    },
    {
     "name": "stdout",
     "output_type": "stream",
     "text": [
      "\u001b[33mcommit 77c6c83d7bc827417a00c6bec3fb680dac65fff0\u001b[m\n"
     ]
    },
    {
     "name": "stdout",
     "output_type": "stream",
     "text": [
      "Author: mcallara <mcallara@gmail.com>\n"
     ]
    },
    {
     "name": "stdout",
     "output_type": "stream",
     "text": [
      "Date:   Wed Feb 7 14:37:27 2024 +0100\n"
     ]
    },
    {
     "name": "stdout",
     "output_type": "stream",
     "text": [
      "\n"
     ]
    },
    {
     "name": "stdout",
     "output_type": "stream",
     "text": [
      "    Add file1.txt\n"
     ]
    }
   ],
   "source": [
    "git switch main\n",
    "git merge new-branch\n",
    "git status\n",
    "git log"
   ]
  },
  {
   "cell_type": "markdown",
   "id": "ac32f45a",
   "metadata": {},
   "source": [
    "```{admonition} What to notice\n",
    ":class: hint\n",
    "The `HEAD` of `main` is now pointing to the same commit as `new-branch`.\n",
    "```\n",
    "\n",
    "Switching branches may change the working directory, especially if they point to different commits.\n",
    "\n",
    "## Exercise: Switching and Committing"
   ]
  },
  {
   "cell_type": "code",
   "execution_count": 3,
   "id": "281179f1",
   "metadata": {},
   "outputs": [
    {
     "name": "stdout",
     "output_type": "stream",
     "text": [
      "Switched to branch 'new-branch'\n",
      "[new-branch 56d2e95] Add file2 and modify file1\n",
      " 2 files changed, 3 insertions(+), 1 deletion(-)\n",
      " create mode 100644 file2.txt\n",
      "Switched to branch 'main'\n"
     ]
    },
    {
     "name": "stdout",
     "output_type": "stream",
     "text": [
      "[new-branch 56d2e95] Add file2 and modify file1\n"
     ]
    },
    {
     "name": "stdout",
     "output_type": "stream",
     "text": [
      " 2 files changed, 3 insertions(+), 1 deletion(-)\n"
     ]
    },
    {
     "name": "stdout",
     "output_type": "stream",
     "text": [
      " create mode 100644 file2.txt\n"
     ]
    },
    {
     "name": "stdout",
     "output_type": "stream",
     "text": [
      "Switched to branch 'main'\n"
     ]
    }
   ],
   "source": [
    "git switch new-branch\n",
    "touch file2.txt\n",
    "echo -n \"This is file 2.\" >> file2.txt\n",
    "echo -en \"\\nThis is the fourth line.\" >> file1.txt\n",
    "git add .\n",
    "git commit -m \"Add file2 and modify file1\"\n",
    "git switch main"
   ]
  },
  {
   "cell_type": "markdown",
   "id": "59b0d937",
   "metadata": {},
   "source": [
    "```{admonition} What to notice\n",
    ":class: hint\n",
    "The working directory content changes when switching branches.\n",
    "```\n",
    "\n",
    "Git prevents loss of work by disallowing branch switching with uncommitted changes.\n",
    "\n",
    "## Exercise: Preventing Data Loss"
   ]
  },
  {
   "cell_type": "code",
   "execution_count": 4,
   "id": "5fc731f8",
   "metadata": {},
   "outputs": [
    {
     "name": "stdout",
     "output_type": "stream",
     "text": [
      "Switched to branch 'new-branch'\n",
      "error: Your local changes to the following files would be overwritten by checkout:\n",
      "\tfile1.txt\n",
      "Please commit your changes or stash them before you switch branches.\n",
      "Aborting\n"
     ]
    },
    {
     "name": "stdout",
     "output_type": "stream",
     "text": [
      "error: Your local changes to the following files would be overwritten by checkout:\n"
     ]
    },
    {
     "name": "stdout",
     "output_type": "stream",
     "text": [
      "\tfile1.txt\n"
     ]
    },
    {
     "name": "stdout",
     "output_type": "stream",
     "text": [
      "Please commit your changes or stash them before you switch branches.\n"
     ]
    },
    {
     "name": "stdout",
     "output_type": "stream",
     "text": [
      "Aborting\n"
     ]
    },
    {
     "ename": "",
     "evalue": "1",
     "output_type": "error",
     "traceback": []
    }
   ],
   "source": [
    "git switch new-branch\n",
    "echo -en \"\\nThis is the fifth line.\" >> file1.txt\n",
    "git switch main"
   ]
  },
  {
   "cell_type": "markdown",
   "id": "bf68fe96",
   "metadata": {},
   "source": [
    "```{admonition} What to notice\n",
    ":class: hint\n",
    "Git will not allow branch switching with uncommitted changes to protect against data loss.\n",
    "```\n",
    "\n",
    "## Note on Staging\n",
    "Changes made after staging are not automatically included in the staged snapshot.\n",
    "\n",
    "## Exercise: Staging and Modifying"
   ]
  },
  {
   "cell_type": "code",
   "execution_count": 5,
   "id": "32e9752e",
   "metadata": {},
   "outputs": [
    {
     "name": "stdout",
     "output_type": "stream",
     "text": [
      "[new-branch 3db2e25] Add fifth and sixth lines to file1.txt\n",
      " 1 file changed, 3 insertions(+), 1 deletion(-)\n"
     ]
    },
    {
     "name": "stdout",
     "output_type": "stream",
     "text": [
      " 1 file changed, 3 insertions(+), 1 deletion(-)\n"
     ]
    }
   ],
   "source": [
    "git add file1.txt\n",
    "echo -en \"\\nThis is the sixth line.\" >> file1.txt\n",
    "git add file1.txt\n",
    "git commit -m \"Add fifth and sixth lines to file1.txt\""
   ]
  },
  {
   "cell_type": "markdown",
   "id": "cbb29486",
   "metadata": {},
   "source": [
    "## Viewing All Commits"
   ]
  },
  {
   "cell_type": "code",
   "execution_count": 6,
   "id": "a8140afb",
   "metadata": {},
   "outputs": [
    {
     "name": "stdout",
     "output_type": "stream",
     "text": [
      "Switched to branch 'main'\n",
      "\u001b[33mcommit 3db2e25784c9375d804b5a750b06b1387fd9b1b9\u001b[m\u001b[33m (\u001b[m\u001b[1;32mnew-branch\u001b[m\u001b[33m)\u001b[m\n",
      "Author: mcallara <mcallara@gmail.com>\n",
      "Date:   Wed Feb 7 14:37:42 2024 +0100\n",
      "\n",
      "    Add fifth and sixth lines to file1.txt\n",
      "\n",
      "\u001b[33mcommit 56d2e954b5d38b596e9c16cb4f5442b20d296e09\u001b[m\n",
      "Author: mcallara <mcallara@gmail.com>\n",
      "Date:   Wed Feb 7 14:37:41 2024 +0100\n",
      "\n",
      "    Add file2 and modify file1\n",
      "\n",
      "\u001b[33mcommit 8e6c4f3655a49a46b9b947b90bb8335c2cc4f323\u001b[m\u001b[33m (\u001b[m\u001b[1;36mHEAD -> \u001b[m\u001b[1;32mmain\u001b[m\u001b[33m)\u001b[m\n",
      "Author: mcallara <mcallara@gmail.com>\n",
      "Date:   Wed Feb 7 14:37:33 2024 +0100\n",
      "\n",
      "    Add third line to file1.txt\n",
      "\n",
      "\u001b[33mcommit 77c6c83d7bc827417a00c6bec3fb680dac65fff0\u001b[m\n",
      "Author: mcallara <mcallara@gmail.com>\n",
      "Date:   Wed Feb 7 14:37:27 2024 +0100\n",
      "\n",
      "    Add file1.txt\n"
     ]
    },
    {
     "name": "stdout",
     "output_type": "stream",
     "text": [
      "\u001b[33mcommit 3db2e25784c9375d804b5a750b06b1387fd9b1b9\u001b[m\u001b[33m (\u001b[m\u001b[1;32mnew-branch\u001b[m\u001b[33m)\u001b[m\n"
     ]
    },
    {
     "name": "stdout",
     "output_type": "stream",
     "text": [
      "Author: mcallara <mcallara@gmail.com>\n"
     ]
    },
    {
     "name": "stdout",
     "output_type": "stream",
     "text": [
      "Date:   Wed Feb 7 14:37:42 2024 +0100\n"
     ]
    },
    {
     "name": "stdout",
     "output_type": "stream",
     "text": [
      "\n"
     ]
    },
    {
     "name": "stdout",
     "output_type": "stream",
     "text": [
      "    Add fifth and sixth lines to file1.txt\n"
     ]
    },
    {
     "name": "stdout",
     "output_type": "stream",
     "text": [
      "\n"
     ]
    },
    {
     "name": "stdout",
     "output_type": "stream",
     "text": [
      "\u001b[33mcommit 56d2e954b5d38b596e9c16cb4f5442b20d296e09\u001b[m\n"
     ]
    },
    {
     "name": "stdout",
     "output_type": "stream",
     "text": [
      "Author: mcallara <mcallara@gmail.com>\n"
     ]
    },
    {
     "name": "stdout",
     "output_type": "stream",
     "text": [
      "Date:   Wed Feb 7 14:37:41 2024 +0100\n"
     ]
    },
    {
     "name": "stdout",
     "output_type": "stream",
     "text": [
      "\n"
     ]
    },
    {
     "name": "stdout",
     "output_type": "stream",
     "text": [
      "    Add file2 and modify file1\n"
     ]
    },
    {
     "name": "stdout",
     "output_type": "stream",
     "text": [
      "\n"
     ]
    },
    {
     "name": "stdout",
     "output_type": "stream",
     "text": [
      "\u001b[33mcommit 8e6c4f3655a49a46b9b947b90bb8335c2cc4f323\u001b[m\u001b[33m (\u001b[m\u001b[1;36mHEAD -> \u001b[m\u001b[1;32mmain\u001b[m\u001b[33m)\u001b[m\n"
     ]
    },
    {
     "name": "stdout",
     "output_type": "stream",
     "text": [
      "Author: mcallara <mcallara@gmail.com>\n"
     ]
    },
    {
     "name": "stdout",
     "output_type": "stream",
     "text": [
      "Date:   Wed Feb 7 14:37:33 2024 +0100\n"
     ]
    },
    {
     "name": "stdout",
     "output_type": "stream",
     "text": [
      "\n"
     ]
    },
    {
     "name": "stdout",
     "output_type": "stream",
     "text": [
      "    Add third line to file1.txt\n"
     ]
    },
    {
     "name": "stdout",
     "output_type": "stream",
     "text": [
      "\n"
     ]
    },
    {
     "name": "stdout",
     "output_type": "stream",
     "text": [
      "\u001b[33mcommit 77c6c83d7bc827417a00c6bec3fb680dac65fff0\u001b[m\n"
     ]
    },
    {
     "name": "stdout",
     "output_type": "stream",
     "text": [
      "Author: mcallara <mcallara@gmail.com>\n"
     ]
    },
    {
     "name": "stdout",
     "output_type": "stream",
     "text": [
      "Date:   Wed Feb 7 14:37:27 2024 +0100\n"
     ]
    },
    {
     "name": "stdout",
     "output_type": "stream",
     "text": [
      "\n"
     ]
    },
    {
     "name": "stdout",
     "output_type": "stream",
     "text": [
      "    Add file1.txt\n"
     ]
    }
   ],
   "source": [
    "git switch main\n",
    "git log --all"
   ]
  },
  {
   "cell_type": "markdown",
   "id": "bbb38c3f",
   "metadata": {},
   "source": [
    "```{admonition} What to notice\n",
    ":class: hint\n",
    "Commits from `new-branch` are visible with `git log --all`, showing the comprehensive history across branches.\n",
    "```\n",
    "\n",
    "## Detached HEAD State\n",
    "Exploring commits directly can lead to a detached HEAD state, which means you're no longer working on the tip of a branch.\n",
    "\n",
    "## Creating and Switching Branches\n",
    "Git offers shortcuts to create a new branch and switch to it in one operation, enhancing workflow efficiency."
   ]
  },
  {
   "cell_type": "code",
   "execution_count": 7,
   "id": "4c568783",
   "metadata": {},
   "outputs": [
    {
     "name": "stdout",
     "output_type": "stream",
     "text": [
      "Switched to a new branch 'new-feature-branch'\n"
     ]
    }
   ],
   "source": [
    "git switch -c new-feature-branch"
   ]
  },
  {
   "cell_type": "markdown",
   "id": "0deff557",
   "metadata": {},
   "source": [
    "This chapter provides practical exercises to understand merging strategies, branch management, and Git's protections against data loss."
   ]
  }
 ],
 "metadata": {
  "jupytext": {
   "formats": "md:myst",
   "text_representation": {
    "extension": ".md",
    "format_name": "myst",
    "format_version": 0.13,
    "jupytext_version": "1.11.5"
   }
  },
  "kernelspec": {
   "display_name": "Bash",
   "language": "bash",
   "name": "bash"
  },
  "language_info": {
   "codemirror_mode": "shell",
   "file_extension": ".sh",
   "mimetype": "text/x-sh",
   "name": "bash"
  },
  "source_map": [
   14,
   17,
   38,
   43,
   53,
   61,
   71,
   75,
   86,
   91,
   94,
   97,
   110,
   112
  ]
 },
 "nbformat": 4,
 "nbformat_minor": 5
}