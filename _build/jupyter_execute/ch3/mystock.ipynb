{
 "cells": [
  {
   "cell_type": "code",
   "execution_count": 3,
   "metadata": {},
   "outputs": [],
   "source": [
    "import ipytest\n",
    "ipytest.autoconfig()"
   ]
  },
  {
   "cell_type": "markdown",
   "metadata": {},
   "source": [
    "# 3.2 Test Driven Development (TDD)"
   ]
  },
  {
   "cell_type": "markdown",
   "metadata": {},
   "source": [
    "We want to create a small report that will keep track of our stocks. The price of a stock is defined by the amount and the currency (let's assume only Dollars for now).\n",
    "\n",
    "Features:\n",
    "Multiplication. The value of each stock will be the number of shares times the price of the stock.\n",
    "Sum. The total value of our portfolio will be the sum of the value of each stock.\n",
    "\n",
    "Let's implement the multiplication feature first. We will use TDD to do this. So we will start by writing a test that will fail. Then we will implement the feature and make the test pass.\n",
    "\n",
    "Current TODO list:\n",
    "- Multiplication\n",
    "- Sum\n",
    "\n",
    "Let's tackle the first element of our TODO list, Multiplication."
   ]
  },
  {
   "cell_type": "markdown",
   "metadata": {},
   "source": [
    "## Test first"
   ]
  },
  {
   "cell_type": "code",
   "execution_count": 4,
   "metadata": {},
   "outputs": [],
   "source": [
    "def test_multiplication():\n",
    "    # test that you can multiply a Dollar by a number and get the right amount.\n",
    "    five = Dollar(amount=5)\n",
    "    five.times(multiplier=2)\n",
    "    assert 10 == five.amount"
   ]
  },
  {
   "cell_type": "markdown",
   "metadata": {},
   "source": [
    "This initial implementation is adding three new points to our TODO list. We don't try to solve them now, instead we focus first on making the test pass.\n",
    "\n",
    "TODO list:\n",
    "- Multiplication\n",
    "- Make “amount” private\n",
    "- Dollar side-effects?\n",
    "- Money rounding?\n",
    "- Sum\n",
    "\n",
    "Public Fields: The amount field of the Dollar class is public, which is generally considered bad practice in object-oriented design because it exposes the internal representation of the class. Good practice encourages keeping fields private and accessing them through methods to encapsulate the data.\n",
    "Side-Effects: The times method appears to have a side effect, modifying the state of the Dollar object on which it is called. A more functional approach, or one that avoids side effects, would return a new Dollar object with the new amount, leaving the original object unchanged.\n",
    "Integers for Monetary Amounts: Using integers to represent monetary amounts can be problematic due to rounding errors and lack of precision, especially when dealing with fractions of units. A more robust approach would be to use a decimal type or a class that represents monetary amounts.\n",
    "\n",
    "Let's run pytest and see what happens."
   ]
  },
  {
   "cell_type": "code",
   "execution_count": 5,
   "metadata": {},
   "outputs": [
    {
     "name": "stdout",
     "output_type": "stream",
     "text": [
      "\u001b[1m======================================= test session starts ========================================\u001b[0m\n",
      "platform linux -- Python 3.10.4, pytest-8.0.0, pluggy-1.4.0 -- /home/callaram/.conda/envs/jupyterbook/bin/python\n",
      "cachedir: .pytest_cache\n",
      "rootdir: /home/callaram/tds\n",
      "\u001b[1mcollecting ... \u001b[0mcollected 1 item\n",
      "\n",
      "t_d5e794c4f7ee4476a7bf2e7f950b9be5.py::test_multiplication \u001b[31mFAILED\u001b[0m\u001b[31m                            [100%]\u001b[0m\n",
      "\n",
      "============================================= FAILURES =============================================\n",
      "\u001b[31m\u001b[1m_______________________________________ test_multiplication ________________________________________\u001b[0m\n",
      "\n",
      "    \u001b[0m\u001b[94mdef\u001b[39;49;00m \u001b[92mtest_multiplication\u001b[39;49;00m():\u001b[90m\u001b[39;49;00m\n",
      "        \u001b[90m# test that you can multiply a Dollar by a number and get the right amount.\u001b[39;49;00m\u001b[90m\u001b[39;49;00m\n",
      ">       five = Dollar(amount=\u001b[94m5\u001b[39;49;00m)\u001b[90m\u001b[39;49;00m\n",
      "\u001b[1m\u001b[31mE       NameError: name 'Dollar' is not defined\u001b[0m\n",
      "\n",
      "\u001b[1m\u001b[31m/tmp/ipykernel_121379/2648424505.py\u001b[0m:3: NameError\n",
      "\u001b[36m\u001b[1m===================================== short test summary info ======================================\u001b[0m\n",
      "\u001b[31mFAILED\u001b[0m t_d5e794c4f7ee4476a7bf2e7f950b9be5.py::\u001b[1mtest_multiplication\u001b[0m - NameError: name 'Dollar' is not defined\n",
      "\u001b[31m======================================== \u001b[31m\u001b[1m1 failed\u001b[0m\u001b[31m in 0.02s\u001b[0m\u001b[31m =========================================\u001b[0m\n"
     ]
    },
    {
     "data": {
      "text/plain": [
       "<ExitCode.TESTS_FAILED: 1>"
      ]
     },
     "execution_count": 5,
     "metadata": {},
     "output_type": "execute_result"
    }
   ],
   "source": [
    "ipytest.run('-vv')  # '-vv' for increased verbosity"
   ]
  },
  {
   "cell_type": "markdown",
   "metadata": {},
   "source": [
    "## Make the test pass\n",
    "Dollar is not defined. We need to define the Dollar class. Let's do that now and run pytest again."
   ]
  },
  {
   "cell_type": "code",
   "execution_count": 6,
   "metadata": {},
   "outputs": [],
   "source": [
    "class Dollar:\n",
    "    pass"
   ]
  },
  {
   "cell_type": "code",
   "execution_count": 7,
   "metadata": {},
   "outputs": [
    {
     "name": "stdout",
     "output_type": "stream",
     "text": [
      "\u001b[1m======================================= test session starts ========================================\u001b[0m\n",
      "platform linux -- Python 3.10.4, pytest-8.0.0, pluggy-1.4.0 -- /home/callaram/.conda/envs/jupyterbook/bin/python\n",
      "cachedir: .pytest_cache\n",
      "rootdir: /home/callaram/tds\n",
      "\u001b[1mcollecting ... \u001b[0mcollected 1 item\n",
      "\n",
      "t_d5e794c4f7ee4476a7bf2e7f950b9be5.py::test_multiplication \u001b[31mFAILED\u001b[0m\u001b[31m                            [100%]\u001b[0m\n",
      "\n",
      "============================================= FAILURES =============================================\n",
      "\u001b[31m\u001b[1m_______________________________________ test_multiplication ________________________________________\u001b[0m\n",
      "\n",
      "    \u001b[0m\u001b[94mdef\u001b[39;49;00m \u001b[92mtest_multiplication\u001b[39;49;00m():\u001b[90m\u001b[39;49;00m\n",
      "        \u001b[90m# test that you can multiply a Dollar by a number and get the right amount.\u001b[39;49;00m\u001b[90m\u001b[39;49;00m\n",
      ">       five = Dollar(amount=\u001b[94m5\u001b[39;49;00m)\u001b[90m\u001b[39;49;00m\n",
      "\u001b[1m\u001b[31mE       TypeError: Dollar() takes no arguments\u001b[0m\n",
      "\n",
      "\u001b[1m\u001b[31m/tmp/ipykernel_121379/2648424505.py\u001b[0m:3: TypeError\n",
      "\u001b[36m\u001b[1m===================================== short test summary info ======================================\u001b[0m\n",
      "\u001b[31mFAILED\u001b[0m t_d5e794c4f7ee4476a7bf2e7f950b9be5.py::\u001b[1mtest_multiplication\u001b[0m - TypeError: Dollar() takes no arguments\n",
      "\u001b[31m======================================== \u001b[31m\u001b[1m1 failed\u001b[0m\u001b[31m in 0.01s\u001b[0m\u001b[31m =========================================\u001b[0m\n"
     ]
    },
    {
     "data": {
      "text/plain": [
       "<ExitCode.TESTS_FAILED: 1>"
      ]
     },
     "execution_count": 7,
     "metadata": {},
     "output_type": "execute_result"
    }
   ],
   "source": [
    "ipytest.run('-vv')  # '-vv' for increased verbosity"
   ]
  },
  {
   "cell_type": "markdown",
   "metadata": {},
   "source": [
    "We need to add a constructor to the Dollar class. In particular, we want to take the amount which is an integer. Let's do that now and run pytest again."
   ]
  },
  {
   "cell_type": "code",
   "execution_count": 8,
   "metadata": {},
   "outputs": [],
   "source": [
    "class Dollar:\n",
    "    def __init__(self, amount: int):\n",
    "        pass"
   ]
  },
  {
   "cell_type": "code",
   "execution_count": 9,
   "metadata": {},
   "outputs": [
    {
     "name": "stdout",
     "output_type": "stream",
     "text": [
      "\u001b[1m======================================= test session starts ========================================\u001b[0m\n",
      "platform linux -- Python 3.10.4, pytest-8.0.0, pluggy-1.4.0 -- /home/callaram/.conda/envs/jupyterbook/bin/python\n",
      "cachedir: .pytest_cache\n",
      "rootdir: /home/callaram/tds\n",
      "\u001b[1mcollecting ... \u001b[0mcollected 1 item\n",
      "\n",
      "t_d5e794c4f7ee4476a7bf2e7f950b9be5.py::test_multiplication \u001b[31mFAILED\u001b[0m\u001b[31m                            [100%]\u001b[0m\n",
      "\n",
      "============================================= FAILURES =============================================\n",
      "\u001b[31m\u001b[1m_______________________________________ test_multiplication ________________________________________\u001b[0m\n",
      "\n",
      "    \u001b[0m\u001b[94mdef\u001b[39;49;00m \u001b[92mtest_multiplication\u001b[39;49;00m():\u001b[90m\u001b[39;49;00m\n",
      "        \u001b[90m# test that you can multiply a Dollar by a number and get the right amount.\u001b[39;49;00m\u001b[90m\u001b[39;49;00m\n",
      "        five = Dollar(amount=\u001b[94m5\u001b[39;49;00m)\u001b[90m\u001b[39;49;00m\n",
      ">       five.times(multiplier=\u001b[94m2\u001b[39;49;00m)\u001b[90m\u001b[39;49;00m\n",
      "\u001b[1m\u001b[31mE       AttributeError: 'Dollar' object has no attribute 'times'\u001b[0m\n",
      "\n",
      "\u001b[1m\u001b[31m/tmp/ipykernel_121379/2648424505.py\u001b[0m:4: AttributeError\n",
      "\u001b[36m\u001b[1m===================================== short test summary info ======================================\u001b[0m\n",
      "\u001b[31mFAILED\u001b[0m t_d5e794c4f7ee4476a7bf2e7f950b9be5.py::\u001b[1mtest_multiplication\u001b[0m - AttributeError: 'Dollar' object has no attribute 'times'\n",
      "\u001b[31m======================================== \u001b[31m\u001b[1m1 failed\u001b[0m\u001b[31m in 0.01s\u001b[0m\u001b[31m =========================================\u001b[0m\n"
     ]
    },
    {
     "data": {
      "text/plain": [
       "<ExitCode.TESTS_FAILED: 1>"
      ]
     },
     "execution_count": 9,
     "metadata": {},
     "output_type": "execute_result"
    }
   ],
   "source": [
    "ipytest.run('-vv')  # '-vv' for increased verbosity"
   ]
  },
  {
   "cell_type": "code",
   "execution_count": 10,
   "metadata": {},
   "outputs": [],
   "source": [
    "class Dollar:\n",
    "    def __init__(self, amount):\n",
    "        pass\n",
    "    \n",
    "    def times(self, multiplier):\n",
    "        pass"
   ]
  },
  {
   "cell_type": "code",
   "execution_count": 11,
   "metadata": {},
   "outputs": [
    {
     "name": "stdout",
     "output_type": "stream",
     "text": [
      "\u001b[1m======================================= test session starts ========================================\u001b[0m\n",
      "platform linux -- Python 3.10.4, pytest-8.0.0, pluggy-1.4.0 -- /home/callaram/.conda/envs/jupyterbook/bin/python\n",
      "cachedir: .pytest_cache\n",
      "rootdir: /home/callaram/tds\n",
      "\u001b[1mcollecting ... \u001b[0mcollected 1 item\n",
      "\n",
      "t_d5e794c4f7ee4476a7bf2e7f950b9be5.py::test_multiplication \u001b[31mFAILED\u001b[0m\u001b[31m                            [100%]\u001b[0m\n",
      "\n",
      "============================================= FAILURES =============================================\n",
      "\u001b[31m\u001b[1m_______________________________________ test_multiplication ________________________________________\u001b[0m\n",
      "\n",
      "    \u001b[0m\u001b[94mdef\u001b[39;49;00m \u001b[92mtest_multiplication\u001b[39;49;00m():\u001b[90m\u001b[39;49;00m\n",
      "        \u001b[90m# test that you can multiply a Dollar by a number and get the right amount.\u001b[39;49;00m\u001b[90m\u001b[39;49;00m\n",
      "        five = Dollar(amount=\u001b[94m5\u001b[39;49;00m)\u001b[90m\u001b[39;49;00m\n",
      "        five.times(multiplier=\u001b[94m2\u001b[39;49;00m)\u001b[90m\u001b[39;49;00m\n",
      ">       \u001b[94massert\u001b[39;49;00m \u001b[94m10\u001b[39;49;00m == five.amount\u001b[90m\u001b[39;49;00m\n",
      "\u001b[1m\u001b[31mE       AttributeError: 'Dollar' object has no attribute 'amount'\u001b[0m\n",
      "\n",
      "\u001b[1m\u001b[31m/tmp/ipykernel_121379/2648424505.py\u001b[0m:5: AttributeError\n",
      "\u001b[36m\u001b[1m===================================== short test summary info ======================================\u001b[0m\n",
      "\u001b[31mFAILED\u001b[0m t_d5e794c4f7ee4476a7bf2e7f950b9be5.py::\u001b[1mtest_multiplication\u001b[0m - AttributeError: 'Dollar' object has no attribute 'amount'\n",
      "\u001b[31m======================================== \u001b[31m\u001b[1m1 failed\u001b[0m\u001b[31m in 0.01s\u001b[0m\u001b[31m =========================================\u001b[0m\n"
     ]
    },
    {
     "data": {
      "text/plain": [
       "<ExitCode.TESTS_FAILED: 1>"
      ]
     },
     "execution_count": 11,
     "metadata": {},
     "output_type": "execute_result"
    }
   ],
   "source": [
    "ipytest.run('-vv')  # '-vv' for increased verbosity"
   ]
  },
  {
   "cell_type": "code",
   "execution_count": 12,
   "metadata": {},
   "outputs": [],
   "source": [
    "class Dollar:\n",
    "    def __init__(self, amount):\n",
    "        pass\n",
    "    \n",
    "    def times(self, multiplier):\n",
    "        pass\n",
    "\n",
    "    amount = None"
   ]
  },
  {
   "cell_type": "code",
   "execution_count": 13,
   "metadata": {},
   "outputs": [
    {
     "name": "stdout",
     "output_type": "stream",
     "text": [
      "\u001b[1m======================================= test session starts ========================================\u001b[0m\n",
      "platform linux -- Python 3.10.4, pytest-8.0.0, pluggy-1.4.0 -- /home/callaram/.conda/envs/jupyterbook/bin/python\n",
      "cachedir: .pytest_cache\n",
      "rootdir: /home/callaram/tds\n",
      "\u001b[1mcollecting ... \u001b[0mcollected 1 item\n",
      "\n",
      "t_d5e794c4f7ee4476a7bf2e7f950b9be5.py::test_multiplication \u001b[31mFAILED\u001b[0m\u001b[31m                            [100%]\u001b[0m\n",
      "\n",
      "============================================= FAILURES =============================================\n",
      "\u001b[31m\u001b[1m_______________________________________ test_multiplication ________________________________________\u001b[0m\n",
      "\n",
      "    \u001b[0m\u001b[94mdef\u001b[39;49;00m \u001b[92mtest_multiplication\u001b[39;49;00m():\u001b[90m\u001b[39;49;00m\n",
      "        \u001b[90m# test that you can multiply a Dollar by a number and get the right amount.\u001b[39;49;00m\u001b[90m\u001b[39;49;00m\n",
      "        five = Dollar(amount=\u001b[94m5\u001b[39;49;00m)\u001b[90m\u001b[39;49;00m\n",
      "        five.times(multiplier=\u001b[94m2\u001b[39;49;00m)\u001b[90m\u001b[39;49;00m\n",
      ">       \u001b[94massert\u001b[39;49;00m \u001b[94m10\u001b[39;49;00m == five.amount\u001b[90m\u001b[39;49;00m\n",
      "\u001b[1m\u001b[31mE       assert 10 == None\u001b[0m\n",
      "\u001b[1m\u001b[31mE        +  where None = <__main__.Dollar object at 0x146388135060>.amount\u001b[0m\n",
      "\n",
      "\u001b[1m\u001b[31m/tmp/ipykernel_121379/2648424505.py\u001b[0m:5: AssertionError\n",
      "\u001b[36m\u001b[1m===================================== short test summary info ======================================\u001b[0m\n",
      "\u001b[31mFAILED\u001b[0m t_d5e794c4f7ee4476a7bf2e7f950b9be5.py::\u001b[1mtest_multiplication\u001b[0m - assert 10 == None\n",
      "\u001b[31m======================================== \u001b[31m\u001b[1m1 failed\u001b[0m\u001b[31m in 0.01s\u001b[0m\u001b[31m =========================================\u001b[0m\n"
     ]
    },
    {
     "data": {
      "text/plain": [
       "<ExitCode.TESTS_FAILED: 1>"
      ]
     },
     "execution_count": 13,
     "metadata": {},
     "output_type": "execute_result"
    }
   ],
   "source": [
    "ipytest.run('-vv')  # '-vv' for increased verbosity"
   ]
  },
  {
   "cell_type": "code",
   "execution_count": 14,
   "metadata": {},
   "outputs": [],
   "source": [
    "class Dollar:\n",
    "    def __init__(self, amount):\n",
    "        pass\n",
    "    \n",
    "    def times(self, multiplier):\n",
    "        pass\n",
    "\n",
    "    amount = 10"
   ]
  },
  {
   "cell_type": "code",
   "execution_count": 15,
   "metadata": {},
   "outputs": [
    {
     "name": "stdout",
     "output_type": "stream",
     "text": [
      "\u001b[1m======================================= test session starts ========================================\u001b[0m\n",
      "platform linux -- Python 3.10.4, pytest-8.0.0, pluggy-1.4.0 -- /home/callaram/.conda/envs/jupyterbook/bin/python\n",
      "cachedir: .pytest_cache\n",
      "rootdir: /home/callaram/tds\n",
      "\u001b[1mcollecting ... \u001b[0mcollected 1 item\n",
      "\n",
      "t_d5e794c4f7ee4476a7bf2e7f950b9be5.py::test_multiplication \u001b[32mPASSED\u001b[0m\u001b[32m                            [100%]\u001b[0m\n",
      "\n",
      "\u001b[32m======================================== \u001b[32m\u001b[1m1 passed\u001b[0m\u001b[32m in 0.01s\u001b[0m\u001b[32m =========================================\u001b[0m\n"
     ]
    },
    {
     "data": {
      "text/plain": [
       "<ExitCode.OK: 0>"
      ]
     },
     "execution_count": 15,
     "metadata": {},
     "output_type": "execute_result"
    }
   ],
   "source": [
    "ipytest.run('-vv')  # '-vv' for increased verbosity"
   ]
  },
  {
   "cell_type": "markdown",
   "metadata": {},
   "source": [
    "## Refactoring. \n",
    "Removing duplication in the code and the test"
   ]
  },
  {
   "cell_type": "code",
   "execution_count": 16,
   "metadata": {},
   "outputs": [],
   "source": [
    "def test_multiplication():\n",
    "    # test that you can multiply a Dollar by a number and get the right amount.\n",
    "    five = Dollar(5)\n",
    "    five.times(2)\n",
    "    assert 10 == five.amount\n",
    "\n",
    "# If we rewrite the 10 as 5 * 2, the duplication becomes more evident.\n",
    "class Dollar:\n",
    "    def __init__(self, amount):\n",
    "        pass\n",
    "    \n",
    "    def times(self, multiplier):\n",
    "        pass\n",
    "\n",
    "    amount = 5 * 2"
   ]
  },
  {
   "cell_type": "code",
   "execution_count": 17,
   "metadata": {},
   "outputs": [
    {
     "name": "stdout",
     "output_type": "stream",
     "text": [
      "\u001b[1m======================================= test session starts ========================================\u001b[0m\n",
      "platform linux -- Python 3.10.4, pytest-8.0.0, pluggy-1.4.0 -- /home/callaram/.conda/envs/jupyterbook/bin/python\n",
      "cachedir: .pytest_cache\n",
      "rootdir: /home/callaram/tds\n",
      "\u001b[1mcollecting ... \u001b[0mcollected 1 item\n",
      "\n",
      "t_d5e794c4f7ee4476a7bf2e7f950b9be5.py::test_multiplication \u001b[32mPASSED\u001b[0m\u001b[32m                            [100%]\u001b[0m\n",
      "\n",
      "\u001b[32m======================================== \u001b[32m\u001b[1m1 passed\u001b[0m\u001b[32m in 0.01s\u001b[0m\u001b[32m =========================================\u001b[0m\n"
     ]
    },
    {
     "data": {
      "text/plain": [
       "<ExitCode.OK: 0>"
      ]
     },
     "execution_count": 17,
     "metadata": {},
     "output_type": "execute_result"
    }
   ],
   "source": [
    "ipytest.run('-vv')  # '-vv' for increased verbosity"
   ]
  },
  {
   "cell_type": "code",
   "execution_count": 18,
   "metadata": {},
   "outputs": [],
   "source": [
    "def test_multiplication():\n",
    "    # test that you can multiply a Dollar by a number and get the right amount.\n",
    "    five = Dollar(5)\n",
    "    five.times(2)\n",
    "    assert 10 == five.amount\n",
    "\n",
    "# If we rewrite the 10 as 5 * 2, the duplication becomes more evident.\n",
    "class Dollar:\n",
    "    def __init__(self, amount):\n",
    "        pass\n",
    "    \n",
    "    def times(self, multiplier):\n",
    "        self.amount = 5 * 2"
   ]
  },
  {
   "cell_type": "code",
   "execution_count": 19,
   "metadata": {},
   "outputs": [
    {
     "name": "stdout",
     "output_type": "stream",
     "text": [
      "\u001b[1m======================================= test session starts ========================================\u001b[0m\n",
      "platform linux -- Python 3.10.4, pytest-8.0.0, pluggy-1.4.0 -- /home/callaram/.conda/envs/jupyterbook/bin/python\n",
      "cachedir: .pytest_cache\n",
      "rootdir: /home/callaram/tds\n",
      "\u001b[1mcollecting ... \u001b[0mcollected 1 item\n",
      "\n",
      "t_d5e794c4f7ee4476a7bf2e7f950b9be5.py::test_multiplication \u001b[32mPASSED\u001b[0m\u001b[32m                            [100%]\u001b[0m\n",
      "\n",
      "\u001b[32m======================================== \u001b[32m\u001b[1m1 passed\u001b[0m\u001b[32m in 0.01s\u001b[0m\u001b[32m =========================================\u001b[0m\n"
     ]
    },
    {
     "data": {
      "text/plain": [
       "<ExitCode.OK: 0>"
      ]
     },
     "execution_count": 19,
     "metadata": {},
     "output_type": "execute_result"
    }
   ],
   "source": [
    "ipytest.run('-vv')  # '-vv' for increased verbosity"
   ]
  },
  {
   "cell_type": "code",
   "execution_count": 20,
   "metadata": {},
   "outputs": [],
   "source": [
    "def test_multiplication():\n",
    "    # test that you can multiply a Dollar by a number and get the right amount.\n",
    "    five = Dollar(5)\n",
    "    five.times(2)\n",
    "    assert 10 == five.amount\n",
    "\n",
    "# If we rewrite the 10 as 5 * 2, the duplication becomes more evident.\n",
    "class Dollar:\n",
    "    def __init__(self, amount):\n",
    "        self.amount = amount\n",
    "    \n",
    "    def times(self, multiplier):\n",
    "        self.amount = self.amount * 2"
   ]
  },
  {
   "cell_type": "code",
   "execution_count": 21,
   "metadata": {},
   "outputs": [
    {
     "name": "stdout",
     "output_type": "stream",
     "text": [
      "\u001b[1m======================================= test session starts ========================================\u001b[0m\n",
      "platform linux -- Python 3.10.4, pytest-8.0.0, pluggy-1.4.0 -- /home/callaram/.conda/envs/jupyterbook/bin/python\n",
      "cachedir: .pytest_cache\n",
      "rootdir: /home/callaram/tds\n",
      "\u001b[1mcollecting ... \u001b[0mcollected 1 item\n",
      "\n",
      "t_d5e794c4f7ee4476a7bf2e7f950b9be5.py::test_multiplication \u001b[32mPASSED\u001b[0m\u001b[32m                            [100%]\u001b[0m\n",
      "\n",
      "\u001b[32m======================================== \u001b[32m\u001b[1m1 passed\u001b[0m\u001b[32m in 0.01s\u001b[0m\u001b[32m =========================================\u001b[0m\n"
     ]
    },
    {
     "data": {
      "text/plain": [
       "<ExitCode.OK: 0>"
      ]
     },
     "execution_count": 21,
     "metadata": {},
     "output_type": "execute_result"
    }
   ],
   "source": [
    "ipytest.run('-vv')  # '-vv' for increased verbosity"
   ]
  },
  {
   "cell_type": "code",
   "execution_count": 22,
   "metadata": {},
   "outputs": [],
   "source": [
    "def test_multiplication():\n",
    "    # test that you can multiply a Dollar by a number and get the right amount.\n",
    "    five = Dollar(5)\n",
    "    five.times(2)\n",
    "    assert 10 == five.amount\n",
    "\n",
    "# If we rewrite the 10 as 5 * 2, the duplication becomes more evident.\n",
    "class Dollar:\n",
    "    def __init__(self, amount):\n",
    "        self.amount = amount\n",
    "    \n",
    "    def times(self, multiplier):\n",
    "        self.amount = self.amount * multiplier"
   ]
  },
  {
   "cell_type": "code",
   "execution_count": 23,
   "metadata": {},
   "outputs": [
    {
     "name": "stdout",
     "output_type": "stream",
     "text": [
      "\u001b[1m======================================= test session starts ========================================\u001b[0m\n",
      "platform linux -- Python 3.10.4, pytest-8.0.0, pluggy-1.4.0 -- /home/callaram/.conda/envs/jupyterbook/bin/python\n",
      "cachedir: .pytest_cache\n",
      "rootdir: /home/callaram/tds\n",
      "\u001b[1mcollecting ... \u001b[0mcollected 1 item\n",
      "\n",
      "t_d5e794c4f7ee4476a7bf2e7f950b9be5.py::test_multiplication \u001b[32mPASSED\u001b[0m\u001b[32m                            [100%]\u001b[0m\n",
      "\n",
      "\u001b[32m======================================== \u001b[32m\u001b[1m1 passed\u001b[0m\u001b[32m in 0.01s\u001b[0m\u001b[32m =========================================\u001b[0m\n"
     ]
    },
    {
     "data": {
      "text/plain": [
       "<ExitCode.OK: 0>"
      ]
     },
     "execution_count": 23,
     "metadata": {},
     "output_type": "execute_result"
    }
   ],
   "source": [
    "ipytest.run('-vv')  # '-vv' for increased verbosity"
   ]
  },
  {
   "cell_type": "code",
   "execution_count": 24,
   "metadata": {},
   "outputs": [],
   "source": [
    "def test_multiplication():\n",
    "    # test that you can multiply a Dollar by a number and get the right amount.\n",
    "    five = Dollar(5)\n",
    "    five.times(2)\n",
    "    assert 10 == five.amount\n",
    "\n",
    "# If we rewrite the 10 as 5 * 2, the duplication becomes more evident.\n",
    "class Dollar:\n",
    "    def __init__(self, amount):\n",
    "        self.amount = amount\n",
    "    \n",
    "    def times(self, multiplier):\n",
    "        self.amount *= multiplier"
   ]
  },
  {
   "cell_type": "code",
   "execution_count": 25,
   "metadata": {},
   "outputs": [
    {
     "name": "stdout",
     "output_type": "stream",
     "text": [
      "\u001b[1m======================================= test session starts ========================================\u001b[0m\n",
      "platform linux -- Python 3.10.4, pytest-8.0.0, pluggy-1.4.0 -- /home/callaram/.conda/envs/jupyterbook/bin/python\n",
      "cachedir: .pytest_cache\n",
      "rootdir: /home/callaram/tds\n",
      "\u001b[1mcollecting ... \u001b[0mcollected 1 item\n",
      "\n",
      "t_d5e794c4f7ee4476a7bf2e7f950b9be5.py::test_multiplication \u001b[32mPASSED\u001b[0m\u001b[32m                            [100%]\u001b[0m\n",
      "\n",
      "\u001b[32m======================================== \u001b[32m\u001b[1m1 passed\u001b[0m\u001b[32m in 0.01s\u001b[0m\u001b[32m =========================================\u001b[0m\n"
     ]
    },
    {
     "data": {
      "text/plain": [
       "<ExitCode.OK: 0>"
      ]
     },
     "execution_count": 25,
     "metadata": {},
     "output_type": "execute_result"
    }
   ],
   "source": [
    "ipytest.run('-vv')  # '-vv' for increased verbosity"
   ]
  },
  {
   "cell_type": "markdown",
   "metadata": {},
   "source": [
    "## Next element on the list: Side-effects\n",
    "### We start a new cycle. Step 1: Create (or add) a test"
   ]
  },
  {
   "cell_type": "code",
   "execution_count": 26,
   "metadata": {},
   "outputs": [],
   "source": [
    "def test_multiplication():\n",
    "    # test that you can multiply a Dollar by a number and get the right amount.\n",
    "    five = Dollar(5)\n",
    "    five.times(2)\n",
    "    assert 10 == five.amount \n",
    "    five.times(3)\n",
    "    assert 15 == five.amount"
   ]
  },
  {
   "cell_type": "code",
   "execution_count": 27,
   "metadata": {},
   "outputs": [
    {
     "name": "stdout",
     "output_type": "stream",
     "text": [
      "\u001b[1m======================================= test session starts ========================================\u001b[0m\n",
      "platform linux -- Python 3.10.4, pytest-8.0.0, pluggy-1.4.0 -- /home/callaram/.conda/envs/jupyterbook/bin/python\n",
      "cachedir: .pytest_cache\n",
      "rootdir: /home/callaram/tds\n",
      "\u001b[1mcollecting ... \u001b[0mcollected 1 item\n",
      "\n",
      "t_d5e794c4f7ee4476a7bf2e7f950b9be5.py::test_multiplication \u001b[31mFAILED\u001b[0m\u001b[31m                            [100%]\u001b[0m\n",
      "\n",
      "============================================= FAILURES =============================================\n",
      "\u001b[31m\u001b[1m_______________________________________ test_multiplication ________________________________________\u001b[0m\n",
      "\n",
      "    \u001b[0m\u001b[94mdef\u001b[39;49;00m \u001b[92mtest_multiplication\u001b[39;49;00m():\u001b[90m\u001b[39;49;00m\n",
      "        \u001b[90m# test that you can multiply a Dollar by a number and get the right amount.\u001b[39;49;00m\u001b[90m\u001b[39;49;00m\n",
      "        five = Dollar(\u001b[94m5\u001b[39;49;00m)\u001b[90m\u001b[39;49;00m\n",
      "        five.times(\u001b[94m2\u001b[39;49;00m)\u001b[90m\u001b[39;49;00m\n",
      "        \u001b[94massert\u001b[39;49;00m \u001b[94m10\u001b[39;49;00m == five.amount\u001b[90m\u001b[39;49;00m\n",
      "        five.times(\u001b[94m3\u001b[39;49;00m)\u001b[90m\u001b[39;49;00m\n",
      ">       \u001b[94massert\u001b[39;49;00m \u001b[94m15\u001b[39;49;00m == five.amount\u001b[90m\u001b[39;49;00m\n",
      "\u001b[1m\u001b[31mE       assert 15 == 30\u001b[0m\n",
      "\u001b[1m\u001b[31mE        +  where 30 = <__main__.Dollar object at 0x14636be06830>.amount\u001b[0m\n",
      "\n",
      "\u001b[1m\u001b[31m/tmp/ipykernel_121379/2074498160.py\u001b[0m:7: AssertionError\n",
      "\u001b[36m\u001b[1m===================================== short test summary info ======================================\u001b[0m\n",
      "\u001b[31mFAILED\u001b[0m t_d5e794c4f7ee4476a7bf2e7f950b9be5.py::\u001b[1mtest_multiplication\u001b[0m - assert 15 == 30\n",
      "\u001b[31m======================================== \u001b[31m\u001b[1m1 failed\u001b[0m\u001b[31m in 0.01s\u001b[0m\u001b[31m =========================================\u001b[0m\n"
     ]
    },
    {
     "data": {
      "text/plain": [
       "<ExitCode.TESTS_FAILED: 1>"
      ]
     },
     "execution_count": 27,
     "metadata": {},
     "output_type": "execute_result"
    }
   ],
   "source": [
    "ipytest.run('-vv')  # '-vv' for increased verbosity"
   ]
  },
  {
   "cell_type": "markdown",
   "metadata": {},
   "source": [
    "At the moment, when we multiply a Dollar, the amount changes. This generates what we call a side-effect.\n",
    "\n",
    "\"Side effects can make code more difficult to reason about, since they introduce hidden dependencies and make it harder to understand how changes to one part of the code will affect the rest of the system.\"\n",
    "\n",
    "So to avoid this side-effect, when we will multiply our dollar, we will return a new dollar as a result instead of modifying the original object.\n",
    "\n",
    "\"value object\" is an object that represents a simple entity whose equality is not based on identity: i.e. two value objects are equal when they have the same value, not necessarily being the same object. \n",
    "\n",
    "Reference: Value Object is presented in \"Domain-Driven Design - Tackling Complexity in the Heart of Software - Eric Evans\" and is also a design pattern.\n",
    "\n",
    "\"immutable object\" is an object whose state cannot be modified after it is created. This is in contrast to a mutable object, which can be modified after it is created.\n",
    "\n",
    "Making Dollar an immutable object will help us avoid side-effects."
   ]
  },
  {
   "cell_type": "code",
   "execution_count": 28,
   "metadata": {},
   "outputs": [],
   "source": [
    "def test_multiplication():\n",
    "    # test that you can multiply a Dollar by a number and get the right amount.\n",
    "    five = Dollar(5)\n",
    "    ten = five.times(2)\n",
    "    assert 10 == ten.amount \n",
    "    fifteen = five.times(3)\n",
    "    assert 15 == fifteen.amount"
   ]
  },
  {
   "cell_type": "code",
   "execution_count": 29,
   "metadata": {},
   "outputs": [
    {
     "name": "stdout",
     "output_type": "stream",
     "text": [
      "\u001b[1m======================================= test session starts ========================================\u001b[0m\n",
      "platform linux -- Python 3.10.4, pytest-8.0.0, pluggy-1.4.0 -- /home/callaram/.conda/envs/jupyterbook/bin/python\n",
      "cachedir: .pytest_cache\n",
      "rootdir: /home/callaram/tds\n",
      "\u001b[1mcollecting ... \u001b[0mcollected 1 item\n",
      "\n",
      "t_d5e794c4f7ee4476a7bf2e7f950b9be5.py::test_multiplication \u001b[31mFAILED\u001b[0m\u001b[31m                            [100%]\u001b[0m\n",
      "\n",
      "============================================= FAILURES =============================================\n",
      "\u001b[31m\u001b[1m_______________________________________ test_multiplication ________________________________________\u001b[0m\n",
      "\n",
      "    \u001b[0m\u001b[94mdef\u001b[39;49;00m \u001b[92mtest_multiplication\u001b[39;49;00m():\u001b[90m\u001b[39;49;00m\n",
      "        \u001b[90m# test that you can multiply a Dollar by a number and get the right amount.\u001b[39;49;00m\u001b[90m\u001b[39;49;00m\n",
      "        five = Dollar(\u001b[94m5\u001b[39;49;00m)\u001b[90m\u001b[39;49;00m\n",
      "        ten = five.times(\u001b[94m2\u001b[39;49;00m)\u001b[90m\u001b[39;49;00m\n",
      ">       \u001b[94massert\u001b[39;49;00m \u001b[94m10\u001b[39;49;00m == ten.amount\u001b[90m\u001b[39;49;00m\n",
      "\u001b[1m\u001b[31mE       AttributeError: 'NoneType' object has no attribute 'amount'\u001b[0m\n",
      "\n",
      "\u001b[1m\u001b[31m/tmp/ipykernel_121379/1909386861.py\u001b[0m:5: AttributeError\n",
      "\u001b[36m\u001b[1m===================================== short test summary info ======================================\u001b[0m\n",
      "\u001b[31mFAILED\u001b[0m t_d5e794c4f7ee4476a7bf2e7f950b9be5.py::\u001b[1mtest_multiplication\u001b[0m - AttributeError: 'NoneType' object has no attribute 'amount'\n",
      "\u001b[31m======================================== \u001b[31m\u001b[1m1 failed\u001b[0m\u001b[31m in 0.01s\u001b[0m\u001b[31m =========================================\u001b[0m\n"
     ]
    },
    {
     "data": {
      "text/plain": [
       "<ExitCode.TESTS_FAILED: 1>"
      ]
     },
     "execution_count": 29,
     "metadata": {},
     "output_type": "execute_result"
    }
   ],
   "source": [
    "ipytest.run('-vv')  # '-vv' for increased verbosity"
   ]
  },
  {
   "cell_type": "code",
   "execution_count": 30,
   "metadata": {},
   "outputs": [],
   "source": [
    "class Dollar:\n",
    "    def __init__(self, amount):\n",
    "        self.amount = amount\n",
    "    \n",
    "    def times(self, multiplier):\n",
    "        return Dollar(self.amount * multiplier)"
   ]
  },
  {
   "cell_type": "code",
   "execution_count": 31,
   "metadata": {},
   "outputs": [
    {
     "name": "stdout",
     "output_type": "stream",
     "text": [
      "\u001b[1m======================================= test session starts ========================================\u001b[0m\n",
      "platform linux -- Python 3.10.4, pytest-8.0.0, pluggy-1.4.0 -- /home/callaram/.conda/envs/jupyterbook/bin/python\n",
      "cachedir: .pytest_cache\n",
      "rootdir: /home/callaram/tds\n",
      "\u001b[1mcollecting ... \u001b[0mcollected 1 item\n",
      "\n",
      "t_d5e794c4f7ee4476a7bf2e7f950b9be5.py::test_multiplication \u001b[32mPASSED\u001b[0m\u001b[32m                            [100%]\u001b[0m\n",
      "\n",
      "\u001b[32m======================================== \u001b[32m\u001b[1m1 passed\u001b[0m\u001b[32m in 0.01s\u001b[0m\u001b[32m =========================================\u001b[0m\n"
     ]
    },
    {
     "data": {
      "text/plain": [
       "<ExitCode.OK: 0>"
      ]
     },
     "execution_count": 31,
     "metadata": {},
     "output_type": "execute_result"
    }
   ],
   "source": [
    "ipytest.run('-vv')  # '-vv' for increased verbosity"
   ]
  },
  {
   "cell_type": "markdown",
   "metadata": {},
   "source": [
    "TODO list:\n",
    "- ~~Multiplication~~\n",
    "- Make “amount” private\n",
    "- ~~Dollar side-effects?~~\n",
    "- Money rounding?\n",
    "- Sum\n",
    "\n",
    "Implications of Value Objects\n",
    "- since they are inmutable objects, we know that no operation will change the state of the object.\n",
    "- they should implement equals(): We need to specify when two value objects are equal.\n",
    "- they should implement hash(): The hash code of objects that are consider equal needs to be the same.\n",
    "\n",
    "TODO list:\n",
    "- ~~Multiplication~~\n",
    "- Make “amount” private\n",
    "- ~~Dollar side-effects?~~\n",
    "- Money rounding?\n",
    "- Sum\n",
    "- equals()\n",
    "- hash()"
   ]
  },
  {
   "cell_type": "markdown",
   "metadata": {},
   "source": [
    "## New cycle. equals()"
   ]
  },
  {
   "cell_type": "code",
   "execution_count": 32,
   "metadata": {},
   "outputs": [],
   "source": [
    "def test_equality():\n",
    "    assert Dollar(5) == Dollar(5)\n",
    "    assert Dollar(5) != Dollar(6)"
   ]
  },
  {
   "cell_type": "code",
   "execution_count": 33,
   "metadata": {},
   "outputs": [
    {
     "name": "stdout",
     "output_type": "stream",
     "text": [
      "\u001b[1m======================================= test session starts ========================================\u001b[0m\n",
      "platform linux -- Python 3.10.4, pytest-8.0.0, pluggy-1.4.0 -- /home/callaram/.conda/envs/jupyterbook/bin/python\n",
      "cachedir: .pytest_cache\n",
      "rootdir: /home/callaram/tds\n",
      "\u001b[1mcollecting ... \u001b[0mcollected 2 items\n",
      "\n",
      "t_d5e794c4f7ee4476a7bf2e7f950b9be5.py::test_multiplication \u001b[32mPASSED\u001b[0m\u001b[32m                            [ 50%]\u001b[0m\n",
      "t_d5e794c4f7ee4476a7bf2e7f950b9be5.py::test_equality \u001b[31mFAILED\u001b[0m\u001b[31m                                  [100%]\u001b[0m\n",
      "\n",
      "============================================= FAILURES =============================================\n",
      "\u001b[31m\u001b[1m__________________________________________ test_equality ___________________________________________\u001b[0m\n",
      "\n",
      "    \u001b[0m\u001b[94mdef\u001b[39;49;00m \u001b[92mtest_equality\u001b[39;49;00m():\u001b[90m\u001b[39;49;00m\n",
      ">       \u001b[94massert\u001b[39;49;00m Dollar(\u001b[94m5\u001b[39;49;00m) == Dollar(\u001b[94m5\u001b[39;49;00m)\u001b[90m\u001b[39;49;00m\n",
      "\u001b[1m\u001b[31mE       assert <__main__.Dollar object at 0x14636be1e9e0> == <__main__.Dollar object at 0x14636be1c790>\u001b[0m\n",
      "\u001b[1m\u001b[31mE        +  where <__main__.Dollar object at 0x14636be1e9e0> = Dollar(5)\u001b[0m\n",
      "\u001b[1m\u001b[31mE        +  and   <__main__.Dollar object at 0x14636be1c790> = Dollar(5)\u001b[0m\n",
      "\n",
      "\u001b[1m\u001b[31m/tmp/ipykernel_121379/3170841363.py\u001b[0m:2: AssertionError\n",
      "\u001b[36m\u001b[1m===================================== short test summary info ======================================\u001b[0m\n",
      "\u001b[31mFAILED\u001b[0m t_d5e794c4f7ee4476a7bf2e7f950b9be5.py::\u001b[1mtest_equality\u001b[0m - assert <__main__.Dollar object at 0x14636be1e9e0> == <__main__.Dollar object at 0x14636be1c790>\n",
      "\u001b[31m=================================== \u001b[31m\u001b[1m1 failed\u001b[0m, \u001b[32m1 passed\u001b[0m\u001b[31m in 0.01s\u001b[0m\u001b[31m ====================================\u001b[0m\n"
     ]
    },
    {
     "data": {
      "text/plain": [
       "<ExitCode.TESTS_FAILED: 1>"
      ]
     },
     "execution_count": 33,
     "metadata": {},
     "output_type": "execute_result"
    }
   ],
   "source": [
    "ipytest.run('-vv')  # '-vv' for increased verbosity"
   ]
  },
  {
   "cell_type": "markdown",
   "metadata": {},
   "source": [
    "Generalization (or Triangulation when learning from 2 examples). We are trying to find the general solution, by making it fit more than one example. Does it remind you of something? Yes, it's the same principle we used when we were triangulating the implementation of the multiplication. We started with a specific example (5 * 2 = 10) and then we generalized it to a more general case (5 * 2 = 10 and 5 * 3 = 15). First, we overfited to 10, then we generalized to amount * multiplier."
   ]
  },
  {
   "cell_type": "code",
   "execution_count": 34,
   "metadata": {},
   "outputs": [],
   "source": [
    "class Dollar:\n",
    "    def __init__(self, amount):\n",
    "        self.amount = amount\n",
    "    \n",
    "    def times(self, multiplier):\n",
    "        return Dollar(self.amount * multiplier)\n",
    "    \n",
    "    def __eq__(self, other):\n",
    "        return self.amount == other.amount"
   ]
  },
  {
   "cell_type": "code",
   "execution_count": 35,
   "metadata": {},
   "outputs": [
    {
     "name": "stdout",
     "output_type": "stream",
     "text": [
      "\u001b[1m======================================= test session starts ========================================\u001b[0m\n",
      "platform linux -- Python 3.10.4, pytest-8.0.0, pluggy-1.4.0 -- /home/callaram/.conda/envs/jupyterbook/bin/python\n",
      "cachedir: .pytest_cache\n",
      "rootdir: /home/callaram/tds\n",
      "\u001b[1mcollecting ... \u001b[0mcollected 2 items\n",
      "\n",
      "t_d5e794c4f7ee4476a7bf2e7f950b9be5.py::test_multiplication \u001b[32mPASSED\u001b[0m\u001b[32m                            [ 50%]\u001b[0m\n",
      "t_d5e794c4f7ee4476a7bf2e7f950b9be5.py::test_equality \u001b[32mPASSED\u001b[0m\u001b[32m                                  [100%]\u001b[0m\n",
      "\n",
      "\u001b[32m======================================== \u001b[32m\u001b[1m2 passed\u001b[0m\u001b[32m in 0.01s\u001b[0m\u001b[32m =========================================\u001b[0m\n"
     ]
    },
    {
     "data": {
      "text/plain": [
       "<ExitCode.OK: 0>"
      ]
     },
     "execution_count": 35,
     "metadata": {},
     "output_type": "execute_result"
    }
   ],
   "source": [
    "ipytest.run('-vv')  # '-vv' for increased verbosity"
   ]
  },
  {
   "cell_type": "markdown",
   "metadata": {},
   "source": [
    "TODO list:\n",
    "- ~~Multiplication~~\n",
    "- Make “amount” private\n",
    "- ~~Dollar side-effects?~~\n",
    "- Money rounding?\n",
    "- Sum\n",
    "- ~~equals()~~\n",
    "- hash()"
   ]
  },
  {
   "cell_type": "markdown",
   "metadata": {},
   "source": [
    "## New cycle. Make “amount” private\n",
    "\n",
    "We want times to return a new Dollar object. We want to make the amount field private. We will need to change the tests to reflect this change."
   ]
  },
  {
   "cell_type": "code",
   "execution_count": 36,
   "metadata": {},
   "outputs": [],
   "source": [
    "def test_multiplication():\n",
    "    # test that you can multiply a Dollar by a number and get the right amount.\n",
    "    five = Dollar(5)\n",
    "    ten = five.times(2)\n",
    "    assert 10 == ten.amount \n",
    "    fifteen = five.times(3)\n",
    "    assert 15 == fifteen.amount"
   ]
  },
  {
   "cell_type": "markdown",
   "metadata": {},
   "source": [
    "becomes"
   ]
  },
  {
   "cell_type": "code",
   "execution_count": 37,
   "metadata": {},
   "outputs": [],
   "source": [
    "def test_multiplication():\n",
    "    # test that you can multiply a Dollar by a number and get the right amount.\n",
    "    five = Dollar(5)\n",
    "    ten = five.times(2)\n",
    "    assert Dollar(10) == ten \n",
    "    fifteen = five.times(3)\n",
    "    assert Dollar(15) == fifteen"
   ]
  },
  {
   "cell_type": "code",
   "execution_count": 38,
   "metadata": {},
   "outputs": [
    {
     "name": "stdout",
     "output_type": "stream",
     "text": [
      "\u001b[1m======================================= test session starts ========================================\u001b[0m\n",
      "platform linux -- Python 3.10.4, pytest-8.0.0, pluggy-1.4.0 -- /home/callaram/.conda/envs/jupyterbook/bin/python\n",
      "cachedir: .pytest_cache\n",
      "rootdir: /home/callaram/tds\n",
      "\u001b[1mcollecting ... \u001b[0mcollected 2 items\n",
      "\n",
      "t_d5e794c4f7ee4476a7bf2e7f950b9be5.py::test_multiplication \u001b[32mPASSED\u001b[0m\u001b[32m                            [ 50%]\u001b[0m\n",
      "t_d5e794c4f7ee4476a7bf2e7f950b9be5.py::test_equality \u001b[32mPASSED\u001b[0m\u001b[32m                                  [100%]\u001b[0m\n",
      "\n",
      "\u001b[32m======================================== \u001b[32m\u001b[1m2 passed\u001b[0m\u001b[32m in 0.01s\u001b[0m\u001b[32m =========================================\u001b[0m\n"
     ]
    },
    {
     "data": {
      "text/plain": [
       "<ExitCode.OK: 0>"
      ]
     },
     "execution_count": 38,
     "metadata": {},
     "output_type": "execute_result"
    }
   ],
   "source": [
    "ipytest.run('-vv')  # '-vv' for increased verbosity"
   ]
  },
  {
   "cell_type": "code",
   "execution_count": 39,
   "metadata": {},
   "outputs": [],
   "source": [
    "def test_multiplication():\n",
    "    # test that you can multiply a Dollar by a number and get the right amount.\n",
    "    five = Dollar(5)\n",
    "    assert Dollar(10) == five.times(2)\n",
    "    assert Dollar(15) == five.times(3)"
   ]
  },
  {
   "cell_type": "code",
   "execution_count": 40,
   "metadata": {},
   "outputs": [
    {
     "name": "stdout",
     "output_type": "stream",
     "text": [
      "\u001b[1m======================================= test session starts ========================================\u001b[0m\n",
      "platform linux -- Python 3.10.4, pytest-8.0.0, pluggy-1.4.0 -- /home/callaram/.conda/envs/jupyterbook/bin/python\n",
      "cachedir: .pytest_cache\n",
      "rootdir: /home/callaram/tds\n",
      "\u001b[1mcollecting ... \u001b[0mcollected 2 items\n",
      "\n",
      "t_d5e794c4f7ee4476a7bf2e7f950b9be5.py::test_multiplication \u001b[32mPASSED\u001b[0m\u001b[32m                            [ 50%]\u001b[0m\n",
      "t_d5e794c4f7ee4476a7bf2e7f950b9be5.py::test_equality \u001b[32mPASSED\u001b[0m\u001b[32m                                  [100%]\u001b[0m\n",
      "\n",
      "\u001b[32m======================================== \u001b[32m\u001b[1m2 passed\u001b[0m\u001b[32m in 0.01s\u001b[0m\u001b[32m =========================================\u001b[0m\n"
     ]
    },
    {
     "data": {
      "text/plain": [
       "<ExitCode.OK: 0>"
      ]
     },
     "execution_count": 40,
     "metadata": {},
     "output_type": "execute_result"
    }
   ],
   "source": [
    "ipytest.run('-vv')  # '-vv' for increased verbosity"
   ]
  },
  {
   "cell_type": "markdown",
   "metadata": {},
   "source": [
    "Now we can make amount private. "
   ]
  },
  {
   "cell_type": "code",
   "execution_count": 41,
   "metadata": {},
   "outputs": [],
   "source": [
    "class Dollar:\n",
    "    def __init__(self, amount):\n",
    "        self._amount = amount\n",
    "    \n",
    "    def times(self, multiplier):\n",
    "        return Dollar(self._amount * multiplier)\n",
    "    \n",
    "    def __eq__(self, other):\n",
    "        return self._amount == other._amount"
   ]
  },
  {
   "cell_type": "code",
   "execution_count": 42,
   "metadata": {},
   "outputs": [
    {
     "name": "stdout",
     "output_type": "stream",
     "text": [
      "\u001b[1m======================================= test session starts ========================================\u001b[0m\n",
      "platform linux -- Python 3.10.4, pytest-8.0.0, pluggy-1.4.0 -- /home/callaram/.conda/envs/jupyterbook/bin/python\n",
      "cachedir: .pytest_cache\n",
      "rootdir: /home/callaram/tds\n",
      "\u001b[1mcollecting ... \u001b[0mcollected 2 items\n",
      "\n",
      "t_d5e794c4f7ee4476a7bf2e7f950b9be5.py::test_multiplication \u001b[32mPASSED\u001b[0m\u001b[32m                            [ 50%]\u001b[0m\n",
      "t_d5e794c4f7ee4476a7bf2e7f950b9be5.py::test_equality \u001b[32mPASSED\u001b[0m\u001b[32m                                  [100%]\u001b[0m\n",
      "\n",
      "\u001b[32m======================================== \u001b[32m\u001b[1m2 passed\u001b[0m\u001b[32m in 0.01s\u001b[0m\u001b[32m =========================================\u001b[0m\n"
     ]
    },
    {
     "data": {
      "text/plain": [
       "<ExitCode.OK: 0>"
      ]
     },
     "execution_count": 42,
     "metadata": {},
     "output_type": "execute_result"
    }
   ],
   "source": [
    "ipytest.run('-vv')  # '-vv' for increased verbosity"
   ]
  },
  {
   "cell_type": "markdown",
   "metadata": {},
   "source": [
    "TODO list:\n",
    "- ~~Multiplication~~\n",
    "- ~~Make “amount” private~~\n",
    "- ~~Dollar side-effects?~~\n",
    "- Money rounding?\n",
    "- Sum\n",
    "- ~~equals()~~\n",
    "- hash()"
   ]
  },
  {
   "cell_type": "markdown",
   "metadata": {},
   "source": [
    "Without noticing, when implemented equals we lost the ability to compare Dollar objects with None and other objects. This is something that you can do with other Python objects and may come in handy. Let's add those features to the list."
   ]
  },
  {
   "cell_type": "code",
   "execution_count": 43,
   "metadata": {},
   "outputs": [
    {
     "data": {
      "text/plain": [
       "(False, False)"
      ]
     },
     "execution_count": 43,
     "metadata": {},
     "output_type": "execute_result"
    }
   ],
   "source": [
    "mydict = {'a': 1, 'b': 2}\n",
    "mylist = ['a', 1, 'b', 2]\n",
    "mydict == mylist, mydict == None"
   ]
  },
  {
   "cell_type": "markdown",
   "metadata": {},
   "source": [
    "TODO list:\n",
    "- ~~Multiplication~~\n",
    "- ~~Make “amount” private~~\n",
    "- ~~Dollar side-effects?~~\n",
    "- Money rounding?\n",
    "- Sum\n",
    "- ~~equals()~~\n",
    "- hash()\n",
    "- \\_\\_eq\\_\\_(None)\n",
    "- \\_\\_eq\\_\\_(other_object)"
   ]
  },
  {
   "cell_type": "markdown",
   "metadata": {},
   "source": [
    "## New Cycle. Tackling Sum"
   ]
  },
  {
   "cell_type": "code",
   "execution_count": 44,
   "metadata": {},
   "outputs": [],
   "source": [
    "def test_franc_multiplication():\n",
    "    # test that you can multiply a Dollar by a number and get the right amount.\n",
    "    five = Franc(5)\n",
    "    assert Franc(10) == five.times(2)\n",
    "    assert Franc(15) == five.times(3)"
   ]
  },
  {
   "cell_type": "code",
   "execution_count": 45,
   "metadata": {},
   "outputs": [
    {
     "name": "stdout",
     "output_type": "stream",
     "text": [
      "\u001b[1m======================================= test session starts ========================================\u001b[0m\n",
      "platform linux -- Python 3.10.4, pytest-8.0.0, pluggy-1.4.0 -- /home/callaram/.conda/envs/jupyterbook/bin/python\n",
      "cachedir: .pytest_cache\n",
      "rootdir: /home/callaram/tds\n",
      "\u001b[1mcollecting ... \u001b[0mcollected 3 items\n",
      "\n",
      "t_d5e794c4f7ee4476a7bf2e7f950b9be5.py::test_multiplication \u001b[32mPASSED\u001b[0m\u001b[32m                            [ 33%]\u001b[0m\n",
      "t_d5e794c4f7ee4476a7bf2e7f950b9be5.py::test_equality \u001b[32mPASSED\u001b[0m\u001b[32m                                  [ 66%]\u001b[0m\n",
      "t_d5e794c4f7ee4476a7bf2e7f950b9be5.py::test_franc_multiplication \u001b[31mFAILED\u001b[0m\u001b[31m                      [100%]\u001b[0m\n",
      "\n",
      "============================================= FAILURES =============================================\n",
      "\u001b[31m\u001b[1m____________________________________ test_franc_multiplication _____________________________________\u001b[0m\n",
      "\n",
      "    \u001b[0m\u001b[94mdef\u001b[39;49;00m \u001b[92mtest_franc_multiplication\u001b[39;49;00m():\u001b[90m\u001b[39;49;00m\n",
      "        \u001b[90m# test that you can multiply a Dollar by a number and get the right amount.\u001b[39;49;00m\u001b[90m\u001b[39;49;00m\n",
      ">       five = Franc(\u001b[94m5\u001b[39;49;00m)\u001b[90m\u001b[39;49;00m\n",
      "\u001b[1m\u001b[31mE       NameError: name 'Franc' is not defined\u001b[0m\n",
      "\n",
      "\u001b[1m\u001b[31m/tmp/ipykernel_121379/755619237.py\u001b[0m:3: NameError\n",
      "\u001b[36m\u001b[1m===================================== short test summary info ======================================\u001b[0m\n",
      "\u001b[31mFAILED\u001b[0m t_d5e794c4f7ee4476a7bf2e7f950b9be5.py::\u001b[1mtest_franc_multiplication\u001b[0m - NameError: name 'Franc' is not defined\n",
      "\u001b[31m=================================== \u001b[31m\u001b[1m1 failed\u001b[0m, \u001b[32m2 passed\u001b[0m\u001b[31m in 0.01s\u001b[0m\u001b[31m ====================================\u001b[0m\n"
     ]
    },
    {
     "data": {
      "text/plain": [
       "<ExitCode.TESTS_FAILED: 1>"
      ]
     },
     "execution_count": 45,
     "metadata": {},
     "output_type": "execute_result"
    }
   ],
   "source": [
    "ipytest.run('-vv')  # '-vv' for increased verbosity"
   ]
  },
  {
   "cell_type": "markdown",
   "metadata": {},
   "source": [
    "TODO list:\n",
    "- ~~Multiplication~~\n",
    "- ~~Make “amount” private~~\n",
    "- ~~Dollar side-effects?~~\n",
    "- Money rounding?\n",
    "- Sum\n",
    "- ~~equals()~~\n",
    "- hash()\n",
    "- \\_\\_eq\\_\\_(None)\n",
    "- \\_\\_eq\\_\\_(other_object)\n",
    "- Dollar/Franc duplication\n",
    "- Common equals\n",
    "- Common times"
   ]
  },
  {
   "cell_type": "code",
   "execution_count": 46,
   "metadata": {},
   "outputs": [],
   "source": [
    "class Franc:\n",
    "    def __init__(self, amount):\n",
    "        self._amount = amount\n",
    "    \n",
    "    def times(self, multiplier):\n",
    "        return Franc(self._amount * multiplier)\n",
    "    \n",
    "    def __eq__(self, other):\n",
    "        return self._amount == other._amount"
   ]
  },
  {
   "cell_type": "code",
   "execution_count": 47,
   "metadata": {},
   "outputs": [
    {
     "name": "stdout",
     "output_type": "stream",
     "text": [
      "\u001b[1m======================================= test session starts ========================================\u001b[0m\n",
      "platform linux -- Python 3.10.4, pytest-8.0.0, pluggy-1.4.0 -- /home/callaram/.conda/envs/jupyterbook/bin/python\n",
      "cachedir: .pytest_cache\n",
      "rootdir: /home/callaram/tds\n",
      "\u001b[1mcollecting ... \u001b[0mcollected 3 items\n",
      "\n",
      "t_d5e794c4f7ee4476a7bf2e7f950b9be5.py::test_multiplication \u001b[32mPASSED\u001b[0m\u001b[32m                            [ 33%]\u001b[0m\n",
      "t_d5e794c4f7ee4476a7bf2e7f950b9be5.py::test_equality \u001b[32mPASSED\u001b[0m\u001b[32m                                  [ 66%]\u001b[0m\n",
      "t_d5e794c4f7ee4476a7bf2e7f950b9be5.py::test_franc_multiplication \u001b[32mPASSED\u001b[0m\u001b[32m                      [100%]\u001b[0m\n",
      "\n",
      "\u001b[32m======================================== \u001b[32m\u001b[1m3 passed\u001b[0m\u001b[32m in 0.01s\u001b[0m\u001b[32m =========================================\u001b[0m\n"
     ]
    },
    {
     "data": {
      "text/plain": [
       "<ExitCode.OK: 0>"
      ]
     },
     "execution_count": 47,
     "metadata": {},
     "output_type": "execute_result"
    }
   ],
   "source": [
    "ipytest.run('-vv')  # '-vv' for increased verbosity"
   ]
  },
  {
   "cell_type": "code",
   "execution_count": 48,
   "metadata": {},
   "outputs": [],
   "source": [
    "class Money:\n",
    "    pass "
   ]
  },
  {
   "cell_type": "code",
   "execution_count": 49,
   "metadata": {},
   "outputs": [
    {
     "name": "stdout",
     "output_type": "stream",
     "text": [
      "\u001b[1m======================================= test session starts ========================================\u001b[0m\n",
      "platform linux -- Python 3.10.4, pytest-8.0.0, pluggy-1.4.0 -- /home/callaram/.conda/envs/jupyterbook/bin/python\n",
      "cachedir: .pytest_cache\n",
      "rootdir: /home/callaram/tds\n",
      "\u001b[1mcollecting ... \u001b[0mcollected 3 items\n",
      "\n",
      "t_d5e794c4f7ee4476a7bf2e7f950b9be5.py::test_multiplication \u001b[32mPASSED\u001b[0m\u001b[32m                            [ 33%]\u001b[0m\n",
      "t_d5e794c4f7ee4476a7bf2e7f950b9be5.py::test_equality \u001b[32mPASSED\u001b[0m\u001b[32m                                  [ 66%]\u001b[0m\n",
      "t_d5e794c4f7ee4476a7bf2e7f950b9be5.py::test_franc_multiplication \u001b[32mPASSED\u001b[0m\u001b[32m                      [100%]\u001b[0m\n",
      "\n",
      "\u001b[32m======================================== \u001b[32m\u001b[1m3 passed\u001b[0m\u001b[32m in 0.01s\u001b[0m\u001b[32m =========================================\u001b[0m\n"
     ]
    },
    {
     "data": {
      "text/plain": [
       "<ExitCode.OK: 0>"
      ]
     },
     "execution_count": 49,
     "metadata": {},
     "output_type": "execute_result"
    }
   ],
   "source": [
    "ipytest.run('-vv')  # '-vv' for increased verbosity"
   ]
  },
  {
   "cell_type": "code",
   "execution_count": 51,
   "metadata": {},
   "outputs": [],
   "source": [
    "class Dollar(Money):\n",
    "    def __init__(self, amount):\n",
    "        self._amount = amount\n",
    "    \n",
    "    def times(self, multiplier):\n",
    "        return Dollar(self._amount * multiplier)\n",
    "    \n",
    "    def __eq__(self, other):\n",
    "        return self._amount == other._amount"
   ]
  },
  {
   "cell_type": "code",
   "execution_count": 52,
   "metadata": {},
   "outputs": [
    {
     "name": "stdout",
     "output_type": "stream",
     "text": [
      "\u001b[1m======================================= test session starts ========================================\u001b[0m\n",
      "platform linux -- Python 3.10.4, pytest-8.0.0, pluggy-1.4.0 -- /home/callaram/.conda/envs/jupyterbook/bin/python\n",
      "cachedir: .pytest_cache\n",
      "rootdir: /home/callaram/tds\n",
      "\u001b[1mcollecting ... \u001b[0mcollected 3 items\n",
      "\n",
      "t_d5e794c4f7ee4476a7bf2e7f950b9be5.py::test_multiplication \u001b[32mPASSED\u001b[0m\u001b[32m                            [ 33%]\u001b[0m\n",
      "t_d5e794c4f7ee4476a7bf2e7f950b9be5.py::test_equality \u001b[32mPASSED\u001b[0m\u001b[32m                                  [ 66%]\u001b[0m\n",
      "t_d5e794c4f7ee4476a7bf2e7f950b9be5.py::test_franc_multiplication \u001b[32mPASSED\u001b[0m\u001b[32m                      [100%]\u001b[0m\n",
      "\n",
      "\u001b[32m======================================== \u001b[32m\u001b[1m3 passed\u001b[0m\u001b[32m in 0.01s\u001b[0m\u001b[32m =========================================\u001b[0m\n"
     ]
    },
    {
     "data": {
      "text/plain": [
       "<ExitCode.OK: 0>"
      ]
     },
     "execution_count": 52,
     "metadata": {},
     "output_type": "execute_result"
    }
   ],
   "source": [
    "ipytest.run('-vv')  # '-vv' for increased verbosity"
   ]
  },
  {
   "cell_type": "code",
   "execution_count": 53,
   "metadata": {},
   "outputs": [],
   "source": [
    "class Money:\n",
    "    def __init__(self, amount):\n",
    "        self._amount = amount\n",
    "\n",
    "class Dollar(Money):\n",
    "    def times(self, multiplier):\n",
    "        return Dollar(self._amount * multiplier)\n",
    "    \n",
    "    def __eq__(self, other):\n",
    "        return self._amount == other._amount"
   ]
  },
  {
   "cell_type": "code",
   "execution_count": 54,
   "metadata": {},
   "outputs": [
    {
     "name": "stdout",
     "output_type": "stream",
     "text": [
      "\u001b[1m======================================= test session starts ========================================\u001b[0m\n",
      "platform linux -- Python 3.10.4, pytest-8.0.0, pluggy-1.4.0 -- /home/callaram/.conda/envs/jupyterbook/bin/python\n",
      "cachedir: .pytest_cache\n",
      "rootdir: /home/callaram/tds\n",
      "\u001b[1mcollecting ... \u001b[0mcollected 3 items\n",
      "\n",
      "t_d5e794c4f7ee4476a7bf2e7f950b9be5.py::test_multiplication \u001b[32mPASSED\u001b[0m\u001b[32m                            [ 33%]\u001b[0m\n",
      "t_d5e794c4f7ee4476a7bf2e7f950b9be5.py::test_equality \u001b[32mPASSED\u001b[0m\u001b[32m                                  [ 66%]\u001b[0m\n",
      "t_d5e794c4f7ee4476a7bf2e7f950b9be5.py::test_franc_multiplication \u001b[32mPASSED\u001b[0m\u001b[32m                      [100%]\u001b[0m\n",
      "\n",
      "\u001b[32m======================================== \u001b[32m\u001b[1m3 passed\u001b[0m\u001b[32m in 0.01s\u001b[0m\u001b[32m =========================================\u001b[0m\n"
     ]
    },
    {
     "data": {
      "text/plain": [
       "<ExitCode.OK: 0>"
      ]
     },
     "execution_count": 54,
     "metadata": {},
     "output_type": "execute_result"
    }
   ],
   "source": [
    "ipytest.run('-vv')  # '-vv' for increased verbosity"
   ]
  },
  {
   "cell_type": "code",
   "execution_count": 55,
   "metadata": {},
   "outputs": [],
   "source": [
    "class Money:\n",
    "    def __init__(self, amount):\n",
    "        self._amount = amount\n",
    "    \n",
    "    def __eq__(self, other):\n",
    "        return self._amount == other._amount\n",
    "\n",
    "class Dollar(Money):\n",
    "    def times(self, multiplier):\n",
    "        return Dollar(self._amount * multiplier)"
   ]
  },
  {
   "cell_type": "code",
   "execution_count": 56,
   "metadata": {},
   "outputs": [
    {
     "name": "stdout",
     "output_type": "stream",
     "text": [
      "\u001b[1m======================================= test session starts ========================================\u001b[0m\n",
      "platform linux -- Python 3.10.4, pytest-8.0.0, pluggy-1.4.0 -- /home/callaram/.conda/envs/jupyterbook/bin/python\n",
      "cachedir: .pytest_cache\n",
      "rootdir: /home/callaram/tds\n",
      "\u001b[1mcollecting ... \u001b[0mcollected 3 items\n",
      "\n",
      "t_d5e794c4f7ee4476a7bf2e7f950b9be5.py::test_multiplication \u001b[32mPASSED\u001b[0m\u001b[32m                            [ 33%]\u001b[0m\n",
      "t_d5e794c4f7ee4476a7bf2e7f950b9be5.py::test_equality \u001b[32mPASSED\u001b[0m\u001b[32m                                  [ 66%]\u001b[0m\n",
      "t_d5e794c4f7ee4476a7bf2e7f950b9be5.py::test_franc_multiplication \u001b[32mPASSED\u001b[0m\u001b[32m                      [100%]\u001b[0m\n",
      "\n",
      "\u001b[32m======================================== \u001b[32m\u001b[1m3 passed\u001b[0m\u001b[32m in 0.01s\u001b[0m\u001b[32m =========================================\u001b[0m\n"
     ]
    },
    {
     "data": {
      "text/plain": [
       "<ExitCode.OK: 0>"
      ]
     },
     "execution_count": 56,
     "metadata": {},
     "output_type": "execute_result"
    }
   ],
   "source": [
    "ipytest.run('-vv')  # '-vv' for increased verbosity"
   ]
  },
  {
   "cell_type": "code",
   "execution_count": 103,
   "metadata": {},
   "outputs": [],
   "source": [
    "def test_equality():\n",
    "    assert Dollar(5) == Dollar(5)\n",
    "    assert Dollar(5) != Dollar(6)\n",
    "    assert Franc(5) == Franc(5)\n",
    "    assert Franc(5) != Franc(6)"
   ]
  },
  {
   "cell_type": "code",
   "execution_count": 104,
   "metadata": {},
   "outputs": [
    {
     "name": "stdout",
     "output_type": "stream",
     "text": [
      "\u001b[1m======================================= test session starts ========================================\u001b[0m\n",
      "platform linux -- Python 3.10.4, pytest-8.0.0, pluggy-1.4.0 -- /home/callaram/.conda/envs/jupyterbook/bin/python\n",
      "cachedir: .pytest_cache\n",
      "rootdir: /home/callaram/tds\n",
      "\u001b[1mcollecting ... \u001b[0mcollected 3 items\n",
      "\n",
      "t_06f8cc07a5a94d04a8b9c834837ad56c.py::test_multiplication \u001b[32mPASSED\u001b[0m\u001b[32m                            [ 33%]\u001b[0m\n",
      "t_06f8cc07a5a94d04a8b9c834837ad56c.py::test_equality \u001b[32mPASSED\u001b[0m\u001b[32m                                  [ 66%]\u001b[0m\n",
      "t_06f8cc07a5a94d04a8b9c834837ad56c.py::test_franc_multiplication \u001b[32mPASSED\u001b[0m\u001b[32m                      [100%]\u001b[0m\n",
      "\n",
      "\u001b[32m======================================== \u001b[32m\u001b[1m3 passed\u001b[0m\u001b[32m in 0.01s\u001b[0m\u001b[32m =========================================\u001b[0m\n"
     ]
    },
    {
     "data": {
      "text/plain": [
       "<ExitCode.OK: 0>"
      ]
     },
     "execution_count": 104,
     "metadata": {},
     "output_type": "execute_result"
    }
   ],
   "source": [
    "ipytest.run('-vv')  # '-vv' for increased verbosity"
   ]
  },
  {
   "cell_type": "code",
   "execution_count": 105,
   "metadata": {},
   "outputs": [],
   "source": [
    "class Money:\n",
    "    def __init__(self, amount):\n",
    "        self._amount = amount\n",
    "    \n",
    "    def __eq__(self, other):\n",
    "        return self._amount == other._amount\n",
    "\n",
    "class Dollar(Money):\n",
    "    def times(self, multiplier):\n",
    "        return Dollar(self._amount * multiplier)\n",
    "    \n",
    "class Franc(Money):\n",
    "    def times(self, multiplier):\n",
    "        return Franc(self._amount * multiplier)"
   ]
  },
  {
   "cell_type": "code",
   "execution_count": 106,
   "metadata": {},
   "outputs": [
    {
     "name": "stdout",
     "output_type": "stream",
     "text": [
      "\u001b[1m======================================= test session starts ========================================\u001b[0m\n",
      "platform linux -- Python 3.10.4, pytest-8.0.0, pluggy-1.4.0 -- /home/callaram/.conda/envs/jupyterbook/bin/python\n",
      "cachedir: .pytest_cache\n",
      "rootdir: /home/callaram/tds\n",
      "\u001b[1mcollecting ... \u001b[0mcollected 3 items\n",
      "\n",
      "t_06f8cc07a5a94d04a8b9c834837ad56c.py::test_multiplication \u001b[32mPASSED\u001b[0m\u001b[32m                            [ 33%]\u001b[0m\n",
      "t_06f8cc07a5a94d04a8b9c834837ad56c.py::test_equality \u001b[32mPASSED\u001b[0m\u001b[32m                                  [ 66%]\u001b[0m\n",
      "t_06f8cc07a5a94d04a8b9c834837ad56c.py::test_franc_multiplication \u001b[32mPASSED\u001b[0m\u001b[32m                      [100%]\u001b[0m\n",
      "\n",
      "\u001b[32m======================================== \u001b[32m\u001b[1m3 passed\u001b[0m\u001b[32m in 0.01s\u001b[0m\u001b[32m =========================================\u001b[0m\n"
     ]
    },
    {
     "data": {
      "text/plain": [
       "<ExitCode.OK: 0>"
      ]
     },
     "execution_count": 106,
     "metadata": {},
     "output_type": "execute_result"
    }
   ],
   "source": [
    "ipytest.run('-vv')  # '-vv' for increased verbosity"
   ]
  },
  {
   "cell_type": "markdown",
   "metadata": {},
   "source": [
    "## New Cycle. What if now we want to compare Dollar and Franc?\n"
   ]
  },
  {
   "cell_type": "code",
   "execution_count": 112,
   "metadata": {},
   "outputs": [],
   "source": [
    "def test_equality():\n",
    "    assert Dollar(5) == Dollar(5)\n",
    "    assert Dollar(5) != Dollar(6)\n",
    "    assert Franc(5) == Franc(5)\n",
    "    assert Franc(5) != Franc(6)\n",
    "    assert Dollar(5) != Franc(5)"
   ]
  },
  {
   "cell_type": "code",
   "execution_count": 113,
   "metadata": {},
   "outputs": [
    {
     "name": "stdout",
     "output_type": "stream",
     "text": [
      "\u001b[1m======================================= test session starts ========================================\u001b[0m\n",
      "platform linux -- Python 3.10.4, pytest-8.0.0, pluggy-1.4.0 -- /home/callaram/.conda/envs/jupyterbook/bin/python\n",
      "cachedir: .pytest_cache\n",
      "rootdir: /home/callaram/tds\n",
      "\u001b[1mcollecting ... \u001b[0mcollected 3 items\n",
      "\n",
      "t_06f8cc07a5a94d04a8b9c834837ad56c.py::test_multiplication \u001b[32mPASSED\u001b[0m\u001b[32m                            [ 33%]\u001b[0m\n",
      "t_06f8cc07a5a94d04a8b9c834837ad56c.py::test_equality \u001b[31mFAILED\u001b[0m\u001b[31m                                  [ 66%]\u001b[0m\n",
      "t_06f8cc07a5a94d04a8b9c834837ad56c.py::test_franc_multiplication \u001b[32mPASSED\u001b[0m\u001b[31m                      [100%]\u001b[0m\n",
      "\n",
      "============================================= FAILURES =============================================\n",
      "\u001b[31m\u001b[1m__________________________________________ test_equality ___________________________________________\u001b[0m\n",
      "\n",
      "    \u001b[0m\u001b[94mdef\u001b[39;49;00m \u001b[92mtest_equality\u001b[39;49;00m():\u001b[90m\u001b[39;49;00m\n",
      "        \u001b[94massert\u001b[39;49;00m Dollar(\u001b[94m5\u001b[39;49;00m) == Dollar(\u001b[94m5\u001b[39;49;00m)\u001b[90m\u001b[39;49;00m\n",
      "        \u001b[94massert\u001b[39;49;00m Dollar(\u001b[94m5\u001b[39;49;00m) != Dollar(\u001b[94m6\u001b[39;49;00m)\u001b[90m\u001b[39;49;00m\n",
      "        \u001b[94massert\u001b[39;49;00m Franc(\u001b[94m5\u001b[39;49;00m) == Franc(\u001b[94m5\u001b[39;49;00m)\u001b[90m\u001b[39;49;00m\n",
      "        \u001b[94massert\u001b[39;49;00m Franc(\u001b[94m5\u001b[39;49;00m) != Franc(\u001b[94m6\u001b[39;49;00m)\u001b[90m\u001b[39;49;00m\n",
      ">       \u001b[94massert\u001b[39;49;00m Dollar(\u001b[94m5\u001b[39;49;00m) != Franc(\u001b[94m5\u001b[39;49;00m)\u001b[90m\u001b[39;49;00m\n",
      "\u001b[1m\u001b[31mE       assert <__main__.Dollar object at 0x1456f5ad0460> != <__main__.Franc object at 0x1456f5ad31f0>\u001b[0m\n",
      "\u001b[1m\u001b[31mE        +  where <__main__.Dollar object at 0x1456f5ad0460> = Dollar(5)\u001b[0m\n",
      "\u001b[1m\u001b[31mE        +  and   <__main__.Franc object at 0x1456f5ad31f0> = Franc(5)\u001b[0m\n",
      "\n",
      "\u001b[1m\u001b[31m/tmp/ipykernel_1432427/4073365173.py\u001b[0m:6: AssertionError\n",
      "\u001b[36m\u001b[1m===================================== short test summary info ======================================\u001b[0m\n",
      "\u001b[31mFAILED\u001b[0m t_06f8cc07a5a94d04a8b9c834837ad56c.py::\u001b[1mtest_equality\u001b[0m - assert <__main__.Dollar object at 0x1456f5ad0460> != <__main__.Franc object at 0x1456f5ad31f0>\n",
      "\u001b[31m=================================== \u001b[31m\u001b[1m1 failed\u001b[0m, \u001b[32m2 passed\u001b[0m\u001b[31m in 0.02s\u001b[0m\u001b[31m ====================================\u001b[0m\n"
     ]
    },
    {
     "data": {
      "text/plain": [
       "<ExitCode.TESTS_FAILED: 1>"
      ]
     },
     "execution_count": 113,
     "metadata": {},
     "output_type": "execute_result"
    }
   ],
   "source": [
    "ipytest.run('-vv')  # '-vv' for increased verbosity"
   ]
  },
  {
   "cell_type": "code",
   "execution_count": 114,
   "metadata": {},
   "outputs": [],
   "source": [
    "class Money:\n",
    "    def __init__(self, amount):\n",
    "        self._amount = amount\n",
    "    \n",
    "    def __eq__(self, other):\n",
    "        return self._amount == other._amount and type(self) == type(other)\n",
    "\n",
    "class Dollar(Money):\n",
    "    def times(self, multiplier):\n",
    "        return Dollar(self._amount * multiplier)\n",
    "    \n",
    "class Franc(Money):\n",
    "    def times(self, multiplier):\n",
    "        return Franc(self._amount * multiplier)"
   ]
  },
  {
   "cell_type": "code",
   "execution_count": 115,
   "metadata": {},
   "outputs": [
    {
     "name": "stdout",
     "output_type": "stream",
     "text": [
      "\u001b[1m======================================= test session starts ========================================\u001b[0m\n",
      "platform linux -- Python 3.10.4, pytest-8.0.0, pluggy-1.4.0 -- /home/callaram/.conda/envs/jupyterbook/bin/python\n",
      "cachedir: .pytest_cache\n",
      "rootdir: /home/callaram/tds\n",
      "\u001b[1mcollecting ... \u001b[0mcollected 3 items\n",
      "\n",
      "t_06f8cc07a5a94d04a8b9c834837ad56c.py::test_multiplication \u001b[32mPASSED\u001b[0m\u001b[32m                            [ 33%]\u001b[0m\n",
      "t_06f8cc07a5a94d04a8b9c834837ad56c.py::test_equality \u001b[32mPASSED\u001b[0m\u001b[32m                                  [ 66%]\u001b[0m\n",
      "t_06f8cc07a5a94d04a8b9c834837ad56c.py::test_franc_multiplication \u001b[32mPASSED\u001b[0m\u001b[32m                      [100%]\u001b[0m\n",
      "\n",
      "\u001b[32m======================================== \u001b[32m\u001b[1m3 passed\u001b[0m\u001b[32m in 0.01s\u001b[0m\u001b[32m =========================================\u001b[0m\n"
     ]
    },
    {
     "data": {
      "text/plain": [
       "<ExitCode.OK: 0>"
      ]
     },
     "execution_count": 115,
     "metadata": {},
     "output_type": "execute_result"
    }
   ],
   "source": [
    "ipytest.run('-vv')  # '-vv' for increased verbosity"
   ]
  },
  {
   "cell_type": "markdown",
   "metadata": {},
   "source": [
    "## Unifying"
   ]
  },
  {
   "cell_type": "code",
   "execution_count": 117,
   "metadata": {},
   "outputs": [],
   "source": [
    "def test_multiplication():\n",
    "    # test that you can multiply a Dollar by a number and get the right amount.\n",
    "    five = Money.dollar(5)\n",
    "    assert Dollar(10) == five.times(2)\n",
    "    assert Dollar(15) == five.times(3)"
   ]
  },
  {
   "cell_type": "code",
   "execution_count": 118,
   "metadata": {},
   "outputs": [
    {
     "name": "stdout",
     "output_type": "stream",
     "text": [
      "\u001b[1m======================================= test session starts ========================================\u001b[0m\n",
      "platform linux -- Python 3.10.4, pytest-8.0.0, pluggy-1.4.0 -- /home/callaram/.conda/envs/jupyterbook/bin/python\n",
      "cachedir: .pytest_cache\n",
      "rootdir: /home/callaram/tds\n",
      "\u001b[1mcollecting ... \u001b[0mcollected 3 items\n",
      "\n",
      "t_06f8cc07a5a94d04a8b9c834837ad56c.py::test_multiplication "
     ]
    },
    {
     "name": "stdout",
     "output_type": "stream",
     "text": [
      "\u001b[31mFAILED\u001b[0m\u001b[31m                            [ 33%]\u001b[0m\n",
      "t_06f8cc07a5a94d04a8b9c834837ad56c.py::test_equality \u001b[32mPASSED\u001b[0m\u001b[31m                                  [ 66%]\u001b[0m\n",
      "t_06f8cc07a5a94d04a8b9c834837ad56c.py::test_franc_multiplication \u001b[32mPASSED\u001b[0m\u001b[31m                      [100%]\u001b[0m\n",
      "\n",
      "============================================= FAILURES =============================================\n",
      "\u001b[31m\u001b[1m_______________________________________ test_multiplication ________________________________________\u001b[0m\n",
      "\n",
      "    \u001b[0m\u001b[94mdef\u001b[39;49;00m \u001b[92mtest_multiplication\u001b[39;49;00m():\u001b[90m\u001b[39;49;00m\n",
      "        \u001b[90m# test that you can multiply a Dollar by a number and get the right amount.\u001b[39;49;00m\u001b[90m\u001b[39;49;00m\n",
      ">       five = Money.dollar(\u001b[94m5\u001b[39;49;00m)\u001b[90m\u001b[39;49;00m\n",
      "\u001b[1m\u001b[31mE       AttributeError: type object 'Money' has no attribute 'dollar'\u001b[0m\n",
      "\n",
      "\u001b[1m\u001b[31m/tmp/ipykernel_1432427/744221130.py\u001b[0m:3: AttributeError\n",
      "\u001b[36m\u001b[1m===================================== short test summary info ======================================\u001b[0m\n",
      "\u001b[31mFAILED\u001b[0m t_06f8cc07a5a94d04a8b9c834837ad56c.py::\u001b[1mtest_multiplication\u001b[0m - AttributeError: type object 'Money' has no attribute 'dollar'\n",
      "\u001b[31m=================================== \u001b[31m\u001b[1m1 failed\u001b[0m, \u001b[32m2 passed\u001b[0m\u001b[31m in 0.02s\u001b[0m\u001b[31m ====================================\u001b[0m\n"
     ]
    },
    {
     "data": {
      "text/plain": [
       "<ExitCode.TESTS_FAILED: 1>"
      ]
     },
     "execution_count": 118,
     "metadata": {},
     "output_type": "execute_result"
    }
   ],
   "source": [
    "ipytest.run('-vv')  # '-vv' for increased verbosity"
   ]
  },
  {
   "cell_type": "code",
   "execution_count": 119,
   "metadata": {},
   "outputs": [],
   "source": [
    "class Money:\n",
    "    def __init__(self, amount):\n",
    "        self._amount = amount\n",
    "    \n",
    "    def __eq__(self, other):\n",
    "        return self._amount == other._amount and type(self) == type(other)\n",
    "    \n",
    "    def dollar(amount):\n",
    "        return Dollar(amount)\n",
    "\n",
    "class Dollar(Money):\n",
    "    def times(self, multiplier):\n",
    "        return Dollar(self._amount * multiplier)\n",
    "    \n",
    "class Franc(Money):\n",
    "    def times(self, multiplier):\n",
    "        return Franc(self._amount * multiplier)"
   ]
  },
  {
   "cell_type": "code",
   "execution_count": 120,
   "metadata": {},
   "outputs": [
    {
     "name": "stdout",
     "output_type": "stream",
     "text": [
      "\u001b[1m======================================= test session starts ========================================\u001b[0m\n",
      "platform linux -- Python 3.10.4, pytest-8.0.0, pluggy-1.4.0 -- /home/callaram/.conda/envs/jupyterbook/bin/python\n",
      "cachedir: .pytest_cache\n",
      "rootdir: /home/callaram/tds\n",
      "\u001b[1mcollecting ... \u001b[0mcollected 3 items\n",
      "\n",
      "t_06f8cc07a5a94d04a8b9c834837ad56c.py::test_multiplication \u001b[32mPASSED\u001b[0m\u001b[32m                            [ 33%]\u001b[0m\n",
      "t_06f8cc07a5a94d04a8b9c834837ad56c.py::test_equality \u001b[32mPASSED\u001b[0m\u001b[32m                                  [ 66%]\u001b[0m\n",
      "t_06f8cc07a5a94d04a8b9c834837ad56c.py::test_franc_multiplication \u001b[32mPASSED\u001b[0m\u001b[32m                      [100%]\u001b[0m\n",
      "\n",
      "\u001b[32m======================================== \u001b[32m\u001b[1m3 passed\u001b[0m\u001b[32m in 0.02s\u001b[0m\u001b[32m =========================================\u001b[0m\n"
     ]
    },
    {
     "data": {
      "text/plain": [
       "<ExitCode.OK: 0>"
      ]
     },
     "execution_count": 120,
     "metadata": {},
     "output_type": "execute_result"
    }
   ],
   "source": [
    "ipytest.run('-vv')  # '-vv' for increased verbosity"
   ]
  },
  {
   "cell_type": "code",
   "execution_count": 121,
   "metadata": {},
   "outputs": [],
   "source": [
    "class Money:\n",
    "    def __init__(self, amount):\n",
    "        self._amount = amount\n",
    "    \n",
    "    def __eq__(self, other):\n",
    "        return self._amount == other._amount and type(self) == type(other)\n",
    "    \n",
    "    def dollar(amount):\n",
    "        return Money(amount)\n",
    "\n",
    "class Dollar(Money):\n",
    "    def times(self, multiplier):\n",
    "        return Dollar(self._amount * multiplier)\n",
    "    \n",
    "class Franc(Money):\n",
    "    def times(self, multiplier):\n",
    "        return Franc(self._amount * multiplier)"
   ]
  },
  {
   "cell_type": "code",
   "execution_count": 122,
   "metadata": {},
   "outputs": [
    {
     "name": "stdout",
     "output_type": "stream",
     "text": [
      "\u001b[1m======================================= test session starts ========================================\u001b[0m\n",
      "platform linux -- Python 3.10.4, pytest-8.0.0, pluggy-1.4.0 -- /home/callaram/.conda/envs/jupyterbook/bin/python\n",
      "cachedir: .pytest_cache\n",
      "rootdir: /home/callaram/tds\n",
      "\u001b[1mcollecting ... \u001b[0mcollected 3 items\n",
      "\n",
      "t_06f8cc07a5a94d04a8b9c834837ad56c.py::test_multiplication \u001b[31mFAILED\u001b[0m\u001b[31m                            [ 33%]\u001b[0m\n",
      "t_06f8cc07a5a94d04a8b9c834837ad56c.py::test_equality \u001b[32mPASSED\u001b[0m\u001b[31m                                  [ 66%]\u001b[0m\n",
      "t_06f8cc07a5a94d04a8b9c834837ad56c.py::test_franc_multiplication \u001b[32mPASSED\u001b[0m\u001b[31m                      [100%]\u001b[0m\n",
      "\n",
      "============================================= FAILURES =============================================\n",
      "\u001b[31m\u001b[1m_______________________________________ test_multiplication ________________________________________\u001b[0m\n",
      "\n",
      "    \u001b[0m\u001b[94mdef\u001b[39;49;00m \u001b[92mtest_multiplication\u001b[39;49;00m():\u001b[90m\u001b[39;49;00m\n",
      "        \u001b[90m# test that you can multiply a Dollar by a number and get the right amount.\u001b[39;49;00m\u001b[90m\u001b[39;49;00m\n",
      "        five = Money.dollar(\u001b[94m5\u001b[39;49;00m)\u001b[90m\u001b[39;49;00m\n",
      ">       \u001b[94massert\u001b[39;49;00m Dollar(\u001b[94m10\u001b[39;49;00m) == five.times(\u001b[94m2\u001b[39;49;00m)\u001b[90m\u001b[39;49;00m\n",
      "\u001b[1m\u001b[31mE       AttributeError: 'Money' object has no attribute 'times'\u001b[0m\n",
      "\n",
      "\u001b[1m\u001b[31m/tmp/ipykernel_1432427/744221130.py\u001b[0m:4: AttributeError\n",
      "\u001b[36m\u001b[1m===================================== short test summary info ======================================\u001b[0m\n",
      "\u001b[31mFAILED\u001b[0m t_06f8cc07a5a94d04a8b9c834837ad56c.py::\u001b[1mtest_multiplication\u001b[0m - AttributeError: 'Money' object has no attribute 'times'\n",
      "\u001b[31m=================================== \u001b[31m\u001b[1m1 failed\u001b[0m, \u001b[32m2 passed\u001b[0m\u001b[31m in 0.02s\u001b[0m\u001b[31m ====================================\u001b[0m\n"
     ]
    },
    {
     "data": {
      "text/plain": [
       "<ExitCode.TESTS_FAILED: 1>"
      ]
     },
     "execution_count": 122,
     "metadata": {},
     "output_type": "execute_result"
    }
   ],
   "source": [
    "ipytest.run('-vv')  # '-vv' for increased verbosity"
   ]
  },
  {
   "cell_type": "code",
   "execution_count": 123,
   "metadata": {},
   "outputs": [],
   "source": [
    "def test_multiplication():\n",
    "    # test that you can multiply a Dollar by a number and get the right amount.\n",
    "    five = Money.dollar(5)\n",
    "    assert Money.dollar(10) == five.times(2)\n",
    "    assert Money.dollar(15) == five.times(3)\n",
    "\n",
    "def test_equality():\n",
    "    assert Money.dollar(5) == Money.dollar(5)\n",
    "    assert Money.dollar(5) != Money.dollar(6)\n",
    "    assert Franc(5) == Franc(5)\n",
    "    assert Franc(5) != Franc(6)\n",
    "    assert Money.dollar(5) != Franc(5)"
   ]
  },
  {
   "cell_type": "code",
   "execution_count": 124,
   "metadata": {},
   "outputs": [
    {
     "name": "stdout",
     "output_type": "stream",
     "text": [
      "\u001b[1m======================================= test session starts ========================================\u001b[0m\n",
      "platform linux -- Python 3.10.4, pytest-8.0.0, pluggy-1.4.0 -- /home/callaram/.conda/envs/jupyterbook/bin/python\n",
      "cachedir: .pytest_cache\n",
      "rootdir: /home/callaram/tds\n",
      "\u001b[1mcollecting ... \u001b[0mcollected 3 items\n",
      "\n",
      "t_06f8cc07a5a94d04a8b9c834837ad56c.py::test_multiplication \u001b[31mFAILED\u001b[0m\u001b[31m                            [ 33%]\u001b[0m\n",
      "t_06f8cc07a5a94d04a8b9c834837ad56c.py::test_equality \u001b[32mPASSED\u001b[0m\u001b[31m                                  [ 66%]\u001b[0m\n",
      "t_06f8cc07a5a94d04a8b9c834837ad56c.py::test_franc_multiplication \u001b[32mPASSED\u001b[0m\u001b[31m                      [100%]\u001b[0m\n",
      "\n",
      "============================================= FAILURES =============================================\n",
      "\u001b[31m\u001b[1m_______________________________________ test_multiplication ________________________________________\u001b[0m\n",
      "\n",
      "    \u001b[0m\u001b[94mdef\u001b[39;49;00m \u001b[92mtest_multiplication\u001b[39;49;00m():\u001b[90m\u001b[39;49;00m\n",
      "        \u001b[90m# test that you can multiply a Dollar by a number and get the right amount.\u001b[39;49;00m\u001b[90m\u001b[39;49;00m\n",
      "        five = Money.dollar(\u001b[94m5\u001b[39;49;00m)\u001b[90m\u001b[39;49;00m\n",
      ">       \u001b[94massert\u001b[39;49;00m Money.dollar(\u001b[94m10\u001b[39;49;00m) == five.times(\u001b[94m2\u001b[39;49;00m)\u001b[90m\u001b[39;49;00m\n",
      "\u001b[1m\u001b[31mE       AttributeError: 'Money' object has no attribute 'times'\u001b[0m\n",
      "\n",
      "\u001b[1m\u001b[31m/tmp/ipykernel_1432427/3355800405.py\u001b[0m:4: AttributeError\n",
      "\u001b[36m\u001b[1m===================================== short test summary info ======================================\u001b[0m\n",
      "\u001b[31mFAILED\u001b[0m t_06f8cc07a5a94d04a8b9c834837ad56c.py::\u001b[1mtest_multiplication\u001b[0m - AttributeError: 'Money' object has no attribute 'times'\n",
      "\u001b[31m=================================== \u001b[31m\u001b[1m1 failed\u001b[0m, \u001b[32m2 passed\u001b[0m\u001b[31m in 0.02s\u001b[0m\u001b[31m ====================================\u001b[0m\n"
     ]
    },
    {
     "data": {
      "text/plain": [
       "<ExitCode.TESTS_FAILED: 1>"
      ]
     },
     "execution_count": 124,
     "metadata": {},
     "output_type": "execute_result"
    }
   ],
   "source": [
    "ipytest.run('-vv')  # '-vv' for increased verbosity"
   ]
  },
  {
   "cell_type": "code",
   "execution_count": null,
   "metadata": {},
   "outputs": [],
   "source": [
    "class Money:\n",
    "    def __init__(self, amount):\n",
    "        self._amount = amount\n",
    "    \n",
    "    def __eq__(self, other):\n",
    "        return self._amount == other._amount and type(self) == type(other)\n",
    "    \n",
    "    def dollar(amount):\n",
    "        return Money(amount)\n",
    "\n",
    "class Dollar(Money):\n",
    "    def times(self, multiplier):\n",
    "        return Dollar(self._amount * multiplier)\n",
    "    \n",
    "class Franc(Money):\n",
    "    def times(self, multiplier):\n",
    "        return Franc(self._amount * multiplier)"
   ]
  }
 ],
 "metadata": {
  "kernelspec": {
   "display_name": "jupyterbook",
   "language": "python",
   "name": "python3"
  },
  "language_info": {
   "codemirror_mode": {
    "name": "ipython",
    "version": 3
   },
   "file_extension": ".py",
   "mimetype": "text/x-python",
   "name": "python",
   "nbconvert_exporter": "python",
   "pygments_lexer": "ipython3",
   "version": "3.10.4"
  }
 },
 "nbformat": 4,
 "nbformat_minor": 2
}