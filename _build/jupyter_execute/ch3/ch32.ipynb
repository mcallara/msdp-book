{
 "cells": [
  {
   "cell_type": "markdown",
   "id": "8292498b",
   "metadata": {},
   "source": [
    "# 3.2 Test Driven Development (TDD)"
   ]
  },
  {
   "cell_type": "code",
   "execution_count": 1,
   "id": "f79302c9",
   "metadata": {
    "tags": [
     "remove-input"
    ]
   },
   "outputs": [],
   "source": [
    "import os\n",
    "os.chdir('../home')"
   ]
  },
  {
   "cell_type": "markdown",
   "id": "22bbfbdb",
   "metadata": {},
   "source": [
    "## Sections\n",
    "Test Driven Development (TDD).\n",
    "Kent Beck, TDD by Example\n",
    "Why is it useful?\n",
    "Critics to TDD\n",
    "Red-Green-Refactor\n",
    "Arrange-Act-Assert\n",
    "Exercices"
   ]
  }
 ],
 "metadata": {
  "jupytext": {
   "formats": "md:myst",
   "text_representation": {
    "extension": ".md",
    "format_name": "myst",
    "format_version": 0.13,
    "jupytext_version": "1.11.5"
   }
  },
  "kernelspec": {
   "display_name": "Python 3",
   "language": "python",
   "name": "python3"
  },
  "language_info": {
   "codemirror_mode": {
    "name": "ipython",
    "version": 3
   },
   "file_extension": ".py",
   "mimetype": "text/x-python",
   "name": "python",
   "nbconvert_exporter": "python",
   "pygments_lexer": "ipython3",
   "version": "3.10.4"
  },
  "source_map": [
   13,
   17,
   21
  ]
 },
 "nbformat": 4,
 "nbformat_minor": 5
}