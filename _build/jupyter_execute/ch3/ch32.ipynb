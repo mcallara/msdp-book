{
 "cells": [
  {
   "cell_type": "markdown",
   "id": "1f6d13fe",
   "metadata": {},
   "source": [
    "# 3.1 Test Driven Development (TDD)"
   ]
  },
  {
   "cell_type": "code",
   "execution_count": null,
   "id": "25b185c0",
   "metadata": {
    "tags": [
     "remove-input"
    ]
   },
   "outputs": [],
   "source": [
    "import os\n",
    "os.chdir('../home')"
   ]
  },
  {
   "cell_type": "markdown",
   "id": "ba4b0912",
   "metadata": {},
   "source": [
    "# Sections\n",
    "Test Driven Development (TDD).\n",
    "Kent Beck, TDD by Example\n",
    "Why is it useful?\n",
    "Critics to TDD\n",
    "Red-Green-Refactor\n",
    "Exercices"
   ]
  }
 ],
 "metadata": {
  "jupytext": {
   "formats": "md:myst",
   "text_representation": {
    "extension": ".md",
    "format_name": "myst",
    "format_version": 0.13,
    "jupytext_version": "1.11.5"
   }
  },
  "kernelspec": {
   "display_name": "Python 3",
   "language": "python",
   "name": "python3"
  },
  "source_map": [
   13,
   17,
   21
  ]
 },
 "nbformat": 4,
 "nbformat_minor": 5
}