{
 "cells": [
  {
   "cell_type": "markdown",
   "id": "50c7a4a6",
   "metadata": {},
   "source": [
    "# 3.2 Test Driven Development (TDD)"
   ]
  },
  {
   "cell_type": "code",
   "execution_count": null,
   "id": "505570a1",
   "metadata": {
    "tags": [
     "remove-input"
    ]
   },
   "outputs": [],
   "source": [
    "import os\n",
    "os.chdir('../home')"
   ]
  },
  {
   "cell_type": "markdown",
   "id": "533d6162",
   "metadata": {},
   "source": [
    "## Sections\n",
    "Test Driven Development (TDD).\n",
    "Kent Beck, TDD by Example\n",
    "Why is it useful?\n",
    "Critics to TDD\n",
    "Red-Green-Refactor\n",
    "Exercices"
   ]
  }
 ],
 "metadata": {
  "jupytext": {
   "formats": "md:myst",
   "text_representation": {
    "extension": ".md",
    "format_name": "myst",
    "format_version": 0.13,
    "jupytext_version": "1.11.5"
   }
  },
  "kernelspec": {
   "display_name": "Python 3",
   "language": "python",
   "name": "python3"
  },
  "source_map": [
   13,
   17,
   21
  ]
 },
 "nbformat": 4,
 "nbformat_minor": 5
}