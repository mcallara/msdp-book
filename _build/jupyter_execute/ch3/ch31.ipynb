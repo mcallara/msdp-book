{
 "cells": [
  {
   "cell_type": "markdown",
   "id": "6e198bdb",
   "metadata": {},
   "source": [
    "# 3.1 Testing\n",
    "\n",
    "What is a test?  “a procedure leading to acceptance or rejection.” \n",
    "What are test useful for?\n",
    "- To ensure that your code works as expected.\n",
    "- To understand how the code works.\n",
    "- To understand how the code should work.\n",
    "\n",
    "Let's see this in action. To start as lightweigth as possbile, we will use doctest.\n",
    "\n",
    "What is doctest? \n",
    "Doctest is a module that comes with Python. It allows you to write tests in the docstrings of your code."
   ]
  },
  {
   "cell_type": "code",
   "execution_count": null,
   "id": "01b40674",
   "metadata": {},
   "outputs": [],
   "source": [
    "def add(a, b):\n",
    "    \"\"\"Compute and return the sum of two numbers.\n",
    "\n",
    "    Usage examples:\n",
    "    >>> add(4.0, 2.0)\n",
    "    6.0\n",
    "    \"\"\"\n",
    "    return float(a + b)"
   ]
  },
  {
   "cell_type": "code",
   "execution_count": null,
   "id": "0ca60b4e",
   "metadata": {},
   "outputs": [],
   "source": [
    "import doctest\n",
    "doctest.testmod()"
   ]
  },
  {
   "cell_type": "markdown",
   "id": "ccca58a5",
   "metadata": {},
   "source": [
    "We want to create a small report that will keep track of our stocks.\n",
    "The price of a stock is defined by the amount and the currency (let's assume only Dollars for now).\n",
    "Multiplication. The value of each stock will be the number of shares times the price of the stock.\n",
    "Sum. The total value of our portfolio will be the sum of the value of each stock.\n",
    "\n",
    "Let's implement the multiplication feature first. We will use TDD to do this.\n",
    "So we will start by writing a test that will fail. Then we will implement the feature and make the test pass."
   ]
  },
  {
   "cell_type": "code",
   "execution_count": null,
   "id": "bc8dce28",
   "metadata": {},
   "outputs": [],
   "source": [
    "def test_multiplication():\n",
    "    five = Dollar(5)\n",
    "    five * 2\n",
    "    assert 10 == five.amount"
   ]
  },
  {
   "cell_type": "code",
   "execution_count": null,
   "id": "3c7311d3",
   "metadata": {
    "tags": [
     "remove-input"
    ]
   },
   "outputs": [],
   "source": [
    "import os\n",
    "os.chdir('../home')"
   ]
  },
  {
   "cell_type": "code",
   "execution_count": null,
   "id": "8a184a59",
   "metadata": {},
   "outputs": [],
   "source": [
    "def add(a, b):\n",
    "    \"\"\"Compute and return the sum of two numbers.\n",
    "\n",
    "    Usage examples:\n",
    "    >>> add(4.0, 2.0)\n",
    "    6.0\n",
    "    >>> add(4, 2)\n",
    "    6.0\n",
    "    \"\"\"\n",
    "    return float(a + b)"
   ]
  },
  {
   "cell_type": "code",
   "execution_count": null,
   "id": "ca96ad9d",
   "metadata": {},
   "outputs": [],
   "source": [
    "import doctest\n",
    "doctest.testmod()"
   ]
  },
  {
   "cell_type": "markdown",
   "id": "1c8998a6",
   "metadata": {},
   "source": [
    "## Kind of testing. Levels of Testing.\n",
    "## Unit and Integration Testing.\n",
    "## We test behaviors.\n",
    "## Basic Test with Pytest\n",
    "## Testing and Visual Studio Code \n",
    "\n",
    "## Test Driven Development (TDD).\n",
    "## Red-Green-Refactor\n",
    "## Kent Beck, TDD by Example\n",
    "## Why is it useful?\n",
    "## Critics to TDD\n",
    "\n",
    "\n",
    "## References\n",
    "https://code.visualstudio.com/docs/python/testing"
   ]
  }
 ],
 "metadata": {
  "jupytext": {
   "formats": "md:myst",
   "text_representation": {
    "extension": ".md",
    "format_name": "myst",
    "format_version": 0.13,
    "jupytext_version": "1.11.5"
   }
  },
  "kernelspec": {
   "display_name": "Python 3",
   "language": "python",
   "name": "python3"
  },
  "source_map": [
   13,
   28,
   39,
   42,
   52,
   59,
   65,
   78,
   81
  ]
 },
 "nbformat": 4,
 "nbformat_minor": 5
}