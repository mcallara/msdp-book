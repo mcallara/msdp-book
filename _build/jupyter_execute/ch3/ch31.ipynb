{
 "cells": [
  {
   "cell_type": "markdown",
   "id": "ef4056db",
   "metadata": {},
   "source": [
    "# 3.1 Testing"
   ]
  },
  {
   "cell_type": "code",
   "execution_count": null,
   "id": "01cc502c",
   "metadata": {
    "tags": [
     "remove-input"
    ]
   },
   "outputs": [],
   "source": [
    "import os\n",
    "os.chdir('../home')"
   ]
  },
  {
   "cell_type": "markdown",
   "id": "d80e844c",
   "metadata": {},
   "source": [
    "# Sections\n",
    "What is testing? Why is it useful?\n",
    "Kind of testing. Levels of Testing.\n",
    "Unit and Integration Testing.\n",
    "We test behaviors\n",
    "Basic Test with Pytest\n",
    "Testing y Visual St\n",
    "Basic Doctest"
   ]
  }
 ],
 "metadata": {
  "jupytext": {
   "formats": "md:myst",
   "text_representation": {
    "extension": ".md",
    "format_name": "myst",
    "format_version": 0.13,
    "jupytext_version": "1.11.5"
   }
  },
  "kernelspec": {
   "display_name": "Python 3",
   "language": "python",
   "name": "python3"
  },
  "source_map": [
   13,
   17,
   21
  ]
 },
 "nbformat": 4,
 "nbformat_minor": 5
}