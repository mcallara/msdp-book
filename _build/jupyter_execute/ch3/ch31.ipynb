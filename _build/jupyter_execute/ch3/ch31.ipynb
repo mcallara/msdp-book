{
 "cells": [
  {
   "cell_type": "markdown",
   "id": "ae2d6071",
   "metadata": {},
   "source": [
    "# 3.1 Testing"
   ]
  },
  {
   "cell_type": "code",
   "execution_count": null,
   "id": "04b643b0",
   "metadata": {
    "tags": [
     "remove-input"
    ]
   },
   "outputs": [],
   "source": [
    "import os\n",
    "os.chdir('../home')"
   ]
  },
  {
   "cell_type": "markdown",
   "id": "df61677d",
   "metadata": {},
   "source": [
    "# Sections\n",
    "What is testing? Why is it useful?\n",
    "Kind of testing. Levels of Testing.\n",
    "Unit and Integration Testing.\n",
    "We test behaviors\n",
    "Basic Test with Pytest\n",
    "Testing and Visual Studio Code\n",
    "Basic Doctest \n",
    "\n",
    "# References\n",
    "https://code.visualstudio.com/docs/python/testing"
   ]
  }
 ],
 "metadata": {
  "jupytext": {
   "formats": "md:myst",
   "text_representation": {
    "extension": ".md",
    "format_name": "myst",
    "format_version": 0.13,
    "jupytext_version": "1.11.5"
   }
  },
  "kernelspec": {
   "display_name": "Python 3",
   "language": "python",
   "name": "python3"
  },
  "source_map": [
   13,
   17,
   21
  ]
 },
 "nbformat": 4,
 "nbformat_minor": 5
}