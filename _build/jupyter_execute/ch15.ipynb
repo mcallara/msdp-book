{
 "cells": [
  {
   "cell_type": "code",
   "execution_count": 1,
   "id": "6ee163e4",
   "metadata": {
    "tags": [
     "remove-input"
    ]
   },
   "outputs": [],
   "source": [
    "cd home"
   ]
  },
  {
   "cell_type": "markdown",
   "id": "ca8d5a20",
   "metadata": {},
   "source": [
    "# 1.5 Remote Repositories\n",
    "\n",
    "## Create your first repo\n",
    "Follow the guide on GitHub's official documentation to create your first repository. Refer to [GitHub's Quickstart for Repositories](https://docs.github.com/en/repositories/creating-and-managing-repositories/quickstart-for-repositories).\n",
    "\n",
    "## Exercise: Create a new empty repo on GitHub named `test-repo`\n",
    "Using the URL `git@github.com:mcallara/test-repo.git`, set up your project for version control."
   ]
  },
  {
   "cell_type": "code",
   "execution_count": 2,
   "id": "e40de0b2",
   "metadata": {},
   "outputs": [],
   "source": [
    "cd my-project\n",
    "git remote add origin git@github.com:mcallara/test-repo.git"
   ]
  },
  {
   "cell_type": "markdown",
   "id": "9c3a979e",
   "metadata": {},
   "source": [
    "### List the remote repository connections"
   ]
  },
  {
   "cell_type": "code",
   "execution_count": 3,
   "id": "93962d77",
   "metadata": {},
   "outputs": [
    {
     "name": "stdout",
     "output_type": "stream",
     "text": [
      "origin\n",
      "origin\tgit@github.com:mcallara/test-repo.git (fetch)\n",
      "origin\tgit@github.com:mcallara/test-repo.git (push)\n"
     ]
    },
    {
     "name": "stdout",
     "output_type": "stream",
     "text": [
      "origin\tgit@github.com:mcallara/test-repo.git (fetch)\n"
     ]
    },
    {
     "name": "stdout",
     "output_type": "stream",
     "text": [
      "origin\tgit@github.com:mcallara/test-repo.git (push)\n"
     ]
    }
   ],
   "source": [
    "git remote\n",
    "git remote -v"
   ]
  },
  {
   "cell_type": "markdown",
   "id": "c0e57bf3",
   "metadata": {},
   "source": [
    "### Exploring the Git configuration\n",
    "Inspect the `.git/config` file to see the remote repository configuration."
   ]
  },
  {
   "cell_type": "code",
   "execution_count": 4,
   "id": "e10a990b",
   "metadata": {},
   "outputs": [
    {
     "name": "stdout",
     "output_type": "stream",
     "text": [
      "[core]\n",
      "\trepositoryformatversion = 0\n",
      "\tfilemode = true\n",
      "\tbare = false\n",
      "\tlogallrefupdates = true\n",
      "[remote \"origin\"]\n",
      "\turl = git@github.com:mcallara/test-repo.git\n",
      "\tfetch = +refs/heads/*:refs/remotes/origin/*\n"
     ]
    },
    {
     "name": "stdout",
     "output_type": "stream",
     "text": [
      "\trepositoryformatversion = 0\n"
     ]
    },
    {
     "name": "stdout",
     "output_type": "stream",
     "text": [
      "\tfilemode = true\n"
     ]
    },
    {
     "name": "stdout",
     "output_type": "stream",
     "text": [
      "\tbare = false\n"
     ]
    },
    {
     "name": "stdout",
     "output_type": "stream",
     "text": [
      "\tlogallrefupdates = true\n"
     ]
    },
    {
     "name": "stdout",
     "output_type": "stream",
     "text": [
      "[remote \"origin\"]\n"
     ]
    },
    {
     "name": "stdout",
     "output_type": "stream",
     "text": [
      "\turl = git@github.com:mcallara/test-repo.git\n"
     ]
    },
    {
     "name": "stdout",
     "output_type": "stream",
     "text": [
      "\tfetch = +refs/heads/*:refs/remotes/origin/*\n"
     ]
    }
   ],
   "source": [
    "cat .git/config"
   ]
  },
  {
   "cell_type": "markdown",
   "id": "dc5935c1",
   "metadata": {},
   "source": [
    "### Checking references\n",
    "Look into the `.git/refs` directory to see references such as heads and tags."
   ]
  },
  {
   "cell_type": "code",
   "execution_count": 5,
   "id": "ff85aeba",
   "metadata": {},
   "outputs": [
    {
     "name": "stdout",
     "output_type": "stream",
     "text": [
      "\u001b[0m\u001b[38;5;33mheads\u001b[0m  \u001b[38;5;33mtags\u001b[0m\n"
     ]
    }
   ],
   "source": [
    "ls .git/refs"
   ]
  },
  {
   "cell_type": "markdown",
   "id": "1a4ca0ef",
   "metadata": {},
   "source": [
    "### Pushing to the remote repository\n",
    "Push your changes to the remote repository on GitHub, setting `origin` as the upstream for `main`."
   ]
  },
  {
   "cell_type": "code",
   "execution_count": 6,
   "id": "b368a0d3",
   "metadata": {},
   "outputs": [
    {
     "name": "stdout",
     "output_type": "stream",
     "text": [
      "To github.com:mcallara/test-repo.git\n",
      " \u001b[31m! [rejected]       \u001b[m main -> main (fetch first)\n",
      "\u001b[31merror: failed to push some refs to 'github.com:mcallara/test-repo.git'\n",
      "\u001b[m\u001b[33mhint: Updates were rejected because the remote contains work that you do\u001b[m\n",
      "\u001b[33mhint: not have locally. This is usually caused by another repository pushing\u001b[m\n",
      "\u001b[33mhint: to the same ref. You may want to first integrate the remote changes\u001b[m\n",
      "\u001b[33mhint: (e.g., 'git pull ...') before pushing again.\u001b[m\n",
      "\u001b[33mhint: See the 'Note about fast-forwards' in 'git push --help' for details.\u001b[m\n"
     ]
    },
    {
     "name": "stdout",
     "output_type": "stream",
     "text": [
      " \u001b[31m! [rejected]       \u001b[m main -> main (fetch first)\n"
     ]
    },
    {
     "name": "stdout",
     "output_type": "stream",
     "text": [
      "\u001b[31merror: failed to push some refs to 'github.com:mcallara/test-repo.git'\n"
     ]
    },
    {
     "name": "stdout",
     "output_type": "stream",
     "text": [
      "\u001b[m\u001b[33mhint: Updates were rejected because the remote contains work that you do\u001b[m\n"
     ]
    },
    {
     "name": "stdout",
     "output_type": "stream",
     "text": [
      "\u001b[33mhint: not have locally. This is usually caused by another repository pushing\u001b[m\n"
     ]
    },
    {
     "name": "stdout",
     "output_type": "stream",
     "text": [
      "\u001b[33mhint: to the same ref. You may want to first integrate the remote changes\u001b[m\n"
     ]
    },
    {
     "name": "stdout",
     "output_type": "stream",
     "text": [
      "\u001b[33mhint: (e.g., 'git pull ...') before pushing again.\u001b[m\n"
     ]
    },
    {
     "name": "stdout",
     "output_type": "stream",
     "text": [
      "\u001b[33mhint: See the 'Note about fast-forwards' in 'git push --help' for details.\u001b[m\n"
     ]
    },
    {
     "ename": "",
     "evalue": "1",
     "output_type": "error",
     "traceback": []
    }
   ],
   "source": [
    "git push -u origin main"
   ]
  },
  {
   "cell_type": "markdown",
   "id": "79531522",
   "metadata": {},
   "source": [
    "After pushing, inspect the `.git/refs` again to verify the update."
   ]
  },
  {
   "cell_type": "code",
   "execution_count": 7,
   "id": "31d11c6e",
   "metadata": {},
   "outputs": [
    {
     "name": "stdout",
     "output_type": "stream",
     "text": [
      "\u001b[0m\u001b[38;5;33mheads\u001b[0m  \u001b[38;5;33mtags\u001b[0m\n"
     ]
    }
   ],
   "source": [
    "ls .git/refs"
   ]
  },
  {
   "cell_type": "markdown",
   "id": "4d1d8efc",
   "metadata": {},
   "source": [
    "### Listing branches and commits"
   ]
  },
  {
   "cell_type": "code",
   "execution_count": 8,
   "id": "4aedbc66",
   "metadata": {},
   "outputs": [
    {
     "name": "stdout",
     "output_type": "stream",
     "text": [
      "  main\u001b[m\n",
      "  new-branch\u001b[m\n",
      "* \u001b[32mnew-feature-branch\u001b[m\n",
      "\u001b[33mcommit 8e6c4f3655a49a46b9b947b90bb8335c2cc4f323\u001b[m\u001b[33m (\u001b[m\u001b[1;36mHEAD -> \u001b[m\u001b[1;32mnew-feature-branch\u001b[m\u001b[33m, \u001b[m\u001b[1;32mmain\u001b[m\u001b[33m)\u001b[m\n",
      "Author: mcallara <mcallara@gmail.com>\n",
      "Date:   Wed Feb 7 14:37:33 2024 +0100\n",
      "\n",
      "    Add third line to file1.txt\n",
      "\n",
      "\u001b[33mcommit 77c6c83d7bc827417a00c6bec3fb680dac65fff0\u001b[m\n",
      "Author: mcallara <mcallara@gmail.com>\n",
      "Date:   Wed Feb 7 14:37:27 2024 +0100\n",
      "\n",
      "    Add file1.txt\n"
     ]
    },
    {
     "name": "stdout",
     "output_type": "stream",
     "text": [
      "  new-branch\u001b[m\n"
     ]
    },
    {
     "name": "stdout",
     "output_type": "stream",
     "text": [
      "* \u001b[32mnew-feature-branch\u001b[m\n"
     ]
    },
    {
     "name": "stdout",
     "output_type": "stream",
     "text": [
      "\u001b[33mcommit 8e6c4f3655a49a46b9b947b90bb8335c2cc4f323\u001b[m\u001b[33m (\u001b[m\u001b[1;36mHEAD -> \u001b[m\u001b[1;32mnew-feature-branch\u001b[m\u001b[33m, \u001b[m\u001b[1;32mmain\u001b[m\u001b[33m)\u001b[m\n"
     ]
    },
    {
     "name": "stdout",
     "output_type": "stream",
     "text": [
      "Author: mcallara <mcallara@gmail.com>\n"
     ]
    },
    {
     "name": "stdout",
     "output_type": "stream",
     "text": [
      "Date:   Wed Feb 7 14:37:33 2024 +0100\n"
     ]
    },
    {
     "name": "stdout",
     "output_type": "stream",
     "text": [
      "\n"
     ]
    },
    {
     "name": "stdout",
     "output_type": "stream",
     "text": [
      "    Add third line to file1.txt\n"
     ]
    },
    {
     "name": "stdout",
     "output_type": "stream",
     "text": [
      "\n"
     ]
    },
    {
     "name": "stdout",
     "output_type": "stream",
     "text": [
      "\u001b[33mcommit 77c6c83d7bc827417a00c6bec3fb680dac65fff0\u001b[m\n"
     ]
    },
    {
     "name": "stdout",
     "output_type": "stream",
     "text": [
      "Author: mcallara <mcallara@gmail.com>\n"
     ]
    },
    {
     "name": "stdout",
     "output_type": "stream",
     "text": [
      "Date:   Wed Feb 7 14:37:27 2024 +0100\n"
     ]
    },
    {
     "name": "stdout",
     "output_type": "stream",
     "text": [
      "\n"
     ]
    },
    {
     "name": "stdout",
     "output_type": "stream",
     "text": [
      "    Add file1.txt\n"
     ]
    }
   ],
   "source": [
    "git branch --all\n",
    "git log"
   ]
  },
  {
   "cell_type": "markdown",
   "id": "31b87e4a",
   "metadata": {},
   "source": [
    "```{admonition} What to notice\n",
    ":class: hint\n",
    "`origin/main` should be pointing to the same commit as `main`.\n",
    "```\n",
    "\n",
    "## Cloning a repository\n",
    "Clone the `test-repo` into a new directory named `test-repo-2`."
   ]
  },
  {
   "cell_type": "code",
   "execution_count": 9,
   "id": "38bb268e",
   "metadata": {},
   "outputs": [
    {
     "name": "stdout",
     "output_type": "stream",
     "text": [
      "fatal: destination path 'test-repo-2' already exists and is not an empty directory.\n",
      "\u001b[0m\u001b[38;5;33mmy-project\u001b[0m  \u001b[38;5;33mtest\u001b[0m  \u001b[38;5;33mtest-repo-2\u001b[0m\n"
     ]
    },
    {
     "name": "stdout",
     "output_type": "stream",
     "text": [
      "\u001b[0m\u001b[38;5;33mmy-project\u001b[0m  \u001b[38;5;33mtest\u001b[0m  \u001b[38;5;33mtest-repo-2\u001b[0m\n"
     ]
    }
   ],
   "source": [
    "cd ..\n",
    "git clone git@github.com:mcallara/test-repo.git test-repo-2\n",
    "ls"
   ]
  },
  {
   "cell_type": "markdown",
   "id": "a8df06b8",
   "metadata": {},
   "source": [
    "This chapter guides you through creating and managing your first GitHub repository, including remote configuration, pushing changes, and cloning repositories."
   ]
  }
 ],
 "metadata": {
  "jupytext": {
   "formats": "md:myst",
   "text_representation": {
    "extension": ".md",
    "format_name": "myst",
    "format_version": 0.13,
    "jupytext_version": "1.11.5"
   }
  },
  "kernelspec": {
   "display_name": "Bash",
   "language": "bash",
   "name": "bash"
  },
  "language_info": {
   "codemirror_mode": "shell",
   "file_extension": ".sh",
   "mimetype": "text/x-sh",
   "name": "bash"
  },
  "source_map": [
   15,
   18,
   28,
   31,
   34,
   37,
   42,
   44,
   49,
   51,
   56,
   58,
   62,
   64,
   67,
   70,
   80,
   84
  ]
 },
 "nbformat": 4,
 "nbformat_minor": 5
}