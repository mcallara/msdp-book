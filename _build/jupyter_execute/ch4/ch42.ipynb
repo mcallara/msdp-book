{
 "cells": [
  {
   "cell_type": "markdown",
   "id": "6d7d8b9c",
   "metadata": {},
   "source": [
    "# 4.2 Projects and Packages with Poetry"
   ]
  },
  {
   "cell_type": "code",
   "execution_count": null,
   "id": "a43d6333",
   "metadata": {
    "tags": [
     "remove-input"
    ]
   },
   "outputs": [],
   "source": [
    "import os\n",
    "os.chdir('../home')"
   ]
  },
  {
   "cell_type": "markdown",
   "id": "935feab3",
   "metadata": {},
   "source": [
    "# Sections\n",
    "Poetry basic usage (https://python-poetry.org/docs/basic-usage/ )\n",
    "Project setup with Poetry\n",
    "The src layout (src layout vs flat layout - Python Packaging User Guide, Testing & Packaging/)\n",
    "Initialising a pre-existing project\n",
    "Specifying dependencies\n",
    "Using your virtual environment\n",
    "Using poetry run\n",
    "Activating the virtual environment\n",
    "Version constraints\n",
    "Installing dependencies\n",
    "Installing without poetry.lock\n",
    "Installing with poetry.lock\n",
    "Committing your poetry.lock file to version control\n",
    "Installing dependencies only\n",
    "Updating dependencies to their latest versions"
   ]
  }
 ],
 "metadata": {
  "jupytext": {
   "formats": "md:myst",
   "text_representation": {
    "extension": ".md",
    "format_name": "myst",
    "format_version": 0.13,
    "jupytext_version": "1.11.5"
   }
  },
  "kernelspec": {
   "display_name": "Python 3",
   "language": "python",
   "name": "python3"
  },
  "source_map": [
   13,
   16,
   20
  ]
 },
 "nbformat": 4,
 "nbformat_minor": 5
}