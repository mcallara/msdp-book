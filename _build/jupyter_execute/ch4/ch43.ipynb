{
 "cells": [
  {
   "cell_type": "markdown",
   "id": "560b2892",
   "metadata": {},
   "source": [
    "# 4.3 Virtual Environments"
   ]
  },
  {
   "cell_type": "code",
   "execution_count": null,
   "id": "e0245dd4",
   "metadata": {
    "tags": [
     "remove-input"
    ]
   },
   "outputs": [],
   "source": [
    "import os\n",
    "os.chdir('../home')"
   ]
  },
  {
   "cell_type": "markdown",
   "id": "1f9fbd4b",
   "metadata": {},
   "source": [
    "# Sections\n",
    "Python Environments (https://testdriven.io/blog/python-environments/)\n",
    "Conda vs Poetry environments\n",
    "Managing virtual environments with Poetry (https://python-poetry.org/docs/managing-environments#managing-environments)\n",
    "Creating environments\n",
    "poetry config --local virtualenvs.in-project true\n",
    "poetry config virtualenvs.in-project true\n",
    "Switching between environments\n",
    "Displaying the environment information\n",
    "Listing the environments associated with the project\n",
    "Deleting the environments\n",
    "Managing dependencies with Poetry\n",
    "Adding Dependencies \n",
    "Dependencies Groups - Dev dependencies\n",
    "Adding a dependency to a group\n",
    "Environments in Visual Studio Code"
   ]
  }
 ],
 "metadata": {
  "jupytext": {
   "formats": "md:myst",
   "text_representation": {
    "extension": ".md",
    "format_name": "myst",
    "format_version": 0.13,
    "jupytext_version": "1.11.5"
   }
  },
  "kernelspec": {
   "display_name": "Python 3",
   "language": "python",
   "name": "python3"
  },
  "source_map": [
   13,
   16,
   20
  ]
 },
 "nbformat": 4,
 "nbformat_minor": 5
}