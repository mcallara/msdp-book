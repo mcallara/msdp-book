{
 "cells": [
  {
   "cell_type": "markdown",
   "id": "0ece8fc9",
   "metadata": {},
   "source": [
    "# 4.1 Managing Python Versions"
   ]
  },
  {
   "cell_type": "code",
   "execution_count": null,
   "id": "94d7f1ea",
   "metadata": {
    "tags": [
     "remove-input"
    ]
   },
   "outputs": [],
   "source": [
    "import os\n",
    "os.chdir('../home')"
   ]
  },
  {
   "cell_type": "markdown",
   "id": "ae66d756",
   "metadata": {},
   "source": [
    "## Creating a Conda Environment with a Specific Python Version on Linux\n",
    "\n",
    "Conda is an environment and package manager that allows you to create isolated environments for different projects, specifying exact versions of Python and other packages needed. For detailed installation instructions for Conda, refer to the [Conda documentation](https://docs.conda.io/projects/conda/en/latest/).\n",
    "\n",
    "### Create a New Conda Environment\n",
    "\n",
    "To create a new Conda environment with a specific version of Python, use the command:\n",
    "\n",
    "```bash\n",
    "conda create --name py3.10.4_clean python=3.10.4\n",
    "```\n",
    "\n",
    "This command creates a new environment named `py3.10.4_clean`, specifically with Python version 3.10.4. Replace `3.10.4` with any version of Python you require for your project.\n",
    "\n",
    "### Activate the Conda Environment\n",
    "\n",
    "With the environment created, you need to activate it to start using it. Activate your new environment with:\n",
    "\n",
    "```bash\n",
    "conda activate py3.10.4_clean\n",
    "```\n",
    "\n",
    "Activating the environment sets up your terminal to use the Python version and any packages installed in this isolated environment.\n",
    "\n",
    "### Deactivate the Environment\n",
    "\n",
    "When you're finished with your work in the environment, you can deactivate it, returning your terminal to its base configuration:\n",
    "\n",
    "```bash\n",
    "conda deactivate\n",
    "```\n",
    "\n",
    "## Listing All Available Conda Environments\n",
    "\n",
    "To view a list of all Conda environments available on your system, you can use the following command:\n",
    "\n",
    "```bash\n",
    "conda env list\n",
    "```\n",
    "\n",
    "or its shorthand version:\n",
    "\n",
    "```bash\n",
    "conda info --envs\n",
    "```\n",
    "\n",
    "This command will display a list of all Conda environments, showing their names and the paths to their directories.\n",
    "\n",
    "## Accessing the Python Executable Path\n",
    "\n",
    "Each environment listed by the `conda env list` command includes a path to its directory. This path is useful for accessing the Python executable specific to an environment. For instance, if you're integrating tools, scripts, or IDEs with a specific environment, you might need to specify the path to the Python executable within that environment.\n",
    "\n",
    "The path displayed next to each environment name leads directly to the environment's root directory. Inside this directory, you can find the Python executable in the `bin` folder. For example, the path to the Python executable for an environment named `py3.10.4_clean` might look like this:\n",
    "\n",
    "```bash\n",
    "/home/username/miniconda3/envs/py3.10.4_clean/bin/python\n",
    "```\n",
    "\n",
    "This path allows you to invoke Python directly from that environment, ensuring that any Python scripts or commands are executed with the environment's specific Python version and dependencies."
   ]
  }
 ],
 "metadata": {
  "jupytext": {
   "formats": "md:myst",
   "text_representation": {
    "extension": ".md",
    "format_name": "myst",
    "format_version": 0.13,
    "jupytext_version": "1.11.5"
   }
  },
  "kernelspec": {
   "display_name": "Python 3",
   "language": "python",
   "name": "python3"
  },
  "source_map": [
   13,
   17,
   21
  ]
 },
 "nbformat": 4,
 "nbformat_minor": 5
}