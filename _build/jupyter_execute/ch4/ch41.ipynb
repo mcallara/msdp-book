{
 "cells": [
  {
   "cell_type": "markdown",
   "id": "b168aedb",
   "metadata": {},
   "source": [
    "# 4.1 Managing Python Versions"
   ]
  },
  {
   "cell_type": "code",
   "execution_count": null,
   "id": "24c67fbe",
   "metadata": {
    "tags": [
     "remove-input"
    ]
   },
   "outputs": [],
   "source": [
    "import os\n",
    "os.chdir('../home')"
   ]
  },
  {
   "cell_type": "markdown",
   "id": "fca4e767",
   "metadata": {},
   "source": [
    "TODO: [Material to cover](https://cjolowicz.github.io/posts/hypermodern-python-01-setup/#installing-python-with-pyenv)"
   ]
  }
 ],
 "metadata": {
  "jupytext": {
   "formats": "md:myst",
   "text_representation": {
    "extension": ".md",
    "format_name": "myst",
    "format_version": 0.13,
    "jupytext_version": "1.11.5"
   }
  },
  "kernelspec": {
   "display_name": "Python 3",
   "language": "python",
   "name": "python3"
  },
  "source_map": [
   13,
   17,
   21
  ]
 },
 "nbformat": 4,
 "nbformat_minor": 5
}