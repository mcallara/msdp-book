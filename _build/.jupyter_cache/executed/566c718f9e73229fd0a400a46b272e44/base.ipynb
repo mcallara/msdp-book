{
 "cells": [
  {
   "cell_type": "code",
   "execution_count": 1,
   "id": "3da99b08",
   "metadata": {
    "tags": [
     "remove-input"
    ]
   },
   "outputs": [],
   "source": [
    "cd ../home/ch1"
   ]
  },
  {
   "cell_type": "code",
   "execution_count": 2,
   "id": "52e6f605",
   "metadata": {},
   "outputs": [],
   "source": [
    "mkdir my-project"
   ]
  },
  {
   "cell_type": "code",
   "execution_count": 3,
   "id": "d90d0749",
   "metadata": {},
   "outputs": [],
   "source": [
    "cd my-project"
   ]
  },
  {
   "cell_type": "code",
   "execution_count": 4,
   "id": "7d715891",
   "metadata": {},
   "outputs": [
    {
     "name": "stdout",
     "output_type": "stream",
     "text": [
      "\u001b[0m\u001b[38;5;33m.\u001b[0m  \u001b[38;5;33m..\u001b[0m\n"
     ]
    }
   ],
   "source": [
    "ls -a"
   ]
  },
  {
   "cell_type": "code",
   "execution_count": 5,
   "id": "78d68d20",
   "metadata": {},
   "outputs": [
    {
     "name": "stdout",
     "output_type": "stream",
     "text": [
      "Initialized empty Git repository in /home/callaram/tds/home/ch1/my-project/.git/\n"
     ]
    }
   ],
   "source": [
    "git init -b main"
   ]
  },
  {
   "cell_type": "code",
   "execution_count": 6,
   "id": "181d6b03",
   "metadata": {},
   "outputs": [],
   "source": [
    "git config --global init.defaultBranch main"
   ]
  },
  {
   "cell_type": "code",
   "execution_count": 7,
   "id": "f54b1850",
   "metadata": {},
   "outputs": [
    {
     "name": "stdout",
     "output_type": "stream",
     "text": [
      "On branch main\n"
     ]
    },
    {
     "name": "stdout",
     "output_type": "stream",
     "text": [
      "\n"
     ]
    },
    {
     "name": "stdout",
     "output_type": "stream",
     "text": [
      "No commits yet\n"
     ]
    },
    {
     "name": "stdout",
     "output_type": "stream",
     "text": [
      "\n"
     ]
    },
    {
     "name": "stdout",
     "output_type": "stream",
     "text": [
      "nothing to commit (create/copy files and use \"git add\" to track)\n"
     ]
    }
   ],
   "source": [
    "git status"
   ]
  },
  {
   "cell_type": "code",
   "execution_count": 8,
   "id": "86d123f1",
   "metadata": {},
   "outputs": [],
   "source": [
    "rm -rf .git"
   ]
  },
  {
   "cell_type": "code",
   "execution_count": 9,
   "id": "a440e8e1",
   "metadata": {},
   "outputs": [
    {
     "name": "stdout",
     "output_type": "stream",
     "text": [
      "Initialized empty Git repository in /home/callaram/tds/home/ch1/my-project/.git/\n"
     ]
    }
   ],
   "source": [
    "git init"
   ]
  },
  {
   "cell_type": "code",
   "execution_count": 10,
   "id": "00d0fae2",
   "metadata": {},
   "outputs": [
    {
     "name": "stdout",
     "output_type": "stream",
     "text": [
      "\u001b[0m\u001b[38;5;33m.\u001b[0m  \u001b[38;5;33m..\u001b[0m  \u001b[38;5;33m.git\u001b[0m\n"
     ]
    }
   ],
   "source": [
    "ls -a"
   ]
  },
  {
   "cell_type": "code",
   "execution_count": 11,
   "id": "d3590dc2",
   "metadata": {},
   "outputs": [
    {
     "name": "stdout",
     "output_type": "stream",
     "text": [
      "\u001b[0m\u001b[38;5;33m.\u001b[0m  \u001b[38;5;33m..\u001b[0m  config  description  HEAD  \u001b[38;5;33mhooks\u001b[0m  \u001b[38;5;33minfo\u001b[0m  \u001b[38;5;33mobjects\u001b[0m  \u001b[38;5;33mrefs\u001b[0m\n"
     ]
    },
    {
     "name": "stdout",
     "output_type": "stream",
     "text": [
      "\u001b[0m\u001b[38;5;33m.\u001b[0m  \u001b[38;5;33m..\u001b[0m  \u001b[38;5;33minfo\u001b[0m  \u001b[38;5;33mpack\u001b[0m\n"
     ]
    }
   ],
   "source": [
    "ls .git -a\n",
    "ls .git/objects -a"
   ]
  },
  {
   "cell_type": "code",
   "execution_count": 12,
   "id": "c1f84cf7",
   "metadata": {},
   "outputs": [],
   "source": [
    "touch file1.txt"
   ]
  },
  {
   "cell_type": "code",
   "execution_count": 13,
   "id": "b8f881ab",
   "metadata": {},
   "outputs": [],
   "source": [
    "echo -n \"This is file 1.\" >> file1.txt"
   ]
  },
  {
   "cell_type": "code",
   "execution_count": 14,
   "id": "66f5e5a9",
   "metadata": {},
   "outputs": [
    {
     "name": "stdout",
     "output_type": "stream",
     "text": [
      "[main (root-commit) 08b4827] Add file1.txt\n"
     ]
    },
    {
     "name": "stdout",
     "output_type": "stream",
     "text": [
      " 1 file changed, 1 insertion(+)\n"
     ]
    },
    {
     "name": "stdout",
     "output_type": "stream",
     "text": [
      " create mode 100644 file1.txt\n"
     ]
    }
   ],
   "source": [
    "git add file1.txt\n",
    "git commit -m \"Add file1.txt\""
   ]
  },
  {
   "cell_type": "code",
   "execution_count": 15,
   "id": "fab63bb4",
   "metadata": {},
   "outputs": [
    {
     "name": "stdout",
     "output_type": "stream",
     "text": [
      "On branch main\n"
     ]
    },
    {
     "name": "stdout",
     "output_type": "stream",
     "text": [
      "nothing to commit, working tree clean\n"
     ]
    }
   ],
   "source": [
    "git status"
   ]
  },
  {
   "cell_type": "code",
   "execution_count": 16,
   "id": "b46b1f82",
   "metadata": {},
   "outputs": [
    {
     "name": "stdout",
     "output_type": "stream",
     "text": [
      "\u001b[33mcommit 08b4827ab8e289d46ae0d351d128b4d9ecea67b6\u001b[m\u001b[33m (\u001b[m\u001b[1;36mHEAD -> \u001b[m\u001b[1;32mmain\u001b[m\u001b[33m)\u001b[m\n"
     ]
    },
    {
     "name": "stdout",
     "output_type": "stream",
     "text": [
      "Author: mcallara <mcallara@gmail.com>\n"
     ]
    },
    {
     "name": "stdout",
     "output_type": "stream",
     "text": [
      "Date:   Thu Feb 15 17:37:52 2024 +0100\n"
     ]
    },
    {
     "name": "stdout",
     "output_type": "stream",
     "text": [
      "\n"
     ]
    },
    {
     "name": "stdout",
     "output_type": "stream",
     "text": [
      "    Add file1.txt\n"
     ]
    }
   ],
   "source": [
    "git log"
   ]
  },
  {
   "cell_type": "code",
   "execution_count": 17,
   "id": "b33895ea",
   "metadata": {},
   "outputs": [
    {
     "name": "stdout",
     "output_type": "stream",
     "text": [
      "\u001b[0m\u001b[38;5;33m.\u001b[0m  \u001b[38;5;33m..\u001b[0m  \u001b[38;5;33m05\u001b[0m  \u001b[38;5;33m08\u001b[0m  \u001b[38;5;33m74\u001b[0m  \u001b[38;5;33minfo\u001b[0m  \u001b[38;5;33mpack\u001b[0m\n"
     ]
    }
   ],
   "source": [
    "ls -a .git/objects"
   ]
  }
 ],
 "metadata": {
  "jupytext": {
   "formats": "md:myst",
   "text_representation": {
    "extension": ".md",
    "format_name": "myst",
    "format_version": 0.13,
    "jupytext_version": "1.11.5"
   }
  },
  "kernelspec": {
   "display_name": "Bash",
   "language": "bash",
   "name": "bash"
  },
  "language_info": {
   "codemirror_mode": "shell",
   "file_extension": ".sh",
   "mimetype": "text/x-sh",
   "name": "bash"
  },
  "source_map": [
   15,
   18,
   27,
   29,
   34,
   36,
   41,
   43,
   48,
   50,
   62,
   64,
   68,
   70,
   75,
   77,
   81,
   83,
   88,
   90,
   95,
   98,
   105,
   107,
   112,
   114,
   124,
   127,
   136,
   138,
   142,
   144,
   151,
   153
  ]
 },
 "nbformat": 4,
 "nbformat_minor": 5
}