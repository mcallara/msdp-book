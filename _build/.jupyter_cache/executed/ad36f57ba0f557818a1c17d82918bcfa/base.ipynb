{
 "cells": [
  {
   "cell_type": "code",
   "execution_count": 1,
   "id": "df2d3c01",
   "metadata": {
    "tags": [
     "remove-input"
    ]
   },
   "outputs": [],
   "source": [
    "cd ../home/ch1"
   ]
  },
  {
   "cell_type": "code",
   "execution_count": 2,
   "id": "92667f72",
   "metadata": {},
   "outputs": [
    {
     "name": "stdout",
     "output_type": "stream",
     "text": [
      "fatal: remote origin already exists.\n"
     ]
    },
    {
     "ename": "",
     "evalue": "128",
     "output_type": "error",
     "traceback": []
    }
   ],
   "source": [
    "cd my-project\n",
    "git remote add origin git@gitlab.com:yourusername/my-project-remote.git"
   ]
  },
  {
   "cell_type": "code",
   "execution_count": 3,
   "id": "7811c24f",
   "metadata": {},
   "outputs": [
    {
     "name": "stdout",
     "output_type": "stream",
     "text": [
      "origin\n"
     ]
    },
    {
     "name": "stdout",
     "output_type": "stream",
     "text": [
      "origin\tgit@github.com:mcallara/test-repo.git (fetch)\n"
     ]
    },
    {
     "name": "stdout",
     "output_type": "stream",
     "text": [
      "origin\tgit@github.com:mcallara/test-repo.git (push)\n"
     ]
    }
   ],
   "source": [
    "git remote\n",
    "git remote -v"
   ]
  },
  {
   "cell_type": "code",
   "execution_count": 4,
   "id": "c7d92ff4",
   "metadata": {},
   "outputs": [
    {
     "name": "stdout",
     "output_type": "stream",
     "text": [
      "[core]\n"
     ]
    },
    {
     "name": "stdout",
     "output_type": "stream",
     "text": [
      "\trepositoryformatversion = 0\n"
     ]
    },
    {
     "name": "stdout",
     "output_type": "stream",
     "text": [
      "\tfilemode = true\n"
     ]
    },
    {
     "name": "stdout",
     "output_type": "stream",
     "text": [
      "\tbare = false\n"
     ]
    },
    {
     "name": "stdout",
     "output_type": "stream",
     "text": [
      "\tlogallrefupdates = true\n"
     ]
    },
    {
     "name": "stdout",
     "output_type": "stream",
     "text": [
      "[remote \"origin\"]\n"
     ]
    },
    {
     "name": "stdout",
     "output_type": "stream",
     "text": [
      "\turl = git@github.com:mcallara/test-repo.git\n"
     ]
    },
    {
     "name": "stdout",
     "output_type": "stream",
     "text": [
      "\tfetch = +refs/heads/*:refs/remotes/origin/*\n"
     ]
    }
   ],
   "source": [
    "cat .git/config"
   ]
  },
  {
   "cell_type": "code",
   "execution_count": 5,
   "id": "db7f9dab",
   "metadata": {},
   "outputs": [
    {
     "name": "stdout",
     "output_type": "stream",
     "text": [
      "\u001b[0m\u001b[38;5;33mheads\u001b[0m  \u001b[38;5;33mtags\u001b[0m\n"
     ]
    }
   ],
   "source": [
    "ls .git/refs"
   ]
  },
  {
   "cell_type": "code",
   "execution_count": 6,
   "id": "9ba8eeb7",
   "metadata": {},
   "outputs": [
    {
     "name": "stdout",
     "output_type": "stream",
     "text": [
      "ERROR: Repository not found.\n"
     ]
    },
    {
     "name": "stdout",
     "output_type": "stream",
     "text": [
      "fatal: Could not read from remote repository.\n"
     ]
    },
    {
     "name": "stdout",
     "output_type": "stream",
     "text": [
      "\n"
     ]
    },
    {
     "name": "stdout",
     "output_type": "stream",
     "text": [
      "Please make sure you have the correct access rights\n"
     ]
    },
    {
     "name": "stdout",
     "output_type": "stream",
     "text": [
      "and the repository exists.\n"
     ]
    },
    {
     "ename": "",
     "evalue": "128",
     "output_type": "error",
     "traceback": []
    }
   ],
   "source": [
    "git push -u origin main"
   ]
  },
  {
   "cell_type": "code",
   "execution_count": 7,
   "id": "bfe3f3f5",
   "metadata": {},
   "outputs": [
    {
     "name": "stdout",
     "output_type": "stream",
     "text": [
      "\u001b[0m\u001b[38;5;33mheads\u001b[0m  \u001b[38;5;33mtags\u001b[0m\n"
     ]
    }
   ],
   "source": [
    "ls .git/refs"
   ]
  },
  {
   "cell_type": "code",
   "execution_count": 8,
   "id": "bc542919",
   "metadata": {},
   "outputs": [
    {
     "name": "stdout",
     "output_type": "stream",
     "text": [
      "  main\u001b[m\n"
     ]
    },
    {
     "name": "stdout",
     "output_type": "stream",
     "text": [
      "  new-branch\u001b[m\n"
     ]
    },
    {
     "name": "stdout",
     "output_type": "stream",
     "text": [
      "* \u001b[32mnew-feature-branch\u001b[m\n"
     ]
    },
    {
     "name": "stdout",
     "output_type": "stream",
     "text": [
      "\u001b[33mcommit d0886da704b6bc631782b6723c86e652a52a31ec\u001b[m\u001b[33m (\u001b[m\u001b[1;36mHEAD -> \u001b[m\u001b[1;32mnew-feature-branch\u001b[m\u001b[33m, \u001b[m\u001b[1;32mmain\u001b[m\u001b[33m)\u001b[m\n"
     ]
    },
    {
     "name": "stdout",
     "output_type": "stream",
     "text": [
      "Author: mcallara <mcallara@gmail.com>\n"
     ]
    },
    {
     "name": "stdout",
     "output_type": "stream",
     "text": [
      "Date:   Thu Feb 15 17:38:01 2024 +0100\n"
     ]
    },
    {
     "name": "stdout",
     "output_type": "stream",
     "text": [
      "\n"
     ]
    },
    {
     "name": "stdout",
     "output_type": "stream",
     "text": [
      "    Add third line to file1.txt\n"
     ]
    },
    {
     "name": "stdout",
     "output_type": "stream",
     "text": [
      "\n"
     ]
    },
    {
     "name": "stdout",
     "output_type": "stream",
     "text": [
      "\u001b[33mcommit 08b4827ab8e289d46ae0d351d128b4d9ecea67b6\u001b[m\n"
     ]
    },
    {
     "name": "stdout",
     "output_type": "stream",
     "text": [
      "Author: mcallara <mcallara@gmail.com>\n"
     ]
    },
    {
     "name": "stdout",
     "output_type": "stream",
     "text": [
      "Date:   Thu Feb 15 17:37:52 2024 +0100\n"
     ]
    },
    {
     "name": "stdout",
     "output_type": "stream",
     "text": [
      "\n"
     ]
    },
    {
     "name": "stdout",
     "output_type": "stream",
     "text": [
      "    Add file1.txt\n"
     ]
    }
   ],
   "source": [
    "git branch --all\n",
    "git log"
   ]
  },
  {
   "cell_type": "code",
   "execution_count": 9,
   "id": "6c260df2",
   "metadata": {},
   "outputs": [
    {
     "name": "stdout",
     "output_type": "stream",
     "text": [
      "Cloning into 'my-project-remote-2'...\n"
     ]
    },
    {
     "name": "stdout",
     "output_type": "stream",
     "text": [
      "Warning: Permanently added 'gitlab.com,172.65.251.78' (ECDSA) to the list of known hosts.\r"
     ]
    },
    {
     "name": "stdout",
     "output_type": "stream",
     "text": [
      "\n"
     ]
    },
    {
     "name": "stdout",
     "output_type": "stream",
     "text": [
      "git@gitlab.com: Permission denied (publickey).\r"
     ]
    },
    {
     "name": "stdout",
     "output_type": "stream",
     "text": [
      "\n"
     ]
    },
    {
     "name": "stdout",
     "output_type": "stream",
     "text": [
      "fatal: Could not read from remote repository.\n"
     ]
    },
    {
     "name": "stdout",
     "output_type": "stream",
     "text": [
      "\n"
     ]
    },
    {
     "name": "stdout",
     "output_type": "stream",
     "text": [
      "Please make sure you have the correct access rights\n"
     ]
    },
    {
     "name": "stdout",
     "output_type": "stream",
     "text": [
      "and the repository exists.\n"
     ]
    },
    {
     "name": "stdout",
     "output_type": "stream",
     "text": [
      "\u001b[0m\u001b[38;5;33mmy-project\u001b[0m  \u001b[38;5;33mtest\u001b[0m\n"
     ]
    }
   ],
   "source": [
    "cd ..\n",
    "git clone git@gitlab.com:yourusername/my-project-remote.git my-project-remote-2\n",
    "ls"
   ]
  }
 ],
 "metadata": {
  "jupytext": {
   "formats": "md:myst",
   "text_representation": {
    "extension": ".md",
    "format_name": "myst",
    "format_version": 0.13,
    "jupytext_version": "1.11.5"
   }
  },
  "kernelspec": {
   "display_name": "Bash",
   "language": "bash",
   "name": "bash"
  },
  "language_info": {
   "codemirror_mode": "shell",
   "file_extension": ".sh",
   "mimetype": "text/x-sh",
   "name": "bash"
  },
  "source_map": [
   15,
   18,
   26,
   29,
   32,
   35,
   40,
   42,
   47,
   49,
   54,
   56,
   60,
   62,
   65,
   68,
   78,
   82
  ]
 },
 "nbformat": 4,
 "nbformat_minor": 5
}