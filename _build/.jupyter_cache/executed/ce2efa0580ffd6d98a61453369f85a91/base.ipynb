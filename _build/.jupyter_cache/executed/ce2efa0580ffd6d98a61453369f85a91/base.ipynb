{
 "cells": [
  {
   "cell_type": "code",
   "execution_count": 1,
   "id": "f12a29d4",
   "metadata": {
    "tags": [
     "remove-input"
    ]
   },
   "outputs": [
    {
     "name": "stdout",
     "output_type": "stream",
     "text": [
      "mkdir: cannot create directory ‘ch53’: File exists\n"
     ]
    }
   ],
   "source": [
    "cd ../home\n",
    "mkdir ch53\n",
    "cd ch53"
   ]
  },
  {
   "cell_type": "code",
   "execution_count": 2,
   "id": "ffc3c2c9",
   "metadata": {},
   "outputs": [
    {
     "name": "stdout",
     "output_type": "stream",
     "text": [
      "\n"
     ]
    },
    {
     "name": "stdout",
     "output_type": "stream",
     "text": [
      "\u001b[31;1mDestination \u001b[39;22m\u001b[33m/home/callaram/tds/home/ch53/poetry-demo\u001b[39m\u001b[31;1m exists and is not empty\u001b[39;22m\n"
     ]
    },
    {
     "ename": "",
     "evalue": "1",
     "output_type": "error",
     "traceback": []
    }
   ],
   "source": [
    "poetry new poetry-demo"
   ]
  },
  {
   "cell_type": "code",
   "execution_count": 3,
   "id": "98c7bbf2",
   "metadata": {},
   "outputs": [],
   "source": [
    "cd poetry-demo"
   ]
  },
  {
   "cell_type": "code",
   "execution_count": 4,
   "id": "57a1a5ed",
   "metadata": {
    "tags": [
     "remove-input"
    ]
   },
   "outputs": [],
   "source": [
    "sed -i 's/python = \"^3.7\"/python = \"^3.8\"/' pyproject.toml"
   ]
  },
  {
   "cell_type": "code",
   "execution_count": 5,
   "id": "7d2207de",
   "metadata": {
    "tags": [
     "scroll-output"
    ]
   },
   "outputs": [
    {
     "name": "stdout",
     "output_type": "stream",
     "text": [
      "\n"
     ]
    },
    {
     "name": "stdout",
     "output_type": "stream",
     "text": [
      "\u001b[31;1mCannot declare ('tool', 'semantic_release') twice (at line 28, column 23)\u001b[39;22m\n"
     ]
    },
    {
     "ename": "",
     "evalue": "1",
     "output_type": "error",
     "traceback": []
    }
   ],
   "source": [
    "poetry add --group dev python-semantic-release"
   ]
  },
  {
   "cell_type": "code",
   "execution_count": 6,
   "id": "3cb7e784",
   "metadata": {
    "tags": [
     "remove-input"
    ]
   },
   "outputs": [],
   "source": [
    "echo >> pyproject.toml\n",
    "echo '[tool.semantic_release]' >> pyproject.toml\n",
    "echo 'version_toml = [\"pyproject.toml:tool.poetry.version\",]' >> pyproject.toml\n",
    "echo 'commit_version_number = true' >> pyproject.toml\n",
    "echo 'upload_to_pypi = \"false\"' >> pyproject.toml\n",
    "echo '' >> pyproject.toml\n",
    "echo '[tool.semantic_release.remote]' >> pyproject.toml\n",
    "echo 'name = \"origin\"' >> pyproject.toml\n",
    "echo 'type = \"gitlab\"' >> pyproject.toml"
   ]
  },
  {
   "cell_type": "code",
   "execution_count": 7,
   "id": "b1ff7c79",
   "metadata": {
    "tags": [
     "remove-input"
    ]
   },
   "outputs": [],
   "source": [
    "touch .gitlab-ci.yml\n",
    "echo $'image: python:latest\n",
    "\n",
    "variables:\n",
    "  GITLAB_TOKEN: $CI_JOB_TOKEN\n",
    "\n",
    "before_script:\n",
    "  - git config --global user.name \"Bot\"\n",
    "  - git config --global user.email \"ci@domain.com\"\n",
    "  - git checkout \"$CI_COMMIT_REF_NAME\"\n",
    "  - git status\n",
    "  \n",
    "semantic-release:\n",
    "  stage: deploy\n",
    "  rules:\n",
    "    - if: \\'$CI_COMMIT_MESSAGE =~ /^(\\d+\\.)?(\\d+\\.)?(\\d+).*/ && $CI_COMMIT_REF_NAME == $CI_DEFAULT_BRANCH\\'\n",
    "      when: never\n",
    "    - when: always\n",
    "  script:\n",
    "    - echo $CI_COMMIT_REF_NAME\n",
    "    - echo $CI_COMMIT_TAG\n",
    "    - echo $CI_DEFAULT_BRANCH\n",
    "    - echo $CI_COMMIT_MESSAGE\n",
    "    - pip install python-semantic-release\n",
    "    - semantic-release -vvv version\n",
    "    - semantic-release -vvv publish\n",
    "    - cat pyproject.toml' >> .gitlab-ci.yml"
   ]
  },
  {
   "cell_type": "code",
   "execution_count": 8,
   "id": "27e93c32",
   "metadata": {},
   "outputs": [
    {
     "name": "stdout",
     "output_type": "stream",
     "text": [
      "warning: re-init: ignored --initial-branch=master\n"
     ]
    },
    {
     "name": "stdout",
     "output_type": "stream",
     "text": [
      "Reinitialized existing Git repository in /home/callaram/tds/home/ch53/poetry-demo/.git/\n"
     ]
    },
    {
     "name": "stdout",
     "output_type": "stream",
     "text": [
      "fatal: remote origin already exists.\n"
     ]
    },
    {
     "name": "stdout",
     "output_type": "stream",
     "text": [
      "[master 65c45c5] feat(semantic-release): add python-semantic-release and gitlab-ci.yml\n"
     ]
    },
    {
     "name": "stdout",
     "output_type": "stream",
     "text": [
      " 2 files changed, 35 insertions(+)\n"
     ]
    },
    {
     "name": "stdout",
     "output_type": "stream",
     "text": [
      "remote: The project you were looking for could not be found or you don't have permission to view it.\n"
     ]
    },
    {
     "name": "stdout",
     "output_type": "stream",
     "text": [
      "fatal: repository 'https://gitlab.com/mcallara/semver3.git/' not found\n"
     ]
    },
    {
     "ename": "",
     "evalue": "128",
     "output_type": "error",
     "traceback": []
    }
   ],
   "source": [
    "git init --initial-branch=master\n",
    "git remote add origin https://gitlab.com/msdp.book/semver.git\n",
    "git add .\n",
    "git commit -m \"feat(semantic-release): add python-semantic-release and gitlab-ci.yml\"\n",
    "git push --set-upstream origin master"
   ]
  },
  {
   "cell_type": "code",
   "execution_count": 9,
   "id": "c7255159",
   "metadata": {},
   "outputs": [
    {
     "name": "stdout",
     "output_type": "stream",
     "text": [
      "On branch master\n"
     ]
    },
    {
     "name": "stdout",
     "output_type": "stream",
     "text": [
      "Your branch is ahead of 'origin/master' by 2 commits.\n"
     ]
    },
    {
     "name": "stdout",
     "output_type": "stream",
     "text": [
      "  (use \"git push\" to publish your local commits)\n"
     ]
    },
    {
     "name": "stdout",
     "output_type": "stream",
     "text": [
      "\n"
     ]
    },
    {
     "name": "stdout",
     "output_type": "stream",
     "text": [
      "nothing to commit, working tree clean\n"
     ]
    },
    {
     "name": "stdout",
     "output_type": "stream",
     "text": [
      "remote: The project you were looking for could not be found or you don't have permission to view it.\n"
     ]
    },
    {
     "name": "stdout",
     "output_type": "stream",
     "text": [
      "fatal: repository 'https://gitlab.com/mcallara/semver3.git/' not found\n"
     ]
    },
    {
     "ename": "",
     "evalue": "128",
     "output_type": "error",
     "traceback": []
    }
   ],
   "source": [
    "touch test3.py\n",
    "git add test3.py\n",
    "git commit -m \"feat(test3): add new test2 module\"\n",
    "git push --set-upstream origin master"
   ]
  }
 ],
 "metadata": {
  "jupytext": {
   "formats": "md:myst",
   "text_representation": {
    "extension": ".md",
    "format_name": "myst",
    "format_version": 0.13,
    "jupytext_version": "1.11.5"
   }
  },
  "kernelspec": {
   "display_name": "Bash",
   "language": "bash",
   "name": "bash"
  },
  "language_info": {
   "codemirror_mode": "shell",
   "file_extension": ".sh",
   "mimetype": "text/x-sh",
   "name": "bash"
  },
  "source_map": [
   13,
   16,
   21,
   60,
   62,
   66,
   68,
   88,
   91,
   97,
   100,
   119,
   130,
   165,
   194,
   210,
   216,
   237,
   242
  ]
 },
 "nbformat": 4,
 "nbformat_minor": 5
}