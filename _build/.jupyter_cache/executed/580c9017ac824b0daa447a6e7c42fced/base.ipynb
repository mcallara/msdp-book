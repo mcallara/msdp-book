{
 "cells": [
  {
   "cell_type": "code",
   "execution_count": 1,
   "id": "8f066c5b",
   "metadata": {
    "tags": [
     "remove-input"
    ]
   },
   "outputs": [
    {
     "name": "stdout",
     "output_type": "stream",
     "text": [
      "mkdir: cannot create directory ‘ch1’: File exists\n"
     ]
    }
   ],
   "source": [
    "cd ../home\n",
    "mkdir ch1\n",
    "cd ch1"
   ]
  },
  {
   "cell_type": "code",
   "execution_count": 2,
   "id": "f77708d8",
   "metadata": {
    "tags": [
     "scroll-output"
    ]
   },
   "outputs": [
    {
     "name": "stdout",
     "output_type": "stream",
     "text": [
      "git version 2.28.0\n"
     ]
    }
   ],
   "source": [
    "git --version"
   ]
  },
  {
   "cell_type": "code",
   "execution_count": 3,
   "id": "997b3524",
   "metadata": {
    "tags": [
     "remove-input"
    ]
   },
   "outputs": [
    {
     "name": "stdout",
     "output_type": "stream",
     "text": [
      "\u001b[3J\u001b[H\u001b[2J\n"
     ]
    }
   ],
   "source": [
    "clear"
   ]
  },
  {
   "cell_type": "code",
   "execution_count": 4,
   "id": "51e77556",
   "metadata": {},
   "outputs": [
    {
     "name": "stdout",
     "output_type": "stream",
     "text": [
      "/home/callaram/tds/msdp-book/home/ch1\n"
     ]
    }
   ],
   "source": [
    "pwd"
   ]
  },
  {
   "cell_type": "code",
   "execution_count": 5,
   "id": "78f899f9",
   "metadata": {},
   "outputs": [
    {
     "name": "stdout",
     "output_type": "stream",
     "text": [
      "\u001b[0m\u001b[38;5;33mmy-project\u001b[0m  \u001b[38;5;33mtest\u001b[0m  \u001b[38;5;33mtest-repo-2\u001b[0m\n"
     ]
    }
   ],
   "source": [
    "ls"
   ]
  },
  {
   "cell_type": "code",
   "execution_count": 6,
   "id": "1a5146c3",
   "metadata": {},
   "outputs": [
    {
     "name": "stdout",
     "output_type": "stream",
     "text": [
      "\u001b[0m\u001b[38;5;33m.\u001b[0m  \u001b[38;5;33m..\u001b[0m  \u001b[38;5;33mmy-project\u001b[0m  \u001b[38;5;33mtest\u001b[0m  \u001b[38;5;33mtest-repo-2\u001b[0m\n"
     ]
    }
   ],
   "source": [
    "ls -a"
   ]
  },
  {
   "cell_type": "code",
   "execution_count": 7,
   "id": "8e585a89",
   "metadata": {
    "tags": [
     "scroll-output"
    ]
   },
   "outputs": [
    {
     "name": "stdout",
     "output_type": "stream",
     "text": [
      "Usage: ls [OPTION]... [FILE]...\n"
     ]
    },
    {
     "name": "stdout",
     "output_type": "stream",
     "text": [
      "List information about the FILEs (the current directory by default).\n"
     ]
    },
    {
     "name": "stdout",
     "output_type": "stream",
     "text": [
      "Sort entries alphabetically if none of -cftuvSUX nor --sort is specified.\n"
     ]
    },
    {
     "name": "stdout",
     "output_type": "stream",
     "text": [
      "\n"
     ]
    },
    {
     "name": "stdout",
     "output_type": "stream",
     "text": [
      "Mandatory arguments to long options are mandatory for short options too.\n"
     ]
    },
    {
     "name": "stdout",
     "output_type": "stream",
     "text": [
      "  -a, --all                  do not ignore entries starting with .\n"
     ]
    },
    {
     "name": "stdout",
     "output_type": "stream",
     "text": [
      "  -A, --almost-all           do not list implied . and ..\n"
     ]
    },
    {
     "name": "stdout",
     "output_type": "stream",
     "text": [
      "      --author               with -l, print the author of each file\n"
     ]
    },
    {
     "name": "stdout",
     "output_type": "stream",
     "text": [
      "  -b, --escape               print C-style escapes for nongraphic characters\n"
     ]
    },
    {
     "name": "stdout",
     "output_type": "stream",
     "text": [
      "      --block-size=SIZE      with -l, scale sizes by SIZE when printing them;\n"
     ]
    },
    {
     "name": "stdout",
     "output_type": "stream",
     "text": [
      "                               e.g., '--block-size=M'; see SIZE format below\n"
     ]
    },
    {
     "name": "stdout",
     "output_type": "stream",
     "text": [
      "  -B, --ignore-backups       do not list implied entries ending with ~\n"
     ]
    },
    {
     "name": "stdout",
     "output_type": "stream",
     "text": [
      "  -c                         with -lt: sort by, and show, ctime (time of last\n"
     ]
    },
    {
     "name": "stdout",
     "output_type": "stream",
     "text": [
      "                               modification of file status information);\n"
     ]
    },
    {
     "name": "stdout",
     "output_type": "stream",
     "text": [
      "                               with -l: show ctime and sort by name;\n"
     ]
    },
    {
     "name": "stdout",
     "output_type": "stream",
     "text": [
      "                               otherwise: sort by ctime, newest first\n"
     ]
    },
    {
     "name": "stdout",
     "output_type": "stream",
     "text": [
      "  -C                         list entries by columns\n"
     ]
    },
    {
     "name": "stdout",
     "output_type": "stream",
     "text": [
      "      --color[=WHEN]         colorize the output; WHEN can be 'always' (default\n"
     ]
    },
    {
     "name": "stdout",
     "output_type": "stream",
     "text": [
      "                               if omitted), 'auto', or 'never'; more info below\n"
     ]
    },
    {
     "name": "stdout",
     "output_type": "stream",
     "text": [
      "  -d, --directory            list directories themselves, not their contents\n"
     ]
    },
    {
     "name": "stdout",
     "output_type": "stream",
     "text": [
      "  -D, --dired                generate output designed for Emacs' dired mode\n"
     ]
    },
    {
     "name": "stdout",
     "output_type": "stream",
     "text": [
      "  -f                         do not sort, enable -aU, disable -ls --color\n"
     ]
    },
    {
     "name": "stdout",
     "output_type": "stream",
     "text": [
      "  -F, --classify             append indicator (one of */=>@|) to entries\n"
     ]
    },
    {
     "name": "stdout",
     "output_type": "stream",
     "text": [
      "      --file-type            likewise, except do not append '*'\n"
     ]
    },
    {
     "name": "stdout",
     "output_type": "stream",
     "text": [
      "      --format=WORD          across -x, commas -m, horizontal -x, long -l,\n"
     ]
    },
    {
     "name": "stdout",
     "output_type": "stream",
     "text": [
      "                               single-column -1, verbose -l, vertical -C\n"
     ]
    },
    {
     "name": "stdout",
     "output_type": "stream",
     "text": [
      "      --full-time            like -l --time-style=full-iso\n"
     ]
    },
    {
     "name": "stdout",
     "output_type": "stream",
     "text": [
      "  -g                         like -l, but do not list owner\n"
     ]
    },
    {
     "name": "stdout",
     "output_type": "stream",
     "text": [
      "      --group-directories-first\n"
     ]
    },
    {
     "name": "stdout",
     "output_type": "stream",
     "text": [
      "                             group directories before files;\n"
     ]
    },
    {
     "name": "stdout",
     "output_type": "stream",
     "text": [
      "                               can be augmented with a --sort option, but any\n"
     ]
    },
    {
     "name": "stdout",
     "output_type": "stream",
     "text": [
      "                               use of --sort=none (-U) disables grouping\n"
     ]
    },
    {
     "name": "stdout",
     "output_type": "stream",
     "text": [
      "  -G, --no-group             in a long listing, don't print group names\n"
     ]
    },
    {
     "name": "stdout",
     "output_type": "stream",
     "text": [
      "  -h, --human-readable       with -l and -s, print sizes like 1K 234M 2G etc.\n"
     ]
    },
    {
     "name": "stdout",
     "output_type": "stream",
     "text": [
      "      --si                   likewise, but use powers of 1000 not 1024\n"
     ]
    },
    {
     "name": "stdout",
     "output_type": "stream",
     "text": [
      "  -H, --dereference-command-line\n"
     ]
    },
    {
     "name": "stdout",
     "output_type": "stream",
     "text": [
      "                             follow symbolic links listed on the command line\n"
     ]
    },
    {
     "name": "stdout",
     "output_type": "stream",
     "text": [
      "      --dereference-command-line-symlink-to-dir\n"
     ]
    },
    {
     "name": "stdout",
     "output_type": "stream",
     "text": [
      "                             follow each command line symbolic link\n"
     ]
    },
    {
     "name": "stdout",
     "output_type": "stream",
     "text": [
      "                               that points to a directory\n"
     ]
    },
    {
     "name": "stdout",
     "output_type": "stream",
     "text": [
      "      --hide=PATTERN         do not list implied entries matching shell PATTERN\n"
     ]
    },
    {
     "name": "stdout",
     "output_type": "stream",
     "text": [
      "                               (overridden by -a or -A)\n"
     ]
    },
    {
     "name": "stdout",
     "output_type": "stream",
     "text": [
      "      --hyperlink[=WHEN]     hyperlink file names; WHEN can be 'always'\n"
     ]
    },
    {
     "name": "stdout",
     "output_type": "stream",
     "text": [
      "                               (default if omitted), 'auto', or 'never'\n"
     ]
    },
    {
     "name": "stdout",
     "output_type": "stream",
     "text": [
      "      --indicator-style=WORD  append indicator with style WORD to entry names:\n"
     ]
    },
    {
     "name": "stdout",
     "output_type": "stream",
     "text": [
      "                               none (default), slash (-p),\n"
     ]
    },
    {
     "name": "stdout",
     "output_type": "stream",
     "text": [
      "                               file-type (--file-type), classify (-F)\n"
     ]
    },
    {
     "name": "stdout",
     "output_type": "stream",
     "text": [
      "  -i, --inode                print the index number of each file\n"
     ]
    },
    {
     "name": "stdout",
     "output_type": "stream",
     "text": [
      "  -I, --ignore=PATTERN       do not list implied entries matching shell PATTERN\n"
     ]
    },
    {
     "name": "stdout",
     "output_type": "stream",
     "text": [
      "  -k, --kibibytes            default to 1024-byte blocks for disk usage;\n"
     ]
    },
    {
     "name": "stdout",
     "output_type": "stream",
     "text": [
      "                               used only with -s and per directory totals\n"
     ]
    },
    {
     "name": "stdout",
     "output_type": "stream",
     "text": [
      "  -l                         use a long listing format\n"
     ]
    },
    {
     "name": "stdout",
     "output_type": "stream",
     "text": [
      "  -L, --dereference          when showing file information for a symbolic\n"
     ]
    },
    {
     "name": "stdout",
     "output_type": "stream",
     "text": [
      "                               link, show information for the file the link\n"
     ]
    },
    {
     "name": "stdout",
     "output_type": "stream",
     "text": [
      "                               references rather than for the link itself\n"
     ]
    },
    {
     "name": "stdout",
     "output_type": "stream",
     "text": [
      "  -m                         fill width with a comma separated list of entries\n"
     ]
    },
    {
     "name": "stdout",
     "output_type": "stream",
     "text": [
      "  -n, --numeric-uid-gid      like -l, but list numeric user and group IDs\n"
     ]
    },
    {
     "name": "stdout",
     "output_type": "stream",
     "text": [
      "  -N, --literal              print entry names without quoting\n"
     ]
    },
    {
     "name": "stdout",
     "output_type": "stream",
     "text": [
      "  -o                         like -l, but do not list group information\n"
     ]
    },
    {
     "name": "stdout",
     "output_type": "stream",
     "text": [
      "  -p, --indicator-style=slash\n"
     ]
    },
    {
     "name": "stdout",
     "output_type": "stream",
     "text": [
      "                             append / indicator to directories\n"
     ]
    },
    {
     "name": "stdout",
     "output_type": "stream",
     "text": [
      "  -q, --hide-control-chars   print ? instead of nongraphic characters\n"
     ]
    },
    {
     "name": "stdout",
     "output_type": "stream",
     "text": [
      "      --show-control-chars   show nongraphic characters as-is (the default,\n"
     ]
    },
    {
     "name": "stdout",
     "output_type": "stream",
     "text": [
      "                               unless program is 'ls' and output is a terminal)\n"
     ]
    },
    {
     "name": "stdout",
     "output_type": "stream",
     "text": [
      "  -Q, --quote-name           enclose entry names in double quotes\n"
     ]
    },
    {
     "name": "stdout",
     "output_type": "stream",
     "text": [
      "      --quoting-style=WORD   use quoting style WORD for entry names:\n"
     ]
    },
    {
     "name": "stdout",
     "output_type": "stream",
     "text": [
      "                               literal, locale, shell, shell-always,\n"
     ]
    },
    {
     "name": "stdout",
     "output_type": "stream",
     "text": [
      "                               shell-escape, shell-escape-always, c, escape\n"
     ]
    },
    {
     "name": "stdout",
     "output_type": "stream",
     "text": [
      "                               (overrides QUOTING_STYLE environment variable)\n"
     ]
    },
    {
     "name": "stdout",
     "output_type": "stream",
     "text": [
      "  -r, --reverse              reverse order while sorting\n"
     ]
    },
    {
     "name": "stdout",
     "output_type": "stream",
     "text": [
      "  -R, --recursive            list subdirectories recursively\n"
     ]
    },
    {
     "name": "stdout",
     "output_type": "stream",
     "text": [
      "  -s, --size                 print the allocated size of each file, in blocks\n"
     ]
    },
    {
     "name": "stdout",
     "output_type": "stream",
     "text": [
      "  -S                         sort by file size, largest first\n"
     ]
    },
    {
     "name": "stdout",
     "output_type": "stream",
     "text": [
      "      --sort=WORD            sort by WORD instead of name: none (-U), size (-S),\n"
     ]
    },
    {
     "name": "stdout",
     "output_type": "stream",
     "text": [
      "                               time (-t), version (-v), extension (-X)\n"
     ]
    },
    {
     "name": "stdout",
     "output_type": "stream",
     "text": [
      "      --time=WORD            with -l, show time as WORD instead of default\n"
     ]
    },
    {
     "name": "stdout",
     "output_type": "stream",
     "text": [
      "                               modification time: atime or access or use (-u);\n"
     ]
    },
    {
     "name": "stdout",
     "output_type": "stream",
     "text": [
      "                               ctime or status (-c); also use specified time\n"
     ]
    },
    {
     "name": "stdout",
     "output_type": "stream",
     "text": [
      "                               as sort key if --sort=time (newest first)\n"
     ]
    },
    {
     "name": "stdout",
     "output_type": "stream",
     "text": [
      "      --time-style=TIME_STYLE  time/date format with -l; see TIME_STYLE below\n"
     ]
    },
    {
     "name": "stdout",
     "output_type": "stream",
     "text": [
      "  -t                         sort by modification time, newest first\n"
     ]
    },
    {
     "name": "stdout",
     "output_type": "stream",
     "text": [
      "  -T, --tabsize=COLS         assume tab stops at each COLS instead of 8\n"
     ]
    },
    {
     "name": "stdout",
     "output_type": "stream",
     "text": [
      "  -u                         with -lt: sort by, and show, access time;\n"
     ]
    },
    {
     "name": "stdout",
     "output_type": "stream",
     "text": [
      "                               with -l: show access time and sort by name;\n"
     ]
    },
    {
     "name": "stdout",
     "output_type": "stream",
     "text": [
      "                               otherwise: sort by access time, newest first\n"
     ]
    },
    {
     "name": "stdout",
     "output_type": "stream",
     "text": [
      "  -U                         do not sort; list entries in directory order\n"
     ]
    },
    {
     "name": "stdout",
     "output_type": "stream",
     "text": [
      "  -v                         natural sort of (version) numbers within text\n"
     ]
    },
    {
     "name": "stdout",
     "output_type": "stream",
     "text": [
      "  -w, --width=COLS           set output width to COLS.  0 means no limit\n"
     ]
    },
    {
     "name": "stdout",
     "output_type": "stream",
     "text": [
      "  -x                         list entries by lines instead of by columns\n"
     ]
    },
    {
     "name": "stdout",
     "output_type": "stream",
     "text": [
      "  -X                         sort alphabetically by entry extension\n"
     ]
    },
    {
     "name": "stdout",
     "output_type": "stream",
     "text": [
      "  -Z, --context              print any security context of each file\n"
     ]
    },
    {
     "name": "stdout",
     "output_type": "stream",
     "text": [
      "  -1                         list one file per line.  Avoid '\\n' with -q or -b\n"
     ]
    },
    {
     "name": "stdout",
     "output_type": "stream",
     "text": [
      "      --help     display this help and exit\n"
     ]
    },
    {
     "name": "stdout",
     "output_type": "stream",
     "text": [
      "      --version  output version information and exit\n"
     ]
    },
    {
     "name": "stdout",
     "output_type": "stream",
     "text": [
      "\n"
     ]
    },
    {
     "name": "stdout",
     "output_type": "stream",
     "text": [
      "The SIZE argument is an integer and optional unit (example: 10K is 10*1024).\n"
     ]
    },
    {
     "name": "stdout",
     "output_type": "stream",
     "text": [
      "Units are K,M,G,T,P,E,Z,Y (powers of 1024) or KB,MB,... (powers of 1000).\n"
     ]
    },
    {
     "name": "stdout",
     "output_type": "stream",
     "text": [
      "\n"
     ]
    },
    {
     "name": "stdout",
     "output_type": "stream",
     "text": [
      "The TIME_STYLE argument can be full-iso, long-iso, iso, locale, or +FORMAT.\n"
     ]
    },
    {
     "name": "stdout",
     "output_type": "stream",
     "text": [
      "FORMAT is interpreted like in date(1).  If FORMAT is FORMAT1<newline>FORMAT2,\n"
     ]
    },
    {
     "name": "stdout",
     "output_type": "stream",
     "text": [
      "then FORMAT1 applies to non-recent files and FORMAT2 to recent files.\n"
     ]
    },
    {
     "name": "stdout",
     "output_type": "stream",
     "text": [
      "TIME_STYLE prefixed with 'posix-' takes effect only outside the POSIX locale.\n"
     ]
    },
    {
     "name": "stdout",
     "output_type": "stream",
     "text": [
      "Also the TIME_STYLE environment variable sets the default style to use.\n"
     ]
    },
    {
     "name": "stdout",
     "output_type": "stream",
     "text": [
      "\n"
     ]
    },
    {
     "name": "stdout",
     "output_type": "stream",
     "text": [
      "Using color to distinguish file types is disabled both by default and\n"
     ]
    },
    {
     "name": "stdout",
     "output_type": "stream",
     "text": [
      "with --color=never.  With --color=auto, ls emits color codes only when\n"
     ]
    },
    {
     "name": "stdout",
     "output_type": "stream",
     "text": [
      "standard output is connected to a terminal.  The LS_COLORS environment\n"
     ]
    },
    {
     "name": "stdout",
     "output_type": "stream",
     "text": [
      "variable can change the settings.  Use the dircolors command to set it.\n"
     ]
    },
    {
     "name": "stdout",
     "output_type": "stream",
     "text": [
      "\n"
     ]
    },
    {
     "name": "stdout",
     "output_type": "stream",
     "text": [
      "Exit status:\n"
     ]
    },
    {
     "name": "stdout",
     "output_type": "stream",
     "text": [
      " 0  if OK,\n"
     ]
    },
    {
     "name": "stdout",
     "output_type": "stream",
     "text": [
      " 1  if minor problems (e.g., cannot access subdirectory),\n"
     ]
    },
    {
     "name": "stdout",
     "output_type": "stream",
     "text": [
      " 2  if serious trouble (e.g., cannot access command-line argument).\n"
     ]
    },
    {
     "name": "stdout",
     "output_type": "stream",
     "text": [
      "\n"
     ]
    },
    {
     "name": "stdout",
     "output_type": "stream",
     "text": [
      "GNU coreutils online help: <https://www.gnu.org/software/coreutils/>\n"
     ]
    },
    {
     "name": "stdout",
     "output_type": "stream",
     "text": [
      "Full documentation at: <https://www.gnu.org/software/coreutils/ls>\n"
     ]
    },
    {
     "name": "stdout",
     "output_type": "stream",
     "text": [
      "or available locally via: info '(coreutils) ls invocation'\n"
     ]
    }
   ],
   "source": [
    "ls --help"
   ]
  },
  {
   "cell_type": "code",
   "execution_count": 8,
   "id": "cde96d4d",
   "metadata": {},
   "outputs": [
    {
     "name": "stdout",
     "output_type": "stream",
     "text": [
      "mkdir: cannot create directory ‘test’: File exists\n"
     ]
    },
    {
     "ename": "",
     "evalue": "1",
     "output_type": "error",
     "traceback": []
    }
   ],
   "source": [
    "mkdir test"
   ]
  },
  {
   "cell_type": "code",
   "execution_count": 9,
   "id": "dac861ed",
   "metadata": {},
   "outputs": [],
   "source": [
    "cd test"
   ]
  },
  {
   "cell_type": "code",
   "execution_count": 10,
   "id": "7876419e",
   "metadata": {},
   "outputs": [
    {
     "name": "stdout",
     "output_type": "stream",
     "text": [
      "/home/callaram/tds/msdp-book/home/ch1/test\n"
     ]
    }
   ],
   "source": [
    "pwd"
   ]
  },
  {
   "cell_type": "code",
   "execution_count": 11,
   "id": "e5c28f88",
   "metadata": {},
   "outputs": [],
   "source": [
    "cd .."
   ]
  },
  {
   "cell_type": "code",
   "execution_count": 12,
   "id": "b5111ef0",
   "metadata": {},
   "outputs": [
    {
     "name": "stdout",
     "output_type": "stream",
     "text": [
      "user.name=mcallara\n"
     ]
    },
    {
     "name": "stdout",
     "output_type": "stream",
     "text": [
      "user.email=mcallara@gmail.com\n"
     ]
    },
    {
     "name": "stdout",
     "output_type": "stream",
     "text": [
      "http.sslverify=false\n"
     ]
    },
    {
     "name": "stdout",
     "output_type": "stream",
     "text": [
      "init.defaultbranch=main\n"
     ]
    }
   ],
   "source": [
    "git config --global --list"
   ]
  },
  {
   "cell_type": "code",
   "execution_count": 13,
   "id": "0a08320f",
   "metadata": {},
   "outputs": [],
   "source": [
    "git config --global user.name \"mcallara\"\n",
    "git config --global user.email \"mcallara@gmail.com\""
   ]
  }
 ],
 "metadata": {
  "jupytext": {
   "formats": "md:myst",
   "text_representation": {
    "extension": ".md",
    "format_name": "myst",
    "format_version": 0.13,
    "jupytext_version": "1.11.5"
   }
  },
  "kernelspec": {
   "display_name": "Bash",
   "language": "bash",
   "name": "bash"
  },
  "language_info": {
   "codemirror_mode": "shell",
   "file_extension": ".sh",
   "mimetype": "text/x-sh",
   "name": "bash"
  },
  "source_map": [
   15,
   20,
   42,
   45,
   55,
   58,
   64,
   66,
   72,
   74,
   78,
   80,
   84,
   87,
   93,
   95,
   101,
   103,
   107,
   109,
   113,
   115,
   121,
   123,
   127
  ]
 },
 "nbformat": 4,
 "nbformat_minor": 5
}