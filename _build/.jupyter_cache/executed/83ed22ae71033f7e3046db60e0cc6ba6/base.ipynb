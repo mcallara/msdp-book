{
 "cells": [
  {
   "cell_type": "code",
   "execution_count": 1,
   "id": "256ed8e7",
   "metadata": {
    "tags": [
     "remove-input"
    ]
   },
   "outputs": [],
   "source": [
    "import os\n",
    "os.chdir('../home')"
   ]
  },
  {
   "cell_type": "code",
   "execution_count": 2,
   "id": "06a99d6c",
   "metadata": {},
   "outputs": [],
   "source": [
    "# Test cases for a Function that given two time intervals, returns their intersection\n",
    "def test_intersection():\n",
    "    assert intersection((1, 3), (2, 4)) == (2, 3)\n",
    "    assert intersection((1, 3), (4, 6)) == None\n",
    "    assert intersection((1, 3), (3, 6)) == (3, 3)\n",
    "    assert intersection((1, 3), (1, 3)) == (1, 3)\n",
    "    assert intersection((1, 3), (1, 2)) == (1, 2)\n",
    "    assert intersection((1, 3), (2, 3)) == (2, 3)\n",
    "    assert intersection((1, 3), (3, 3)) == (3, 3)\n",
    "    assert intersection((1, 3), (4, 4)) == None\n",
    "    assert intersection((1, 3), (4, 5)) == None\n",
    "    assert intersection((1, 3), (5, 6)) == None\n",
    "    assert intersection((1, 3), (6, 7)) == None\n",
    "    assert intersection((1, 3), (7, 8)) == None\n",
    "    assert intersection((1, 3), (8, 9)) == None\n",
    "    assert intersection((1, 3), (9, 10)) == None\n",
    "    assert intersection((1, 3), (10, 11)) == None\n",
    "    assert intersection((1, 3), (11, 12)) == None\n",
    "    assert intersection((1, 3), (12, 13)) == None\n",
    "    assert intersection((1, 3), (13, 14)) == None\n",
    "    assert intersection((1, 3), (14, 15)) == None\n",
    "    assert intersection((1, 3), (15, 16)) == None\n",
    "    assert intersection((1, 3), (16, 17)) == None\n",
    "    assert intersection((1, 3), (17, 18)) == None\n",
    "    assert intersection((1, 3), (18, 19)) == None\n",
    "    assert intersection((1, 3), (19, 20)) == None\n",
    "    assert intersection((1, 3), (20, 21)) == None\n",
    "    assert intersection((1, 3), (21, 22)) == None\n",
    "    assert intersection"
   ]
  },
  {
   "cell_type": "code",
   "execution_count": 3,
   "id": "1292f530",
   "metadata": {},
   "outputs": [
    {
     "ename": "NameError",
     "evalue": "name 'intersection' is not defined",
     "output_type": "error",
     "traceback": [
      "\u001b[0;31m---------------------------------------------------------------------------\u001b[0m",
      "\u001b[0;31mNameError\u001b[0m                                 Traceback (most recent call last)",
      "Cell \u001b[0;32mIn[3], line 1\u001b[0m\n\u001b[0;32m----> 1\u001b[0m \u001b[38;5;28mprint\u001b[39m(\u001b[43mintersection\u001b[49m((\u001b[38;5;241m3\u001b[39m, \u001b[38;5;241m3\u001b[39m), (\u001b[38;5;241m2\u001b[39m, \u001b[38;5;241m6\u001b[39m))) \u001b[38;5;66;03m# \u001b[39;00m\n",
      "\u001b[0;31mNameError\u001b[0m: name 'intersection' is not defined"
     ]
    }
   ],
   "source": [
    "print(intersection((3, 3), (2, 6))) # "
   ]
  },
  {
   "cell_type": "code",
   "execution_count": 4,
   "id": "f3a6bfd8",
   "metadata": {},
   "outputs": [
    {
     "data": {
      "text/plain": [
       "(3, 3)"
      ]
     },
     "execution_count": 4,
     "metadata": {},
     "output_type": "execute_result"
    }
   ],
   "source": [
    "(3,3)"
   ]
  },
  {
   "cell_type": "code",
   "execution_count": 5,
   "id": "9576ade9",
   "metadata": {},
   "outputs": [],
   "source": [
    "def intersection(interval1, interval2):\n",
    "    start1, end1 = interval1\n",
    "    start2, end2 = interval2\n",
    "    start = max(start1, start2)\n",
    "    end = min(end1, end2)\n",
    "    if start > end:\n",
    "        return None\n",
    "    return (start, end)"
   ]
  },
  {
   "cell_type": "code",
   "execution_count": 6,
   "id": "89ca6a1e",
   "metadata": {},
   "outputs": [
    {
     "ename": "ModuleNotFoundError",
     "evalue": "No module named 'pandas'",
     "output_type": "error",
     "traceback": [
      "\u001b[0;31m---------------------------------------------------------------------------\u001b[0m",
      "\u001b[0;31mModuleNotFoundError\u001b[0m                       Traceback (most recent call last)",
      "Cell \u001b[0;32mIn[6], line 1\u001b[0m\n\u001b[0;32m----> 1\u001b[0m \u001b[38;5;28;01mimport\u001b[39;00m \u001b[38;5;21;01mpandas\u001b[39;00m \u001b[38;5;28;01mas\u001b[39;00m \u001b[38;5;21;01mpd\u001b[39;00m\n\u001b[1;32m      2\u001b[0m df1 \u001b[38;5;241m=\u001b[39m pd\u001b[38;5;241m.\u001b[39mDataFrame({\u001b[38;5;124m'\u001b[39m\u001b[38;5;124mid\u001b[39m\u001b[38;5;124m'\u001b[39m: [\u001b[38;5;241m1\u001b[39m, \u001b[38;5;241m2\u001b[39m, \u001b[38;5;241m3\u001b[39m], \u001b[38;5;124m'\u001b[39m\u001b[38;5;124mname\u001b[39m\u001b[38;5;124m'\u001b[39m: [\u001b[38;5;124m'\u001b[39m\u001b[38;5;124mAlice\u001b[39m\u001b[38;5;124m'\u001b[39m, \u001b[38;5;124m'\u001b[39m\u001b[38;5;124mBob\u001b[39m\u001b[38;5;124m'\u001b[39m, \u001b[38;5;124m'\u001b[39m\u001b[38;5;124mCharlie\u001b[39m\u001b[38;5;124m'\u001b[39m]})\n\u001b[1;32m      3\u001b[0m df2 \u001b[38;5;241m=\u001b[39m pd\u001b[38;5;241m.\u001b[39mDataFrame({\u001b[38;5;124m'\u001b[39m\u001b[38;5;124mid\u001b[39m\u001b[38;5;124m'\u001b[39m: [\u001b[38;5;241m2\u001b[39m, \u001b[38;5;241m3\u001b[39m, \u001b[38;5;241m4\u001b[39m], \u001b[38;5;124m'\u001b[39m\u001b[38;5;124mage\u001b[39m\u001b[38;5;124m'\u001b[39m: [\u001b[38;5;241m24\u001b[39m, \u001b[38;5;241m25\u001b[39m, \u001b[38;5;241m26\u001b[39m]})\n",
      "\u001b[0;31mModuleNotFoundError\u001b[0m: No module named 'pandas'"
     ]
    }
   ],
   "source": [
    "import pandas as pd\n",
    "df1 = pd.DataFrame({'id': [1, 2, 3], 'name': ['Alice', 'Bob', 'Charlie']})\n",
    "df2 = pd.DataFrame({'id': [2, 3, 4], 'age': [24, 25, 26]})\n",
    "df = pd.merge(df1, df2, on='id', suffixes=('_left', '_right'))\n",
    "df"
   ]
  },
  {
   "cell_type": "code",
   "execution_count": 7,
   "id": "bb9d72af",
   "metadata": {},
   "outputs": [],
   "source": [
    "one_second = 1\n",
    "one_minute = 60 * one_second\n",
    "one_hour = 60 * one_minute\n",
    "one_day = 24 * one_hour\n",
    "one_week = 7 * one_day\n"
   ]
  },
  {
   "cell_type": "code",
   "execution_count": 8,
   "id": "ff329f0f",
   "metadata": {},
   "outputs": [],
   "source": [
    "# Create sample function that sums two numbers\n",
    "def sum(a, b):\n",
    "    return a + b"
   ]
  }
 ],
 "metadata": {
  "jupytext": {
   "formats": "md:myst",
   "text_representation": {
    "extension": ".md",
    "format_name": "myst",
    "format_version": 0.13,
    "jupytext_version": "1.11.5"
   }
  },
  "kernelspec": {
   "display_name": "Python 3",
   "language": "python",
   "name": "python3"
  },
  "language_info": {
   "codemirror_mode": {
    "name": "ipython",
    "version": 3
   },
   "file_extension": ".py",
   "mimetype": "text/x-python",
   "name": "python",
   "nbconvert_exporter": "python",
   "pygments_lexer": "ipython3",
   "version": "3.10.4"
  },
  "source_map": [
   13,
   17,
   21,
   40,
   70,
   75,
   77,
   79,
   81,
   86,
   95,
   100,
   106,
   109,
   116,
   127,
   131
  ]
 },
 "nbformat": 4,
 "nbformat_minor": 5
}