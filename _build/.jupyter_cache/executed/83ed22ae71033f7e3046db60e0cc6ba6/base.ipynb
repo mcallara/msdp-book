{
 "cells": [
  {
   "cell_type": "code",
   "execution_count": 1,
   "id": "63512f92",
   "metadata": {
    "tags": [
     "remove-input"
    ]
   },
   "outputs": [],
   "source": [
    "import os\n",
    "os.chdir('../home')"
   ]
  },
  {
   "cell_type": "code",
   "execution_count": 2,
   "id": "2da16644",
   "metadata": {},
   "outputs": [],
   "source": [
    "# Test cases for a Function that given two time intervals, returns their intersection\n",
    "def test_intersection():\n",
    "    assert intersection((1, 3), (2, 4)) == (2, 3)\n",
    "    assert intersection((1, 3), (4, 6)) == None\n",
    "    assert intersection((1, 3), (3, 6)) == (3, 3)\n",
    "    assert intersection((1, 3), (1, 3)) == (1, 3)\n",
    "    assert intersection((1, 3), (1, 2)) == (1, 2)\n",
    "    assert intersection((1, 3), (2, 3)) == (2, 3)\n",
    "    assert intersection((1, 3), (3, 3)) == (3, 3)\n",
    "    assert intersection((1, 3), (4, 4)) == None\n",
    "    assert intersection((1, 3), (4, 5)) == None\n",
    "    assert intersection((1, 3), (5, 6)) == None\n",
    "    assert intersection((1, 3), (6, 7)) == None\n",
    "    assert intersection((1, 3), (7, 8)) == None\n",
    "    assert intersection((1, 3), (8, 9)) == None\n",
    "    assert intersection((1, 3), (9, 10)) == None\n",
    "    assert intersection((1, 3), (10, 11)) == None\n",
    "    assert intersection((1, 3), (11, 12)) == None\n",
    "    assert intersection((1, 3), (12, 13)) == None\n",
    "    assert intersection((1, 3), (13, 14)) == None\n",
    "    assert intersection((1, 3), (14, 15)) == None\n",
    "    assert intersection((1, 3), (15, 16)) == None\n",
    "    assert intersection((1, 3), (16, 17)) == None\n",
    "    assert intersection((1, 3), (17, 18)) == None\n",
    "    assert intersection((1, 3), (18, 19)) == None\n",
    "    assert intersection((1, 3), (19, 20)) == None\n",
    "    assert intersection((1, 3), (20, 21)) == None\n",
    "    assert intersection((1, 3), (21, 22)) == None\n",
    "    assert intersection"
   ]
  },
  {
   "cell_type": "code",
   "execution_count": 3,
   "id": "192ad107",
   "metadata": {},
   "outputs": [
    {
     "ename": "NameError",
     "evalue": "name 'intersection' is not defined",
     "output_type": "error",
     "traceback": [
      "\u001b[0;31m---------------------------------------------------------------------------\u001b[0m",
      "\u001b[0;31mNameError\u001b[0m                                 Traceback (most recent call last)",
      "Cell \u001b[0;32mIn[3], line 1\u001b[0m\n\u001b[0;32m----> 1\u001b[0m \u001b[38;5;28mprint\u001b[39m(\u001b[43mintersection\u001b[49m((\u001b[38;5;241m3\u001b[39m, \u001b[38;5;241m3\u001b[39m), (\u001b[38;5;241m2\u001b[39m, \u001b[38;5;241m6\u001b[39m))) \u001b[38;5;66;03m# \u001b[39;00m\n",
      "\u001b[0;31mNameError\u001b[0m: name 'intersection' is not defined"
     ]
    }
   ],
   "source": [
    "print(intersection((3, 3), (2, 6))) # "
   ]
  },
  {
   "cell_type": "code",
   "execution_count": 4,
   "id": "66eacf0e",
   "metadata": {},
   "outputs": [
    {
     "data": {
      "text/plain": [
       "(3, 3)"
      ]
     },
     "execution_count": 4,
     "metadata": {},
     "output_type": "execute_result"
    }
   ],
   "source": [
    "(3,3)"
   ]
  },
  {
   "cell_type": "code",
   "execution_count": 5,
   "id": "73c8ba87",
   "metadata": {},
   "outputs": [],
   "source": [
    "def intersection(interval1, interval2):\n",
    "    start1, end1 = interval1\n",
    "    start2, end2 = interval2\n",
    "    start = max(start1, start2)\n",
    "    end = min(end1, end2)\n",
    "    if start > end:\n",
    "        return None\n",
    "    return (start, end)"
   ]
  },
  {
   "cell_type": "code",
   "execution_count": 6,
   "id": "3e193b65",
   "metadata": {},
   "outputs": [
    {
     "name": "stderr",
     "output_type": "stream",
     "text": [
      "/tmp/ipykernel_1770326/645170504.py:1: DeprecationWarning: \n",
      "Pyarrow will become a required dependency of pandas in the next major release of pandas (pandas 3.0),\n",
      "(to allow more performant data types, such as the Arrow string type, and better interoperability with other libraries)\n",
      "but was not found to be installed on your system.\n",
      "If this would cause problems for you,\n",
      "please provide us feedback at https://github.com/pandas-dev/pandas/issues/54466\n",
      "        \n",
      "  import pandas as pd\n"
     ]
    },
    {
     "data": {
      "text/html": [
       "<div>\n",
       "<style scoped>\n",
       "    .dataframe tbody tr th:only-of-type {\n",
       "        vertical-align: middle;\n",
       "    }\n",
       "\n",
       "    .dataframe tbody tr th {\n",
       "        vertical-align: top;\n",
       "    }\n",
       "\n",
       "    .dataframe thead th {\n",
       "        text-align: right;\n",
       "    }\n",
       "</style>\n",
       "<table border=\"1\" class=\"dataframe\">\n",
       "  <thead>\n",
       "    <tr style=\"text-align: right;\">\n",
       "      <th></th>\n",
       "      <th>id</th>\n",
       "      <th>name</th>\n",
       "      <th>age</th>\n",
       "    </tr>\n",
       "  </thead>\n",
       "  <tbody>\n",
       "    <tr>\n",
       "      <th>0</th>\n",
       "      <td>2</td>\n",
       "      <td>Bob</td>\n",
       "      <td>24</td>\n",
       "    </tr>\n",
       "    <tr>\n",
       "      <th>1</th>\n",
       "      <td>3</td>\n",
       "      <td>Charlie</td>\n",
       "      <td>25</td>\n",
       "    </tr>\n",
       "  </tbody>\n",
       "</table>\n",
       "</div>"
      ],
      "text/plain": [
       "   id     name  age\n",
       "0   2      Bob   24\n",
       "1   3  Charlie   25"
      ]
     },
     "execution_count": 6,
     "metadata": {},
     "output_type": "execute_result"
    }
   ],
   "source": [
    "import pandas as pd\n",
    "df1 = pd.DataFrame({'id': [1, 2, 3], 'name': ['Alice', 'Bob', 'Charlie']})\n",
    "df2 = pd.DataFrame({'id': [2, 3, 4], 'age': [24, 25, 26]})\n",
    "df = pd.merge(df1, df2, on='id', suffixes=('_left', '_right'))\n",
    "df"
   ]
  },
  {
   "cell_type": "code",
   "execution_count": 7,
   "id": "0a7626e3",
   "metadata": {},
   "outputs": [],
   "source": [
    "one_second = 1\n",
    "one_minute = 60 * one_second\n",
    "one_hour = 60 * one_minute\n",
    "one_day = 24 * one_hour\n",
    "one_week = 7 * one_day\n"
   ]
  },
  {
   "cell_type": "code",
   "execution_count": 8,
   "id": "435441e3",
   "metadata": {},
   "outputs": [],
   "source": [
    "# Create sample function that sums two numbers\n",
    "def sum(a, b):\n",
    "    return a + b"
   ]
  }
 ],
 "metadata": {
  "jupytext": {
   "formats": "md:myst",
   "text_representation": {
    "extension": ".md",
    "format_name": "myst",
    "format_version": 0.13,
    "jupytext_version": "1.11.5"
   }
  },
  "kernelspec": {
   "display_name": "Python 3",
   "language": "python",
   "name": "python3"
  },
  "language_info": {
   "codemirror_mode": {
    "name": "ipython",
    "version": 3
   },
   "file_extension": ".py",
   "mimetype": "text/x-python",
   "name": "python",
   "nbconvert_exporter": "python",
   "pygments_lexer": "ipython3",
   "version": "3.10.4"
  },
  "source_map": [
   13,
   17,
   21,
   40,
   70,
   75,
   77,
   79,
   81,
   86,
   95,
   100,
   106,
   109,
   116,
   127,
   131
  ]
 },
 "nbformat": 4,
 "nbformat_minor": 5
}