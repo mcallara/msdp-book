{
 "cells": [
  {
   "cell_type": "code",
   "execution_count": 1,
   "metadata": {},
   "outputs": [],
   "source": [
    "import ipytest\n",
    "ipytest.autoconfig()"
   ]
  },
  {
   "cell_type": "code",
   "execution_count": 2,
   "metadata": {},
   "outputs": [],
   "source": [
    "def test_multiplication():\n",
    "    # test that you can multiply a Dollar by a number and get the right amount.\n",
    "    five = Dollar(amount=5)\n",
    "    five.times(multiplier=2)\n",
    "    assert 10 == five.amount"
   ]
  },
  {
   "cell_type": "code",
   "execution_count": 3,
   "metadata": {},
   "outputs": [
    {
     "name": "stdout",
     "output_type": "stream",
     "text": [
      "\u001b[1m======================================= test session starts ========================================\u001b[0m\n",
      "platform linux -- Python 3.10.4, pytest-8.0.0, pluggy-1.4.0 -- /home/callaram/.conda/envs/jupyterbook/bin/python\n",
      "cachedir: .pytest_cache\n",
      "rootdir: /home/callaram/tds/msdp-book/ch3\n",
      "\u001b[1mcollecting ... \u001b[0m"
     ]
    },
    {
     "name": "stdout",
     "output_type": "stream",
     "text": [
      "collected 1 item\n",
      "\n",
      "t_142f548a07c04ccca617b7728c8914c0.py::test_multiplication "
     ]
    },
    {
     "name": "stdout",
     "output_type": "stream",
     "text": [
      "\u001b[31mFAILED\u001b[0m\u001b[31m                            [100%]\u001b[0m"
     ]
    },
    {
     "name": "stdout",
     "output_type": "stream",
     "text": [
      "\n",
      "\n",
      "============================================= FAILURES =============================================\n",
      "\u001b[31m\u001b[1m_______________________________________ test_multiplication ________________________________________\u001b[0m\n",
      "\n",
      "    \u001b[0m\u001b[94mdef\u001b[39;49;00m \u001b[92mtest_multiplication\u001b[39;49;00m():\u001b[90m\u001b[39;49;00m\n",
      "        \u001b[90m# test that you can multiply a Dollar by a number and get the right amount.\u001b[39;49;00m\u001b[90m\u001b[39;49;00m\n",
      ">       five = Dollar(amount=\u001b[94m5\u001b[39;49;00m)\u001b[90m\u001b[39;49;00m\n",
      "\u001b[1m\u001b[31mE       NameError: name 'Dollar' is not defined\u001b[0m\n",
      "\n",
      "\u001b[1m\u001b[31m/tmp/ipykernel_1770687/2648424505.py\u001b[0m:3: NameError\n",
      "\u001b[36m\u001b[1m===================================== short test summary info ======================================\u001b[0m\n",
      "\u001b[31mFAILED\u001b[0m t_142f548a07c04ccca617b7728c8914c0.py::\u001b[1mtest_multiplication\u001b[0m - NameError: name 'Dollar' is not defined\n",
      "\u001b[31m======================================== \u001b[31m\u001b[1m1 failed\u001b[0m\u001b[31m in 0.10s\u001b[0m\u001b[31m =========================================\u001b[0m\n"
     ]
    },
    {
     "data": {
      "text/plain": [
       "<ExitCode.TESTS_FAILED: 1>"
      ]
     },
     "execution_count": 3,
     "metadata": {},
     "output_type": "execute_result"
    }
   ],
   "source": [
    "ipytest.run('-vv')  # '-vv' for increased verbosity"
   ]
  },
  {
   "cell_type": "code",
   "execution_count": 4,
   "metadata": {},
   "outputs": [],
   "source": [
    "class Dollar:\n",
    "    pass"
   ]
  },
  {
   "cell_type": "code",
   "execution_count": 5,
   "metadata": {},
   "outputs": [
    {
     "name": "stdout",
     "output_type": "stream",
     "text": [
      "\u001b[1m======================================= test session starts ========================================\u001b[0m\n",
      "platform linux -- Python 3.10.4, pytest-8.0.0, pluggy-1.4.0 -- /home/callaram/.conda/envs/jupyterbook/bin/python\n",
      "cachedir: .pytest_cache\n",
      "rootdir: /home/callaram/tds/msdp-book/ch3\n",
      "\u001b[1mcollecting ... \u001b[0m"
     ]
    },
    {
     "name": "stdout",
     "output_type": "stream",
     "text": [
      "collected 1 item\n",
      "\n",
      "t_142f548a07c04ccca617b7728c8914c0.py::test_multiplication "
     ]
    },
    {
     "name": "stdout",
     "output_type": "stream",
     "text": [
      "\u001b[31mFAILED\u001b[0m\u001b[31m                            [100%]\u001b[0m"
     ]
    },
    {
     "name": "stdout",
     "output_type": "stream",
     "text": [
      "\n",
      "\n",
      "============================================= FAILURES =============================================\n",
      "\u001b[31m\u001b[1m_______________________________________ test_multiplication ________________________________________\u001b[0m\n",
      "\n",
      "    \u001b[0m\u001b[94mdef\u001b[39;49;00m \u001b[92mtest_multiplication\u001b[39;49;00m():\u001b[90m\u001b[39;49;00m\n",
      "        \u001b[90m# test that you can multiply a Dollar by a number and get the right amount.\u001b[39;49;00m\u001b[90m\u001b[39;49;00m\n",
      ">       five = Dollar(amount=\u001b[94m5\u001b[39;49;00m)\u001b[90m\u001b[39;49;00m\n",
      "\u001b[1m\u001b[31mE       TypeError: Dollar() takes no arguments\u001b[0m\n",
      "\n",
      "\u001b[1m\u001b[31m/tmp/ipykernel_1770687/2648424505.py\u001b[0m:3: TypeError\n",
      "\u001b[36m\u001b[1m===================================== short test summary info ======================================\u001b[0m\n",
      "\u001b[31mFAILED\u001b[0m t_142f548a07c04ccca617b7728c8914c0.py::\u001b[1mtest_multiplication\u001b[0m - TypeError: Dollar() takes no arguments\n",
      "\u001b[31m======================================== \u001b[31m\u001b[1m1 failed\u001b[0m\u001b[31m in 0.01s\u001b[0m\u001b[31m =========================================\u001b[0m\n"
     ]
    },
    {
     "data": {
      "text/plain": [
       "<ExitCode.TESTS_FAILED: 1>"
      ]
     },
     "execution_count": 5,
     "metadata": {},
     "output_type": "execute_result"
    }
   ],
   "source": [
    "ipytest.run('-vv')  # '-vv' for increased verbosity"
   ]
  },
  {
   "cell_type": "code",
   "execution_count": 6,
   "metadata": {},
   "outputs": [],
   "source": [
    "class Dollar:\n",
    "    def __init__(self, amount: int):\n",
    "        pass"
   ]
  },
  {
   "cell_type": "code",
   "execution_count": 7,
   "metadata": {},
   "outputs": [
    {
     "name": "stdout",
     "output_type": "stream",
     "text": [
      "\u001b[1m======================================= test session starts ========================================\u001b[0m\n",
      "platform linux -- Python 3.10.4, pytest-8.0.0, pluggy-1.4.0 -- /home/callaram/.conda/envs/jupyterbook/bin/python\n",
      "cachedir: .pytest_cache\n",
      "rootdir: /home/callaram/tds/msdp-book/ch3\n",
      "\u001b[1mcollecting ... \u001b[0m"
     ]
    },
    {
     "name": "stdout",
     "output_type": "stream",
     "text": [
      "collected 1 item\n",
      "\n",
      "t_142f548a07c04ccca617b7728c8914c0.py::test_multiplication "
     ]
    },
    {
     "name": "stdout",
     "output_type": "stream",
     "text": [
      "\u001b[31mFAILED\u001b[0m\u001b[31m                            [100%]\u001b[0m"
     ]
    },
    {
     "name": "stdout",
     "output_type": "stream",
     "text": [
      "\n",
      "\n",
      "============================================= FAILURES =============================================\n",
      "\u001b[31m\u001b[1m_______________________________________ test_multiplication ________________________________________\u001b[0m\n",
      "\n",
      "    \u001b[0m\u001b[94mdef\u001b[39;49;00m \u001b[92mtest_multiplication\u001b[39;49;00m():\u001b[90m\u001b[39;49;00m\n",
      "        \u001b[90m# test that you can multiply a Dollar by a number and get the right amount.\u001b[39;49;00m\u001b[90m\u001b[39;49;00m\n",
      "        five = Dollar(amount=\u001b[94m5\u001b[39;49;00m)\u001b[90m\u001b[39;49;00m\n",
      ">       five.times(multiplier=\u001b[94m2\u001b[39;49;00m)\u001b[90m\u001b[39;49;00m\n",
      "\u001b[1m\u001b[31mE       AttributeError: 'Dollar' object has no attribute 'times'\u001b[0m\n",
      "\n",
      "\u001b[1m\u001b[31m/tmp/ipykernel_1770687/2648424505.py\u001b[0m:4: AttributeError\n",
      "\u001b[36m\u001b[1m===================================== short test summary info ======================================\u001b[0m\n",
      "\u001b[31mFAILED\u001b[0m t_142f548a07c04ccca617b7728c8914c0.py::\u001b[1mtest_multiplication\u001b[0m - AttributeError: 'Dollar' object has no attribute 'times'\n",
      "\u001b[31m======================================== \u001b[31m\u001b[1m1 failed\u001b[0m\u001b[31m in 0.01s\u001b[0m\u001b[31m =========================================\u001b[0m\n"
     ]
    },
    {
     "data": {
      "text/plain": [
       "<ExitCode.TESTS_FAILED: 1>"
      ]
     },
     "execution_count": 7,
     "metadata": {},
     "output_type": "execute_result"
    }
   ],
   "source": [
    "ipytest.run('-vv')  # '-vv' for increased verbosity"
   ]
  },
  {
   "cell_type": "code",
   "execution_count": 8,
   "metadata": {},
   "outputs": [],
   "source": [
    "class Dollar:\n",
    "    def __init__(self, amount):\n",
    "        pass\n",
    "    \n",
    "    def times(self, multiplier):\n",
    "        pass"
   ]
  },
  {
   "cell_type": "code",
   "execution_count": 9,
   "metadata": {},
   "outputs": [
    {
     "name": "stdout",
     "output_type": "stream",
     "text": [
      "\u001b[1m======================================= test session starts ========================================\u001b[0m\n",
      "platform linux -- Python 3.10.4, pytest-8.0.0, pluggy-1.4.0 -- /home/callaram/.conda/envs/jupyterbook/bin/python\n",
      "cachedir: .pytest_cache\n",
      "rootdir: /home/callaram/tds/msdp-book/ch3\n",
      "\u001b[1mcollecting ... \u001b[0m"
     ]
    },
    {
     "name": "stdout",
     "output_type": "stream",
     "text": [
      "collected 1 item\n",
      "\n",
      "t_142f548a07c04ccca617b7728c8914c0.py::test_multiplication "
     ]
    },
    {
     "name": "stdout",
     "output_type": "stream",
     "text": [
      "\u001b[31mFAILED\u001b[0m\u001b[31m                            [100%]\u001b[0m"
     ]
    },
    {
     "name": "stdout",
     "output_type": "stream",
     "text": [
      "\n",
      "\n",
      "============================================= FAILURES =============================================\n",
      "\u001b[31m\u001b[1m_______________________________________ test_multiplication ________________________________________\u001b[0m\n",
      "\n",
      "    \u001b[0m\u001b[94mdef\u001b[39;49;00m \u001b[92mtest_multiplication\u001b[39;49;00m():\u001b[90m\u001b[39;49;00m\n",
      "        \u001b[90m# test that you can multiply a Dollar by a number and get the right amount.\u001b[39;49;00m\u001b[90m\u001b[39;49;00m\n",
      "        five = Dollar(amount=\u001b[94m5\u001b[39;49;00m)\u001b[90m\u001b[39;49;00m\n",
      "        five.times(multiplier=\u001b[94m2\u001b[39;49;00m)\u001b[90m\u001b[39;49;00m\n",
      ">       \u001b[94massert\u001b[39;49;00m \u001b[94m10\u001b[39;49;00m == five.amount\u001b[90m\u001b[39;49;00m\n",
      "\u001b[1m\u001b[31mE       AttributeError: 'Dollar' object has no attribute 'amount'\u001b[0m\n",
      "\n",
      "\u001b[1m\u001b[31m/tmp/ipykernel_1770687/2648424505.py\u001b[0m:5: AttributeError\n",
      "\u001b[36m\u001b[1m===================================== short test summary info ======================================\u001b[0m\n",
      "\u001b[31mFAILED\u001b[0m t_142f548a07c04ccca617b7728c8914c0.py::\u001b[1mtest_multiplication\u001b[0m - AttributeError: 'Dollar' object has no attribute 'amount'\n",
      "\u001b[31m======================================== \u001b[31m\u001b[1m1 failed\u001b[0m\u001b[31m in 0.01s\u001b[0m\u001b[31m =========================================\u001b[0m\n"
     ]
    },
    {
     "data": {
      "text/plain": [
       "<ExitCode.TESTS_FAILED: 1>"
      ]
     },
     "execution_count": 9,
     "metadata": {},
     "output_type": "execute_result"
    }
   ],
   "source": [
    "ipytest.run('-vv')  # '-vv' for increased verbosity"
   ]
  },
  {
   "cell_type": "code",
   "execution_count": 10,
   "metadata": {},
   "outputs": [],
   "source": [
    "class Dollar:\n",
    "    def __init__(self, amount):\n",
    "        pass\n",
    "    \n",
    "    def times(self, multiplier):\n",
    "        pass\n",
    "\n",
    "    amount = None"
   ]
  },
  {
   "cell_type": "code",
   "execution_count": 11,
   "metadata": {},
   "outputs": [
    {
     "name": "stdout",
     "output_type": "stream",
     "text": [
      "\u001b[1m======================================= test session starts ========================================\u001b[0m\n",
      "platform linux -- Python 3.10.4, pytest-8.0.0, pluggy-1.4.0 -- /home/callaram/.conda/envs/jupyterbook/bin/python\n",
      "cachedir: .pytest_cache\n",
      "rootdir: /home/callaram/tds/msdp-book/ch3\n",
      "\u001b[1mcollecting ... \u001b[0m"
     ]
    },
    {
     "name": "stdout",
     "output_type": "stream",
     "text": [
      "collected 1 item\n",
      "\n",
      "t_142f548a07c04ccca617b7728c8914c0.py::test_multiplication "
     ]
    },
    {
     "name": "stdout",
     "output_type": "stream",
     "text": [
      "\u001b[31mFAILED\u001b[0m\u001b[31m                            [100%]\u001b[0m"
     ]
    },
    {
     "name": "stdout",
     "output_type": "stream",
     "text": [
      "\n",
      "\n",
      "============================================= FAILURES =============================================\n",
      "\u001b[31m\u001b[1m_______________________________________ test_multiplication ________________________________________\u001b[0m\n",
      "\n",
      "    \u001b[0m\u001b[94mdef\u001b[39;49;00m \u001b[92mtest_multiplication\u001b[39;49;00m():\u001b[90m\u001b[39;49;00m\n",
      "        \u001b[90m# test that you can multiply a Dollar by a number and get the right amount.\u001b[39;49;00m\u001b[90m\u001b[39;49;00m\n",
      "        five = Dollar(amount=\u001b[94m5\u001b[39;49;00m)\u001b[90m\u001b[39;49;00m\n",
      "        five.times(multiplier=\u001b[94m2\u001b[39;49;00m)\u001b[90m\u001b[39;49;00m\n",
      ">       \u001b[94massert\u001b[39;49;00m \u001b[94m10\u001b[39;49;00m == five.amount\u001b[90m\u001b[39;49;00m\n",
      "\u001b[1m\u001b[31mE       assert 10 == None\u001b[0m\n",
      "\u001b[1m\u001b[31mE        +  where None = <__main__.Dollar object at 0x14c0b49081f0>.amount\u001b[0m\n",
      "\n",
      "\u001b[1m\u001b[31m/tmp/ipykernel_1770687/2648424505.py\u001b[0m:5: AssertionError\n",
      "\u001b[36m\u001b[1m===================================== short test summary info ======================================\u001b[0m\n",
      "\u001b[31mFAILED\u001b[0m t_142f548a07c04ccca617b7728c8914c0.py::\u001b[1mtest_multiplication\u001b[0m - assert 10 == None\n",
      "\u001b[31m======================================== \u001b[31m\u001b[1m1 failed\u001b[0m\u001b[31m in 0.01s\u001b[0m\u001b[31m =========================================\u001b[0m\n"
     ]
    },
    {
     "data": {
      "text/plain": [
       "<ExitCode.TESTS_FAILED: 1>"
      ]
     },
     "execution_count": 11,
     "metadata": {},
     "output_type": "execute_result"
    }
   ],
   "source": [
    "ipytest.run('-vv')  # '-vv' for increased verbosity"
   ]
  },
  {
   "cell_type": "code",
   "execution_count": 12,
   "metadata": {},
   "outputs": [],
   "source": [
    "class Dollar:\n",
    "    def __init__(self, amount):\n",
    "        pass\n",
    "    \n",
    "    def times(self, multiplier):\n",
    "        pass\n",
    "\n",
    "    amount = 10"
   ]
  },
  {
   "cell_type": "code",
   "execution_count": 13,
   "metadata": {},
   "outputs": [
    {
     "name": "stdout",
     "output_type": "stream",
     "text": [
      "\u001b[1m======================================= test session starts ========================================\u001b[0m\n",
      "platform linux -- Python 3.10.4, pytest-8.0.0, pluggy-1.4.0 -- /home/callaram/.conda/envs/jupyterbook/bin/python\n",
      "cachedir: .pytest_cache\n",
      "rootdir: /home/callaram/tds/msdp-book/ch3\n",
      "\u001b[1mcollecting ... \u001b[0m"
     ]
    },
    {
     "name": "stdout",
     "output_type": "stream",
     "text": [
      "collected 1 item\n",
      "\n",
      "t_142f548a07c04ccca617b7728c8914c0.py::test_multiplication "
     ]
    },
    {
     "name": "stdout",
     "output_type": "stream",
     "text": [
      "\u001b[32mPASSED\u001b[0m\u001b[32m                            [100%]\u001b[0m"
     ]
    },
    {
     "name": "stdout",
     "output_type": "stream",
     "text": [
      "\n",
      "\n",
      "\u001b[32m======================================== \u001b[32m\u001b[1m1 passed\u001b[0m\u001b[32m in 0.01s\u001b[0m\u001b[32m =========================================\u001b[0m\n"
     ]
    },
    {
     "data": {
      "text/plain": [
       "<ExitCode.OK: 0>"
      ]
     },
     "execution_count": 13,
     "metadata": {},
     "output_type": "execute_result"
    }
   ],
   "source": [
    "ipytest.run('-vv')  # '-vv' for increased verbosity"
   ]
  },
  {
   "cell_type": "code",
   "execution_count": 14,
   "metadata": {},
   "outputs": [],
   "source": [
    "def test_multiplication():\n",
    "    # test that you can multiply a Dollar by a number and get the right amount.\n",
    "    five = Dollar(5)\n",
    "    five.times(2)\n",
    "    assert 10 == five.amount\n",
    "\n",
    "# If we rewrite the 10 as 5 * 2, the duplication becomes more evident.\n",
    "class Dollar:\n",
    "    def __init__(self, amount):\n",
    "        pass\n",
    "    \n",
    "    def times(self, multiplier):\n",
    "        pass\n",
    "\n",
    "    amount = 5 * 2"
   ]
  },
  {
   "cell_type": "code",
   "execution_count": 15,
   "metadata": {},
   "outputs": [
    {
     "name": "stdout",
     "output_type": "stream",
     "text": [
      "\u001b[1m======================================= test session starts ========================================\u001b[0m\n",
      "platform linux -- Python 3.10.4, pytest-8.0.0, pluggy-1.4.0 -- /home/callaram/.conda/envs/jupyterbook/bin/python\n",
      "cachedir: .pytest_cache\n",
      "rootdir: /home/callaram/tds/msdp-book/ch3\n",
      "\u001b[1mcollecting ... \u001b[0m"
     ]
    },
    {
     "name": "stdout",
     "output_type": "stream",
     "text": [
      "collected 1 item\n",
      "\n",
      "t_142f548a07c04ccca617b7728c8914c0.py::test_multiplication "
     ]
    },
    {
     "name": "stdout",
     "output_type": "stream",
     "text": [
      "\u001b[32mPASSED\u001b[0m\u001b[32m                            [100%]\u001b[0m"
     ]
    },
    {
     "name": "stdout",
     "output_type": "stream",
     "text": [
      "\n",
      "\n",
      "\u001b[32m======================================== \u001b[32m\u001b[1m1 passed\u001b[0m\u001b[32m in 0.01s\u001b[0m\u001b[32m =========================================\u001b[0m\n"
     ]
    },
    {
     "data": {
      "text/plain": [
       "<ExitCode.OK: 0>"
      ]
     },
     "execution_count": 15,
     "metadata": {},
     "output_type": "execute_result"
    }
   ],
   "source": [
    "ipytest.run('-vv')  # '-vv' for increased verbosity"
   ]
  },
  {
   "cell_type": "code",
   "execution_count": 16,
   "metadata": {},
   "outputs": [],
   "source": [
    "def test_multiplication():\n",
    "    # test that you can multiply a Dollar by a number and get the right amount.\n",
    "    five = Dollar(5)\n",
    "    five.times(2)\n",
    "    assert 10 == five.amount\n",
    "\n",
    "# If we rewrite the 10 as 5 * 2, the duplication becomes more evident.\n",
    "class Dollar:\n",
    "    def __init__(self, amount):\n",
    "        pass\n",
    "    \n",
    "    def times(self, multiplier):\n",
    "        self.amount = 5 * 2"
   ]
  },
  {
   "cell_type": "code",
   "execution_count": 17,
   "metadata": {},
   "outputs": [
    {
     "name": "stdout",
     "output_type": "stream",
     "text": [
      "\u001b[1m======================================= test session starts ========================================\u001b[0m\n",
      "platform linux -- Python 3.10.4, pytest-8.0.0, pluggy-1.4.0 -- /home/callaram/.conda/envs/jupyterbook/bin/python\n",
      "cachedir: .pytest_cache\n",
      "rootdir: /home/callaram/tds/msdp-book/ch3\n",
      "\u001b[1mcollecting ... \u001b[0m"
     ]
    },
    {
     "name": "stdout",
     "output_type": "stream",
     "text": [
      "collected 1 item\n",
      "\n",
      "t_142f548a07c04ccca617b7728c8914c0.py::test_multiplication "
     ]
    },
    {
     "name": "stdout",
     "output_type": "stream",
     "text": [
      "\u001b[32mPASSED\u001b[0m\u001b[32m                            [100%]\u001b[0m"
     ]
    },
    {
     "name": "stdout",
     "output_type": "stream",
     "text": [
      "\n",
      "\n",
      "\u001b[32m======================================== \u001b[32m\u001b[1m1 passed\u001b[0m\u001b[32m in 0.01s\u001b[0m\u001b[32m =========================================\u001b[0m\n"
     ]
    },
    {
     "data": {
      "text/plain": [
       "<ExitCode.OK: 0>"
      ]
     },
     "execution_count": 17,
     "metadata": {},
     "output_type": "execute_result"
    }
   ],
   "source": [
    "ipytest.run('-vv')  # '-vv' for increased verbosity"
   ]
  },
  {
   "cell_type": "code",
   "execution_count": 18,
   "metadata": {},
   "outputs": [],
   "source": [
    "def test_multiplication():\n",
    "    # test that you can multiply a Dollar by a number and get the right amount.\n",
    "    five = Dollar(5)\n",
    "    five.times(2)\n",
    "    assert 10 == five.amount\n",
    "\n",
    "# If we rewrite the 10 as 5 * 2, the duplication becomes more evident.\n",
    "class Dollar:\n",
    "    def __init__(self, amount):\n",
    "        self.amount = amount\n",
    "    \n",
    "    def times(self, multiplier):\n",
    "        self.amount = self.amount * 2"
   ]
  },
  {
   "cell_type": "code",
   "execution_count": 19,
   "metadata": {},
   "outputs": [
    {
     "name": "stdout",
     "output_type": "stream",
     "text": [
      "\u001b[1m======================================= test session starts ========================================\u001b[0m\n",
      "platform linux -- Python 3.10.4, pytest-8.0.0, pluggy-1.4.0 -- /home/callaram/.conda/envs/jupyterbook/bin/python\n",
      "cachedir: .pytest_cache\n",
      "rootdir: /home/callaram/tds/msdp-book/ch3\n",
      "\u001b[1mcollecting ... \u001b[0m"
     ]
    },
    {
     "name": "stdout",
     "output_type": "stream",
     "text": [
      "collected 1 item\n",
      "\n",
      "t_142f548a07c04ccca617b7728c8914c0.py::test_multiplication "
     ]
    },
    {
     "name": "stdout",
     "output_type": "stream",
     "text": [
      "\u001b[32mPASSED\u001b[0m\u001b[32m                            [100%]\u001b[0m"
     ]
    },
    {
     "name": "stdout",
     "output_type": "stream",
     "text": [
      "\n",
      "\n",
      "\u001b[32m======================================== \u001b[32m\u001b[1m1 passed\u001b[0m\u001b[32m in 0.00s\u001b[0m\u001b[32m =========================================\u001b[0m\n"
     ]
    },
    {
     "data": {
      "text/plain": [
       "<ExitCode.OK: 0>"
      ]
     },
     "execution_count": 19,
     "metadata": {},
     "output_type": "execute_result"
    }
   ],
   "source": [
    "ipytest.run('-vv')  # '-vv' for increased verbosity"
   ]
  },
  {
   "cell_type": "code",
   "execution_count": 20,
   "metadata": {},
   "outputs": [],
   "source": [
    "def test_multiplication():\n",
    "    # test that you can multiply a Dollar by a number and get the right amount.\n",
    "    five = Dollar(5)\n",
    "    five.times(2)\n",
    "    assert 10 == five.amount\n",
    "\n",
    "# If we rewrite the 10 as 5 * 2, the duplication becomes more evident.\n",
    "class Dollar:\n",
    "    def __init__(self, amount):\n",
    "        self.amount = amount\n",
    "    \n",
    "    def times(self, multiplier):\n",
    "        self.amount = self.amount * multiplier"
   ]
  },
  {
   "cell_type": "code",
   "execution_count": 21,
   "metadata": {},
   "outputs": [
    {
     "name": "stdout",
     "output_type": "stream",
     "text": [
      "\u001b[1m======================================= test session starts ========================================\u001b[0m\n",
      "platform linux -- Python 3.10.4, pytest-8.0.0, pluggy-1.4.0 -- /home/callaram/.conda/envs/jupyterbook/bin/python\n",
      "cachedir: .pytest_cache\n",
      "rootdir: /home/callaram/tds/msdp-book/ch3\n",
      "\u001b[1mcollecting ... \u001b[0m"
     ]
    },
    {
     "name": "stdout",
     "output_type": "stream",
     "text": [
      "collected 1 item\n",
      "\n",
      "t_142f548a07c04ccca617b7728c8914c0.py::test_multiplication "
     ]
    },
    {
     "name": "stdout",
     "output_type": "stream",
     "text": [
      "\u001b[32mPASSED\u001b[0m\u001b[32m                            [100%]\u001b[0m"
     ]
    },
    {
     "name": "stdout",
     "output_type": "stream",
     "text": [
      "\n",
      "\n",
      "\u001b[32m======================================== \u001b[32m\u001b[1m1 passed\u001b[0m\u001b[32m in 0.01s\u001b[0m\u001b[32m =========================================\u001b[0m\n"
     ]
    },
    {
     "data": {
      "text/plain": [
       "<ExitCode.OK: 0>"
      ]
     },
     "execution_count": 21,
     "metadata": {},
     "output_type": "execute_result"
    }
   ],
   "source": [
    "ipytest.run('-vv')  # '-vv' for increased verbosity"
   ]
  },
  {
   "cell_type": "code",
   "execution_count": 22,
   "metadata": {},
   "outputs": [],
   "source": [
    "def test_multiplication():\n",
    "    # test that you can multiply a Dollar by a number and get the right amount.\n",
    "    five = Dollar(5)\n",
    "    five.times(2)\n",
    "    assert 10 == five.amount\n",
    "\n",
    "# If we rewrite the 10 as 5 * 2, the duplication becomes more evident.\n",
    "class Dollar:\n",
    "    def __init__(self, amount):\n",
    "        self.amount = amount\n",
    "    \n",
    "    def times(self, multiplier):\n",
    "        self.amount *= multiplier"
   ]
  },
  {
   "cell_type": "code",
   "execution_count": 23,
   "metadata": {},
   "outputs": [
    {
     "name": "stdout",
     "output_type": "stream",
     "text": [
      "\u001b[1m======================================= test session starts ========================================\u001b[0m\n",
      "platform linux -- Python 3.10.4, pytest-8.0.0, pluggy-1.4.0 -- /home/callaram/.conda/envs/jupyterbook/bin/python\n",
      "cachedir: .pytest_cache\n",
      "rootdir: /home/callaram/tds/msdp-book/ch3\n",
      "\u001b[1mcollecting ... \u001b[0m"
     ]
    },
    {
     "name": "stdout",
     "output_type": "stream",
     "text": [
      "collected 1 item\n",
      "\n",
      "t_142f548a07c04ccca617b7728c8914c0.py::test_multiplication "
     ]
    },
    {
     "name": "stdout",
     "output_type": "stream",
     "text": [
      "\u001b[32mPASSED\u001b[0m\u001b[32m                            [100%]\u001b[0m"
     ]
    },
    {
     "name": "stdout",
     "output_type": "stream",
     "text": [
      "\n",
      "\n",
      "\u001b[32m======================================== \u001b[32m\u001b[1m1 passed\u001b[0m\u001b[32m in 0.00s\u001b[0m\u001b[32m =========================================\u001b[0m\n"
     ]
    },
    {
     "data": {
      "text/plain": [
       "<ExitCode.OK: 0>"
      ]
     },
     "execution_count": 23,
     "metadata": {},
     "output_type": "execute_result"
    }
   ],
   "source": [
    "ipytest.run('-vv')  # '-vv' for increased verbosity"
   ]
  },
  {
   "cell_type": "code",
   "execution_count": 24,
   "metadata": {},
   "outputs": [],
   "source": [
    "def test_multiplication():\n",
    "    # test that you can multiply a Dollar by a number and get the right amount.\n",
    "    five = Dollar(5)\n",
    "    five.times(2)\n",
    "    assert 10 == five.amount \n",
    "    five.times(3)\n",
    "    assert 15 == five.amount"
   ]
  },
  {
   "cell_type": "code",
   "execution_count": 25,
   "metadata": {},
   "outputs": [
    {
     "name": "stdout",
     "output_type": "stream",
     "text": [
      "\u001b[1m======================================= test session starts ========================================\u001b[0m\n",
      "platform linux -- Python 3.10.4, pytest-8.0.0, pluggy-1.4.0 -- /home/callaram/.conda/envs/jupyterbook/bin/python\n",
      "cachedir: .pytest_cache\n",
      "rootdir: /home/callaram/tds/msdp-book/ch3\n",
      "\u001b[1mcollecting ... \u001b[0m"
     ]
    },
    {
     "name": "stdout",
     "output_type": "stream",
     "text": [
      "collected 1 item\n",
      "\n",
      "t_142f548a07c04ccca617b7728c8914c0.py::test_multiplication "
     ]
    },
    {
     "name": "stdout",
     "output_type": "stream",
     "text": [
      "\u001b[31mFAILED\u001b[0m"
     ]
    },
    {
     "name": "stdout",
     "output_type": "stream",
     "text": [
      "\u001b[31m                            [100%]\u001b[0m"
     ]
    },
    {
     "name": "stdout",
     "output_type": "stream",
     "text": [
      "\n",
      "\n",
      "============================================= FAILURES =============================================\n",
      "\u001b[31m\u001b[1m_______________________________________ test_multiplication ________________________________________\u001b[0m\n",
      "\n",
      "    \u001b[0m\u001b[94mdef\u001b[39;49;00m \u001b[92mtest_multiplication\u001b[39;49;00m():\u001b[90m\u001b[39;49;00m\n",
      "        \u001b[90m# test that you can multiply a Dollar by a number and get the right amount.\u001b[39;49;00m\u001b[90m\u001b[39;49;00m\n",
      "        five = Dollar(\u001b[94m5\u001b[39;49;00m)\u001b[90m\u001b[39;49;00m\n",
      "        five.times(\u001b[94m2\u001b[39;49;00m)\u001b[90m\u001b[39;49;00m\n",
      "        \u001b[94massert\u001b[39;49;00m \u001b[94m10\u001b[39;49;00m == five.amount\u001b[90m\u001b[39;49;00m\n",
      "        five.times(\u001b[94m3\u001b[39;49;00m)\u001b[90m\u001b[39;49;00m\n",
      ">       \u001b[94massert\u001b[39;49;00m \u001b[94m15\u001b[39;49;00m == five.amount\u001b[90m\u001b[39;49;00m\n",
      "\u001b[1m\u001b[31mE       assert 15 == 30\u001b[0m\n",
      "\u001b[1m\u001b[31mE        +  where 30 = <__main__.Dollar object at 0x14c0b474f2e0>.amount\u001b[0m\n",
      "\n",
      "\u001b[1m\u001b[31m/tmp/ipykernel_1770687/2074498160.py\u001b[0m:7: AssertionError\n",
      "\u001b[36m\u001b[1m===================================== short test summary info ======================================\u001b[0m\n",
      "\u001b[31mFAILED\u001b[0m t_142f548a07c04ccca617b7728c8914c0.py::\u001b[1mtest_multiplication\u001b[0m - assert 15 == 30\n",
      "\u001b[31m======================================== \u001b[31m\u001b[1m1 failed\u001b[0m\u001b[31m in 0.01s\u001b[0m\u001b[31m =========================================\u001b[0m\n"
     ]
    },
    {
     "data": {
      "text/plain": [
       "<ExitCode.TESTS_FAILED: 1>"
      ]
     },
     "execution_count": 25,
     "metadata": {},
     "output_type": "execute_result"
    }
   ],
   "source": [
    "ipytest.run('-vv')  # '-vv' for increased verbosity"
   ]
  },
  {
   "cell_type": "code",
   "execution_count": 26,
   "metadata": {},
   "outputs": [],
   "source": [
    "def test_multiplication():\n",
    "    # test that you can multiply a Dollar by a number and get the right amount.\n",
    "    five = Dollar(5)\n",
    "    ten = five.times(2)\n",
    "    assert 10 == ten.amount \n",
    "    fifteen = five.times(3)\n",
    "    assert 15 == fifteen.amount"
   ]
  },
  {
   "cell_type": "code",
   "execution_count": 27,
   "metadata": {},
   "outputs": [
    {
     "name": "stdout",
     "output_type": "stream",
     "text": [
      "\u001b[1m======================================= test session starts ========================================\u001b[0m"
     ]
    },
    {
     "name": "stdout",
     "output_type": "stream",
     "text": [
      "\n",
      "platform linux -- Python 3.10.4, pytest-8.0.0, pluggy-1.4.0 -- /home/callaram/.conda/envs/jupyterbook/bin/python\n",
      "cachedir: .pytest_cache\n",
      "rootdir: /home/callaram/tds/msdp-book/ch3\n",
      "\u001b[1mcollecting ... \u001b[0m"
     ]
    },
    {
     "name": "stdout",
     "output_type": "stream",
     "text": [
      "collected 1 item\n",
      "\n",
      "t_142f548a07c04ccca617b7728c8914c0.py::test_multiplication "
     ]
    },
    {
     "name": "stdout",
     "output_type": "stream",
     "text": [
      "\u001b[31mFAILED\u001b[0m\u001b[31m                            [100%]\u001b[0m"
     ]
    },
    {
     "name": "stdout",
     "output_type": "stream",
     "text": [
      "\n",
      "\n",
      "============================================= FAILURES =============================================\n",
      "\u001b[31m\u001b[1m_______________________________________ test_multiplication ________________________________________\u001b[0m\n",
      "\n",
      "    \u001b[0m\u001b[94mdef\u001b[39;49;00m \u001b[92mtest_multiplication\u001b[39;49;00m():\u001b[90m\u001b[39;49;00m\n",
      "        \u001b[90m# test that you can multiply a Dollar by a number and get the right amount.\u001b[39;49;00m\u001b[90m\u001b[39;49;00m\n",
      "        five = Dollar(\u001b[94m5\u001b[39;49;00m)\u001b[90m\u001b[39;49;00m\n",
      "        ten = five.times(\u001b[94m2\u001b[39;49;00m)\u001b[90m\u001b[39;49;00m\n",
      ">       \u001b[94massert\u001b[39;49;00m \u001b[94m10\u001b[39;49;00m == ten.amount\u001b[90m\u001b[39;49;00m\n",
      "\u001b[1m\u001b[31mE       AttributeError: 'NoneType' object has no attribute 'amount'\u001b[0m\n",
      "\n",
      "\u001b[1m\u001b[31m/tmp/ipykernel_1770687/1909386861.py\u001b[0m:5: AttributeError\n",
      "\u001b[36m\u001b[1m===================================== short test summary info ======================================\u001b[0m\n",
      "\u001b[31mFAILED\u001b[0m t_142f548a07c04ccca617b7728c8914c0.py::\u001b[1mtest_multiplication\u001b[0m - AttributeError: 'NoneType' object has no attribute 'amount'\n",
      "\u001b[31m======================================== \u001b[31m\u001b[1m1 failed\u001b[0m\u001b[31m in 0.01s\u001b[0m\u001b[31m =========================================\u001b[0m\n"
     ]
    },
    {
     "data": {
      "text/plain": [
       "<ExitCode.TESTS_FAILED: 1>"
      ]
     },
     "execution_count": 27,
     "metadata": {},
     "output_type": "execute_result"
    }
   ],
   "source": [
    "ipytest.run('-vv')  # '-vv' for increased verbosity"
   ]
  },
  {
   "cell_type": "code",
   "execution_count": 28,
   "metadata": {},
   "outputs": [],
   "source": [
    "class Dollar:\n",
    "    def __init__(self, amount):\n",
    "        self.amount = amount\n",
    "    \n",
    "    def times(self, multiplier):\n",
    "        return Dollar(self.amount * multiplier)"
   ]
  },
  {
   "cell_type": "code",
   "execution_count": 29,
   "metadata": {},
   "outputs": [
    {
     "name": "stdout",
     "output_type": "stream",
     "text": [
      "\u001b[1m======================================= test session starts ========================================\u001b[0m\n",
      "platform linux -- Python 3.10.4, pytest-8.0.0, pluggy-1.4.0 -- /home/callaram/.conda/envs/jupyterbook/bin/python\n",
      "cachedir: .pytest_cache\n",
      "rootdir: /home/callaram/tds/msdp-book/ch3\n",
      "\u001b[1mcollecting ... \u001b[0m"
     ]
    },
    {
     "name": "stdout",
     "output_type": "stream",
     "text": [
      "collected 1 item\n",
      "\n",
      "t_142f548a07c04ccca617b7728c8914c0.py::test_multiplication "
     ]
    },
    {
     "name": "stdout",
     "output_type": "stream",
     "text": [
      "\u001b[32mPASSED\u001b[0m\u001b[32m                            [100%]\u001b[0m"
     ]
    },
    {
     "name": "stdout",
     "output_type": "stream",
     "text": [
      "\n",
      "\n",
      "\u001b[32m======================================== \u001b[32m\u001b[1m1 passed\u001b[0m\u001b[32m in 0.01s\u001b[0m\u001b[32m =========================================\u001b[0m\n"
     ]
    },
    {
     "data": {
      "text/plain": [
       "<ExitCode.OK: 0>"
      ]
     },
     "execution_count": 29,
     "metadata": {},
     "output_type": "execute_result"
    }
   ],
   "source": [
    "ipytest.run('-vv')  # '-vv' for increased verbosity"
   ]
  },
  {
   "cell_type": "code",
   "execution_count": 30,
   "metadata": {},
   "outputs": [],
   "source": [
    "def test_equality():\n",
    "    assert Dollar(5) == Dollar(5)\n",
    "    assert Dollar(5) != Dollar(6)"
   ]
  },
  {
   "cell_type": "code",
   "execution_count": 31,
   "metadata": {},
   "outputs": [
    {
     "name": "stdout",
     "output_type": "stream",
     "text": [
      "\u001b[1m======================================= test session starts ========================================\u001b[0m\n",
      "platform linux -- Python 3.10.4, pytest-8.0.0, pluggy-1.4.0 -- /home/callaram/.conda/envs/jupyterbook/bin/python\n",
      "cachedir: .pytest_cache\n",
      "rootdir: /home/callaram/tds/msdp-book/ch3\n",
      "\u001b[1mcollecting ... \u001b[0m"
     ]
    },
    {
     "name": "stdout",
     "output_type": "stream",
     "text": [
      "collected 2 items\n",
      "\n",
      "t_142f548a07c04ccca617b7728c8914c0.py::test_multiplication "
     ]
    },
    {
     "name": "stdout",
     "output_type": "stream",
     "text": [
      "\u001b[32mPASSED\u001b[0m\u001b[32m                            [ 50%]\u001b[0m"
     ]
    },
    {
     "name": "stdout",
     "output_type": "stream",
     "text": [
      "\n",
      "t_142f548a07c04ccca617b7728c8914c0.py::test_equality "
     ]
    },
    {
     "name": "stdout",
     "output_type": "stream",
     "text": [
      "\u001b[31mFAILED\u001b[0m\u001b[31m                                  [100%]\u001b[0m"
     ]
    },
    {
     "name": "stdout",
     "output_type": "stream",
     "text": [
      "\n",
      "\n",
      "============================================= FAILURES =============================================\n",
      "\u001b[31m\u001b[1m__________________________________________ test_equality ___________________________________________\u001b[0m\n",
      "\n",
      "    \u001b[0m\u001b[94mdef\u001b[39;49;00m \u001b[92mtest_equality\u001b[39;49;00m():\u001b[90m\u001b[39;49;00m\n",
      ">       \u001b[94massert\u001b[39;49;00m Dollar(\u001b[94m5\u001b[39;49;00m) == Dollar(\u001b[94m5\u001b[39;49;00m)\u001b[90m\u001b[39;49;00m\n",
      "\u001b[1m\u001b[31mE       assert <__main__.Dollar object at 0x14c0b4628df0> == <__main__.Dollar object at 0x14c0b4628370>\u001b[0m\n",
      "\u001b[1m\u001b[31mE        +  where <__main__.Dollar object at 0x14c0b4628df0> = Dollar(5)\u001b[0m\n",
      "\u001b[1m\u001b[31mE        +  and   <__main__.Dollar object at 0x14c0b4628370> = Dollar(5)\u001b[0m\n",
      "\n",
      "\u001b[1m\u001b[31m/tmp/ipykernel_1770687/3170841363.py\u001b[0m:2: AssertionError\n",
      "\u001b[36m\u001b[1m===================================== short test summary info ======================================\u001b[0m\n",
      "\u001b[31mFAILED\u001b[0m t_142f548a07c04ccca617b7728c8914c0.py::\u001b[1mtest_equality\u001b[0m - assert <__main__.Dollar object at 0x14c0b4628df0> == <__main__.Dollar object at 0x14c0b4628370>\n",
      "\u001b[31m=================================== \u001b[31m\u001b[1m1 failed\u001b[0m, \u001b[32m1 passed\u001b[0m\u001b[31m in 0.01s\u001b[0m\u001b[31m ====================================\u001b[0m\n"
     ]
    },
    {
     "data": {
      "text/plain": [
       "<ExitCode.TESTS_FAILED: 1>"
      ]
     },
     "execution_count": 31,
     "metadata": {},
     "output_type": "execute_result"
    }
   ],
   "source": [
    "ipytest.run('-vv')  # '-vv' for increased verbosity"
   ]
  },
  {
   "cell_type": "code",
   "execution_count": 32,
   "metadata": {},
   "outputs": [],
   "source": [
    "class Dollar:\n",
    "    def __init__(self, amount):\n",
    "        self.amount = amount\n",
    "    \n",
    "    def times(self, multiplier):\n",
    "        return Dollar(self.amount * multiplier)\n",
    "    \n",
    "    def __eq__(self, other):\n",
    "        return self.amount == other.amount"
   ]
  },
  {
   "cell_type": "code",
   "execution_count": 33,
   "metadata": {},
   "outputs": [
    {
     "name": "stdout",
     "output_type": "stream",
     "text": [
      "\u001b[1m======================================= test session starts ========================================\u001b[0m\n",
      "platform linux -- Python 3.10.4, pytest-8.0.0, pluggy-1.4.0 -- /home/callaram/.conda/envs/jupyterbook/bin/python\n",
      "cachedir: .pytest_cache\n",
      "rootdir: /home/callaram/tds/msdp-book/ch3\n",
      "\u001b[1mcollecting ... \u001b[0m"
     ]
    },
    {
     "name": "stdout",
     "output_type": "stream",
     "text": [
      "collected 2 items\n",
      "\n",
      "t_142f548a07c04ccca617b7728c8914c0.py::test_multiplication "
     ]
    },
    {
     "name": "stdout",
     "output_type": "stream",
     "text": [
      "\u001b[32mPASSED\u001b[0m\u001b[32m                            [ 50%]\u001b[0m"
     ]
    },
    {
     "name": "stdout",
     "output_type": "stream",
     "text": [
      "\n",
      "t_142f548a07c04ccca617b7728c8914c0.py::test_equality "
     ]
    },
    {
     "name": "stdout",
     "output_type": "stream",
     "text": [
      "\u001b[32mPASSED\u001b[0m\u001b[32m                                  [100%]\u001b[0m"
     ]
    },
    {
     "name": "stdout",
     "output_type": "stream",
     "text": [
      "\n",
      "\n",
      "\u001b[32m======================================== \u001b[32m\u001b[1m2 passed\u001b[0m\u001b[32m in 0.01s\u001b[0m\u001b[32m =========================================\u001b[0m\n"
     ]
    },
    {
     "data": {
      "text/plain": [
       "<ExitCode.OK: 0>"
      ]
     },
     "execution_count": 33,
     "metadata": {},
     "output_type": "execute_result"
    }
   ],
   "source": [
    "ipytest.run('-vv')  # '-vv' for increased verbosity"
   ]
  },
  {
   "cell_type": "code",
   "execution_count": 34,
   "metadata": {},
   "outputs": [],
   "source": [
    "def test_multiplication():\n",
    "    # test that you can multiply a Dollar by a number and get the right amount.\n",
    "    five = Dollar(5)\n",
    "    ten = five.times(2)\n",
    "    assert 10 == ten.amount \n",
    "    fifteen = five.times(3)\n",
    "    assert 15 == fifteen.amount"
   ]
  },
  {
   "cell_type": "code",
   "execution_count": 35,
   "metadata": {},
   "outputs": [],
   "source": [
    "def test_multiplication():\n",
    "    # test that you can multiply a Dollar by a number and get the right amount.\n",
    "    five = Dollar(5)\n",
    "    ten = five.times(2)\n",
    "    assert Dollar(10) == ten \n",
    "    fifteen = five.times(3)\n",
    "    assert Dollar(15) == fifteen"
   ]
  },
  {
   "cell_type": "code",
   "execution_count": 36,
   "metadata": {},
   "outputs": [
    {
     "name": "stdout",
     "output_type": "stream",
     "text": [
      "\u001b[1m======================================= test session starts ========================================\u001b[0m\n",
      "platform linux -- Python 3.10.4, pytest-8.0.0, pluggy-1.4.0 -- /home/callaram/.conda/envs/jupyterbook/bin/python\n",
      "cachedir: .pytest_cache\n",
      "rootdir: /home/callaram/tds/msdp-book/ch3\n",
      "\u001b[1mcollecting ... \u001b[0m"
     ]
    },
    {
     "name": "stdout",
     "output_type": "stream",
     "text": [
      "collected 2 items\n",
      "\n",
      "t_142f548a07c04ccca617b7728c8914c0.py::test_multiplication "
     ]
    },
    {
     "name": "stdout",
     "output_type": "stream",
     "text": [
      "\u001b[32mPASSED\u001b[0m\u001b[32m                            [ 50%]\u001b[0m"
     ]
    },
    {
     "name": "stdout",
     "output_type": "stream",
     "text": [
      "\n",
      "t_142f548a07c04ccca617b7728c8914c0.py::test_equality "
     ]
    },
    {
     "name": "stdout",
     "output_type": "stream",
     "text": [
      "\u001b[32mPASSED\u001b[0m\u001b[32m                                  [100%]\u001b[0m"
     ]
    },
    {
     "name": "stdout",
     "output_type": "stream",
     "text": [
      "\n",
      "\n",
      "\u001b[32m======================================== \u001b[32m\u001b[1m2 passed\u001b[0m\u001b[32m in 0.01s\u001b[0m\u001b[32m =========================================\u001b[0m\n"
     ]
    },
    {
     "data": {
      "text/plain": [
       "<ExitCode.OK: 0>"
      ]
     },
     "execution_count": 36,
     "metadata": {},
     "output_type": "execute_result"
    }
   ],
   "source": [
    "ipytest.run('-vv')  # '-vv' for increased verbosity"
   ]
  },
  {
   "cell_type": "code",
   "execution_count": 37,
   "metadata": {},
   "outputs": [],
   "source": [
    "def test_multiplication():\n",
    "    # test that you can multiply a Dollar by a number and get the right amount.\n",
    "    five = Dollar(5)\n",
    "    assert Dollar(10) == five.times(2)\n",
    "    assert Dollar(15) == five.times(3)"
   ]
  },
  {
   "cell_type": "code",
   "execution_count": 38,
   "metadata": {},
   "outputs": [
    {
     "name": "stdout",
     "output_type": "stream",
     "text": [
      "\u001b[1m======================================= test session starts ========================================\u001b[0m\n",
      "platform linux -- Python 3.10.4, pytest-8.0.0, pluggy-1.4.0 -- /home/callaram/.conda/envs/jupyterbook/bin/python\n",
      "cachedir: .pytest_cache\n",
      "rootdir: /home/callaram/tds/msdp-book/ch3\n",
      "\u001b[1mcollecting ... \u001b[0m"
     ]
    },
    {
     "name": "stdout",
     "output_type": "stream",
     "text": [
      "collected 2 items\n",
      "\n",
      "t_142f548a07c04ccca617b7728c8914c0.py::test_multiplication "
     ]
    },
    {
     "name": "stdout",
     "output_type": "stream",
     "text": [
      "\u001b[32mPASSED\u001b[0m\u001b[32m                            [ 50%]\u001b[0m"
     ]
    },
    {
     "name": "stdout",
     "output_type": "stream",
     "text": [
      "\n",
      "t_142f548a07c04ccca617b7728c8914c0.py::test_equality "
     ]
    },
    {
     "name": "stdout",
     "output_type": "stream",
     "text": [
      "\u001b[32mPASSED\u001b[0m\u001b[32m                                  [100%]\u001b[0m"
     ]
    },
    {
     "name": "stdout",
     "output_type": "stream",
     "text": [
      "\n",
      "\n",
      "\u001b[32m======================================== \u001b[32m\u001b[1m2 passed\u001b[0m\u001b[32m in 0.01s\u001b[0m\u001b[32m =========================================\u001b[0m\n"
     ]
    },
    {
     "data": {
      "text/plain": [
       "<ExitCode.OK: 0>"
      ]
     },
     "execution_count": 38,
     "metadata": {},
     "output_type": "execute_result"
    }
   ],
   "source": [
    "ipytest.run('-vv')  # '-vv' for increased verbosity"
   ]
  },
  {
   "cell_type": "code",
   "execution_count": 39,
   "metadata": {},
   "outputs": [],
   "source": [
    "class Dollar:\n",
    "    def __init__(self, amount):\n",
    "        self._amount = amount\n",
    "    \n",
    "    def times(self, multiplier):\n",
    "        return Dollar(self._amount * multiplier)\n",
    "    \n",
    "    def __eq__(self, other):\n",
    "        return self._amount == other._amount"
   ]
  },
  {
   "cell_type": "code",
   "execution_count": 40,
   "metadata": {},
   "outputs": [
    {
     "name": "stdout",
     "output_type": "stream",
     "text": [
      "\u001b[1m======================================= test session starts ========================================\u001b[0m\n",
      "platform linux -- Python 3.10.4, pytest-8.0.0, pluggy-1.4.0 -- /home/callaram/.conda/envs/jupyterbook/bin/python\n",
      "cachedir: .pytest_cache\n",
      "rootdir: /home/callaram/tds/msdp-book/ch3\n",
      "\u001b[1mcollecting ... \u001b[0m"
     ]
    },
    {
     "name": "stdout",
     "output_type": "stream",
     "text": [
      "collected 2 items\n",
      "\n",
      "t_142f548a07c04ccca617b7728c8914c0.py::test_multiplication "
     ]
    },
    {
     "name": "stdout",
     "output_type": "stream",
     "text": [
      "\u001b[32mPASSED\u001b[0m\u001b[32m                            [ 50%]\u001b[0m"
     ]
    },
    {
     "name": "stdout",
     "output_type": "stream",
     "text": [
      "\n",
      "t_142f548a07c04ccca617b7728c8914c0.py::test_equality "
     ]
    },
    {
     "name": "stdout",
     "output_type": "stream",
     "text": [
      "\u001b[32mPASSED\u001b[0m\u001b[32m                                  [100%]\u001b[0m"
     ]
    },
    {
     "name": "stdout",
     "output_type": "stream",
     "text": [
      "\n",
      "\n",
      "\u001b[32m======================================== \u001b[32m\u001b[1m2 passed\u001b[0m\u001b[32m in 0.01s\u001b[0m\u001b[32m =========================================\u001b[0m\n"
     ]
    },
    {
     "data": {
      "text/plain": [
       "<ExitCode.OK: 0>"
      ]
     },
     "execution_count": 40,
     "metadata": {},
     "output_type": "execute_result"
    }
   ],
   "source": [
    "ipytest.run('-vv')  # '-vv' for increased verbosity"
   ]
  },
  {
   "cell_type": "code",
   "execution_count": 41,
   "metadata": {},
   "outputs": [
    {
     "data": {
      "text/plain": [
       "(False, False)"
      ]
     },
     "execution_count": 41,
     "metadata": {},
     "output_type": "execute_result"
    }
   ],
   "source": [
    "mydict = {'a': 1, 'b': 2}\n",
    "mylist = ['a', 1, 'b', 2]\n",
    "mydict == mylist, mydict == None"
   ]
  },
  {
   "cell_type": "code",
   "execution_count": 42,
   "metadata": {},
   "outputs": [],
   "source": [
    "def test_franc_multiplication():\n",
    "    # test that you can multiply a Dollar by a number and get the right amount.\n",
    "    five = Franc(5)\n",
    "    assert Franc(10) == five.times(2)\n",
    "    assert Franc(15) == five.times(3)"
   ]
  },
  {
   "cell_type": "code",
   "execution_count": 43,
   "metadata": {},
   "outputs": [
    {
     "name": "stdout",
     "output_type": "stream",
     "text": [
      "\u001b[1m======================================= test session starts ========================================\u001b[0m"
     ]
    },
    {
     "name": "stdout",
     "output_type": "stream",
     "text": [
      "\n",
      "platform linux -- Python 3.10.4, pytest-8.0.0, pluggy-1.4.0 -- /home/callaram/.conda/envs/jupyterbook/bin/python\n",
      "cachedir: .pytest_cache\n",
      "rootdir: /home/callaram/tds/msdp-book/ch3\n",
      "\u001b[1mcollecting ... \u001b[0m"
     ]
    },
    {
     "name": "stdout",
     "output_type": "stream",
     "text": [
      "collected 3 items\n",
      "\n",
      "t_142f548a07c04ccca617b7728c8914c0.py::test_multiplication "
     ]
    },
    {
     "name": "stdout",
     "output_type": "stream",
     "text": [
      "\u001b[32mPASSED\u001b[0m\u001b[32m                            [ 33%]\u001b[0m"
     ]
    },
    {
     "name": "stdout",
     "output_type": "stream",
     "text": [
      "\n",
      "t_142f548a07c04ccca617b7728c8914c0.py::test_equality "
     ]
    },
    {
     "name": "stdout",
     "output_type": "stream",
     "text": [
      "\u001b[32mPASSED\u001b[0m\u001b[32m                                  [ 66%]\u001b[0m"
     ]
    },
    {
     "name": "stdout",
     "output_type": "stream",
     "text": [
      "\n",
      "t_142f548a07c04ccca617b7728c8914c0.py::test_franc_multiplication "
     ]
    },
    {
     "name": "stdout",
     "output_type": "stream",
     "text": [
      "\u001b[31mFAILED\u001b[0m\u001b[31m                      [100%]\u001b[0m"
     ]
    },
    {
     "name": "stdout",
     "output_type": "stream",
     "text": [
      "\n",
      "\n",
      "============================================= FAILURES =============================================\n",
      "\u001b[31m\u001b[1m____________________________________ test_franc_multiplication _____________________________________\u001b[0m\n",
      "\n",
      "    \u001b[0m\u001b[94mdef\u001b[39;49;00m \u001b[92mtest_franc_multiplication\u001b[39;49;00m():\u001b[90m\u001b[39;49;00m\n",
      "        \u001b[90m# test that you can multiply a Dollar by a number and get the right amount.\u001b[39;49;00m\u001b[90m\u001b[39;49;00m\n",
      ">       five = Franc(\u001b[94m5\u001b[39;49;00m)\u001b[90m\u001b[39;49;00m\n",
      "\u001b[1m\u001b[31mE       NameError: name 'Franc' is not defined\u001b[0m\n",
      "\n",
      "\u001b[1m\u001b[31m/tmp/ipykernel_1770687/755619237.py\u001b[0m:3: NameError\n",
      "\u001b[36m\u001b[1m===================================== short test summary info ======================================\u001b[0m\n",
      "\u001b[31mFAILED\u001b[0m t_142f548a07c04ccca617b7728c8914c0.py::\u001b[1mtest_franc_multiplication\u001b[0m - NameError: name 'Franc' is not defined\n",
      "\u001b[31m=================================== \u001b[31m\u001b[1m1 failed\u001b[0m, \u001b[32m2 passed\u001b[0m\u001b[31m in 0.01s\u001b[0m\u001b[31m ====================================\u001b[0m\n"
     ]
    },
    {
     "data": {
      "text/plain": [
       "<ExitCode.TESTS_FAILED: 1>"
      ]
     },
     "execution_count": 43,
     "metadata": {},
     "output_type": "execute_result"
    }
   ],
   "source": [
    "ipytest.run('-vv')  # '-vv' for increased verbosity"
   ]
  },
  {
   "cell_type": "code",
   "execution_count": 44,
   "metadata": {},
   "outputs": [],
   "source": [
    "class Franc:\n",
    "    def __init__(self, amount):\n",
    "        self._amount = amount\n",
    "    \n",
    "    def times(self, multiplier):\n",
    "        return Franc(self._amount * multiplier)\n",
    "    \n",
    "    def __eq__(self, other):\n",
    "        return self._amount == other._amount"
   ]
  },
  {
   "cell_type": "code",
   "execution_count": 45,
   "metadata": {},
   "outputs": [
    {
     "name": "stdout",
     "output_type": "stream",
     "text": [
      "\u001b[1m======================================= test session starts ========================================\u001b[0m"
     ]
    },
    {
     "name": "stdout",
     "output_type": "stream",
     "text": [
      "\n",
      "platform linux -- Python 3.10.4, pytest-8.0.0, pluggy-1.4.0 -- /home/callaram/.conda/envs/jupyterbook/bin/python\n",
      "cachedir: .pytest_cache\n",
      "rootdir: /home/callaram/tds/msdp-book/ch3\n",
      "\u001b[1mcollecting ... \u001b[0m"
     ]
    },
    {
     "name": "stdout",
     "output_type": "stream",
     "text": [
      "collected 3 items\n",
      "\n",
      "t_142f548a07c04ccca617b7728c8914c0.py::test_multiplication "
     ]
    },
    {
     "name": "stdout",
     "output_type": "stream",
     "text": [
      "\u001b[32mPASSED\u001b[0m\u001b[32m                            [ 33%]\u001b[0m"
     ]
    },
    {
     "name": "stdout",
     "output_type": "stream",
     "text": [
      "\n",
      "t_142f548a07c04ccca617b7728c8914c0.py::test_equality "
     ]
    },
    {
     "name": "stdout",
     "output_type": "stream",
     "text": [
      "\u001b[32mPASSED\u001b[0m\u001b[32m                                  [ 66%]\u001b[0m"
     ]
    },
    {
     "name": "stdout",
     "output_type": "stream",
     "text": [
      "\n",
      "t_142f548a07c04ccca617b7728c8914c0.py::test_franc_multiplication "
     ]
    },
    {
     "name": "stdout",
     "output_type": "stream",
     "text": [
      "\u001b[32mPASSED\u001b[0m\u001b[32m                      [100%]\u001b[0m"
     ]
    },
    {
     "name": "stdout",
     "output_type": "stream",
     "text": [
      "\n",
      "\n",
      "\u001b[32m======================================== \u001b[32m\u001b[1m3 passed\u001b[0m\u001b[32m in 0.01s\u001b[0m\u001b[32m =========================================\u001b[0m\n"
     ]
    },
    {
     "data": {
      "text/plain": [
       "<ExitCode.OK: 0>"
      ]
     },
     "execution_count": 45,
     "metadata": {},
     "output_type": "execute_result"
    }
   ],
   "source": [
    "ipytest.run('-vv')  # '-vv' for increased verbosity"
   ]
  },
  {
   "cell_type": "code",
   "execution_count": 46,
   "metadata": {},
   "outputs": [],
   "source": [
    "class Money:\n",
    "    pass "
   ]
  },
  {
   "cell_type": "code",
   "execution_count": 47,
   "metadata": {},
   "outputs": [
    {
     "name": "stdout",
     "output_type": "stream",
     "text": [
      "\u001b[1m======================================= test session starts ========================================\u001b[0m\n",
      "platform linux -- Python 3.10.4, pytest-8.0.0, pluggy-1.4.0 -- /home/callaram/.conda/envs/jupyterbook/bin/python\n",
      "cachedir: .pytest_cache\n",
      "rootdir: /home/callaram/tds/msdp-book/ch3\n",
      "\u001b[1mcollecting ... \u001b[0m"
     ]
    },
    {
     "name": "stdout",
     "output_type": "stream",
     "text": [
      "collected 3 items\n",
      "\n",
      "t_142f548a07c04ccca617b7728c8914c0.py::test_multiplication "
     ]
    },
    {
     "name": "stdout",
     "output_type": "stream",
     "text": [
      "\u001b[32mPASSED\u001b[0m\u001b[32m                            [ 33%]\u001b[0m"
     ]
    },
    {
     "name": "stdout",
     "output_type": "stream",
     "text": [
      "\n",
      "t_142f548a07c04ccca617b7728c8914c0.py::test_equality "
     ]
    },
    {
     "name": "stdout",
     "output_type": "stream",
     "text": [
      "\u001b[32mPASSED\u001b[0m\u001b[32m                                  [ 66%]\u001b[0m"
     ]
    },
    {
     "name": "stdout",
     "output_type": "stream",
     "text": [
      "\n",
      "t_142f548a07c04ccca617b7728c8914c0.py::test_franc_multiplication "
     ]
    },
    {
     "name": "stdout",
     "output_type": "stream",
     "text": [
      "\u001b[32mPASSED\u001b[0m\u001b[32m                      [100%]\u001b[0m"
     ]
    },
    {
     "name": "stdout",
     "output_type": "stream",
     "text": [
      "\n",
      "\n",
      "\u001b[32m======================================== \u001b[32m\u001b[1m3 passed\u001b[0m\u001b[32m in 0.01s\u001b[0m\u001b[32m =========================================\u001b[0m\n"
     ]
    },
    {
     "data": {
      "text/plain": [
       "<ExitCode.OK: 0>"
      ]
     },
     "execution_count": 47,
     "metadata": {},
     "output_type": "execute_result"
    }
   ],
   "source": [
    "ipytest.run('-vv')  # '-vv' for increased verbosity"
   ]
  },
  {
   "cell_type": "code",
   "execution_count": 48,
   "metadata": {},
   "outputs": [],
   "source": [
    "class Dollar(Money):\n",
    "    def __init__(self, amount):\n",
    "        self._amount = amount\n",
    "    \n",
    "    def times(self, multiplier):\n",
    "        return Dollar(self._amount * multiplier)\n",
    "    \n",
    "    def __eq__(self, other):\n",
    "        return self._amount == other._amount"
   ]
  },
  {
   "cell_type": "code",
   "execution_count": 49,
   "metadata": {},
   "outputs": [
    {
     "name": "stdout",
     "output_type": "stream",
     "text": [
      "\u001b[1m======================================= test session starts ========================================\u001b[0m"
     ]
    },
    {
     "name": "stdout",
     "output_type": "stream",
     "text": [
      "\n",
      "platform linux -- Python 3.10.4, pytest-8.0.0, pluggy-1.4.0 -- /home/callaram/.conda/envs/jupyterbook/bin/python\n",
      "cachedir: .pytest_cache\n",
      "rootdir: /home/callaram/tds/msdp-book/ch3\n",
      "\u001b[1mcollecting ... \u001b[0m"
     ]
    },
    {
     "name": "stdout",
     "output_type": "stream",
     "text": [
      "collected 3 items\n",
      "\n",
      "t_142f548a07c04ccca617b7728c8914c0.py::test_multiplication "
     ]
    },
    {
     "name": "stdout",
     "output_type": "stream",
     "text": [
      "\u001b[32mPASSED\u001b[0m\u001b[32m                            [ 33%]\u001b[0m"
     ]
    },
    {
     "name": "stdout",
     "output_type": "stream",
     "text": [
      "\n",
      "t_142f548a07c04ccca617b7728c8914c0.py::test_equality "
     ]
    },
    {
     "name": "stdout",
     "output_type": "stream",
     "text": [
      "\u001b[32mPASSED\u001b[0m\u001b[32m                                  [ 66%]\u001b[0m"
     ]
    },
    {
     "name": "stdout",
     "output_type": "stream",
     "text": [
      "\n",
      "t_142f548a07c04ccca617b7728c8914c0.py::test_franc_multiplication "
     ]
    },
    {
     "name": "stdout",
     "output_type": "stream",
     "text": [
      "\u001b[32mPASSED\u001b[0m\u001b[32m                      [100%]\u001b[0m"
     ]
    },
    {
     "name": "stdout",
     "output_type": "stream",
     "text": [
      "\n",
      "\n",
      "\u001b[32m======================================== \u001b[32m\u001b[1m3 passed\u001b[0m\u001b[32m in 0.01s\u001b[0m\u001b[32m =========================================\u001b[0m\n"
     ]
    },
    {
     "data": {
      "text/plain": [
       "<ExitCode.OK: 0>"
      ]
     },
     "execution_count": 49,
     "metadata": {},
     "output_type": "execute_result"
    }
   ],
   "source": [
    "ipytest.run('-vv')  # '-vv' for increased verbosity"
   ]
  },
  {
   "cell_type": "code",
   "execution_count": 50,
   "metadata": {},
   "outputs": [],
   "source": [
    "class Money:\n",
    "    def __init__(self, amount):\n",
    "        self._amount = amount\n",
    "\n",
    "class Dollar(Money):\n",
    "    def times(self, multiplier):\n",
    "        return Dollar(self._amount * multiplier)\n",
    "    \n",
    "    def __eq__(self, other):\n",
    "        return self._amount == other._amount"
   ]
  },
  {
   "cell_type": "code",
   "execution_count": 51,
   "metadata": {},
   "outputs": [
    {
     "name": "stdout",
     "output_type": "stream",
     "text": [
      "\u001b[1m======================================= test session starts ========================================\u001b[0m"
     ]
    },
    {
     "name": "stdout",
     "output_type": "stream",
     "text": [
      "\n",
      "platform linux -- Python 3.10.4, pytest-8.0.0, pluggy-1.4.0 -- /home/callaram/.conda/envs/jupyterbook/bin/python\n",
      "cachedir: .pytest_cache\n",
      "rootdir: /home/callaram/tds/msdp-book/ch3\n",
      "\u001b[1mcollecting ... \u001b[0m"
     ]
    },
    {
     "name": "stdout",
     "output_type": "stream",
     "text": [
      "collected 3 items"
     ]
    },
    {
     "name": "stdout",
     "output_type": "stream",
     "text": [
      "\n",
      "\n",
      "t_142f548a07c04ccca617b7728c8914c0.py::test_multiplication "
     ]
    },
    {
     "name": "stdout",
     "output_type": "stream",
     "text": [
      "\u001b[32mPASSED\u001b[0m\u001b[32m                            [ 33%]\u001b[0m"
     ]
    },
    {
     "name": "stdout",
     "output_type": "stream",
     "text": [
      "\n",
      "t_142f548a07c04ccca617b7728c8914c0.py::test_equality "
     ]
    },
    {
     "name": "stdout",
     "output_type": "stream",
     "text": [
      "\u001b[32mPASSED\u001b[0m\u001b[32m                                  [ 66%]\u001b[0m"
     ]
    },
    {
     "name": "stdout",
     "output_type": "stream",
     "text": [
      "\n",
      "t_142f548a07c04ccca617b7728c8914c0.py::test_franc_multiplication "
     ]
    },
    {
     "name": "stdout",
     "output_type": "stream",
     "text": [
      "\u001b[32mPASSED\u001b[0m\u001b[32m                      [100%]\u001b[0m"
     ]
    },
    {
     "name": "stdout",
     "output_type": "stream",
     "text": [
      "\n",
      "\n",
      "\u001b[32m======================================== \u001b[32m\u001b[1m3 passed\u001b[0m\u001b[32m in 0.01s\u001b[0m\u001b[32m =========================================\u001b[0m\n"
     ]
    },
    {
     "data": {
      "text/plain": [
       "<ExitCode.OK: 0>"
      ]
     },
     "execution_count": 51,
     "metadata": {},
     "output_type": "execute_result"
    }
   ],
   "source": [
    "ipytest.run('-vv')  # '-vv' for increased verbosity"
   ]
  },
  {
   "cell_type": "code",
   "execution_count": 52,
   "metadata": {},
   "outputs": [],
   "source": [
    "class Money:\n",
    "    def __init__(self, amount):\n",
    "        self._amount = amount\n",
    "    \n",
    "    def __eq__(self, other):\n",
    "        return self._amount == other._amount\n",
    "\n",
    "class Dollar(Money):\n",
    "    def times(self, multiplier):\n",
    "        return Dollar(self._amount * multiplier)"
   ]
  },
  {
   "cell_type": "code",
   "execution_count": 53,
   "metadata": {},
   "outputs": [
    {
     "name": "stdout",
     "output_type": "stream",
     "text": [
      "\u001b[1m======================================= test session starts ========================================\u001b[0m"
     ]
    },
    {
     "name": "stdout",
     "output_type": "stream",
     "text": [
      "\n",
      "platform linux -- Python 3.10.4, pytest-8.0.0, pluggy-1.4.0 -- /home/callaram/.conda/envs/jupyterbook/bin/python\n",
      "cachedir: .pytest_cache\n",
      "rootdir: /home/callaram/tds/msdp-book/ch3\n",
      "\u001b[1mcollecting ... \u001b[0m"
     ]
    },
    {
     "name": "stdout",
     "output_type": "stream",
     "text": [
      "collected 3 items"
     ]
    },
    {
     "name": "stdout",
     "output_type": "stream",
     "text": [
      "\n",
      "\n",
      "t_142f548a07c04ccca617b7728c8914c0.py::test_multiplication "
     ]
    },
    {
     "name": "stdout",
     "output_type": "stream",
     "text": [
      "\u001b[32mPASSED\u001b[0m\u001b[32m                            [ 33%]\u001b[0m"
     ]
    },
    {
     "name": "stdout",
     "output_type": "stream",
     "text": [
      "\n",
      "t_142f548a07c04ccca617b7728c8914c0.py::test_equality "
     ]
    },
    {
     "name": "stdout",
     "output_type": "stream",
     "text": [
      "\u001b[32mPASSED\u001b[0m\u001b[32m                                  [ 66%]\u001b[0m"
     ]
    },
    {
     "name": "stdout",
     "output_type": "stream",
     "text": [
      "\n",
      "t_142f548a07c04ccca617b7728c8914c0.py::test_franc_multiplication "
     ]
    },
    {
     "name": "stdout",
     "output_type": "stream",
     "text": [
      "\u001b[32mPASSED\u001b[0m\u001b[32m                      [100%]\u001b[0m"
     ]
    },
    {
     "name": "stdout",
     "output_type": "stream",
     "text": [
      "\n",
      "\n",
      "\u001b[32m======================================== \u001b[32m\u001b[1m3 passed\u001b[0m\u001b[32m in 0.01s\u001b[0m\u001b[32m =========================================\u001b[0m\n"
     ]
    },
    {
     "data": {
      "text/plain": [
       "<ExitCode.OK: 0>"
      ]
     },
     "execution_count": 53,
     "metadata": {},
     "output_type": "execute_result"
    }
   ],
   "source": [
    "ipytest.run('-vv')  # '-vv' for increased verbosity"
   ]
  },
  {
   "cell_type": "code",
   "execution_count": 54,
   "metadata": {},
   "outputs": [],
   "source": [
    "def test_equality():\n",
    "    assert Dollar(5) == Dollar(5)\n",
    "    assert Dollar(5) != Dollar(6)\n",
    "    assert Franc(5) == Franc(5)\n",
    "    assert Franc(5) != Franc(6)"
   ]
  },
  {
   "cell_type": "code",
   "execution_count": 55,
   "metadata": {},
   "outputs": [
    {
     "name": "stdout",
     "output_type": "stream",
     "text": [
      "\u001b[1m======================================= test session starts ========================================\u001b[0m"
     ]
    },
    {
     "name": "stdout",
     "output_type": "stream",
     "text": [
      "\n",
      "platform linux -- Python 3.10.4, pytest-8.0.0, pluggy-1.4.0 -- /home/callaram/.conda/envs/jupyterbook/bin/python\n",
      "cachedir: .pytest_cache\n",
      "rootdir: /home/callaram/tds/msdp-book/ch3\n",
      "\u001b[1mcollecting ... \u001b[0m"
     ]
    },
    {
     "name": "stdout",
     "output_type": "stream",
     "text": [
      "collected 3 items\n",
      "\n",
      "t_142f548a07c04ccca617b7728c8914c0.py::test_multiplication "
     ]
    },
    {
     "name": "stdout",
     "output_type": "stream",
     "text": [
      "\u001b[32mPASSED\u001b[0m\u001b[32m                            [ 33%]\u001b[0m"
     ]
    },
    {
     "name": "stdout",
     "output_type": "stream",
     "text": [
      "\n",
      "t_142f548a07c04ccca617b7728c8914c0.py::test_equality "
     ]
    },
    {
     "name": "stdout",
     "output_type": "stream",
     "text": [
      "\u001b[32mPASSED\u001b[0m\u001b[32m                                  [ 66%]\u001b[0m"
     ]
    },
    {
     "name": "stdout",
     "output_type": "stream",
     "text": [
      "\n",
      "t_142f548a07c04ccca617b7728c8914c0.py::test_franc_multiplication "
     ]
    },
    {
     "name": "stdout",
     "output_type": "stream",
     "text": [
      "\u001b[32mPASSED\u001b[0m\u001b[32m                      [100%]\u001b[0m"
     ]
    },
    {
     "name": "stdout",
     "output_type": "stream",
     "text": [
      "\n",
      "\n",
      "\u001b[32m======================================== \u001b[32m\u001b[1m3 passed\u001b[0m\u001b[32m in 0.01s\u001b[0m\u001b[32m =========================================\u001b[0m\n"
     ]
    },
    {
     "data": {
      "text/plain": [
       "<ExitCode.OK: 0>"
      ]
     },
     "execution_count": 55,
     "metadata": {},
     "output_type": "execute_result"
    }
   ],
   "source": [
    "ipytest.run('-vv')  # '-vv' for increased verbosity"
   ]
  },
  {
   "cell_type": "code",
   "execution_count": 56,
   "metadata": {},
   "outputs": [],
   "source": [
    "class Money:\n",
    "    def __init__(self, amount):\n",
    "        self._amount = amount\n",
    "    \n",
    "    def __eq__(self, other):\n",
    "        return self._amount == other._amount\n",
    "\n",
    "class Dollar(Money):\n",
    "    def times(self, multiplier):\n",
    "        return Dollar(self._amount * multiplier)\n",
    "    \n",
    "class Franc(Money):\n",
    "    def times(self, multiplier):\n",
    "        return Franc(self._amount * multiplier)"
   ]
  },
  {
   "cell_type": "code",
   "execution_count": 57,
   "metadata": {},
   "outputs": [
    {
     "name": "stdout",
     "output_type": "stream",
     "text": [
      "\u001b[1m======================================= test session starts ========================================\u001b[0m"
     ]
    },
    {
     "name": "stdout",
     "output_type": "stream",
     "text": [
      "\n",
      "platform linux -- Python 3.10.4, pytest-8.0.0, pluggy-1.4.0 -- /home/callaram/.conda/envs/jupyterbook/bin/python\n",
      "cachedir: .pytest_cache\n",
      "rootdir: /home/callaram/tds/msdp-book/ch3\n",
      "\u001b[1mcollecting ... \u001b[0m"
     ]
    },
    {
     "name": "stdout",
     "output_type": "stream",
     "text": [
      "collected 3 items\n",
      "\n",
      "t_142f548a07c04ccca617b7728c8914c0.py::test_multiplication "
     ]
    },
    {
     "name": "stdout",
     "output_type": "stream",
     "text": [
      "\u001b[32mPASSED\u001b[0m\u001b[32m                            [ 33%]\u001b[0m"
     ]
    },
    {
     "name": "stdout",
     "output_type": "stream",
     "text": [
      "\n",
      "t_142f548a07c04ccca617b7728c8914c0.py::test_equality "
     ]
    },
    {
     "name": "stdout",
     "output_type": "stream",
     "text": [
      "\u001b[32mPASSED\u001b[0m\u001b[32m                                  [ 66%]\u001b[0m"
     ]
    },
    {
     "name": "stdout",
     "output_type": "stream",
     "text": [
      "\n",
      "t_142f548a07c04ccca617b7728c8914c0.py::test_franc_multiplication "
     ]
    },
    {
     "name": "stdout",
     "output_type": "stream",
     "text": [
      "\u001b[32mPASSED\u001b[0m\u001b[32m                      [100%]\u001b[0m"
     ]
    },
    {
     "name": "stdout",
     "output_type": "stream",
     "text": [
      "\n",
      "\n",
      "\u001b[32m======================================== \u001b[32m\u001b[1m3 passed\u001b[0m\u001b[32m in 0.01s\u001b[0m\u001b[32m =========================================\u001b[0m\n"
     ]
    },
    {
     "data": {
      "text/plain": [
       "<ExitCode.OK: 0>"
      ]
     },
     "execution_count": 57,
     "metadata": {},
     "output_type": "execute_result"
    }
   ],
   "source": [
    "ipytest.run('-vv')  # '-vv' for increased verbosity"
   ]
  },
  {
   "cell_type": "code",
   "execution_count": 58,
   "metadata": {},
   "outputs": [],
   "source": [
    "def test_equality():\n",
    "    assert Dollar(5) == Dollar(5)\n",
    "    assert Dollar(5) != Dollar(6)\n",
    "    assert Franc(5) == Franc(5)\n",
    "    assert Franc(5) != Franc(6)\n",
    "    assert Dollar(5) != Franc(5)"
   ]
  },
  {
   "cell_type": "code",
   "execution_count": 59,
   "metadata": {},
   "outputs": [
    {
     "name": "stdout",
     "output_type": "stream",
     "text": [
      "\u001b[1m======================================= test session starts ========================================\u001b[0m"
     ]
    },
    {
     "name": "stdout",
     "output_type": "stream",
     "text": [
      "\n",
      "platform linux -- Python 3.10.4, pytest-8.0.0, pluggy-1.4.0 -- /home/callaram/.conda/envs/jupyterbook/bin/python\n",
      "cachedir: .pytest_cache\n",
      "rootdir: /home/callaram/tds/msdp-book/ch3\n",
      "\u001b[1mcollecting ... \u001b[0m"
     ]
    },
    {
     "name": "stdout",
     "output_type": "stream",
     "text": [
      "collected 3 items\n",
      "\n",
      "t_142f548a07c04ccca617b7728c8914c0.py::test_multiplication "
     ]
    },
    {
     "name": "stdout",
     "output_type": "stream",
     "text": [
      "\u001b[32mPASSED\u001b[0m\u001b[32m                            [ 33%]\u001b[0m"
     ]
    },
    {
     "name": "stdout",
     "output_type": "stream",
     "text": [
      "\n",
      "t_142f548a07c04ccca617b7728c8914c0.py::test_equality "
     ]
    },
    {
     "name": "stdout",
     "output_type": "stream",
     "text": [
      "\u001b[31mFAILED\u001b[0m\u001b[31m                                  [ 66%]\u001b[0m"
     ]
    },
    {
     "name": "stdout",
     "output_type": "stream",
     "text": [
      "\n",
      "t_142f548a07c04ccca617b7728c8914c0.py::test_franc_multiplication "
     ]
    },
    {
     "name": "stdout",
     "output_type": "stream",
     "text": [
      "\u001b[32mPASSED\u001b[0m\u001b[31m                      [100%]\u001b[0m"
     ]
    },
    {
     "name": "stdout",
     "output_type": "stream",
     "text": [
      "\n",
      "\n",
      "============================================= FAILURES =============================================\n",
      "\u001b[31m\u001b[1m__________________________________________ test_equality ___________________________________________\u001b[0m\n",
      "\n",
      "    \u001b[0m\u001b[94mdef\u001b[39;49;00m \u001b[92mtest_equality\u001b[39;49;00m():\u001b[90m\u001b[39;49;00m\n",
      "        \u001b[94massert\u001b[39;49;00m Dollar(\u001b[94m5\u001b[39;49;00m) == Dollar(\u001b[94m5\u001b[39;49;00m)\u001b[90m\u001b[39;49;00m\n",
      "        \u001b[94massert\u001b[39;49;00m Dollar(\u001b[94m5\u001b[39;49;00m) != Dollar(\u001b[94m6\u001b[39;49;00m)\u001b[90m\u001b[39;49;00m\n",
      "        \u001b[94massert\u001b[39;49;00m Franc(\u001b[94m5\u001b[39;49;00m) == Franc(\u001b[94m5\u001b[39;49;00m)\u001b[90m\u001b[39;49;00m\n",
      "        \u001b[94massert\u001b[39;49;00m Franc(\u001b[94m5\u001b[39;49;00m) != Franc(\u001b[94m6\u001b[39;49;00m)\u001b[90m\u001b[39;49;00m\n",
      ">       \u001b[94massert\u001b[39;49;00m Dollar(\u001b[94m5\u001b[39;49;00m) != Franc(\u001b[94m5\u001b[39;49;00m)\u001b[90m\u001b[39;49;00m\n",
      "\u001b[1m\u001b[31mE       assert <__main__.Dollar object at 0x14c0b43fc0d0> != <__main__.Franc object at 0x14c0b43fc100>\u001b[0m\n",
      "\u001b[1m\u001b[31mE        +  where <__main__.Dollar object at 0x14c0b43fc0d0> = Dollar(5)\u001b[0m\n",
      "\u001b[1m\u001b[31mE        +  and   <__main__.Franc object at 0x14c0b43fc100> = Franc(5)\u001b[0m\n",
      "\n",
      "\u001b[1m\u001b[31m/tmp/ipykernel_1770687/4073365173.py\u001b[0m:6: AssertionError\n",
      "\u001b[36m\u001b[1m===================================== short test summary info ======================================\u001b[0m\n",
      "\u001b[31mFAILED\u001b[0m t_142f548a07c04ccca617b7728c8914c0.py::\u001b[1mtest_equality\u001b[0m - assert <__main__.Dollar object at 0x14c0b43fc0d0> != <__main__.Franc object at 0x14c0b43fc100>\n",
      "\u001b[31m=================================== \u001b[31m\u001b[1m1 failed\u001b[0m, \u001b[32m2 passed\u001b[0m\u001b[31m in 0.01s\u001b[0m\u001b[31m ====================================\u001b[0m\n"
     ]
    },
    {
     "data": {
      "text/plain": [
       "<ExitCode.TESTS_FAILED: 1>"
      ]
     },
     "execution_count": 59,
     "metadata": {},
     "output_type": "execute_result"
    }
   ],
   "source": [
    "ipytest.run('-vv')  # '-vv' for increased verbosity"
   ]
  },
  {
   "cell_type": "code",
   "execution_count": 60,
   "metadata": {},
   "outputs": [],
   "source": [
    "class Money:\n",
    "    def __init__(self, amount):\n",
    "        self._amount = amount\n",
    "    \n",
    "    def __eq__(self, other):\n",
    "        return self._amount == other._amount and type(self) == type(other)\n",
    "\n",
    "class Dollar(Money):\n",
    "    def times(self, multiplier):\n",
    "        return Dollar(self._amount * multiplier)\n",
    "    \n",
    "class Franc(Money):\n",
    "    def times(self, multiplier):\n",
    "        return Franc(self._amount * multiplier)"
   ]
  },
  {
   "cell_type": "code",
   "execution_count": 61,
   "metadata": {},
   "outputs": [
    {
     "name": "stdout",
     "output_type": "stream",
     "text": [
      "\u001b[1m======================================= test session starts ========================================\u001b[0m\n",
      "platform linux -- Python 3.10.4, pytest-8.0.0, pluggy-1.4.0 -- /home/callaram/.conda/envs/jupyterbook/bin/python\n",
      "cachedir: .pytest_cache\n",
      "rootdir: /home/callaram/tds/msdp-book/ch3\n",
      "\u001b[1mcollecting ... \u001b[0m"
     ]
    },
    {
     "name": "stdout",
     "output_type": "stream",
     "text": [
      "collected 3 items\n",
      "\n",
      "t_142f548a07c04ccca617b7728c8914c0.py::test_multiplication "
     ]
    },
    {
     "name": "stdout",
     "output_type": "stream",
     "text": [
      "\u001b[32mPASSED\u001b[0m\u001b[32m                            [ 33%]\u001b[0m"
     ]
    },
    {
     "name": "stdout",
     "output_type": "stream",
     "text": [
      "\n",
      "t_142f548a07c04ccca617b7728c8914c0.py::test_equality "
     ]
    },
    {
     "name": "stdout",
     "output_type": "stream",
     "text": [
      "\u001b[32mPASSED\u001b[0m\u001b[32m                                  [ 66%]\u001b[0m"
     ]
    },
    {
     "name": "stdout",
     "output_type": "stream",
     "text": [
      "\n",
      "t_142f548a07c04ccca617b7728c8914c0.py::test_franc_multiplication "
     ]
    },
    {
     "name": "stdout",
     "output_type": "stream",
     "text": [
      "\u001b[32mPASSED\u001b[0m\u001b[32m                      [100%]\u001b[0m"
     ]
    },
    {
     "name": "stdout",
     "output_type": "stream",
     "text": [
      "\n",
      "\n",
      "\u001b[32m======================================== \u001b[32m\u001b[1m3 passed\u001b[0m\u001b[32m in 0.01s\u001b[0m\u001b[32m =========================================\u001b[0m\n"
     ]
    },
    {
     "data": {
      "text/plain": [
       "<ExitCode.OK: 0>"
      ]
     },
     "execution_count": 61,
     "metadata": {},
     "output_type": "execute_result"
    }
   ],
   "source": [
    "ipytest.run('-vv')  # '-vv' for increased verbosity"
   ]
  },
  {
   "cell_type": "code",
   "execution_count": 62,
   "metadata": {},
   "outputs": [],
   "source": [
    "def test_multiplication():\n",
    "    # test that you can multiply a Dollar by a number and get the right amount.\n",
    "    five = Money.dollar(5)\n",
    "    assert Dollar(10) == five.times(2)\n",
    "    assert Dollar(15) == five.times(3)"
   ]
  },
  {
   "cell_type": "code",
   "execution_count": 63,
   "metadata": {},
   "outputs": [
    {
     "name": "stdout",
     "output_type": "stream",
     "text": [
      "\u001b[1m======================================= test session starts ========================================\u001b[0m\n",
      "platform linux -- Python 3.10.4, pytest-8.0.0, pluggy-1.4.0 -- /home/callaram/.conda/envs/jupyterbook/bin/python\n",
      "cachedir: .pytest_cache\n",
      "rootdir: /home/callaram/tds/msdp-book/ch3\n",
      "\u001b[1mcollecting ... \u001b[0m"
     ]
    },
    {
     "name": "stdout",
     "output_type": "stream",
     "text": [
      "collected 3 items\n",
      "\n",
      "t_142f548a07c04ccca617b7728c8914c0.py::test_multiplication "
     ]
    },
    {
     "name": "stdout",
     "output_type": "stream",
     "text": [
      "\u001b[31mFAILED\u001b[0m\u001b[31m                            [ 33%]\u001b[0m"
     ]
    },
    {
     "name": "stdout",
     "output_type": "stream",
     "text": [
      "\n",
      "t_142f548a07c04ccca617b7728c8914c0.py::test_equality "
     ]
    },
    {
     "name": "stdout",
     "output_type": "stream",
     "text": [
      "\u001b[32mPASSED\u001b[0m\u001b[31m                                  [ 66%]\u001b[0m"
     ]
    },
    {
     "name": "stdout",
     "output_type": "stream",
     "text": [
      "\n",
      "t_142f548a07c04ccca617b7728c8914c0.py::test_franc_multiplication "
     ]
    },
    {
     "name": "stdout",
     "output_type": "stream",
     "text": [
      "\u001b[32mPASSED\u001b[0m\u001b[31m                      [100%]\u001b[0m"
     ]
    },
    {
     "name": "stdout",
     "output_type": "stream",
     "text": [
      "\n",
      "\n",
      "============================================= FAILURES =============================================\n",
      "\u001b[31m\u001b[1m_______________________________________ test_multiplication ________________________________________\u001b[0m\n",
      "\n",
      "    \u001b[0m\u001b[94mdef\u001b[39;49;00m \u001b[92mtest_multiplication\u001b[39;49;00m():\u001b[90m\u001b[39;49;00m\n",
      "        \u001b[90m# test that you can multiply a Dollar by a number and get the right amount.\u001b[39;49;00m\u001b[90m\u001b[39;49;00m\n",
      ">       five = Money.dollar(\u001b[94m5\u001b[39;49;00m)\u001b[90m\u001b[39;49;00m\n",
      "\u001b[1m\u001b[31mE       AttributeError: type object 'Money' has no attribute 'dollar'\u001b[0m\n",
      "\n",
      "\u001b[1m\u001b[31m/tmp/ipykernel_1770687/744221130.py\u001b[0m:3: AttributeError\n",
      "\u001b[36m\u001b[1m===================================== short test summary info ======================================\u001b[0m\n",
      "\u001b[31mFAILED\u001b[0m t_142f548a07c04ccca617b7728c8914c0.py::\u001b[1mtest_multiplication\u001b[0m - AttributeError: type object 'Money' has no attribute 'dollar'\n",
      "\u001b[31m=================================== \u001b[31m\u001b[1m1 failed\u001b[0m, \u001b[32m2 passed\u001b[0m\u001b[31m in 0.01s\u001b[0m\u001b[31m ====================================\u001b[0m\n"
     ]
    },
    {
     "data": {
      "text/plain": [
       "<ExitCode.TESTS_FAILED: 1>"
      ]
     },
     "execution_count": 63,
     "metadata": {},
     "output_type": "execute_result"
    }
   ],
   "source": [
    "ipytest.run('-vv')  # '-vv' for increased verbosity"
   ]
  },
  {
   "cell_type": "code",
   "execution_count": 64,
   "metadata": {},
   "outputs": [],
   "source": [
    "class Money:\n",
    "    def __init__(self, amount):\n",
    "        self._amount = amount\n",
    "    \n",
    "    def __eq__(self, other):\n",
    "        return self._amount == other._amount and type(self) == type(other)\n",
    "    \n",
    "    def dollar(amount):\n",
    "        return Dollar(amount)\n",
    "\n",
    "class Dollar(Money):\n",
    "    def times(self, multiplier):\n",
    "        return Dollar(self._amount * multiplier)\n",
    "    \n",
    "class Franc(Money):\n",
    "    def times(self, multiplier):\n",
    "        return Franc(self._amount * multiplier)"
   ]
  },
  {
   "cell_type": "code",
   "execution_count": 65,
   "metadata": {},
   "outputs": [
    {
     "name": "stdout",
     "output_type": "stream",
     "text": [
      "\u001b[1m======================================= test session starts ========================================\u001b[0m\n",
      "platform linux -- Python 3.10.4, pytest-8.0.0, pluggy-1.4.0 -- /home/callaram/.conda/envs/jupyterbook/bin/python\n",
      "cachedir: .pytest_cache\n",
      "rootdir: /home/callaram/tds/msdp-book/ch3\n",
      "\u001b[1mcollecting ... \u001b[0m"
     ]
    },
    {
     "name": "stdout",
     "output_type": "stream",
     "text": [
      "collected 3 items\n",
      "\n",
      "t_142f548a07c04ccca617b7728c8914c0.py::test_multiplication "
     ]
    },
    {
     "name": "stdout",
     "output_type": "stream",
     "text": [
      "\u001b[32mPASSED\u001b[0m\u001b[32m                            [ 33%]\u001b[0m"
     ]
    },
    {
     "name": "stdout",
     "output_type": "stream",
     "text": [
      "\n",
      "t_142f548a07c04ccca617b7728c8914c0.py::test_equality "
     ]
    },
    {
     "name": "stdout",
     "output_type": "stream",
     "text": [
      "\u001b[32mPASSED\u001b[0m\u001b[32m                                  [ 66%]\u001b[0m"
     ]
    },
    {
     "name": "stdout",
     "output_type": "stream",
     "text": [
      "\n",
      "t_142f548a07c04ccca617b7728c8914c0.py::test_franc_multiplication "
     ]
    },
    {
     "name": "stdout",
     "output_type": "stream",
     "text": [
      "\u001b[32mPASSED\u001b[0m\u001b[32m                      [100%]\u001b[0m"
     ]
    },
    {
     "name": "stdout",
     "output_type": "stream",
     "text": [
      "\n",
      "\n",
      "\u001b[32m======================================== \u001b[32m\u001b[1m3 passed\u001b[0m\u001b[32m in 0.01s\u001b[0m\u001b[32m =========================================\u001b[0m\n"
     ]
    },
    {
     "data": {
      "text/plain": [
       "<ExitCode.OK: 0>"
      ]
     },
     "execution_count": 65,
     "metadata": {},
     "output_type": "execute_result"
    }
   ],
   "source": [
    "ipytest.run('-vv')  # '-vv' for increased verbosity"
   ]
  },
  {
   "cell_type": "code",
   "execution_count": 66,
   "metadata": {},
   "outputs": [],
   "source": [
    "class Money:\n",
    "    def __init__(self, amount):\n",
    "        self._amount = amount\n",
    "    \n",
    "    def __eq__(self, other):\n",
    "        return self._amount == other._amount and type(self) == type(other)\n",
    "    \n",
    "    def dollar(amount):\n",
    "        return Money(amount)\n",
    "\n",
    "class Dollar(Money):\n",
    "    def times(self, multiplier):\n",
    "        return Dollar(self._amount * multiplier)\n",
    "    \n",
    "class Franc(Money):\n",
    "    def times(self, multiplier):\n",
    "        return Franc(self._amount * multiplier)"
   ]
  },
  {
   "cell_type": "code",
   "execution_count": 67,
   "metadata": {},
   "outputs": [
    {
     "name": "stdout",
     "output_type": "stream",
     "text": [
      "\u001b[1m======================================= test session starts ========================================\u001b[0m\n",
      "platform linux -- Python 3.10.4, pytest-8.0.0, pluggy-1.4.0 -- /home/callaram/.conda/envs/jupyterbook/bin/python\n",
      "cachedir: .pytest_cache\n",
      "rootdir: /home/callaram/tds/msdp-book/ch3\n",
      "\u001b[1mcollecting ... \u001b[0m"
     ]
    },
    {
     "name": "stdout",
     "output_type": "stream",
     "text": [
      "collected 3 items\n",
      "\n",
      "t_142f548a07c04ccca617b7728c8914c0.py::test_multiplication "
     ]
    },
    {
     "name": "stdout",
     "output_type": "stream",
     "text": [
      "\u001b[31mFAILED\u001b[0m\u001b[31m                            [ 33%]\u001b[0m"
     ]
    },
    {
     "name": "stdout",
     "output_type": "stream",
     "text": [
      "\n",
      "t_142f548a07c04ccca617b7728c8914c0.py::test_equality "
     ]
    },
    {
     "name": "stdout",
     "output_type": "stream",
     "text": [
      "\u001b[32mPASSED\u001b[0m\u001b[31m                                  [ 66%]\u001b[0m"
     ]
    },
    {
     "name": "stdout",
     "output_type": "stream",
     "text": [
      "\n",
      "t_142f548a07c04ccca617b7728c8914c0.py::test_franc_multiplication "
     ]
    },
    {
     "name": "stdout",
     "output_type": "stream",
     "text": [
      "\u001b[32mPASSED\u001b[0m\u001b[31m                      [100%]\u001b[0m"
     ]
    },
    {
     "name": "stdout",
     "output_type": "stream",
     "text": [
      "\n",
      "\n",
      "============================================= FAILURES =============================================\n",
      "\u001b[31m\u001b[1m_______________________________________ test_multiplication ________________________________________\u001b[0m\n",
      "\n",
      "    \u001b[0m\u001b[94mdef\u001b[39;49;00m \u001b[92mtest_multiplication\u001b[39;49;00m():\u001b[90m\u001b[39;49;00m\n",
      "        \u001b[90m# test that you can multiply a Dollar by a number and get the right amount.\u001b[39;49;00m\u001b[90m\u001b[39;49;00m\n",
      "        five = Money.dollar(\u001b[94m5\u001b[39;49;00m)\u001b[90m\u001b[39;49;00m\n",
      ">       \u001b[94massert\u001b[39;49;00m Dollar(\u001b[94m10\u001b[39;49;00m) == five.times(\u001b[94m2\u001b[39;49;00m)\u001b[90m\u001b[39;49;00m\n",
      "\u001b[1m\u001b[31mE       AttributeError: 'Money' object has no attribute 'times'\u001b[0m\n",
      "\n",
      "\u001b[1m\u001b[31m/tmp/ipykernel_1770687/744221130.py\u001b[0m:4: AttributeError\n",
      "\u001b[36m\u001b[1m===================================== short test summary info ======================================\u001b[0m\n",
      "\u001b[31mFAILED\u001b[0m t_142f548a07c04ccca617b7728c8914c0.py::\u001b[1mtest_multiplication\u001b[0m - AttributeError: 'Money' object has no attribute 'times'\n",
      "\u001b[31m=================================== \u001b[31m\u001b[1m1 failed\u001b[0m, \u001b[32m2 passed\u001b[0m\u001b[31m in 0.01s\u001b[0m\u001b[31m ====================================\u001b[0m\n"
     ]
    },
    {
     "data": {
      "text/plain": [
       "<ExitCode.TESTS_FAILED: 1>"
      ]
     },
     "execution_count": 67,
     "metadata": {},
     "output_type": "execute_result"
    }
   ],
   "source": [
    "ipytest.run('-vv')  # '-vv' for increased verbosity"
   ]
  },
  {
   "cell_type": "code",
   "execution_count": 68,
   "metadata": {},
   "outputs": [],
   "source": [
    "def test_multiplication():\n",
    "    # test that you can multiply a Dollar by a number and get the right amount.\n",
    "    five = Money.dollar(5)\n",
    "    assert Money.dollar(10) == five.times(2)\n",
    "    assert Money.dollar(15) == five.times(3)\n",
    "\n",
    "def test_equality():\n",
    "    assert Money.dollar(5) == Money.dollar(5)\n",
    "    assert Money.dollar(5) != Money.dollar(6)\n",
    "    assert Franc(5) == Franc(5)\n",
    "    assert Franc(5) != Franc(6)\n",
    "    assert Money.dollar(5) != Franc(5)"
   ]
  },
  {
   "cell_type": "code",
   "execution_count": 69,
   "metadata": {},
   "outputs": [
    {
     "name": "stdout",
     "output_type": "stream",
     "text": [
      "\u001b[1m======================================= test session starts ========================================\u001b[0m\n",
      "platform linux -- Python 3.10.4, pytest-8.0.0, pluggy-1.4.0 -- /home/callaram/.conda/envs/jupyterbook/bin/python\n",
      "cachedir: .pytest_cache\n",
      "rootdir: /home/callaram/tds/msdp-book/ch3\n",
      "\u001b[1mcollecting ... \u001b[0m"
     ]
    },
    {
     "name": "stdout",
     "output_type": "stream",
     "text": [
      "collected 3 items\n",
      "\n",
      "t_142f548a07c04ccca617b7728c8914c0.py::test_multiplication "
     ]
    },
    {
     "name": "stdout",
     "output_type": "stream",
     "text": [
      "\u001b[31mFAILED\u001b[0m"
     ]
    },
    {
     "name": "stdout",
     "output_type": "stream",
     "text": [
      "\u001b[31m                            [ 33%]\u001b[0m"
     ]
    },
    {
     "name": "stdout",
     "output_type": "stream",
     "text": [
      "\n",
      "t_142f548a07c04ccca617b7728c8914c0.py::test_equality "
     ]
    },
    {
     "name": "stdout",
     "output_type": "stream",
     "text": [
      "\u001b[32mPASSED\u001b[0m\u001b[31m                                  [ 66%]\u001b[0m"
     ]
    },
    {
     "name": "stdout",
     "output_type": "stream",
     "text": [
      "\n",
      "t_142f548a07c04ccca617b7728c8914c0.py::test_franc_multiplication "
     ]
    },
    {
     "name": "stdout",
     "output_type": "stream",
     "text": [
      "\u001b[32mPASSED\u001b[0m\u001b[31m                      [100%]\u001b[0m"
     ]
    },
    {
     "name": "stdout",
     "output_type": "stream",
     "text": [
      "\n",
      "\n",
      "============================================= FAILURES =============================================\n",
      "\u001b[31m\u001b[1m_______________________________________ test_multiplication ________________________________________\u001b[0m\n",
      "\n",
      "    \u001b[0m\u001b[94mdef\u001b[39;49;00m \u001b[92mtest_multiplication\u001b[39;49;00m():\u001b[90m\u001b[39;49;00m\n",
      "        \u001b[90m# test that you can multiply a Dollar by a number and get the right amount.\u001b[39;49;00m\u001b[90m\u001b[39;49;00m\n",
      "        five = Money.dollar(\u001b[94m5\u001b[39;49;00m)\u001b[90m\u001b[39;49;00m\n",
      ">       \u001b[94massert\u001b[39;49;00m Money.dollar(\u001b[94m10\u001b[39;49;00m) == five.times(\u001b[94m2\u001b[39;49;00m)\u001b[90m\u001b[39;49;00m\n",
      "\u001b[1m\u001b[31mE       AttributeError: 'Money' object has no attribute 'times'\u001b[0m\n",
      "\n",
      "\u001b[1m\u001b[31m/tmp/ipykernel_1770687/3355800405.py\u001b[0m:4: AttributeError\n",
      "\u001b[36m\u001b[1m===================================== short test summary info ======================================\u001b[0m\n",
      "\u001b[31mFAILED\u001b[0m t_142f548a07c04ccca617b7728c8914c0.py::\u001b[1mtest_multiplication\u001b[0m - AttributeError: 'Money' object has no attribute 'times'\n",
      "\u001b[31m=================================== \u001b[31m\u001b[1m1 failed\u001b[0m, \u001b[32m2 passed\u001b[0m\u001b[31m in 0.01s\u001b[0m\u001b[31m ====================================\u001b[0m\n"
     ]
    },
    {
     "data": {
      "text/plain": [
       "<ExitCode.TESTS_FAILED: 1>"
      ]
     },
     "execution_count": 69,
     "metadata": {},
     "output_type": "execute_result"
    }
   ],
   "source": [
    "ipytest.run('-vv')  # '-vv' for increased verbosity"
   ]
  },
  {
   "cell_type": "code",
   "execution_count": 70,
   "metadata": {},
   "outputs": [],
   "source": [
    "class Money:\n",
    "    def __init__(self, amount):\n",
    "        self._amount = amount\n",
    "    \n",
    "    def __eq__(self, other):\n",
    "        return self._amount == other._amount and type(self) == type(other)\n",
    "    \n",
    "    def dollar(amount):\n",
    "        return Money(amount)\n",
    "\n",
    "class Dollar(Money):\n",
    "    def times(self, multiplier):\n",
    "        return Dollar(self._amount * multiplier)\n",
    "    \n",
    "class Franc(Money):\n",
    "    def times(self, multiplier):\n",
    "        return Franc(self._amount * multiplier)"
   ]
  }
 ],
 "metadata": {
  "kernelspec": {
   "display_name": "jupyterbook",
   "language": "python",
   "name": "python3"
  },
  "language_info": {
   "codemirror_mode": {
    "name": "ipython",
    "version": 3
   },
   "file_extension": ".py",
   "mimetype": "text/x-python",
   "name": "python",
   "nbconvert_exporter": "python",
   "pygments_lexer": "ipython3",
   "version": "3.10.4"
  }
 },
 "nbformat": 4,
 "nbformat_minor": 2
}