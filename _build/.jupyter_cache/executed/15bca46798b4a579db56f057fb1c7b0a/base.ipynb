{
 "cells": [
  {
   "cell_type": "code",
   "execution_count": 1,
   "id": "18508062",
   "metadata": {
    "tags": [
     "remove-input"
    ]
   },
   "outputs": [],
   "source": [
    "import os\n",
    "os.chdir('../home')"
   ]
  },
  {
   "cell_type": "code",
   "execution_count": 2,
   "id": "afb3321c",
   "metadata": {
    "tags": [
     "remove-input"
    ]
   },
   "outputs": [],
   "source": [
    "def test_intersection():\n",
    "    assert intersection((1, 3), (2, 4)) == (2, 3)\n",
    "    assert intersection((1, 3), (4, 6)) == None\n",
    "    assert intersection((1, 3), (3, 6)) == (3, 3)\n",
    "    assert intersection((1, 3), (1, 3)) == (1, 3)\n",
    "    assert intersection((1, 3), (1, 2)) == (1, 2)\n",
    "    assert intersection((1, 3), (2, 3)) == (2, 3)\n",
    "    assert intersection((1, 3), (3, 3)) == (3, 3)\n",
    "    assert intersection((1, 3), (4, 4)) == None\n",
    "    assert intersection((1, 3), (4, 5)) == None\n",
    "    assert intersection((1, 3), (5, 6)) == None\n",
    "    assert intersection((1, 3), (6, 7)) == None\n",
    "    assert intersection((1, 3), (7, 8)) == None\n",
    "    assert intersection((1, 3), (8, 9)) == None\n",
    "    assert intersection((1, 3), (9, 10)) == None\n",
    "    assert intersection((1, 3), (10, 11)) == None\n",
    "    assert intersection((1, 3), (11, 12)) == None\n",
    "    assert intersection((1, 3), (12, 13)) == None\n",
    "    assert intersection((1, 3), (13, 14)) == None\n",
    "    assert intersection((1, 3), (14, 15)) == None\n",
    "    assert intersection((1, 3), (15, 16)) == None\n",
    "    assert intersection((1, 3), (16, 17)) == None\n",
    "    assert intersection((1, 3), (17, 18)) == None\n",
    "    assert intersection((1, 3), (18, 19)) == None\n",
    "    assert intersection((1, 3), (19, 20)) == None\n",
    "    assert intersection((1, 3), (20, 21)) == None\n",
    "    assert intersection((1, 3), (21, 22)) == None\n",
    "    assert intersection"
   ]
  },
  {
   "cell_type": "code",
   "execution_count": 3,
   "id": "06cd3da5",
   "metadata": {},
   "outputs": [
    {
     "ename": "NameError",
     "evalue": "name 'intersection' is not defined",
     "output_type": "error",
     "traceback": [
      "\u001b[0;31m---------------------------------------------------------------------------\u001b[0m",
      "\u001b[0;31mNameError\u001b[0m                                 Traceback (most recent call last)",
      "Cell \u001b[0;32mIn[3], line 1\u001b[0m\n\u001b[0;32m----> 1\u001b[0m \u001b[38;5;28mprint\u001b[39m(\u001b[43mintersection\u001b[49m((\u001b[38;5;241m3\u001b[39m, \u001b[38;5;241m3\u001b[39m), (\u001b[38;5;241m2\u001b[39m, \u001b[38;5;241m6\u001b[39m))) \u001b[38;5;66;03m# \u001b[39;00m\n",
      "\u001b[0;31mNameError\u001b[0m: name 'intersection' is not defined"
     ]
    }
   ],
   "source": [
    "print(intersection((3, 3), (2, 6))) # "
   ]
  },
  {
   "cell_type": "code",
   "execution_count": 4,
   "id": "9fc0f940",
   "metadata": {},
   "outputs": [
    {
     "data": {
      "text/plain": [
       "(3, 3)"
      ]
     },
     "execution_count": 4,
     "metadata": {},
     "output_type": "execute_result"
    }
   ],
   "source": [
    "(3,3)"
   ]
  },
  {
   "cell_type": "code",
   "execution_count": 5,
   "id": "a30c9bc4",
   "metadata": {
    "tags": [
     "remove-input"
    ]
   },
   "outputs": [],
   "source": [
    "def intersection(interval1, interval2):\n",
    "    start1, end1 = interval1\n",
    "    start2, end2 = interval2\n",
    "    start = max(start1, start2)\n",
    "    end = min(end1, end2)\n",
    "    if start > end:\n",
    "        return None\n",
    "    return (start, end)"
   ]
  }
 ],
 "metadata": {
  "jupytext": {
   "formats": "md:myst",
   "text_representation": {
    "extension": ".md",
    "format_name": "myst",
    "format_version": 0.13,
    "jupytext_version": "1.11.5"
   }
  },
  "kernelspec": {
   "display_name": "Python 3",
   "language": "python",
   "name": "python3"
  },
  "language_info": {
   "codemirror_mode": {
    "name": "ipython",
    "version": 3
   },
   "file_extension": ".py",
   "mimetype": "text/x-python",
   "name": "python",
   "nbconvert_exporter": "python",
   "pygments_lexer": "ipython3",
   "version": "3.10.4"
  },
  "source_map": [
   13,
   17,
   21,
   37,
   67,
   72,
   74,
   76,
   78,
   83
  ]
 },
 "nbformat": 4,
 "nbformat_minor": 5
}