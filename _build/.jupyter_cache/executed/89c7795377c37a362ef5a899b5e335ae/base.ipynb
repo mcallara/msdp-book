{
 "cells": [
  {
   "cell_type": "code",
   "execution_count": 1,
   "id": "db511b6c",
   "metadata": {},
   "outputs": [],
   "source": [
    "def add(a, b):\n",
    "    \"\"\"Compute and return the sum of two numbers.\n",
    "\n",
    "    Usage examples:\n",
    "    >>> add(4.0, 2.0)\n",
    "    6.0\n",
    "    \"\"\"\n",
    "    return float(a + b)"
   ]
  },
  {
   "cell_type": "code",
   "execution_count": 2,
   "id": "f06459db",
   "metadata": {},
   "outputs": [
    {
     "data": {
      "text/plain": [
       "TestResults(failed=0, attempted=1)"
      ]
     },
     "execution_count": 2,
     "metadata": {},
     "output_type": "execute_result"
    }
   ],
   "source": [
    "import doctest\n",
    "doctest.testmod()"
   ]
  },
  {
   "cell_type": "code",
   "execution_count": 3,
   "id": "402a07be",
   "metadata": {},
   "outputs": [],
   "source": [
    "def test_multiplication():\n",
    "    five = Dollar(5)\n",
    "    five * 2\n",
    "    assert 10 == five.amount"
   ]
  },
  {
   "cell_type": "code",
   "execution_count": 4,
   "id": "eaec2411",
   "metadata": {
    "tags": [
     "remove-input"
    ]
   },
   "outputs": [],
   "source": [
    "import os\n",
    "os.chdir('../home')"
   ]
  },
  {
   "cell_type": "code",
   "execution_count": 5,
   "id": "1cf0167b",
   "metadata": {},
   "outputs": [],
   "source": [
    "def add(a, b):\n",
    "    \"\"\"Compute and return the sum of two numbers.\n",
    "\n",
    "    Usage examples:\n",
    "    >>> add(4.0, 2.0)\n",
    "    6.0\n",
    "    >>> add(4, 2)\n",
    "    6.0\n",
    "    \"\"\"\n",
    "    return float(a + b)"
   ]
  },
  {
   "cell_type": "code",
   "execution_count": 6,
   "id": "268b2332",
   "metadata": {},
   "outputs": [
    {
     "data": {
      "text/plain": [
       "TestResults(failed=0, attempted=2)"
      ]
     },
     "execution_count": 6,
     "metadata": {},
     "output_type": "execute_result"
    }
   ],
   "source": [
    "import doctest\n",
    "doctest.testmod()"
   ]
  }
 ],
 "metadata": {
  "jupytext": {
   "formats": "md:myst",
   "text_representation": {
    "extension": ".md",
    "format_name": "myst",
    "format_version": 0.13,
    "jupytext_version": "1.11.5"
   }
  },
  "kernelspec": {
   "display_name": "Python 3",
   "language": "python",
   "name": "python3"
  },
  "language_info": {
   "codemirror_mode": {
    "name": "ipython",
    "version": 3
   },
   "file_extension": ".py",
   "mimetype": "text/x-python",
   "name": "python",
   "nbconvert_exporter": "python",
   "pygments_lexer": "ipython3",
   "version": "3.10.4"
  },
  "source_map": [
   13,
   28,
   39,
   42,
   52,
   59,
   65,
   78,
   81
  ]
 },
 "nbformat": 4,
 "nbformat_minor": 5
}