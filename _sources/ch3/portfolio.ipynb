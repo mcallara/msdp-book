{
 "cells": [
  {
   "cell_type": "code",
   "execution_count": 1,
   "metadata": {
    "tags": [
     "remove-input"
    ]
   },
   "outputs": [],
   "source": [
    "import ipytest\n",
    "ipytest.autoconfig()"
   ]
  },
  {
   "cell_type": "markdown",
   "metadata": {},
   "source": [
    "# 3.2 Test Driven Development (TDD)"
   ]
  },
  {
   "cell_type": "markdown",
   "metadata": {},
   "source": [
    "Test-Driven Development (TDD) is a software development approach that prioritizes testing at the forefront of the development process. Central to TDD is the \"Red-Green-Refactor\" cycle, a repetitive pattern that guides developers through writing tests, implementing code, and refining the design.\n",
    "\n",
    "In the \"Red\" phase, developers write failing tests that define the desired behavior of the system. These failing tests serve as a clear indicator of what needs to be implemented.\n",
    "\n",
    "Next, in the \"Green\" phase, developers write the minimum amount of code necessary to make the failing tests pass. This phase focuses on fulfilling the requirements outlined by the tests, leading to the creation of functional code.\n",
    "\n",
    "Finally, in the \"Refactor\" phase, developers improve the code's structure, readability, and efficiency without changing its external behavior. This step ensures that the code remains maintainable and adheres to best practices.\n",
    "\n",
    "By following the \"Red-Green-Refactor\" cycle iteratively, TDD encourages developers to write tests that drive the design and implementation of code, resulting in cleaner, more robust software that is thoroughly tested from the outset."
   ]
  },
  {
   "cell_type": "markdown",
   "metadata": {},
   "source": [
    "## Applying TDD to build a Stock Portfolio solution\n",
    "\n",
    "To explore TDD in action, we will apply it to build a simple stock portfolio solution. The \"Stock Portfolio\" is a well-known example in the TDD community since it appears in Kent Beck's book \"Test-Driven Development: By Example.\" Although in the original book, the solution is written in Java, we will implement it in Python.\n",
    "\n",
    "We want to create a small report that keeps track of stocks and calculates their total value. The price of a stock is defined by the amount and the currency.\n",
    "\n",
    "TODO (features to implement):\n",
    "- Multiplication. The value of each stock will be the number of shares times the price of the stock.\n",
    "- Sum. The total value of our portfolio will be the sum of the value of each stock.\n",
    "\n",
    "Let's implement the multiplication feature first. We will use \"Red-Green-Refactor\" cycle to do this. So we will start by writing a test that will fail. Then we will implement the feature and make the test pass. Finally, we will refactor the code.\n",
    "\n",
    "Let's tackle the first element of our TODO list, Multiplication."
   ]
  },
  {
   "cell_type": "markdown",
   "metadata": {},
   "source": [
    "## Multiplication Test"
   ]
  },
  {
   "cell_type": "markdown",
   "metadata": {},
   "source": [
    "### Red"
   ]
  },
  {
   "cell_type": "code",
   "execution_count": 2,
   "metadata": {},
   "outputs": [],
   "source": [
    "def test_multiplication():\n",
    "    # test that you can multiply a Dollar by a number and get the right amount.\n",
    "    five = Dollar(amount=5)\n",
    "    five.times(multiplier=2)\n",
    "    assert 10 == five.amount"
   ]
  },
  {
   "cell_type": "markdown",
   "metadata": {},
   "source": [
    "Before we do anything else, let's run pytest and see if we have any failing tests."
   ]
  },
  {
   "cell_type": "code",
   "execution_count": 3,
   "metadata": {},
   "outputs": [
    {
     "name": "stdout",
     "output_type": "stream",
     "text": [
      "\u001b[1m======================================= test session starts ========================================\u001b[0m\n",
      "platform linux -- Python 3.10.4, pytest-8.0.0, pluggy-1.4.0 -- /home/callaram/.conda/envs/jupyterbook/bin/python\n",
      "cachedir: .pytest_cache\n",
      "rootdir: /home/callaram/tds/msdp-book/ch3\n",
      "\u001b[1mcollecting ... \u001b[0mcollected 1 item\n",
      "\n",
      "t_4400d202909e432290fbad88ffd5840a.py::test_multiplication \u001b[31mFAILED\u001b[0m\u001b[31m                            [100%]\u001b[0m\n",
      "\n",
      "============================================= FAILURES =============================================\n",
      "\u001b[31m\u001b[1m_______________________________________ test_multiplication ________________________________________\u001b[0m\n",
      "\n",
      "    \u001b[0m\u001b[94mdef\u001b[39;49;00m \u001b[92mtest_multiplication\u001b[39;49;00m():\u001b[90m\u001b[39;49;00m\n",
      "        \u001b[90m# test that you can multiply a Dollar by a number and get the right amount.\u001b[39;49;00m\u001b[90m\u001b[39;49;00m\n",
      ">       five = Dollar(amount=\u001b[94m5\u001b[39;49;00m)\u001b[90m\u001b[39;49;00m\n",
      "\u001b[1m\u001b[31mE       NameError: name 'Dollar' is not defined\u001b[0m\n",
      "\n",
      "\u001b[1m\u001b[31m/tmp/ipykernel_1473707/2648424505.py\u001b[0m:3: NameError\n",
      "\u001b[36m\u001b[1m===================================== short test summary info ======================================\u001b[0m\n",
      "\u001b[31mFAILED\u001b[0m t_4400d202909e432290fbad88ffd5840a.py::\u001b[1mtest_multiplication\u001b[0m - NameError: name 'Dollar' is not defined\n",
      "\u001b[31m======================================== \u001b[31m\u001b[1m1 failed\u001b[0m\u001b[31m in 0.09s\u001b[0m\u001b[31m =========================================\u001b[0m\n"
     ]
    },
    {
     "data": {
      "text/plain": [
       "<ExitCode.TESTS_FAILED: 1>"
      ]
     },
     "execution_count": 3,
     "metadata": {},
     "output_type": "execute_result"
    }
   ],
   "source": [
    "ipytest.run('-vv')  # '-vv' for increased verbosity"
   ]
  },
  {
   "cell_type": "markdown",
   "metadata": {},
   "source": [
    "If we inspect our first test we will notice that is adding three new points to our TODO list. We don't try to solve them now, instead we focus first on making our failing the test pass.\n",
    "\n",
    "TODO:\n",
    "- Multiplication\n",
    "- Sum\n",
    "- Make “amount” private\n",
    "- Dollar side-effects?\n",
    "- Money rounding? \n",
    "\n",
    "Explanation:\n",
    "- Public Fields: The amount field of the Dollar class is public, which is generally considered bad practice in object-oriented design because it exposes the internal representation of the class. Good practice encourages keeping fields private and accessing them through methods to encapsulate the data.\n",
    "- Side-Effects: The times method appears to have a side effect, modifying the state of the Dollar object on which it is called. A more functional approach, or one that avoids side effects, would return a new Dollar object with the new amount, leaving the original object unchanged.\n",
    "- Integers for Monetary Amounts: Using integers to represent monetary amounts can be problematic due to rounding errors and lack of precision, especially when dealing with fractions of units. A more robust approach would be to use a decimal type or a class that represents monetary amounts."
   ]
  },
  {
   "cell_type": "markdown",
   "metadata": {},
   "source": [
    "### Green\n",
    "Dollar is not defined. We need to define the Dollar class. Let's do that now and run pytest again."
   ]
  },
  {
   "cell_type": "code",
   "execution_count": 4,
   "metadata": {},
   "outputs": [],
   "source": [
    "class Dollar:\n",
    "    pass"
   ]
  },
  {
   "cell_type": "code",
   "execution_count": 5,
   "metadata": {},
   "outputs": [
    {
     "name": "stdout",
     "output_type": "stream",
     "text": [
      "\u001b[1m======================================= test session starts ========================================\u001b[0m\n",
      "platform linux -- Python 3.10.4, pytest-8.0.0, pluggy-1.4.0 -- /home/callaram/.conda/envs/jupyterbook/bin/python\n",
      "cachedir: .pytest_cache\n",
      "rootdir: /home/callaram/tds/msdp-book/ch3\n",
      "\u001b[1mcollecting ... \u001b[0mcollected 1 item\n",
      "\n",
      "t_4400d202909e432290fbad88ffd5840a.py::test_multiplication \u001b[31mFAILED\u001b[0m\u001b[31m                            [100%]\u001b[0m\n",
      "\n",
      "============================================= FAILURES =============================================\n",
      "\u001b[31m\u001b[1m_______________________________________ test_multiplication ________________________________________\u001b[0m\n",
      "\n",
      "    \u001b[0m\u001b[94mdef\u001b[39;49;00m \u001b[92mtest_multiplication\u001b[39;49;00m():\u001b[90m\u001b[39;49;00m\n",
      "        \u001b[90m# test that you can multiply a Dollar by a number and get the right amount.\u001b[39;49;00m\u001b[90m\u001b[39;49;00m\n",
      ">       five = Dollar(amount=\u001b[94m5\u001b[39;49;00m)\u001b[90m\u001b[39;49;00m\n",
      "\u001b[1m\u001b[31mE       TypeError: Dollar() takes no arguments\u001b[0m\n",
      "\n",
      "\u001b[1m\u001b[31m/tmp/ipykernel_1473707/2648424505.py\u001b[0m:3: TypeError\n",
      "\u001b[36m\u001b[1m===================================== short test summary info ======================================\u001b[0m\n",
      "\u001b[31mFAILED\u001b[0m t_4400d202909e432290fbad88ffd5840a.py::\u001b[1mtest_multiplication\u001b[0m - TypeError: Dollar() takes no arguments\n",
      "\u001b[31m======================================== \u001b[31m\u001b[1m1 failed\u001b[0m\u001b[31m in 0.01s\u001b[0m\u001b[31m =========================================\u001b[0m\n"
     ]
    },
    {
     "data": {
      "text/plain": [
       "<ExitCode.TESTS_FAILED: 1>"
      ]
     },
     "execution_count": 5,
     "metadata": {},
     "output_type": "execute_result"
    }
   ],
   "source": [
    "ipytest.run('-vv')  # '-vv' for increased verbosity"
   ]
  },
  {
   "cell_type": "markdown",
   "metadata": {},
   "source": [
    "We need to add a constructor to the Dollar class. The constructor needs to take the amount as an argument. Let's do that now and rerun pytest."
   ]
  },
  {
   "cell_type": "code",
   "execution_count": 6,
   "metadata": {},
   "outputs": [],
   "source": [
    "class Dollar:\n",
    "    def __init__(self, amount: int):\n",
    "        pass"
   ]
  },
  {
   "cell_type": "code",
   "execution_count": 7,
   "metadata": {},
   "outputs": [
    {
     "name": "stdout",
     "output_type": "stream",
     "text": [
      "\u001b[1m======================================= test session starts ========================================\u001b[0m\n",
      "platform linux -- Python 3.10.4, pytest-8.0.0, pluggy-1.4.0 -- /home/callaram/.conda/envs/jupyterbook/bin/python\n",
      "cachedir: .pytest_cache\n",
      "rootdir: /home/callaram/tds/msdp-book/ch3\n",
      "\u001b[1mcollecting ... \u001b[0mcollected 1 item\n",
      "\n",
      "t_4400d202909e432290fbad88ffd5840a.py::test_multiplication \u001b[31mFAILED\u001b[0m\u001b[31m                            [100%]\u001b[0m\n",
      "\n",
      "============================================= FAILURES =============================================\n",
      "\u001b[31m\u001b[1m_______________________________________ test_multiplication ________________________________________\u001b[0m\n",
      "\n",
      "    \u001b[0m\u001b[94mdef\u001b[39;49;00m \u001b[92mtest_multiplication\u001b[39;49;00m():\u001b[90m\u001b[39;49;00m\n",
      "        \u001b[90m# test that you can multiply a Dollar by a number and get the right amount.\u001b[39;49;00m\u001b[90m\u001b[39;49;00m\n",
      "        five = Dollar(amount=\u001b[94m5\u001b[39;49;00m)\u001b[90m\u001b[39;49;00m\n",
      ">       five.times(multiplier=\u001b[94m2\u001b[39;49;00m)\u001b[90m\u001b[39;49;00m\n",
      "\u001b[1m\u001b[31mE       AttributeError: 'Dollar' object has no attribute 'times'\u001b[0m\n",
      "\n",
      "\u001b[1m\u001b[31m/tmp/ipykernel_1473707/2648424505.py\u001b[0m:4: AttributeError\n",
      "\u001b[36m\u001b[1m===================================== short test summary info ======================================\u001b[0m\n",
      "\u001b[31mFAILED\u001b[0m t_4400d202909e432290fbad88ffd5840a.py::\u001b[1mtest_multiplication\u001b[0m - AttributeError: 'Dollar' object has no attribute 'times'\n",
      "\u001b[31m======================================== \u001b[31m\u001b[1m1 failed\u001b[0m\u001b[31m in 0.01s\u001b[0m\u001b[31m =========================================\u001b[0m\n"
     ]
    },
    {
     "data": {
      "text/plain": [
       "<ExitCode.TESTS_FAILED: 1>"
      ]
     },
     "execution_count": 7,
     "metadata": {},
     "output_type": "execute_result"
    }
   ],
   "source": [
    "ipytest.run('-vv')  # '-vv' for increased verbosity"
   ]
  },
  {
   "cell_type": "markdown",
   "metadata": {},
   "source": [
    "Let's define a times method."
   ]
  },
  {
   "cell_type": "code",
   "execution_count": 8,
   "metadata": {},
   "outputs": [],
   "source": [
    "class Dollar:\n",
    "    def __init__(self, amount):\n",
    "        pass\n",
    "    \n",
    "    def times(self, multiplier):\n",
    "        pass"
   ]
  },
  {
   "cell_type": "code",
   "execution_count": 9,
   "metadata": {},
   "outputs": [
    {
     "name": "stdout",
     "output_type": "stream",
     "text": [
      "\u001b[1m======================================= test session starts ========================================\u001b[0m\n",
      "platform linux -- Python 3.10.4, pytest-8.0.0, pluggy-1.4.0 -- /home/callaram/.conda/envs/jupyterbook/bin/python\n",
      "cachedir: .pytest_cache\n",
      "rootdir: /home/callaram/tds/msdp-book/ch3\n",
      "\u001b[1mcollecting ... \u001b[0mcollected 1 item\n",
      "\n",
      "t_4400d202909e432290fbad88ffd5840a.py::test_multiplication \u001b[31mFAILED\u001b[0m\u001b[31m                            [100%]\u001b[0m\n",
      "\n",
      "============================================= FAILURES =============================================\n",
      "\u001b[31m\u001b[1m_______________________________________ test_multiplication ________________________________________\u001b[0m\n",
      "\n",
      "    \u001b[0m\u001b[94mdef\u001b[39;49;00m \u001b[92mtest_multiplication\u001b[39;49;00m():\u001b[90m\u001b[39;49;00m\n",
      "        \u001b[90m# test that you can multiply a Dollar by a number and get the right amount.\u001b[39;49;00m\u001b[90m\u001b[39;49;00m\n",
      "        five = Dollar(amount=\u001b[94m5\u001b[39;49;00m)\u001b[90m\u001b[39;49;00m\n",
      "        five.times(multiplier=\u001b[94m2\u001b[39;49;00m)\u001b[90m\u001b[39;49;00m\n",
      ">       \u001b[94massert\u001b[39;49;00m \u001b[94m10\u001b[39;49;00m == five.amount\u001b[90m\u001b[39;49;00m\n",
      "\u001b[1m\u001b[31mE       AttributeError: 'Dollar' object has no attribute 'amount'\u001b[0m\n",
      "\n",
      "\u001b[1m\u001b[31m/tmp/ipykernel_1473707/2648424505.py\u001b[0m:5: AttributeError\n",
      "\u001b[36m\u001b[1m===================================== short test summary info ======================================\u001b[0m\n",
      "\u001b[31mFAILED\u001b[0m t_4400d202909e432290fbad88ffd5840a.py::\u001b[1mtest_multiplication\u001b[0m - AttributeError: 'Dollar' object has no attribute 'amount'\n",
      "\u001b[31m======================================== \u001b[31m\u001b[1m1 failed\u001b[0m\u001b[31m in 0.01s\u001b[0m\u001b[31m =========================================\u001b[0m\n"
     ]
    },
    {
     "data": {
      "text/plain": [
       "<ExitCode.TESTS_FAILED: 1>"
      ]
     },
     "execution_count": 9,
     "metadata": {},
     "output_type": "execute_result"
    }
   ],
   "source": [
    "ipytest.run('-vv')  # '-vv' for increased verbosity"
   ]
  },
  {
   "cell_type": "markdown",
   "metadata": {},
   "source": [
    "We need to add an amount atrribute to the Dollar class. Let's do that now and rerun pytest."
   ]
  },
  {
   "cell_type": "code",
   "execution_count": 10,
   "metadata": {},
   "outputs": [],
   "source": [
    "class Dollar:\n",
    "    def __init__(self, amount):\n",
    "        pass\n",
    "    \n",
    "    def times(self, multiplier):\n",
    "        pass\n",
    "\n",
    "    amount = None"
   ]
  },
  {
   "cell_type": "code",
   "execution_count": 11,
   "metadata": {},
   "outputs": [
    {
     "name": "stdout",
     "output_type": "stream",
     "text": [
      "\u001b[1m======================================= test session starts ========================================\u001b[0m\n",
      "platform linux -- Python 3.10.4, pytest-8.0.0, pluggy-1.4.0 -- /home/callaram/.conda/envs/jupyterbook/bin/python\n",
      "cachedir: .pytest_cache\n",
      "rootdir: /home/callaram/tds/msdp-book/ch3\n",
      "\u001b[1mcollecting ... \u001b[0mcollected 1 item\n",
      "\n",
      "t_4400d202909e432290fbad88ffd5840a.py::test_multiplication \u001b[31mFAILED\u001b[0m\u001b[31m                            [100%]\u001b[0m\n",
      "\n",
      "============================================= FAILURES =============================================\n",
      "\u001b[31m\u001b[1m_______________________________________ test_multiplication ________________________________________\u001b[0m\n",
      "\n",
      "    \u001b[0m\u001b[94mdef\u001b[39;49;00m \u001b[92mtest_multiplication\u001b[39;49;00m():\u001b[90m\u001b[39;49;00m\n",
      "        \u001b[90m# test that you can multiply a Dollar by a number and get the right amount.\u001b[39;49;00m\u001b[90m\u001b[39;49;00m\n",
      "        five = Dollar(amount=\u001b[94m5\u001b[39;49;00m)\u001b[90m\u001b[39;49;00m\n",
      "        five.times(multiplier=\u001b[94m2\u001b[39;49;00m)\u001b[90m\u001b[39;49;00m\n",
      ">       \u001b[94massert\u001b[39;49;00m \u001b[94m10\u001b[39;49;00m == five.amount\u001b[90m\u001b[39;49;00m\n",
      "\u001b[1m\u001b[31mE       assert 10 == None\u001b[0m\n",
      "\u001b[1m\u001b[31mE        +  where None = <__main__.Dollar object at 0x14e231ff7520>.amount\u001b[0m\n",
      "\n",
      "\u001b[1m\u001b[31m/tmp/ipykernel_1473707/2648424505.py\u001b[0m:5: AssertionError\n",
      "\u001b[36m\u001b[1m===================================== short test summary info ======================================\u001b[0m\n",
      "\u001b[31mFAILED\u001b[0m t_4400d202909e432290fbad88ffd5840a.py::\u001b[1mtest_multiplication\u001b[0m - assert 10 == None\n",
      "\u001b[31m======================================== \u001b[31m\u001b[1m1 failed\u001b[0m\u001b[31m in 0.01s\u001b[0m\u001b[31m =========================================\u001b[0m\n"
     ]
    },
    {
     "data": {
      "text/plain": [
       "<ExitCode.TESTS_FAILED: 1>"
      ]
     },
     "execution_count": 11,
     "metadata": {},
     "output_type": "execute_result"
    }
   ],
   "source": [
    "ipytest.run('-vv')  # '-vv' for increased verbosity"
   ]
  },
  {
   "cell_type": "markdown",
   "metadata": {},
   "source": [
    "Let's apply the easiest solution that could work. We will make amount equal to 10. Let's rerun pytest."
   ]
  },
  {
   "cell_type": "code",
   "execution_count": 12,
   "metadata": {},
   "outputs": [],
   "source": [
    "class Dollar:\n",
    "    def __init__(self, amount):\n",
    "        pass\n",
    "    \n",
    "    def times(self, multiplier):\n",
    "        pass\n",
    "\n",
    "    amount = 10"
   ]
  },
  {
   "cell_type": "code",
   "execution_count": 13,
   "metadata": {},
   "outputs": [
    {
     "name": "stdout",
     "output_type": "stream",
     "text": [
      "\u001b[1m======================================= test session starts ========================================\u001b[0m\n",
      "platform linux -- Python 3.10.4, pytest-8.0.0, pluggy-1.4.0 -- /home/callaram/.conda/envs/jupyterbook/bin/python\n",
      "cachedir: .pytest_cache\n",
      "rootdir: /home/callaram/tds/msdp-book/ch3\n",
      "\u001b[1mcollecting ... \u001b[0mcollected 1 item\n",
      "\n",
      "t_4400d202909e432290fbad88ffd5840a.py::test_multiplication \u001b[32mPASSED\u001b[0m\u001b[32m                            [100%]\u001b[0m\n",
      "\n",
      "\u001b[32m======================================== \u001b[32m\u001b[1m1 passed\u001b[0m\u001b[32m in 0.01s\u001b[0m\u001b[32m =========================================\u001b[0m\n"
     ]
    },
    {
     "data": {
      "text/plain": [
       "<ExitCode.OK: 0>"
      ]
     },
     "execution_count": 13,
     "metadata": {},
     "output_type": "execute_result"
    }
   ],
   "source": [
    "ipytest.run('-vv')  # '-vv' for increased verbosity"
   ]
  },
  {
   "cell_type": "markdown",
   "metadata": {},
   "source": [
    "### Refactor\n",
    "Now that we have a passing test we can move to refactoring our code. Let's remove duplication in our code."
   ]
  },
  {
   "cell_type": "code",
   "execution_count": 14,
   "metadata": {},
   "outputs": [],
   "source": [
    "def test_multiplication():\n",
    "    # test that you can multiply a Dollar by a number and get the right amount.\n",
    "    five = Dollar(5)\n",
    "    five.times(2)\n",
    "    assert 10 == five.amount\n",
    "\n",
    "# If we rewrite the 10 as 5 * 2, the duplication becomes more evident.\n",
    "class Dollar:\n",
    "    def __init__(self, amount):\n",
    "        pass\n",
    "    \n",
    "    def times(self, multiplier):\n",
    "        pass\n",
    "\n",
    "    amount = 5 * 2"
   ]
  },
  {
   "cell_type": "code",
   "execution_count": 15,
   "metadata": {},
   "outputs": [
    {
     "name": "stdout",
     "output_type": "stream",
     "text": [
      "\u001b[1m======================================= test session starts ========================================\u001b[0m\n",
      "platform linux -- Python 3.10.4, pytest-8.0.0, pluggy-1.4.0 -- /home/callaram/.conda/envs/jupyterbook/bin/python\n",
      "cachedir: .pytest_cache\n",
      "rootdir: /home/callaram/tds/msdp-book/ch3\n",
      "\u001b[1mcollecting ... \u001b[0mcollected 1 item\n",
      "\n",
      "t_4400d202909e432290fbad88ffd5840a.py::test_multiplication \u001b[32mPASSED\u001b[0m\u001b[32m                            [100%]\u001b[0m\n",
      "\n",
      "\u001b[32m======================================== \u001b[32m\u001b[1m1 passed\u001b[0m\u001b[32m in 0.01s\u001b[0m\u001b[32m =========================================\u001b[0m\n"
     ]
    },
    {
     "data": {
      "text/plain": [
       "<ExitCode.OK: 0>"
      ]
     },
     "execution_count": 15,
     "metadata": {},
     "output_type": "execute_result"
    }
   ],
   "source": [
    "ipytest.run('-vv')  # '-vv' for increased verbosity"
   ]
  },
  {
   "cell_type": "markdown",
   "metadata": {},
   "source": [
    "There is duplication between the data in the test and the data in the code. Let's remove that duplication by first moving amount to the times method."
   ]
  },
  {
   "cell_type": "code",
   "execution_count": 16,
   "metadata": {},
   "outputs": [],
   "source": [
    "def test_multiplication():\n",
    "    # test that you can multiply a Dollar by a number and get the right amount.\n",
    "    five = Dollar(5)\n",
    "    five.times(2)\n",
    "    assert 10 == five.amount\n",
    "\n",
    "# If we rewrite the 10 as 5 * 2, the duplication becomes more evident.\n",
    "class Dollar:\n",
    "    def __init__(self, amount):\n",
    "        pass\n",
    "    \n",
    "    def times(self, multiplier):\n",
    "        self.amount = 5 * 2"
   ]
  },
  {
   "cell_type": "code",
   "execution_count": 17,
   "metadata": {},
   "outputs": [
    {
     "name": "stdout",
     "output_type": "stream",
     "text": [
      "\u001b[1m======================================= test session starts ========================================\u001b[0m\n",
      "platform linux -- Python 3.10.4, pytest-8.0.0, pluggy-1.4.0 -- /home/callaram/.conda/envs/jupyterbook/bin/python\n",
      "cachedir: .pytest_cache\n",
      "rootdir: /home/callaram/tds/msdp-book/ch3\n",
      "\u001b[1mcollecting ... \u001b[0mcollected 1 item\n",
      "\n",
      "t_4400d202909e432290fbad88ffd5840a.py::test_multiplication \u001b[32mPASSED\u001b[0m\u001b[32m                            [100%]\u001b[0m\n",
      "\n",
      "\u001b[32m======================================== \u001b[32m\u001b[1m1 passed\u001b[0m\u001b[32m in 0.01s\u001b[0m\u001b[32m =========================================\u001b[0m\n"
     ]
    },
    {
     "data": {
      "text/plain": [
       "<ExitCode.OK: 0>"
      ]
     },
     "execution_count": 17,
     "metadata": {},
     "output_type": "execute_result"
    }
   ],
   "source": [
    "ipytest.run('-vv')  # '-vv' for increased verbosity"
   ]
  },
  {
   "cell_type": "markdown",
   "metadata": {},
   "source": [
    "Amount should be coming from the value passed to the constructor."
   ]
  },
  {
   "cell_type": "code",
   "execution_count": 18,
   "metadata": {},
   "outputs": [],
   "source": [
    "def test_multiplication():\n",
    "    # test that you can multiply a Dollar by a number and get the right amount.\n",
    "    five = Dollar(5)\n",
    "    five.times(2)\n",
    "    assert 10 == five.amount\n",
    "\n",
    "# If we rewrite the 10 as 5 * 2, the duplication becomes more evident.\n",
    "class Dollar:\n",
    "    def __init__(self, amount):\n",
    "        self.amount = amount\n",
    "    \n",
    "    def times(self, multiplier):\n",
    "        self.amount = self.amount * 2"
   ]
  },
  {
   "cell_type": "code",
   "execution_count": 19,
   "metadata": {},
   "outputs": [
    {
     "name": "stdout",
     "output_type": "stream",
     "text": [
      "\u001b[1m======================================= test session starts ========================================\u001b[0m\n",
      "platform linux -- Python 3.10.4, pytest-8.0.0, pluggy-1.4.0 -- /home/callaram/.conda/envs/jupyterbook/bin/python\n",
      "cachedir: .pytest_cache\n",
      "rootdir: /home/callaram/tds/msdp-book/ch3\n",
      "\u001b[1mcollecting ... \u001b[0mcollected 1 item\n",
      "\n",
      "t_4400d202909e432290fbad88ffd5840a.py::test_multiplication \u001b[32mPASSED\u001b[0m\u001b[32m                            [100%]\u001b[0m\n",
      "\n",
      "\u001b[32m======================================== \u001b[32m\u001b[1m1 passed\u001b[0m\u001b[32m in 0.01s\u001b[0m\u001b[32m =========================================\u001b[0m\n"
     ]
    },
    {
     "data": {
      "text/plain": [
       "<ExitCode.OK: 0>"
      ]
     },
     "execution_count": 19,
     "metadata": {},
     "output_type": "execute_result"
    }
   ],
   "source": [
    "ipytest.run('-vv')  # '-vv' for increased verbosity"
   ]
  },
  {
   "cell_type": "markdown",
   "metadata": {},
   "source": [
    "In the multiplication, 2 is the value of the multiplier. "
   ]
  },
  {
   "cell_type": "code",
   "execution_count": 20,
   "metadata": {},
   "outputs": [],
   "source": [
    "def test_multiplication():\n",
    "    # test that you can multiply a Dollar by a number and get the right amount.\n",
    "    five = Dollar(5)\n",
    "    five.times(2)\n",
    "    assert 10 == five.amount\n",
    "\n",
    "# If we rewrite the 10 as 5 * 2, the duplication becomes more evident.\n",
    "class Dollar:\n",
    "    def __init__(self, amount):\n",
    "        self.amount = amount\n",
    "    \n",
    "    def times(self, multiplier):\n",
    "        self.amount = self.amount * multiplier"
   ]
  },
  {
   "cell_type": "code",
   "execution_count": 21,
   "metadata": {},
   "outputs": [
    {
     "name": "stdout",
     "output_type": "stream",
     "text": [
      "\u001b[1m======================================= test session starts ========================================\u001b[0m\n",
      "platform linux -- Python 3.10.4, pytest-8.0.0, pluggy-1.4.0 -- /home/callaram/.conda/envs/jupyterbook/bin/python\n",
      "cachedir: .pytest_cache\n",
      "rootdir: /home/callaram/tds/msdp-book/ch3\n",
      "\u001b[1mcollecting ... \u001b[0mcollected 1 item\n",
      "\n",
      "t_4400d202909e432290fbad88ffd5840a.py::test_multiplication \u001b[32mPASSED\u001b[0m\u001b[32m                            [100%]\u001b[0m\n",
      "\n",
      "\u001b[32m======================================== \u001b[32m\u001b[1m1 passed\u001b[0m\u001b[32m in 0.01s\u001b[0m\u001b[32m =========================================\u001b[0m\n"
     ]
    },
    {
     "data": {
      "text/plain": [
       "<ExitCode.OK: 0>"
      ]
     },
     "execution_count": 21,
     "metadata": {},
     "output_type": "execute_result"
    }
   ],
   "source": [
    "ipytest.run('-vv')  # '-vv' for increased verbosity"
   ]
  },
  {
   "cell_type": "markdown",
   "metadata": {},
   "source": [
    "We can make it more pythonic using *= in times."
   ]
  },
  {
   "cell_type": "code",
   "execution_count": 22,
   "metadata": {},
   "outputs": [],
   "source": [
    "def test_multiplication():\n",
    "    # test that you can multiply a Dollar by a number and get the right amount.\n",
    "    five = Dollar(5)\n",
    "    five.times(2)\n",
    "    assert 10 == five.amount\n",
    "\n",
    "# If we rewrite the 10 as 5 * 2, the duplication becomes more evident.\n",
    "class Dollar:\n",
    "    def __init__(self, amount):\n",
    "        self.amount = amount\n",
    "    \n",
    "    def times(self, multiplier):\n",
    "        self.amount *= multiplier"
   ]
  },
  {
   "cell_type": "code",
   "execution_count": 23,
   "metadata": {},
   "outputs": [
    {
     "name": "stdout",
     "output_type": "stream",
     "text": [
      "\u001b[1m======================================= test session starts ========================================\u001b[0m\n",
      "platform linux -- Python 3.10.4, pytest-8.0.0, pluggy-1.4.0 -- /home/callaram/.conda/envs/jupyterbook/bin/python\n",
      "cachedir: .pytest_cache\n",
      "rootdir: /home/callaram/tds/msdp-book/ch3\n",
      "\u001b[1mcollecting ... \u001b[0mcollected 1 item\n",
      "\n",
      "t_4400d202909e432290fbad88ffd5840a.py::test_multiplication \u001b[32mPASSED\u001b[0m\u001b[32m                            [100%]\u001b[0m\n",
      "\n",
      "\u001b[32m======================================== \u001b[32m\u001b[1m1 passed\u001b[0m\u001b[32m in 0.01s\u001b[0m\u001b[32m =========================================\u001b[0m\n"
     ]
    },
    {
     "data": {
      "text/plain": [
       "<ExitCode.OK: 0>"
      ]
     },
     "execution_count": 23,
     "metadata": {},
     "output_type": "execute_result"
    }
   ],
   "source": [
    "ipytest.run('-vv')  # '-vv' for increased verbosity"
   ]
  },
  {
   "cell_type": "markdown",
   "metadata": {},
   "source": [
    "## Side-effects\n",
    "### Red\n",
    "Create a test to see the side effects of multiplication. We will create a test to see if the original object is modified after multiplication."
   ]
  },
  {
   "cell_type": "code",
   "execution_count": 24,
   "metadata": {},
   "outputs": [],
   "source": [
    "def test_multiplication():\n",
    "    # test that you can multiply a Dollar by a number and get the right amount.\n",
    "    five = Dollar(5)\n",
    "    five.times(2)\n",
    "    assert 10 == five.amount \n",
    "    five.times(3)\n",
    "    assert 15 == five.amount"
   ]
  },
  {
   "cell_type": "code",
   "execution_count": 25,
   "metadata": {},
   "outputs": [
    {
     "name": "stdout",
     "output_type": "stream",
     "text": [
      "\u001b[1m======================================= test session starts ========================================\u001b[0m\n",
      "platform linux -- Python 3.10.4, pytest-8.0.0, pluggy-1.4.0 -- /home/callaram/.conda/envs/jupyterbook/bin/python\n",
      "cachedir: .pytest_cache\n",
      "rootdir: /home/callaram/tds/msdp-book/ch3\n",
      "\u001b[1mcollecting ... \u001b[0mcollected 1 item\n",
      "\n",
      "t_4400d202909e432290fbad88ffd5840a.py::test_multiplication \u001b[31mFAILED\u001b[0m\u001b[31m                            [100%]\u001b[0m\n",
      "\n",
      "============================================= FAILURES =============================================\n",
      "\u001b[31m\u001b[1m_______________________________________ test_multiplication ________________________________________\u001b[0m\n",
      "\n",
      "    \u001b[0m\u001b[94mdef\u001b[39;49;00m \u001b[92mtest_multiplication\u001b[39;49;00m():\u001b[90m\u001b[39;49;00m\n",
      "        \u001b[90m# test that you can multiply a Dollar by a number and get the right amount.\u001b[39;49;00m\u001b[90m\u001b[39;49;00m\n",
      "        five = Dollar(\u001b[94m5\u001b[39;49;00m)\u001b[90m\u001b[39;49;00m\n",
      "        five.times(\u001b[94m2\u001b[39;49;00m)\u001b[90m\u001b[39;49;00m\n",
      "        \u001b[94massert\u001b[39;49;00m \u001b[94m10\u001b[39;49;00m == five.amount\u001b[90m\u001b[39;49;00m\n",
      "        five.times(\u001b[94m3\u001b[39;49;00m)\u001b[90m\u001b[39;49;00m\n",
      ">       \u001b[94massert\u001b[39;49;00m \u001b[94m15\u001b[39;49;00m == five.amount\u001b[90m\u001b[39;49;00m\n",
      "\u001b[1m\u001b[31mE       assert 15 == 30\u001b[0m\n",
      "\u001b[1m\u001b[31mE        +  where 30 = <__main__.Dollar object at 0x14e231e2ca60>.amount\u001b[0m\n",
      "\n",
      "\u001b[1m\u001b[31m/tmp/ipykernel_1473707/2074498160.py\u001b[0m:7: AssertionError\n",
      "\u001b[36m\u001b[1m===================================== short test summary info ======================================\u001b[0m\n",
      "\u001b[31mFAILED\u001b[0m t_4400d202909e432290fbad88ffd5840a.py::\u001b[1mtest_multiplication\u001b[0m - assert 15 == 30\n",
      "\u001b[31m======================================== \u001b[31m\u001b[1m1 failed\u001b[0m\u001b[31m in 0.01s\u001b[0m\u001b[31m =========================================\u001b[0m\n"
     ]
    },
    {
     "data": {
      "text/plain": [
       "<ExitCode.TESTS_FAILED: 1>"
      ]
     },
     "execution_count": 25,
     "metadata": {},
     "output_type": "execute_result"
    }
   ],
   "source": [
    "ipytest.run('-vv')  # '-vv' for increased verbosity"
   ]
  },
  {
   "cell_type": "markdown",
   "metadata": {},
   "source": [
    "At the moment, when we multiply a Dollar, the amount changes. This generates what we call a side-effect.\n",
    "\n",
    "\"Side effects can make code more difficult to reason about, since they introduce hidden dependencies and make it harder to understand how changes to one part of the code will affect the rest of the system.\"\n",
    "\n",
    "So to avoid this side-effect, when we will multiply our dollar, we will return a new dollar as a result instead of modifying the original object.\n",
    "\n",
    "\"value object\" is an object that represents a simple entity whose equality is not based on identity: i.e. two value objects are equal when they have the same value, not necessarily being the same object. \n",
    "\n",
    "Reference: Value Object is presented in \"Domain-Driven Design - Tackling Complexity in the Heart of Software - Eric Evans\" and is also a design pattern.\n",
    "\n",
    "\"immutable object\" is an object whose state cannot be modified after it is created. This is in contrast to a mutable object, which can be modified after it is created.\n",
    "\n",
    "Making Dollar an immutable object will help us avoid side-effects."
   ]
  },
  {
   "cell_type": "markdown",
   "metadata": {},
   "source": [
    "We want the times method to return a new Dollar object with the new amount instead of modifying the current object. There is no easy way to fix the test. We need to modify the test to reflect the new behaviour."
   ]
  },
  {
   "cell_type": "code",
   "execution_count": 26,
   "metadata": {},
   "outputs": [],
   "source": [
    "def test_multiplication():\n",
    "    # test that you can multiply a Dollar by a number and get the right amount.\n",
    "    five = Dollar(5)\n",
    "    ten = five.times(2)\n",
    "    assert 10 == ten.amount \n",
    "    fifteen = five.times(3)\n",
    "    assert 15 == fifteen.amount"
   ]
  },
  {
   "cell_type": "code",
   "execution_count": 27,
   "metadata": {},
   "outputs": [
    {
     "name": "stdout",
     "output_type": "stream",
     "text": [
      "\u001b[1m======================================= test session starts ========================================\u001b[0m\n",
      "platform linux -- Python 3.10.4, pytest-8.0.0, pluggy-1.4.0 -- /home/callaram/.conda/envs/jupyterbook/bin/python\n",
      "cachedir: .pytest_cache\n",
      "rootdir: /home/callaram/tds/msdp-book/ch3\n",
      "\u001b[1mcollecting ... \u001b[0mcollected 1 item\n",
      "\n",
      "t_4400d202909e432290fbad88ffd5840a.py::test_multiplication \u001b[31mFAILED\u001b[0m\u001b[31m                            [100%]\u001b[0m\n",
      "\n",
      "============================================= FAILURES =============================================\n",
      "\u001b[31m\u001b[1m_______________________________________ test_multiplication ________________________________________\u001b[0m\n",
      "\n",
      "    \u001b[0m\u001b[94mdef\u001b[39;49;00m \u001b[92mtest_multiplication\u001b[39;49;00m():\u001b[90m\u001b[39;49;00m\n",
      "        \u001b[90m# test that you can multiply a Dollar by a number and get the right amount.\u001b[39;49;00m\u001b[90m\u001b[39;49;00m\n",
      "        five = Dollar(\u001b[94m5\u001b[39;49;00m)\u001b[90m\u001b[39;49;00m\n",
      "        ten = five.times(\u001b[94m2\u001b[39;49;00m)\u001b[90m\u001b[39;49;00m\n",
      ">       \u001b[94massert\u001b[39;49;00m \u001b[94m10\u001b[39;49;00m == ten.amount\u001b[90m\u001b[39;49;00m\n",
      "\u001b[1m\u001b[31mE       AttributeError: 'NoneType' object has no attribute 'amount'\u001b[0m\n",
      "\n",
      "\u001b[1m\u001b[31m/tmp/ipykernel_1473707/1909386861.py\u001b[0m:5: AttributeError\n",
      "\u001b[36m\u001b[1m===================================== short test summary info ======================================\u001b[0m\n",
      "\u001b[31mFAILED\u001b[0m t_4400d202909e432290fbad88ffd5840a.py::\u001b[1mtest_multiplication\u001b[0m - AttributeError: 'NoneType' object has no attribute 'amount'\n",
      "\u001b[31m======================================== \u001b[31m\u001b[1m1 failed\u001b[0m\u001b[31m in 0.01s\u001b[0m\u001b[31m =========================================\u001b[0m\n"
     ]
    },
    {
     "data": {
      "text/plain": [
       "<ExitCode.TESTS_FAILED: 1>"
      ]
     },
     "execution_count": 27,
     "metadata": {},
     "output_type": "execute_result"
    }
   ],
   "source": [
    "ipytest.run('-vv')  # '-vv' for increased verbosity"
   ]
  },
  {
   "cell_type": "markdown",
   "metadata": {},
   "source": [
    "### Green"
   ]
  },
  {
   "cell_type": "markdown",
   "metadata": {},
   "source": [
    "With the right test, now let's fix it by creating a new Dollar object with the new amount."
   ]
  },
  {
   "cell_type": "code",
   "execution_count": 28,
   "metadata": {},
   "outputs": [],
   "source": [
    "class Dollar:\n",
    "    def __init__(self, amount):\n",
    "        self.amount = amount\n",
    "    \n",
    "    def times(self, multiplier):\n",
    "        return Dollar(self.amount * multiplier)"
   ]
  },
  {
   "cell_type": "code",
   "execution_count": 29,
   "metadata": {},
   "outputs": [
    {
     "name": "stdout",
     "output_type": "stream",
     "text": [
      "\u001b[1m======================================= test session starts ========================================\u001b[0m\n",
      "platform linux -- Python 3.10.4, pytest-8.0.0, pluggy-1.4.0 -- /home/callaram/.conda/envs/jupyterbook/bin/python\n",
      "cachedir: .pytest_cache\n",
      "rootdir: /home/callaram/tds/msdp-book/ch3\n",
      "\u001b[1mcollecting ... \u001b[0mcollected 1 item\n",
      "\n",
      "t_4400d202909e432290fbad88ffd5840a.py::test_multiplication \u001b[32mPASSED\u001b[0m\u001b[32m                            [100%]\u001b[0m\n",
      "\n",
      "\u001b[32m======================================== \u001b[32m\u001b[1m1 passed\u001b[0m\u001b[32m in 0.01s\u001b[0m\u001b[32m =========================================\u001b[0m\n"
     ]
    },
    {
     "data": {
      "text/plain": [
       "<ExitCode.OK: 0>"
      ]
     },
     "execution_count": 29,
     "metadata": {},
     "output_type": "execute_result"
    }
   ],
   "source": [
    "ipytest.run('-vv')  # '-vv' for increased verbosity"
   ]
  },
  {
   "cell_type": "markdown",
   "metadata": {},
   "source": [
    "TODO:\n",
    "- Multiplication DONE\n",
    "- Make “amount” private\n",
    "- Dollar side-effects? DONE\n",
    "- Money rounding?\n",
    "- Sum\n",
    "\n",
    "Implications of Value Objects\n",
    "- since they are inmutable objects, we know that no operation will change the state of the object.\n",
    "- they should implement equals(): We need to specify when two value objects are equal.\n",
    "- they should implement hash(): The hash code of objects that are consider equal needs to be the same.\n",
    "\n",
    "TODO:\n",
    "- Multiplication DONE\n",
    "- Make “amount” private\n",
    "- Dollar side-effects? DONE\n",
    "- Money rounding?\n",
    "- Sum\n",
    "- equals()\n",
    "- hash()"
   ]
  },
  {
   "cell_type": "markdown",
   "metadata": {},
   "source": [
    "## Equality\n",
    "### Red"
   ]
  },
  {
   "cell_type": "code",
   "execution_count": 30,
   "metadata": {},
   "outputs": [],
   "source": [
    "def test_equality():\n",
    "    assert Dollar(5) == Dollar(5)\n",
    "    assert Dollar(5) != Dollar(6)"
   ]
  },
  {
   "cell_type": "code",
   "execution_count": 31,
   "metadata": {},
   "outputs": [
    {
     "name": "stdout",
     "output_type": "stream",
     "text": [
      "\u001b[1m======================================= test session starts ========================================\u001b[0m\n",
      "platform linux -- Python 3.10.4, pytest-8.0.0, pluggy-1.4.0 -- /home/callaram/.conda/envs/jupyterbook/bin/python\n",
      "cachedir: .pytest_cache\n",
      "rootdir: /home/callaram/tds/msdp-book/ch3\n",
      "\u001b[1mcollecting ... \u001b[0mcollected 2 items\n",
      "\n",
      "t_4400d202909e432290fbad88ffd5840a.py::test_multiplication \u001b[32mPASSED\u001b[0m\u001b[32m                            [ 50%]\u001b[0m\n",
      "t_4400d202909e432290fbad88ffd5840a.py::test_equality \u001b[31mFAILED\u001b[0m\u001b[31m                                  [100%]\u001b[0m\n",
      "\n",
      "============================================= FAILURES =============================================\n",
      "\u001b[31m\u001b[1m__________________________________________ test_equality ___________________________________________\u001b[0m\n",
      "\n",
      "    \u001b[0m\u001b[94mdef\u001b[39;49;00m \u001b[92mtest_equality\u001b[39;49;00m():\u001b[90m\u001b[39;49;00m\n",
      ">       \u001b[94massert\u001b[39;49;00m Dollar(\u001b[94m5\u001b[39;49;00m) == Dollar(\u001b[94m5\u001b[39;49;00m)\u001b[90m\u001b[39;49;00m\n",
      "\u001b[1m\u001b[31mE       assert <__main__.Dollar object at 0x14e231cf8f10> == <__main__.Dollar object at 0x14e231cf9000>\u001b[0m\n",
      "\u001b[1m\u001b[31mE        +  where <__main__.Dollar object at 0x14e231cf8f10> = Dollar(5)\u001b[0m\n",
      "\u001b[1m\u001b[31mE        +  and   <__main__.Dollar object at 0x14e231cf9000> = Dollar(5)\u001b[0m\n",
      "\n",
      "\u001b[1m\u001b[31m/tmp/ipykernel_1473707/3170841363.py\u001b[0m:2: AssertionError\n",
      "\u001b[36m\u001b[1m===================================== short test summary info ======================================\u001b[0m\n",
      "\u001b[31mFAILED\u001b[0m t_4400d202909e432290fbad88ffd5840a.py::\u001b[1mtest_equality\u001b[0m - assert <__main__.Dollar object at 0x14e231cf8f10> == <__main__.Dollar object at 0x14e231cf9000>\n",
      "\u001b[31m=================================== \u001b[31m\u001b[1m1 failed\u001b[0m, \u001b[32m1 passed\u001b[0m\u001b[31m in 0.01s\u001b[0m\u001b[31m ====================================\u001b[0m\n"
     ]
    },
    {
     "data": {
      "text/plain": [
       "<ExitCode.TESTS_FAILED: 1>"
      ]
     },
     "execution_count": 31,
     "metadata": {},
     "output_type": "execute_result"
    }
   ],
   "source": [
    "ipytest.run('-vv')  # '-vv' for increased verbosity"
   ]
  },
  {
   "cell_type": "markdown",
   "metadata": {},
   "source": [
    "Generalization (or Triangulation when learning from 2 examples). We are trying to find the general solution, by making it fit more than one example. Does it remind you of something? Yes, it's the same principle we used when we were triangulating the implementation of the multiplication. We started with a specific example (5 * 2 = 10) and then we generalized it to a more general case (5 * 2 = 10 and 5 * 3 = 15). First, we overfited to 10, then we generalized to amount * multiplier."
   ]
  },
  {
   "cell_type": "markdown",
   "metadata": {},
   "source": [
    "### Green"
   ]
  },
  {
   "cell_type": "markdown",
   "metadata": {},
   "source": [
    "Let's make the test pass implementing the \\_\\_eq\\_\\_ method."
   ]
  },
  {
   "cell_type": "code",
   "execution_count": 32,
   "metadata": {},
   "outputs": [],
   "source": [
    "class Dollar:\n",
    "    def __init__(self, amount):\n",
    "        self.amount = amount\n",
    "    \n",
    "    def times(self, multiplier):\n",
    "        return Dollar(self.amount * multiplier)\n",
    "    \n",
    "    def __eq__(self, other):\n",
    "        return self.amount == other.amount"
   ]
  },
  {
   "cell_type": "code",
   "execution_count": 33,
   "metadata": {},
   "outputs": [
    {
     "name": "stdout",
     "output_type": "stream",
     "text": [
      "\u001b[1m======================================= test session starts ========================================\u001b[0m\n",
      "platform linux -- Python 3.10.4, pytest-8.0.0, pluggy-1.4.0 -- /home/callaram/.conda/envs/jupyterbook/bin/python\n",
      "cachedir: .pytest_cache\n",
      "rootdir: /home/callaram/tds/msdp-book/ch3\n",
      "\u001b[1mcollecting ... \u001b[0mcollected 2 items\n",
      "\n",
      "t_4400d202909e432290fbad88ffd5840a.py::test_multiplication \u001b[32mPASSED\u001b[0m\u001b[32m                            [ 50%]\u001b[0m\n",
      "t_4400d202909e432290fbad88ffd5840a.py::test_equality \u001b[32mPASSED\u001b[0m\u001b[32m                                  [100%]\u001b[0m\n",
      "\n",
      "\u001b[32m======================================== \u001b[32m\u001b[1m2 passed\u001b[0m\u001b[32m in 0.01s\u001b[0m\u001b[32m =========================================\u001b[0m\n"
     ]
    },
    {
     "data": {
      "text/plain": [
       "<ExitCode.OK: 0>"
      ]
     },
     "execution_count": 33,
     "metadata": {},
     "output_type": "execute_result"
    }
   ],
   "source": [
    "ipytest.run('-vv')  # '-vv' for increased verbosity"
   ]
  },
  {
   "cell_type": "markdown",
   "metadata": {},
   "source": [
    "TODO list:\n",
    "- Multiplication DONE\n",
    "- Make “amount” private\n",
    "- Dollar side-effects? DONE\n",
    "- Money rounding?\n",
    "- Sum\n",
    "- equals() DONE\n",
    "- hash()"
   ]
  },
  {
   "cell_type": "markdown",
   "metadata": {},
   "source": [
    "## Make “amount” private\n",
    "### Refactor\n",
    "We want times to return a new Dollar object. We want to make the amount field private. We will need to change the tests to reflect this change."
   ]
  },
  {
   "cell_type": "code",
   "execution_count": 34,
   "metadata": {},
   "outputs": [],
   "source": [
    "def test_multiplication():\n",
    "    # test that you can multiply a Dollar by a number and get the right amount.\n",
    "    five = Dollar(5)\n",
    "    ten = five.times(2)\n",
    "    assert 10 == ten.amount \n",
    "    fifteen = five.times(3)\n",
    "    assert 15 == fifteen.amount"
   ]
  },
  {
   "cell_type": "markdown",
   "metadata": {},
   "source": [
    "becomes"
   ]
  },
  {
   "cell_type": "code",
   "execution_count": 35,
   "metadata": {},
   "outputs": [],
   "source": [
    "def test_multiplication():\n",
    "    # test that you can multiply a Dollar by a number and get the right amount.\n",
    "    five = Dollar(5)\n",
    "    ten = five.times(2)\n",
    "    assert Dollar(10) == ten \n",
    "    fifteen = five.times(3)\n",
    "    assert Dollar(15) == fifteen"
   ]
  },
  {
   "cell_type": "code",
   "execution_count": 36,
   "metadata": {},
   "outputs": [
    {
     "name": "stdout",
     "output_type": "stream",
     "text": [
      "\u001b[1m======================================= test session starts ========================================\u001b[0m\n",
      "platform linux -- Python 3.10.4, pytest-8.0.0, pluggy-1.4.0 -- /home/callaram/.conda/envs/jupyterbook/bin/python\n",
      "cachedir: .pytest_cache\n",
      "rootdir: /home/callaram/tds/msdp-book/ch3\n",
      "\u001b[1mcollecting ... \u001b[0mcollected 2 items\n",
      "\n",
      "t_4400d202909e432290fbad88ffd5840a.py::test_multiplication \u001b[32mPASSED\u001b[0m\u001b[32m                            [ 50%]\u001b[0m\n",
      "t_4400d202909e432290fbad88ffd5840a.py::test_equality \u001b[32mPASSED\u001b[0m\u001b[32m                                  [100%]\u001b[0m\n",
      "\n",
      "\u001b[32m======================================== \u001b[32m\u001b[1m2 passed\u001b[0m\u001b[32m in 0.01s\u001b[0m\u001b[32m =========================================\u001b[0m\n"
     ]
    },
    {
     "data": {
      "text/plain": [
       "<ExitCode.OK: 0>"
      ]
     },
     "execution_count": 36,
     "metadata": {},
     "output_type": "execute_result"
    }
   ],
   "source": [
    "ipytest.run('-vv')  # '-vv' for increased verbosity"
   ]
  },
  {
   "cell_type": "markdown",
   "metadata": {},
   "source": [
    "We can simplify the tests, removing the intermediate variables."
   ]
  },
  {
   "cell_type": "code",
   "execution_count": 37,
   "metadata": {},
   "outputs": [],
   "source": [
    "def test_multiplication():\n",
    "    # test that you can multiply a Dollar by a number and get the right amount.\n",
    "    five = Dollar(5)\n",
    "    assert Dollar(10) == five.times(2)\n",
    "    assert Dollar(15) == five.times(3) "
   ]
  },
  {
   "cell_type": "code",
   "execution_count": 38,
   "metadata": {},
   "outputs": [
    {
     "name": "stdout",
     "output_type": "stream",
     "text": [
      "\u001b[1m======================================= test session starts ========================================\u001b[0m\n",
      "platform linux -- Python 3.10.4, pytest-8.0.0, pluggy-1.4.0 -- /home/callaram/.conda/envs/jupyterbook/bin/python\n",
      "cachedir: .pytest_cache\n",
      "rootdir: /home/callaram/tds/msdp-book/ch3\n",
      "\u001b[1mcollecting ... \u001b[0mcollected 2 items\n",
      "\n",
      "t_4400d202909e432290fbad88ffd5840a.py::test_multiplication \u001b[32mPASSED\u001b[0m\u001b[32m                            [ 50%]\u001b[0m\n",
      "t_4400d202909e432290fbad88ffd5840a.py::test_equality \u001b[32mPASSED\u001b[0m\u001b[32m                                  [100%]\u001b[0m\n",
      "\n",
      "\u001b[32m======================================== \u001b[32m\u001b[1m2 passed\u001b[0m\u001b[32m in 0.01s\u001b[0m\u001b[32m =========================================\u001b[0m\n"
     ]
    },
    {
     "data": {
      "text/plain": [
       "<ExitCode.OK: 0>"
      ]
     },
     "execution_count": 38,
     "metadata": {},
     "output_type": "execute_result"
    }
   ],
   "source": [
    "ipytest.run('-vv')  # '-vv' for increased verbosity"
   ]
  },
  {
   "cell_type": "markdown",
   "metadata": {},
   "source": [
    "Now we can make amount private. "
   ]
  },
  {
   "cell_type": "code",
   "execution_count": 39,
   "metadata": {},
   "outputs": [],
   "source": [
    "class Dollar:\n",
    "    def __init__(self, amount):\n",
    "        self._amount = amount\n",
    "    \n",
    "    def times(self, multiplier):\n",
    "        return Dollar(self._amount * multiplier)\n",
    "    \n",
    "    def __eq__(self, other):\n",
    "        return self._amount == other._amount"
   ]
  },
  {
   "cell_type": "code",
   "execution_count": 40,
   "metadata": {},
   "outputs": [
    {
     "name": "stdout",
     "output_type": "stream",
     "text": [
      "\u001b[1m======================================= test session starts ========================================\u001b[0m\n",
      "platform linux -- Python 3.10.4, pytest-8.0.0, pluggy-1.4.0 -- /home/callaram/.conda/envs/jupyterbook/bin/python\n",
      "cachedir: .pytest_cache\n",
      "rootdir: /home/callaram/tds/msdp-book/ch3\n",
      "\u001b[1mcollecting ... \u001b[0mcollected 2 items\n",
      "\n",
      "t_4400d202909e432290fbad88ffd5840a.py::test_multiplication \u001b[32mPASSED\u001b[0m\u001b[32m                            [ 50%]\u001b[0m\n",
      "t_4400d202909e432290fbad88ffd5840a.py::test_equality \u001b[32mPASSED\u001b[0m\u001b[32m                                  [100%]\u001b[0m\n",
      "\n",
      "\u001b[32m======================================== \u001b[32m\u001b[1m2 passed\u001b[0m\u001b[32m in 0.01s\u001b[0m\u001b[32m =========================================\u001b[0m\n"
     ]
    },
    {
     "data": {
      "text/plain": [
       "<ExitCode.OK: 0>"
      ]
     },
     "execution_count": 40,
     "metadata": {},
     "output_type": "execute_result"
    }
   ],
   "source": [
    "ipytest.run('-vv')  # '-vv' for increased verbosity"
   ]
  },
  {
   "cell_type": "markdown",
   "metadata": {},
   "source": [
    "TODO:\n",
    "- Multiplication DONE\n",
    "- Make “amount” private DONE\n",
    "- Dollar side-effects? DONE\n",
    "- Money rounding?\n",
    "- Sum\n",
    "- equals() DONE\n",
    "- hash()"
   ]
  },
  {
   "cell_type": "markdown",
   "metadata": {},
   "source": [
    "Without noticing, when implemented equals we lost the ability to compare Dollar objects with None and other objects. This is something that you can do with other Python objects and may come in handy. "
   ]
  },
  {
   "cell_type": "markdown",
   "metadata": {},
   "source": [
    "If you don't believe me, you can try:"
   ]
  },
  {
   "cell_type": "code",
   "execution_count": 41,
   "metadata": {},
   "outputs": [
    {
     "data": {
      "text/plain": [
       "(False, False)"
      ]
     },
     "execution_count": 41,
     "metadata": {},
     "output_type": "execute_result"
    }
   ],
   "source": [
    "mydict = {'a': 1, 'b': 2}\n",
    "mylist = ['a', 1, 'b', 2]\n",
    "mydict == mylist, mydict == None"
   ]
  },
  {
   "cell_type": "markdown",
   "metadata": {},
   "source": [
    "Let's add those features to the list."
   ]
  },
  {
   "cell_type": "markdown",
   "metadata": {},
   "source": [
    "TODO:\n",
    "- Multiplication DONE\n",
    "- Make “amount” private DONE\n",
    "- Dollar side-effects? DONE\n",
    "- Money rounding?\n",
    "- Sum\n",
    "- equals() DONE\n",
    "- hash()\n",
    "- \\_\\_eq\\_\\_(None)\n",
    "- \\_\\_eq\\_\\_(other_object)"
   ]
  },
  {
   "cell_type": "markdown",
   "metadata": {},
   "source": [
    "## Multiplication for Francs\n",
    "### Red"
   ]
  },
  {
   "cell_type": "markdown",
   "metadata": {},
   "source": [
    "Let's focus on multiplication for swiss francs. We need to add the test."
   ]
  },
  {
   "cell_type": "code",
   "execution_count": 42,
   "metadata": {},
   "outputs": [],
   "source": [
    "def test_franc_multiplication():\n",
    "    # test that you can multiply a Dollar by a number and get the right amount.\n",
    "    five = Franc(5)\n",
    "    assert Franc(10) == five.times(2)\n",
    "    assert Franc(15) == five.times(3)"
   ]
  },
  {
   "cell_type": "code",
   "execution_count": 43,
   "metadata": {},
   "outputs": [
    {
     "name": "stdout",
     "output_type": "stream",
     "text": [
      "\u001b[1m======================================= test session starts ========================================\u001b[0m\n",
      "platform linux -- Python 3.10.4, pytest-8.0.0, pluggy-1.4.0 -- /home/callaram/.conda/envs/jupyterbook/bin/python\n",
      "cachedir: .pytest_cache\n",
      "rootdir: /home/callaram/tds/msdp-book/ch3\n",
      "\u001b[1mcollecting ... \u001b[0mcollected 3 items\n",
      "\n",
      "t_4400d202909e432290fbad88ffd5840a.py::test_multiplication \u001b[32mPASSED\u001b[0m\u001b[32m                            [ 33%]\u001b[0m\n",
      "t_4400d202909e432290fbad88ffd5840a.py::test_equality \u001b[32mPASSED\u001b[0m\u001b[32m                                  [ 66%]\u001b[0m\n",
      "t_4400d202909e432290fbad88ffd5840a.py::test_franc_multiplication \u001b[31mFAILED\u001b[0m\u001b[31m                      [100%]\u001b[0m\n",
      "\n",
      "============================================= FAILURES =============================================\n",
      "\u001b[31m\u001b[1m____________________________________ test_franc_multiplication _____________________________________\u001b[0m\n",
      "\n",
      "    \u001b[0m\u001b[94mdef\u001b[39;49;00m \u001b[92mtest_franc_multiplication\u001b[39;49;00m():\u001b[90m\u001b[39;49;00m\n",
      "        \u001b[90m# test that you can multiply a Dollar by a number and get the right amount.\u001b[39;49;00m\u001b[90m\u001b[39;49;00m\n",
      ">       five = Franc(\u001b[94m5\u001b[39;49;00m)\u001b[90m\u001b[39;49;00m\n",
      "\u001b[1m\u001b[31mE       NameError: name 'Franc' is not defined\u001b[0m\n",
      "\n",
      "\u001b[1m\u001b[31m/tmp/ipykernel_1473707/755619237.py\u001b[0m:3: NameError\n",
      "\u001b[36m\u001b[1m===================================== short test summary info ======================================\u001b[0m\n",
      "\u001b[31mFAILED\u001b[0m t_4400d202909e432290fbad88ffd5840a.py::\u001b[1mtest_franc_multiplication\u001b[0m - NameError: name 'Franc' is not defined\n",
      "\u001b[31m=================================== \u001b[31m\u001b[1m1 failed\u001b[0m, \u001b[32m2 passed\u001b[0m\u001b[31m in 0.01s\u001b[0m\u001b[31m ====================================\u001b[0m\n"
     ]
    },
    {
     "data": {
      "text/plain": [
       "<ExitCode.TESTS_FAILED: 1>"
      ]
     },
     "execution_count": 43,
     "metadata": {},
     "output_type": "execute_result"
    }
   ],
   "source": [
    "ipytest.run('-vv')  # '-vv' for increased verbosity"
   ]
  },
  {
   "cell_type": "markdown",
   "metadata": {},
   "source": [
    "With this new test, we now have 3 new issues."
   ]
  },
  {
   "cell_type": "markdown",
   "metadata": {},
   "source": [
    "TODO:\n",
    "- Multiplication DONE\n",
    "- Make “amount” private DONE\n",
    "- Dollar side-effects? DONE\n",
    "- Money rounding?\n",
    "- Sum\n",
    "- equals() DONE\n",
    "- hash()\n",
    "- \\_\\_eq\\_\\_(None)\n",
    "- \\_\\_eq\\_\\_(other_object)\n",
    "- Dollar/Franc duplication\n",
    "- Common equals\n",
    "- Common times"
   ]
  },
  {
   "cell_type": "markdown",
   "metadata": {},
   "source": [
    "### Green\n",
    "Let's just copy/past the Dollar class and adapt it to Franc."
   ]
  },
  {
   "cell_type": "code",
   "execution_count": 44,
   "metadata": {},
   "outputs": [],
   "source": [
    "class Franc:\n",
    "    def __init__(self, amount):\n",
    "        self._amount = amount\n",
    "    \n",
    "    def times(self, multiplier):\n",
    "        return Franc(self._amount * multiplier)\n",
    "    \n",
    "    def __eq__(self, other):\n",
    "        return self._amount == other._amount"
   ]
  },
  {
   "cell_type": "code",
   "execution_count": 45,
   "metadata": {},
   "outputs": [
    {
     "name": "stdout",
     "output_type": "stream",
     "text": [
      "\u001b[1m======================================= test session starts ========================================\u001b[0m\n",
      "platform linux -- Python 3.10.4, pytest-8.0.0, pluggy-1.4.0 -- /home/callaram/.conda/envs/jupyterbook/bin/python\n",
      "cachedir: .pytest_cache\n",
      "rootdir: /home/callaram/tds/msdp-book/ch3\n",
      "\u001b[1mcollecting ... \u001b[0mcollected 3 items\n",
      "\n",
      "t_4400d202909e432290fbad88ffd5840a.py::test_multiplication \u001b[32mPASSED\u001b[0m\u001b[32m                            [ 33%]\u001b[0m\n",
      "t_4400d202909e432290fbad88ffd5840a.py::test_equality \u001b[32mPASSED\u001b[0m\u001b[32m                                  [ 66%]\u001b[0m\n",
      "t_4400d202909e432290fbad88ffd5840a.py::test_franc_multiplication \u001b[32mPASSED\u001b[0m\u001b[32m                      [100%]\u001b[0m\n",
      "\n",
      "\u001b[32m======================================== \u001b[32m\u001b[1m3 passed\u001b[0m\u001b[32m in 0.01s\u001b[0m\u001b[32m =========================================\u001b[0m\n"
     ]
    },
    {
     "data": {
      "text/plain": [
       "<ExitCode.OK: 0>"
      ]
     },
     "execution_count": 45,
     "metadata": {},
     "output_type": "execute_result"
    }
   ],
   "source": [
    "ipytest.run('-vv')  # '-vv' for increased verbosity"
   ]
  },
  {
   "cell_type": "markdown",
   "metadata": {},
   "source": [
    "### Refactor"
   ]
  },
  {
   "cell_type": "markdown",
   "metadata": {},
   "source": [
    "To better support multicurrency, we need to remove the duplication between Dollar and Franc. We can do this by creating a common parent class for Dollar and Franc called Money."
   ]
  },
  {
   "cell_type": "code",
   "execution_count": 46,
   "metadata": {},
   "outputs": [],
   "source": [
    "class Money:\n",
    "    pass "
   ]
  },
  {
   "cell_type": "code",
   "execution_count": 47,
   "metadata": {},
   "outputs": [
    {
     "name": "stdout",
     "output_type": "stream",
     "text": [
      "\u001b[1m======================================= test session starts ========================================\u001b[0m\n",
      "platform linux -- Python 3.10.4, pytest-8.0.0, pluggy-1.4.0 -- /home/callaram/.conda/envs/jupyterbook/bin/python\n",
      "cachedir: .pytest_cache\n",
      "rootdir: /home/callaram/tds/msdp-book/ch3\n",
      "\u001b[1mcollecting ... \u001b[0mcollected 3 items\n",
      "\n",
      "t_4400d202909e432290fbad88ffd5840a.py::test_multiplication \u001b[32mPASSED\u001b[0m\u001b[32m                            [ 33%]\u001b[0m\n",
      "t_4400d202909e432290fbad88ffd5840a.py::test_equality \u001b[32mPASSED\u001b[0m\u001b[32m                                  [ 66%]\u001b[0m\n",
      "t_4400d202909e432290fbad88ffd5840a.py::test_franc_multiplication \u001b[32mPASSED\u001b[0m\u001b[32m                      [100%]\u001b[0m\n",
      "\n",
      "\u001b[32m======================================== \u001b[32m\u001b[1m3 passed\u001b[0m\u001b[32m in 0.01s\u001b[0m\u001b[32m =========================================\u001b[0m\n"
     ]
    },
    {
     "data": {
      "text/plain": [
       "<ExitCode.OK: 0>"
      ]
     },
     "execution_count": 47,
     "metadata": {},
     "output_type": "execute_result"
    }
   ],
   "source": [
    "ipytest.run('-vv')  # '-vv' for increased verbosity"
   ]
  },
  {
   "cell_type": "markdown",
   "metadata": {},
   "source": [
    "Dollar should inherit from Money."
   ]
  },
  {
   "cell_type": "code",
   "execution_count": 48,
   "metadata": {},
   "outputs": [],
   "source": [
    "class Dollar(Money):\n",
    "    def __init__(self, amount):\n",
    "        self._amount = amount\n",
    "    \n",
    "    def times(self, multiplier):\n",
    "        return Dollar(self._amount * multiplier)\n",
    "    \n",
    "    def __eq__(self, other):\n",
    "        return self._amount == other._amount"
   ]
  },
  {
   "cell_type": "code",
   "execution_count": 49,
   "metadata": {},
   "outputs": [
    {
     "name": "stdout",
     "output_type": "stream",
     "text": [
      "\u001b[1m======================================= test session starts ========================================\u001b[0m\n",
      "platform linux -- Python 3.10.4, pytest-8.0.0, pluggy-1.4.0 -- /home/callaram/.conda/envs/jupyterbook/bin/python\n",
      "cachedir: .pytest_cache\n",
      "rootdir: /home/callaram/tds/msdp-book/ch3\n",
      "\u001b[1mcollecting ... \u001b[0mcollected 3 items\n",
      "\n",
      "t_4400d202909e432290fbad88ffd5840a.py::test_multiplication \u001b[32mPASSED\u001b[0m\u001b[32m                            [ 33%]\u001b[0m\n",
      "t_4400d202909e432290fbad88ffd5840a.py::test_equality \u001b[32mPASSED\u001b[0m\u001b[32m                                  [ 66%]\u001b[0m\n",
      "t_4400d202909e432290fbad88ffd5840a.py::test_franc_multiplication \u001b[32mPASSED\u001b[0m\u001b[32m                      [100%]\u001b[0m\n",
      "\n",
      "\u001b[32m======================================== \u001b[32m\u001b[1m3 passed\u001b[0m\u001b[32m in 0.01s\u001b[0m\u001b[32m =========================================\u001b[0m\n"
     ]
    },
    {
     "data": {
      "text/plain": [
       "<ExitCode.OK: 0>"
      ]
     },
     "execution_count": 49,
     "metadata": {},
     "output_type": "execute_result"
    }
   ],
   "source": [
    "ipytest.run('-vv')  # '-vv' for increased verbosity"
   ]
  },
  {
   "cell_type": "markdown",
   "metadata": {},
   "source": [
    "Let's move amount to Money"
   ]
  },
  {
   "cell_type": "code",
   "execution_count": 50,
   "metadata": {},
   "outputs": [],
   "source": [
    "class Money:\n",
    "    def __init__(self, amount):\n",
    "        self._amount = amount\n",
    "\n",
    "class Dollar(Money):\n",
    "    def times(self, multiplier):\n",
    "        return Dollar(self._amount * multiplier)\n",
    "    \n",
    "    def __eq__(self, other):\n",
    "        return self._amount == other._amount"
   ]
  },
  {
   "cell_type": "code",
   "execution_count": 51,
   "metadata": {},
   "outputs": [
    {
     "name": "stdout",
     "output_type": "stream",
     "text": [
      "\u001b[1m======================================= test session starts ========================================\u001b[0m\n",
      "platform linux -- Python 3.10.4, pytest-8.0.0, pluggy-1.4.0 -- /home/callaram/.conda/envs/jupyterbook/bin/python\n",
      "cachedir: .pytest_cache\n",
      "rootdir: /home/callaram/tds/msdp-book/ch3\n",
      "\u001b[1mcollecting ... \u001b[0mcollected 3 items\n",
      "\n",
      "t_4400d202909e432290fbad88ffd5840a.py::test_multiplication \u001b[32mPASSED\u001b[0m\u001b[32m                            [ 33%]\u001b[0m\n",
      "t_4400d202909e432290fbad88ffd5840a.py::test_equality \u001b[32mPASSED\u001b[0m\u001b[32m                                  [ 66%]\u001b[0m\n",
      "t_4400d202909e432290fbad88ffd5840a.py::test_franc_multiplication \u001b[32mPASSED\u001b[0m\u001b[32m                      [100%]\u001b[0m\n",
      "\n",
      "\u001b[32m======================================== \u001b[32m\u001b[1m3 passed\u001b[0m\u001b[32m in 0.01s\u001b[0m\u001b[32m =========================================\u001b[0m\n"
     ]
    },
    {
     "data": {
      "text/plain": [
       "<ExitCode.OK: 0>"
      ]
     },
     "execution_count": 51,
     "metadata": {},
     "output_type": "execute_result"
    }
   ],
   "source": [
    "ipytest.run('-vv')  # '-vv' for increased verbosity"
   ]
  },
  {
   "cell_type": "markdown",
   "metadata": {},
   "source": [
    "Now move \\_\\_eq\\_\\_ to Money."
   ]
  },
  {
   "cell_type": "code",
   "execution_count": 52,
   "metadata": {},
   "outputs": [],
   "source": [
    "class Money:\n",
    "    def __init__(self, amount):\n",
    "        self._amount = amount\n",
    "    \n",
    "    def __eq__(self, other):\n",
    "        return self._amount == other._amount\n",
    "\n",
    "class Dollar(Money):\n",
    "    def times(self, multiplier):\n",
    "        return Dollar(self._amount * multiplier)"
   ]
  },
  {
   "cell_type": "code",
   "execution_count": 53,
   "metadata": {},
   "outputs": [
    {
     "name": "stdout",
     "output_type": "stream",
     "text": [
      "\u001b[1m======================================= test session starts ========================================\u001b[0m\n",
      "platform linux -- Python 3.10.4, pytest-8.0.0, pluggy-1.4.0 -- /home/callaram/.conda/envs/jupyterbook/bin/python\n",
      "cachedir: .pytest_cache\n",
      "rootdir: /home/callaram/tds/msdp-book/ch3\n",
      "\u001b[1mcollecting ... \u001b[0mcollected 3 items\n",
      "\n",
      "t_4400d202909e432290fbad88ffd5840a.py::test_multiplication \u001b[32mPASSED\u001b[0m\u001b[32m                            [ 33%]\u001b[0m\n",
      "t_4400d202909e432290fbad88ffd5840a.py::test_equality \u001b[32mPASSED\u001b[0m\u001b[32m                                  [ 66%]\u001b[0m\n",
      "t_4400d202909e432290fbad88ffd5840a.py::test_franc_multiplication \u001b[32mPASSED\u001b[0m\u001b[32m                      [100%]\u001b[0m\n",
      "\n",
      "\u001b[32m======================================== \u001b[32m\u001b[1m3 passed\u001b[0m\u001b[32m in 0.01s\u001b[0m\u001b[32m =========================================\u001b[0m\n"
     ]
    },
    {
     "data": {
      "text/plain": [
       "<ExitCode.OK: 0>"
      ]
     },
     "execution_count": 53,
     "metadata": {},
     "output_type": "execute_result"
    }
   ],
   "source": [
    "ipytest.run('-vv')  # '-vv' for increased verbosity"
   ]
  },
  {
   "cell_type": "markdown",
   "metadata": {},
   "source": [
    "Add tests for francs equality."
   ]
  },
  {
   "cell_type": "code",
   "execution_count": 54,
   "metadata": {},
   "outputs": [],
   "source": [
    "def test_equality():\n",
    "    assert Dollar(5) == Dollar(5)\n",
    "    assert Dollar(5) != Dollar(6)\n",
    "    assert Franc(5) == Franc(5)\n",
    "    assert Franc(5) != Franc(6)"
   ]
  },
  {
   "cell_type": "code",
   "execution_count": 55,
   "metadata": {},
   "outputs": [
    {
     "name": "stdout",
     "output_type": "stream",
     "text": [
      "\u001b[1m======================================= test session starts ========================================\u001b[0m\n",
      "platform linux -- Python 3.10.4, pytest-8.0.0, pluggy-1.4.0 -- /home/callaram/.conda/envs/jupyterbook/bin/python\n",
      "cachedir: .pytest_cache\n",
      "rootdir: /home/callaram/tds/msdp-book/ch3\n",
      "\u001b[1mcollecting ... \u001b[0mcollected 3 items\n",
      "\n",
      "t_4400d202909e432290fbad88ffd5840a.py::test_multiplication \u001b[32mPASSED\u001b[0m\u001b[32m                            [ 33%]\u001b[0m\n",
      "t_4400d202909e432290fbad88ffd5840a.py::test_equality \u001b[32mPASSED\u001b[0m\u001b[32m                                  [ 66%]\u001b[0m\n",
      "t_4400d202909e432290fbad88ffd5840a.py::test_franc_multiplication \u001b[32mPASSED\u001b[0m\u001b[32m                      [100%]\u001b[0m\n",
      "\n",
      "\u001b[32m======================================== \u001b[32m\u001b[1m3 passed\u001b[0m\u001b[32m in 0.01s\u001b[0m\u001b[32m =========================================\u001b[0m\n"
     ]
    },
    {
     "data": {
      "text/plain": [
       "<ExitCode.OK: 0>"
      ]
     },
     "execution_count": 55,
     "metadata": {},
     "output_type": "execute_result"
    }
   ],
   "source": [
    "ipytest.run('-vv')  # '-vv' for increased verbosity"
   ]
  },
  {
   "cell_type": "markdown",
   "metadata": {},
   "source": [
    "Make Franc inherite from Money."
   ]
  },
  {
   "cell_type": "code",
   "execution_count": 56,
   "metadata": {},
   "outputs": [],
   "source": [
    "class Money:\n",
    "    def __init__(self, amount):\n",
    "        self._amount = amount\n",
    "    \n",
    "    def __eq__(self, other):\n",
    "        return self._amount == other._amount\n",
    "\n",
    "class Dollar(Money):\n",
    "    def times(self, multiplier):\n",
    "        return Dollar(self._amount * multiplier)\n",
    "    \n",
    "class Franc(Money):\n",
    "    def __init__(self, amount):\n",
    "        self._amount = amount\n",
    "    \n",
    "    def times(self, multiplier):\n",
    "        return Franc(self._amount * multiplier)"
   ]
  },
  {
   "cell_type": "code",
   "execution_count": 57,
   "metadata": {},
   "outputs": [
    {
     "name": "stdout",
     "output_type": "stream",
     "text": [
      "\u001b[1m======================================= test session starts ========================================\u001b[0m\n",
      "platform linux -- Python 3.10.4, pytest-8.0.0, pluggy-1.4.0 -- /home/callaram/.conda/envs/jupyterbook/bin/python\n",
      "cachedir: .pytest_cache\n",
      "rootdir: /home/callaram/tds/msdp-book/ch3\n",
      "\u001b[1mcollecting ... \u001b[0mcollected 3 items\n",
      "\n",
      "t_4400d202909e432290fbad88ffd5840a.py::test_multiplication \u001b[32mPASSED\u001b[0m\u001b[32m                            [ 33%]\u001b[0m\n",
      "t_4400d202909e432290fbad88ffd5840a.py::test_equality \u001b[32mPASSED\u001b[0m\u001b[32m                                  [ 66%]\u001b[0m\n",
      "t_4400d202909e432290fbad88ffd5840a.py::test_franc_multiplication \u001b[32mPASSED\u001b[0m\u001b[32m                      [100%]\u001b[0m\n",
      "\n",
      "\u001b[32m======================================== \u001b[32m\u001b[1m3 passed\u001b[0m\u001b[32m in 0.01s\u001b[0m\u001b[32m =========================================\u001b[0m\n"
     ]
    },
    {
     "data": {
      "text/plain": [
       "<ExitCode.OK: 0>"
      ]
     },
     "execution_count": 57,
     "metadata": {},
     "output_type": "execute_result"
    }
   ],
   "source": [
    "ipytest.run('-vv')  # '-vv' for increased verbosity"
   ]
  },
  {
   "cell_type": "markdown",
   "metadata": {},
   "source": [
    "Remove the constructor from Franc."
   ]
  },
  {
   "cell_type": "code",
   "execution_count": 58,
   "metadata": {},
   "outputs": [],
   "source": [
    "class Money:\n",
    "    def __init__(self, amount):\n",
    "        self._amount = amount\n",
    "    \n",
    "    def __eq__(self, other):\n",
    "        return self._amount == other._amount\n",
    "\n",
    "class Dollar(Money):\n",
    "    def times(self, multiplier):\n",
    "        return Dollar(self._amount * multiplier)\n",
    "    \n",
    "class Franc(Money):\n",
    "    def times(self, multiplier):\n",
    "        return Franc(self._amount * multiplier)"
   ]
  },
  {
   "cell_type": "code",
   "execution_count": 59,
   "metadata": {},
   "outputs": [
    {
     "name": "stdout",
     "output_type": "stream",
     "text": [
      "\u001b[1m======================================= test session starts ========================================\u001b[0m\n",
      "platform linux -- Python 3.10.4, pytest-8.0.0, pluggy-1.4.0 -- /home/callaram/.conda/envs/jupyterbook/bin/python\n",
      "cachedir: .pytest_cache\n",
      "rootdir: /home/callaram/tds/msdp-book/ch3\n",
      "\u001b[1mcollecting ... \u001b[0mcollected 3 items\n",
      "\n",
      "t_4400d202909e432290fbad88ffd5840a.py::test_multiplication \u001b[32mPASSED\u001b[0m\u001b[32m                            [ 33%]\u001b[0m\n",
      "t_4400d202909e432290fbad88ffd5840a.py::test_equality \u001b[32mPASSED\u001b[0m\u001b[32m                                  [ 66%]\u001b[0m\n",
      "t_4400d202909e432290fbad88ffd5840a.py::test_franc_multiplication \u001b[32mPASSED\u001b[0m\u001b[32m                      [100%]\u001b[0m\n",
      "\n",
      "\u001b[32m======================================== \u001b[32m\u001b[1m3 passed\u001b[0m\u001b[32m in 0.01s\u001b[0m\u001b[32m =========================================\u001b[0m\n"
     ]
    },
    {
     "data": {
      "text/plain": [
       "<ExitCode.OK: 0>"
      ]
     },
     "execution_count": 59,
     "metadata": {},
     "output_type": "execute_result"
    }
   ],
   "source": [
    "ipytest.run('-vv')  # '-vv' for increased verbosity"
   ]
  },
  {
   "cell_type": "markdown",
   "metadata": {},
   "source": [
    "## Common equals\n",
    "### Red"
   ]
  },
  {
   "cell_type": "markdown",
   "metadata": {},
   "source": [
    "What if we want to compare a Dollar with a Franc? We need to add a test for that."
   ]
  },
  {
   "cell_type": "markdown",
   "metadata": {},
   "source": [
    "TODO:\n",
    "- Multiplication DONE\n",
    "- Make “amount” private DONE\n",
    "- Dollar side-effects? DONE\n",
    "- Money rounding?\n",
    "- Sum\n",
    "- equals() DONE\n",
    "- hash()\n",
    "- \\_\\_eq\\_\\_(None)\n",
    "- \\_\\_eq\\_\\_(other_object)\n",
    "- Dollar/Franc duplication\n",
    "- Common equals\n",
    "- Common times"
   ]
  },
  {
   "cell_type": "code",
   "execution_count": 60,
   "metadata": {},
   "outputs": [],
   "source": [
    "def test_equality():\n",
    "    assert Dollar(5) == Dollar(5)\n",
    "    assert Dollar(5) != Dollar(6)\n",
    "    assert Franc(5) == Franc(5)\n",
    "    assert Franc(5) != Franc(6)\n",
    "    assert Dollar(5) != Franc(5)"
   ]
  },
  {
   "cell_type": "code",
   "execution_count": 61,
   "metadata": {},
   "outputs": [
    {
     "name": "stdout",
     "output_type": "stream",
     "text": [
      "\u001b[1m======================================= test session starts ========================================\u001b[0m\n",
      "platform linux -- Python 3.10.4, pytest-8.0.0, pluggy-1.4.0 -- /home/callaram/.conda/envs/jupyterbook/bin/python\n",
      "cachedir: .pytest_cache\n",
      "rootdir: /home/callaram/tds/msdp-book/ch3\n",
      "\u001b[1mcollecting ... \u001b[0mcollected 3 items\n",
      "\n",
      "t_4400d202909e432290fbad88ffd5840a.py::test_multiplication \u001b[32mPASSED\u001b[0m\u001b[32m                            [ 33%]\u001b[0m\n",
      "t_4400d202909e432290fbad88ffd5840a.py::test_equality \u001b[31mFAILED\u001b[0m\u001b[31m                                  [ 66%]\u001b[0m\n",
      "t_4400d202909e432290fbad88ffd5840a.py::test_franc_multiplication \u001b[32mPASSED\u001b[0m\u001b[31m                      [100%]\u001b[0m\n",
      "\n",
      "============================================= FAILURES =============================================\n",
      "\u001b[31m\u001b[1m__________________________________________ test_equality ___________________________________________\u001b[0m\n",
      "\n",
      "    \u001b[0m\u001b[94mdef\u001b[39;49;00m \u001b[92mtest_equality\u001b[39;49;00m():\u001b[90m\u001b[39;49;00m\n",
      "        \u001b[94massert\u001b[39;49;00m Dollar(\u001b[94m5\u001b[39;49;00m) == Dollar(\u001b[94m5\u001b[39;49;00m)\u001b[90m\u001b[39;49;00m\n",
      "        \u001b[94massert\u001b[39;49;00m Dollar(\u001b[94m5\u001b[39;49;00m) != Dollar(\u001b[94m6\u001b[39;49;00m)\u001b[90m\u001b[39;49;00m\n",
      "        \u001b[94massert\u001b[39;49;00m Franc(\u001b[94m5\u001b[39;49;00m) == Franc(\u001b[94m5\u001b[39;49;00m)\u001b[90m\u001b[39;49;00m\n",
      "        \u001b[94massert\u001b[39;49;00m Franc(\u001b[94m5\u001b[39;49;00m) != Franc(\u001b[94m6\u001b[39;49;00m)\u001b[90m\u001b[39;49;00m\n",
      ">       \u001b[94massert\u001b[39;49;00m Dollar(\u001b[94m5\u001b[39;49;00m) != Franc(\u001b[94m5\u001b[39;49;00m)\u001b[90m\u001b[39;49;00m\n",
      "\u001b[1m\u001b[31mE       assert <__main__.Dollar object at 0x14e231c70fa0> != <__main__.Franc object at 0x14e231c71090>\u001b[0m\n",
      "\u001b[1m\u001b[31mE        +  where <__main__.Dollar object at 0x14e231c70fa0> = Dollar(5)\u001b[0m\n",
      "\u001b[1m\u001b[31mE        +  and   <__main__.Franc object at 0x14e231c71090> = Franc(5)\u001b[0m\n",
      "\n",
      "\u001b[1m\u001b[31m/tmp/ipykernel_1473707/4073365173.py\u001b[0m:6: AssertionError\n",
      "\u001b[36m\u001b[1m===================================== short test summary info ======================================\u001b[0m\n",
      "\u001b[31mFAILED\u001b[0m t_4400d202909e432290fbad88ffd5840a.py::\u001b[1mtest_equality\u001b[0m - assert <__main__.Dollar object at 0x14e231c70fa0> != <__main__.Franc object at 0x14e231c71090>\n",
      "\u001b[31m=================================== \u001b[31m\u001b[1m1 failed\u001b[0m, \u001b[32m2 passed\u001b[0m\u001b[31m in 0.01s\u001b[0m\u001b[31m ====================================\u001b[0m\n"
     ]
    },
    {
     "data": {
      "text/plain": [
       "<ExitCode.TESTS_FAILED: 1>"
      ]
     },
     "execution_count": 61,
     "metadata": {},
     "output_type": "execute_result"
    }
   ],
   "source": [
    "ipytest.run('-vv')  # '-vv' for increased verbosity"
   ]
  },
  {
   "cell_type": "markdown",
   "metadata": {},
   "source": [
    "### Green"
   ]
  },
  {
   "cell_type": "markdown",
   "metadata": {},
   "source": [
    "Fix it by adding type() comparisons to the Money equality method."
   ]
  },
  {
   "cell_type": "code",
   "execution_count": 62,
   "metadata": {},
   "outputs": [],
   "source": [
    "class Money:\n",
    "    def __init__(self, amount):\n",
    "        self._amount = amount\n",
    "    \n",
    "    def __eq__(self, other):\n",
    "        return self._amount == other._amount and type(self) == type(other)\n",
    "\n",
    "class Dollar(Money):\n",
    "    def times(self, multiplier):\n",
    "        return Dollar(self._amount * multiplier)\n",
    "    \n",
    "class Franc(Money):\n",
    "    def times(self, multiplier):\n",
    "        return Franc(self._amount * multiplier)"
   ]
  },
  {
   "cell_type": "code",
   "execution_count": 63,
   "metadata": {},
   "outputs": [
    {
     "name": "stdout",
     "output_type": "stream",
     "text": [
      "\u001b[1m======================================= test session starts ========================================\u001b[0m\n",
      "platform linux -- Python 3.10.4, pytest-8.0.0, pluggy-1.4.0 -- /home/callaram/.conda/envs/jupyterbook/bin/python\n",
      "cachedir: .pytest_cache\n",
      "rootdir: /home/callaram/tds/msdp-book/ch3\n",
      "\u001b[1mcollecting ... \u001b[0mcollected 3 items\n",
      "\n",
      "t_4400d202909e432290fbad88ffd5840a.py::test_multiplication \u001b[32mPASSED\u001b[0m\u001b[32m                            [ 33%]\u001b[0m\n",
      "t_4400d202909e432290fbad88ffd5840a.py::test_equality \u001b[32mPASSED\u001b[0m\u001b[32m                                  [ 66%]\u001b[0m\n",
      "t_4400d202909e432290fbad88ffd5840a.py::test_franc_multiplication \u001b[32mPASSED\u001b[0m\u001b[32m                      [100%]\u001b[0m\n",
      "\n",
      "\u001b[32m======================================== \u001b[32m\u001b[1m3 passed\u001b[0m\u001b[32m in 0.01s\u001b[0m\u001b[32m =========================================\u001b[0m\n"
     ]
    },
    {
     "data": {
      "text/plain": [
       "<ExitCode.OK: 0>"
      ]
     },
     "execution_count": 63,
     "metadata": {},
     "output_type": "execute_result"
    }
   ],
   "source": [
    "ipytest.run('-vv')  # '-vv' for increased verbosity"
   ]
  },
  {
   "cell_type": "markdown",
   "metadata": {},
   "source": [
    "### Refactor"
   ]
  },
  {
   "cell_type": "markdown",
   "metadata": {},
   "source": [
    "If we want to eliminate the two classes Dollar and Franc, we first need to remove the direct references in the test. We can do this by creating factory methods in Money that creates Dollars and Francs as needed.\n",
    "\n",
    "Create factory method dollar."
   ]
  },
  {
   "cell_type": "code",
   "execution_count": 64,
   "metadata": {},
   "outputs": [],
   "source": [
    "class Money:\n",
    "    def __init__(self, amount):\n",
    "        self._amount = amount\n",
    "\n",
    "    def __eq__(self, other):\n",
    "        return self._amount == other._amount and type(self) == type(other)\n",
    "\n",
    "    def dollar(amount):\n",
    "        return Dollar(amount)"
   ]
  },
  {
   "cell_type": "code",
   "execution_count": 65,
   "metadata": {},
   "outputs": [
    {
     "name": "stdout",
     "output_type": "stream",
     "text": [
      "\u001b[1m======================================= test session starts ========================================\u001b[0m\n",
      "platform linux -- Python 3.10.4, pytest-8.0.0, pluggy-1.4.0 -- /home/callaram/.conda/envs/jupyterbook/bin/python\n",
      "cachedir: .pytest_cache\n",
      "rootdir: /home/callaram/tds/msdp-book/ch3\n",
      "\u001b[1mcollecting ... \u001b[0mcollected 3 items\n",
      "\n",
      "t_4400d202909e432290fbad88ffd5840a.py::test_multiplication \u001b[32mPASSED\u001b[0m\u001b[32m                            [ 33%]\u001b[0m\n",
      "t_4400d202909e432290fbad88ffd5840a.py::test_equality \u001b[32mPASSED\u001b[0m\u001b[32m                                  [ 66%]\u001b[0m\n",
      "t_4400d202909e432290fbad88ffd5840a.py::test_franc_multiplication \u001b[32mPASSED\u001b[0m\u001b[32m                      [100%]\u001b[0m\n",
      "\n",
      "\u001b[32m======================================== \u001b[32m\u001b[1m3 passed\u001b[0m\u001b[32m in 0.01s\u001b[0m\u001b[32m =========================================\u001b[0m\n"
     ]
    },
    {
     "data": {
      "text/plain": [
       "<ExitCode.OK: 0>"
      ]
     },
     "execution_count": 65,
     "metadata": {},
     "output_type": "execute_result"
    }
   ],
   "source": [
    "ipytest.run('-vv')  # '-vv' for increased verbosity"
   ]
  },
  {
   "cell_type": "markdown",
   "metadata": {},
   "source": [
    "Use the new dollar factory method in the tests."
   ]
  },
  {
   "cell_type": "code",
   "execution_count": 66,
   "metadata": {},
   "outputs": [],
   "source": [
    "def test_multiplication():\n",
    "    # test that you can multiply a Dollar by a number and get the right amount.\n",
    "    five = Money.dollar(amount=5)\n",
    "    assert Money.dollar(amount=10) == five.times(multiplier=2)\n",
    "    assert Money.dollar(amount=15) == five.times(multiplier=3)\n",
    "\n",
    "def test_franc_multiplication():\n",
    "    # test that you can multiply a Franc by a number and get the right amount.\n",
    "    five = Franc(amount=5)\n",
    "    assert Franc(amount=10) == five.times(multiplier=2)\n",
    "    assert Franc(amount=15) == five.times(multiplier=3)\n",
    "\n",
    "def test_equality():\n",
    "    assert Money.dollar(3) == Money.dollar(3)\n",
    "    assert Money.dollar(3) != Money.dollar(4)\n",
    "    assert Franc(3) == Franc(3)\n",
    "    assert Franc(3) != Franc(4)\n",
    "    assert Money.dollar(5) != Franc(5)"
   ]
  },
  {
   "cell_type": "code",
   "execution_count": 67,
   "metadata": {},
   "outputs": [
    {
     "name": "stdout",
     "output_type": "stream",
     "text": [
      "\u001b[1m======================================= test session starts ========================================\u001b[0m\n",
      "platform linux -- Python 3.10.4, pytest-8.0.0, pluggy-1.4.0 -- /home/callaram/.conda/envs/jupyterbook/bin/python\n",
      "cachedir: .pytest_cache\n",
      "rootdir: /home/callaram/tds/msdp-book/ch3\n",
      "\u001b[1mcollecting ... \u001b[0mcollected 3 items\n",
      "\n",
      "t_4400d202909e432290fbad88ffd5840a.py::test_multiplication \u001b[32mPASSED\u001b[0m\u001b[32m                            [ 33%]\u001b[0m\n",
      "t_4400d202909e432290fbad88ffd5840a.py::test_equality \u001b[32mPASSED\u001b[0m\u001b[32m                                  [ 66%]\u001b[0m\n",
      "t_4400d202909e432290fbad88ffd5840a.py::test_franc_multiplication \u001b[32mPASSED\u001b[0m\u001b[32m                      [100%]\u001b[0m\n",
      "\n",
      "\u001b[32m======================================== \u001b[32m\u001b[1m3 passed\u001b[0m\u001b[32m in 0.01s\u001b[0m\u001b[32m =========================================\u001b[0m\n"
     ]
    },
    {
     "data": {
      "text/plain": [
       "<ExitCode.OK: 0>"
      ]
     },
     "execution_count": 67,
     "metadata": {},
     "output_type": "execute_result"
    }
   ],
   "source": [
    "ipytest.run('-vv')  # '-vv' for increased verbosity"
   ]
  },
  {
   "cell_type": "markdown",
   "metadata": {},
   "source": [
    "Create factory method franc."
   ]
  },
  {
   "cell_type": "code",
   "execution_count": 68,
   "metadata": {},
   "outputs": [],
   "source": [
    "class Money:\n",
    "    def __init__(self, amount):\n",
    "        self._amount = amount\n",
    "\n",
    "    def __eq__(self, other):\n",
    "        return self._amount == other._amount and type(self) == type(other)\n",
    "\n",
    "    def dollar(amount):\n",
    "        return Dollar(amount)\n",
    "\n",
    "    def franc(amount):\n",
    "        return Franc(amount)"
   ]
  },
  {
   "cell_type": "code",
   "execution_count": 69,
   "metadata": {},
   "outputs": [
    {
     "name": "stdout",
     "output_type": "stream",
     "text": [
      "\u001b[1m======================================= test session starts ========================================\u001b[0m\n",
      "platform linux -- Python 3.10.4, pytest-8.0.0, pluggy-1.4.0 -- /home/callaram/.conda/envs/jupyterbook/bin/python\n",
      "cachedir: .pytest_cache\n",
      "rootdir: /home/callaram/tds/msdp-book/ch3\n",
      "\u001b[1mcollecting ... \u001b[0mcollected 3 items\n",
      "\n",
      "t_4400d202909e432290fbad88ffd5840a.py::test_multiplication \u001b[32mPASSED\u001b[0m\u001b[32m                            [ 33%]\u001b[0m\n",
      "t_4400d202909e432290fbad88ffd5840a.py::test_equality \u001b[32mPASSED\u001b[0m\u001b[32m                                  [ 66%]\u001b[0m\n",
      "t_4400d202909e432290fbad88ffd5840a.py::test_franc_multiplication \u001b[32mPASSED\u001b[0m\u001b[32m                      [100%]\u001b[0m\n",
      "\n",
      "\u001b[32m======================================== \u001b[32m\u001b[1m3 passed\u001b[0m\u001b[32m in 0.01s\u001b[0m\u001b[32m =========================================\u001b[0m\n"
     ]
    },
    {
     "data": {
      "text/plain": [
       "<ExitCode.OK: 0>"
      ]
     },
     "execution_count": 69,
     "metadata": {},
     "output_type": "execute_result"
    }
   ],
   "source": [
    "ipytest.run('-vv')  # '-vv' for increased verbosity"
   ]
  },
  {
   "cell_type": "markdown",
   "metadata": {},
   "source": [
    "Replace in the tests the direct references to Franc."
   ]
  },
  {
   "cell_type": "code",
   "execution_count": 70,
   "metadata": {},
   "outputs": [],
   "source": [
    "def test_multiplication():\n",
    "    # test that you can multiply a Dollar by a number and get the right amount.\n",
    "    five = Money.dollar(amount=5)\n",
    "    assert Money.dollar(amount=10) == five.times(multiplier=2)\n",
    "    assert Money.dollar(amount=15) == five.times(multiplier=3)\n",
    "\n",
    "def test_franc_multiplication():\n",
    "    # test that you can multiply a Franc by a number and get the right amount.\n",
    "    five = Money.franc(amount=5)\n",
    "    assert Money.franc(amount=10) == five.times(multiplier=2)\n",
    "    assert Money.franc(amount=15) == five.times(multiplier=3)\n",
    "\n",
    "def test_equality():\n",
    "    assert Money.dollar(3) == Money.dollar(3)\n",
    "    assert Money.dollar(3) != Money.dollar(4)\n",
    "    assert Money.franc(3) == Money.franc(3)\n",
    "    assert Money.franc(3) != Money.franc(4)\n",
    "    assert Money.dollar(5) != Money.franc(5)"
   ]
  },
  {
   "cell_type": "code",
   "execution_count": 71,
   "metadata": {},
   "outputs": [
    {
     "name": "stdout",
     "output_type": "stream",
     "text": [
      "\u001b[1m======================================= test session starts ========================================\u001b[0m\n",
      "platform linux -- Python 3.10.4, pytest-8.0.0, pluggy-1.4.0 -- /home/callaram/.conda/envs/jupyterbook/bin/python\n",
      "cachedir: .pytest_cache\n",
      "rootdir: /home/callaram/tds/msdp-book/ch3\n",
      "\u001b[1mcollecting ... \u001b[0mcollected 3 items\n",
      "\n",
      "t_4400d202909e432290fbad88ffd5840a.py::test_multiplication \u001b[32mPASSED\u001b[0m\u001b[32m                            [ 33%]\u001b[0m\n",
      "t_4400d202909e432290fbad88ffd5840a.py::test_equality \u001b[32mPASSED\u001b[0m\u001b[32m                                  [ 66%]\u001b[0m\n",
      "t_4400d202909e432290fbad88ffd5840a.py::test_franc_multiplication \u001b[32mPASSED\u001b[0m\u001b[32m                      [100%]\u001b[0m\n",
      "\n",
      "\u001b[32m======================================== \u001b[32m\u001b[1m3 passed\u001b[0m\u001b[32m in 0.01s\u001b[0m\u001b[32m =========================================\u001b[0m\n"
     ]
    },
    {
     "data": {
      "text/plain": [
       "<ExitCode.OK: 0>"
      ]
     },
     "execution_count": 71,
     "metadata": {},
     "output_type": "execute_result"
    }
   ],
   "source": [
    "ipytest.run('-vv')  # '-vv' for increased verbosity"
   ]
  },
  {
   "cell_type": "markdown",
   "metadata": {},
   "source": [
    "## Multicurrency\n",
    "### Red\n",
    "Add a test for currency."
   ]
  },
  {
   "cell_type": "code",
   "execution_count": 72,
   "metadata": {},
   "outputs": [],
   "source": [
    "def test_currency():\n",
    "    assert \"USD\" == Money.dollar(1)._currency\n",
    "    assert \"CHF\" == Money.franc(1)._currency"
   ]
  },
  {
   "cell_type": "code",
   "execution_count": 73,
   "metadata": {},
   "outputs": [
    {
     "name": "stdout",
     "output_type": "stream",
     "text": [
      "\u001b[1m======================================= test session starts ========================================\u001b[0m\n",
      "platform linux -- Python 3.10.4, pytest-8.0.0, pluggy-1.4.0 -- /home/callaram/.conda/envs/jupyterbook/bin/python\n",
      "cachedir: .pytest_cache\n",
      "rootdir: /home/callaram/tds/msdp-book/ch3\n",
      "\u001b[1mcollecting ... \u001b[0mcollected 4 items\n",
      "\n",
      "t_4400d202909e432290fbad88ffd5840a.py::test_multiplication \u001b[32mPASSED\u001b[0m\u001b[32m                            [ 25%]\u001b[0m\n",
      "t_4400d202909e432290fbad88ffd5840a.py::test_equality \u001b[32mPASSED\u001b[0m\u001b[32m                                  [ 50%]\u001b[0m\n",
      "t_4400d202909e432290fbad88ffd5840a.py::test_franc_multiplication \u001b[32mPASSED\u001b[0m\u001b[32m                      [ 75%]\u001b[0m\n",
      "t_4400d202909e432290fbad88ffd5840a.py::test_currency \u001b[31mFAILED\u001b[0m\u001b[31m                                  [100%]\u001b[0m\n",
      "\n",
      "============================================= FAILURES =============================================\n",
      "\u001b[31m\u001b[1m__________________________________________ test_currency ___________________________________________\u001b[0m\n",
      "\n",
      "    \u001b[0m\u001b[94mdef\u001b[39;49;00m \u001b[92mtest_currency\u001b[39;49;00m():\u001b[90m\u001b[39;49;00m\n",
      ">       \u001b[94massert\u001b[39;49;00m \u001b[33m\"\u001b[39;49;00m\u001b[33mUSD\u001b[39;49;00m\u001b[33m\"\u001b[39;49;00m == Money.dollar(\u001b[94m1\u001b[39;49;00m)._currency\u001b[90m\u001b[39;49;00m\n",
      "\u001b[1m\u001b[31mE       AttributeError: 'Dollar' object has no attribute '_currency'\u001b[0m\n",
      "\n",
      "\u001b[1m\u001b[31m/tmp/ipykernel_1473707/913078098.py\u001b[0m:2: AttributeError\n",
      "\u001b[36m\u001b[1m===================================== short test summary info ======================================\u001b[0m\n",
      "\u001b[31mFAILED\u001b[0m t_4400d202909e432290fbad88ffd5840a.py::\u001b[1mtest_currency\u001b[0m - AttributeError: 'Dollar' object has no attribute '_currency'\n",
      "\u001b[31m=================================== \u001b[31m\u001b[1m1 failed\u001b[0m, \u001b[32m3 passed\u001b[0m\u001b[31m in 0.02s\u001b[0m\u001b[31m ====================================\u001b[0m\n"
     ]
    },
    {
     "data": {
      "text/plain": [
       "<ExitCode.TESTS_FAILED: 1>"
      ]
     },
     "execution_count": 73,
     "metadata": {},
     "output_type": "execute_result"
    }
   ],
   "source": [
    "ipytest.run('-vv')  # '-vv' for increased verbosity"
   ]
  },
  {
   "cell_type": "markdown",
   "metadata": {},
   "source": [
    "### Green\n",
    "Fix the test adding currency to the classes."
   ]
  },
  {
   "cell_type": "code",
   "execution_count": 74,
   "metadata": {},
   "outputs": [],
   "source": [
    "class Dollar(Money):\n",
    "    def times(self, multiplier):\n",
    "        return Dollar(self._amount * multiplier)\n",
    "    \n",
    "    _currency = \"USD\"\n",
    "\n",
    "class Franc(Money):   \n",
    "    def times(self, multiplier):\n",
    "        return Franc(self._amount * multiplier)\n",
    "\n",
    "    _currency = \"CHF\""
   ]
  },
  {
   "cell_type": "code",
   "execution_count": 75,
   "metadata": {},
   "outputs": [
    {
     "name": "stdout",
     "output_type": "stream",
     "text": [
      "\u001b[1m======================================= test session starts ========================================\u001b[0m\n",
      "platform linux -- Python 3.10.4, pytest-8.0.0, pluggy-1.4.0 -- /home/callaram/.conda/envs/jupyterbook/bin/python\n",
      "cachedir: .pytest_cache\n",
      "rootdir: /home/callaram/tds/msdp-book/ch3\n",
      "\u001b[1mcollecting ... \u001b[0mcollected 4 items\n",
      "\n",
      "t_4400d202909e432290fbad88ffd5840a.py::test_multiplication \u001b[32mPASSED\u001b[0m\u001b[32m                            [ 25%]\u001b[0m\n",
      "t_4400d202909e432290fbad88ffd5840a.py::test_equality \u001b[32mPASSED\u001b[0m\u001b[32m                                  [ 50%]\u001b[0m\n",
      "t_4400d202909e432290fbad88ffd5840a.py::test_franc_multiplication \u001b[32mPASSED\u001b[0m\u001b[32m                      [ 75%]\u001b[0m\n",
      "t_4400d202909e432290fbad88ffd5840a.py::test_currency \u001b[32mPASSED\u001b[0m\u001b[32m                                  [100%]\u001b[0m\n",
      "\n",
      "\u001b[32m======================================== \u001b[32m\u001b[1m4 passed\u001b[0m\u001b[32m in 0.01s\u001b[0m\u001b[32m =========================================\u001b[0m\n"
     ]
    },
    {
     "data": {
      "text/plain": [
       "<ExitCode.OK: 0>"
      ]
     },
     "execution_count": 75,
     "metadata": {},
     "output_type": "execute_result"
    }
   ],
   "source": [
    "ipytest.run('-vv')  # '-vv' for increased verbosity"
   ]
  },
  {
   "cell_type": "markdown",
   "metadata": {},
   "source": [
    "### Refactor"
   ]
  },
  {
   "cell_type": "markdown",
   "metadata": {},
   "source": [
    "Refactor by moving currency to the constructor of Money."
   ]
  },
  {
   "cell_type": "code",
   "execution_count": 76,
   "metadata": {},
   "outputs": [],
   "source": [
    "class Money:\n",
    "    def __init__(self, amount, currency):\n",
    "        self._amount = amount\n",
    "        self._currency = currency\n",
    "\n",
    "    def __eq__(self, other):\n",
    "        return self._amount == other._amount and type(self) == type(other)\n",
    "\n",
    "    def dollar(amount):\n",
    "        return Dollar(amount,\"USD\")\n",
    "\n",
    "    def franc(amount):\n",
    "        return Franc(amount,\"CHF\")\n",
    "    \n",
    "class Dollar(Money):\n",
    "    def times(self, multiplier):\n",
    "        return Money.dollar(self._amount * multiplier)\n",
    "\n",
    "class Franc(Money):   \n",
    "    def times(self, multiplier):\n",
    "        return Money.franc(self._amount * multiplier)"
   ]
  },
  {
   "cell_type": "code",
   "execution_count": 77,
   "metadata": {},
   "outputs": [
    {
     "name": "stdout",
     "output_type": "stream",
     "text": [
      "\u001b[1m======================================= test session starts ========================================\u001b[0m\n",
      "platform linux -- Python 3.10.4, pytest-8.0.0, pluggy-1.4.0 -- /home/callaram/.conda/envs/jupyterbook/bin/python\n",
      "cachedir: .pytest_cache\n",
      "rootdir: /home/callaram/tds/msdp-book/ch3\n",
      "\u001b[1mcollecting ... \u001b[0mcollected 4 items\n",
      "\n",
      "t_4400d202909e432290fbad88ffd5840a.py::test_multiplication \u001b[32mPASSED\u001b[0m\u001b[32m                            [ 25%]\u001b[0m\n",
      "t_4400d202909e432290fbad88ffd5840a.py::test_equality \u001b[32mPASSED\u001b[0m\u001b[32m                                  [ 50%]\u001b[0m\n",
      "t_4400d202909e432290fbad88ffd5840a.py::test_franc_multiplication \u001b[32mPASSED\u001b[0m\u001b[32m                      [ 75%]\u001b[0m\n",
      "t_4400d202909e432290fbad88ffd5840a.py::test_currency \u001b[32mPASSED\u001b[0m\u001b[32m                                  [100%]\u001b[0m\n",
      "\n",
      "\u001b[32m======================================== \u001b[32m\u001b[1m4 passed\u001b[0m\u001b[32m in 0.01s\u001b[0m\u001b[32m =========================================\u001b[0m\n"
     ]
    },
    {
     "data": {
      "text/plain": [
       "<ExitCode.OK: 0>"
      ]
     },
     "execution_count": 77,
     "metadata": {},
     "output_type": "execute_result"
    }
   ],
   "source": [
    "ipytest.run('-vv')  # '-vv' for increased verbosity"
   ]
  },
  {
   "cell_type": "markdown",
   "metadata": {},
   "source": [
    "Add times method to Money."
   ]
  },
  {
   "cell_type": "code",
   "execution_count": 78,
   "metadata": {},
   "outputs": [],
   "source": [
    "class Money:\n",
    "    def __init__(self, amount, currency):\n",
    "        self._amount = amount\n",
    "        self._currency = currency\n",
    "\n",
    "    def __eq__(self, other):\n",
    "        return self._amount == other._amount and type(self) == type(other)\n",
    "\n",
    "    def dollar(amount):\n",
    "        return Dollar(amount,\"USD\")\n",
    "\n",
    "    def franc(amount):\n",
    "        return Franc(amount,\"CHF\")\n",
    "    \n",
    "    def times(self, multiplier):\n",
    "        return Money(self._amount * multiplier, self._currency)\n"
   ]
  },
  {
   "cell_type": "code",
   "execution_count": 79,
   "metadata": {},
   "outputs": [
    {
     "name": "stdout",
     "output_type": "stream",
     "text": [
      "\u001b[1m======================================= test session starts ========================================\u001b[0m\n",
      "platform linux -- Python 3.10.4, pytest-8.0.0, pluggy-1.4.0 -- /home/callaram/.conda/envs/jupyterbook/bin/python\n",
      "cachedir: .pytest_cache\n",
      "rootdir: /home/callaram/tds/msdp-book/ch3\n",
      "\u001b[1mcollecting ... \u001b[0mcollected 4 items\n",
      "\n",
      "t_4400d202909e432290fbad88ffd5840a.py::test_multiplication \u001b[32mPASSED\u001b[0m\u001b[32m                            [ 25%]\u001b[0m\n",
      "t_4400d202909e432290fbad88ffd5840a.py::test_equality \u001b[32mPASSED\u001b[0m\u001b[32m                                  [ 50%]\u001b[0m\n",
      "t_4400d202909e432290fbad88ffd5840a.py::test_franc_multiplication \u001b[32mPASSED\u001b[0m\u001b[32m                      [ 75%]\u001b[0m\n",
      "t_4400d202909e432290fbad88ffd5840a.py::test_currency \u001b[32mPASSED\u001b[0m\u001b[32m                                  [100%]\u001b[0m\n",
      "\n",
      "\u001b[32m======================================== \u001b[32m\u001b[1m4 passed\u001b[0m\u001b[32m in 0.01s\u001b[0m\u001b[32m =========================================\u001b[0m\n"
     ]
    },
    {
     "data": {
      "text/plain": [
       "<ExitCode.OK: 0>"
      ]
     },
     "execution_count": 79,
     "metadata": {},
     "output_type": "execute_result"
    }
   ],
   "source": [
    "ipytest.run('-vv')  # '-vv' for increased verbosity"
   ]
  },
  {
   "cell_type": "markdown",
   "metadata": {},
   "source": [
    "Move the factory methods of dollar and franc to Money."
   ]
  },
  {
   "cell_type": "code",
   "execution_count": 80,
   "metadata": {},
   "outputs": [],
   "source": [
    "class Money:\n",
    "    def __init__(self, amount, currency):\n",
    "        self._amount = amount\n",
    "        self._currency = currency\n",
    "\n",
    "    def __eq__(self, other):\n",
    "        return self._amount == other._amount and type(self) == type(other)\n",
    "\n",
    "    def dollar(amount):\n",
    "        return Money(amount,\"USD\")\n",
    "\n",
    "    def franc(amount):\n",
    "        return Money(amount,\"CHF\")\n",
    "    \n",
    "    def times(self, multiplier):\n",
    "        return Money(self._amount * multiplier, self._currency)"
   ]
  },
  {
   "cell_type": "code",
   "execution_count": 81,
   "metadata": {},
   "outputs": [
    {
     "name": "stdout",
     "output_type": "stream",
     "text": [
      "\u001b[1m======================================= test session starts ========================================\u001b[0m\n",
      "platform linux -- Python 3.10.4, pytest-8.0.0, pluggy-1.4.0 -- /home/callaram/.conda/envs/jupyterbook/bin/python\n",
      "cachedir: .pytest_cache\n",
      "rootdir: /home/callaram/tds/msdp-book/ch3\n",
      "\u001b[1mcollecting ... \u001b[0mcollected 4 items\n",
      "\n",
      "t_4400d202909e432290fbad88ffd5840a.py::test_multiplication \u001b[32mPASSED\u001b[0m\u001b[32m                            [ 25%]\u001b[0m\n",
      "t_4400d202909e432290fbad88ffd5840a.py::test_equality \u001b[31mFAILED\u001b[0m\u001b[31m                                  [ 50%]\u001b[0m\n",
      "t_4400d202909e432290fbad88ffd5840a.py::test_franc_multiplication \u001b[32mPASSED\u001b[0m\u001b[31m                      [ 75%]\u001b[0m\n",
      "t_4400d202909e432290fbad88ffd5840a.py::test_currency \u001b[32mPASSED\u001b[0m\u001b[31m                                  [100%]\u001b[0m\n",
      "\n",
      "============================================= FAILURES =============================================\n",
      "\u001b[31m\u001b[1m__________________________________________ test_equality ___________________________________________\u001b[0m\n",
      "\n",
      "    \u001b[0m\u001b[94mdef\u001b[39;49;00m \u001b[92mtest_equality\u001b[39;49;00m():\u001b[90m\u001b[39;49;00m\n",
      "        \u001b[94massert\u001b[39;49;00m Money.dollar(\u001b[94m3\u001b[39;49;00m) == Money.dollar(\u001b[94m3\u001b[39;49;00m)\u001b[90m\u001b[39;49;00m\n",
      "        \u001b[94massert\u001b[39;49;00m Money.dollar(\u001b[94m3\u001b[39;49;00m) != Money.dollar(\u001b[94m4\u001b[39;49;00m)\u001b[90m\u001b[39;49;00m\n",
      "        \u001b[94massert\u001b[39;49;00m Money.franc(\u001b[94m3\u001b[39;49;00m) == Money.franc(\u001b[94m3\u001b[39;49;00m)\u001b[90m\u001b[39;49;00m\n",
      "        \u001b[94massert\u001b[39;49;00m Money.franc(\u001b[94m3\u001b[39;49;00m) != Money.franc(\u001b[94m4\u001b[39;49;00m)\u001b[90m\u001b[39;49;00m\n",
      ">       \u001b[94massert\u001b[39;49;00m Money.dollar(\u001b[94m5\u001b[39;49;00m) != Money.franc(\u001b[94m5\u001b[39;49;00m)\u001b[90m\u001b[39;49;00m\n",
      "\u001b[1m\u001b[31mE       assert <__main__.Money object at 0x14e232433280> != <__main__.Money object at 0x14e232431690>\u001b[0m\n",
      "\u001b[1m\u001b[31mE        +  where <__main__.Money object at 0x14e232433280> = <function Money.dollar at 0x14e2320c55a0>(5)\u001b[0m\n",
      "\u001b[1m\u001b[31mE        +    where <function Money.dollar at 0x14e2320c55a0> = Money.dollar\u001b[0m\n",
      "\u001b[1m\u001b[31mE        +  and   <__main__.Money object at 0x14e232431690> = <function Money.franc at 0x14e2320c69e0>(5)\u001b[0m\n",
      "\u001b[1m\u001b[31mE        +    where <function Money.franc at 0x14e2320c69e0> = Money.franc\u001b[0m\n",
      "\n",
      "\u001b[1m\u001b[31m/tmp/ipykernel_1473707/1919423556.py\u001b[0m:18: AssertionError\n",
      "\u001b[36m\u001b[1m===================================== short test summary info ======================================\u001b[0m\n",
      "\u001b[31mFAILED\u001b[0m t_4400d202909e432290fbad88ffd5840a.py::\u001b[1mtest_equality\u001b[0m - assert <__main__.Money object at 0x14e232433280> != <__main__.Money object at 0x14e232431690>\n",
      "\u001b[31m=================================== \u001b[31m\u001b[1m1 failed\u001b[0m, \u001b[32m3 passed\u001b[0m\u001b[31m in 0.02s\u001b[0m\u001b[31m ====================================\u001b[0m\n"
     ]
    },
    {
     "data": {
      "text/plain": [
       "<ExitCode.TESTS_FAILED: 1>"
      ]
     },
     "execution_count": 81,
     "metadata": {},
     "output_type": "execute_result"
    }
   ],
   "source": [
    "ipytest.run('-vv')  # '-vv' for increased verbosity"
   ]
  },
  {
   "cell_type": "markdown",
   "metadata": {},
   "source": [
    "Fix the test again! Change type comparison for currency comparison in equality"
   ]
  },
  {
   "cell_type": "code",
   "execution_count": 82,
   "metadata": {},
   "outputs": [],
   "source": [
    "class Money:\n",
    "    def __init__(self, amount, currency):\n",
    "        self._amount = amount\n",
    "        self._currency = currency\n",
    "\n",
    "    def __eq__(self, other):\n",
    "        return self._amount == other._amount and self._currency == other._currency\n",
    "\n",
    "    def dollar(amount):\n",
    "        return Money(amount,\"USD\")\n",
    "\n",
    "    def franc(amount):\n",
    "        return Money(amount,\"CHF\")\n",
    "    \n",
    "    def times(self, multiplier):\n",
    "        return Money(self._amount * multiplier, self._currency)\n",
    "    "
   ]
  },
  {
   "cell_type": "code",
   "execution_count": 83,
   "metadata": {},
   "outputs": [
    {
     "name": "stdout",
     "output_type": "stream",
     "text": [
      "\u001b[1m======================================= test session starts ========================================\u001b[0m\n",
      "platform linux -- Python 3.10.4, pytest-8.0.0, pluggy-1.4.0 -- /home/callaram/.conda/envs/jupyterbook/bin/python\n",
      "cachedir: .pytest_cache\n",
      "rootdir: /home/callaram/tds/msdp-book/ch3\n",
      "\u001b[1mcollecting ... \u001b[0mcollected 4 items\n",
      "\n",
      "t_4400d202909e432290fbad88ffd5840a.py::test_multiplication \u001b[32mPASSED\u001b[0m\u001b[32m                            [ 25%]\u001b[0m\n",
      "t_4400d202909e432290fbad88ffd5840a.py::test_equality \u001b[32mPASSED\u001b[0m\u001b[32m                                  [ 50%]\u001b[0m\n",
      "t_4400d202909e432290fbad88ffd5840a.py::test_franc_multiplication \u001b[32mPASSED\u001b[0m\u001b[32m                      [ 75%]\u001b[0m\n",
      "t_4400d202909e432290fbad88ffd5840a.py::test_currency \u001b[32mPASSED\u001b[0m\u001b[32m                                  [100%]\u001b[0m\n",
      "\n",
      "\u001b[32m======================================== \u001b[32m\u001b[1m4 passed\u001b[0m\u001b[32m in 0.01s\u001b[0m\u001b[32m =========================================\u001b[0m\n"
     ]
    },
    {
     "data": {
      "text/plain": [
       "<ExitCode.OK: 0>"
      ]
     },
     "execution_count": 83,
     "metadata": {},
     "output_type": "execute_result"
    }
   ],
   "source": [
    "ipytest.run('-vv')  # '-vv' for increased verbosity"
   ]
  },
  {
   "cell_type": "markdown",
   "metadata": {},
   "source": [
    "Remove Dollar and Franc classes."
   ]
  },
  {
   "cell_type": "code",
   "execution_count": 84,
   "metadata": {},
   "outputs": [],
   "source": [
    "class Money:\n",
    "    def __init__(self, amount, currency):\n",
    "        self._amount = amount\n",
    "        self._currency = currency\n",
    "\n",
    "    def __eq__(self, other):\n",
    "        return self._amount == other._amount and self._currency == other._currency\n",
    "\n",
    "    def dollar(amount):\n",
    "        return Money(amount,\"USD\")\n",
    "\n",
    "    def franc(amount):\n",
    "        return Money(amount,\"CHF\")\n",
    "    \n",
    "    def times(self, multiplier):\n",
    "        return Money(self._amount * multiplier, self._currency)"
   ]
  },
  {
   "cell_type": "markdown",
   "metadata": {},
   "source": [
    "## Congrats!\n",
    "You have used TDD to implement the first features of the Stock Portfolio solution.\n",
    "Let's take a look into the final code."
   ]
  },
  {
   "cell_type": "code",
   "execution_count": 85,
   "metadata": {},
   "outputs": [],
   "source": [
    "def test_multiplication():\n",
    "    # test that you can multiply a Dollar by a number and get the right amount.\n",
    "    five = Money.dollar(amount=5)\n",
    "    assert Money.dollar(amount=10) == five.times(multiplier=2)\n",
    "    assert Money.dollar(amount=15) == five.times(multiplier=3)\n",
    "\n",
    "def test_franc_multiplication():\n",
    "    # test that you can multiply a Franc by a number and get the right amount.\n",
    "    five = Money.franc(amount=5)\n",
    "    assert Money.franc(amount=10) == five.times(multiplier=2)\n",
    "    assert Money.franc(amount=15) == five.times(multiplier=3)\n",
    "\n",
    "def test_equality():\n",
    "    assert Money.dollar(3) == Money.dollar(3)\n",
    "    assert Money.dollar(3) != Money.dollar(4)\n",
    "    assert Money.franc(3) == Money.franc(3)\n",
    "    assert Money.franc(3) != Money.franc(4)\n",
    "    assert Money.dollar(5) != Money.franc(5)\n",
    "\n",
    "def test_currency():\n",
    "    assert \"USD\" == Money.dollar(1)._currency\n",
    "    assert \"CHF\" == Money.franc(1)._currency\n",
    "\n",
    "class Money:\n",
    "    def __init__(self, amount, currency):\n",
    "        self._amount = amount\n",
    "        self._currency = currency\n",
    "\n",
    "    def __eq__(self, other):\n",
    "        return self._amount == other._amount and self._currency == other._currency\n",
    "\n",
    "    def dollar(amount):\n",
    "        return Money(amount,\"USD\")\n",
    "\n",
    "    def franc(amount):\n",
    "        return Money(amount,\"CHF\")\n",
    "    \n",
    "    def times(self, multiplier):\n",
    "        return Money(self._amount * multiplier, self._currency)\n",
    "    "
   ]
  }
 ],
 "metadata": {
  "kernelspec": {
   "display_name": "jupyterbook",
   "language": "python",
   "name": "python3"
  },
  "language_info": {
   "codemirror_mode": {
    "name": "ipython",
    "version": 3
   },
   "file_extension": ".py",
   "mimetype": "text/x-python",
   "name": "python",
   "nbconvert_exporter": "python",
   "pygments_lexer": "ipython3",
   "version": "3.10.4"
  }
 },
 "nbformat": 4,
 "nbformat_minor": 2
}
